{
 "cells": [
  {
   "cell_type": "code",
   "execution_count": 1,
   "id": "aa405763",
   "metadata": {},
   "outputs": [],
   "source": [
    "%config Completer.use_jedi = False\n",
    "import warnings\n",
    "warnings.filterwarnings(action='ignore')"
   ]
  },
  {
   "cell_type": "markdown",
   "id": "bbaf3fd4",
   "metadata": {},
   "source": [
    "딥러닝(Deep Learning)  \n",
    "인간의 뇌는 뉴런이라는 세포로 이루어져 있고, 약 1,000억 개의 뉴런이 존재한다. 그리고 각 뉴런 시냅스로 연견되는데, 자극의 크기가 특정값 이상이면 다음 뉴런에 전달하고, 특정값 이하라면 다음 뉴런에 전달하지 않는다. 이때, 자극을 전달하는 기준인 특정값을 임계치라고 한다. 그래서 우리는 임계치를 넘긴 자극을 신호로 전달받고 그에 해당하는 반응을 하게 되는 것이다.\n",
    "\n",
    "이와 같은 생명 과학 분야의 아이디어를 머신러닝에 도입한 것을 인공 신경 망(Atrifical Neural Network, ANN)이라고 하며 줄여서 신경망이라고 한다. 그리고 신경망을 기반으로 학습하는 방법을 딥러닝이라고 부른다. 수많은 뉴런이 서로 연결되어 신호를 서로 전달하는 것 처럼 딥러닝에서는 수많은 퍼셉트론이 연결되어 연산 결과를 주고 받는다.\n",
    "\n",
    "AND 연산이나 OR 연산의 경우 적절한 직선 하나를 생성해 출력값 0과 1을 정확히 구분해 낼 수 있었다. 그러나 XOR 연산은 직선 하나로는 0과 1을 구분할 수 없다. 초기 딥러닝은 XOR 문제를 해결하는 방법으로 등장했고 신경망을 이용해 기존의 방법으로는 풀 수 없었던 XOR 문제를 풀 수 있었다. XOR 문제와 같은 간단한 문제를 해결하는 것으로 시작한 딥러닝은 점차 발전해 더욱 복잡한 문제를 푸는 데 사용되었다."
   ]
  },
  {
   "cell_type": "markdown",
   "id": "c86c569b",
   "metadata": {},
   "source": [
    "퍼셉트론(Perceptron)  \n",
    "퍼셉트론은 신경망의 최소 단위로 퍼셉트론에는 입력값(input)과 출력값(output)이 존재한다. n개의 입력값을 합쳐서 벡터 x로 표현하고, n개의 가중치 값을 가중치 벡터 w라고 한다. 그러면 입력값 벡터와 가중치 벡터의 내적값은 출력값 z가 된다.\n",
    "\n",
    "<img src=\"perceptron.png\" width=\"600\"/>\n",
    "\n",
    "동그라미는 노드를 의미하는데, 노드는 뉴런에 해당된다. 입력 데이터에 가중치를 곱한 후 더한 값을 가중합(weighted sum)이라 하고 이 가중합은 출력값을 결정하는 활성화 함수(activation function)를 거치면서 최종 출력값을 반환한다.\n",
    "\n",
    "활성화 함수에는 계단 함수를 비롯해 시그모이드, 렐루(Relu), 리키 렐루(Leaky Relu) 등이 있다. b는 편향(bias)으로 가중값에 더해진 상수로 기존 가중값에 편향을 더함으로써 최종 출력값에 영향을 줄 수 있다."
   ]
  },
  {
   "cell_type": "markdown",
   "id": "e319d935",
   "metadata": {},
   "source": [
    "퍼셉트론 실습"
   ]
  },
  {
   "cell_type": "code",
   "execution_count": 2,
   "id": "b0a0eef2",
   "metadata": {},
   "outputs": [],
   "source": [
    "import numpy as np"
   ]
  },
  {
   "cell_type": "code",
   "execution_count": 12,
   "id": "94793b72",
   "metadata": {},
   "outputs": [
    {
     "name": "stdout",
     "output_type": "stream",
     "text": [
      "[[2 3]\n",
      " [5 1]]\n",
      "[2 3 5 1]\n"
     ]
    }
   ],
   "source": [
    "input_data = np.array([[2, 3], [5, 1]])\n",
    "print(input_data)\n",
    "# x = input_data.ravel() # ravel() 함수는 무조건 1차원 배열로 만든다.\n",
    "# x = input_data.reshape(1, 4) # 2행 2열 2차원 배열이 1행 4열 2차원 배열로 변환된다.\n",
    "x = input_data.reshape(-1) # 행렬을 벡터로 변환하기 위해 reshape() 사용하려면 인수로 -1을 지정하면 된다.\n",
    "print(x)"
   ]
  },
  {
   "cell_type": "code",
   "execution_count": 13,
   "id": "b15845de",
   "metadata": {},
   "outputs": [],
   "source": [
    "# 가중치 및 편향\n",
    "w1 = np.array([2, 1, -3, 3]) # 가중치 벡터 w1\n",
    "w2 = np.array([1, -3, 1, 3]) # 가중치 벡터 w2\n",
    "b1 = 3 # 편향 b1\n",
    "b2 = 3 # 편향 b2"
   ]
  },
  {
   "cell_type": "code",
   "execution_count": 17,
   "id": "e38918f2",
   "metadata": {},
   "outputs": [
    {
     "name": "stdout",
     "output_type": "stream",
     "text": [
      "[[ 2  1 -3  3]\n",
      " [ 1 -3  1  3]]\n",
      "[3 3]\n",
      "[-2  4]\n"
     ]
    }
   ],
   "source": [
    "# 가중합\n",
    "W = np.array([w1, w2]) # 가중치 벡터를 합쳐서 가중치 행렬을 만든다.\n",
    "print(W)\n",
    "b = np.array([b1, b2]) # 편향을 합쳐서 편향 벡터를 만든다.\n",
    "print(b)\n",
    "weight_sum = np.dot(W, x) + b\n",
    "print(weight_sum)"
   ]
  },
  {
   "cell_type": "code",
   "execution_count": 18,
   "id": "b813c644",
   "metadata": {},
   "outputs": [
    {
     "name": "stdout",
     "output_type": "stream",
     "text": [
      "[0.11920292 0.98201379]\n"
     ]
    }
   ],
   "source": [
    "# 출력층\n",
    "# 시그모이드 함수를 활성화 함수로 사용해 가중합의 최종 점수를 확인할 수 있다.\n",
    "result = 1 / (1 + np.exp(-weight_sum))\n",
    "print(result)"
   ]
  },
  {
   "cell_type": "code",
   "execution_count": null,
   "id": "14b52242",
   "metadata": {},
   "outputs": [],
   "source": []
  },
  {
   "cell_type": "code",
   "execution_count": null,
   "id": "bf7ebcf2",
   "metadata": {},
   "outputs": [],
   "source": []
  },
  {
   "cell_type": "code",
   "execution_count": null,
   "id": "a6c31e02",
   "metadata": {},
   "outputs": [],
   "source": []
  }
 ],
 "metadata": {
  "kernelspec": {
   "display_name": "py36",
   "language": "python",
   "name": "py36"
  },
  "language_info": {
   "codemirror_mode": {
    "name": "ipython",
    "version": 3
   },
   "file_extension": ".py",
   "mimetype": "text/x-python",
   "name": "python",
   "nbconvert_exporter": "python",
   "pygments_lexer": "ipython3",
   "version": "3.6.13"
  }
 },
 "nbformat": 4,
 "nbformat_minor": 5
}
