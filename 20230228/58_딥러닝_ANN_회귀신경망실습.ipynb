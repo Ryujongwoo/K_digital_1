{
 "cells": [
  {
   "cell_type": "code",
   "execution_count": 1,
   "id": "af342c01",
   "metadata": {},
   "outputs": [],
   "source": [
    "%config Completer.use_jedi = False\n",
    "import warnings\n",
    "warnings.filterwarnings(action='ignore')"
   ]
  },
  {
   "cell_type": "markdown",
   "id": "22657bde",
   "metadata": {},
   "source": [
    "회귀 신경망 실습  \n",
    "신경망을 이용해 보스턴 집값 데이터를 활용해 보스턴 집값을 에측하는 모형을 만들어본다."
   ]
  },
  {
   "cell_type": "code",
   "execution_count": 2,
   "id": "0c790bf2",
   "metadata": {},
   "outputs": [],
   "source": [
    "# 일관된 결과값이 나오도록 random seed를 설정한다.\n",
    "import numpy as np\n",
    "import tensorflow as tf\n",
    "np.random.seed(0)\n",
    "tf.random.set_seed(0)"
   ]
  },
  {
   "cell_type": "code",
   "execution_count": 3,
   "id": "cdf2ac54",
   "metadata": {},
   "outputs": [],
   "source": [
    "# 데이터 불러오기\n",
    "from sklearn import datasets # 보스턴 집값 데이터를 사용하기 위해 import 한다.\n",
    "raw_boston = datasets.load_boston() # 보스턴 집값 데이터를 불러온다."
   ]
  },
  {
   "cell_type": "code",
   "execution_count": 4,
   "id": "1b190193",
   "metadata": {},
   "outputs": [],
   "source": [
    "# 피쳐/타겟 데이터 지정\n",
    "X = raw_boston.data # 보스턴 집값 피쳐 데이터를 저장한다.\n",
    "y = raw_boston.target # 보스턴 집값 타겟 데이터를 저장한다."
   ]
  },
  {
   "cell_type": "code",
   "execution_count": 5,
   "id": "a697e7c0",
   "metadata": {},
   "outputs": [
    {
     "name": "stdout",
     "output_type": "stream",
     "text": [
      "(506, 13)\n"
     ]
    }
   ],
   "source": [
    "# 피처 데이터 차원 확인\n",
    "print(X.shape) # 결과를 확인하면 총 13개의 피쳐가 사용되는데, 이는 신경망을 생성할 때 사용된다."
   ]
  },
  {
   "cell_type": "code",
   "execution_count": 6,
   "id": "b8927644",
   "metadata": {},
   "outputs": [
    {
     "name": "stdout",
     "output_type": "stream",
     "text": [
      "{5.0, 6.3, 7.2, 8.8, 7.4, 10.2, 11.8, 12.7, 13.6, 14.5, 15.2, 15.0, 16.5, 17.5, 19.6, 18.9, 18.2, 20.4, 21.6, 22.9, 21.7, 26.6, 26.5, 27.5, 24.0, 23.1, 27.1, 28.7, 24.7, 30.8, 33.4, 34.7, 34.9, 36.2, 35.4, 31.6, 33.0, 38.7, 43.8, 41.3, 37.2, 39.8, 42.3, 48.5, 44.8, 50.0, 46.7, 48.3, 44.0, 48.8, 46.0, 10.5, 11.5, 11.0, 12.5, 12.0, 13.5, 13.0, 14.0, 16.6, 16.0, 16.1, 16.4, 17.4, 17.1, 17.0, 17.6, 17.9, 18.4, 18.6, 18.5, 18.0, 18.1, 19.9, 19.4, 19.5, 19.1, 19.0, 20.1, 20.0, 20.5, 20.9, 20.6, 21.0, 21.4, 21.5, 21.9, 21.1, 22.0, 22.5, 22.6, 22.4, 22.1, 23.4, 23.5, 23.9, 23.6, 23.0, 24.1, 24.6, 24.4, 24.5, 25.0, 25.1, 26.4, 27.0, 27.9, 28.0, 28.4, 28.1, 28.5, 28.6, 29.4, 29.9, 29.6, 29.1, 29.0, 30.5, 30.1, 31.1, 31.5, 31.0, 32.5, 32.0, 32.9, 32.4, 32.2, 33.2, 33.3, 33.8, 33.1, 32.7, 34.6, 8.4, 35.2, 35.1, 10.4, 10.9, 7.0, 36.4, 36.0, 36.5, 36.1, 11.9, 37.9, 37.0, 37.6, 37.3, 13.9, 13.4, 14.4, 14.9, 15.4, 8.5, 41.7, 42.8, 43.1, 43.5, 45.4, 9.5, 8.3, 8.7, 9.7, 10.8, 11.3, 11.7, 12.3, 12.8, 13.2, 13.3, 13.8, 14.8, 14.3, 14.2, 15.7, 15.3, 16.2, 16.8, 16.3, 16.7, 17.3, 17.8, 17.2, 17.7, 18.3, 18.7, 18.8, 19.2, 19.3, 19.7, 19.8, 20.2, 20.8, 20.3, 20.7, 21.2, 21.8, 22.2, 22.8, 22.7, 22.3, 23.3, 23.8, 23.2, 23.7, 24.8, 24.2, 24.3, 25.3, 25.2, 26.7, 26.2, 7.5, 28.2, 29.8, 30.3, 30.7, 5.6, 31.7, 31.2, 8.1, 9.6, 12.1, 12.6, 13.1, 14.6, 14.1, 15.6, 15.1}\n"
     ]
    }
   ],
   "source": [
    "# 타겟 데이터 종류 확인\n",
    "# 타겟 데이터 종류를 확인함으로써 분류 문제인지 아니면 회귀 문제인지 파악할 수 있고, 분류 문제라면 몇 가지 클래스로\n",
    "# 구분되는지 알 수 있다.\n",
    "print(set(y))"
   ]
  },
  {
   "cell_type": "code",
   "execution_count": 7,
   "id": "ea471c02",
   "metadata": {},
   "outputs": [
    {
     "name": "stdout",
     "output_type": "stream",
     "text": [
      "(379, 13) (127, 13)\n"
     ]
    }
   ],
   "source": [
    "# 트레이닝/테스트 데이터 분할\n",
    "from sklearn.model_selection import train_test_split # 트레이닝/테스트 데이터 분할을 위해 import 한다.\n",
    "# 피쳐 데이터와 타겟 데이터를 트레이닝 데이터와 테스트 데이터로 분할한다.\n",
    "X_tn, X_te, y_tn, y_te = train_test_split(X, y, random_state=0)\n",
    "print(X_tn.shape, X_te.shape)"
   ]
  },
  {
   "cell_type": "code",
   "execution_count": 8,
   "id": "fd304519",
   "metadata": {},
   "outputs": [],
   "source": [
    "# 시퀀스 API 신경망 생성\n",
    "from tensorflow.keras.models import Sequential # 시퀀스 API 신경망 생성하기 위해 import 한다.\n",
    "from tensorflow.keras.layers import Dense # 신경망에 추가할 layer를 생성하기 위해 import 한다.\n",
    "\n",
    "n = X_tn.shape[1] # 신경망에 사용되는 피쳐 개수를 저장한다.\n",
    "e = 30 # 학습 횟수를 의미하는 epoch 값을 설정한다."
   ]
  },
  {
   "cell_type": "code",
   "execution_count": 9,
   "id": "f10d9e6e",
   "metadata": {},
   "outputs": [
    {
     "name": "stdout",
     "output_type": "stream",
     "text": [
      "Model: \"sequential\"\n",
      "_________________________________________________________________\n",
      "Layer (type)                 Output Shape              Param #   \n",
      "=================================================================\n",
      "dense (Dense)                (None, 20)                280       \n",
      "_________________________________________________________________\n",
      "dense_1 (Dense)              (None, 1)                 21        \n",
      "=================================================================\n",
      "Total params: 301\n",
      "Trainable params: 301\n",
      "Non-trainable params: 0\n",
      "_________________________________________________________________\n"
     ]
    }
   ],
   "source": [
    "# Sequential()로 신경망 모형을 만들고 add() 함수를 이용해서 layer를 추가한다.\n",
    "model = Sequential() # 신경망 모델을 만든다.\n",
    "# units 옵션으로 출력 차원, input_dim 옵션으로 입력 데이터(피쳐) 차원, activation 옵션으로 활설화 함수를 지정해서\n",
    "# 입력 layer를 만든다.\n",
    "model.add(Dense(units=20, input_dim=n, activation='relu')) # 입력 layer를 만든다.\n",
    "# 최종 출력은 집값을 예측하므로 1개의 노드로 출력된다.\n",
    "# 회귀 문제를 풀 때 최종 활성화 함수는 활성화 함수 중 선형 함수를 사용해야 하는데, 코드 상에서 최종 활성화 함수를\n",
    "# 지정하지 않으면 기본값으로 선형 함수가 적용된다.\n",
    "model.add(Dense(units=1)) # 출력 layer를 만든다.\n",
    "model.summary()"
   ]
  },
  {
   "cell_type": "code",
   "execution_count": 10,
   "id": "df94952a",
   "metadata": {},
   "outputs": [],
   "source": [
    "# 모형 컴파일\n",
    "# loss 옵션으로 손실 함수를 지정하고 optimizer 옵션으로 최적화 함수(optimizer)를 지정하고 metrics 옵션으로 평가\n",
    "# 기준을 지정한다.\n",
    "model.compile(loss='mean_squared_error', optimizer='adam', metrics=['mean_squared_error'])"
   ]
  },
  {
   "cell_type": "code",
   "execution_count": 11,
   "id": "2bf2c617",
   "metadata": {},
   "outputs": [
    {
     "name": "stdout",
     "output_type": "stream",
     "text": [
      "Epoch 1/30\n",
      "76/76 [==============================] - 0s 480us/step - loss: 474.8179 - mean_squared_error: 474.8179\n",
      "Epoch 2/30\n",
      "76/76 [==============================] - 0s 493us/step - loss: 97.4737 - mean_squared_error: 97.4737\n",
      "Epoch 3/30\n",
      "76/76 [==============================] - 0s 507us/step - loss: 81.1661 - mean_squared_error: 81.1661\n",
      "Epoch 4/30\n",
      "76/76 [==============================] - 0s 493us/step - loss: 72.6058 - mean_squared_error: 72.6058\n",
      "Epoch 5/30\n",
      "76/76 [==============================] - 0s 480us/step - loss: 63.1071 - mean_squared_error: 63.1071\n",
      "Epoch 6/30\n",
      "76/76 [==============================] - 0s 493us/step - loss: 57.3056 - mean_squared_error: 57.3056\n",
      "Epoch 7/30\n",
      "76/76 [==============================] - 0s 493us/step - loss: 53.3248 - mean_squared_error: 53.3248\n",
      "Epoch 8/30\n",
      "76/76 [==============================] - 0s 493us/step - loss: 48.0305 - mean_squared_error: 48.0305\n",
      "Epoch 9/30\n",
      "76/76 [==============================] - 0s 469us/step - loss: 44.4123 - mean_squared_error: 44.4123\n",
      "Epoch 10/30\n",
      "76/76 [==============================] - 0s 467us/step - loss: 44.6246 - mean_squared_error: 44.6246\n",
      "Epoch 11/30\n",
      "76/76 [==============================] - 0s 451us/step - loss: 39.8854 - mean_squared_error: 39.8854\n",
      "Epoch 12/30\n",
      "76/76 [==============================] - 0s 453us/step - loss: 37.4677 - mean_squared_error: 37.4677\n",
      "Epoch 13/30\n",
      "76/76 [==============================] - 0s 467us/step - loss: 37.2101 - mean_squared_error: 37.2101\n",
      "Epoch 14/30\n",
      "76/76 [==============================] - 0s 467us/step - loss: 34.6580 - mean_squared_error: 34.6580\n",
      "Epoch 15/30\n",
      "76/76 [==============================] - 0s 453us/step - loss: 35.2240 - mean_squared_error: 35.2240\n",
      "Epoch 16/30\n",
      "76/76 [==============================] - 0s 466us/step - loss: 37.2569 - mean_squared_error: 37.2569\n",
      "Epoch 17/30\n",
      "76/76 [==============================] - 0s 467us/step - loss: 36.6201 - mean_squared_error: 36.6201\n",
      "Epoch 18/30\n",
      "76/76 [==============================] - 0s 467us/step - loss: 35.4106 - mean_squared_error: 35.4106\n",
      "Epoch 19/30\n",
      "76/76 [==============================] - 0s 493us/step - loss: 33.9078 - mean_squared_error: 33.9078\n",
      "Epoch 20/30\n",
      "76/76 [==============================] - 0s 467us/step - loss: 34.4738 - mean_squared_error: 34.4738\n",
      "Epoch 21/30\n",
      "76/76 [==============================] - 0s 520us/step - loss: 36.5775 - mean_squared_error: 36.5775\n",
      "Epoch 22/30\n",
      "76/76 [==============================] - 0s 519us/step - loss: 35.8795 - mean_squared_error: 35.8795\n",
      "Epoch 23/30\n",
      "76/76 [==============================] - 0s 453us/step - loss: 34.4425 - mean_squared_error: 34.4425\n",
      "Epoch 24/30\n",
      "76/76 [==============================] - 0s 467us/step - loss: 35.3789 - mean_squared_error: 35.3789\n",
      "Epoch 25/30\n",
      "76/76 [==============================] - 0s 497us/step - loss: 33.2604 - mean_squared_error: 33.2604\n",
      "Epoch 26/30\n",
      "76/76 [==============================] - 0s 507us/step - loss: 36.9733 - mean_squared_error: 36.9733\n",
      "Epoch 27/30\n",
      "76/76 [==============================] - 0s 453us/step - loss: 31.0006 - mean_squared_error: 31.0006\n",
      "Epoch 28/30\n",
      "76/76 [==============================] - 0s 467us/step - loss: 34.8582 - mean_squared_error: 34.8582\n",
      "Epoch 29/30\n",
      "76/76 [==============================] - 0s 453us/step - loss: 32.4770 - mean_squared_error: 32.4770\n",
      "Epoch 30/30\n",
      "76/76 [==============================] - 0s 440us/step - loss: 31.6907 - mean_squared_error: 31.6907\n"
     ]
    }
   ],
   "source": [
    "# 신경망 학습\n",
    "# 트레이팅 데이터(X_tn), 트레이팅 데이터에 따른 타겟 데이터(y_tn), epoch, batch_size\n",
    "hist = model.fit(X_tn, y_tn, epochs=e, batch_size=5)"
   ]
  },
  {
   "cell_type": "code",
   "execution_count": 12,
   "id": "a071dada",
   "metadata": {},
   "outputs": [
    {
     "name": "stdout",
     "output_type": "stream",
     "text": [
      "12/12 [==============================] - 0s 546us/step - loss: 51.5558 - mean_squared_error: 51.5558\n",
      "[51.55579376220703, 51.55579376220703]\n",
      "4/4 [==============================] - 0s 667us/step - loss: 73.9726 - mean_squared_error: 73.9726\n",
      "[73.97262573242188, 73.97262573242188]\n"
     ]
    }
   ],
   "source": [
    "# 학습 평가\n",
    "print(model.evaluate(X_tn, y_tn)) # 트레이닝 데이터 학습 평가\n",
    "print(model.evaluate(X_te, y_te)) # 테스트 데이터 학습 평가"
   ]
  },
  {
   "cell_type": "code",
   "execution_count": 13,
   "id": "6520bf9b",
   "metadata": {},
   "outputs": [
    {
     "name": "stdout",
     "output_type": "stream",
     "text": [
      "[ 1  2  3  4  5  6  7  8  9 10 11 12 13 14 15 16 17 18 19 20 21 22 23 24\n",
      " 25 26 27 28 29 30]\n",
      "[474.81793212890625, 97.47374725341797, 81.16605377197266, 72.60584259033203, 63.10710144042969, 57.305572509765625, 53.32482147216797, 48.030460357666016, 44.412330627441406, 44.62458419799805, 39.885398864746094, 37.46773147583008, 37.21006393432617, 34.65798568725586, 35.22400665283203, 37.25694274902344, 36.62007141113281, 35.410621643066406, 33.90780258178711, 34.47383499145508, 36.57752990722656, 35.87949752807617, 34.44245147705078, 35.378902435302734, 33.26035690307617, 36.97325897216797, 31.0006103515625, 34.85820388793945, 32.47700881958008, 31.6906795501709]\n",
      "[474.81793212890625, 97.47374725341797, 81.16605377197266, 72.60584259033203, 63.10710144042969, 57.305572509765625, 53.32482147216797, 48.030460357666016, 44.412330627441406, 44.62458419799805, 39.885398864746094, 37.46773147583008, 37.21006393432617, 34.65798568725586, 35.22400665283203, 37.25694274902344, 36.62007141113281, 35.410621643066406, 33.90780258178711, 34.47383499145508, 36.57752990722656, 35.87949752807617, 34.44245147705078, 35.378902435302734, 33.26035690307617, 36.973262786865234, 31.0006103515625, 34.85820388793945, 32.47700881958008, 31.6906795501709]\n"
     ]
    }
   ],
   "source": [
    "# 정확도 및 손실 정도 시각화 준비\n",
    "epoch = np.arange(1, e + 1)\n",
    "print(epoch)\n",
    "mse = hist.history['mean_squared_error']\n",
    "print(mse)\n",
    "loss = hist.history['loss']\n",
    "print(loss)"
   ]
  },
  {
   "cell_type": "code",
   "execution_count": 14,
   "id": "9f2ac8e5",
   "metadata": {},
   "outputs": [
    {
     "data": {
      "image/png": "[encoded data removed]",
      "text/plain": [
       "<Figure size 576x432 with 1 Axes>"
      ]
     },
     "metadata": {
      "needs_background": "light"
     },
     "output_type": "display_data"
    }
   ],
   "source": [
    "# MSE 학습 그래프\n",
    "import matplotlib.pyplot as plt\n",
    "plt.figure(figsize=[8, 6])\n",
    "plt.plot(epoch, mse, label='mse')\n",
    "plt.xlabel('epoch')\n",
    "plt.ylabel('mean_squared_error')\n",
    "plt.legend()\n",
    "plt.show()\n",
    "# epoch가 진행될수록 MSE가 감소하는 것을 확인할 수 있다."
   ]
  },
  {
   "cell_type": "code",
   "execution_count": 15,
   "id": "25e0d1db",
   "metadata": {},
   "outputs": [
    {
     "data": {
      "image/png": "[encoded data removed]",
      "text/plain": [
       "<Figure size 576x432 with 1 Axes>"
      ]
     },
     "metadata": {
      "needs_background": "light"
     },
     "output_type": "display_data"
    }
   ],
   "source": [
    "# 손실 그래프\n",
    "plt.figure(figsize=[8, 6])\n",
    "plt.plot(epoch, loss, 'r', marker='o', label='loss')\n",
    "plt.xlabel('epoch')\n",
    "plt.ylabel('loss')\n",
    "plt.legend()\n",
    "plt.show()\n",
    "# 손실 확인 결과 에포크 진행 단계별로 손실이 점차 낮아지는 것을 볼 수 있다."
   ]
  },
  {
   "cell_type": "code",
   "execution_count": 16,
   "id": "ef2c1675",
   "metadata": {
    "scrolled": true
   },
   "outputs": [
    {
     "name": "stdout",
     "output_type": "stream",
     "text": [
      "[14.926858  17.68186   26.267515   7.917684  15.005158  20.33469\n",
      " 11.632039  22.128693  13.236667   7.889089   5.1158195  9.61797\n",
      " 10.792668   2.5619862 33.263203  22.72695   13.689984  29.558794\n",
      " 24.675909  21.299322  22.893751  17.08631   16.023733  26.365967\n",
      " 21.479921  10.689122  17.379736  11.004315  28.346972  15.011754\n",
      " 10.714337  12.856969  17.735548  20.255527  24.8231    12.98763\n",
      "  4.140386  16.951506   6.4117637  6.4219794 22.591516  18.943966\n",
      " 12.94563    9.773442  17.00797   23.849703  16.26448   14.620755\n",
      "  7.636907  20.454527   7.7502265 11.073209  18.992067  22.401669\n",
      "  7.765287  15.407378  17.322477  10.0682535 14.971913  18.075153\n",
      " 16.16294   18.721216  24.99944   24.195602   9.034825  24.184431\n",
      " 11.682729  13.96901    8.437734  20.76813   15.780751  17.59316\n",
      " 26.882368  23.865847  16.954939  -1.2630564 27.121996  20.394733\n",
      " 23.056791  16.387403  22.719763  17.167486  14.822988  28.526918\n",
      " 28.235516  21.92799   20.246086   4.790792  24.334208   9.029683\n",
      "  9.72614    4.301397  23.69546   25.389898  24.684221  17.659786\n",
      " -3.0273845 24.955671   7.976171  17.916893  20.10526   19.003878\n",
      " 25.384787  17.426325  20.630219  20.279562  -1.1384226 12.0693865\n",
      " 23.5985    20.722708  26.47717    5.1499076 15.841153   9.9932375\n",
      "  5.092775  17.211647  -3.8662975 18.965399   5.444471  38.194515\n",
      " 23.669447   7.592397  15.863933  17.590742  22.656437  18.330112\n",
      " 30.23239  ]\n"
     ]
    }
   ],
   "source": [
    "# 실제값, 예측값 데이터프레임 생성\n",
    "pred_y = model.predict(X_te).flatten()\n",
    "print(pred_y)"
   ]
  },
  {
   "cell_type": "code",
   "execution_count": 17,
   "id": "35691eb3",
   "metadata": {},
   "outputs": [
    {
     "data": {
      "text/html": [
       "<div>\n",
       "<style scoped>\n",
       "    .dataframe tbody tr th:only-of-type {\n",
       "        vertical-align: middle;\n",
       "    }\n",
       "\n",
       "    .dataframe tbody tr th {\n",
       "        vertical-align: top;\n",
       "    }\n",
       "\n",
       "    .dataframe thead th {\n",
       "        text-align: right;\n",
       "    }\n",
       "</style>\n",
       "<table border=\"1\" class=\"dataframe\">\n",
       "  <thead>\n",
       "    <tr style=\"text-align: right;\">\n",
       "      <th></th>\n",
       "      <th>predict_val</th>\n",
       "      <th>real_val</th>\n",
       "    </tr>\n",
       "  </thead>\n",
       "  <tbody>\n",
       "    <tr>\n",
       "      <th>0</th>\n",
       "      <td>14.926858</td>\n",
       "      <td>22.6</td>\n",
       "    </tr>\n",
       "    <tr>\n",
       "      <th>1</th>\n",
       "      <td>17.681860</td>\n",
       "      <td>50.0</td>\n",
       "    </tr>\n",
       "    <tr>\n",
       "      <th>2</th>\n",
       "      <td>26.267515</td>\n",
       "      <td>23.0</td>\n",
       "    </tr>\n",
       "    <tr>\n",
       "      <th>3</th>\n",
       "      <td>7.917684</td>\n",
       "      <td>8.3</td>\n",
       "    </tr>\n",
       "    <tr>\n",
       "      <th>4</th>\n",
       "      <td>15.005158</td>\n",
       "      <td>21.2</td>\n",
       "    </tr>\n",
       "    <tr>\n",
       "      <th>...</th>\n",
       "      <td>...</td>\n",
       "      <td>...</td>\n",
       "    </tr>\n",
       "    <tr>\n",
       "      <th>122</th>\n",
       "      <td>15.863933</td>\n",
       "      <td>19.4</td>\n",
       "    </tr>\n",
       "    <tr>\n",
       "      <th>123</th>\n",
       "      <td>17.590742</td>\n",
       "      <td>21.2</td>\n",
       "    </tr>\n",
       "    <tr>\n",
       "      <th>124</th>\n",
       "      <td>22.656437</td>\n",
       "      <td>20.3</td>\n",
       "    </tr>\n",
       "    <tr>\n",
       "      <th>125</th>\n",
       "      <td>18.330112</td>\n",
       "      <td>18.8</td>\n",
       "    </tr>\n",
       "    <tr>\n",
       "      <th>126</th>\n",
       "      <td>30.232389</td>\n",
       "      <td>33.4</td>\n",
       "    </tr>\n",
       "  </tbody>\n",
       "</table>\n",
       "<p>127 rows × 2 columns</p>\n",
       "</div>"
      ],
      "text/plain": [
       "     predict_val  real_val\n",
       "0      14.926858      22.6\n",
       "1      17.681860      50.0\n",
       "2      26.267515      23.0\n",
       "3       7.917684       8.3\n",
       "4      15.005158      21.2\n",
       "..           ...       ...\n",
       "122    15.863933      19.4\n",
       "123    17.590742      21.2\n",
       "124    22.656437      20.3\n",
       "125    18.330112      18.8\n",
       "126    30.232389      33.4\n",
       "\n",
       "[127 rows x 2 columns]"
      ]
     },
     "execution_count": 17,
     "metadata": {},
     "output_type": "execute_result"
    }
   ],
   "source": [
    "import pandas as pd\n",
    "result_df = pd.DataFrame(pred_y, columns=['predict_val'])\n",
    "result_df['real_val'] = y_te\n",
    "result_df"
   ]
  },
  {
   "cell_type": "code",
   "execution_count": 18,
   "id": "27140936",
   "metadata": {},
   "outputs": [
    {
     "data": {
      "text/html": [
       "<div>\n",
       "<style scoped>\n",
       "    .dataframe tbody tr th:only-of-type {\n",
       "        vertical-align: middle;\n",
       "    }\n",
       "\n",
       "    .dataframe tbody tr th {\n",
       "        vertical-align: top;\n",
       "    }\n",
       "\n",
       "    .dataframe thead th {\n",
       "        text-align: right;\n",
       "    }\n",
       "</style>\n",
       "<table border=\"1\" class=\"dataframe\">\n",
       "  <thead>\n",
       "    <tr style=\"text-align: right;\">\n",
       "      <th></th>\n",
       "      <th>predict_val</th>\n",
       "      <th>real_val</th>\n",
       "    </tr>\n",
       "  </thead>\n",
       "  <tbody>\n",
       "    <tr>\n",
       "      <th>116</th>\n",
       "      <td>-3.866297</td>\n",
       "      <td>8.4</td>\n",
       "    </tr>\n",
       "    <tr>\n",
       "      <th>96</th>\n",
       "      <td>-3.027385</td>\n",
       "      <td>13.8</td>\n",
       "    </tr>\n",
       "    <tr>\n",
       "      <th>75</th>\n",
       "      <td>-1.263056</td>\n",
       "      <td>7.4</td>\n",
       "    </tr>\n",
       "    <tr>\n",
       "      <th>106</th>\n",
       "      <td>-1.138423</td>\n",
       "      <td>10.4</td>\n",
       "    </tr>\n",
       "    <tr>\n",
       "      <th>13</th>\n",
       "      <td>2.561986</td>\n",
       "      <td>10.5</td>\n",
       "    </tr>\n",
       "    <tr>\n",
       "      <th>...</th>\n",
       "      <td>...</td>\n",
       "      <td>...</td>\n",
       "    </tr>\n",
       "    <tr>\n",
       "      <th>83</th>\n",
       "      <td>28.526918</td>\n",
       "      <td>44.8</td>\n",
       "    </tr>\n",
       "    <tr>\n",
       "      <th>17</th>\n",
       "      <td>29.558794</td>\n",
       "      <td>33.3</td>\n",
       "    </tr>\n",
       "    <tr>\n",
       "      <th>126</th>\n",
       "      <td>30.232389</td>\n",
       "      <td>33.4</td>\n",
       "    </tr>\n",
       "    <tr>\n",
       "      <th>14</th>\n",
       "      <td>33.263203</td>\n",
       "      <td>50.0</td>\n",
       "    </tr>\n",
       "    <tr>\n",
       "      <th>119</th>\n",
       "      <td>38.194515</td>\n",
       "      <td>50.0</td>\n",
       "    </tr>\n",
       "  </tbody>\n",
       "</table>\n",
       "<p>127 rows × 2 columns</p>\n",
       "</div>"
      ],
      "text/plain": [
       "     predict_val  real_val\n",
       "116    -3.866297       8.4\n",
       "96     -3.027385      13.8\n",
       "75     -1.263056       7.4\n",
       "106    -1.138423      10.4\n",
       "13      2.561986      10.5\n",
       "..           ...       ...\n",
       "83     28.526918      44.8\n",
       "17     29.558794      33.3\n",
       "126    30.232389      33.4\n",
       "14     33.263203      50.0\n",
       "119    38.194515      50.0\n",
       "\n",
       "[127 rows x 2 columns]"
      ]
     },
     "execution_count": 18,
     "metadata": {},
     "output_type": "execute_result"
    }
   ],
   "source": [
    "# 예측값을 기준으로 데이터프레임을 오름차순으로 정렬한다.\n",
    "df_sort = result_df.sort_values(['predict_val'], ascending=True)\n",
    "df_sort"
   ]
  },
  {
   "cell_type": "code",
   "execution_count": 21,
   "id": "01d8b68c",
   "metadata": {},
   "outputs": [
    {
     "data": {
      "image/png": "[encoded data removed]",
      "text/plain": [
       "<Figure size 576x432 with 1 Axes>"
      ]
     },
     "metadata": {
      "needs_background": "light"
     },
     "output_type": "display_data"
    }
   ],
   "source": [
    "# 예측값, 실제값 비교 그래프\n",
    "plt.figure(figsize=[8, 6])\n",
    "idx = np.arange(1, len(df_sort) + 1)\n",
    "plt.scatter(idx, df_sort['real_val'], marker='o', label='real_val')\n",
    "plt.plot(idx, df_sort['predict_val'], color='r', label='predict_val')\n",
    "plt.xlabel('index')\n",
    "plt.ylabel('value')\n",
    "plt.legend()\n",
    "plt.show()"
   ]
  },
  {
   "cell_type": "code",
   "execution_count": null,
   "id": "ceda1c46",
   "metadata": {},
   "outputs": [],
   "source": []
  },
  {
   "cell_type": "code",
   "execution_count": null,
   "id": "7a579254",
   "metadata": {},
   "outputs": [],
   "source": []
  }
 ],
 "metadata": {
  "kernelspec": {
   "display_name": "py36",
   "language": "python",
   "name": "py36"
  },
  "language_info": {
   "codemirror_mode": {
    "name": "ipython",
    "version": 3
   },
   "file_extension": ".py",
   "mimetype": "text/x-python",
   "name": "python",
   "nbconvert_exporter": "python",
   "pygments_lexer": "ipython3",
   "version": "3.6.13"
  }
 },
 "nbformat": 4,
 "nbformat_minor": 5
}
