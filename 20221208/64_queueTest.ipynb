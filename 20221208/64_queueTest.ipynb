{
 "cells": [
  {
   "cell_type": "code",
   "execution_count": 1,
   "id": "b89064ce",
   "metadata": {},
   "outputs": [
    {
     "name": "stdout",
     "output_type": "stream",
     "text": [
      "큐에 저장된 데이터 => 없음\n"
     ]
    }
   ],
   "source": [
    "from queueModule import Queue\n",
    "queue = Queue()\n",
    "queue.view()"
   ]
  },
  {
   "cell_type": "code",
   "execution_count": null,
   "id": "271db55e",
   "metadata": {
    "scrolled": false
   },
   "outputs": [
    {
     "name": "stdout",
     "output_type": "stream",
     "text": [
      "===============================\n",
      " 1.add  2.remove  3.view  4.종료 \n",
      "===============================\n",
      "원하는 메뉴를 입력하고 Enter 키를 누르세요: 1\n",
      "큐에 저장할 데이터: 222\n",
      "큐에 222을(를) 저장합니다. rear = 1, front = 0\n",
      "큐에 저장된 데이터 => 222 \n",
      "===============================\n",
      " 1.add  2.remove  3.view  4.종료 \n",
      "===============================\n",
      "원하는 메뉴를 입력하고 Enter 키를 누르세요: 1\n",
      "큐에 저장할 데이터: 888\n",
      "큐에 888을(를) 저장합니다. rear = 2, front = 0\n",
      "큐에 저장된 데이터 => 222 888 \n",
      "===============================\n",
      " 1.add  2.remove  3.view  4.종료 \n",
      "===============================\n",
      "원하는 메뉴를 입력하고 Enter 키를 누르세요: 1\n",
      "큐에 저장할 데이터: 444\n",
      "큐에 444을(를) 저장합니다. rear = 3, front = 0\n",
      "큐에 저장된 데이터 => 222 888 444 \n",
      "===============================\n",
      " 1.add  2.remove  3.view  4.종료 \n",
      "===============================\n",
      "원하는 메뉴를 입력하고 Enter 키를 누르세요: 1\n",
      "큐에 저장할 데이터: 333\n",
      "큐에 333을(를) 저장합니다. rear = 4, front = 0\n",
      "큐에 저장된 데이터 => 222 888 444 333 \n",
      "===============================\n",
      " 1.add  2.remove  3.view  4.종료 \n",
      "===============================\n",
      "원하는 메뉴를 입력하고 Enter 키를 누르세요: 1\n",
      "큐에 저장할 데이터: 222\n",
      "222는(은) 중복된 데이터 입니다.\n",
      "큐에 저장된 데이터 => 222 888 444 333 \n",
      "===============================\n",
      " 1.add  2.remove  3.view  4.종료 \n",
      "===============================\n",
      "원하는 메뉴를 입력하고 Enter 키를 누르세요: 1\n",
      "큐에 저장할 데이터: 999\n",
      "큐에 999을(를) 저장합니다. rear = 5, front = 0\n",
      "큐에 저장된 데이터 => 222 888 444 333 999 \n",
      "===============================\n",
      " 1.add  2.remove  3.view  4.종료 \n",
      "===============================\n",
      "원하는 메뉴를 입력하고 Enter 키를 누르세요: 1\n",
      "큐에 저장할 데이터: 777\n",
      "overflow 발생... 큐가 가득차서 777를(을) 저장할 수 없습니다.\n",
      "큐에 저장된 데이터 => 222 888 444 333 999 \n",
      "===============================\n",
      " 1.add  2.remove  3.view  4.종료 \n",
      "===============================\n",
      "원하는 메뉴를 입력하고 Enter 키를 누르세요: 3\n",
      "큐에 저장된 데이터 => 222 888 444 333 999 \n",
      "===============================\n",
      " 1.add  2.remove  3.view  4.종료 \n",
      "===============================\n",
      "원하는 메뉴를 입력하고 Enter 키를 누르세요: 1\n",
      "큐에 저장할 데이터: 111\n",
      "overflow 발생... 큐가 가득차서 111를(을) 저장할 수 없습니다.\n",
      "큐에 저장된 데이터 => 222 888 444 333 999 \n",
      "===============================\n",
      " 1.add  2.remove  3.view  4.종료 \n",
      "===============================\n",
      "원하는 메뉴를 입력하고 Enter 키를 누르세요: 2\n",
      "큐에서 222을(를) 제거합니다. rear = 5, front = 1\n",
      "큐에 저장된 데이터 => 888 444 333 999 \n",
      "===============================\n",
      " 1.add  2.remove  3.view  4.종료 \n",
      "===============================\n",
      "원하는 메뉴를 입력하고 Enter 키를 누르세요: 2\n",
      "큐에서 888을(를) 제거합니다. rear = 5, front = 2\n",
      "큐에 저장된 데이터 => 444 333 999 \n",
      "===============================\n",
      " 1.add  2.remove  3.view  4.종료 \n",
      "===============================\n",
      "원하는 메뉴를 입력하고 Enter 키를 누르세요: 2\n",
      "큐에서 444을(를) 제거합니다. rear = 5, front = 3\n",
      "큐에 저장된 데이터 => 333 999 \n",
      "===============================\n",
      " 1.add  2.remove  3.view  4.종료 \n",
      "===============================\n",
      "원하는 메뉴를 입력하고 Enter 키를 누르세요: 2\n",
      "큐에서 333을(를) 제거합니다. rear = 5, front = 4\n",
      "큐에 저장된 데이터 => 999 \n",
      "===============================\n",
      " 1.add  2.remove  3.view  4.종료 \n",
      "===============================\n",
      "원하는 메뉴를 입력하고 Enter 키를 누르세요: 2\n",
      "큐에서 999을(를) 제거합니다. rear = 5, front = 5\n",
      "큐에 저장된 데이터 => 없음\n",
      "===============================\n",
      " 1.add  2.remove  3.view  4.종료 \n",
      "===============================\n",
      "원하는 메뉴를 입력하고 Enter 키를 누르세요: 2\n",
      "큐에 저장된 데이터가 없습니다.\n",
      "큐에 저장된 데이터 => 없음\n",
      "===============================\n",
      " 1.add  2.remove  3.view  4.종료 \n",
      "===============================\n"
     ]
    }
   ],
   "source": [
    "menu = 0\n",
    "while menu != 4:\n",
    "    while True:\n",
    "        print('=' * 31)\n",
    "        print(' 1.add  2.remove  3.view  4.종료 ')\n",
    "        print('=' * 31)\n",
    "        menu = int(input('원하는 메뉴를 입력하고 Enter 키를 누르세요: '))\n",
    "        if menu in [1, 2, 3, 4]:\n",
    "            break\n",
    "        else:\n",
    "            print('메뉴는 1 ~ 4 사이의 값만 입력해야 합니다.')\n",
    "    # ===== while\n",
    "    \n",
    "    if menu == 1:\n",
    "        data = input('큐에 저장할 데이터: ')\n",
    "        queue.add(data)\n",
    "    elif menu == 2:\n",
    "        queue.remove()\n",
    "    elif menu == 3:\n",
    "        queue.view()\n",
    "    # ===== if\n",
    "# ===== while\n",
    "print('프로그램을 종료합니다.')"
   ]
  },
  {
   "cell_type": "code",
   "execution_count": null,
   "id": "6012bd9e",
   "metadata": {},
   "outputs": [],
   "source": []
  },
  {
   "cell_type": "code",
   "execution_count": null,
   "id": "32f3041c",
   "metadata": {},
   "outputs": [],
   "source": []
  },
  {
   "cell_type": "code",
   "execution_count": null,
   "id": "477c3224",
   "metadata": {},
   "outputs": [],
   "source": []
  },
  {
   "cell_type": "code",
   "execution_count": null,
   "id": "95bf90b6",
   "metadata": {},
   "outputs": [],
   "source": []
  },
  {
   "cell_type": "code",
   "execution_count": null,
   "id": "825c36e8",
   "metadata": {},
   "outputs": [],
   "source": []
  }
 ],
 "metadata": {
  "kernelspec": {
   "display_name": "Python 3",
   "language": "python",
   "name": "python3"
  },
  "language_info": {
   "codemirror_mode": {
    "name": "ipython",
    "version": 3
   },
   "file_extension": ".py",
   "mimetype": "text/x-python",
   "name": "python",
   "nbconvert_exporter": "python",
   "pygments_lexer": "ipython3",
   "version": "3.6.8"
  }
 },
 "nbformat": 4,
 "nbformat_minor": 5
}
