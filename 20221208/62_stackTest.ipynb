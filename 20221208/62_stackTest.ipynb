{
 "cells": [
  {
   "cell_type": "code",
   "execution_count": null,
   "id": "791486f7",
   "metadata": {},
   "outputs": [],
   "source": [
    "# stackModule 전체를 import 시켰기 때문에 Stack 클래스를 사용하려면 앞에 '모듈이름.'을 붙여서 사용해야 한다.\n",
    "# import stackModule\n",
    "# stack = stackModule.Stack()\n",
    "# stack.view()"
   ]
  },
  {
   "cell_type": "code",
   "execution_count": 2,
   "id": "b89064ce",
   "metadata": {},
   "outputs": [
    {
     "name": "stdout",
     "output_type": "stream",
     "text": [
      "스택에 저장된 데이터 => 없음\n"
     ]
    }
   ],
   "source": [
    "# stackModule 전체를 import 하지 않고 Stack 클래스만 import 해서 사용한다.\n",
    "# Stack 클래스만 import 시켰으므로 위의 경우처럼 '모듈이름.'을 붙일 필요없이 바로 사용할 수 있다.\n",
    "from stackModule import Stack\n",
    "stack = Stack()\n",
    "stack.view()"
   ]
  },
  {
   "cell_type": "code",
   "execution_count": 5,
   "id": "271db55e",
   "metadata": {
    "scrolled": false
   },
   "outputs": [
    {
     "name": "stdout",
     "output_type": "stream",
     "text": [
      "===============================\n",
      " 1.push  2.pop  3.view  4.종료 \n",
      "===============================\n",
      "원하는 메뉴를 입력하고 Enter 키를 누르세요: 1\n",
      "스택에 저장할 데이터: 111\n",
      "111는(은) 중복된 데이터 입니다.\n",
      "스택에 저장된 데이터 => 111 \n",
      "===============================\n",
      " 1.push  2.pop  3.view  4.종료 \n",
      "===============================\n",
      "원하는 메뉴를 입력하고 Enter 키를 누르세요: 1\n",
      "스택에 저장할 데이터: 3.141592\n",
      "스택에 저장된 데이터 => 111 3.141592 \n",
      "===============================\n",
      " 1.push  2.pop  3.view  4.종료 \n",
      "===============================\n",
      "원하는 메뉴를 입력하고 Enter 키를 누르세요: 1\n",
      "스택에 저장할 데이터: abs\n",
      "스택에 저장된 데이터 => 111 3.141592 abs \n",
      "===============================\n",
      " 1.push  2.pop  3.view  4.종료 \n",
      "===============================\n",
      "원하는 메뉴를 입력하고 Enter 키를 누르세요: 1\n",
      "스택에 저장할 데이터: True\n",
      "스택에 저장된 데이터 => 111 3.141592 abs True \n",
      "===============================\n",
      " 1.push  2.pop  3.view  4.종료 \n",
      "===============================\n",
      "원하는 메뉴를 입력하고 Enter 키를 누르세요: 1\n",
      "스택에 저장할 데이터: 555\n",
      "스택에 저장된 데이터 => 111 3.141592 abs True 555 \n",
      "===============================\n",
      " 1.push  2.pop  3.view  4.종료 \n",
      "===============================\n",
      "원하는 메뉴를 입력하고 Enter 키를 누르세요: 1\n",
      "스택에 저장할 데이터: 777\n",
      "overflow 발생... 스택이 가득차서 777를(을) 저장할 수 없습니다.\n",
      "스택에 저장된 데이터 => 111 3.141592 abs True 555 \n",
      "===============================\n",
      " 1.push  2.pop  3.view  4.종료 \n",
      "===============================\n",
      "원하는 메뉴를 입력하고 Enter 키를 누르세요: 3\n",
      "스택에 저장된 데이터 => 111 3.141592 abs True 555 \n",
      "===============================\n",
      " 1.push  2.pop  3.view  4.종료 \n",
      "===============================\n",
      "원하는 메뉴를 입력하고 Enter 키를 누르세요: 2\n",
      "pop 데이터: 555\n",
      "스택에 저장된 데이터 => 111 3.141592 abs True \n",
      "===============================\n",
      " 1.push  2.pop  3.view  4.종료 \n",
      "===============================\n",
      "원하는 메뉴를 입력하고 Enter 키를 누르세요: 2\n",
      "pop 데이터: True\n",
      "스택에 저장된 데이터 => 111 3.141592 abs \n",
      "===============================\n",
      " 1.push  2.pop  3.view  4.종료 \n",
      "===============================\n",
      "원하는 메뉴를 입력하고 Enter 키를 누르세요: 2\n",
      "pop 데이터: abs\n",
      "스택에 저장된 데이터 => 111 3.141592 \n",
      "===============================\n",
      " 1.push  2.pop  3.view  4.종료 \n",
      "===============================\n",
      "원하는 메뉴를 입력하고 Enter 키를 누르세요: 2\n",
      "pop 데이터: 3.141592\n",
      "스택에 저장된 데이터 => 111 \n",
      "===============================\n",
      " 1.push  2.pop  3.view  4.종료 \n",
      "===============================\n",
      "원하는 메뉴를 입력하고 Enter 키를 누르세요: 2\n",
      "pop 데이터: 111\n",
      "스택에 저장된 데이터 => 없음\n",
      "===============================\n",
      " 1.push  2.pop  3.view  4.종료 \n",
      "===============================\n",
      "원하는 메뉴를 입력하고 Enter 키를 누르세요: 2\n",
      "스택에 저장된 데이터가 없습니다.\n",
      "===============================\n",
      " 1.push  2.pop  3.view  4.종료 \n",
      "===============================\n",
      "원하는 메뉴를 입력하고 Enter 키를 누르세요: 4\n",
      "프로그램을 종료합니다.\n"
     ]
    }
   ],
   "source": [
    "menu = 0\n",
    "while menu != 4:\n",
    "    while True:\n",
    "        print('=' * 31)\n",
    "        print(' 1.push  2.pop  3.view  4.종료 ')\n",
    "        print('=' * 31)\n",
    "        menu = int(input('원하는 메뉴를 입력하고 Enter 키를 누르세요: '))\n",
    "        if menu in [1, 2, 3, 4]:\n",
    "            break\n",
    "        else:\n",
    "            print('메뉴는 1 ~ 4 사이의 값만 입력해야 합니다.')\n",
    "    # ===== while\n",
    "    \n",
    "    if menu == 1:\n",
    "        data = input('스택에 저장할 데이터: ')\n",
    "        stack.push(data)\n",
    "    elif menu == 2:\n",
    "        stack.pop()\n",
    "    elif menu == 3:\n",
    "        stack.view()\n",
    "    # ===== if\n",
    "# ===== while\n",
    "print('프로그램을 종료합니다.')"
   ]
  },
  {
   "cell_type": "code",
   "execution_count": null,
   "id": "6012bd9e",
   "metadata": {},
   "outputs": [],
   "source": []
  },
  {
   "cell_type": "code",
   "execution_count": null,
   "id": "32f3041c",
   "metadata": {},
   "outputs": [],
   "source": []
  },
  {
   "cell_type": "code",
   "execution_count": null,
   "id": "477c3224",
   "metadata": {},
   "outputs": [],
   "source": []
  },
  {
   "cell_type": "code",
   "execution_count": null,
   "id": "95bf90b6",
   "metadata": {},
   "outputs": [],
   "source": []
  },
  {
   "cell_type": "code",
   "execution_count": null,
   "id": "825c36e8",
   "metadata": {},
   "outputs": [],
   "source": []
  }
 ],
 "metadata": {
  "kernelspec": {
   "display_name": "Python 3",
   "language": "python",
   "name": "python3"
  },
  "language_info": {
   "codemirror_mode": {
    "name": "ipython",
    "version": 3
   },
   "file_extension": ".py",
   "mimetype": "text/x-python",
   "name": "python",
   "nbconvert_exporter": "python",
   "pygments_lexer": "ipython3",
   "version": "3.6.8"
  }
 },
 "nbformat": 4,
 "nbformat_minor": 5
}
