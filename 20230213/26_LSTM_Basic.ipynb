{
 "cells": [
  {
   "cell_type": "code",
   "execution_count": 1,
   "id": "210b8571",
   "metadata": {},
   "outputs": [
    {
     "name": "stdout",
     "output_type": "stream",
     "text": [
      "WARNING:tensorflow:From D:\\anaconda3\\envs\\py36\\lib\\site-packages\\tensorflow\\python\\compat\\v2_compat.py:101: disable_resource_variables (from tensorflow.python.ops.variable_scope) is deprecated and will be removed in a future version.\n",
      "Instructions for updating:\n",
      "non-resource variables are not supported in the long term\n"
     ]
    }
   ],
   "source": [
    "%config Completer.use_jedi = False\n",
    "import warnings\n",
    "warnings.filterwarnings(action='ignore')\n",
    "import tensorflow.compat.v1 as tf\n",
    "tf.disable_v2_behavior()\n",
    "import numpy as np"
   ]
  },
  {
   "cell_type": "markdown",
   "id": "027d1d05",
   "metadata": {},
   "source": [
    "LSTM(Long Short Term Memory)  \n",
    "\n",
    "LSTM은 gradient vanishing(기울기 소실) 또는 grdient exploding(기울기 폭주)과 같은 기존 RNN의 단점을 극복하고자 만들어진 조금 더 진화된 RNN 셀로 LSTM 셀 내부를 살펴보면 기존 RNN의 단점을 극복하기 위해 이전 정보를 지우거나 기억하기 위한 로직과 현재 정보를 기억하기 위한 로직이 구현되어 있다. 아래 그림을 보면 RNN에서 보지못했던 주황색 선과 조금 더 많아진 활성화 함수, 수학 기호들을 볼 수 있다.\n",
    "***\n",
    "주황색 선은 메모리 셀이라고 부르고 주황색 선상의 곱하기 기호에서 0부터 1까지의 값인 시그모이드 출력값이 곱해지게 되어 메모리 셀의 기존 정보를 어느정도까지 기억할지 결장하게 된다. 주황색 선상의 더하기 기호는 새로운 정보를 메모리 셀의 기존 정보에 더하는 로직이 그리고 $h_t$ 선상의 곱하기 기호에서 메모리 셀의 정보와 현재 정보가 함께 계산되어 상태값을 출력한다.\n",
    "\n",
    "<img src=\"./LSTM.png\" width=\"800\" align=\"left\"/>"
   ]
  },
  {
   "cell_type": "markdown",
   "id": "c9f2a4f6",
   "metadata": {},
   "source": [
    "텐서플로우에는 이미 LSTM이 구현되어 있기 때문에 위 그림을 직접 구현할 필요는 없고 아래 그림만 이해해도 사용하는데 큰 무리는 없다.\n",
    "\n",
    "<img src=\"./LSTM2.png\" width=\"800\" align=\"left\"/>"
   ]
  },
  {
   "cell_type": "markdown",
   "id": "f56bfe41",
   "metadata": {},
   "source": [
    "다음 코드를 실행해서 LSTM의 출력값 및 상태값 그리고 메모리 셀 값을 확인할 수 있다."
   ]
  },
  {
   "cell_type": "code",
   "execution_count": 2,
   "id": "39fbb392",
   "metadata": {},
   "outputs": [
    {
     "name": "stdout",
     "output_type": "stream",
     "text": [
      "(1, 1, 2)\n"
     ]
    }
   ],
   "source": [
    "inputs = np.array([[[1, 0]]])\n",
    "print(inputs.shape)"
   ]
  },
  {
   "cell_type": "code",
   "execution_count": 3,
   "id": "3248f33b",
   "metadata": {},
   "outputs": [
    {
     "name": "stdout",
     "output_type": "stream",
     "text": [
      "WARNING:tensorflow:From <ipython-input-3-9339cd78deae>:6: dynamic_rnn (from tensorflow.python.ops.rnn) is deprecated and will be removed in a future version.\n",
      "Instructions for updating:\n",
      "Please use `keras.layers.RNN(cell)`, which is equivalent to this API\n",
      "WARNING:tensorflow:From D:\\anaconda3\\envs\\py36\\lib\\site-packages\\keras\\layers\\legacy_rnn\\rnn_cell_impl.py:979: calling Zeros.__init__ (from tensorflow.python.ops.init_ops) with dtype is deprecated and will be removed in a future version.\n",
      "Instructions for updating:\n",
      "Call initializer instance with the dtype argument instead of passing it to the constructor\n",
      "LSTM 출력(output_lstm) 값: [[[-0.16485524]]]\n",
      "LSTM 상태(state_lstm.h) 값: [[-0.16485524]]\n",
      "LSTM 메모리 셀(state_lstm.c) 값: [[-0.35818553]]\n"
     ]
    }
   ],
   "source": [
    "tf.set_random_seed(777)\n",
    "tf_inputs = tf.constant(inputs, dtype=tf.float32)\n",
    "\n",
    "# LSTM 셀을 만든다.\n",
    "lstm_cell = tf.nn.rnn_cell.LSTMCell(num_units=1)\n",
    "outputs, state = tf.nn.dynamic_rnn(cell=lstm_cell, dtype=tf.float32, inputs=tf_inputs)\n",
    "\n",
    "with tf.Session() as sess:\n",
    "    sess.run(tf.global_variables_initializer())\n",
    "    output_lstm, state_lstm = sess.run([outputs, state])\n",
    "    print('LSTM 출력(output_lstm) 값: {}'.format(output_lstm))\n",
    "    print('LSTM 상태(state_lstm.h) 값: {}'.format(state_lstm.h))\n",
    "    print('LSTM 메모리 셀(state_lstm.c) 값: {}'.format(state_lstm.c))"
   ]
  },
  {
   "cell_type": "code",
   "execution_count": null,
   "id": "b27e98ed",
   "metadata": {},
   "outputs": [],
   "source": []
  },
  {
   "cell_type": "code",
   "execution_count": null,
   "id": "8313d219",
   "metadata": {},
   "outputs": [],
   "source": []
  },
  {
   "cell_type": "code",
   "execution_count": null,
   "id": "a429b39f",
   "metadata": {},
   "outputs": [],
   "source": []
  },
  {
   "cell_type": "code",
   "execution_count": null,
   "id": "57ef0d43",
   "metadata": {},
   "outputs": [],
   "source": []
  },
  {
   "cell_type": "code",
   "execution_count": null,
   "id": "ac2b063d",
   "metadata": {},
   "outputs": [],
   "source": []
  }
 ],
 "metadata": {
  "kernelspec": {
   "display_name": "py36",
   "language": "python",
   "name": "py36"
  },
  "language_info": {
   "codemirror_mode": {
    "name": "ipython",
    "version": 3
   },
   "file_extension": ".py",
   "mimetype": "text/x-python",
   "name": "python",
   "nbconvert_exporter": "python",
   "pygments_lexer": "ipython3",
   "version": "3.6.13"
  }
 },
 "nbformat": 4,
 "nbformat_minor": 5
}
