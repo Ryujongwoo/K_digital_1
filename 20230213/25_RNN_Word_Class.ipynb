{
 "cells": [
  {
   "cell_type": "code",
   "execution_count": 1,
   "id": "a830c5ae",
   "metadata": {},
   "outputs": [
    {
     "name": "stdout",
     "output_type": "stream",
     "text": [
      "WARNING:tensorflow:From D:\\anaconda3\\envs\\py36\\lib\\site-packages\\tensorflow\\python\\compat\\v2_compat.py:101: disable_resource_variables (from tensorflow.python.ops.variable_scope) is deprecated and will be removed in a future version.\n",
      "Instructions for updating:\n",
      "non-resource variables are not supported in the long term\n"
     ]
    }
   ],
   "source": [
    "%config Completer.use_jedi = False\n",
    "import warnings\n",
    "warnings.filterwarnings(action='ignore')\n",
    "import tensorflow.compat.v1 as tf\n",
    "tf.disable_v2_behavior()\n",
    "import numpy as np"
   ]
  },
  {
   "cell_type": "markdown",
   "id": "a865cc07",
   "metadata": {},
   "source": [
    "텐서프로우로 단어 품사 구분하기  \n",
    "'I work at google', 'I google at work'의 단어 품사를 구분하는 RNN 코드를 텐서플로우로 구현한다.  \n",
    "각 단어는 원-핫 인코딩으로 표현한다."
   ]
  },
  {
   "cell_type": "code",
   "execution_count": 2,
   "id": "5a9b1f8c",
   "metadata": {},
   "outputs": [
    {
     "data": {
      "text/plain": [
       "array([[[1, 0, 0, 0],\n",
       "        [0, 1, 0, 0],\n",
       "        [0, 0, 1, 0],\n",
       "        [0, 0, 0, 1]],\n",
       "\n",
       "       [[1, 0, 0, 0],\n",
       "        [0, 0, 0, 1],\n",
       "        [0, 0, 1, 0],\n",
       "        [0, 1, 0, 0]]])"
      ]
     },
     "execution_count": 2,
     "metadata": {},
     "output_type": "execute_result"
    }
   ],
   "source": [
    "# I      => [1, 0, 0, 0] # 대명사\n",
    "# work   => [0, 1, 0, 0] # 동사\n",
    "# at     => [0, 0, 1, 0] # 전치사\n",
    "# google => [0, 0, 0, 1] # 명사\n",
    "\n",
    "# I work at google => [[1, 0, 0, 0], [0, 1, 0, 0], [0, 0, 1, 0], [0, 0, 0, 1]]\n",
    "# I google at work => [[1, 0, 0, 0], [0, 0, 0, 1], [0, 0, 1, 0], [0, 1, 0, 0]]\n",
    "\n",
    "inputs = np.array([\n",
    "    [[1, 0, 0, 0], [0, 1, 0, 0], [0, 0, 1, 0], [0, 0, 0, 1]],\n",
    "    [[1, 0, 0, 0], [0, 0, 0, 1], [0, 0, 1, 0], [0, 1, 0, 0]]\n",
    "])\n",
    "inputs"
   ]
  },
  {
   "cell_type": "code",
   "execution_count": 3,
   "id": "f5393ef8",
   "metadata": {},
   "outputs": [
    {
     "name": "stdout",
     "output_type": "stream",
     "text": [
      "WARNING:tensorflow:From <ipython-input-3-dc3f03301552>:4: dynamic_rnn (from tensorflow.python.ops.rnn) is deprecated and will be removed in a future version.\n",
      "Instructions for updating:\n",
      "Please use `keras.layers.RNN(cell)`, which is equivalent to this API\n",
      "WARNING:tensorflow:From D:\\anaconda3\\envs\\py36\\lib\\site-packages\\keras\\layers\\legacy_rnn\\rnn_cell_impl.py:459: calling Zeros.__init__ (from tensorflow.python.ops.init_ops) with dtype is deprecated and will be removed in a future version.\n",
      "Instructions for updating:\n",
      "Call initializer instance with the dtype argument instead of passing it to the constructor\n",
      "outputs: Tensor(\"rnn/transpose_1:0\", shape=(2, 4, 3), dtype=float32)\n",
      "state: Tensor(\"rnn/while/Exit_3:0\", shape=(2, 3), dtype=float32)\n",
      "weights\n",
      "<tf.Variable 'rnn/basic_rnn_cell/kernel:0' shape=(7, 3) dtype=float32_ref>\n",
      "<tf.Variable 'rnn/basic_rnn_cell/bias:0' shape=(3,) dtype=float32_ref>\n"
     ]
    }
   ],
   "source": [
    "tf.set_random_seed(35)\n",
    "tf_inputs = tf.constant(inputs, dtype=tf.float32)\n",
    "rnn_cell = tf.nn.rnn_cell.BasicRNNCell(num_units=3)\n",
    "outputs, state = tf.nn.dynamic_rnn(cell=rnn_cell, dtype=tf.float32, inputs=tf_inputs)\n",
    "\n",
    "print('outputs:', outputs) # Tensor(\"rnn/transpose_1:0\", shape=(2, 4, 3), dtype=float32)\n",
    "print('state:', state) # Tensor(\"rnn/while/Exit_3:0\", shape=(2, 3), dtype=float32)\n",
    "print('weights')\n",
    "for v in tf.get_collection(tf.GraphKeys.TRAINABLE_VARIABLES):\n",
    "    print(v)\n",
    "    # <tf.Variable 'rnn/basic_rnn_cell/kernel:0' shape=(7, 3) dtype=float32_ref>\n",
    "    # <tf.Variable 'rnn/basic_rnn_cell/bias:0' shape=(3,) dtype=float32_ref>"
   ]
  },
  {
   "cell_type": "code",
   "execution_count": 14,
   "id": "d51c369d",
   "metadata": {},
   "outputs": [
    {
     "name": "stdout",
     "output_type": "stream",
     "text": [
      "outputs:\n",
      "[[[ 0.37247857  0.27281666 -0.03415733]\n",
      "  [-0.12360744 -0.23688789 -0.07885218]\n",
      "  [-0.27765325 -0.14212623 -0.44862753]\n",
      "  [-0.7634894  -0.13153659 -0.1189682 ]]\n",
      "\n",
      " [[ 0.37247857  0.27281666 -0.03415733]\n",
      "  [-0.62467164  0.70083857  0.17365289]\n",
      "  [ 0.10053852  0.2770306   0.05076913]\n",
      "  [-0.05543748 -0.37285638 -0.04752919]]]\n",
      "state:\n",
      "[[-0.7634894  -0.13153659 -0.1189682 ]\n",
      " [-0.05543748 -0.37285638 -0.04752919]]\n",
      "weights & bias\n",
      "rnn/basic_rnn_cell/kernel:0\n",
      "[[ 0.39129794  0.27990448 -0.03417063]\n",
      " [-0.13734835 -0.6881115  -0.19269955]\n",
      " [-0.19838947  0.15787274 -0.3503854 ]\n",
      " [-0.74573535  0.42230952  0.06174737]\n",
      " [-0.07638937  0.737661   -0.0250259 ]\n",
      " [ 0.22168279  0.6998607   0.48419607]\n",
      " [ 0.55390215  0.55799115  0.26617455]]\n",
      "rnn/basic_rnn_cell/bias:0\n",
      "[0. 0. 0.]\n"
     ]
    }
   ],
   "source": [
    "variables_name = [v.name for v in tf.trainable_variables()]\n",
    "with tf.Session() as sess:\n",
    "    sess.run(tf.global_variables_initializer())\n",
    "    output_run, state_run = sess.run([outputs, state])\n",
    "    print('outputs:\\n', output_run, sep='')\n",
    "    # 두 문장의 첫 단어 출력값이 [ 0.37247857  0.27281666 -0.03415733]로 같다.\n",
    "    # 첫 단어의 출력값이 같은 이유는 이전 단어가 존재하지 않기 때문에 이전 상태값이 존재하지 않기 때문이다.\n",
    "    # 두 번째 단어부터의 출력값은 두 문장이 [-0.12360744 -0.23688789 -0.07885218]와 [-0.62467164  0.70083857  0.17365289]처럼\n",
    "    # 다르게 나타난다.\n",
    "    # 두 번째 단어부터 출력값이 다른 이유는 이전 상태값이 현재 출력에 영향을 주기 때문이다.\n",
    "    print('state:\\n', state_run, sep='')\n",
    "    # 상태값은 항상 마지막 단어의 출력값과 동일하다.\n",
    "    # 첫 번째 단어 출력값\n",
    "    # [[ 0.37247857  0.27281666 -0.03415733] # 이전 단어가 없기 때문에 같은 값이 출력된다.\n",
    "    #  [-0.12360744 -0.23688789 -0.07885218]\n",
    "    #  [-0.27765325 -0.14212623 -0.44862753]\n",
    "    #  [-0.7634894  -0.13153659 -0.1189682 ]] # 첫 번째 문장의 마지막 단어 출력값 => 상태값\n",
    "    # =========================================================================================\n",
    "    # 두 번째 단어 출력값\n",
    "    # [[ 0.37247857  0.27281666 -0.03415733] # 이전 단어가 없기 때문에 같은 값이 출력된다.\n",
    "    #  [-0.62467164  0.70083857  0.17365289]\n",
    "    #  [ 0.10053852  0.2770306   0.05076913]\n",
    "    #  [-0.05543748 -0.37285638 -0.04752919]] # 두 번째 문장의 마지막 단어 출력값 => 상태값\n",
    "    # =========================================================================================\n",
    "    # 상태값\n",
    "    # [-0.7634894  -0.13153659 -0.1189682 ] # 첫 번째 문장의 상태값은 첫 번째 문장의 마지막 단어 출력값과 같다.\n",
    "    # [-0.05543748 -0.37285638 -0.04752919] # 두 번째 문장의 상태값은 두 번째 문장의 마지막 단어 출력값과 같다.\n",
    "    print('weights & bias')\n",
    "    values = sess.run(variables_name)\n",
    "    for k, v in zip(variables_name, values):\n",
    "        print('{}\\n{}'.format(k, v))"
   ]
  },
  {
   "cell_type": "code",
   "execution_count": null,
   "id": "42e2b94a",
   "metadata": {},
   "outputs": [],
   "source": []
  },
  {
   "cell_type": "code",
   "execution_count": null,
   "id": "a5a68dd5",
   "metadata": {},
   "outputs": [],
   "source": []
  }
 ],
 "metadata": {
  "kernelspec": {
   "display_name": "py36",
   "language": "python",
   "name": "py36"
  },
  "language_info": {
   "codemirror_mode": {
    "name": "ipython",
    "version": 3
   },
   "file_extension": ".py",
   "mimetype": "text/x-python",
   "name": "python",
   "nbconvert_exporter": "python",
   "pygments_lexer": "ipython3",
   "version": "3.6.13"
  }
 },
 "nbformat": 4,
 "nbformat_minor": 5
}
