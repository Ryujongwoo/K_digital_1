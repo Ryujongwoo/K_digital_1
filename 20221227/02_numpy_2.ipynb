{
 "cells": [
  {
   "cell_type": "code",
   "execution_count": 1,
   "id": "82dad821",
   "metadata": {},
   "outputs": [],
   "source": [
    "import warnings\n",
    "warnings.filterwarnings('ignore')\n",
    "import numpy as np\n",
    "\n",
    "def pprint(arr):\n",
    "    print('type: {}'.format(type(arr)))\n",
    "    print('shape: {}, dimension: {}, dtype: {}'.format(arr.shape, arr.ndim, arr.dtype))\n",
    "    print('numpy 배열의 데이터\\n', arr, sep='')"
   ]
  },
  {
   "cell_type": "markdown",
   "id": "f18b5e8e",
   "metadata": {},
   "source": [
    "numpy 파일 입출력"
   ]
  },
  {
   "cell_type": "code",
   "execution_count": 2,
   "id": "5327ea57",
   "metadata": {},
   "outputs": [],
   "source": [
    "# numpy는 배열 객체를 바이너리(2진) 파일 또는 텍스트 파일에 저장하고 로딩하는 기능을 제공한다.\n",
    "# 메소드 이름     기능                                                 파일 포맷\n",
    "# np.save()       numpy 배열 객체 1개를 파일로 저장한다.               바이너리\n",
    "# np.savez()      numpy 배열 객체 여러 개를 파일로 저장한다.           바이너리\n",
    "# np.load()       numpy 배열 저장 파일로 부터 배열 객체를 읽어온다.    바이너리\n",
    "# ============================================================================================\n",
    "# np.savetxt()    numpy 배열 객체 텍스트 파일로 저장한다.              텍스트\n",
    "# np.loadtxt()    텍스트 파일에 저장된 numpy 배열 객체를 읽어온다.     텍스트"
   ]
  },
  {
   "cell_type": "code",
   "execution_count": 3,
   "id": "93f430f3",
   "metadata": {},
   "outputs": [
    {
     "name": "stdout",
     "output_type": "stream",
     "text": [
      "type: <class 'numpy.ndarray'>\n",
      "shape: (2, 3), dimension: 2, dtype: int32\n",
      "numpy 배열의 데이터\n",
      "[[7 4 8]\n",
      " [8 1 9]]\n",
      "type: <class 'numpy.ndarray'>\n",
      "shape: (2, 3), dimension: 2, dtype: int32\n",
      "numpy 배열의 데이터\n",
      "[[5 7 4]\n",
      " [4 9 0]]\n"
     ]
    }
   ],
   "source": [
    "a = np.random.randint(0, 10, (2, 3))\n",
    "pprint(a)\n",
    "b = np.random.randint(0, 10, (2, 3))\n",
    "pprint(b)"
   ]
  },
  {
   "cell_type": "code",
   "execution_count": 4,
   "id": "a0fd90fb",
   "metadata": {},
   "outputs": [],
   "source": [
    "# numpy 배열 객체를 바이너리 파일로 저장\n",
    "# np.save(), np.savez() 메소드를 이용해서 배열 객체를 바이너리(2진) 형태의 파일로 저장할 수 있다.\n",
    "# np.save(): 배열 1개를 저장한다. 확장자 => npy\n",
    "# np.savez(): 배열 여러 개를 저장한다. 확장자 => npz\n",
    "\n",
    "# a 배열을 바이너리 파일로 저장한다.\n",
    "# np.save('경로명', 배열명)\n",
    "np.save('./output/my_array1', a)\n",
    "# a, b 배열을 바이너리 파일로 저장한다.\n",
    "# np.savez('경로명', 배열명1, 배열명2, ...)\n",
    "np.savez('./output/my_array2', a, b)"
   ]
  },
  {
   "cell_type": "code",
   "execution_count": 5,
   "id": "99362ba5",
   "metadata": {},
   "outputs": [
    {
     "name": "stdout",
     "output_type": "stream",
     "text": [
      "[[7 4 8]\n",
      " [8 1 9]]\n"
     ]
    }
   ],
   "source": [
    "# np.load() 메소드로 npy, npz 파일로 부터 배열 데이터를 읽어올 수 있다.\n",
    "# npy 파일 읽기\n",
    "print(np.load('./output/my_array1.npy'))"
   ]
  },
  {
   "cell_type": "code",
   "execution_count": 6,
   "id": "71f0d647",
   "metadata": {},
   "outputs": [
    {
     "name": "stdout",
     "output_type": "stream",
     "text": [
      "<numpy.lib.npyio.NpzFile object at 0x000002B792A0F940>\n",
      "[[7 4 8]\n",
      " [8 1 9]]\n",
      "[[5 7 4]\n",
      " [4 9 0]]\n"
     ]
    }
   ],
   "source": [
    "# npz 파일 읽기\n",
    "print(np.load('./output/my_array2.npz'))\n",
    "npzFiles = np.load('./output/my_array2.npz')\n",
    "print(npzFiles['arr_0'])\n",
    "print(npzFiles['arr_1'])"
   ]
  },
  {
   "cell_type": "code",
   "execution_count": 7,
   "id": "88608e97",
   "metadata": {},
   "outputs": [
    {
     "name": "stdout",
     "output_type": "stream",
     "text": [
      "type: <class 'numpy.ndarray'>\n",
      "shape: (3, 4), dimension: 2, dtype: float64\n",
      "numpy 배열의 데이터\n",
      "[[0.48974988 0.61097895 0.38997803 0.20650389]\n",
      " [0.79648782 0.55688819 0.15032288 0.5922048 ]\n",
      " [0.56762391 0.53172194 0.68131338 0.16976018]]\n"
     ]
    }
   ],
   "source": [
    "c = np.random.random((3, 4))\n",
    "pprint(c)"
   ]
  },
  {
   "cell_type": "code",
   "execution_count": 8,
   "id": "6c8ed312",
   "metadata": {},
   "outputs": [],
   "source": [
    "# numpy 배열 객체를 텍스트 파일로 저장\n",
    "# 텍스트 파일은 txt 파일의 의미하는 것이 아니고 csv 또는 tsv 파일을 의미한다.\n",
    "# np.savetxt() 메소드로 배열 객체를 텍스트 파일 형태로 저장시킬 수 있다.\n",
    "# np.savetxt('경로명', 배열명, delimiter='구분자')\n",
    "np.savetxt('./output/saved.csv', c, delimiter=',') # csv 파일은 데이터를 ','로 구분한다.\n",
    "np.savetxt('./output/saved2.tsv', c, delimiter='\\t') # tsv 파일은 데이터를 tab으로 구분한다."
   ]
  },
  {
   "cell_type": "code",
   "execution_count": 9,
   "id": "cb3835f9",
   "metadata": {},
   "outputs": [
    {
     "name": "stdout",
     "output_type": "stream",
     "text": [
      "type: <class 'numpy.ndarray'>\n",
      "shape: (3, 4), dimension: 2, dtype: float64\n",
      "numpy 배열의 데이터\n",
      "[[0.48974988 0.61097895 0.38997803 0.20650389]\n",
      " [0.79648782 0.55688819 0.15032288 0.5922048 ]\n",
      " [0.56762391 0.53172194 0.68131338 0.16976018]]\n",
      "[[0.48974988 0.61097895 0.38997803 0.20650389]\n",
      " [0.79648782 0.55688819 0.15032288 0.5922048 ]\n",
      " [0.56762391 0.53172194 0.68131338 0.16976018]]\n"
     ]
    }
   ],
   "source": [
    "# np.loadtxt() 메소드로 배열 객체를 텍스트 파일 형태로 저장시킬 수 있다.\n",
    "# np.loadtxt('경로명', dtype, delimiter='구분자')\n",
    "saved = np.loadtxt('./output/saved.csv', dtype=np.float, delimiter=',')\n",
    "pprint(saved)\n",
    "print(np.loadtxt('./output/saved2.tsv', dtype=float, delimiter='\\t'))"
   ]
  },
  {
   "cell_type": "markdown",
   "id": "c2276899",
   "metadata": {},
   "source": [
    "배열(행렬) 연산 - 산술 연산"
   ]
  },
  {
   "cell_type": "code",
   "execution_count": 10,
   "id": "331fe71c",
   "metadata": {},
   "outputs": [
    {
     "name": "stdout",
     "output_type": "stream",
     "text": [
      "type: <class 'numpy.ndarray'>\n",
      "shape: (3, 3), dimension: 2, dtype: int32\n",
      "numpy 배열의 데이터\n",
      "[[1 2 3]\n",
      " [4 5 6]\n",
      " [7 8 9]]\n",
      "type: <class 'numpy.ndarray'>\n",
      "shape: (3, 3), dimension: 2, dtype: int32\n",
      "numpy 배열의 데이터\n",
      "[[9 8 7]\n",
      " [6 5 4]\n",
      " [3 2 1]]\n"
     ]
    }
   ],
   "source": [
    "a = np.arange(1, 10).reshape(3, 3)\n",
    "pprint(a)\n",
    "b = np.arange(9, 0, -1).reshape(3, 3)\n",
    "pprint(b)"
   ]
  },
  {
   "cell_type": "code",
   "execution_count": 11,
   "id": "a9870f3c",
   "metadata": {},
   "outputs": [
    {
     "name": "stdout",
     "output_type": "stream",
     "text": [
      "[[10 10 10]\n",
      " [10 10 10]\n",
      " [10 10 10]]\n",
      "[[10 10 10]\n",
      " [10 10 10]\n",
      " [10 10 10]]\n"
     ]
    }
   ],
   "source": [
    "# 덧셈: +, np.add()\n",
    "print(a + b)\n",
    "print(np.add(a, b))"
   ]
  },
  {
   "cell_type": "code",
   "execution_count": 12,
   "id": "28c033f7",
   "metadata": {},
   "outputs": [
    {
     "name": "stdout",
     "output_type": "stream",
     "text": [
      "[[-8 -6 -4]\n",
      " [-2  0  2]\n",
      " [ 4  6  8]]\n",
      "[[-8 -6 -4]\n",
      " [-2  0  2]\n",
      " [ 4  6  8]]\n"
     ]
    }
   ],
   "source": [
    "# 뺄셈: -, np.subtract()\n",
    "print(a - b)\n",
    "print(np.subtract(a, b))"
   ]
  },
  {
   "cell_type": "code",
   "execution_count": 13,
   "id": "a22255c6",
   "metadata": {},
   "outputs": [
    {
     "name": "stdout",
     "output_type": "stream",
     "text": [
      "[[ 9 16 21]\n",
      " [24 25 24]\n",
      " [21 16  9]]\n",
      "[[ 9 16 21]\n",
      " [24 25 24]\n",
      " [21 16  9]]\n"
     ]
    }
   ],
   "source": [
    "# 곱셈: *, np.multiply()\n",
    "print(a * b)\n",
    "print(np.multiply(a, b))"
   ]
  },
  {
   "cell_type": "code",
   "execution_count": 14,
   "id": "388d2bf0",
   "metadata": {},
   "outputs": [
    {
     "name": "stdout",
     "output_type": "stream",
     "text": [
      "[[0.11111111 0.25       0.42857143]\n",
      " [0.66666667 1.         1.5       ]\n",
      " [2.33333333 4.         9.        ]]\n",
      "[[0.11111111 0.25       0.42857143]\n",
      " [0.66666667 1.         1.5       ]\n",
      " [2.33333333 4.         9.        ]]\n"
     ]
    }
   ],
   "source": [
    "# 나눗셈: /, np.divide()\n",
    "print(a / b)\n",
    "print(np.divide(a, b))"
   ]
  },
  {
   "cell_type": "code",
   "execution_count": 15,
   "id": "fba2be36",
   "metadata": {},
   "outputs": [
    {
     "name": "stdout",
     "output_type": "stream",
     "text": [
      "[[2.71828183e+00 7.38905610e+00 2.00855369e+01]\n",
      " [5.45981500e+01 1.48413159e+02 4.03428793e+02]\n",
      " [1.09663316e+03 2.98095799e+03 8.10308393e+03]]\n"
     ]
    }
   ],
   "source": [
    "print(np.exp(a)) # 지수"
   ]
  },
  {
   "cell_type": "code",
   "execution_count": 16,
   "id": "3f6df068",
   "metadata": {},
   "outputs": [
    {
     "name": "stdout",
     "output_type": "stream",
     "text": [
      "[[1.         1.41421356 1.73205081]\n",
      " [2.         2.23606798 2.44948974]\n",
      " [2.64575131 2.82842712 3.        ]]\n"
     ]
    }
   ],
   "source": [
    "print(np.sqrt(a))"
   ]
  },
  {
   "cell_type": "code",
   "execution_count": 17,
   "id": "f83048f6",
   "metadata": {},
   "outputs": [
    {
     "name": "stdout",
     "output_type": "stream",
     "text": [
      "[[ 0.84147098  0.90929743  0.14112001]\n",
      " [-0.7568025  -0.95892427 -0.2794155 ]\n",
      " [ 0.6569866   0.98935825  0.41211849]]\n",
      "[[ 0.54030231 -0.41614684 -0.9899925 ]\n",
      " [-0.65364362  0.28366219  0.96017029]\n",
      " [ 0.75390225 -0.14550003 -0.91113026]]\n",
      "[[ 1.55740772 -2.18503986 -0.14254654]\n",
      " [ 1.15782128 -3.38051501 -0.29100619]\n",
      " [ 0.87144798 -6.79971146 -0.45231566]]\n"
     ]
    }
   ],
   "source": [
    "# 삼각함수\n",
    "print(np.sin(a))\n",
    "print(np.cos(a))\n",
    "print(np.tan(a))"
   ]
  },
  {
   "cell_type": "code",
   "execution_count": 18,
   "id": "be688da7",
   "metadata": {},
   "outputs": [
    {
     "name": "stdout",
     "output_type": "stream",
     "text": [
      "[[0.         0.69314718 1.09861229]\n",
      " [1.38629436 1.60943791 1.79175947]\n",
      " [1.94591015 2.07944154 2.19722458]]\n"
     ]
    }
   ],
   "source": [
    "print(np.log(a)) # 로그"
   ]
  },
  {
   "cell_type": "code",
   "execution_count": 19,
   "id": "d85703f2",
   "metadata": {},
   "outputs": [
    {
     "name": "stdout",
     "output_type": "stream",
     "text": [
      "[[ 30  24  18]\n",
      " [ 84  69  54]\n",
      " [138 114  90]]\n"
     ]
    }
   ],
   "source": [
    "print(np.dot(a, b)) # 행렬의 내적"
   ]
  },
  {
   "cell_type": "markdown",
   "id": "d3490b43",
   "metadata": {},
   "source": [
    "<img src=\"./dot.png\" width=\"1000\" align=\"left\"/>"
   ]
  },
  {
   "cell_type": "markdown",
   "id": "0e6a27a8",
   "metadata": {},
   "source": [
    "배열(행렬) 연산 - 비교 연산"
   ]
  },
  {
   "cell_type": "code",
   "execution_count": 20,
   "id": "e19bd566",
   "metadata": {},
   "outputs": [
    {
     "name": "stdout",
     "output_type": "stream",
     "text": [
      "[[False False False]\n",
      " [False  True False]\n",
      " [False False False]]\n"
     ]
    }
   ],
   "source": [
    "# 배열 요소별 비교: >, >=, <, <=, ==, !=\n",
    "print(a == b)"
   ]
  },
  {
   "cell_type": "code",
   "execution_count": 21,
   "id": "f8d54d15",
   "metadata": {},
   "outputs": [
    {
     "name": "stdout",
     "output_type": "stream",
     "text": [
      "False\n"
     ]
    }
   ],
   "source": [
    "# np.array_equal() 메소드를 사용하면 배열 전체를 비교할 수 있다.\n",
    "print(np.array_equal(a, b))"
   ]
  },
  {
   "cell_type": "markdown",
   "id": "a7a7ea47",
   "metadata": {},
   "source": [
    "집계 함수  \n",
    "numpy의 모든 집계 함수는 axis를 기준으로 계산하며 집계 함수에 axis를 지정하지 않으면 axis=None이 기본값으로 사용된다."
   ]
  },
  {
   "cell_type": "code",
   "execution_count": 22,
   "id": "0cdad9ba",
   "metadata": {},
   "outputs": [
    {
     "name": "stdout",
     "output_type": "stream",
     "text": [
      "type: <class 'numpy.ndarray'>\n",
      "shape: (3, 3), dimension: 2, dtype: int32\n",
      "numpy 배열의 데이터\n",
      "[[1 2 3]\n",
      " [4 5 6]\n",
      " [7 8 9]]\n"
     ]
    }
   ],
   "source": [
    "a = np.arange(1, 10).reshape(3, 3)\n",
    "pprint(a)"
   ]
  },
  {
   "cell_type": "markdown",
   "id": "2aeb57c8",
   "metadata": {},
   "source": [
    "합계: 배열.sum(), np.sum(배열)"
   ]
  },
  {
   "cell_type": "code",
   "execution_count": 23,
   "id": "4471fafa",
   "metadata": {},
   "outputs": [
    {
     "name": "stdout",
     "output_type": "stream",
     "text": [
      "45\n",
      "45\n",
      "45\n",
      "45\n"
     ]
    }
   ],
   "source": [
    "# axis=None\n",
    "# axis=None은 전체 배열을 행과 열을 구분하지 않고 전체 합계를 계산한다. 생략시 기본값으로 사용된다.\n",
    "print(a.sum())\n",
    "print(a.sum(axis=None))\n",
    "print(np.sum(a))\n",
    "print(np.sum(a, axis=None))"
   ]
  },
  {
   "cell_type": "markdown",
   "id": "7ac9b3a2",
   "metadata": {},
   "source": [
    "<img src=\"./numpyImage/numpyImage02.jpg\" width=\"250\" align=\"left\"/>"
   ]
  },
  {
   "cell_type": "code",
   "execution_count": 24,
   "id": "e3d6a657",
   "metadata": {},
   "outputs": [
    {
     "name": "stdout",
     "output_type": "stream",
     "text": [
      "[12 15 18]\n",
      "[12 15 18]\n"
     ]
    }
   ],
   "source": [
    "# axis=0\n",
    "# axis=0은 행을 기준으로 각 행의 동일한 인덱스 요소를 그룹으로 연산한다. => 각 열의 합계\n",
    "print(a.sum(axis=0))\n",
    "print(np.sum(a, axis=0))"
   ]
  },
  {
   "cell_type": "markdown",
   "id": "7f9e477d",
   "metadata": {},
   "source": [
    "<img src=\"./numpyImage/numpyImage03.jpg\" width=\"250\" align=\"left\"/>"
   ]
  },
  {
   "cell_type": "code",
   "execution_count": 25,
   "id": "112f5ff5",
   "metadata": {},
   "outputs": [
    {
     "name": "stdout",
     "output_type": "stream",
     "text": [
      "[ 6 15 24]\n",
      "[ 6 15 24]\n"
     ]
    }
   ],
   "source": [
    "# axis=1\n",
    "# axis=1은 열을 기준으로 각 열의 동일한 인덱스 요소를 그룹으로 연산한다. => 각 행의 합계\n",
    "print(a.sum(axis=1))\n",
    "print(np.sum(a, axis=1))"
   ]
  },
  {
   "cell_type": "markdown",
   "id": "40917d31",
   "metadata": {},
   "source": [
    "<img src=\"./numpyImage/numpyImage04.jpg\" width=\"250\" align=\"left\"/>"
   ]
  },
  {
   "cell_type": "markdown",
   "id": "9300545f",
   "metadata": {},
   "source": [
    "최대값: 배열.max(), np.max(배열), 최소값: 배열.min(), np.min(배열)"
   ]
  },
  {
   "cell_type": "code",
   "execution_count": 26,
   "id": "cc7d3126",
   "metadata": {},
   "outputs": [
    {
     "name": "stdout",
     "output_type": "stream",
     "text": [
      "9\n",
      "9\n",
      "1\n",
      "1\n"
     ]
    }
   ],
   "source": [
    "print(a.max()) # print(a.max(axis=None))\n",
    "print(np.max(a)) # print(np.max(a, axis=None))\n",
    "print(a.min()) # print(a.min(axis=None))\n",
    "print(np.min(a)) # print(np.min(a, axis=None))"
   ]
  },
  {
   "cell_type": "code",
   "execution_count": 27,
   "id": "874d4678",
   "metadata": {},
   "outputs": [
    {
     "name": "stdout",
     "output_type": "stream",
     "text": [
      "[7 8 9]\n",
      "[7 8 9]\n",
      "[1 2 3]\n",
      "[1 2 3]\n"
     ]
    }
   ],
   "source": [
    "print(a.max(axis=0))\n",
    "print(np.max(a, axis=0))\n",
    "print(a.min(axis=0))\n",
    "print(np.min(a, axis=0))"
   ]
  },
  {
   "cell_type": "code",
   "execution_count": 28,
   "id": "9a01fe3b",
   "metadata": {},
   "outputs": [
    {
     "name": "stdout",
     "output_type": "stream",
     "text": [
      "[3 6 9]\n",
      "[3 6 9]\n",
      "[1 4 7]\n",
      "[1 4 7]\n"
     ]
    }
   ],
   "source": [
    "print(a.max(axis=1))\n",
    "print(np.max(a, axis=1))\n",
    "print(a.min(axis=1))\n",
    "print(np.min(a, axis=1))"
   ]
  },
  {
   "cell_type": "markdown",
   "id": "d9371394",
   "metadata": {},
   "source": [
    "누적 합계: 배열.cumsum(), np.cumsum(배열)"
   ]
  },
  {
   "cell_type": "code",
   "execution_count": 29,
   "id": "9fdbe701",
   "metadata": {},
   "outputs": [
    {
     "name": "stdout",
     "output_type": "stream",
     "text": [
      "[ 1  3  6 10 15 21 28 36 45]\n",
      "[ 1  3  6 10 15 21 28 36 45]\n"
     ]
    }
   ],
   "source": [
    "print(a.cumsum())\n",
    "print(np.cumsum(a))"
   ]
  },
  {
   "cell_type": "code",
   "execution_count": 30,
   "id": "fce28f17",
   "metadata": {},
   "outputs": [
    {
     "name": "stdout",
     "output_type": "stream",
     "text": [
      "[[ 1  2  3]\n",
      " [ 5  7  9]\n",
      " [12 15 18]]\n",
      "[[ 1  2  3]\n",
      " [ 5  7  9]\n",
      " [12 15 18]]\n"
     ]
    }
   ],
   "source": [
    "print(a.cumsum(axis=0))\n",
    "print(np.cumsum(a, axis=0))"
   ]
  },
  {
   "cell_type": "code",
   "execution_count": 31,
   "id": "aa3c9acc",
   "metadata": {},
   "outputs": [
    {
     "name": "stdout",
     "output_type": "stream",
     "text": [
      "[[ 1  3  6]\n",
      " [ 4  9 15]\n",
      " [ 7 15 24]]\n",
      "[[ 1  3  6]\n",
      " [ 4  9 15]\n",
      " [ 7 15 24]]\n"
     ]
    }
   ],
   "source": [
    "print(a.cumsum(axis=1))\n",
    "print(np.cumsum(a, axis=1))"
   ]
  },
  {
   "cell_type": "markdown",
   "id": "4d16d8cf",
   "metadata": {},
   "source": [
    "평균: 배열.mean(), np.mean(배열)"
   ]
  },
  {
   "cell_type": "code",
   "execution_count": 32,
   "id": "561c6ef2",
   "metadata": {},
   "outputs": [
    {
     "name": "stdout",
     "output_type": "stream",
     "text": [
      "5.0\n",
      "5.0\n"
     ]
    }
   ],
   "source": [
    "print(a.mean())\n",
    "print(np.mean(a))"
   ]
  },
  {
   "cell_type": "code",
   "execution_count": 33,
   "id": "c20711cb",
   "metadata": {},
   "outputs": [
    {
     "name": "stdout",
     "output_type": "stream",
     "text": [
      "[4. 5. 6.]\n",
      "[4. 5. 6.]\n"
     ]
    }
   ],
   "source": [
    "print(a.mean(axis=0))\n",
    "print(np.mean(a, axis=0))"
   ]
  },
  {
   "cell_type": "code",
   "execution_count": 34,
   "id": "fabf7113",
   "metadata": {},
   "outputs": [
    {
     "name": "stdout",
     "output_type": "stream",
     "text": [
      "[2. 5. 8.]\n",
      "[2. 5. 8.]\n"
     ]
    }
   ],
   "source": [
    "print(a.mean(axis=1))\n",
    "print(np.mean(a, axis=1))"
   ]
  },
  {
   "cell_type": "markdown",
   "id": "eae4b512",
   "metadata": {},
   "source": [
    "중위수: np.median(배열)"
   ]
  },
  {
   "cell_type": "code",
   "execution_count": 35,
   "id": "18be21db",
   "metadata": {},
   "outputs": [
    {
     "name": "stdout",
     "output_type": "stream",
     "text": [
      "5.0\n",
      "[4. 5. 6.]\n",
      "[2. 5. 8.]\n"
     ]
    }
   ],
   "source": [
    "print(np.median(a))\n",
    "print(np.median(a, axis=0))\n",
    "print(np.median(a, axis=1))"
   ]
  },
  {
   "cell_type": "markdown",
   "id": "689fc433",
   "metadata": {},
   "source": [
    "상관계수: np.corrcoef(배열)"
   ]
  },
  {
   "cell_type": "code",
   "execution_count": 36,
   "id": "89a32d19",
   "metadata": {},
   "outputs": [
    {
     "name": "stdout",
     "output_type": "stream",
     "text": [
      "[[1. 1. 1.]\n",
      " [1. 1. 1.]\n",
      " [1. 1. 1.]]\n"
     ]
    }
   ],
   "source": [
    "print(np.corrcoef(a)) # axis를 사용하지 않는다."
   ]
  },
  {
   "cell_type": "markdown",
   "id": "6fa5d113",
   "metadata": {},
   "source": [
    "표준편차: 배열.std(), np.std(배열)"
   ]
  },
  {
   "cell_type": "code",
   "execution_count": 37,
   "id": "545c8efd",
   "metadata": {},
   "outputs": [
    {
     "name": "stdout",
     "output_type": "stream",
     "text": [
      "2.581988897471611\n",
      "2.581988897471611\n"
     ]
    }
   ],
   "source": [
    "print(a.std())\n",
    "print(np.std(a))"
   ]
  },
  {
   "cell_type": "code",
   "execution_count": 38,
   "id": "916dc88f",
   "metadata": {},
   "outputs": [
    {
     "name": "stdout",
     "output_type": "stream",
     "text": [
      "[2.44948974 2.44948974 2.44948974]\n",
      "[2.44948974 2.44948974 2.44948974]\n"
     ]
    }
   ],
   "source": [
    "print(a.std(axis=0))\n",
    "print(np.std(a, axis=0))"
   ]
  },
  {
   "cell_type": "code",
   "execution_count": 39,
   "id": "1487a115",
   "metadata": {},
   "outputs": [
    {
     "name": "stdout",
     "output_type": "stream",
     "text": [
      "[0.81649658 0.81649658 0.81649658]\n",
      "[0.81649658 0.81649658 0.81649658]\n"
     ]
    }
   ],
   "source": [
    "print(a.std(axis=1))\n",
    "print(np.std(a, axis=1))"
   ]
  },
  {
   "cell_type": "markdown",
   "id": "4fad2130",
   "metadata": {},
   "source": [
    "브로드캐스팅  \n",
    "shape이 같은 두 배열에 대한 이항 연산은 배열 요소별로 실행된다.  \n",
    "두 배열의 shape이 다를 경우 두 배열 간의 형상을 맞추는 그림과 같은 브로드캐스팅 과정을 거쳐서 실행된다.  \n",
    "<img src=\"./numpyImage/numpyImage05.jpg\" width=\"900\" align=\"left\"/>"
   ]
  },
  {
   "cell_type": "markdown",
   "id": "df395df2",
   "metadata": {},
   "source": [
    "shape이 같은 두 배열의 연산"
   ]
  },
  {
   "cell_type": "code",
   "execution_count": 40,
   "id": "8432243b",
   "metadata": {},
   "outputs": [
    {
     "name": "stdout",
     "output_type": "stream",
     "text": [
      "[[ 1  2  3  4  5  6]\n",
      " [ 7  8  9 10 11 12]\n",
      " [13 14 15 16 17 18]\n",
      " [19 20 21 22 23 24]]\n",
      "[[25 26 27 28 29 30]\n",
      " [31 32 33 34 35 36]\n",
      " [37 38 39 40 41 42]\n",
      " [43 44 45 46 47 48]]\n"
     ]
    }
   ],
   "source": [
    "a = np.arange(1, 25).reshape(4, 6)\n",
    "print(a)\n",
    "b = np.arange(25, 49).reshape(4, 6)\n",
    "print(b)"
   ]
  },
  {
   "cell_type": "code",
   "execution_count": 41,
   "id": "af12f466",
   "metadata": {},
   "outputs": [
    {
     "name": "stdout",
     "output_type": "stream",
     "text": [
      "[[26 28 30 32 34 36]\n",
      " [38 40 42 44 46 48]\n",
      " [50 52 54 56 58 60]\n",
      " [62 64 66 68 70 72]]\n"
     ]
    }
   ],
   "source": [
    "# shape이 같은 배열을 이항 연산할 경우 위치가 같은 요소 단위로 실행된다.\n",
    "print(a + b)"
   ]
  },
  {
   "cell_type": "markdown",
   "id": "2b612e58",
   "metadata": {},
   "source": [
    "shape이 다른 두 배열의 연산  \n",
    "shape이 다른 두 배열 사이의 이항 연산에서 브로드캐스팅 발생 시 두 배열을 같은 shape으로 만든 후 연산을 실행한다."
   ]
  },
  {
   "cell_type": "code",
   "execution_count": 42,
   "id": "761aeed4",
   "metadata": {},
   "outputs": [
    {
     "name": "stdout",
     "output_type": "stream",
     "text": [
      "[[ 1  2  3  4  5  6]\n",
      " [ 7  8  9 10 11 12]\n",
      " [13 14 15 16 17 18]\n",
      " [19 20 21 22 23 24]]\n",
      "[[101 102 103 104 105 106]\n",
      " [107 108 109 110 111 112]\n",
      " [113 114 115 116 117 118]\n",
      " [119 120 121 122 123 124]]\n"
     ]
    }
   ],
   "source": [
    "# 배열과 스칼라(단일 값)의 연산\n",
    "# 배열과 스칼라 사이의 이항 연산 시 스칼라를 배열로 변환한다.\n",
    "a = np.arange(1, 25).reshape(4, 6)\n",
    "print(a)\n",
    "print(a + 100)"
   ]
  },
  {
   "cell_type": "code",
   "execution_count": 43,
   "id": "191f2902",
   "metadata": {},
   "outputs": [
    {
     "name": "stdout",
     "output_type": "stream",
     "text": [
      "[[100 100 100 100 100 100]\n",
      " [100 100 100 100 100 100]\n",
      " [100 100 100 100 100 100]\n",
      " [100 100 100 100 100 100]]\n",
      "[[101 102 103 104 105 106]\n",
      " [107 108 109 110 111 112]\n",
      " [113 114 115 116 117 118]\n",
      " [119 120 121 122 123 124]]\n"
     ]
    }
   ],
   "source": [
    "# a + 100은 다음과 같은 과정을 거쳐서 처리된다.\n",
    "new_arr = np.full_like(a, 100)\n",
    "print(new_arr)\n",
    "print(a + new_arr)"
   ]
  },
  {
   "cell_type": "code",
   "execution_count": 44,
   "id": "958da9fc",
   "metadata": {},
   "outputs": [
    {
     "name": "stdout",
     "output_type": "stream",
     "text": [
      "[[0 1 2 3 4]]\n",
      "[[0]\n",
      " [1]\n",
      " [2]\n",
      " [3]\n",
      " [4]]\n",
      "[[0 1 2 3 4]\n",
      " [1 2 3 4 5]\n",
      " [2 3 4 5 6]\n",
      " [3 4 5 6 7]\n",
      " [4 5 6 7 8]]\n"
     ]
    }
   ],
   "source": [
    "# shape 다른 배열의 연산\n",
    "a = np.arange(5).reshape(1, 5)\n",
    "print(a)\n",
    "b = np.arange(5).reshape(5, 1)\n",
    "print(b)\n",
    "print(a + b)"
   ]
  },
  {
   "cell_type": "markdown",
   "id": "8c096309",
   "metadata": {},
   "source": [
    "벡터 연산  \n",
    "numpy는 벡터 연산을 지원한다.  \n",
    "numpy의 집합 연산에는 벡터화 기능이 적용되어 있어서 배열 처리에 대해 벡터 연산을 적용할 경우 처리 속도가 100배 이상 빠르다."
   ]
  },
  {
   "cell_type": "code",
   "execution_count": 45,
   "id": "23c3c84c",
   "metadata": {},
   "outputs": [],
   "source": [
    "a = np.arange(10000000, dtype=np.int64)"
   ]
  },
  {
   "cell_type": "code",
   "execution_count": 46,
   "id": "da2ab2af",
   "metadata": {},
   "outputs": [
    {
     "name": "stdout",
     "output_type": "stream",
     "text": [
      "49999995000000\n",
      "Wall time: 2.28 s\n"
     ]
    }
   ],
   "source": [
    "%%time\n",
    "result = 0\n",
    "for i in a:\n",
    "    result += i\n",
    "print(result)"
   ]
  },
  {
   "cell_type": "code",
   "execution_count": 47,
   "id": "2c87790b",
   "metadata": {},
   "outputs": [
    {
     "name": "stdout",
     "output_type": "stream",
     "text": [
      "49999995000000\n",
      "Wall time: 7 ms\n"
     ]
    }
   ],
   "source": [
    "%%time\n",
    "result = np.sum(a)\n",
    "print(result)"
   ]
  },
  {
   "cell_type": "markdown",
   "id": "f1b3070f",
   "metadata": {},
   "source": [
    "배열 복사  \n",
    "ndarray 배열 객체에 대한 인덱싱, 슬라이싱이 반환하는 배열은 새로운 객체가 아닌 기존 배열의 view이다.  \n",
    "반환된 배열의 값을 변경하면 원본 배열에 변경한 값이 반영된다."
   ]
  },
  {
   "cell_type": "code",
   "execution_count": 48,
   "id": "be4ae39f",
   "metadata": {},
   "outputs": [
    {
     "name": "stdout",
     "output_type": "stream",
     "text": [
      "[[7 0 3]\n",
      " [1 5 8]\n",
      " [3 8 2]]\n",
      "[[999   0   3]\n",
      " [999   5   8]\n",
      " [999   8   2]]\n"
     ]
    }
   ],
   "source": [
    "a = np.random.randint(0, 9, (3, 3))\n",
    "print(a)\n",
    "a[:, 0] = 999 # a배열의 모든 행의 0 번째 열을 999로 변경한다.\n",
    "print(a)"
   ]
  },
  {
   "cell_type": "markdown",
   "id": "f175eb61",
   "metadata": {},
   "source": [
    "기존 배열로부터 새로운 배열을 생성하기 위해서 copy() 함수를 사용한다.  \n",
    "copy() 함수로 복사된 배열은 원본 배열과 완전히 다른 별도의 객체가 된다."
   ]
  },
  {
   "cell_type": "code",
   "execution_count": 49,
   "id": "adec2c92",
   "metadata": {},
   "outputs": [
    {
     "name": "stdout",
     "output_type": "stream",
     "text": [
      "[[999   0   3]\n",
      " [999   5   8]\n",
      " [999   8   2]]\n",
      "[[999 777   3]\n",
      " [999 777   8]\n",
      " [999 777   2]]\n",
      "[[999   0   3]\n",
      " [999   5   8]\n",
      " [999   8   2]]\n"
     ]
    }
   ],
   "source": [
    "copied_a = np.copy(a) # a 배열의 복사본을 만든다. - 깊은 복사\n",
    "print(copied_a)\n",
    "copied_a[:, 1] = 777\n",
    "print(copied_a)\n",
    "print(a)"
   ]
  },
  {
   "cell_type": "markdown",
   "id": "ab2ae4c2",
   "metadata": {},
   "source": [
    "배열 정렬  \n",
    "ndarray 객체는 axis를 기준으로 요소를 정렬하는 sort() 함수를 제공한다."
   ]
  },
  {
   "cell_type": "code",
   "execution_count": 50,
   "id": "c7644efc",
   "metadata": {},
   "outputs": [
    {
     "name": "stdout",
     "output_type": "stream",
     "text": [
      "[[0.73764685 0.1498422  0.84572091]\n",
      " [0.07293381 0.51918196 0.42978033]\n",
      " [0.85446797 0.04193898 0.30531196]]\n"
     ]
    }
   ],
   "source": [
    "unsorted_arr = np.random.random((3, 3))\n",
    "print(unsorted_arr)"
   ]
  },
  {
   "cell_type": "code",
   "execution_count": 51,
   "id": "c3ca2c4e",
   "metadata": {},
   "outputs": [
    {
     "name": "stdout",
     "output_type": "stream",
     "text": [
      "[[0.73764685 0.1498422  0.84572091]\n",
      " [0.07293381 0.51918196 0.42978033]\n",
      " [0.85446797 0.04193898 0.30531196]]\n",
      "[[0.73764685 0.1498422  0.84572091]\n",
      " [0.07293381 0.51918196 0.42978033]\n",
      " [0.85446797 0.04193898 0.30531196]]\n",
      "[[0.73764685 0.1498422  0.84572091]\n",
      " [0.07293381 0.51918196 0.42978033]\n",
      " [0.85446797 0.04193898 0.30531196]]\n"
     ]
    }
   ],
   "source": [
    "# sort 작업을 위해 원본을 복사한다.\n",
    "unsorted_arr1 = unsorted_arr.copy()\n",
    "print(unsorted_arr1)\n",
    "unsorted_arr2 = unsorted_arr.copy()\n",
    "print(unsorted_arr2)\n",
    "unsorted_arr3 = np.copy(unsorted_arr)\n",
    "print(unsorted_arr3)"
   ]
  },
  {
   "cell_type": "markdown",
   "id": "2bd636d8",
   "metadata": {},
   "source": [
    "배열.sort()  \n",
    "sort() 함수의 axis 기본값은 None이 아니고 -1이다.  \n",
    "-1은 현재 배열의 마지막 axis를 의미하고 unsorted_arr는 2차원이므로 axis가 0, 1이 존재하고 마지막 axis는 1이다.  \n",
    "배열.sort()와 배열.sort(axis=1)의 실행 결과는 같다."
   ]
  },
  {
   "cell_type": "code",
   "execution_count": 52,
   "id": "1f10f786",
   "metadata": {},
   "outputs": [
    {
     "name": "stdout",
     "output_type": "stream",
     "text": [
      "[[0.1498422  0.73764685 0.84572091]\n",
      " [0.07293381 0.42978033 0.51918196]\n",
      " [0.04193898 0.30531196 0.85446797]]\n",
      "================================================================================\n",
      "[[0.1498422  0.73764685 0.84572091]\n",
      " [0.07293381 0.42978033 0.51918196]\n",
      " [0.04193898 0.30531196 0.85446797]]\n"
     ]
    }
   ],
   "source": [
    "unsorted_arr1.sort()\n",
    "print(unsorted_arr1)\n",
    "print('=' * 80)\n",
    "unsorted_arr2.sort(axis=1)\n",
    "print(unsorted_arr2)"
   ]
  },
  {
   "cell_type": "code",
   "execution_count": 53,
   "id": "ef99aa3f",
   "metadata": {},
   "outputs": [
    {
     "name": "stdout",
     "output_type": "stream",
     "text": [
      "[[0.07293381 0.04193898 0.30531196]\n",
      " [0.73764685 0.1498422  0.42978033]\n",
      " [0.85446797 0.51918196 0.84572091]]\n"
     ]
    }
   ],
   "source": [
    "unsorted_arr3.sort(axis=0)\n",
    "print(unsorted_arr3)"
   ]
  },
  {
   "cell_type": "code",
   "execution_count": null,
   "id": "a9878c3b",
   "metadata": {},
   "outputs": [],
   "source": []
  },
  {
   "cell_type": "code",
   "execution_count": null,
   "id": "f65a7594",
   "metadata": {},
   "outputs": [],
   "source": []
  },
  {
   "cell_type": "code",
   "execution_count": null,
   "id": "cce8ee5d",
   "metadata": {},
   "outputs": [],
   "source": []
  }
 ],
 "metadata": {
  "kernelspec": {
   "display_name": "Python 3",
   "language": "python",
   "name": "python3"
  },
  "language_info": {
   "codemirror_mode": {
    "name": "ipython",
    "version": 3
   },
   "file_extension": ".py",
   "mimetype": "text/x-python",
   "name": "python",
   "nbconvert_exporter": "python",
   "pygments_lexer": "ipython3",
   "version": "3.6.8"
  }
 },
 "nbformat": 4,
 "nbformat_minor": 5
}
