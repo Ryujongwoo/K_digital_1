{
 "cells": [
  {
   "cell_type": "code",
   "execution_count": 1,
   "id": "1aa3dd74",
   "metadata": {},
   "outputs": [],
   "source": [
    "import warnings\n",
    "warnings.filterwarnings('ignore')\n",
    "import numpy as np\n",
    "\n",
    "def pprint(arr):\n",
    "    print('type: {}'.format(type(arr)))\n",
    "    print('shape: {}, dimension: {}, dtype: {}'.format(arr.shape, arr.ndim, arr.dtype))\n",
    "    print('numpy 배열의 데이터\\n', arr, sep='')"
   ]
  },
  {
   "cell_type": "markdown",
   "id": "8691481d",
   "metadata": {},
   "source": [
    "인덱싱  \n",
    "배열의 각 요소는 axis 인덱스 배열로 참조할 수 있다.  \n",
    "1차원 배열은 1개의 인덱스, 2차원 배열은 2개의 인덱스, 3차원 배열은 3개의 인덱스로 요소를 참조할 수 있다.  \n",
    "인덱싱 작업시 [행][열]과 같이 인덱스를 지정하거나 [행, 열]과 같이 인덱스를 지정할 수 있다."
   ]
  },
  {
   "cell_type": "code",
   "execution_count": 2,
   "id": "56987a5f",
   "metadata": {},
   "outputs": [
    {
     "name": "stdout",
     "output_type": "stream",
     "text": [
      "type: <class 'numpy.ndarray'>\n",
      "shape: (24,), dimension: 1, dtype: int32\n",
      "numpy 배열의 데이터\n",
      "[ 0  1  2  3  4  5  6  7  8  9 10 11 12 13 14 15 16 17 18 19 20 21 22 23]\n",
      "type: <class 'numpy.ndarray'>\n",
      "shape: (4, 6), dimension: 2, dtype: int32\n",
      "numpy 배열의 데이터\n",
      "[[ 0  1  2  3  4  5]\n",
      " [ 6  7  8  9 10 11]\n",
      " [12 13 14 15 16 17]\n",
      " [18 19 20 21 22 23]]\n",
      "type: <class 'numpy.ndarray'>\n",
      "shape: (2, 4, 3), dimension: 3, dtype: int32\n",
      "numpy 배열의 데이터\n",
      "[[[ 0  1  2]\n",
      "  [ 3  4  5]\n",
      "  [ 6  7  8]\n",
      "  [ 9 10 11]]\n",
      "\n",
      " [[12 13 14]\n",
      "  [15 16 17]\n",
      "  [18 19 20]\n",
      "  [21 22 23]]]\n"
     ]
    }
   ],
   "source": [
    "a = np.arange(24) # 1차원 배열\n",
    "pprint(a)\n",
    "b = np.arange(24).reshape(4, 6) # 2차원 배열\n",
    "pprint(b)\n",
    "c = np.arange(24).reshape(2, 4, 3) # 3차원 배열\n",
    "pprint(c)"
   ]
  },
  {
   "cell_type": "code",
   "execution_count": 3,
   "id": "d2753e89",
   "metadata": {},
   "outputs": [
    {
     "name": "stdout",
     "output_type": "stream",
     "text": [
      "5\n",
      "type: <class 'numpy.ndarray'>\n",
      "shape: (24,), dimension: 1, dtype: int32\n",
      "numpy 배열의 데이터\n",
      "[      0       1       2       3       4 1000000       6       7       8\n",
      "       9      10      11      12      13      14      15      16      17\n",
      "      18      19      20      21      22      23]\n"
     ]
    }
   ],
   "source": [
    "# 1차원 배열 요소 참조 및 변경\n",
    "print(a[5])\n",
    "a[5] = 1000000\n",
    "pprint(a)"
   ]
  },
  {
   "cell_type": "code",
   "execution_count": 6,
   "id": "4eabd90f",
   "metadata": {},
   "outputs": [
    {
     "name": "stdout",
     "output_type": "stream",
     "text": [
      "100000\n",
      "type: <class 'numpy.ndarray'>\n",
      "shape: (4, 6), dimension: 2, dtype: int32\n",
      "numpy 배열의 데이터\n",
      "[[     0 100000      2      3      4      5]\n",
      " [     6      7      8 200000     10     11]\n",
      " [    12     13     14     15     16     17]\n",
      " [    18     19     20     21     22     23]]\n",
      "200000\n",
      "type: <class 'numpy.ndarray'>\n",
      "shape: (4, 6), dimension: 2, dtype: int32\n",
      "numpy 배열의 데이터\n",
      "[[     0 100000      2      3      4      5]\n",
      " [     6      7      8 200000     10     11]\n",
      " [    12     13     14     15     16     17]\n",
      " [    18     19     20     21     22     23]]\n"
     ]
    }
   ],
   "source": [
    "# 2차원 배열 요소 참조 및 변경\n",
    "print(b[0][1])\n",
    "b[0][1] = 100000\n",
    "pprint(b)\n",
    "print(b[1, 3])\n",
    "b[1, 3] = 200000\n",
    "pprint(b)"
   ]
  },
  {
   "cell_type": "code",
   "execution_count": 8,
   "id": "56bc648d",
   "metadata": {},
   "outputs": [
    {
     "name": "stdout",
     "output_type": "stream",
     "text": [
      "999999\n",
      "type: <class 'numpy.ndarray'>\n",
      "shape: (2, 4, 3), dimension: 3, dtype: int32\n",
      "numpy 배열의 데이터\n",
      "[[[     0      1      2]\n",
      "  [     3      4      5]\n",
      "  [     6 777777      8]\n",
      "  [     9     10     11]]\n",
      "\n",
      " [[    12 999999     14]\n",
      "  [    15     16     17]\n",
      "  [    18     19     20]\n",
      "  [    21     22     23]]]\n",
      "777777\n",
      "type: <class 'numpy.ndarray'>\n",
      "shape: (2, 4, 3), dimension: 3, dtype: int32\n",
      "numpy 배열의 데이터\n",
      "[[[     0      1      2]\n",
      "  [     3      4      5]\n",
      "  [     6 777777      8]\n",
      "  [     9     10     11]]\n",
      "\n",
      " [[    12 999999     14]\n",
      "  [    15     16     17]\n",
      "  [    18     19     20]\n",
      "  [    21     22     23]]]\n"
     ]
    }
   ],
   "source": [
    "# 3차원 배열 요소 참조 및 변경\n",
    "print(c[1][0][1])\n",
    "c[1][0][1] = 999999\n",
    "pprint(c)\n",
    "print(c[0, 2, 1])\n",
    "c[0, 2, 1] = 777777\n",
    "pprint(c)"
   ]
  },
  {
   "cell_type": "markdown",
   "id": "6a3f10dc",
   "metadata": {},
   "source": [
    "슬라이싱"
   ]
  },
  {
   "cell_type": "code",
   "execution_count": null,
   "id": "5f9c3531",
   "metadata": {},
   "outputs": [],
   "source": [
    "print(a)\n",
    "print(a[2:6])"
   ]
  },
  {
   "cell_type": "markdown",
   "id": "8165bb35",
   "metadata": {},
   "source": [
    "<img src=\"./numpyImage/numpyImage06.jpg\" width=\"900\" align=\"left\"/>"
   ]
  },
  {
   "cell_type": "code",
   "execution_count": 12,
   "id": "8f37dbeb",
   "metadata": {},
   "outputs": [
    {
     "name": "stdout",
     "output_type": "stream",
     "text": [
      "type: <class 'numpy.ndarray'>\n",
      "shape: (4, 6), dimension: 2, dtype: int32\n",
      "numpy 배열의 데이터\n",
      "[[     0 100000      2      3      4      5]\n",
      " [     6      7      8 200000     10     11]\n",
      " [    12     13     14     15     16     17]\n",
      " [    18     19     20     21     22     23]]\n",
      "================================================================================\n",
      "type: <class 'numpy.ndarray'>\n",
      "shape: (2, 6), dimension: 2, dtype: int32\n",
      "numpy 배열의 데이터\n",
      "[[     6      7      8 200000     10     11]\n",
      " [    12     13     14     15     16     17]]\n",
      "================================================================================\n",
      "type: <class 'numpy.ndarray'>\n",
      "shape: (4, 4), dimension: 2, dtype: int32\n",
      "numpy 배열의 데이터\n",
      "[[100000      2      3      4]\n",
      " [     7      8 200000     10]\n",
      " [    13     14     15     16]\n",
      " [    19     20     21     22]]\n",
      "================================================================================\n",
      "type: <class 'numpy.ndarray'>\n",
      "shape: (2, 4), dimension: 2, dtype: int32\n",
      "numpy 배열의 데이터\n",
      "[[     7      8 200000     10]\n",
      " [    13     14     15     16]]\n"
     ]
    }
   ],
   "source": [
    "pprint(b)\n",
    "print('=' * 80)\n",
    "pprint(b[1:3]) # 열을 생략하면 행 단위로 슬라이싱을 할 수 있다. b[1:3, :]와 같은 표현이다.\n",
    "print('=' * 80)\n",
    "pprint(b[:, 1:5]) # 열 단위로 슬라이싱하려면 행 위치에 ':'을 적어야 한다. 행 위치에 ':'을 찍으면 전체 행을 의미한다.\n",
    "print('=' * 80)\n",
    "pprint(b[1:3, 1:5])"
   ]
  },
  {
   "cell_type": "markdown",
   "id": "1b8d28e8",
   "metadata": {},
   "source": [
    "<img src=\"./numpyImage/numpyImage07.jpg\" width=\"900\" align=\"left\"/>"
   ]
  },
  {
   "cell_type": "code",
   "execution_count": 13,
   "id": "959f38c3",
   "metadata": {},
   "outputs": [
    {
     "name": "stdout",
     "output_type": "stream",
     "text": [
      "type: <class 'numpy.ndarray'>\n",
      "shape: (2, 4), dimension: 2, dtype: int32\n",
      "numpy 배열의 데이터\n",
      "[[     7      8 200000     10]\n",
      " [    13     14     15     16]]\n"
     ]
    }
   ],
   "source": [
    "# 음수 인덱싱을 이용한 범위 설정\n",
    "# 음수 인덱스는 지정한 axis의 마지막 요소부터 반대 방향의 인덱스이고 -1은 마지막 요소의 인덱스를 의미한다.\n",
    "pprint(b[1:-1, 1:-1])"
   ]
  },
  {
   "cell_type": "code",
   "execution_count": 16,
   "id": "a47b519d",
   "metadata": {},
   "outputs": [
    {
     "name": "stdout",
     "output_type": "stream",
     "text": [
      "type: <class 'numpy.ndarray'>\n",
      "shape: (1, 6), dimension: 2, dtype: int32\n",
      "numpy 배열의 데이터\n",
      "[[12 13 14 15 16 17]]\n",
      "================================================================================\n",
      "type: <class 'numpy.ndarray'>\n",
      "shape: (2, 6), dimension: 2, dtype: int32\n",
      "numpy 배열의 데이터\n",
      "[[     6      7      8 200000     10     11]\n",
      " [    12     13     14     15     16     17]]\n",
      "================================================================================\n",
      "type: <class 'numpy.ndarray'>\n",
      "shape: (1, 6), dimension: 2, dtype: int32\n",
      "numpy 배열의 데이터\n",
      "[[12 13 14 15 16 17]]\n"
     ]
    }
   ],
   "source": [
    "# 슬라이싱 작업시 아래의 경우에 주의를 필요로 한다.\n",
    "pprint(b[1:3][1:5]) # b[1:3, :][1:5, :]와 같은 표현이다.\n",
    "print('=' * 80)\n",
    "dd = b[1:3, :]\n",
    "pprint(dd)\n",
    "print('=' * 80)\n",
    "ee = dd[1:5, :]\n",
    "pprint(ee)"
   ]
  },
  {
   "cell_type": "code",
   "execution_count": 21,
   "id": "3e26e6ef",
   "metadata": {},
   "outputs": [
    {
     "name": "stdout",
     "output_type": "stream",
     "text": [
      "type: <class 'numpy.ndarray'>\n",
      "shape: (4, 6), dimension: 2, dtype: int32\n",
      "numpy 배열의 데이터\n",
      "[[     0 100000      2      3      4      5]\n",
      " [     6      7 999999 999999     10     11]\n",
      " [    12     13 999999 999999     16     17]\n",
      " [    18     19     20     21     22     23]]\n",
      "================================================================================\n",
      "type: <class 'numpy.ndarray'>\n",
      "shape: (2, 4), dimension: 2, dtype: int32\n",
      "numpy 배열의 데이터\n",
      "[[     7 999999 999999     10]\n",
      " [    13 999999 999999     16]]\n",
      "================================================================================\n",
      "type: <class 'numpy.ndarray'>\n",
      "shape: (2, 2), dimension: 2, dtype: int32\n",
      "numpy 배열의 데이터\n",
      "[[999999 999999]\n",
      " [999999 999999]]\n",
      "================================================================================\n",
      "type: <class 'numpy.ndarray'>\n",
      "shape: (2, 4), dimension: 2, dtype: int32\n",
      "numpy 배열의 데이터\n",
      "[[     7 999999 999999     10]\n",
      " [    13 999999 999999     16]]\n",
      "================================================================================\n",
      "type: <class 'numpy.ndarray'>\n",
      "shape: (4, 6), dimension: 2, dtype: int32\n",
      "numpy 배열의 데이터\n",
      "[[     0 100000      2      3      4      5]\n",
      " [     6      7 999999 999999     10     11]\n",
      " [    12     13 999999 999999     16     17]\n",
      " [    18     19     20     21     22     23]]\n"
     ]
    }
   ],
   "source": [
    "# 슬라이싱을 이용한 데이터 수정\n",
    "pprint(b)\n",
    "print('=' * 80)\n",
    "# 슬라이싱을 이용한 배열 생성\n",
    "slide_arr = b[1:3, 1:5]\n",
    "pprint(slide_arr)\n",
    "print('=' * 80)\n",
    "pprint(slide_arr[:, 1:3])\n",
    "print('=' * 80)\n",
    "slide_arr[:, 1:3] = 999999\n",
    "pprint(slide_arr)\n",
    "print('=' * 80)\n",
    "pprint(b)"
   ]
  },
  {
   "cell_type": "markdown",
   "id": "3188dda5",
   "metadata": {},
   "source": [
    "불린 인덱싱  \n",
    "numpy의 불린 인덱싱은 배열의 각 요소 선택 여부를 True, False로 지정하는 방식이다."
   ]
  },
  {
   "cell_type": "code",
   "execution_count": 22,
   "id": "15eaba39",
   "metadata": {},
   "outputs": [
    {
     "name": "stdout",
     "output_type": "stream",
     "text": [
      "type: <class 'numpy.ndarray'>\n",
      "shape: (4, 6), dimension: 2, dtype: int32\n",
      "numpy 배열의 데이터\n",
      "[[ 0  1  2  3  4  5]\n",
      " [ 6  7  8  9 10 11]\n",
      " [12 13 14 15 16 17]\n",
      " [18 19 20 21 22 23]]\n"
     ]
    }
   ],
   "source": [
    "a = np.arange(24).reshape(4, 6)\n",
    "pprint(a)"
   ]
  },
  {
   "cell_type": "code",
   "execution_count": 24,
   "id": "7f171e69",
   "metadata": {},
   "outputs": [
    {
     "name": "stdout",
     "output_type": "stream",
     "text": [
      "type: <class 'numpy.ndarray'>\n",
      "shape: (4, 6), dimension: 2, dtype: int32\n",
      "numpy 배열의 데이터\n",
      "[[0 1 0 1 0 1]\n",
      " [0 1 0 1 0 1]\n",
      " [0 1 0 1 0 1]\n",
      " [0 1 0 1 0 1]]\n",
      "================================================================================\n",
      "type: <class 'numpy.ndarray'>\n",
      "shape: (4, 6), dimension: 2, dtype: bool\n",
      "numpy 배열의 데이터\n",
      "[[ True False  True False  True False]\n",
      " [ True False  True False  True False]\n",
      " [ True False  True False  True False]\n",
      " [ True False  True False  True False]]\n"
     ]
    }
   ],
   "source": [
    "# a 배열에서 요소의 값이 짝수인 요소의 총 합계\n",
    "# numpy의 브로드캐스팅 기능을 이용해서 배열의 요소 중에서 짝수인 요소를 확인한다.\n",
    "even_arr1 = a % 2\n",
    "pprint(even_arr1)\n",
    "print('=' * 80)\n",
    "even_arr2 = a % 2 == 0\n",
    "pprint(even_arr2)"
   ]
  },
  {
   "cell_type": "code",
   "execution_count": 25,
   "id": "0d58347c",
   "metadata": {},
   "outputs": [
    {
     "name": "stdout",
     "output_type": "stream",
     "text": [
      "type: <class 'numpy.ndarray'>\n",
      "shape: (12,), dimension: 1, dtype: int32\n",
      "numpy 배열의 데이터\n",
      "[ 0  2  4  6  8 10 12 14 16 18 20 22]\n",
      "type: <class 'numpy.ndarray'>\n",
      "shape: (12,), dimension: 1, dtype: int32\n",
      "numpy 배열의 데이터\n",
      "[ 0  2  4  6  8 10 12 14 16 18 20 22]\n"
     ]
    }
   ],
   "source": [
    "# 불린 인덱싱은 브로드캐스팅 결과가 True인 요소들만 추출한다.\n",
    "pprint(a[even_arr2])\n",
    "pprint(a[a % 2 == 0])"
   ]
  },
  {
   "cell_type": "code",
   "execution_count": 30,
   "id": "384c7eeb",
   "metadata": {},
   "outputs": [
    {
     "name": "stdout",
     "output_type": "stream",
     "text": [
      "type: <class 'numpy.int32'>\n",
      "shape: (), dimension: 0, dtype: int32\n",
      "numpy 배열의 데이터\n",
      "276\n",
      "type: <class 'numpy.int32'>\n",
      "shape: (), dimension: 0, dtype: int32\n",
      "numpy 배열의 데이터\n",
      "132\n",
      "type: <class 'numpy.int32'>\n",
      "shape: (), dimension: 0, dtype: int32\n",
      "numpy 배열의 데이터\n",
      "132\n",
      "type: <class 'numpy.int32'>\n",
      "shape: (), dimension: 0, dtype: int32\n",
      "numpy 배열의 데이터\n",
      "144\n",
      "type: <class 'numpy.int32'>\n",
      "shape: (), dimension: 0, dtype: int32\n",
      "numpy 배열의 데이터\n",
      "144\n"
     ]
    }
   ],
   "source": [
    "pprint(np.sum(a))\n",
    "pprint(a[a % 2 == 0].sum())\n",
    "pprint(np.sum(a[a % 2 == 0]))\n",
    "pprint(a[a % 2 == 1].sum())\n",
    "pprint(np.sum(a[a % 2 == 1]))"
   ]
  },
  {
   "cell_type": "markdown",
   "id": "99d6a7ea",
   "metadata": {},
   "source": [
    "불린 인덱싱 응용  \n",
    "데이터 파일 => 2014년 시애틀 강수량 데이터 => ./data/Seattle2014.csv  \n",
    "2014년 시애틀 1월 평균 강수량?"
   ]
  },
  {
   "cell_type": "code",
   "execution_count": null,
   "id": "9114d20f",
   "metadata": {},
   "outputs": [],
   "source": [
    "import pandas as pd"
   ]
  },
  {
   "cell_type": "code",
   "execution_count": null,
   "id": "ad8681c0",
   "metadata": {},
   "outputs": [],
   "source": [
    "# 판다스의 read_csv() 함수로 csv 파일을 데이터프레임으로 읽어들인다.\n",
    "rain_in_seattle = pd.read_csv('./data/Seattle2014.csv')\n",
    "print(type(rain_in_seattle))\n",
    "rain_in_seattle"
   ]
  },
  {
   "cell_type": "code",
   "execution_count": null,
   "id": "7bb9ecea",
   "metadata": {
    "scrolled": true
   },
   "outputs": [],
   "source": [
    "# 2014년 시애틀 강수량 데이터의 강수량 열(PRCP)의 데이터만 추출한다.\n",
    "# 데이터프레임의 특정 열 1개 추출하기\n",
    "#     => 데이터프레임이름['열이름'], 데이터프레임이름.get('열이름'), 데이터프레임이름.열이름 => 인덱스도 같이 추출된다.\n",
    "# rain_arr = rain_in_seattle['PRCP']\n",
    "# rain_arr = rain_in_seattle.get('PRCP')\n",
    "# rain_arr = rain_in_seattle.PRCP\n",
    "# print(type(rain_arr)) # <class 'pandas.core.series.Series'> => 데이터프레임을 구성하는 열 1개\n",
    "\n",
    "# 데이터만 얻어오기 위해서는 values 속성을 사용하고 인덱스만 얻어오려면 index 속성을 사용한다.\n",
    "# values 속성을 이용해서 Series의 데이터만 얻어오면 넘파이 배열 형태로 얻어온다.\n",
    "# rain_arr = rain_in_seattle['PRCP'].values\n",
    "# rain_arr = rain_in_seattle.get('PRCP').values\n",
    "rain_arr = rain_in_seattle.PRCP.values\n",
    "# print(type(rain_arr)) # <class 'numpy.ndarray'>\n",
    "print(rain_arr)\n",
    "print('Data Size:', len(rain_arr))"
   ]
  },
  {
   "cell_type": "code",
   "execution_count": null,
   "id": "dfe86563",
   "metadata": {
    "scrolled": false
   },
   "outputs": [],
   "source": [
    "days_arr = np.arange(0, 365) # 날짜 배열\n",
    "print(days_arr[:40])\n",
    "condition_jan = days_arr < 31 # 1월의 날 수 만큼 불린 인덱스를 생성한다.\n",
    "print(condition_jan[:40])"
   ]
  },
  {
   "cell_type": "code",
   "execution_count": null,
   "id": "6172440e",
   "metadata": {},
   "outputs": [],
   "source": [
    "# 불린 인덱싱을 이용해서 1월의 강수량만 추출한다.\n",
    "rain_jan = rain_arr[condition_jan]\n",
    "print(rain_jan)\n",
    "print(len(rain_jan))"
   ]
  },
  {
   "cell_type": "code",
   "execution_count": null,
   "id": "28c042ef",
   "metadata": {},
   "outputs": [],
   "source": [
    "print('1월 강수량 합계: {}'.format(np.sum(rain_jan)))\n",
    "print('1월 강수량 평균: {}'.format(np.mean(rain_jan)))"
   ]
  },
  {
   "cell_type": "markdown",
   "id": "5190be26",
   "metadata": {},
   "source": [
    "팬시 인덱싱  \n",
    "배열에 인덱스 배열을 전달해 요소를 참조하는 방법이다."
   ]
  },
  {
   "cell_type": "code",
   "execution_count": null,
   "id": "c7fd0fd7",
   "metadata": {},
   "outputs": [],
   "source": [
    "a = np.arange(1, 25).reshape(4, 6)\n",
    "print(a)"
   ]
  },
  {
   "cell_type": "code",
   "execution_count": null,
   "id": "b6c7fb75",
   "metadata": {},
   "outputs": [],
   "source": [
    "print(a[0, 0], a[1, 1] ,a[2, 2], a[3, 3])\n",
    "arr = a[0, 0], a[1, 1] ,a[2, 2], a[3, 3]\n",
    "print(arr)\n",
    "print(type(arr))\n",
    "arr = [a[0, 0], a[1, 1] ,a[2, 2], a[3, 3]]\n",
    "print(arr)\n",
    "print(type(arr))\n",
    "print('=' * 80)\n",
    "print(a[[0, 1, 2, 3], (0, 1, 2, 3)]) # 팬시 인덱싱"
   ]
  },
  {
   "cell_type": "markdown",
   "id": "a95f271d",
   "metadata": {},
   "source": [
    "배열 변환  \n",
    "배열을 변환하는 방법은 전치, 배열의 shape, 배열 요소 추가, 배열 결합, 배열 분리 등이 있다."
   ]
  },
  {
   "cell_type": "markdown",
   "id": "ccaaed21",
   "metadata": {},
   "source": [
    "전치는 행렬의 인덱스가 바뀌는 변환이다.\n",
    "\n",
    "<img src=\"./numpyImage/numpyImage08.jpg\" width=\"250\" align=\"left\"/>"
   ]
  },
  {
   "cell_type": "code",
   "execution_count": null,
   "id": "c042470c",
   "metadata": {},
   "outputs": [],
   "source": [
    "# numpy에서 행렬을 전치하기 위해 배열.T 속성을 사용한다.\n",
    "a = np.random.randint(1, 10, (2, 3))\n",
    "print(a)\n",
    "print(a.T)"
   ]
  },
  {
   "cell_type": "markdown",
   "id": "1eec1bf6",
   "metadata": {},
   "source": [
    "배열 형태 변경  \n",
    "numpy는 배열의 형태를 변경하는 reshape() 함수와 ravel() 함수를 제공한다.  \n",
    "reshape() 함수는 데이터 변경없이 지정된 shape으로 배열의 형태를 변환한다.  \n",
    "ravel() 함수는 배열의 shape를 1차원으로 변환한다."
   ]
  },
  {
   "cell_type": "code",
   "execution_count": null,
   "id": "f842b97c",
   "metadata": {},
   "outputs": [],
   "source": [
    "a = np.random.randint(1, 10, (2, 3))\n",
    "print(a)\n",
    "print(a.ravel())\n",
    "print(a)"
   ]
  },
  {
   "cell_type": "code",
   "execution_count": null,
   "id": "150ec13c",
   "metadata": {},
   "outputs": [],
   "source": [
    "b = a.ravel()\n",
    "print(b)\n",
    "b[4] = 999\n",
    "print(b)\n",
    "print('=' * 80)\n",
    "# ravel() 함수는 원본 배열의 view를 반환한다.\n",
    "# ravel() 함수가 반환한 배열을 수정하면 원본 배열의 내용이 같이 수정된다.\n",
    "print(a)"
   ]
  },
  {
   "cell_type": "code",
   "execution_count": null,
   "id": "67c31918",
   "metadata": {},
   "outputs": [],
   "source": [
    "a = np.random.randint(1, 10, (2, 3))\n",
    "print(a)\n",
    "print('=' * 80)\n",
    "b = a.reshape(3, 2, 1)\n",
    "print(b)\n",
    "print('=' * 80)\n",
    "b[0][0][0] = 999\n",
    "print(b)\n",
    "print('=' * 80)\n",
    "# reshape() 함수도 원본 배열의 view를 반환한다.\n",
    "# reshape() 함수가 반환한 배열을 수정하면 원본 배열의 내용이 같이 수정된다.\n",
    "print(a)"
   ]
  },
  {
   "cell_type": "markdown",
   "id": "bb09f8df",
   "metadata": {},
   "source": [
    "resize() 함수로 배열의 shape과 크기를 변경한다.  \n",
    "배열.resize(new_shape), np.resize(배열, new_shape)  \n",
    "resize() 함수와 reshape() 함수는 shape을 변경한다는 부분에서 유사하지만 reshape() 함수는 요소의 개수를 변경하지 못하는 반면에 resize() 함수는 shape을 변경하는 과정에서 요소의 개수를 줄이거나 늘릴 수 있다."
   ]
  },
  {
   "cell_type": "code",
   "execution_count": null,
   "id": "1623eea6",
   "metadata": {},
   "outputs": [],
   "source": [
    "a = np.random.randint(1, 10, (2, 6))\n",
    "print(a)\n",
    "print('=' * 80)\n",
    "np.resize(a, (6, 2))\n",
    "print(a)\n",
    "print('=' * 80)\n",
    "# print(np.resize(a, (6, 2))) # resize() 함수는 배열을 지정한 shape으로 변경한 새 배열을 리턴한다.\n",
    "print('=' * 80)\n",
    "b = np.resize(a, (6, 2)) # np.resize() 함수는 반드시 실행 결과를 새 배열에 저장시켜 사용한다.\n",
    "print(b)"
   ]
  },
  {
   "cell_type": "code",
   "execution_count": null,
   "id": "0189842d",
   "metadata": {},
   "outputs": [],
   "source": [
    "a = np.random.randint(1, 10, (2, 6))\n",
    "print(a)\n",
    "print('=' * 80)\n",
    "a.resize(6, 2) # 배열.resize() 함수를 실행하면 원본 배열의 shape이 변경된다.\n",
    "print(a)"
   ]
  },
  {
   "cell_type": "code",
   "execution_count": null,
   "id": "aac912e2",
   "metadata": {},
   "outputs": [],
   "source": [
    "# 요소의 개수(크기)가 변경되는 resize() 함수\n",
    "a = np.random.randint(1, 10, (2, 6))\n",
    "print(a)\n",
    "print('=' * 80)\n",
    "# a.reshape(2, 10) # reshape() 함수는 원본과 요소의 개수가 다르면 에러가 발생된다.\n",
    "a.resize(2, 10) # 배열의 요소 개수가 12개에서 20개로 늘어나고 늘어난 요소에는 0이 채워진다.\n",
    "print(a)\n",
    "print('=' * 80)\n",
    "a.resize(2, 4) # 배열의 요소 개수가 20개에서 8개로 줄어들고 줄어든 요소의 데이터는 분실된다.\n",
    "print(a)"
   ]
  },
  {
   "cell_type": "code",
   "execution_count": 32,
   "id": "baee4d87",
   "metadata": {},
   "outputs": [
    {
     "name": "stdout",
     "output_type": "stream",
     "text": [
      "[[6 5 1 3 6 2]\n",
      " [3 5 4 3 3 1]]\n",
      "================================================================================\n",
      "[[6 5 1 3 6 2 3 5 4 3]\n",
      " [3 1 6 5 1 3 6 2 3 5]]\n",
      "================================================================================\n",
      "[[6 5 1 3]\n",
      " [6 2 3 5]]\n"
     ]
    }
   ],
   "source": [
    "a = np.random.randint(1, 10, (2, 6))\n",
    "print(a)\n",
    "print('=' * 80)\n",
    "a = np.resize(a, (2, 10)) # 배열의 요소 개수가 12개에서 20개로 늘어나고 늘어난 요소에는 원본 배열 데이터가 반복되서 채워진다.\n",
    "print(a)\n",
    "print('=' * 80)\n",
    "a = np.resize(a, (2, 4)) # 배열의 요소 개수가 20개에서 8개로 줄어들고 줄어든 요소의 데이터는 분실된다.\n",
    "print(a)"
   ]
  },
  {
   "cell_type": "markdown",
   "id": "0e030429",
   "metadata": {},
   "source": [
    "append() 함수는 배열의 끝에 데이터(배열)을 추가한다. axis로 데이터가 추가되는 방향을 지정할 수 있다.  \n",
    "np.append(배열 이름, 추가할 데이터, axis)"
   ]
  },
  {
   "cell_type": "code",
   "execution_count": 33,
   "id": "4abeb0f4",
   "metadata": {},
   "outputs": [
    {
     "name": "stdout",
     "output_type": "stream",
     "text": [
      "type: <class 'numpy.ndarray'>\n",
      "shape: (3, 3), dimension: 2, dtype: int32\n",
      "numpy 배열의 데이터\n",
      "[[6 1 7]\n",
      " [2 1 9]\n",
      " [2 1 1]]\n",
      "type: <class 'numpy.ndarray'>\n",
      "shape: (3, 3), dimension: 2, dtype: int32\n",
      "numpy 배열의 데이터\n",
      "[[16 18 12]\n",
      " [15 15 17]\n",
      " [18 17 17]]\n"
     ]
    }
   ],
   "source": [
    "a = np.random.randint(1, 10, (3, 3))\n",
    "pprint(a)\n",
    "b = np.random.randint(10, 19, (3, 3))\n",
    "pprint(b)"
   ]
  },
  {
   "cell_type": "code",
   "execution_count": 35,
   "id": "49069ca3",
   "metadata": {},
   "outputs": [
    {
     "name": "stdout",
     "output_type": "stream",
     "text": [
      "type: <class 'numpy.ndarray'>\n",
      "shape: (18,), dimension: 1, dtype: int32\n",
      "numpy 배열의 데이터\n",
      "[ 6  1  7  2  1  9  2  1  1 16 18 12 15 15 17 18 17 17]\n",
      "type: <class 'numpy.ndarray'>\n",
      "shape: (18,), dimension: 1, dtype: int32\n",
      "numpy 배열의 데이터\n",
      "[ 6  1  7  2  1  9  2  1  1 16 18 12 15 15 17 18 17 17]\n"
     ]
    }
   ],
   "source": [
    "# axis를 지정하지 않았을 경우\n",
    "# axis를 지정하지 않으면 배열은 1차원 배열로 변환되서 결합된다.\n",
    "result = np.append(a, b)\n",
    "pprint(result)\n",
    "result = np.append(a, b, axis=None)\n",
    "pprint(result)"
   ]
  },
  {
   "cell_type": "code",
   "execution_count": 36,
   "id": "627257a1",
   "metadata": {},
   "outputs": [
    {
     "name": "stdout",
     "output_type": "stream",
     "text": [
      "type: <class 'numpy.ndarray'>\n",
      "shape: (6, 3), dimension: 2, dtype: int32\n",
      "numpy 배열의 데이터\n",
      "[[ 6  1  7]\n",
      " [ 2  1  9]\n",
      " [ 2  1  1]\n",
      " [16 18 12]\n",
      " [15 15 17]\n",
      " [18 17 17]]\n"
     ]
    }
   ],
   "source": [
    "# axis=0으로 지정한 경우\n",
    "result = np.append(a, b, axis=0) # a 배열 아래쪽에 b 배열이 추가된다.\n",
    "pprint(result)"
   ]
  },
  {
   "cell_type": "code",
   "execution_count": 43,
   "id": "90902411",
   "metadata": {},
   "outputs": [
    {
     "name": "stdout",
     "output_type": "stream",
     "text": [
      "type: <class 'numpy.ndarray'>\n",
      "shape: (4, 3), dimension: 2, dtype: int32\n",
      "numpy 배열의 데이터\n",
      "[[17 10 15]\n",
      " [12 16 13]\n",
      " [18 18 18]\n",
      " [12 11 12]]\n",
      "type: <class 'numpy.ndarray'>\n",
      "shape: (7, 3), dimension: 2, dtype: int32\n",
      "numpy 배열의 데이터\n",
      "[[ 6  1  7]\n",
      " [ 2  1  9]\n",
      " [ 2  1  1]\n",
      " [17 10 15]\n",
      " [12 16 13]\n",
      " [18 18 18]\n",
      " [12 11 12]]\n",
      "================================================================================\n"
     ]
    }
   ],
   "source": [
    "# axis=0으로 지정해서 아래쪽에 데이터를 추가할 경우 행의 개수는 달라도 상관없지만 열의 개수는 반드시 같아야 한다.\n",
    "diff_shape = np.random.randint(10, 19, (4, 3)) # a 배열과 행의 개수가 다른 배열\n",
    "pprint(diff_shape)\n",
    "result = np.append(a, diff_shape, axis=0)\n",
    "pprint(result)\n",
    "print('=' * 80)\n",
    "# diff_shape = np.random.randint(10, 19, (3, 4)) # a 배열과 열의 개수가 다른 배열\n",
    "# pprint(diff_shape)\n",
    "# result = np.append(a, diff_shape, axis=0) # 추가할 데이터가 a 배열과 열의 개수가 다르기 때문에 에러가 발생된다.\n",
    "# pprint(result)"
   ]
  },
  {
   "cell_type": "code",
   "execution_count": 44,
   "id": "36dea351",
   "metadata": {},
   "outputs": [
    {
     "name": "stdout",
     "output_type": "stream",
     "text": [
      "type: <class 'numpy.ndarray'>\n",
      "shape: (3, 6), dimension: 2, dtype: int32\n",
      "numpy 배열의 데이터\n",
      "[[ 6  1  7 16 18 12]\n",
      " [ 2  1  9 15 15 17]\n",
      " [ 2  1  1 18 17 17]]\n"
     ]
    }
   ],
   "source": [
    "# axis=1으로 지정한 경우\n",
    "result = np.append(a, b, axis=1) # a 배열 오른쪽에 b 배열이 추가된다.\n",
    "pprint(result)"
   ]
  },
  {
   "cell_type": "code",
   "execution_count": 47,
   "id": "9a49d53a",
   "metadata": {},
   "outputs": [
    {
     "name": "stdout",
     "output_type": "stream",
     "text": [
      "type: <class 'numpy.ndarray'>\n",
      "shape: (3, 4), dimension: 2, dtype: int32\n",
      "numpy 배열의 데이터\n",
      "[[16 15 10 12]\n",
      " [13 13 13 12]\n",
      " [13 15 15 13]]\n",
      "type: <class 'numpy.ndarray'>\n",
      "shape: (3, 7), dimension: 2, dtype: int32\n",
      "numpy 배열의 데이터\n",
      "[[ 6  1  7 16 15 10 12]\n",
      " [ 2  1  9 13 13 13 12]\n",
      " [ 2  1  1 13 15 15 13]]\n",
      "================================================================================\n"
     ]
    }
   ],
   "source": [
    "# axis=1로 지정해서 오른쪽에 데이터를 추가할 경우 열의 개수는 달라도 상관없지만 행의 개수는 반드시 같아야 한다.\n",
    "diff_shape = np.random.randint(10, 19, (3, 4)) # a 배열과 열의 개수가 다른 배열\n",
    "pprint(diff_shape)\n",
    "result = np.append(a, diff_shape, axis=1)\n",
    "pprint(result)\n",
    "print('=' * 80)\n",
    "# diff_shape = np.random.randint(10, 19, (4, 3)) # a 배열과 행의 개수가 다른 배열\n",
    "# pprint(diff_shape)\n",
    "# result = np.append(a, diff_shape, axis=1) # 추가할 데이터가 a 배열과 행의 개수가 다르기 때문에 에러가 발생된다.\n",
    "# pprint(result)"
   ]
  },
  {
   "cell_type": "markdown",
   "id": "3395e031",
   "metadata": {},
   "source": [
    "insert() 함수는 지정한 index에 데이터를 삽입한다. axis로 데이터가 삽입되는 방향을 지정할 수 있다.  \n",
    "np.insert(배열 이름, index, 삽입할 데이터, axis)"
   ]
  },
  {
   "cell_type": "code",
   "execution_count": null,
   "id": "98742fc1",
   "metadata": {},
   "outputs": [],
   "source": [
    "a = np.random.randint(1, 10, (3, 3))\n",
    "pprint(a)"
   ]
  },
  {
   "cell_type": "code",
   "execution_count": 49,
   "id": "06fba6f5",
   "metadata": {},
   "outputs": [
    {
     "name": "stdout",
     "output_type": "stream",
     "text": [
      "type: <class 'numpy.ndarray'>\n",
      "shape: (10,), dimension: 1, dtype: int32\n",
      "numpy 배열의 데이터\n",
      "[    6 99999     1     7     2     1     9     2     1     1]\n",
      "type: <class 'numpy.ndarray'>\n",
      "shape: (10,), dimension: 1, dtype: int32\n",
      "numpy 배열의 데이터\n",
      "[    6 99999     1     7     2     1     9     2     1     1]\n"
     ]
    }
   ],
   "source": [
    "# axis를 지정하지 않으면 None이 기본값이고 배열을 1차원으로 변환한 후 지정된 index에 데이터를 삽입한다.\n",
    "pprint(np.insert(a, 1, 99999))\n",
    "pprint(np.insert(a, 1, 99999, axis=None))"
   ]
  },
  {
   "cell_type": "code",
   "execution_count": 50,
   "id": "bc666fd0",
   "metadata": {},
   "outputs": [
    {
     "name": "stdout",
     "output_type": "stream",
     "text": [
      "type: <class 'numpy.ndarray'>\n",
      "shape: (4, 3), dimension: 2, dtype: int32\n",
      "numpy 배열의 데이터\n",
      "[[    6     1     7]\n",
      " [99999 99999 99999]\n",
      " [    2     1     9]\n",
      " [    2     1     1]]\n"
     ]
    }
   ],
   "source": [
    "# axis=0으로 지정하면 index가 1인 행에 데이터를 삽입한다.\n",
    "pprint(np.insert(a, 1, 99999, axis=0))"
   ]
  },
  {
   "cell_type": "code",
   "execution_count": 51,
   "id": "17535a47",
   "metadata": {},
   "outputs": [
    {
     "name": "stdout",
     "output_type": "stream",
     "text": [
      "type: <class 'numpy.ndarray'>\n",
      "shape: (3, 4), dimension: 2, dtype: int32\n",
      "numpy 배열의 데이터\n",
      "[[    6 99999     1     7]\n",
      " [    2 99999     1     9]\n",
      " [    2 99999     1     1]]\n"
     ]
    }
   ],
   "source": [
    "# axis=1로 지정하면 index가 1인 열에 데이터를 삽입한다.\n",
    "pprint(np.insert(a, 1, 99999, axis=1))"
   ]
  },
  {
   "cell_type": "markdown",
   "id": "2091ff28",
   "metadata": {},
   "source": [
    "delete() 함수로 지정된 index의 데이터를 삭제한다. axis로 데이터가 삭제되는 방향을 지정할 수 있다.  \n",
    "np.delete(배열 이름, index, axis)"
   ]
  },
  {
   "cell_type": "code",
   "execution_count": 56,
   "id": "c70b49b0",
   "metadata": {},
   "outputs": [
    {
     "name": "stdout",
     "output_type": "stream",
     "text": [
      "type: <class 'numpy.ndarray'>\n",
      "shape: (3, 3), dimension: 2, dtype: int32\n",
      "numpy 배열의 데이터\n",
      "[[1 5 7]\n",
      " [5 8 5]\n",
      " [6 4 9]]\n"
     ]
    }
   ],
   "source": [
    "a = np.random.randint(1, 10, (3, 3))\n",
    "pprint(a)"
   ]
  },
  {
   "cell_type": "code",
   "execution_count": 57,
   "id": "72d8a4c6",
   "metadata": {},
   "outputs": [
    {
     "name": "stdout",
     "output_type": "stream",
     "text": [
      "type: <class 'numpy.ndarray'>\n",
      "shape: (8,), dimension: 1, dtype: int32\n",
      "numpy 배열의 데이터\n",
      "[1 7 5 8 5 6 4 9]\n",
      "type: <class 'numpy.ndarray'>\n",
      "shape: (8,), dimension: 1, dtype: int32\n",
      "numpy 배열의 데이터\n",
      "[1 7 5 8 5 6 4 9]\n"
     ]
    }
   ],
   "source": [
    "# axis를 지정하지 않으면 None이 기본값이고 배열을 1차원으로 변환한 후 지정된 index에 데이터를 삭제한다.\n",
    "pprint(np.delete(a, 1))\n",
    "pprint(np.delete(a, 1, axis=None))"
   ]
  },
  {
   "cell_type": "code",
   "execution_count": 58,
   "id": "705743cc",
   "metadata": {},
   "outputs": [
    {
     "name": "stdout",
     "output_type": "stream",
     "text": [
      "type: <class 'numpy.ndarray'>\n",
      "shape: (2, 3), dimension: 2, dtype: int32\n",
      "numpy 배열의 데이터\n",
      "[[1 5 7]\n",
      " [6 4 9]]\n"
     ]
    }
   ],
   "source": [
    "# axis=0으로 지정하면 index가 1인 행의 데이터를 삭제한다.\n",
    "pprint(np.delete(a, 1, axis=0))"
   ]
  },
  {
   "cell_type": "code",
   "execution_count": 59,
   "id": "3a72ee20",
   "metadata": {},
   "outputs": [
    {
     "name": "stdout",
     "output_type": "stream",
     "text": [
      "type: <class 'numpy.ndarray'>\n",
      "shape: (3, 2), dimension: 2, dtype: int32\n",
      "numpy 배열의 데이터\n",
      "[[1 7]\n",
      " [5 5]\n",
      " [6 9]]\n"
     ]
    }
   ],
   "source": [
    "# axis=1으로 지정하면 index가 1인 열의 데이터를 삭제한다.\n",
    "pprint(np.delete(a, 1, axis=1))"
   ]
  },
  {
   "cell_type": "markdown",
   "id": "78001560",
   "metadata": {},
   "source": [
    "배열 결합  \n",
    "배열과 배열을 결합하는 np.concatenate(), np.vstack(), np.hstack() 함수를 제공한다."
   ]
  },
  {
   "cell_type": "markdown",
   "id": "8eb264c8",
   "metadata": {},
   "source": [
    "np.concatenate() 함수는 axis로 결합할 방향을 지정해 배열을 결합한다.  \n",
    "np.concatenate((배열1, 배열2, ...), axis)"
   ]
  },
  {
   "cell_type": "code",
   "execution_count": 73,
   "id": "a23835b0",
   "metadata": {},
   "outputs": [
    {
     "name": "stdout",
     "output_type": "stream",
     "text": [
      "type: <class 'numpy.ndarray'>\n",
      "shape: (2, 3), dimension: 2, dtype: int32\n",
      "numpy 배열의 데이터\n",
      "[[3 2 7]\n",
      " [8 9 3]]\n",
      "type: <class 'numpy.ndarray'>\n",
      "shape: (2, 3), dimension: 2, dtype: int32\n",
      "numpy 배열의 데이터\n",
      "[[18 18 16]\n",
      " [16 10 15]]\n"
     ]
    }
   ],
   "source": [
    "a = np.random.randint(1, 10, (2, 3))\n",
    "pprint(a)\n",
    "b = np.random.randint(10, 19, (2, 3))\n",
    "pprint(b)"
   ]
  },
  {
   "cell_type": "code",
   "execution_count": 74,
   "id": "738d05c3",
   "metadata": {},
   "outputs": [
    {
     "name": "stdout",
     "output_type": "stream",
     "text": [
      "type: <class 'numpy.ndarray'>\n",
      "shape: (4, 3), dimension: 2, dtype: int32\n",
      "numpy 배열의 데이터\n",
      "[[ 3  2  7]\n",
      " [ 8  9  3]\n",
      " [18 18 16]\n",
      " [16 10 15]]\n",
      "type: <class 'numpy.ndarray'>\n",
      "shape: (4, 3), dimension: 2, dtype: int32\n",
      "numpy 배열의 데이터\n",
      "[[ 3  2  7]\n",
      " [ 8  9  3]\n",
      " [18 18 16]\n",
      " [16 10 15]]\n"
     ]
    }
   ],
   "source": [
    "# axis를 지정하지 않으면 0이 기본값이고 아래쪽으로 배열을 결합한다. 결합할 배열들이 열의 개수가 다르면 에러가 발생된다.\n",
    "result = np.concatenate((a, b))\n",
    "pprint(result)\n",
    "result = np.concatenate((a, b), axis=0)\n",
    "pprint(result)"
   ]
  },
  {
   "cell_type": "code",
   "execution_count": 75,
   "id": "cdddb9e6",
   "metadata": {},
   "outputs": [
    {
     "name": "stdout",
     "output_type": "stream",
     "text": [
      "type: <class 'numpy.ndarray'>\n",
      "shape: (2, 6), dimension: 2, dtype: int32\n",
      "numpy 배열의 데이터\n",
      "[[ 3  2  7 18 18 16]\n",
      " [ 8  9  3 16 10 15]]\n"
     ]
    }
   ],
   "source": [
    "# axis=1로 지정하면 오른쪽으로 배열을 결합한다. 결합할 배열들이 행의 개수가 다르면 에러가 발생된다.\n",
    "result = np.concatenate((a, b), axis=1)\n",
    "pprint(result)"
   ]
  },
  {
   "cell_type": "markdown",
   "id": "435c4fc1",
   "metadata": {},
   "source": [
    "np.vstack() 함수는 인수로 지정된 튜플 타입의 배열을 수직 방향(axis=0)으로 결합한다.  \n",
    "np.concatenate((배열1, 배열2, ...), axis=0)와 동일한 기능이 실행된다.  \n",
    "np.vstack((배열1, 배열2, ...))"
   ]
  },
  {
   "cell_type": "code",
   "execution_count": 88,
   "id": "ba110812",
   "metadata": {},
   "outputs": [
    {
     "name": "stdout",
     "output_type": "stream",
     "text": [
      "type: <class 'numpy.ndarray'>\n",
      "shape: (2, 3), dimension: 2, dtype: int32\n",
      "numpy 배열의 데이터\n",
      "[[3 7 1]\n",
      " [9 6 6]]\n",
      "type: <class 'numpy.ndarray'>\n",
      "shape: (2, 3), dimension: 2, dtype: int32\n",
      "numpy 배열의 데이터\n",
      "[[16 15 13]\n",
      " [13 10 18]]\n"
     ]
    }
   ],
   "source": [
    "a = np.random.randint(1, 10, (2, 3))\n",
    "pprint(a)\n",
    "b = np.random.randint(10, 19, (2, 3))\n",
    "pprint(b)"
   ]
  },
  {
   "cell_type": "code",
   "execution_count": 89,
   "id": "b5da031e",
   "metadata": {},
   "outputs": [
    {
     "name": "stdout",
     "output_type": "stream",
     "text": [
      "type: <class 'numpy.ndarray'>\n",
      "shape: (4, 3), dimension: 2, dtype: int32\n",
      "numpy 배열의 데이터\n",
      "[[ 3  7  1]\n",
      " [ 9  6  6]\n",
      " [16 15 13]\n",
      " [13 10 18]]\n"
     ]
    }
   ],
   "source": [
    "pprint(np.vstack((a, b))) # 결합할 배열들이 열의 개수가 다르면 에러가 발생된다."
   ]
  },
  {
   "cell_type": "markdown",
   "id": "f33b1106",
   "metadata": {},
   "source": [
    "np.hstack() 함수는 인수로 지정된 튜플 타입의 배열을 수평 방향(axis=1)으로 결합한다.  \n",
    "np.concatenate((배열1, 배열2, ...), axis=1)와 동일한 기능이 실행된다.  \n",
    "np.hstack((배열1, 배열2, ...))"
   ]
  },
  {
   "cell_type": "code",
   "execution_count": 90,
   "id": "ab3156d0",
   "metadata": {},
   "outputs": [
    {
     "name": "stdout",
     "output_type": "stream",
     "text": [
      "type: <class 'numpy.ndarray'>\n",
      "shape: (2, 6), dimension: 2, dtype: int32\n",
      "numpy 배열의 데이터\n",
      "[[ 3  7  1 16 15 13]\n",
      " [ 9  6  6 13 10 18]]\n"
     ]
    }
   ],
   "source": [
    "pprint(np.hstack((a, b))) # 결합할 배열들이 행의 개수가 다르면 에러가 발생된다."
   ]
  },
  {
   "cell_type": "markdown",
   "id": "3b560845",
   "metadata": {},
   "source": [
    "배열 분리  \n",
    "numpy는 배열을 수직(열) 방향으로 분할하는 np.vsplit() 함수와 수평(행) 방향으로 분할하는 np.hsplit() 함수를 제공한다."
   ]
  },
  {
   "cell_type": "code",
   "execution_count": 91,
   "id": "e9e6ce20",
   "metadata": {},
   "outputs": [
    {
     "name": "stdout",
     "output_type": "stream",
     "text": [
      "type: <class 'numpy.ndarray'>\n",
      "shape: (4, 6), dimension: 2, dtype: int32\n",
      "numpy 배열의 데이터\n",
      "[[ 1  2  3  4  5  6]\n",
      " [ 7  8  9 10 11 12]\n",
      " [13 14 15 16 17 18]\n",
      " [19 20 21 22 23 24]]\n"
     ]
    }
   ],
   "source": [
    "a = np.arange(1, 25).reshape(4, 6)\n",
    "pprint(a)"
   ]
  },
  {
   "cell_type": "markdown",
   "id": "7e5ea3be",
   "metadata": {},
   "source": [
    "np.hsplit() 함수로 배열을 수평 방향으로 분할한다.  \n",
    "np.hsplit(배열 이름, 분할 배열의 개수)"
   ]
  },
  {
   "cell_type": "code",
   "execution_count": 97,
   "id": "c00a44f3",
   "metadata": {},
   "outputs": [
    {
     "name": "stdout",
     "output_type": "stream",
     "text": [
      "<class 'list'>\n",
      "[array([[ 1,  2,  3],\n",
      "       [ 7,  8,  9],\n",
      "       [13, 14, 15],\n",
      "       [19, 20, 21]]), array([[ 4,  5,  6],\n",
      "       [10, 11, 12],\n",
      "       [16, 17, 18],\n",
      "       [22, 23, 24]])]\n",
      "<class 'numpy.ndarray'>\n",
      "<class 'numpy.ndarray'>\n"
     ]
    }
   ],
   "source": [
    "result = np.hsplit(a, 2) # hsplit() 함수의 실행 결과 리턴값은 numpy 배열을 저장된 파이썬 list 형태로 리턴된다.\n",
    "print(type(result)) # <class 'list'>\n",
    "print(result)\n",
    "print(type(result[0])) # <class 'numpy.ndarray'>\n",
    "print(type(result[1])) # <class 'numpy.ndarray'>"
   ]
  },
  {
   "cell_type": "markdown",
   "id": "85570e2c",
   "metadata": {},
   "source": [
    "<img src=\"./numpyImage/numpyImage09.jpg\" width=\"900\" align=\"left\"/>"
   ]
  },
  {
   "cell_type": "code",
   "execution_count": 98,
   "id": "8176c20b",
   "metadata": {},
   "outputs": [
    {
     "name": "stdout",
     "output_type": "stream",
     "text": [
      "[array([[ 1,  2],\n",
      "       [ 7,  8],\n",
      "       [13, 14],\n",
      "       [19, 20]]), array([[ 3,  4],\n",
      "       [ 9, 10],\n",
      "       [15, 16],\n",
      "       [21, 22]]), array([[ 5,  6],\n",
      "       [11, 12],\n",
      "       [17, 18],\n",
      "       [23, 24]])]\n"
     ]
    }
   ],
   "source": [
    "result = np.hsplit(a, 3)\n",
    "print(result)"
   ]
  },
  {
   "cell_type": "markdown",
   "id": "05aa6b5d",
   "metadata": {},
   "source": [
    "<img src=\"./numpyImage/numpyImage10.jpg\" width=\"900\" align=\"left\"/>"
   ]
  },
  {
   "cell_type": "code",
   "execution_count": 102,
   "id": "baac978f",
   "metadata": {},
   "outputs": [
    {
     "name": "stdout",
     "output_type": "stream",
     "text": [
      "[array([[ 1],\n",
      "       [ 7],\n",
      "       [13],\n",
      "       [19]]), array([[ 2,  3],\n",
      "       [ 8,  9],\n",
      "       [14, 15],\n",
      "       [20, 21]]), array([[ 4,  5],\n",
      "       [10, 11],\n",
      "       [16, 17],\n",
      "       [22, 23]]), array([[ 6],\n",
      "       [12],\n",
      "       [18],\n",
      "       [24]])]\n"
     ]
    }
   ],
   "source": [
    "result = np.hsplit(a, [1, 3, 5])\n",
    "print(result)"
   ]
  },
  {
   "cell_type": "markdown",
   "id": "6de49781",
   "metadata": {},
   "source": [
    "<img src=\"./numpyImage/numpyImage11.jpg\" width=\"900\" align=\"left\"/>"
   ]
  },
  {
   "cell_type": "markdown",
   "id": "799222ca",
   "metadata": {},
   "source": [
    "np.vsplit() 함수로 배열을 수직 방향으로 분할한다.  \n",
    "np.vsplit(배열 이름, 분할 배열의 개수)"
   ]
  },
  {
   "cell_type": "code",
   "execution_count": 103,
   "id": "a2f27e53",
   "metadata": {},
   "outputs": [
    {
     "name": "stdout",
     "output_type": "stream",
     "text": [
      "[array([[ 1,  2,  3,  4,  5,  6],\n",
      "       [ 7,  8,  9, 10, 11, 12]]), array([[13, 14, 15, 16, 17, 18],\n",
      "       [19, 20, 21, 22, 23, 24]])]\n"
     ]
    }
   ],
   "source": [
    "result = np.vsplit(a, 2)\n",
    "print(result)"
   ]
  },
  {
   "cell_type": "markdown",
   "id": "1871e478",
   "metadata": {},
   "source": [
    "<img src=\"./numpyImage/numpyImage12.jpg\" width=\"900\" align=\"left\"/>"
   ]
  },
  {
   "cell_type": "code",
   "execution_count": 104,
   "id": "3ad6a3a0",
   "metadata": {},
   "outputs": [
    {
     "name": "stdout",
     "output_type": "stream",
     "text": [
      "[array([[1, 2, 3, 4, 5, 6]]), array([[ 7,  8,  9, 10, 11, 12]]), array([[13, 14, 15, 16, 17, 18]]), array([[19, 20, 21, 22, 23, 24]])]\n"
     ]
    }
   ],
   "source": [
    "result = np.vsplit(a, 4)\n",
    "print(result)"
   ]
  },
  {
   "cell_type": "markdown",
   "id": "ed149f99",
   "metadata": {},
   "source": [
    "<img src=\"./numpyImage/numpyImage13.jpg\" width=\"900\" align=\"left\"/>"
   ]
  },
  {
   "cell_type": "code",
   "execution_count": 105,
   "id": "b928948b",
   "metadata": {},
   "outputs": [
    {
     "name": "stdout",
     "output_type": "stream",
     "text": [
      "[array([[1, 2, 3, 4, 5, 6]]), array([[ 7,  8,  9, 10, 11, 12],\n",
      "       [13, 14, 15, 16, 17, 18]]), array([[19, 20, 21, 22, 23, 24]])]\n"
     ]
    }
   ],
   "source": [
    "result = np.vsplit(a, [1, 3])\n",
    "print(result)"
   ]
  },
  {
   "cell_type": "markdown",
   "id": "f39b0cbf",
   "metadata": {},
   "source": [
    "<img src=\"./numpyImage/numpyImage14.jpg\" width=\"900\" align=\"left\"/>"
   ]
  },
  {
   "cell_type": "code",
   "execution_count": null,
   "id": "14228d14",
   "metadata": {},
   "outputs": [],
   "source": []
  }
 ],
 "metadata": {
  "kernelspec": {
   "display_name": "Python 3",
   "language": "python",
   "name": "python3"
  },
  "language_info": {
   "codemirror_mode": {
    "name": "ipython",
    "version": 3
   },
   "file_extension": ".py",
   "mimetype": "text/x-python",
   "name": "python",
   "nbconvert_exporter": "python",
   "pygments_lexer": "ipython3",
   "version": "3.6.8"
  }
 },
 "nbformat": 4,
 "nbformat_minor": 5
}
