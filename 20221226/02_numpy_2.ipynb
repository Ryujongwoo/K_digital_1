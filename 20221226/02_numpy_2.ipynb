{
 "cells": [
  {
   "cell_type": "code",
   "execution_count": 1,
   "id": "82dad821",
   "metadata": {},
   "outputs": [],
   "source": [
    "import warnings\n",
    "warnings.filterwarnings('ignore')\n",
    "import numpy as np\n",
    "\n",
    "def pprint(arr):\n",
    "    print('type: {}'.format(type(arr)))\n",
    "    print('shape: {}, dimension: {}, dtype: {}'.format(arr.shape, arr.ndim, arr.dtype))\n",
    "    print('numpy 배열의 데이터\\n', arr, sep='')"
   ]
  },
  {
   "cell_type": "markdown",
   "id": "f18b5e8e",
   "metadata": {},
   "source": [
    "numpy 파일 입출력"
   ]
  },
  {
   "cell_type": "code",
   "execution_count": 2,
   "id": "5327ea57",
   "metadata": {},
   "outputs": [],
   "source": [
    "# numpy는 배열 객체를 바이너리(2진) 파일 또는 텍스트 파일에 저장하고 로딩하는 기능을 제공한다.\n",
    "# 메소드 이름     기능                                                 파일 포맷\n",
    "# np.save()       numpy 배열 객체 1개를 파일로 저장한다.               바이너리\n",
    "# np.savez()      numpy 배열 객체 여러 개를 파일로 저장한다.           바이너리\n",
    "# np.load()       numpy 배열 저장 파일로 부터 배열 객체를 읽어온다.    바이너리\n",
    "# ============================================================================================\n",
    "# np.savetxt()    numpy 배열 객체 텍스트 파일로 저장한다.              텍스트\n",
    "# np.loadtxt()    텍스트 파일에 저장된 numpy 배열 객체를 읽어온다.     텍스트"
   ]
  },
  {
   "cell_type": "code",
   "execution_count": 3,
   "id": "93f430f3",
   "metadata": {},
   "outputs": [
    {
     "name": "stdout",
     "output_type": "stream",
     "text": [
      "type: <class 'numpy.ndarray'>\n",
      "shape: (2, 3), dimension: 2, dtype: int32\n",
      "numpy 배열의 데이터\n",
      "[[6 9 9]\n",
      " [5 6 9]]\n",
      "type: <class 'numpy.ndarray'>\n",
      "shape: (2, 3), dimension: 2, dtype: int32\n",
      "numpy 배열의 데이터\n",
      "[[7 4 3]\n",
      " [7 6 5]]\n"
     ]
    }
   ],
   "source": [
    "a = np.random.randint(0, 10, (2, 3))\n",
    "pprint(a)\n",
    "b = np.random.randint(0, 10, (2, 3))\n",
    "pprint(b)"
   ]
  },
  {
   "cell_type": "code",
   "execution_count": 4,
   "id": "a0fd90fb",
   "metadata": {},
   "outputs": [],
   "source": [
    "# numpy 배열 객체를 바이너리 파일로 저장\n",
    "# np.save(), np.savez() 메소드를 이용해서 배열 객체를 바이너리(2진) 형태의 파일로 저장할 수 있다.\n",
    "# np.save(): 배열 1개를 저장한다. 확장자 => npy\n",
    "# np.savez(): 배열 여러 개를 저장한다. 확장자 => npz\n",
    "\n",
    "# a 배열을 바이너리 파일로 저장한다.\n",
    "# np.save('경로명', 배열명)\n",
    "np.save('./output/my_array1', a)\n",
    "# a, b 배열을 바이너리 파일로 저장한다.\n",
    "# np.savez('경로명', 배열명1, 배열명2, ...)\n",
    "np.savez('./output/my_array2', a, b)"
   ]
  },
  {
   "cell_type": "code",
   "execution_count": 5,
   "id": "99362ba5",
   "metadata": {},
   "outputs": [
    {
     "name": "stdout",
     "output_type": "stream",
     "text": [
      "[[6 9 9]\n",
      " [5 6 9]]\n"
     ]
    }
   ],
   "source": [
    "# np.load() 메소드로 npy, npz 파일로 부터 배열 데이터를 읽어올 수 있다.\n",
    "# npy 파일 읽기\n",
    "print(np.load('./output/my_array1.npy'))"
   ]
  },
  {
   "cell_type": "code",
   "execution_count": 6,
   "id": "71f0d647",
   "metadata": {},
   "outputs": [
    {
     "name": "stdout",
     "output_type": "stream",
     "text": [
      "<numpy.lib.npyio.NpzFile object at 0x000002256FDF07F0>\n",
      "[[6 9 9]\n",
      " [5 6 9]]\n",
      "[[7 4 3]\n",
      " [7 6 5]]\n"
     ]
    }
   ],
   "source": [
    "# npz 파일 읽기\n",
    "print(np.load('./output/my_array2.npz'))\n",
    "npzFiles = np.load('./output/my_array2.npz')\n",
    "print(npzFiles['arr_0'])\n",
    "print(npzFiles['arr_1'])"
   ]
  },
  {
   "cell_type": "code",
   "execution_count": 7,
   "id": "88608e97",
   "metadata": {},
   "outputs": [
    {
     "name": "stdout",
     "output_type": "stream",
     "text": [
      "type: <class 'numpy.ndarray'>\n",
      "shape: (3, 4), dimension: 2, dtype: float64\n",
      "numpy 배열의 데이터\n",
      "[[0.91865957 0.0643028  0.31455548 0.25321714]\n",
      " [0.74493157 0.10290226 0.82600377 0.47987051]\n",
      " [0.18406685 0.51394959 0.93615522 0.44681719]]\n"
     ]
    }
   ],
   "source": [
    "c = np.random.random((3, 4))\n",
    "pprint(c)"
   ]
  },
  {
   "cell_type": "code",
   "execution_count": 8,
   "id": "6c8ed312",
   "metadata": {},
   "outputs": [],
   "source": [
    "# numpy 배열 객체를 텍스트 파일로 저장\n",
    "# 텍스트 파일은 txt 파일의 의미하는 것이 아니고 csv 또는 tsv 파일을 의미한다.\n",
    "# np.savetxt() 메소드로 배열 객체를 텍스트 파일 형태로 저장시킬 수 있다.\n",
    "# np.savetxt('경로명', 배열명, delimiter='구분자')\n",
    "np.savetxt('./output/saved.csv', c, delimiter=',') # csv 파일은 데이터를 ','로 구분한다.\n",
    "np.savetxt('./output/saved2.tsv', c, delimiter='\\t') # tsv 파일은 데이터를 tab으로 구분한다."
   ]
  },
  {
   "cell_type": "code",
   "execution_count": 20,
   "id": "cb3835f9",
   "metadata": {},
   "outputs": [
    {
     "name": "stdout",
     "output_type": "stream",
     "text": [
      "type: <class 'numpy.ndarray'>\n",
      "shape: (3, 4), dimension: 2, dtype: float64\n",
      "numpy 배열의 데이터\n",
      "[[0.91865957 0.0643028  0.31455548 0.25321714]\n",
      " [0.74493157 0.10290226 0.82600377 0.47987051]\n",
      " [0.18406685 0.51394959 0.93615522 0.44681719]]\n",
      "[[0.91865957 0.0643028  0.31455548 0.25321714]\n",
      " [0.74493157 0.10290226 0.82600377 0.47987051]\n",
      " [0.18406685 0.51394959 0.93615522 0.44681719]]\n"
     ]
    }
   ],
   "source": [
    "# np.loadtxt() 메소드로 배열 객체를 텍스트 파일 형태로 저장시킬 수 있다.\n",
    "# np.loadtxt('경로명', dtype, delimiter='구분자')\n",
    "saved = np.loadtxt('./output/saved.csv', dtype=np.float, delimiter=',')\n",
    "pprint(saved)\n",
    "print(np.loadtxt('./output/saved2.tsv', dtype=float, delimiter='\\t'))"
   ]
  },
  {
   "cell_type": "markdown",
   "id": "c2276899",
   "metadata": {},
   "source": [
    "배열(행렬) 연산 - 산술 연산"
   ]
  },
  {
   "cell_type": "code",
   "execution_count": 23,
   "id": "331fe71c",
   "metadata": {},
   "outputs": [
    {
     "name": "stdout",
     "output_type": "stream",
     "text": [
      "type: <class 'numpy.ndarray'>\n",
      "shape: (3, 3), dimension: 2, dtype: int32\n",
      "numpy 배열의 데이터\n",
      "[[1 2 3]\n",
      " [4 5 6]\n",
      " [7 8 9]]\n",
      "type: <class 'numpy.ndarray'>\n",
      "shape: (3, 3), dimension: 2, dtype: int32\n",
      "numpy 배열의 데이터\n",
      "[[9 8 7]\n",
      " [6 5 4]\n",
      " [3 2 1]]\n"
     ]
    }
   ],
   "source": [
    "a = np.arange(1, 10).reshape(3, 3)\n",
    "pprint(a)\n",
    "b = np.arange(9, 0, -1).reshape(3, 3)\n",
    "pprint(b)"
   ]
  },
  {
   "cell_type": "code",
   "execution_count": 25,
   "id": "a9870f3c",
   "metadata": {},
   "outputs": [
    {
     "name": "stdout",
     "output_type": "stream",
     "text": [
      "[[10 10 10]\n",
      " [10 10 10]\n",
      " [10 10 10]]\n",
      "[[10 10 10]\n",
      " [10 10 10]\n",
      " [10 10 10]]\n"
     ]
    }
   ],
   "source": [
    "# 덧셈: +, np.add()\n",
    "print(a + b)\n",
    "print(np.add(a, b))"
   ]
  },
  {
   "cell_type": "code",
   "execution_count": 26,
   "id": "28c033f7",
   "metadata": {},
   "outputs": [
    {
     "name": "stdout",
     "output_type": "stream",
     "text": [
      "[[-8 -6 -4]\n",
      " [-2  0  2]\n",
      " [ 4  6  8]]\n",
      "[[-8 -6 -4]\n",
      " [-2  0  2]\n",
      " [ 4  6  8]]\n"
     ]
    }
   ],
   "source": [
    "# 뺄셈: -, np.subtract()\n",
    "print(a - b)\n",
    "print(np.subtract(a, b))"
   ]
  },
  {
   "cell_type": "code",
   "execution_count": 27,
   "id": "a22255c6",
   "metadata": {},
   "outputs": [
    {
     "name": "stdout",
     "output_type": "stream",
     "text": [
      "[[ 9 16 21]\n",
      " [24 25 24]\n",
      " [21 16  9]]\n",
      "[[ 9 16 21]\n",
      " [24 25 24]\n",
      " [21 16  9]]\n"
     ]
    }
   ],
   "source": [
    "# 곱셈: *, np.multiply()\n",
    "print(a * b)\n",
    "print(np.multiply(a, b))"
   ]
  },
  {
   "cell_type": "code",
   "execution_count": 29,
   "id": "388d2bf0",
   "metadata": {},
   "outputs": [
    {
     "name": "stdout",
     "output_type": "stream",
     "text": [
      "[[0.11111111 0.25       0.42857143]\n",
      " [0.66666667 1.         1.5       ]\n",
      " [2.33333333 4.         9.        ]]\n",
      "[[0.11111111 0.25       0.42857143]\n",
      " [0.66666667 1.         1.5       ]\n",
      " [2.33333333 4.         9.        ]]\n"
     ]
    }
   ],
   "source": [
    "# 나눗셈: /, np.divide()\n",
    "print(a / b)\n",
    "print(np.divide(a, b))"
   ]
  },
  {
   "cell_type": "code",
   "execution_count": 30,
   "id": "fba2be36",
   "metadata": {},
   "outputs": [
    {
     "name": "stdout",
     "output_type": "stream",
     "text": [
      "[[2.71828183e+00 7.38905610e+00 2.00855369e+01]\n",
      " [5.45981500e+01 1.48413159e+02 4.03428793e+02]\n",
      " [1.09663316e+03 2.98095799e+03 8.10308393e+03]]\n"
     ]
    }
   ],
   "source": [
    "print(np.exp(a)) # 지수"
   ]
  },
  {
   "cell_type": "code",
   "execution_count": 31,
   "id": "3f6df068",
   "metadata": {},
   "outputs": [
    {
     "name": "stdout",
     "output_type": "stream",
     "text": [
      "[[1.         1.41421356 1.73205081]\n",
      " [2.         2.23606798 2.44948974]\n",
      " [2.64575131 2.82842712 3.        ]]\n"
     ]
    }
   ],
   "source": [
    "print(np.sqrt(a))"
   ]
  },
  {
   "cell_type": "code",
   "execution_count": 33,
   "id": "f83048f6",
   "metadata": {},
   "outputs": [
    {
     "name": "stdout",
     "output_type": "stream",
     "text": [
      "[[ 0.84147098  0.90929743  0.14112001]\n",
      " [-0.7568025  -0.95892427 -0.2794155 ]\n",
      " [ 0.6569866   0.98935825  0.41211849]]\n",
      "[[ 0.54030231 -0.41614684 -0.9899925 ]\n",
      " [-0.65364362  0.28366219  0.96017029]\n",
      " [ 0.75390225 -0.14550003 -0.91113026]]\n",
      "[[ 1.55740772 -2.18503986 -0.14254654]\n",
      " [ 1.15782128 -3.38051501 -0.29100619]\n",
      " [ 0.87144798 -6.79971146 -0.45231566]]\n"
     ]
    }
   ],
   "source": [
    "# 삼각함수\n",
    "print(np.sin(a))\n",
    "print(np.cos(a))\n",
    "print(np.tan(a))"
   ]
  },
  {
   "cell_type": "code",
   "execution_count": 34,
   "id": "be688da7",
   "metadata": {},
   "outputs": [
    {
     "name": "stdout",
     "output_type": "stream",
     "text": [
      "[[0.         0.69314718 1.09861229]\n",
      " [1.38629436 1.60943791 1.79175947]\n",
      " [1.94591015 2.07944154 2.19722458]]\n"
     ]
    }
   ],
   "source": [
    "print(np.log(a)) # 로그"
   ]
  },
  {
   "cell_type": "code",
   "execution_count": 36,
   "id": "d85703f2",
   "metadata": {},
   "outputs": [
    {
     "name": "stdout",
     "output_type": "stream",
     "text": [
      "[[ 30  24  18]\n",
      " [ 84  69  54]\n",
      " [138 114  90]]\n"
     ]
    }
   ],
   "source": [
    "print(np.dot(a, b)) # 행렬의 내적"
   ]
  },
  {
   "cell_type": "markdown",
   "id": "d3490b43",
   "metadata": {},
   "source": [
    "<img src=\"./dot.png\" width=\"1000\" align=\"left\"/>"
   ]
  },
  {
   "cell_type": "markdown",
   "id": "0e6a27a8",
   "metadata": {},
   "source": [
    "배열(행렬) 연산 - 비교 연산"
   ]
  },
  {
   "cell_type": "code",
   "execution_count": 37,
   "id": "e19bd566",
   "metadata": {},
   "outputs": [
    {
     "name": "stdout",
     "output_type": "stream",
     "text": [
      "[[False False False]\n",
      " [False  True False]\n",
      " [False False False]]\n"
     ]
    }
   ],
   "source": [
    "# 배열 요소별 비교: >, >=, <, <=, ==, !=\n",
    "print(a == b)"
   ]
  },
  {
   "cell_type": "code",
   "execution_count": 38,
   "id": "f8d54d15",
   "metadata": {},
   "outputs": [
    {
     "name": "stdout",
     "output_type": "stream",
     "text": [
      "False\n"
     ]
    }
   ],
   "source": [
    "# np.array_equal() 메소드를 사용하면 배열 전체를 비교할 수 있다.\n",
    "print(np.array_equal(a, b))"
   ]
  },
  {
   "cell_type": "markdown",
   "id": "a7a7ea47",
   "metadata": {},
   "source": [
    "집계 함수  \n",
    "numpy의 모든 집계 함수는 axis를 기준으로 계산하며 집계 함수에 axis를 지정하지 않으면 axis=None이 기본값으로 사용된다."
   ]
  },
  {
   "cell_type": "code",
   "execution_count": 39,
   "id": "0cdad9ba",
   "metadata": {},
   "outputs": [
    {
     "name": "stdout",
     "output_type": "stream",
     "text": [
      "type: <class 'numpy.ndarray'>\n",
      "shape: (3, 3), dimension: 2, dtype: int32\n",
      "numpy 배열의 데이터\n",
      "[[1 2 3]\n",
      " [4 5 6]\n",
      " [7 8 9]]\n"
     ]
    }
   ],
   "source": [
    "a = np.arange(1, 10).reshape(3, 3)\n",
    "pprint(a)"
   ]
  },
  {
   "cell_type": "markdown",
   "id": "2aeb57c8",
   "metadata": {},
   "source": [
    "합계: 배열.sum(), np.sum(배열)"
   ]
  },
  {
   "cell_type": "code",
   "execution_count": 43,
   "id": "4471fafa",
   "metadata": {},
   "outputs": [
    {
     "name": "stdout",
     "output_type": "stream",
     "text": [
      "45\n",
      "45\n",
      "45\n",
      "45\n"
     ]
    }
   ],
   "source": [
    "# axis=None\n",
    "# axis=None은 전체 배열을 행과 열을 구분하지 않고 전체 합계를 계산한다. 생략시 기본값으로 사용된다.\n",
    "print(a.sum())\n",
    "print(a.sum(axis=None))\n",
    "print(np.sum(a))\n",
    "print(np.sum(a, axis=None))"
   ]
  },
  {
   "cell_type": "markdown",
   "id": "7ac9b3a2",
   "metadata": {},
   "source": [
    "<img src=\"./numpyImage/numpyImage02.jpg\" width=\"250\" align=\"left\"/>"
   ]
  },
  {
   "cell_type": "code",
   "execution_count": 45,
   "id": "e3d6a657",
   "metadata": {},
   "outputs": [
    {
     "name": "stdout",
     "output_type": "stream",
     "text": [
      "[12 15 18]\n",
      "[12 15 18]\n"
     ]
    }
   ],
   "source": [
    "# axis=0\n",
    "# axis=0은 행을 기준으로 각 행의 동일한 인덱스 요소를 그룹으로 연산한다. => 각 열의 합계\n",
    "print(a.sum(axis=0))\n",
    "print(np.sum(a, axis=0))"
   ]
  },
  {
   "cell_type": "markdown",
   "id": "7f9e477d",
   "metadata": {},
   "source": [
    "<img src=\"./numpyImage/numpyImage03.jpg\" width=\"250\" align=\"left\"/>"
   ]
  },
  {
   "cell_type": "code",
   "execution_count": 46,
   "id": "112f5ff5",
   "metadata": {},
   "outputs": [
    {
     "name": "stdout",
     "output_type": "stream",
     "text": [
      "[ 6 15 24]\n",
      "[ 6 15 24]\n"
     ]
    }
   ],
   "source": [
    "# axis=1\n",
    "# axis=1은 열을 기준으로 각 열의 동일한 인덱스 요소를 그룹으로 연산한다. => 각 행의 합계\n",
    "print(a.sum(axis=1))\n",
    "print(np.sum(a, axis=1))"
   ]
  },
  {
   "cell_type": "markdown",
   "id": "40917d31",
   "metadata": {},
   "source": [
    "<img src=\"./numpyImage/numpyImage04.jpg\" width=\"250\" align=\"left\"/>"
   ]
  },
  {
   "cell_type": "code",
   "execution_count": null,
   "id": "4d1758b5",
   "metadata": {},
   "outputs": [],
   "source": []
  }
 ],
 "metadata": {
  "kernelspec": {
   "display_name": "Python 3",
   "language": "python",
   "name": "python3"
  },
  "language_info": {
   "codemirror_mode": {
    "name": "ipython",
    "version": 3
   },
   "file_extension": ".py",
   "mimetype": "text/x-python",
   "name": "python",
   "nbconvert_exporter": "python",
   "pygments_lexer": "ipython3",
   "version": "3.6.8"
  }
 },
 "nbformat": 4,
 "nbformat_minor": 5
}
