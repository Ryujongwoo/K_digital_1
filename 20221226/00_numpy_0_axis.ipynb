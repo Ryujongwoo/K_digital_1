{
 "cells": [
  {
   "cell_type": "code",
   "execution_count": 1,
   "id": "a2cc359a",
   "metadata": {},
   "outputs": [],
   "source": [
    "import numpy as np"
   ]
  },
  {
   "cell_type": "code",
   "execution_count": 2,
   "id": "1f4e522a",
   "metadata": {},
   "outputs": [
    {
     "name": "stdout",
     "output_type": "stream",
     "text": [
      "[ 0  1  2  3  4  5  6  7  8  9 10 11 12 13 14 15 16 17 18 19 20 21 22 23\n",
      " 24 25 26 27 28 29 30 31]\n",
      "32\n",
      "<class 'numpy.ndarray'>\n",
      "(32,)\n"
     ]
    }
   ],
   "source": [
    "arr = np.arange(0, 32)\n",
    "print(arr)\n",
    "print(len(arr))\n",
    "print(type(arr)) # <class 'numpy.ndarray'>\n",
    "print(arr.shape) # shape: numpy 배열의 구조를 얻어온다."
   ]
  },
  {
   "cell_type": "code",
   "execution_count": 3,
   "id": "3c83665a",
   "metadata": {},
   "outputs": [
    {
     "name": "stdout",
     "output_type": "stream",
     "text": [
      "[[[ 0  1  2  3]\n",
      "  [ 4  5  6  7]]\n",
      "\n",
      " [[ 8  9 10 11]\n",
      "  [12 13 14 15]]\n",
      "\n",
      " [[16 17 18 19]\n",
      "  [20 21 22 23]]\n",
      "\n",
      " [[24 25 26 27]\n",
      "  [28 29 30 31]]]\n",
      "(4, 2, 4)\n"
     ]
    }
   ],
   "source": [
    "# reshape() 메소드는 numpy 배열의 차원을 변경한다. => 전체 데이터 개수는 같아야 한다.\n",
    "v = arr.reshape(4, 2, 4)\n",
    "print(v)\n",
    "print(v.shape)"
   ]
  },
  {
   "cell_type": "markdown",
   "id": "752302c3",
   "metadata": {},
   "source": [
    "<img src=\"./numpyImage/shape1.png\" width=\"600\" align=\"left\"/>"
   ]
  },
  {
   "cell_type": "markdown",
   "id": "2b89cbda",
   "metadata": {},
   "source": [
    "<img src=\"./numpyImage/shape2.png\" width=\"600\" align=\"left\"/>"
   ]
  },
  {
   "cell_type": "markdown",
   "id": "2fd61a39",
   "metadata": {},
   "source": [
    "numpy의 sum() 메소드 작동 방식"
   ]
  },
  {
   "cell_type": "code",
   "execution_count": 4,
   "id": "a96518ae",
   "metadata": {},
   "outputs": [
    {
     "name": "stdout",
     "output_type": "stream",
     "text": [
      "3\n"
     ]
    }
   ],
   "source": [
    "# sum() 메소드의 axis 속성의 기본값은 None이고 axis는 대상 차원보다 작은 값을 설정한다.\n",
    "# 위의 예제에서는 데이터의 차원이 3이기 때문에 axis 속성은 2까지 지정할 수 있다.\n",
    "print(v.ndim) # ndim: numpy 배열의 차원(Dimension)을 얻어온다."
   ]
  },
  {
   "cell_type": "code",
   "execution_count": 5,
   "id": "80944953",
   "metadata": {},
   "outputs": [
    {
     "name": "stdout",
     "output_type": "stream",
     "text": [
      "(4, 2, 4)\n",
      "496\n",
      "496\n"
     ]
    }
   ],
   "source": [
    "# axis=None\n",
    "# axis를 기본값으로 실행하면 대상 데이터의 모든 요소의 합계를 리턴한다. 면, 행, 열을 구분하지 않고 전체 합계를 계산한다.\n",
    "# 대상 데이터에 포함된 모든 요소를 단순히 합산하는 연산이 실행된다.\n",
    "print(v.shape)\n",
    "print(v.sum()) # print(v.sum(axis=None))와 같은 표현이다.\n",
    "print(v.sum(axis=None))"
   ]
  },
  {
   "cell_type": "code",
   "execution_count": 6,
   "id": "3f9c12bf",
   "metadata": {},
   "outputs": [
    {
     "name": "stdout",
     "output_type": "stream",
     "text": [
      "(2, 4)\n",
      "2\n",
      "[[48 52 56 60]\n",
      " [64 68 72 76]]\n"
     ]
    }
   ],
   "source": [
    "# axis=0\n",
    "# axis=0는 x축을 기준으로 계산한 합계를 리턴한다.\n",
    "# shape이 (4, 2, 4)인 데이터를 x축을 기준을 계산한 결과 shape은 면이 제거되고 (2, 4)이 리턴된다.\n",
    "res = v.sum(axis=0)\n",
    "print(res.shape)\n",
    "print(res.ndim)\n",
    "print(res)"
   ]
  },
  {
   "cell_type": "markdown",
   "id": "290e528c",
   "metadata": {},
   "source": [
    "axis=0은 가장 외곽의 괄호를 제거하는 이미지를 생각하면 된다.  \n",
    "아래 그림처럼 가장 외곽의 괄호를 제거하고 각 행의 데이터는 위치별로 합계를 계산한다.  \n",
    "<img src=\"./numpyImage/shape3.png\" width=\"1000\" align=\"left\"/>"
   ]
  },
  {
   "cell_type": "markdown",
   "id": "39680ef9",
   "metadata": {},
   "source": [
    "<img src=\"./numpyImage/shape4.png\" width=\"600\" align=\"left\"/>"
   ]
  },
  {
   "cell_type": "code",
   "execution_count": 7,
   "id": "ecb4032e",
   "metadata": {},
   "outputs": [
    {
     "name": "stdout",
     "output_type": "stream",
     "text": [
      "(4, 4)\n",
      "2\n",
      "[[ 4  6  8 10]\n",
      " [20 22 24 26]\n",
      " [36 38 40 42]\n",
      " [52 54 56 58]]\n"
     ]
    }
   ],
   "source": [
    "# axis=1\n",
    "# axis=1는 y축을 기준으로 계산한 합계를 리턴한다.\n",
    "# shape이 (4, 2, 4)인 데이터를 y축을 기준을 계산한 결과 shape은 행이 제거되고 (4, 4)이 리턴된다.\n",
    "res = v.sum(axis=1)\n",
    "print(res.shape)\n",
    "print(res.ndim)\n",
    "print(res)"
   ]
  },
  {
   "cell_type": "markdown",
   "id": "6c901a01",
   "metadata": {},
   "source": [
    "axis=1은 가운데 괄호를 제거하는 이미지를 생각하면 된다.  \n",
    "아래 그림처럼 가운데 괄호를 제거하고 각 행의 데이터는 위치별로 합계를 계산한다.  \n",
    "<img src=\"./numpyImage/shape5.png\" width=\"1000\" align=\"left\"/>"
   ]
  },
  {
   "cell_type": "markdown",
   "id": "b00a4583",
   "metadata": {},
   "source": [
    "<img src=\"./numpyImage/shape6.png\" width=\"600\" align=\"left\"/>"
   ]
  },
  {
   "cell_type": "code",
   "execution_count": 8,
   "id": "c3997185",
   "metadata": {},
   "outputs": [
    {
     "name": "stdout",
     "output_type": "stream",
     "text": [
      "(4, 2)\n",
      "2\n",
      "[[  6  22]\n",
      " [ 38  54]\n",
      " [ 70  86]\n",
      " [102 118]]\n"
     ]
    }
   ],
   "source": [
    "# axis=2\n",
    "# axis=2는 z축을 기준으로 계산한 합계를 리턴한다.\n",
    "# shape이 (4, 2, 4)인 데이터를 y축을 기준을 계산한 결과 shape은 열이 제거되고 (4, 2)이 리턴된다.\n",
    "res = v.sum(axis=2)\n",
    "print(res.shape)\n",
    "print(res.ndim)\n",
    "print(res)"
   ]
  },
  {
   "cell_type": "markdown",
   "id": "b7ef454c",
   "metadata": {},
   "source": [
    "axis=2은 가장 안쪽 괄호를 제거하는 이미지를 생각하면 된다.  \n",
    "아래 그림처럼 가운데 괄호를 제거하고 각 행의 데이터는 위치별로 합계를 계산한다.  \n",
    "<img src=\"./numpyImage/shape7.png\" width=\"1000\" align=\"left\"/>"
   ]
  },
  {
   "cell_type": "markdown",
   "id": "fe6f83c6",
   "metadata": {},
   "source": [
    "<img src=\"./numpyImage/shape8.png\" width=\"600\" align=\"left\"/>"
   ]
  }
 ],
 "metadata": {
  "kernelspec": {
   "display_name": "Python 3",
   "language": "python",
   "name": "python3"
  },
  "language_info": {
   "codemirror_mode": {
    "name": "ipython",
    "version": 3
   },
   "file_extension": ".py",
   "mimetype": "text/x-python",
   "name": "python",
   "nbconvert_exporter": "python",
   "pygments_lexer": "ipython3",
   "version": "3.6.8"
  }
 },
 "nbformat": 4,
 "nbformat_minor": 5
}
