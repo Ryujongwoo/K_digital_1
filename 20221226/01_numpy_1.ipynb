{
 "cells": [
  {
   "cell_type": "code",
   "execution_count": 1,
   "id": "27fd54be",
   "metadata": {},
   "outputs": [],
   "source": [
    "# jupyter notebook 경고 메시지 숨기기\n",
    "# jupyter notebook를 사용하다 보면 향후 버전이 올라갈 때 변경될 사항을 알려주는 경고 메시지가 거슬릴 때가 있다.\n",
    "# 이럴 때, warnings 라이브러리를 사용한다.\n",
    "import warnings\n",
    "warnings.filterwarnings('ignore') # 경고 메시지를 무시하고 숨긴다.\n",
    "# warnings.filterwarnings('default') # 경고 메시지를 다시 표시한다."
   ]
  },
  {
   "cell_type": "markdown",
   "id": "d57df160",
   "metadata": {},
   "source": [
    "파이썬 기반 데이터 분석 환경에서 numpy는 행렬 연산을 위한 핵심 라이브러리이다.  \n",
    "numpy는 대규모 다차원 배열과 행렬 연산에 필요한 다양한 함수를 제공하고 특히 메모리 버퍼에 배열 데이터를 저장하고 처리하는 효율적인 인터페이스를 제공한다.  \n",
    "파이썬의 list 객체를 개선한 numpy의 ndarray 객체를 사용하면 더 많은 데이터를 더 빠르게 처리할 수 있다."
   ]
  },
  {
   "cell_type": "markdown",
   "id": "25abc280",
   "metadata": {},
   "source": [
    "numpy의 특징  \n",
    "&nbsp;&nbsp;1. 강력한 n차원 배열 객체  \n",
    "&nbsp;&nbsp;2. 정교한 브로드캐스팅(다대일 연산) 기능  \n",
    "&nbsp;&nbsp;3. c/c++ 및 fortran 코드 통합 도구  \n",
    "&nbsp;&nbsp;4. 유연한 선형 대수학, 푸리에 변환 및 난수 기능  \n",
    "&nbsp;&nbsp;5. 범용적 처리에 사용 가능한 다차원 컨테이너"
   ]
  },
  {
   "cell_type": "markdown",
   "id": "e8c462db",
   "metadata": {},
   "source": [
    "numpy 데이터 타입"
   ]
  },
  {
   "cell_type": "code",
   "execution_count": 2,
   "id": "d2dc6bf5",
   "metadata": {},
   "outputs": [],
   "source": [
    "# numpy는 다음과 같은 데이터 타입을 지원한다. 배열을 만들 때 dtype 속성으로 데이터 타입을 지정할 수 있다.\n",
    "# np.int64: 64비트 정수(고정 소숫점) 타입\n",
    "# np.float32: 32비트 실수(부동 소숫점) 타입\n",
    "# np.complex: 복소수 타입\n",
    "# np.bool: 불린(논리값) 타입\n",
    "# np.object: 파이썬 객체 타입\n",
    "# np.string_: 스트링 타입\n",
    "# np.unicode_: 유니코드 타입"
   ]
  },
  {
   "cell_type": "code",
   "execution_count": 3,
   "id": "40728fc3",
   "metadata": {},
   "outputs": [
    {
     "name": "stdout",
     "output_type": "stream",
     "text": [
      "1.19.5\n"
     ]
    }
   ],
   "source": [
    "import numpy as np\n",
    "print(np.__version__) # __version__: 라이브러리의 버전을 얻어온다."
   ]
  },
  {
   "cell_type": "code",
   "execution_count": 4,
   "id": "c6510c41",
   "metadata": {},
   "outputs": [],
   "source": [
    "# numpy는 다차원 배열을 지원하고 numpy 배열의 구조는 shape으로 표현한다.\n",
    "# shape은 배열의 구조를 튜플 자료형을 사용해서 정의한다.\n",
    "# 예를 들어 28 * 28 컬러 사진은 폭이 28 픽셀, 높이 28 픽셀, 각 픽셀은 3개의 채널(RGB)로 구성된 구조를 가진다.\n",
    "# 따라서 컬러 사진의 데이터 구조는 shape(28, 28, 3)인 3차원 배열이 된다.\n",
    "# 다차원 배열은 입체적인 구조를 가지며 데이터의 차원은 여러 갈래의 데이터 방향(axis)을 가진다.\n",
    "# 3차원 배열의 데이터 방향은 면은 axis=0, 행은 axis=1, 열은 axis=2로 지정한다."
   ]
  },
  {
   "cell_type": "markdown",
   "id": "b4bd1a97",
   "metadata": {},
   "source": [
    "<img src=\"./numpyImage/numpyImage01.jpg\" width=\"800\" align=\"left\"/>"
   ]
  },
  {
   "cell_type": "code",
   "execution_count": 5,
   "id": "b372447f",
   "metadata": {},
   "outputs": [],
   "source": [
    "# numpy 배열 객체 정보 출력용으로 사용할 함수 선언\n",
    "def pprint(arr):\n",
    "    print('type: {}'.format(type(arr)))\n",
    "    print('shape: {}, dimension: {}, dtype: {}'.format(arr.shape, arr.ndim, arr.dtype))\n",
    "    print('numpy 배열의 데이터\\n', arr, sep='')"
   ]
  },
  {
   "cell_type": "markdown",
   "id": "5d48c00f",
   "metadata": {},
   "source": [
    "파이썬 list 객체로 numpy 배열을 생성할 수 있다.  \n",
    "인수로 list 객체와 데이터의 타입(dtype, 생략가능)을 입력해 numpy 배열을 생성하고 dtype을 생략하면 인수로 넘어오는 list 객체의 데이터 타입으로 dtype이 설정된다."
   ]
  },
  {
   "cell_type": "code",
   "execution_count": 6,
   "id": "bca8cd1e",
   "metadata": {},
   "outputs": [
    {
     "name": "stdout",
     "output_type": "stream",
     "text": [
      "<class 'list'>\n",
      "[1, 2, 3]\n",
      "==================================================\n",
      "type: <class 'numpy.ndarray'>\n",
      "shape: (3,), dimension: 1, dtype: int32\n",
      "numpy 배열의 데이터\n",
      "[1 2 3]\n"
     ]
    }
   ],
   "source": [
    "# 파이썬 1차원 list로 numpy 배열 만들기\n",
    "arr = [1, 2, 3]\n",
    "print(type(arr))\n",
    "print(arr)\n",
    "print('=' * 50)\n",
    "# array() 메소드는 인수로 list 객체를 넘겨받아 numpy 배열을 만든다.\n",
    "# 정수형 데이터의 dtype 기본값은 np.int이고 32비트 정수 데이터를 의미한다. => np.int32와 같다.\n",
    "# 정수형 데이터의 dtype는 np.int, np.int8, np.int16, np.int32, np.int64를 사용할 수 있다.\n",
    "a = np.array(arr)\n",
    "pprint(a)"
   ]
  },
  {
   "cell_type": "code",
   "execution_count": 7,
   "id": "82239eaf",
   "metadata": {},
   "outputs": [
    {
     "name": "stdout",
     "output_type": "stream",
     "text": [
      "<class 'list'>\n",
      "[[1, 2, 3], [4, 5, 6]]\n",
      "==================================================\n",
      "type: <class 'numpy.ndarray'>\n",
      "shape: (2, 3), dimension: 2, dtype: float64\n",
      "numpy 배열의 데이터\n",
      "[[1. 2. 3.]\n",
      " [4. 5. 6.]]\n"
     ]
    }
   ],
   "source": [
    "# 파이썬 2차원 list로 numpy 배열 만들기\n",
    "arr = [[1, 2, 3], [4, 5, 6]]\n",
    "print(type(arr))\n",
    "print(arr)\n",
    "print('=' * 50)\n",
    "# 실수형 데이터의 dtype 기본값은 np.float이고 64비트 실수 데이터를 의미한다. => np.float64와 같다.\n",
    "# 정수형 데이터의 dtype는 np.float, np.float16, np.float32, np.float64를 사용할 수 있다.\n",
    "a = np.array(arr, dtype=np.float)\n",
    "pprint(a)"
   ]
  },
  {
   "cell_type": "code",
   "execution_count": 8,
   "id": "5512f35c",
   "metadata": {},
   "outputs": [
    {
     "name": "stdout",
     "output_type": "stream",
     "text": [
      "<class 'list'>\n",
      "[[[1, 2, 3], [4, 5, 6]], [[11, 22, 33], [44, 55, 66]]]\n",
      "==================================================\n",
      "type: <class 'numpy.ndarray'>\n",
      "shape: (2, 2, 3), dimension: 3, dtype: int32\n",
      "numpy 배열의 데이터\n",
      "[[[ 1  2  3]\n",
      "  [ 4  5  6]]\n",
      "\n",
      " [[11 22 33]\n",
      "  [44 55 66]]]\n"
     ]
    }
   ],
   "source": [
    "# 파이썬 3차원 list로 numpy 배열 만들기\n",
    "arr = [[[1, 2, 3], [4, 5, 6]], [[11, 22, 33], [44, 55, 66]]]\n",
    "print(type(arr))\n",
    "print(arr)\n",
    "print('=' * 50)\n",
    "# dtype에 numpy 자료형이 아닌 파이썬 자료형을 사용할 수 있다. => int, float만 사용가능\n",
    "# int는 np.int(np.int32)와 같과 float는 np.float(np.float64)와 같다.\n",
    "a = np.array(arr, dtype=int)\n",
    "pprint(a)"
   ]
  },
  {
   "cell_type": "markdown",
   "id": "f36affe4",
   "metadata": {},
   "source": [
    "numpy는 원하는 shape으로 배열을 생성하고 각 요소들을 특정 값으로 초기화시키는 메소드를 제공한다."
   ]
  },
  {
   "cell_type": "code",
   "execution_count": 9,
   "id": "d7bea7fb",
   "metadata": {},
   "outputs": [
    {
     "name": "stdout",
     "output_type": "stream",
     "text": [
      "type: <class 'numpy.ndarray'>\n",
      "shape: (3, 4), dimension: 2, dtype: int32\n",
      "numpy 배열의 데이터\n",
      "[[0 0 0 0]\n",
      " [0 0 0 0]\n",
      " [0 0 0 0]]\n"
     ]
    }
   ],
   "source": [
    "# np.zeros() 메소드는 지정된 shape 만큼의 배열을 생성하고 모든 요소를 0으로 초기화시킨다. => 영행렬\n",
    "# np.zeros(shape[, dtype, order]) # dtype와 order는 생략 가능하다.\n",
    "# order => 2차원 이상의 배열일 경우 데이터가 채워지는 방식을 지정한다.\n",
    "# c, c++, java, c#, python => 행 우선 방식, fortran => 열 우선 방식\n",
    "# a = np.zeros(shape=(3, 4)) # dtype이 numpy 기본값 float64로 지정된다.\n",
    "a = np.zeros(shape=(3, 4), dtype=np.int) # dtype을 지정하면 지정된 dtype으로 배열이 만들어진다.\n",
    "# a = np.zeros(shape=(3, 4), dtype=np.int, order='f')\n",
    "pprint(a)"
   ]
  },
  {
   "cell_type": "code",
   "execution_count": 10,
   "id": "07711ec6",
   "metadata": {},
   "outputs": [
    {
     "name": "stdout",
     "output_type": "stream",
     "text": [
      "type: <class 'numpy.ndarray'>\n",
      "shape: (2, 3, 4), dimension: 3, dtype: int32\n",
      "numpy 배열의 데이터\n",
      "[[[1 1 1 1]\n",
      "  [1 1 1 1]\n",
      "  [1 1 1 1]]\n",
      "\n",
      " [[1 1 1 1]\n",
      "  [1 1 1 1]\n",
      "  [1 1 1 1]]]\n"
     ]
    }
   ],
   "source": [
    "# np.ones() 메소드는 지정된 shape 만큼의 배열을 생성하고 모든 요소를 1로 초기화시킨다.\n",
    "# np.ones(shape[, dtype, order])\n",
    "a = np.ones(shape=(2, 3, 4), dtype=np.int)\n",
    "pprint(a)"
   ]
  },
  {
   "cell_type": "code",
   "execution_count": 11,
   "id": "97ce6fc7",
   "metadata": {},
   "outputs": [
    {
     "name": "stdout",
     "output_type": "stream",
     "text": [
      "type: <class 'numpy.ndarray'>\n",
      "shape: (2, 3), dimension: 2, dtype: int32\n",
      "numpy 배열의 데이터\n",
      "[[7 7 7]\n",
      " [7 7 7]]\n"
     ]
    }
   ],
   "source": [
    "# np.full() 메소드는 지정된 shape 만큼의 배열을 생성하고 모든 요소를 특정 값으로 초기화시킨다.\n",
    "# np.ones(shape, fill_value, [, dtype, order])\n",
    "a = np.full(shape=(2, 3), fill_value=7, dtype=np.int)\n",
    "pprint(a)"
   ]
  },
  {
   "cell_type": "code",
   "execution_count": 12,
   "id": "7b42939b",
   "metadata": {},
   "outputs": [
    {
     "name": "stdout",
     "output_type": "stream",
     "text": [
      "type: <class 'numpy.ndarray'>\n",
      "shape: (5, 5), dimension: 2, dtype: float64\n",
      "numpy 배열의 데이터\n",
      "[[1. 0. 0. 0. 0.]\n",
      " [0. 1. 0. 0. 0.]\n",
      " [0. 0. 1. 0. 0.]\n",
      " [0. 0. 0. 1. 0.]\n",
      " [0. 0. 0. 0. 1.]]\n"
     ]
    }
   ],
   "source": [
    "# np.eye() 메소드는 지정된 shape 만큼의 크기를 가지는 단위 행렬(주 대각 요소만 1이고 나머지는 0인 행렬)을 만든다.\n",
    "# np.eye(n, dtype) # n행 n열 크기의 단위 행렬을 만든다.\n",
    "a = np.eye(5)\n",
    "pprint(a)"
   ]
  },
  {
   "cell_type": "code",
   "execution_count": 13,
   "id": "561dd24a",
   "metadata": {},
   "outputs": [
    {
     "name": "stdout",
     "output_type": "stream",
     "text": [
      "type: <class 'numpy.ndarray'>\n",
      "shape: (4, 2), dimension: 2, dtype: float64\n",
      "numpy 배열의 데이터\n",
      "[[0.00000000e+000 0.00000000e+000]\n",
      " [0.00000000e+000 0.00000000e+000]\n",
      " [0.00000000e+000 7.96433821e-321]\n",
      " [1.95820759e-306 4.22790855e-307]]\n"
     ]
    }
   ],
   "source": [
    "# np.empty() 메소드는 지정된 shape 만큼의 크기를 가지는 배열을 만들기만 하고 초기화를 하지 않는다. => 쓰레기가 저장된다.\n",
    "# np.empty(shape, dtype, order)\n",
    "a = np.empty(shape=(4, 2))\n",
    "pprint(a)"
   ]
  },
  {
   "cell_type": "markdown",
   "id": "79a1bd83",
   "metadata": {},
   "source": [
    "like 메소드  \n",
    "numpy는 인수로 지정한 배열과 shape이 같은 배열을 만드는 like 메소드를 제공한다.  \n",
    "np.zeros_like(), np.ones_like(), np.full_like(), np.empty_like()"
   ]
  },
  {
   "cell_type": "code",
   "execution_count": 14,
   "id": "8603c71d",
   "metadata": {},
   "outputs": [
    {
     "name": "stdout",
     "output_type": "stream",
     "text": [
      "[[1 2 3]\n",
      " [4 5 6]]\n",
      "[[0 0 0]\n",
      " [0 0 0]]\n",
      "[[1 1 1]\n",
      " [1 1 1]]\n",
      "[[999 999 999]\n",
      " [999 999 999]]\n",
      "[[-1465051616         537           0]\n",
      " [          0           1           0]]\n"
     ]
    }
   ],
   "source": [
    "a = np.array([[1, 2, 3], [4, 5, 6]])\n",
    "print(a)\n",
    "b = np.zeros_like(a)\n",
    "print(b)\n",
    "c = np.ones_like(a)\n",
    "print(c)\n",
    "d = np.full_like(a, 999)\n",
    "print(d)\n",
    "e = np.empty_like(a)\n",
    "print(e)"
   ]
  },
  {
   "cell_type": "markdown",
   "id": "70715a4b",
   "metadata": {},
   "source": [
    "데이터 생성 메소드  \n",
    "numpy는 주어진 조건으로 데이터를 생성한 후 배열을 만드는 데이터 생성 메소드를 제공한다.  \n",
    "np.linspace(), np.arange(), np.logspace()"
   ]
  },
  {
   "cell_type": "code",
   "execution_count": 15,
   "id": "5ad31611",
   "metadata": {},
   "outputs": [],
   "source": [
    "# !pip install matplotlib\n",
    "import matplotlib.pyplot as plt # 시각화 라이브러리"
   ]
  },
  {
   "cell_type": "code",
   "execution_count": 16,
   "id": "0262cb09",
   "metadata": {},
   "outputs": [],
   "source": [
    "# 쥬피터 노트북에 그래프를 표시하기 위해 실행한다.\n",
    "# %matplotlib inline\n",
    "# %matplotlib notebook"
   ]
  },
  {
   "cell_type": "code",
   "execution_count": 17,
   "id": "af3a441f",
   "metadata": {
    "scrolled": false
   },
   "outputs": [
    {
     "name": "stdout",
     "output_type": "stream",
     "text": [
      "type: <class 'numpy.ndarray'>\n",
      "shape: (5,), dimension: 1, dtype: float64\n",
      "numpy 배열의 데이터\n",
      "[0.   0.25 0.5  0.75 1.  ]\n"
     ]
    },
    {
     "data": {
      "image/png": "[encoded data removed]",
      "text/plain": [
       "<Figure size 576x432 with 1 Axes>"
      ]
     },
     "metadata": {
      "needs_background": "light"
     },
     "output_type": "display_data"
    }
   ],
   "source": [
    "# linspace() 메소드는 start 부터 stop의 범위에서 num개를 균일한 간격으로 데이터를 생성하고 배열을 만든다.\n",
    "# np.linspace(start, stop, num)\n",
    "a = np.linspace(0, 1, 5)\n",
    "pprint(a)\n",
    "# np.linspace() 메소드 실행 결과 시각화\n",
    "plt.figure(figsize=(8, 6))\n",
    "plt.plot(a, 'r*')\n",
    "plt.show()"
   ]
  },
  {
   "cell_type": "code",
   "execution_count": 18,
   "id": "f07d0154",
   "metadata": {},
   "outputs": [
    {
     "name": "stdout",
     "output_type": "stream",
     "text": [
      "type: <class 'numpy.ndarray'>\n",
      "shape: (5,), dimension: 1, dtype: float32\n",
      "numpy 배열의 데이터\n",
      "[0. 2. 4. 6. 8.]\n"
     ]
    },
    {
     "data": {
      "image/png": "[encoded data removed]",
      "text/plain": [
       "<Figure size 576x432 with 1 Axes>"
      ]
     },
     "metadata": {
      "needs_background": "light"
     },
     "output_type": "display_data"
    }
   ],
   "source": [
    "# arange() 메소드는 start 부터 stop 미만까지 step 간격으로 데이터를 생성하고 배열을 만든다.\n",
    "# np.arange([start, ]stop[, step, dtype])\n",
    "# linspace()는 요소의 개수를 지정해 배열을 만들지만 arange()는 요소의 개수가 아닌 데이터의 간격을 기준으로 균등한 간격의\n",
    "# 배열을 만든다.\n",
    "# start를 생략하면 0, step을 생략하면 1이 기본값으로 사용된다.\n",
    "# np.arange(10), np.arange(0, 10), np.arange(0, 10, 1)은 모두 같은 기능이 실행된다.\n",
    "a = np.arange(0, 10, 2, dtype=np.float32)\n",
    "pprint(a)\n",
    "# np.arange() 메소드 실행 결과 시각화\n",
    "plt.figure(figsize=(8, 6))\n",
    "plt.plot(a, 'bs')\n",
    "plt.show()"
   ]
  },
  {
   "cell_type": "code",
   "execution_count": 19,
   "id": "77c1b84a",
   "metadata": {},
   "outputs": [
    {
     "name": "stdout",
     "output_type": "stream",
     "text": [
      "type: <class 'numpy.ndarray'>\n",
      "shape: (100,), dimension: 1, dtype: float64\n",
      "numpy 배열의 데이터\n",
      "[   2.            2.13008218    2.26862504    2.41617889    2.5733298\n",
      "    2.74070197    2.91896021    3.10881256    3.31101312    3.52636502\n",
      "    3.75572364    4.            4.26016436    4.53725009    4.83235778\n",
      "    5.14665959    5.48140394    5.83792042    6.21762513    6.62202624\n",
      "    7.05273004    7.51144729    8.            8.52032872    9.07450018\n",
      "    9.66471556   10.29331918   10.96280788   11.67584085   12.43525025\n",
      "   13.24405248   14.10546008   15.02289457   16.           17.04065743\n",
      "   18.14900036   19.32943111   20.58663837   21.92561576   23.35168169\n",
      "   24.87050051   26.48810496   28.21092016   30.04578914   32.\n",
      "   34.08131486   36.29800071   38.65886222   41.17327674   43.85123151\n",
      "   46.70336338   49.74100102   52.97620991   56.42184032   60.09157828\n",
      "   64.           68.16262972   72.59600142   77.31772444   82.34655347\n",
      "   87.70246302   93.40672676   99.48200203  105.95241983  112.84368064\n",
      "  120.18315656  128.          136.32525945  145.19200284  154.63544888\n",
      "  164.69310695  175.40492604  186.81345353  198.96400407  211.90483965\n",
      "  225.68736128  240.36631313  256.          272.6505189   290.38400568\n",
      "  309.27089777  329.38621389  350.80985209  373.62690705  397.92800813\n",
      "  423.8096793   451.37472256  480.73262626  512.          545.30103779\n",
      "  580.76801136  618.54179554  658.77242778  701.61970418  747.25381411\n",
      "  795.85601627  847.6193586   902.74944512  961.46525252 1024.        ]\n"
     ]
    },
    {
     "data": {
      "image/png": "[encoded data removed]",
      "text/plain": [
       "<Figure size 576x432 with 1 Axes>"
      ]
     },
     "metadata": {
      "needs_background": "light"
     },
     "output_type": "display_data"
    }
   ],
   "source": [
    "# logspace() 메소드는 로그 스케일로 지정된 범위(start 부터 stop 사이)에서 num개 만큼 균등한 간격으로 데이터를 생성하고 배열을\n",
    "# 만든다.\n",
    "# np.logspace(start, end, num[, base]) # base를 생략하면 10이 기본값으로 사용된다.\n",
    "a = np.logspace(1, 10, 100, base=2)\n",
    "pprint(a)\n",
    "# np.logspace() 메소드 실행 결과 시각화\n",
    "plt.figure(figsize=(8, 6))\n",
    "plt.plot(a)\n",
    "plt.show()"
   ]
  },
  {
   "cell_type": "markdown",
   "id": "55d087ec",
   "metadata": {},
   "source": [
    "난수 기반 배열 생성  \n",
    "넘파이는 난수 발생 및 배열을 생성하는 random 모듈을 제공하고 다음과 같은 함수를 사용할 수 있다.  \n",
    "np.random.normal(), np.random.randn(), np.random.rand(), np.random.randint(), np.random.random()"
   ]
  },
  {
   "cell_type": "code",
   "execution_count": 20,
   "id": "fc46dc52",
   "metadata": {},
   "outputs": [
    {
     "name": "stdout",
     "output_type": "stream",
     "text": [
      "type: <class 'numpy.ndarray'>\n",
      "shape: (10,), dimension: 1, dtype: float64\n",
      "numpy 배열의 데이터\n",
      "[ 1.45262736 -0.16133473  0.62764031  0.33308573 -1.39412916  1.8569602\n",
      "  1.78834932  1.54583721 -0.67367544 -0.05958797]\n"
     ]
    },
    {
     "data": {
      "image/png": "[encoded data removed]",
      "text/plain": [
       "<Figure size 576x432 with 1 Axes>"
      ]
     },
     "metadata": {
      "needs_background": "light"
     },
     "output_type": "display_data"
    }
   ],
   "source": [
    "# normal() 함수는 정규 분포를 따르는 난수 데이터를 생성하고 배열을 만든다.\n",
    "# np.random.normal(평균, 표준편차, 난수의 개수)\n",
    "a = np.random.normal(0, 1, 10)\n",
    "pprint(a)\n",
    "\n",
    "# 히스토그램으로 실행 결과 시각화\n",
    "plt.figure(figsize=(8, 6))\n",
    "plt.hist(a)\n",
    "plt.show()"
   ]
  },
  {
   "cell_type": "code",
   "execution_count": 21,
   "id": "2103665e",
   "metadata": {},
   "outputs": [
    {
     "data": {
      "image/png": "[encoded data removed]",
      "text/plain": [
       "<Figure size 576x432 with 1 Axes>"
      ]
     },
     "metadata": {
      "needs_background": "light"
     },
     "output_type": "display_data"
    }
   ],
   "source": [
    "# normal() 함수가 생성한 난수는 정규 분포의 형상을 가진다.\n",
    "a = np.random.normal(0, 1, 10000)\n",
    "plt.figure(figsize=(8, 6))\n",
    "# hist() 메소드에 bins 옵션으로 히스토그램 막대(구간)의 개수를 지정할 수 있다.\n",
    "plt.hist(a, bins=100)\n",
    "plt.show()"
   ]
  },
  {
   "cell_type": "code",
   "execution_count": 22,
   "id": "c1b2ca5c",
   "metadata": {},
   "outputs": [
    {
     "name": "stdout",
     "output_type": "stream",
     "text": [
      "type: <class 'numpy.ndarray'>\n",
      "shape: (10,), dimension: 1, dtype: float64\n",
      "numpy 배열의 데이터\n",
      "[ 0.79246852  0.04273728  0.07633081  0.72453741 -0.78802784  0.50599545\n",
      "  0.59231486  0.89393711  1.26480242  0.02918388]\n"
     ]
    },
    {
     "data": {
      "image/png": "[encoded data removed]",
      "text/plain": [
       "<Figure size 576x432 with 1 Axes>"
      ]
     },
     "metadata": {
      "needs_background": "light"
     },
     "output_type": "display_data"
    }
   ],
   "source": [
    "# randn() 함수는 표준 정규 분포를 따르는 난수 데이터를 생성하고 배열을 만든다. \n",
    "# np.random.randn(난수의 개수)\n",
    "a = np.random.randn(10)\n",
    "pprint(a)\n",
    "plt.figure(figsize=(8, 6))\n",
    "plt.hist(a)\n",
    "plt.show()"
   ]
  },
  {
   "cell_type": "code",
   "execution_count": 23,
   "id": "3d72fdad",
   "metadata": {},
   "outputs": [
    {
     "name": "stdout",
     "output_type": "stream",
     "text": [
      "type: <class 'numpy.ndarray'>\n",
      "shape: (10000,), dimension: 1, dtype: float64\n",
      "numpy 배열의 데이터\n",
      "[ 0.16424436 -0.83726606 -1.27571991 ...  0.48618336  0.66685086\n",
      " -0.67445185]\n"
     ]
    },
    {
     "data": {
      "image/png": "[encoded data removed]",
      "text/plain": [
       "<Figure size 576x432 with 1 Axes>"
      ]
     },
     "metadata": {
      "needs_background": "light"
     },
     "output_type": "display_data"
    }
   ],
   "source": [
    "a = np.random.randn(10000)\n",
    "pprint(a)\n",
    "plt.figure(figsize=(8, 6))\n",
    "plt.hist(a, bins=100)\n",
    "plt.show()"
   ]
  },
  {
   "cell_type": "code",
   "execution_count": 24,
   "id": "6fe2173b",
   "metadata": {},
   "outputs": [
    {
     "name": "stdout",
     "output_type": "stream",
     "text": [
      "type: <class 'numpy.ndarray'>\n",
      "shape: (2, 3), dimension: 2, dtype: float64\n",
      "numpy 배열의 데이터\n",
      "[[-0.65747339  0.52785059 -0.17900184]\n",
      " [-0.17752376 -0.31163488 -1.2180028 ]]\n"
     ]
    }
   ],
   "source": [
    "a = np.random.randn(2, 3)\n",
    "pprint(a)"
   ]
  },
  {
   "cell_type": "code",
   "execution_count": 25,
   "id": "b9ffe1e4",
   "metadata": {},
   "outputs": [
    {
     "name": "stdout",
     "output_type": "stream",
     "text": [
      "type: <class 'numpy.ndarray'>\n",
      "shape: (10,), dimension: 1, dtype: float64\n",
      "numpy 배열의 데이터\n",
      "[0.72135066 0.7426975  0.46203806 0.11768695 0.56414169 0.13397222\n",
      " 0.14170409 0.20450241 0.60121518 0.82661079]\n"
     ]
    },
    {
     "data": {
      "image/png": "[encoded data removed]",
      "text/plain": [
       "<Figure size 576x432 with 1 Axes>"
      ]
     },
     "metadata": {
      "needs_background": "light"
     },
     "output_type": "display_data"
    }
   ],
   "source": [
    "# rand() 함수는 0 ~ 1 사이의 균등 분포를 따르는 난수 데이터를 생성하고 배열을 만든다.\n",
    "# np.random.rand(난수의 개수)\n",
    "a = np.random.rand(10)\n",
    "pprint(a)\n",
    "plt.figure(figsize=(8, 6))\n",
    "plt.hist(a)\n",
    "plt.show()"
   ]
  },
  {
   "cell_type": "code",
   "execution_count": 26,
   "id": "9ecc8adf",
   "metadata": {},
   "outputs": [
    {
     "name": "stdout",
     "output_type": "stream",
     "text": [
      "type: <class 'numpy.ndarray'>\n",
      "shape: (10000,), dimension: 1, dtype: float64\n",
      "numpy 배열의 데이터\n",
      "[0.25507404 0.68393457 0.58312486 ... 0.28765684 0.68053033 0.54361994]\n"
     ]
    },
    {
     "data": {
      "image/png": "[encoded data removed]",
      "text/plain": [
       "<Figure size 576x432 with 1 Axes>"
      ]
     },
     "metadata": {
      "needs_background": "light"
     },
     "output_type": "display_data"
    }
   ],
   "source": [
    "a = np.random.rand(10000)\n",
    "pprint(a)\n",
    "plt.figure(figsize=(8, 6))\n",
    "plt.hist(a, bins=100)\n",
    "plt.show()"
   ]
  },
  {
   "cell_type": "code",
   "execution_count": 27,
   "id": "6260a3dd",
   "metadata": {},
   "outputs": [
    {
     "name": "stdout",
     "output_type": "stream",
     "text": [
      "type: <class 'numpy.ndarray'>\n",
      "shape: (3, 4), dimension: 2, dtype: float64\n",
      "numpy 배열의 데이터\n",
      "[[0.35947532 0.89218243 0.98309283 0.01032139]\n",
      " [0.20644671 0.17539378 0.59277925 0.27680513]\n",
      " [0.67263474 0.96140538 0.50162616 0.40556161]]\n"
     ]
    }
   ],
   "source": [
    "a = np.random.rand(3, 4)\n",
    "pprint(a)"
   ]
  },
  {
   "cell_type": "code",
   "execution_count": 28,
   "id": "63cd4bab",
   "metadata": {},
   "outputs": [
    {
     "name": "stdout",
     "output_type": "stream",
     "text": [
      "type: <class 'numpy.ndarray'>\n",
      "shape: (6,), dimension: 1, dtype: int32\n",
      "numpy 배열의 데이터\n",
      "[45  6  7 12 27  4]\n"
     ]
    }
   ],
   "source": [
    "# randint() 함수는 지정된 크기만큼 low 부터 high 미만의 범위에서 난수를 정수 데이터로 생성하고 배열을 만든다.\n",
    "# np.random.randint(low, high, size)\n",
    "a = np.random.randint(1, 46, size=6)\n",
    "pprint(a)"
   ]
  },
  {
   "cell_type": "code",
   "execution_count": 29,
   "id": "8224e4e3",
   "metadata": {},
   "outputs": [
    {
     "data": {
      "image/png": "[encoded data removed]",
      "text/plain": [
       "<Figure size 576x432 with 1 Axes>"
      ]
     },
     "metadata": {
      "needs_background": "light"
     },
     "output_type": "display_data"
    }
   ],
   "source": [
    "# -100에서 100 사이의 난수를 발생시킨다.\n",
    "a = np.random.randint(-100, 100, size=10000)\n",
    "plt.figure(figsize=(8, 6))\n",
    "plt.hist(a, bins=100)\n",
    "plt.show()"
   ]
  },
  {
   "cell_type": "code",
   "execution_count": 30,
   "id": "3f4284b1",
   "metadata": {},
   "outputs": [
    {
     "name": "stdout",
     "output_type": "stream",
     "text": [
      "type: <class 'numpy.ndarray'>\n",
      "shape: (2, 4), dimension: 2, dtype: float64\n",
      "numpy 배열의 데이터\n",
      "[[0.35585821 0.98718948 0.48445543 0.29596959]\n",
      " [0.66733219 0.3559931  0.19008474 0.91841596]]\n"
     ]
    }
   ],
   "source": [
    "# random() 함수는 0 부터 1 사이의 균등 분포에서 난수로 데이터를 생성하고 배열을 만든다.\n",
    "# np.random.random(size)\n",
    "a = np.random.random(size=(2, 4))\n",
    "pprint(a)"
   ]
  },
  {
   "cell_type": "code",
   "execution_count": 31,
   "id": "3d702db2",
   "metadata": {},
   "outputs": [
    {
     "data": {
      "image/png": "[encoded data removed]",
      "text/plain": [
       "<Figure size 576x432 with 1 Axes>"
      ]
     },
     "metadata": {
      "needs_background": "light"
     },
     "output_type": "display_data"
    }
   ],
   "source": [
    "a = np.random.random(size=10000)\n",
    "plt.figure(figsize=(8, 6))\n",
    "plt.hist(a, bins=100)\n",
    "plt.show()"
   ]
  },
  {
   "cell_type": "markdown",
   "id": "7f6b532b",
   "metadata": {},
   "source": [
    "약속된 난수  \n",
    "무작위 수를 발생시키는 난수 발생 함수는 특정 시작 숫자로부터 난수처럼 보이는 수열을 만드는 알고리즘의 결과물이다.  \n",
    "따라서 시작점을 설정하면 난수 발생을 재연할 수 있다. => 매번 같은 배열의 난수가 발생되게 할 수 있다."
   ]
  },
  {
   "cell_type": "code",
   "execution_count": 32,
   "id": "8f71163a",
   "metadata": {},
   "outputs": [
    {
     "name": "stdout",
     "output_type": "stream",
     "text": [
      "[[0.54340494 0.27836939 0.42451759]\n",
      " [0.84477613 0.00471886 0.12156912]]\n",
      "[[2 2 2]\n",
      " [1 0 8]]\n"
     ]
    }
   ],
   "source": [
    "# seed() 함수로 매번 같은 배열의 난수를 얻을 수 있다.\n",
    "np.random.seed(100)\n",
    "print(np.random.random((2, 3)))\n",
    "print(np.random.randint(0, 10, (2, 3)))"
   ]
  },
  {
   "cell_type": "markdown",
   "id": "1c6fdecf",
   "metadata": {},
   "source": [
    "배열의 상태 검사"
   ]
  },
  {
   "cell_type": "code",
   "execution_count": 33,
   "id": "276a164d",
   "metadata": {},
   "outputs": [],
   "source": [
    "# numpy는 배열의 상태를 검사하는 다음과 같은 방법을 제공한다.\n",
    "# 배열 속성 검사 항목   배열 속성 확인 방법        예시                 결과\n",
    "# 배열 shape            넘파이배열.shape           arr.shape            (5, 2, 3)\n",
    "# 배열 길이             len(넘파이배열)            len(arr)             5\n",
    "# 배열 차원             넘파이배열.ndim            arr.ndim             3\n",
    "# 배열 요소 수          넘파이배열.size            arr.size             30\n",
    "# 배열 타입             넘파이배열.dtype           arr.dtype            dtype('float64')\n",
    "# 배열 타입 이름        넘파이배열.dtype.name      arr.dtype.name       float64\n",
    "# 배열 타입 변환        넘파이배열.astype() 함수   arr.astype(np.int)"
   ]
  },
  {
   "cell_type": "code",
   "execution_count": 34,
   "id": "6aa79bfa",
   "metadata": {},
   "outputs": [
    {
     "name": "stdout",
     "output_type": "stream",
     "text": [
      "type: <class 'numpy.ndarray'>\n",
      "shape: (2, 3, 6), dimension: 3, dtype: float64\n",
      "numpy 배열의 데이터\n",
      "[[[0.06368104 0.62431189 0.52334774 0.56229626 0.00581719 0.30742321]\n",
      "  [0.95018431 0.12665424 0.07898787 0.31135313 0.63238359 0.69935892]\n",
      "  [0.64196495 0.92002378 0.29887635 0.56874553 0.17862432 0.5325737 ]]\n",
      "\n",
      " [[0.64669147 0.14206538 0.58138896 0.47918994 0.38641911 0.44046495]\n",
      "  [0.40475733 0.44225404 0.03012328 0.77600531 0.55095838 0.3810734 ]\n",
      "  [0.52926578 0.9568769  0.17582131 0.11830284 0.86294567 0.07486688]]]\n"
     ]
    }
   ],
   "source": [
    "arr = np.random.random((2, 3, 6))\n",
    "pprint(arr)"
   ]
  },
  {
   "cell_type": "markdown",
   "id": "5e4a44f0",
   "metadata": {},
   "source": [
    "numpy 배열 객체는 다음과 같은 방법으로 속성을 확인할 수 있다."
   ]
  },
  {
   "cell_type": "code",
   "execution_count": 35,
   "id": "7b03762d",
   "metadata": {},
   "outputs": [
    {
     "name": "stdout",
     "output_type": "stream",
     "text": [
      "배열의 타입: <class 'numpy.ndarray'>\n"
     ]
    }
   ],
   "source": [
    "print('배열의 타입: {}'.format(type(arr)))"
   ]
  },
  {
   "cell_type": "code",
   "execution_count": 36,
   "id": "27e9a77b",
   "metadata": {},
   "outputs": [
    {
     "name": "stdout",
     "output_type": "stream",
     "text": [
      "배열의 shape: (2, 3, 6)\n"
     ]
    }
   ],
   "source": [
    "print('배열의 shape: {}'.format(arr.shape))"
   ]
  },
  {
   "cell_type": "code",
   "execution_count": 41,
   "id": "41e28b6c",
   "metadata": {},
   "outputs": [
    {
     "name": "stdout",
     "output_type": "stream",
     "text": [
      "배열의 길이(면): 2\n",
      "배열의 길이(행): 3\n",
      "배열의 길이(열): 6\n"
     ]
    }
   ],
   "source": [
    "print('배열의 길이(면): {}'.format(len(arr)))\n",
    "print('배열의 길이(행): {}'.format(len(arr[0])))\n",
    "print('배열의 길이(열): {}'.format(len(arr[0][0])))"
   ]
  },
  {
   "cell_type": "code",
   "execution_count": 42,
   "id": "629d3ffb",
   "metadata": {},
   "outputs": [
    {
     "name": "stdout",
     "output_type": "stream",
     "text": [
      "배열의 차원: 3\n"
     ]
    }
   ],
   "source": [
    "print('배열의 차원: {}'.format(arr.ndim))"
   ]
  },
  {
   "cell_type": "code",
   "execution_count": 43,
   "id": "b734b7aa",
   "metadata": {},
   "outputs": [
    {
     "name": "stdout",
     "output_type": "stream",
     "text": [
      "배열의 요소 개수: 36\n"
     ]
    }
   ],
   "source": [
    "print('배열의 요소 개수: {}'.format(arr.size))"
   ]
  },
  {
   "cell_type": "code",
   "execution_count": 46,
   "id": "539bedf2",
   "metadata": {},
   "outputs": [
    {
     "name": "stdout",
     "output_type": "stream",
     "text": [
      "배열의 데이터 타입: float64\n",
      "배열의 데이터 타입 이름: float64\n"
     ]
    }
   ],
   "source": [
    "print('배열의 데이터 타입: {}'.format(arr.dtype))\n",
    "print('배열의 데이터 타입 이름: {}'.format(arr.dtype.name))"
   ]
  },
  {
   "cell_type": "code",
   "execution_count": 48,
   "id": "f0f1ebb6",
   "metadata": {},
   "outputs": [
    {
     "name": "stdout",
     "output_type": "stream",
     "text": [
      "[[[0 0 0 0 0 0]\n",
      "  [0 0 0 0 0 0]\n",
      "  [0 0 0 0 0 0]]\n",
      "\n",
      " [[0 0 0 0 0 0]\n",
      "  [0 0 0 0 0 0]\n",
      "  [0 0 0 0 0 0]]]\n",
      "type: <class 'numpy.ndarray'>\n",
      "shape: (2, 3, 6), dimension: 3, dtype: float64\n",
      "numpy 배열의 데이터\n",
      "[[[0.06368104 0.62431189 0.52334774 0.56229626 0.00581719 0.30742321]\n",
      "  [0.95018431 0.12665424 0.07898787 0.31135313 0.63238359 0.69935892]\n",
      "  [0.64196495 0.92002378 0.29887635 0.56874553 0.17862432 0.5325737 ]]\n",
      "\n",
      " [[0.64669147 0.14206538 0.58138896 0.47918994 0.38641911 0.44046495]\n",
      "  [0.40475733 0.44225404 0.03012328 0.77600531 0.55095838 0.3810734 ]\n",
      "  [0.52926578 0.9568769  0.17582131 0.11830284 0.86294567 0.07486688]]]\n",
      "type: <class 'numpy.ndarray'>\n",
      "shape: (2, 3, 6), dimension: 3, dtype: int32\n",
      "numpy 배열의 데이터\n",
      "[[[0 0 0 0 0 0]\n",
      "  [0 0 0 0 0 0]\n",
      "  [0 0 0 0 0 0]]\n",
      "\n",
      " [[0 0 0 0 0 0]\n",
      "  [0 0 0 0 0 0]\n",
      "  [0 0 0 0 0 0]]]\n"
     ]
    }
   ],
   "source": [
    "# 배열 요소를 정수(int)로 변환한다.\n",
    "print(arr.astype(np.int)) # 배열 요소의 실제 값이 변환되는 것이 아니고 화면에 보여주기만 한다.\n",
    "pprint(arr)\n",
    "arr = arr.astype(np.int)\n",
    "pprint(arr)"
   ]
  },
  {
   "cell_type": "code",
   "execution_count": null,
   "id": "924c24ee",
   "metadata": {},
   "outputs": [],
   "source": []
  }
 ],
 "metadata": {
  "kernelspec": {
   "display_name": "Python 3",
   "language": "python",
   "name": "python3"
  },
  "language_info": {
   "codemirror_mode": {
    "name": "ipython",
    "version": 3
   },
   "file_extension": ".py",
   "mimetype": "text/x-python",
   "name": "python",
   "nbconvert_exporter": "python",
   "pygments_lexer": "ipython3",
   "version": "3.6.8"
  }
 },
 "nbformat": 4,
 "nbformat_minor": 5
}
