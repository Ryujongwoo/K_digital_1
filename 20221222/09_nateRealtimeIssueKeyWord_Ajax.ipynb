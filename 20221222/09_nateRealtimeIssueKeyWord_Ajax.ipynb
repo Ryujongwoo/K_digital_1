{
 "cells": [
  {
   "cell_type": "code",
   "execution_count": 1,
   "id": "74f228ce",
   "metadata": {},
   "outputs": [],
   "source": [
    "import warnings\n",
    "warnings.filterwarnings(action='ignore')\n",
    "import requests\n",
    "# from bs4 import BeautifulSoup # html 문서를 파싱할 때 사용하므로 json 형태로 넘어오는 데이터에는 사용하지 않는다.\n",
    "import json # json 형태의 문자열을 파이썬에서 처리하기 위해 import 한다."
   ]
  },
  {
   "cell_type": "markdown",
   "id": "e757b1c2",
   "metadata": {},
   "source": [
    "<img src=\"./nateAjax.png\" width=\"1000\" align=\"left\"/>"
   ]
  },
  {
   "cell_type": "markdown",
   "id": "23379391",
   "metadata": {},
   "source": [
    "<img src=\"./nateAjax2.png\" width=\"800\" align=\"left\"/>"
   ]
  },
  {
   "cell_type": "code",
   "execution_count": 2,
   "id": "63067f77",
   "metadata": {},
   "outputs": [
    {
     "name": "stdout",
     "output_type": "stream",
     "text": [
      "<Response [200]>\n"
     ]
    }
   ],
   "source": [
    "# 실시간 검색어가 웹 페이지에 전부 혹은 일부가 포함되어있지 않고 ajax를 이용해서 받아는 방식이 사용된다.\n",
    "# Request Method가 GET이므로 requests 모듈의 get() 메소드를 사용해서 실시간 검색어를 받아온다.\n",
    "targetSite = 'https://www.nate.com/js/data/jsonLiveKeywordDataV1.js?v=202212221635'\n",
    "req = requests.get(targetSite)\n",
    "print(req)\n",
    "# 파이썬은 한글 encoding이 유니코드(utf-8)로 되어있기 때문에 'euc-kr'로 encoding된 사이트를 크롤링 할 때 한글이 깨지면\n",
    "# 아래와 같이 한글 encoding을 바꿔주면 된다.\n",
    "req.encoding = 'euc-kr'"
   ]
  },
  {
   "cell_type": "code",
   "execution_count": 3,
   "id": "82afc322",
   "metadata": {},
   "outputs": [
    {
     "name": "stdout",
     "output_type": "stream",
     "text": [
      "[[\"1\",  \"이다희\",  \"s\",  \"0\",  \"이다희\"], [\"2\",  \"김건희 여사 찾아\",  \"s\",  \"0\",  \"김건희 여사 찾아\"], [\"3\",  \"7호선\",  \"n\",  \"0\",  \"7호선\"], [\"4\",  \"결혼지옥\",  \"-\",  \"1\",  \"결혼지옥\"], [\"5\",  \"성관계 몰카 회장\",  \"-\",  \"1\",  \"성관계 몰카 회장\"], [\"6\",  \"송혜교\",  \"n\",  \"0\",  \"송혜교\"], [\"7\",  \"제주 유명식당 대표\",  \"-\",  \"2\",  \"제주 유명식당 대표\"], [\"8\",  \"크리스마스 오신 대체공휴일\",  \"-\",  \"2\",  \"크리스마스 오신 대체공휴일\"], [\"9\",  \"불타는 트롯맨\",  \"-\",  \"2\",  \"미스터트롯 불타는 트롯\"], [\"10\",  \"김신영 종료 송은이\",  \"-\",  \"2\",  \"김신영 종료 송은이\"]]\n",
      "<class 'str'>\n"
     ]
    }
   ],
   "source": [
    "issues = req.text\n",
    "print(issues)\n",
    "print(type(issues))"
   ]
  },
  {
   "cell_type": "code",
   "execution_count": 4,
   "id": "5eccb8dd",
   "metadata": {},
   "outputs": [
    {
     "name": "stdout",
     "output_type": "stream",
     "text": [
      "[['1', '이다희', 's', '0', '이다희'], ['2', '김건희 여사 찾아', 's', '0', '김건희 여사 찾아'], ['3', '7호선', 'n', '0', '7호선'], ['4', '결혼지옥', '-', '1', '결혼지옥'], ['5', '성관계 몰카 회장', '-', '1', '성관계 몰카 회장'], ['6', '송혜교', 'n', '0', '송혜교'], ['7', '제주 유명식당 대표', '-', '2', '제주 유명식당 대표'], ['8', '크리스마스 오신 대체공휴일', '-', '2', '크리스마스 오신 대체공휴일'], ['9', '불타는 트롯맨', '-', '2', '미스터트롯 불타는 트롯'], ['10', '김신영 종료 송은이', '-', '2', '김신영 종료 송은이']]\n",
      "<class 'list'>\n"
     ]
    }
   ],
   "source": [
    "# json 형태로 얻어온 실시간 이슈 키워드는 json 모듈의 loads() 메소드를 사용해서 파이썬에서 처리할 수 있는 데이터 타입으로\n",
    "# 변환시켜 처리한다.\n",
    "# loads() 메소드는 json 형태의 문자열이 {}를 포함하면 딕셔너리로 {}없이 []만 포함하면 리스트 형태로 자동 변환시킨다.\n",
    "# ranks = json.loads(issues)\n",
    "\n",
    "# requests 모듈을 사용해 응답받은 객체에서 json() 메소드를 실행하면 json 모듈의 loads() 메소드를 실행한 것과 같은 기능이\n",
    "# 실행된다.\n",
    "ranks = req.json()\n",
    "print(ranks)\n",
    "print(type(ranks))"
   ]
  },
  {
   "cell_type": "code",
   "execution_count": 5,
   "id": "671e7921",
   "metadata": {},
   "outputs": [
    {
     "name": "stdout",
     "output_type": "stream",
     "text": [
      " 1위: 이다희[-]\n",
      " 2위: 김건희 여사 찾아[-]\n",
      " 3위: 7호선[new]\n",
      " 4위: 결혼지옥[↓1]\n",
      " 5위: 성관계 몰카 회장[↓1]\n",
      " 6위: 송혜교[new]\n",
      " 7위: 제주 유명식당 대표[↓2]\n",
      " 8위: 크리스마스 오신 대체공휴일[↓2]\n",
      " 9위: 불타는 트롯맨[↓2]\n",
      "10위: 김신영 종료 송은이[↓2]\n"
     ]
    }
   ],
   "source": [
    "for rank in ranks:\n",
    "    print('{:>2s}위: {}'.format(rank[0], rank[1]), end='')\n",
    "    if rank[2] == '+':\n",
    "        print('[{}{}]'.format('↑', rank[3]))\n",
    "    elif rank[2] == '-':\n",
    "        print('[{}{}]'.format('↓', rank[3]))\n",
    "    elif rank[2] == 's':\n",
    "        print('[-]')\n",
    "    else:\n",
    "        print('[new]')"
   ]
  },
  {
   "cell_type": "code",
   "execution_count": null,
   "id": "ddab1a4f",
   "metadata": {},
   "outputs": [],
   "source": []
  },
  {
   "cell_type": "code",
   "execution_count": null,
   "id": "a4588296",
   "metadata": {},
   "outputs": [],
   "source": []
  },
  {
   "cell_type": "code",
   "execution_count": null,
   "id": "7d696d44",
   "metadata": {},
   "outputs": [],
   "source": []
  },
  {
   "cell_type": "code",
   "execution_count": null,
   "id": "f860dc66",
   "metadata": {},
   "outputs": [],
   "source": []
  }
 ],
 "metadata": {
  "kernelspec": {
   "display_name": "Python 3",
   "language": "python",
   "name": "python3"
  },
  "language_info": {
   "codemirror_mode": {
    "name": "ipython",
    "version": 3
   },
   "file_extension": ".py",
   "mimetype": "text/x-python",
   "name": "python",
   "nbconvert_exporter": "python",
   "pygments_lexer": "ipython3",
   "version": "3.6.8"
  }
 },
 "nbformat": 4,
 "nbformat_minor": 5
}
