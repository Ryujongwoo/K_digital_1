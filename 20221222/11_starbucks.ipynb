{
 "cells": [
  {
   "cell_type": "code",
   "execution_count": 1,
   "id": "fe9b8cd1",
   "metadata": {},
   "outputs": [],
   "source": [
    "import warnings\n",
    "warnings.filterwarnings(action='ignore')\n",
    "import requests\n",
    "import json"
   ]
  },
  {
   "cell_type": "markdown",
   "id": "ff7a9a14",
   "metadata": {},
   "source": [
    "시도코드 크롤링"
   ]
  },
  {
   "cell_type": "code",
   "execution_count": 2,
   "id": "5d9c3f58",
   "metadata": {
    "scrolled": false
   },
   "outputs": [
    {
     "name": "stdout",
     "output_type": "stream",
     "text": [
      "{'01': '서울', '08': '경기', '02': '광주', '03': '대구', '04': '대전', '05': '부산', '06': '울산', '07': '인천', '09': '강원', '10': '경남', '11': '경북', '12': '전남', '13': '전북', '14': '충남', '15': '충북', '16': '제주', '17': '세종'}\n"
     ]
    }
   ],
   "source": [
    "targetSite = 'https://www.starbucks.co.kr/store/getSidoList.do'\n",
    "# Request URL(https://www.starbucks.co.kr/store/getSidoList.do)을 요청하는 Request Method가 POST이므로 requests 모듈의\n",
    "# post() 메소드를 사용해서 서버에 요청한다.\n",
    "# POST 방식으로 요청할 때는 data 속성에 딕셔너리 형태로 서버로 전송할 데이터를 넣어줘야 하는데 서버로 전송할 데이터가 \n",
    "# 없으면 data 속성은 생략해도 된다.\n",
    "req = requests.post(targetSite)\n",
    "# print(req) # <Response [200]> => 요청 성공\n",
    "\n",
    "# starbucks = req.text\n",
    "# print(starbucks)\n",
    "# print(type(starbucks)) # <class 'str'>\n",
    "\n",
    "# json 모듈의 loads() 메소드를 사용하거나 requests 객체의 json() 메소드를 사용해서 문자열을 파이썬에서 사용할 수 있는\n",
    "# 자료형(리스트 또는 딕셔너리)으로 변환해서 처리한다.\n",
    "# sidoList = json.loads(starbucks)\n",
    "sidoList = req.json()\n",
    "# print(sidoList)\n",
    "# print(type(sidoList)) # <class 'dict'>\n",
    "\n",
    "# sidoList에는 문자열 형태의 json 데이터가 파이썬이 처리할 수 있는 딕셔너리 형태로 변경되서 저장되었다.\n",
    "# 딕셔너리로 변환된 데이터에서 'list'라는 key에 할당된 시도 정보를 얻어온다.\n",
    "# print(sidoList.get('list'))\n",
    "# print(type(sidoList.get('list'))) # <class 'list'>\n",
    "# print(sidoList['list'])\n",
    "# print(type(sidoList['list'])) # <class 'list'>\n",
    "\n",
    "# 시도코드의 개수만큼 반복하며 시도코드('sido_cd')를 key로 하고 시도이름('sido_nm')을 value로 하는 딕셔너리를 만든다.\n",
    "sido_list = {}\n",
    "for sido in sidoList['list']:\n",
    "    # print(type(sido))\n",
    "    # print('{}: {}'.format(sido.get('sido_cd'), sido['sido_nm']))\n",
    "    # 딕셔너리이름[key] = value\n",
    "    sido_list[sido.get('sido_cd')] = sido['sido_nm']\n",
    "print(sido_list)"
   ]
  },
  {
   "cell_type": "code",
   "execution_count": null,
   "id": "3bf12251",
   "metadata": {},
   "outputs": [],
   "source": []
  },
  {
   "cell_type": "code",
   "execution_count": null,
   "id": "c47cd445",
   "metadata": {},
   "outputs": [],
   "source": []
  },
  {
   "cell_type": "code",
   "execution_count": null,
   "id": "59305478",
   "metadata": {},
   "outputs": [],
   "source": []
  },
  {
   "cell_type": "code",
   "execution_count": null,
   "id": "7bb63f07",
   "metadata": {},
   "outputs": [],
   "source": []
  }
 ],
 "metadata": {
  "kernelspec": {
   "display_name": "Python 3",
   "language": "python",
   "name": "python3"
  },
  "language_info": {
   "codemirror_mode": {
    "name": "ipython",
    "version": 3
   },
   "file_extension": ".py",
   "mimetype": "text/x-python",
   "name": "python",
   "nbconvert_exporter": "python",
   "pygments_lexer": "ipython3",
   "version": "3.6.8"
  }
 },
 "nbformat": 4,
 "nbformat_minor": 5
}
