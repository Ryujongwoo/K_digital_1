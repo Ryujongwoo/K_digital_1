{
 "cells": [
  {
   "cell_type": "markdown",
   "id": "3260bfeb",
   "metadata": {},
   "source": [
    "# 유용한 단축키\n",
    "자동완성: tab  \n",
    "코드실행: ctrl + enter => 셀 실행, shift + enter => 셀 실행 후 다음 셀로 이동  \n",
    "함수 설명보기: shift + tab  \n",
    "현재 셀 위에 빈 셀 삽입: a  \n",
    "현재 셀 아래에 빈 셀 삽입: b  \n",
    "현재 셀 삭제: dd  \n",
    "현재 셀 복사: c  \n",
    "현재 셀 자르기: x  \n",
    "현재 셀 아래에 복사 또는 잘라낸 셀 붙이기: v  \n",
    "코드 셀을 마크다운 셀로 바꾸기: m  \n",
    "마크다운 셀을 코드 셀로 바꾸기: y"
   ]
  },
  {
   "cell_type": "code",
   "execution_count": null,
   "id": "3a88059c",
   "metadata": {},
   "outputs": [],
   "source": [
    "# '#'으로 시작하면 1줄 주석 => 컴파일러(번역)나 인터프리터(통역)가 번역하지 않는다. => 코드 설명\n",
    "# ''' 부터 ''' 사이에 코딩하면 범위 주석을 지정할 수 있다."
   ]
  },
  {
   "cell_type": "code",
   "execution_count": 59,
   "id": "a7f898e4",
   "metadata": {},
   "outputs": [
    {
     "data": {
      "image/png": "[encoded data removed]",
      "text/plain": [
       "<IPython.core.display.Image object>"
      ]
     },
     "execution_count": 59,
     "metadata": {
      "image/png": {
       "width": "200"
      }
     },
     "output_type": "execute_result"
    }
   ],
   "source": [
    "# jupyter notebook에 코드로 image 넣기\n",
    "from IPython.display import Image\n",
    "Image('./pythonlogo.png', width='200')"
   ]
  },
  {
   "cell_type": "markdown",
   "id": "925fbbc9",
   "metadata": {},
   "source": [
    "마크다운 이미지 넣기  \n",
    "<img src=\"./pythonlogo.png\" align=\"left\" width=\"200\" title=\"파이썬 로고 이미지\"/>"
   ]
  },
  {
   "cell_type": "code",
   "execution_count": 64,
   "id": "f10d25c9",
   "metadata": {},
   "outputs": [
    {
     "name": "stdout",
     "output_type": "stream",
     "text": [
      "Hello Python\n",
      "안녕 파이썬\n",
      "제2외국어를 배운 호랑이가 \"야옹\" 했습니다.\n",
      "제2외국어를 배운 고양이가 '어흥' 했습니다.\n",
      "제2외국어를 배운 호랑이가 '야옹' 했습니다.\n",
      "제2외국어를 배운 고양이가 \"어흥\" 했습니다.\n"
     ]
    }
   ],
   "source": [
    "# 파이썬은 문자열 데이터를 표현할 때 큰따옴표나 작은따옴표로 묶어주면 된다. => 짝만 맞추면 된다.\n",
    "# print() 함수는 별도의 설정을 하지않으면 ()안의 내용을 출력하고 줄을 바꾼다.\n",
    "print('Hello Python')\n",
    "print(\"안녕 파이썬\")\n",
    "print('제2외국어를 배운 호랑이가 \"야옹\" 했습니다.')\n",
    "print(\"제2외국어를 배운 고양이가 '어흥' 했습니다.\")\n",
    "print('제2외국어를 배운 호랑이가 \\'야옹\\' 했습니다.')\n",
    "print(\"제2외국어를 배운 고양이가 \\\"어흥\\\" 했습니다.\")"
   ]
  },
  {
   "cell_type": "code",
   "execution_count": 72,
   "id": "b01644b1",
   "metadata": {},
   "outputs": [
    {
     "name": "stdout",
     "output_type": "stream",
     "text": [
      "Hello\n",
      "Python: 안녕 파이썬\n"
     ]
    }
   ],
   "source": [
    "# print() 함수로 출력 후 줄을 변경하지 않으려면 end 옵션을 사용해야 한다.\n",
    "# end 옵션은 print() 함수로 출력한 후 출력할 내용을 지정한다.\n",
    "# end 옵션을 생략하면 '\\n'이 기본값으로 사용된다. => '\\n' => new line => 줄을 바꾼다.\n",
    "print('Hello\\nPython', end=': ')\n",
    "print(\"안녕 파이썬\")"
   ]
  },
  {
   "cell_type": "code",
   "execution_count": 78,
   "id": "2873e85a",
   "metadata": {},
   "outputs": [
    {
     "name": "stdout",
     "output_type": "stream",
     "text": [
      "Hello Python 안녕 파이썬\n",
      "Hello Python 안녕 파이썬\n",
      "Hello Python, 안녕 파이썬\n",
      "Hello Python|안녕 파이썬\n",
      "Hello Python~(^^!)안녕 파이썬\n"
     ]
    }
   ],
   "source": [
    "# print() 함수로 2개 이상의 데이터를 출력하려면 ','로 구분해서 출력하면 된다.\n",
    "# print() 함수로 출력시 ','로 데이터를 구분하면 sep 옵션에서 지정한 구분자가 데이터와 데이터 사이에 출력된다.\n",
    "# sep 옵션을 생략하면 공백이 기본값으로 사용된다.\n",
    "print('Hello Python', \"안녕 파이썬\")\n",
    "print('Hello Python', \"안녕 파이썬\", sep=' ')\n",
    "print('Hello Python', \"안녕 파이썬\", sep=', ')\n",
    "print('Hello Python', \"안녕 파이썬\", sep='|')\n",
    "print('Hello Python', \"안녕 파이썬\", sep='~(^^!)')"
   ]
  },
  {
   "cell_type": "code",
   "execution_count": 8,
   "id": "efdefa52",
   "metadata": {},
   "outputs": [
    {
     "name": "stdout",
     "output_type": "stream",
     "text": [
      "13\n",
      "58\n"
     ]
    }
   ],
   "source": [
    "print(5 + 8) # 숫자와 숫자 사이에 '+' 연산자를 사용하면 덧셈 연산이 실행된다.\n",
    "print('5' + '8') # 문자열과 문자열 사이에 '+' 연산자를 사용하면 문자열 데이터를 연결해서 출력할 수 있다.\n",
    "# 파이썬은 숫자와 숫자를 '+' 연산자를 사용하면 덧셈 연산을 실행하고 문자열과 문자열에 '+' 연산을 사용하면 연결하지만\n",
    "# 숫자와 문자열 또는 문자열과 숫자 사이에 '+' 연산자를 사용하면 자바와 다르게 에러가 발생된다.\n",
    "# print('5' + 8) # 에러\n",
    "# print(5 + '8') # 에러"
   ]
  },
  {
   "cell_type": "code",
   "execution_count": 7,
   "id": "a6261805",
   "metadata": {},
   "outputs": [
    {
     "name": "stdout",
     "output_type": "stream",
     "text": [
      "13\n",
      "58\n"
     ]
    }
   ],
   "source": [
    "print(int('5') + 8) # int() 함수는 인수로 지정된 데이터를 정수로 변환한다.\n",
    "print(str(5) + '8') # str() 함수는 인수로 지정된 데이터를 문자열로 변환한다."
   ]
  },
  {
   "cell_type": "code",
   "execution_count": 9,
   "id": "b389d660",
   "metadata": {},
   "outputs": [
    {
     "name": "stdout",
     "output_type": "stream",
     "text": [
      "================================================================================\n"
     ]
    }
   ],
   "source": [
    "# '*' 연산자를 사용하면 특정 문자열을 지정한 횟수만큼 반복해서 출력할 수 있다.\n",
    "print('=' * 80)"
   ]
  },
  {
   "cell_type": "markdown",
   "id": "96059440",
   "metadata": {},
   "source": [
    "# '%'와 서식 문자를 사용해 출력하기\n",
    "## 서식 문자\n",
    "d(정수), f(실수), s(문자열)을 사용해서 출력 서식을 지정할 수 있고 출력 서식을 제외한 나머지 문자들은 그대로 출력된다.\n",
    "## 출력 서식의 형식\n",
    "%[-][0][n][.m]서식문자 => [] 안의 내용은 생략할 수 있다.  \n",
    "n: 전체 자리수, 전체 자리수가 지정되면 데이터는 오른쪽으로 정렬되서 출력된다.  \n",
    "-: 전체 자리수가 지정된 경우 데이터를 왼쪽을 정렬해서 출력한다.  \n",
    "0: 전체 자리수가 지정된 경우 숫자 왼쪽 남는자리에 '0'을 채워서 출력한다. 문자열일 경우 무시된다.  \n",
    ".m: 실수를 출력할 경우 소수점 아래 자리수를 지정한다."
   ]
  },
  {
   "cell_type": "code",
   "execution_count": 10,
   "id": "ec371e1a",
   "metadata": {},
   "outputs": [
    {
     "name": "stdout",
     "output_type": "stream",
     "text": [
      "100\n",
      "1\n",
      "10000\n"
     ]
    }
   ],
   "source": [
    "print(100)\n",
    "print(1)\n",
    "print(10000)"
   ]
  },
  {
   "cell_type": "markdown",
   "id": "d1cbd22c",
   "metadata": {},
   "source": [
    "print('출력 서식' % 출력할 데이터) => 출력할 데이터가 1개일 경우"
   ]
  },
  {
   "cell_type": "code",
   "execution_count": 21,
   "id": "b066c439",
   "metadata": {},
   "outputs": [
    {
     "name": "stdout",
     "output_type": "stream",
     "text": [
      "  100\n",
      "    1\n",
      "1    \n",
      "00001\n",
      "10000\n"
     ]
    }
   ],
   "source": [
    "print('%5d' % 100)\n",
    "print('%5d' % 1)\n",
    "print('%-5d' % 1)\n",
    "# 파이썬은 1줄에 1문장 코딩을 원칙으로 하고 부득이하게 1줄에 2문장 이상을 코딩해야 한다면 문장과 문장을 ';'으로 구분한다.\n",
    "print('%05d' % 1); print('%5d' % 10000)"
   ]
  },
  {
   "cell_type": "code",
   "execution_count": 22,
   "id": "9117a6ad",
   "metadata": {},
   "outputs": [
    {
     "name": "stdout",
     "output_type": "stream",
     "text": [
      "abc\n",
      "a\n",
      "abcde\n"
     ]
    }
   ],
   "source": [
    "print('abc')\n",
    "print('a')\n",
    "print('abcde')"
   ]
  },
  {
   "cell_type": "code",
   "execution_count": 27,
   "id": "1d9305fc",
   "metadata": {},
   "outputs": [
    {
     "name": "stdout",
     "output_type": "stream",
     "text": [
      "  abc\n",
      "    a\n",
      "a    \n",
      "    a\n",
      "abcde\n"
     ]
    }
   ],
   "source": [
    "print('%5s' % 'abc')\n",
    "print('%5s' % 'a')\n",
    "print('%-5s' % 'a')\n",
    "print('%05s' % 'a') # C/C++/C#는 0이 출력되고 JAVA는 에러가 발생되고 python은 무시한다.\n",
    "print('%5s' % 'abcde')"
   ]
  },
  {
   "cell_type": "code",
   "execution_count": 32,
   "id": "08ed54a9",
   "metadata": {},
   "outputs": [
    {
     "name": "stdout",
     "output_type": "stream",
     "text": [
      "123.45\n",
      "123.46\n",
      "123.40\n"
     ]
    }
   ],
   "source": [
    "print('%6.2f' % 123.45)\n",
    "print('%6.2f' % 123.456) # 소수점 아래 숫자는 잘리는 자리에서 반올림해 출력한다. => 실제 데이터는 변하지 않는다.\n",
    "print('%6.2f' % 123.4) # 남는 자리는 0을 채워서 출력한다."
   ]
  },
  {
   "cell_type": "markdown",
   "id": "998bf15f",
   "metadata": {},
   "source": [
    "'%'를 사용한 출력 서식에 맞춰 출력할 데이터가 2건 이상이라면 출력할 데이터를 반드시 ()로 묶어야 한다."
   ]
  },
  {
   "cell_type": "code",
   "execution_count": 44,
   "id": "69de65de",
   "metadata": {},
   "outputs": [
    {
     "name": "stdout",
     "output_type": "stream",
     "text": [
      "5 + 3 = 8\n",
      "5 - 3 = 2\n",
      "5 * 3 = 15\n",
      "5 / 3 = 1\n",
      "5 / 3 = 1.666667\n",
      "5 // 3 = 1\n",
      "5 // 3 = 1.000000\n",
      "5 % 3 = 2\n",
      "2의 10승 = 1024\n",
      "루트 2 = 1.414214\n"
     ]
    }
   ],
   "source": [
    "print('%d + %d = %d' % (5, 3, 5 + 3)) # 덧셈\n",
    "print('%d - %d = %d' % (5, 3, 5 - 3)) # 뺄셈\n",
    "print('%d * %d = %d' % (5, 3, 5 * 3)) # 곱셈\n",
    "# 파이썬은 '/' 연산자로 나눗셈을 하면 소수점 아래까지 계산된다.\n",
    "# '/' 연산자는 결과가 실수로 나오지면 출력 서식이 '%d'(정수)로 지정되서 정수만 출력한다.\n",
    "print('%d / %d = %d' % (5, 3, 5 / 3)) # 나눗셈 => 결과가 실수\n",
    "print('%d / %d = %f' % (5, 3, 5 / 3))\n",
    "print('%d // %d = %d' % (5, 3, 5 // 3)) # 나눗셈 => 결과가 정수\n",
    "print('%d // %d = %f' % (5, 3, 5 // 3))\n",
    "# 출력 서식을 지정할 때 '%' 문자 자체를 출력하려면 연속해서 2개를 써야한다.\n",
    "print('%d %% %d = %d' % (5, 3, 5 % 3)) # 나머지\n",
    "print('%d의 %d승 = %d' % (2, 10, 2 ** 10)) # 거듭제곱\n",
    "print('루트 %d = %f' % (2, 2 ** 0.5)) # 제곱근"
   ]
  },
  {
   "cell_type": "code",
   "execution_count": 48,
   "id": "8ae870e3",
   "metadata": {},
   "outputs": [],
   "source": [
    "import math # 수학에 관련된 함수를 사용하려면 import 시킨다."
   ]
  },
  {
   "cell_type": "code",
   "execution_count": 47,
   "id": "16657f3d",
   "metadata": {},
   "outputs": [
    {
     "name": "stdout",
     "output_type": "stream",
     "text": [
      "2의 10승 = 1024\n",
      "루트 2 = 1.414214\n"
     ]
    }
   ],
   "source": [
    "print('%d의 %d승 = %d' % (2, 10, math.pow(2, 10))) # 거듭제곱\n",
    "print('루트 %d = %f' % (2, math.sqrt(2))) # 제곱근"
   ]
  },
  {
   "cell_type": "markdown",
   "id": "d1f879b9",
   "metadata": {},
   "source": [
    "# 산술 연산자 우선순위\n",
    "() → ** → *, /, //, % → +, -"
   ]
  },
  {
   "cell_type": "markdown",
   "id": "0d0aefd6",
   "metadata": {},
   "source": [
    "# {}를 사용한 출력 서식 지정\n",
    "'%'로 서식을 지정할 때는 %d, %f, %s 위치에 데이터가 대입되서 출력되었지만 {}를 사용하면 {}에 데이터가 대입되서 출력된다."
   ]
  },
  {
   "cell_type": "code",
   "execution_count": 53,
   "id": "e05413f5",
   "metadata": {},
   "outputs": [
    {
     "name": "stdout",
     "output_type": "stream",
     "text": [
      "5 + 3 = 8\n",
      "5 - 3 = 2\n",
      "5 * 3 = 15\n",
      "5 / 3 = 1.6666666666666667\n",
      "5 // 3 = 1\n",
      "5 % 3 = 2\n",
      "2의 10승 = 1024\n",
      "루트 2 = 1.4142135623730951\n"
     ]
    }
   ],
   "source": [
    "print('{} + {} = {}'.format(5, 3, 5 + 3))\n",
    "print('{} - {} = {}'.format(5, 3, 5 - 3))\n",
    "print('{} * {} = {}'.format(5, 3, 5 * 3))\n",
    "print('{} / {} = {}'.format(5, 3, 5 / 3))\n",
    "print('{} // {} = {}'.format(5, 3, 5 // 3))\n",
    "print('{} % {} = {}'.format(5, 3, 5 % 3))\n",
    "print('{}의 {}승 = {}'.format(2, 10, 2 ** 10))\n",
    "print('루트 {} = {}'.format(2, 2 ** 0.5))"
   ]
  },
  {
   "cell_type": "markdown",
   "id": "bedd7daf",
   "metadata": {},
   "source": [
    "format() 메소드와 출력할 데이터의 인덱스(일련번호)를 사용해 출력하기 => 인덱스는 0부터 시작된다."
   ]
  },
  {
   "cell_type": "code",
   "execution_count": 56,
   "id": "74d8bb3a",
   "metadata": {},
   "outputs": [
    {
     "name": "stdout",
     "output_type": "stream",
     "text": [
      "홍길동 바보\n",
      "홍길동\n"
     ]
    }
   ],
   "source": [
    "print('{} {}'.format('홍길동', '바보'))\n",
    "# 인덱스를 지정하지 않은 상태에서 아래와 같이 {}가 출력할 데이터보다 많으면 에러가 발생된다.\n",
    "# print('{} {} {}'.format('홍길동', '바보')) # 에러\n",
    "# {}가 모자라면 에러는 발생되지 않고 출력되며 남는 데이터가 무시된다.\n",
    "print('{}'.format('홍길동', '바보'))"
   ]
  },
  {
   "cell_type": "code",
   "execution_count": 65,
   "id": "1ecd5de4",
   "metadata": {},
   "outputs": [
    {
     "name": "stdout",
     "output_type": "stream",
     "text": [
      "홍길동 바보\n",
      "바보 홍길동\n",
      "홍길동 바보 홍길동\n"
     ]
    }
   ],
   "source": [
    "print('{0} {1}'.format('홍길동', '바보'))\n",
    "print('{1} {0}'.format('홍길동', '바보'))\n",
    "# {}에 출력할 데이터의 인덱스를 지정하면 데이터와 {}의 개수가 다르더라도 인덱스 범위만 벗어나지 않으면 정상 출력된다.\n",
    "print('{0} {1} {0}'.format('홍길동', '바보'))\n",
    "# {}에 지정한 인덱스가 인덱스의 범위를 벗어나면 에러가 발생된다.\n",
    "# print('{0} {1} {2}'.format('홍길동', '바보')) # 에러\n",
    "# {}에 인덱스를 부분적으로 지정하면 에러가 발행된다.\n",
    "# print('{0} {1} {}'.format('홍길동', '바보', '멍청이')) # 에러"
   ]
  },
  {
   "cell_type": "markdown",
   "id": "e3aed749",
   "metadata": {},
   "source": [
    "출력 서식과 format() 메소드로 출력할 데이터의 서식을 지정해서 출력하기  \n",
    "{인덱스:출력서식} => 인덱스는 생략할 수 있고 출력 서식에 '%'를 사용하지 않는다."
   ]
  },
  {
   "cell_type": "code",
   "execution_count": 79,
   "id": "9b094502",
   "metadata": {},
   "outputs": [
    {
     "name": "stdout",
     "output_type": "stream",
     "text": [
      "        멜론는(은)   15000원 입니다.\n",
      "멜론는(은) 15000원 입니다.\n",
      "멜론는(은) 15000원 입니다.\n",
      "멜론        는(은)   15000원 입니다.\n",
      "멜론        는(은)   15000원 입니다.\n",
      "멜론        는(은)  15,000원 입니다.\n",
      "멜론        는(은) 12.346%원 입니다.\n"
     ]
    }
   ],
   "source": [
    "print('%10s는(은) %7d원 입니다.' % ('멜론', 15000))\n",
    "print('{}는(은) {}원 입니다.'.format('멜론', 15000))\n",
    "print('{0}는(은) {1}원 입니다.'.format('멜론', 15000))\n",
    "print('{0:10s}는(은) {1:7d}원 입니다.'.format('멜론', 15000))\n",
    "print('{:10s}는(은) {:7d}원 입니다.'.format('멜론', 15000))\n",
    "print('{:10s}는(은) {:7,d}원 입니다.'.format('멜론', 15000)) # 천 단위 구분기호 넣기\n",
    "print('{:10s}는(은) {:7.3%}원 입니다.'.format('멜론', 0.1234567)) # 백분율, 자동으로 100을 곱해서 표시한다."
   ]
  },
  {
   "cell_type": "code",
   "execution_count": 82,
   "id": "4819b579",
   "metadata": {},
   "outputs": [
    {
     "name": "stdout",
     "output_type": "stream",
     "text": [
      "멜론        는(은)   15000원 입니다.\n",
      "멜론        는(은)   15000원 입니다.\n",
      "    멜론    는(은)   15000원 입니다.\n",
      "        멜론는(은)   15000원 입니다.\n"
     ]
    }
   ],
   "source": [
    "# '<', '^', '>'를 사용해서 문자열 정렬 방법을 지정할 수 있다. => '<'가 기본값으로 사용된다.\n",
    "print('{:10s}는(은) {:7d}원 입니다.'.format('멜론', 15000))\n",
    "print('{:<10s}는(은) {:7d}원 입니다.'.format('멜론', 15000))\n",
    "print('{:^10s}는(은) {:7d}원 입니다.'.format('멜론', 15000))\n",
    "print('{:>10s}는(은) {:7d}원 입니다.'.format('멜론', 15000))"
   ]
  },
  {
   "cell_type": "code",
   "execution_count": 90,
   "id": "d44aa12f",
   "metadata": {},
   "outputs": [
    {
     "name": "stdout",
     "output_type": "stream",
     "text": [
      "멜론________는(은)   15000원 입니다.\n",
      "****멜론****는(은)   15000원 입니다.\n",
      "########멜론는(은)   15000원 입니다.\n"
     ]
    }
   ],
   "source": [
    "# 문자열 출력시 남는 자리의 공백을 채울 채움 문자(1글자)를 '<', '^', '>' 앞에 지정할 수 있다.\n",
    "# print('{:_10s}는(은) {:7d}원 입니다.'.format('멜론', 15000)) # 에러\n",
    "print('{:_<10s}는(은) {:7d}원 입니다.'.format('멜론', 15000))\n",
    "print('{:*^10s}는(은) {:7d}원 입니다.'.format('멜론', 15000))\n",
    "print('{:#>10s}는(은) {:7d}원 입니다.'.format('멜론', 15000))"
   ]
  },
  {
   "cell_type": "code",
   "execution_count": 93,
   "id": "34168451",
   "metadata": {},
   "outputs": [
    {
     "name": "stdout",
     "output_type": "stream",
     "text": [
      "홍길동님은 20살 입니다.\n"
     ]
    }
   ],
   "source": [
    "# f접두어를 사용한 출력 => 파이썬 3.6에서 등장\n",
    "name = '홍길동'\n",
    "age = 20\n",
    "print(f'{name}님은 {age}살 입니다.')"
   ]
  },
  {
   "cell_type": "code",
   "execution_count": null,
   "id": "c1128d21",
   "metadata": {},
   "outputs": [],
   "source": []
  },
  {
   "cell_type": "code",
   "execution_count": null,
   "id": "2baa33fa",
   "metadata": {},
   "outputs": [],
   "source": []
  },
  {
   "cell_type": "code",
   "execution_count": null,
   "id": "3bb79027",
   "metadata": {},
   "outputs": [],
   "source": []
  }
 ],
 "metadata": {
  "kernelspec": {
   "display_name": "Python 3",
   "language": "python",
   "name": "python3"
  },
  "language_info": {
   "codemirror_mode": {
    "name": "ipython",
    "version": 3
   },
   "file_extension": ".py",
   "mimetype": "text/x-python",
   "name": "python",
   "nbconvert_exporter": "python",
   "pygments_lexer": "ipython3",
   "version": "3.6.8"
  }
 },
 "nbformat": 4,
 "nbformat_minor": 5
}
