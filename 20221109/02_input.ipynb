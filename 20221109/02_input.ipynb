{
 "cells": [
  {
   "cell_type": "markdown",
   "id": "2d73d439",
   "metadata": {},
   "source": [
    "# 변수\n",
    "변수는 처리할 데이터(상수, constant)를 저장하는 기억장소를 말한다.  \n",
    "\n",
    "변수면 작성방법  \n",
    "영문자(대소문자를 구분한다), 숫자, 특수문자('_'만 가능)를 사용할 수 있으며 반드시 문자로 시작해야 한다.  \n",
    "파이썬 예약어(파이썬과 약속된 단어 => 명령어, 함수이름 등)은 사용할 수 없다."
   ]
  },
  {
   "cell_type": "markdown",
   "id": "dc876b76",
   "metadata": {},
   "source": [
    "파이썬은 C/C++이나 JAVA와 같이 변수 선언시 변수의 자료형을 지정하지 않고 JavaScript 처럼 var, let, const를 붙이지 않고 변수를 선언하고 변수에 저장되는 데이터의 타입에 따라서 자동으로 변수의 자료형이 결정된다.  \n",
    "'='는 같다라는 의미로 사용되지 않고 '=' 오른쪽의 데이터를 '=' 왼쪽의 기억장소에 저장하라는 의미이다. => 대입문, 할당문, 배정문  \n",
    "'=='와 같이 2개를 연속해서 사용해야 같다로 인식한다."
   ]
  },
  {
   "cell_type": "code",
   "execution_count": 1,
   "id": "dbb3aa38",
   "metadata": {},
   "outputs": [
    {
     "name": "stdout",
     "output_type": "stream",
     "text": [
      "홍길동\n",
      "<class 'str'>\n",
      "100\n",
      "<class 'int'>\n",
      "3.14\n",
      "<class 'float'>\n",
      "True\n",
      "<class 'bool'>\n"
     ]
    }
   ],
   "source": [
    "a = '홍길동'\n",
    "print(a)\n",
    "# type() 함수는 인수로 지정된 기억장소의 자료형을 얻어온다.\n",
    "print(type(a)) # <class 'str'> => 문자열\n",
    "a = 100\n",
    "print(a)\n",
    "print(type(a)) # <class 'int'> => 정수\n",
    "a = 3.14\n",
    "print(a)\n",
    "print(type(a)) # <class 'float'> => 실수\n",
    "# True => 참, False => 거짓, 반드시 첫 문자만 대문자로 나머지는 소문자로 작성해야 한다.\n",
    "a = True\n",
    "print(a)\n",
    "print(type(a)) # <class 'bool'> => 논리값"
   ]
  },
  {
   "cell_type": "code",
   "execution_count": 2,
   "id": "1d5d36d4",
   "metadata": {},
   "outputs": [
    {
     "name": "stdout",
     "output_type": "stream",
     "text": [
      "True\n"
     ]
    },
    {
     "ename": "NameError",
     "evalue": "name 'a' is not defined",
     "output_type": "error",
     "traceback": [
      "\u001b[1;31m---------------------------------------------------------------------------\u001b[0m",
      "\u001b[1;31mNameError\u001b[0m                                 Traceback (most recent call last)",
      "\u001b[1;32m<ipython-input-2-0fa2beec6d64>\u001b[0m in \u001b[0;36m<module>\u001b[1;34m\u001b[0m\n\u001b[0;32m      3\u001b[0m \u001b[1;31m# 프로그램 도중에 더 이상 사용할 필요가 없는 기억장소는 del 명령으로 메모리에서 삭제할 수 있다.\u001b[0m\u001b[1;33m\u001b[0m\u001b[1;33m\u001b[0m\u001b[1;33m\u001b[0m\u001b[0m\n\u001b[0;32m      4\u001b[0m \u001b[1;32mdel\u001b[0m \u001b[0ma\u001b[0m\u001b[1;33m\u001b[0m\u001b[1;33m\u001b[0m\u001b[0m\n\u001b[1;32m----> 5\u001b[1;33m \u001b[0mprint\u001b[0m\u001b[1;33m(\u001b[0m\u001b[0ma\u001b[0m\u001b[1;33m)\u001b[0m \u001b[1;31m# 에러\u001b[0m\u001b[1;33m\u001b[0m\u001b[1;33m\u001b[0m\u001b[0m\n\u001b[0m",
      "\u001b[1;31mNameError\u001b[0m: name 'a' is not defined"
     ]
    }
   ],
   "source": [
    "print(a)\n",
    "# 파이썬은 프로그램이 종료되야 기억장소가 메모리에서 제거된다.\n",
    "# 프로그램 도중에 더 이상 사용할 필요가 없는 기억장소는 del 명령으로 메모리에서 삭제할 수 있다.\n",
    "del a\n",
    "print(a) # 에러"
   ]
  },
  {
   "cell_type": "markdown",
   "id": "ccb4c977",
   "metadata": {},
   "source": [
    "# input 함수\n",
    "키보드로 입력하는 데이터를 입력 받을 수 있다. => 무조건 문자열 형태로 입력 받는다.  \n",
    "변수 = input('메시지')"
   ]
  },
  {
   "cell_type": "code",
   "execution_count": 5,
   "id": "eca8a7af",
   "metadata": {},
   "outputs": [
    {
     "name": "stdout",
     "output_type": "stream",
     "text": [
      "이름을 입력하세요: 임꺽정\n",
      "<class 'str'>\n",
      "임꺽정님 안녕하세요\n",
      "임꺽정님 안녕하세요\n",
      "임꺽정님 안녕하세요\n"
     ]
    }
   ],
   "source": [
    "name = input('이름을 입력하세요: ')\n",
    "print(type(name))\n",
    "print('%s님 안녕하세요' % name)\n",
    "print('{}님 안녕하세요'.format(name))\n",
    "print(f'{name}님 안녕하세요')"
   ]
  },
  {
   "cell_type": "markdown",
   "id": "4f3ae340",
   "metadata": {},
   "source": [
    "input() 함수는 무조건 문자열 형태로 데이터를 입력받기 때문에 정수나 실수 형태의 데이터를 입력 받으려면 입력받은 데이터를 int() 함수나 float() 함수를 사용해서 숫자로 변환하면 된다."
   ]
  },
  {
   "cell_type": "code",
   "execution_count": 14,
   "id": "221835f6",
   "metadata": {},
   "outputs": [
    {
     "name": "stdout",
     "output_type": "stream",
     "text": [
      "나이를 입력하세요: 30\n",
      "<class 'int'>\n",
      "임꺽정님은 30살 입니다.\n",
      "임꺽정님은 30살 입니다.\n",
      "임꺽정님은 내년에 31살 입니다.\n"
     ]
    }
   ],
   "source": [
    "age = int(input('나이를 입력하세요: '))\n",
    "print(type(age))\n",
    "print('%s님은 %d살 입니다.' % (name, age))\n",
    "print('{}님은 {}살 입니다.'.format(name, age))\n",
    "# '+' 연산자는 문자열과 문자열(연결), 숫자와 숫자(덧셈)의 연산만 가능하다.\n",
    "print('{}님은 내년에 {}살 입니다.'.format(name, age + 1))"
   ]
  },
  {
   "cell_type": "code",
   "execution_count": 16,
   "id": "f4e06567",
   "metadata": {},
   "outputs": [
    {
     "name": "stdout",
     "output_type": "stream",
     "text": [
      "나이를 입력하세요: 20\n",
      "<class 'str'>\n",
      "임꺽정님은 내년에 21살 입니다.\n"
     ]
    }
   ],
   "source": [
    "age = input('나이를 입력하세요: ')\n",
    "print(type(age))\n",
    "print('{}님은 내년에 {}살 입니다.'.format(name, int(age) + 1))"
   ]
  },
  {
   "cell_type": "markdown",
   "id": "44569530",
   "metadata": {},
   "source": [
    "spilt() 메소드를 사용하면 1개의 input() 함수로 여러개의 데이터를 입력받을 수 있다.  \n",
    "split() 메소드는 인수로 지정된 구분자를 사용해서 문자열을 나눠준다. 인수를 지정하지 않으면 공백이 기본 구분자로 하용된다."
   ]
  },
  {
   "cell_type": "code",
   "execution_count": 17,
   "id": "3d50548a",
   "metadata": {},
   "outputs": [
    {
     "name": "stdout",
     "output_type": "stream",
     "text": [
      "이름과 나이를 입력하세요: 장길산 50\n",
      "장길산님은 50살 입니다.\n",
      "장길산님은 내년에 51살 입니다.\n"
     ]
    }
   ],
   "source": [
    "name, age = input('이름과 나이를 입력하세요: ').split()\n",
    "print('{}님은 {}살 입니다.'.format(name, age))\n",
    "print('{}님은 내년에 {}살 입니다.'.format(name, int(age) + 1))"
   ]
  },
  {
   "cell_type": "code",
   "execution_count": 20,
   "id": "4e85f235",
   "metadata": {},
   "outputs": [
    {
     "name": "stdout",
     "output_type": "stream",
     "text": [
      "세 과목 점수를 입력하세요: 100 100 99\n",
      "총점: 299, 평균: 99.66666666666667\n"
     ]
    }
   ],
   "source": [
    "java, jsp, python = input('세 과목 점수를 입력하세요: ').split()\n",
    "total = int(java) + int(jsp) + int(python)\n",
    "print('총점: {}, 평균: {}'.format(total, total / 3))"
   ]
  },
  {
   "cell_type": "markdown",
   "id": "16ca6228",
   "metadata": {},
   "source": [
    "map() 함수를 사용하면 입력받은 데이터를 split() 메소드로 구분한 후 일괄적으로 변환시킬 수 있다.  \n",
    "map(자료형, input('메시지').split())"
   ]
  },
  {
   "cell_type": "code",
   "execution_count": 21,
   "id": "28d7eae2",
   "metadata": {},
   "outputs": [
    {
     "name": "stdout",
     "output_type": "stream",
     "text": [
      "세 과목 점수를 입력하세요: 100 100 99\n",
      "총점: 299, 평균: 99.66666666666667\n"
     ]
    }
   ],
   "source": [
    "java, jsp, python = map(int, input('세 과목 점수를 입력하세요: ').split())\n",
    "total = java + jsp + python\n",
    "print('총점: {}, 평균: {}'.format(total, total / 3))"
   ]
  },
  {
   "cell_type": "code",
   "execution_count": null,
   "id": "d98f1226",
   "metadata": {},
   "outputs": [],
   "source": []
  },
  {
   "cell_type": "code",
   "execution_count": null,
   "id": "df4182bc",
   "metadata": {},
   "outputs": [],
   "source": []
  },
  {
   "cell_type": "code",
   "execution_count": null,
   "id": "ec6cccf2",
   "metadata": {},
   "outputs": [],
   "source": []
  }
 ],
 "metadata": {
  "kernelspec": {
   "display_name": "Python 3",
   "language": "python",
   "name": "python3"
  },
  "language_info": {
   "codemirror_mode": {
    "name": "ipython",
    "version": 3
   },
   "file_extension": ".py",
   "mimetype": "text/x-python",
   "name": "python",
   "nbconvert_exporter": "python",
   "pygments_lexer": "ipython3",
   "version": "3.6.8"
  }
 },
 "nbformat": 4,
 "nbformat_minor": 5
}
