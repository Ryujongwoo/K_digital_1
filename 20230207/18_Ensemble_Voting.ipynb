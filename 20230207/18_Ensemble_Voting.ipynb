{
 "cells": [
  {
   "cell_type": "code",
   "execution_count": 40,
   "id": "4213a68a",
   "metadata": {},
   "outputs": [],
   "source": [
    "%config Completer.use_jedi = False\n",
    "import warnings\n",
    "warnings.filterwarnings(action='ignore')\n",
    "import pandas as pd\n",
    "import numpy as np\n",
    "import matplotlib.pyplot as plt"
   ]
  },
  {
   "cell_type": "code",
   "execution_count": 41,
   "id": "bdce7eb2",
   "metadata": {},
   "outputs": [],
   "source": [
    "from sklearn import datasets # MNIST 손글씨 데이터셋을 사용하기 위해 import 한다.\n",
    "from sklearn.neighbors import KNeighborsClassifier # kNN\n",
    "from sklearn.svm import SVC # SVM\n",
    "from sklearn import tree # 의사결정 트리\n",
    "from sklearn.ensemble import VotingClassifier # 하드/소프트 보팅을 계산하기 위해 import 한다.\n",
    "from sklearn.model_selection import train_test_split\n",
    "from sklearn.metrics import accuracy_score"
   ]
  },
  {
   "cell_type": "markdown",
   "id": "6b2ca599",
   "metadata": {},
   "source": [
    "손글씨 데이터를 불러온다."
   ]
  },
  {
   "cell_type": "code",
   "execution_count": 42,
   "id": "0b5e68fd",
   "metadata": {},
   "outputs": [
    {
     "name": "stdout",
     "output_type": "stream",
     "text": [
      "(1797, 64) (1797,)\n"
     ]
    }
   ],
   "source": [
    "mnist = datasets.load_digits()\n",
    "features, labels = mnist.data, mnist.target\n",
    "print(features.shape, labels.shape)"
   ]
  },
  {
   "cell_type": "markdown",
   "id": "d23456f9",
   "metadata": {},
   "source": [
    "학습 데이터와 테스트 데이터를 나눈다."
   ]
  },
  {
   "cell_type": "code",
   "execution_count": 43,
   "id": "9ee60e2e",
   "metadata": {},
   "outputs": [
    {
     "name": "stdout",
     "output_type": "stream",
     "text": [
      "학습 데이터 개수: 1437, 테스트 데이터 개수: 360\n"
     ]
    }
   ],
   "source": [
    "X_train, X_test, y_train, y_test = train_test_split(features, labels, test_size=0.2)\n",
    "print('학습 데이터 개수: {}, 테스트 데이터 개수: {}'.format(X_train.shape[0], X_test.shape[0]))"
   ]
  },
  {
   "cell_type": "markdown",
   "id": "802d60d8",
   "metadata": {},
   "source": [
    "단일 모델이 정확도 측정  \n",
    "앙상블 정확도를 측정하기에 앞서서 단일 모델들의 정확도를 kNN, SVC, 의사결정 트리 분류기를 만들어 정확도를 계산한다."
   ]
  },
  {
   "cell_type": "code",
   "execution_count": 44,
   "id": "b92aac38",
   "metadata": {},
   "outputs": [
    {
     "name": "stdout",
     "output_type": "stream",
     "text": [
      "knn accuracy: 85.833333%\n"
     ]
    }
   ],
   "source": [
    "# kNN\n",
    "knn = KNeighborsClassifier(n_neighbors=299).fit(X_train, y_train)\n",
    "knn_predict = knn.predict(X_test)\n",
    "print('knn accuracy: {:%}'.format(accuracy_score(y_test, knn_predict)))"
   ]
  },
  {
   "cell_type": "code",
   "execution_count": 45,
   "id": "7a9ac95d",
   "metadata": {},
   "outputs": [
    {
     "name": "stdout",
     "output_type": "stream",
     "text": [
      "svm accuracy: 84.722222%\n"
     ]
    }
   ],
   "source": [
    "# SVM\n",
    "svm = SVC(C=0.1, gamma=0.003, probability=True, random_state=35).fit(X_train, y_train)\n",
    "svm_predict = svm.predict(X_test)\n",
    "print('svm accuracy: {:%}'.format(accuracy_score(y_test, svm_predict)))"
   ]
  },
  {
   "cell_type": "code",
   "execution_count": 46,
   "id": "e19ba81f",
   "metadata": {},
   "outputs": [
    {
     "name": "stdout",
     "output_type": "stream",
     "text": [
      "dtree accuracy: 84.166667%\n"
     ]
    }
   ],
   "source": [
    "# 의사결정 트리\n",
    "dtree = tree.DecisionTreeClassifier(max_depth=8, random_state=35).fit(X_train, y_train)\n",
    "dtree_predict = dtree.predict(X_test)\n",
    "print('dtree accuracy: {:%}'.format(accuracy_score(y_test, dtree_predict)))"
   ]
  },
  {
   "cell_type": "markdown",
   "id": "ab79ad0f",
   "metadata": {},
   "source": [
    "확률 합계"
   ]
  },
  {
   "cell_type": "code",
   "execution_count": 47,
   "id": "a2507891",
   "metadata": {},
   "outputs": [
    {
     "name": "stdout",
     "output_type": "stream",
     "text": [
      "[0.         0.21070234 0.37792642 0.10367893 0.00334448 0.04347826\n",
      " 0.00334448 0.02006689 0.22408027 0.01337793]\n",
      "확률 합계: 1.0\n"
     ]
    }
   ],
   "source": [
    "knn_proba = knn.predict_proba(X_test)\n",
    "# print(len(knn_proba))\n",
    "print(knn_proba[0])\n",
    "total = 0.0\n",
    "for i in knn_proba[0]:\n",
    "    total += i\n",
    "print('확률 합계: {}'.format(total))"
   ]
  },
  {
   "cell_type": "code",
   "execution_count": 48,
   "id": "8d52b8e3",
   "metadata": {},
   "outputs": [
    {
     "name": "stdout",
     "output_type": "stream",
     "text": [
      "[2.36315107e-04 2.69576320e-04 9.95413671e-01 3.21380735e-04\n",
      " 1.90909673e-04 2.85217505e-04 1.04793475e-04 2.32049681e-04\n",
      " 2.36602550e-03 5.80060875e-04]\n",
      "확률 합계: 0.9999999999999997\n"
     ]
    }
   ],
   "source": [
    "svm_proba = svm.predict_proba(X_test)\n",
    "# print(len(svm_proba))\n",
    "print(svm_proba[0])\n",
    "total = 0.0\n",
    "for i in svm_proba[0]:\n",
    "    total += i\n",
    "print('확률 합계: {}'.format(total))"
   ]
  },
  {
   "cell_type": "code",
   "execution_count": 49,
   "id": "04a10585",
   "metadata": {},
   "outputs": [
    {
     "name": "stdout",
     "output_type": "stream",
     "text": [
      "[0. 0. 1. 0. 0. 0. 0. 0. 0. 0.]\n",
      "확률 합계: 1.0\n"
     ]
    }
   ],
   "source": [
    "dtree_proba = dtree.predict_proba(X_test)\n",
    "# print(len(dtree_proba))\n",
    "print(dtree_proba[0])\n",
    "total = 0.0\n",
    "for i in dtree_proba[0]:\n",
    "    total += i\n",
    "print('확률 합계: {}'.format(total))"
   ]
  },
  {
   "cell_type": "markdown",
   "id": "e69da76d",
   "metadata": {},
   "source": [
    "하드 보팅, 소프트 보팅은 VotingClassifier를 사용해 쉽게 구현할 수 있다."
   ]
  },
  {
   "cell_type": "markdown",
   "id": "722f1aec",
   "metadata": {},
   "source": [
    "하드 보팅  \n",
    "일반적인 투표와 같이 각 분류기의 예측값들을 모아 가장 많은 투표를 받은 예측값으로 최종 결론을 내린다."
   ]
  },
  {
   "cell_type": "code",
   "execution_count": 50,
   "id": "b2d82c16",
   "metadata": {},
   "outputs": [
    {
     "name": "stdout",
     "output_type": "stream",
     "text": [
      "hard_voting: 88.055556%\n"
     ]
    }
   ],
   "source": [
    "voting_clf = VotingClassifier(estimators=[('knn', knn), ('svm', svm), ('decision_tree', dtree)], weights=[1, 1, 1],\n",
    "                voting='hard').fit(X_train, y_train)\n",
    "hard_voting_predict = voting_clf.predict(X_test)\n",
    "print('hard_voting: {:%}'.format(accuracy_score(y_test, hard_voting_predict)))"
   ]
  },
  {
   "cell_type": "markdown",
   "id": "d2629e2b",
   "metadata": {},
   "source": [
    "소프트 보팅"
   ]
  },
  {
   "cell_type": "code",
   "execution_count": 51,
   "id": "baac6691",
   "metadata": {},
   "outputs": [
    {
     "name": "stdout",
     "output_type": "stream",
     "text": [
      "soft_voting: 90.833333%\n"
     ]
    }
   ],
   "source": [
    "voting_clf = VotingClassifier(estimators=[('knn', knn), ('svm', svm), ('decision_tree', dtree)], weights=[1, 1, 1],\n",
    "                voting='soft').fit(X_train, y_train)\n",
    "soft_voting_predict = voting_clf.predict(X_test)\n",
    "print('soft_voting: {:%}'.format(accuracy_score(y_test, soft_voting_predict)))"
   ]
  },
  {
   "cell_type": "markdown",
   "id": "9dbcbcb9",
   "metadata": {},
   "source": [
    "단일 모델과 앙상블 모델의 정확도 비교 시각화"
   ]
  },
  {
   "cell_type": "code",
   "execution_count": 52,
   "id": "7a61b6b5",
   "metadata": {},
   "outputs": [
    {
     "data": {
      "image/png": "[encoded data removed]",
      "text/plain": [
       "<Figure size 576x432 with 1 Axes>"
      ]
     },
     "metadata": {
      "needs_background": "light"
     },
     "output_type": "display_data"
    }
   ],
   "source": [
    "plt.figure(figsize=(8, 6))\n",
    "x = np.arange(5)\n",
    "plt.bar(x, height=[\n",
    "    accuracy_score(y_test, knn_predict),\n",
    "    accuracy_score(y_test, svm_predict),\n",
    "    accuracy_score(y_test, dtree_predict),\n",
    "    accuracy_score(y_test, hard_voting_predict),\n",
    "    accuracy_score(y_test, soft_voting_predict)\n",
    "])\n",
    "plt.xticks(x, ['knn', 'svm', 'decision_tree', 'hard_voting', 'soft_voting'])\n",
    "plt.show()"
   ]
  },
  {
   "cell_type": "code",
   "execution_count": null,
   "id": "f408a71c",
   "metadata": {},
   "outputs": [],
   "source": []
  },
  {
   "cell_type": "code",
   "execution_count": null,
   "id": "aad459c3",
   "metadata": {},
   "outputs": [],
   "source": []
  },
  {
   "cell_type": "code",
   "execution_count": null,
   "id": "b7ebb903",
   "metadata": {},
   "outputs": [],
   "source": []
  }
 ],
 "metadata": {
  "kernelspec": {
   "display_name": "py36",
   "language": "python",
   "name": "py36"
  },
  "language_info": {
   "codemirror_mode": {
    "name": "ipython",
    "version": 3
   },
   "file_extension": ".py",
   "mimetype": "text/x-python",
   "name": "python",
   "nbconvert_exporter": "python",
   "pygments_lexer": "ipython3",
   "version": "3.6.13"
  }
 },
 "nbformat": 4,
 "nbformat_minor": 5
}
