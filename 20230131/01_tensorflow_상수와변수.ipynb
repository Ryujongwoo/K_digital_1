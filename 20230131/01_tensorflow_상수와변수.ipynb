{
 "cells": [
  {
   "cell_type": "code",
   "execution_count": 1,
   "id": "e8e9cb9e",
   "metadata": {},
   "outputs": [],
   "source": [
    "import warnings\n",
    "warnings.filterwarnings(action='ignore')\n",
    "%config Completer.use_jedi = False"
   ]
  },
  {
   "cell_type": "code",
   "execution_count": 2,
   "id": "f76e8dea",
   "metadata": {},
   "outputs": [
    {
     "name": "stdout",
     "output_type": "stream",
     "text": [
      "WARNING:tensorflow:From D:\\anaconda3\\envs\\py36\\lib\\site-packages\\tensorflow\\python\\compat\\v2_compat.py:101: disable_resource_variables (from tensorflow.python.ops.variable_scope) is deprecated and will be removed in a future version.\n",
      "Instructions for updating:\n",
      "non-resource variables are not supported in the long term\n",
      "2.6.2\n"
     ]
    }
   ],
   "source": [
    "# pip install tensorflow\n",
    "# tensorflow 라이브러리를 import 하고 tf라는 별명을 지정한다.\n",
    "# import tensorflow as tf\n",
    "# tensorflow 2.x 버전이 설치된 경우 tensorflow 1.x 버전 문법을 사용하려면 아래와 같이 import 하면도니다.\n",
    "import tensorflow.compat.v1 as tf\n",
    "# tensorflow 2.x 버전의 문법을 사용하지 않겠다고 선언한다.\n",
    "tf.disable_v2_behavior()\n",
    "print(tf.__version__)"
   ]
  },
  {
   "cell_type": "markdown",
   "id": "3918a73e",
   "metadata": {},
   "source": [
    "변수, 상수, 수식을 만든다. => 세션에 넣는다. => 변수일 경우 초기화 시킨다. => 실행한다."
   ]
  },
  {
   "cell_type": "markdown",
   "id": "215d3953",
   "metadata": {},
   "source": [
    "tensorflow 상수"
   ]
  },
  {
   "cell_type": "code",
   "execution_count": 3,
   "id": "5e0b3943",
   "metadata": {},
   "outputs": [
    {
     "name": "stdout",
     "output_type": "stream",
     "text": [
      "a = Tensor(\"Const:0\", shape=(), dtype=int32)\n",
      "b = Tensor(\"Const_1:0\", shape=(), dtype=int32)\n",
      "c = Tensor(\"add:0\", shape=(), dtype=int32)\n",
      "d = Tensor(\"Add_1:0\", shape=(), dtype=int32)\n",
      "a = 500\n",
      "b = 200\n",
      "a + b = 700\n",
      "a + b = 700\n"
     ]
    }
   ],
   "source": [
    "# constant(): tensorflow에서 사용할 상수를 정의한다.\n",
    "a = tf.constant(500) # tensorflow 상수 정의\n",
    "print('a =', a)\n",
    "b = tf.constant(200) # tensorflow 상수 정의\n",
    "print('b =', b)\n",
    "c = a + b # tensorflow에서 실행할 수식 정의\n",
    "print('c =', c)\n",
    "d = tf.add(a, b) # tensorflow에서 실행할 함수식 정의\n",
    "print('d =', d)\n",
    "\n",
    "# tensorflow 1.x 버전은 반드시 Session이라는 작업 영역을 만든 후 상수, 변수, 수식을 대입한 다음 실행해야 한다.\n",
    "sess = tf.Session() # tensorflow Session을 만든다.\n",
    "# run(): tensorflow에서 Session의 내용을 실행한다.\n",
    "print('a =', sess.run(a))\n",
    "print('b =', sess.run(b))\n",
    "print('a + b =', sess.run(c))\n",
    "print('a + b =', sess.run(d))"
   ]
  },
  {
   "cell_type": "markdown",
   "id": "9d6477b5",
   "metadata": {},
   "source": [
    "tensorflow 변수"
   ]
  },
  {
   "cell_type": "code",
   "execution_count": 6,
   "id": "d1411fff",
   "metadata": {},
   "outputs": [
    {
     "name": "stdout",
     "output_type": "stream",
     "text": [
      "a = <tf.Variable 'Variable_6:0' shape=() dtype=int32_ref>\n",
      "b = <tf.Variable 'Variable_7:0' shape=() dtype=int32_ref>\n",
      "c = Tensor(\"mul_5:0\", shape=(), dtype=int32)\n",
      "d = Tensor(\"Mul_6:0\", shape=(), dtype=int32)\n",
      "a = 5\n",
      "b = 3\n",
      "c = 15\n",
      "d = 15\n",
      "a = 15\n",
      "c = 45\n",
      "d = 45\n"
     ]
    }
   ],
   "source": [
    "# Variable(): tensorflow에서 사용할 변수를 정의하고 데이터를 넣어준다.\n",
    "a = tf.Variable(5)\n",
    "print('a =', a)\n",
    "b = tf.Variable(3)\n",
    "print('b =', b)\n",
    "c = a * b\n",
    "print('c =', c)\n",
    "d = tf.multiply(a, b)\n",
    "print('d =', d)\n",
    "\n",
    "sess = tf.Session()\n",
    "\n",
    "# global_variables_initializer(): tensorflow에서 사용할 변수를 초기화시킨다.\n",
    "# Variable() 함수를 사용해 생성한 tensorflow 변수는 사용하기 전에 반드시 초기화시켜야 한다.\n",
    "# tensorflow 변수 초기화는 연산을 실행(사용)하기 전에만 해주면 된다.\n",
    "\n",
    "# tensorflow 변수 초기화\n",
    "# init = tf.global_variables_initializer()\n",
    "# sess.run(init)\n",
    "# 위의 2줄로 사용한 tensorflow 변수 초기화는 아래와 같이 1줄로 줄여서 사용할 수 있다.\n",
    "sess.run(tf.global_variables_initializer())\n",
    "\n",
    "print('a =', sess.run(a)) # Session에서 tensorflow 변수를 초기화시키지 않으면 에러가 발생된다.\n",
    "print('b =', sess.run(b))\n",
    "print('c =', sess.run(c))\n",
    "print('d =', sess.run(d))\n",
    "\n",
    "# tensorflow 변수에 저장된 데이터를 변경한다.\n",
    "a = tf.Variable(15)\n",
    "# tensorflow 변수에 저장된 데이터가 변경되면 다시 초기화시켜야 한다.\n",
    "sess.run(tf.global_variables_initializer())\n",
    "print('a =', sess.run(a))\n",
    "# 변수의 값을 변경해서 연산한 결과를 보려면 수식을 다시 만들어 실행해야 한다.\n",
    "c = a * b\n",
    "print('c =', sess.run(c))\n",
    "d = tf.multiply(a, b)\n",
    "print('d =', sess.run(d))"
   ]
  },
  {
   "cell_type": "code",
   "execution_count": null,
   "id": "d02d21a3",
   "metadata": {},
   "outputs": [],
   "source": []
  },
  {
   "cell_type": "code",
   "execution_count": null,
   "id": "90a1ed5d",
   "metadata": {},
   "outputs": [],
   "source": []
  },
  {
   "cell_type": "code",
   "execution_count": null,
   "id": "2255e450",
   "metadata": {},
   "outputs": [],
   "source": []
  },
  {
   "cell_type": "code",
   "execution_count": null,
   "id": "a88d31c0",
   "metadata": {},
   "outputs": [],
   "source": []
  },
  {
   "cell_type": "code",
   "execution_count": null,
   "id": "f92f48a6",
   "metadata": {},
   "outputs": [],
   "source": []
  }
 ],
 "metadata": {
  "kernelspec": {
   "display_name": "py36",
   "language": "python",
   "name": "py36"
  },
  "language_info": {
   "codemirror_mode": {
    "name": "ipython",
    "version": 3
   },
   "file_extension": ".py",
   "mimetype": "text/x-python",
   "name": "python",
   "nbconvert_exporter": "python",
   "pygments_lexer": "ipython3",
   "version": "3.6.13"
  }
 },
 "nbformat": 4,
 "nbformat_minor": 5
}
