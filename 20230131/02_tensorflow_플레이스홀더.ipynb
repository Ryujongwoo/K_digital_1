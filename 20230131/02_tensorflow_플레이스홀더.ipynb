{
 "cells": [
  {
   "cell_type": "code",
   "execution_count": 1,
   "id": "84fa4969",
   "metadata": {},
   "outputs": [
    {
     "name": "stdout",
     "output_type": "stream",
     "text": [
      "WARNING:tensorflow:From D:\\anaconda3\\envs\\py36\\lib\\site-packages\\tensorflow\\python\\compat\\v2_compat.py:101: disable_resource_variables (from tensorflow.python.ops.variable_scope) is deprecated and will be removed in a future version.\n",
      "Instructions for updating:\n",
      "non-resource variables are not supported in the long term\n"
     ]
    }
   ],
   "source": [
    "import warnings\n",
    "warnings.filterwarnings(action='ignore')\n",
    "%config Completer.use_jedi = False\n",
    "import tensorflow.compat.v1 as tf\n",
    "tf.disable_v2_behavior()"
   ]
  },
  {
   "cell_type": "markdown",
   "id": "bc6a2bd5",
   "metadata": {},
   "source": [
    "placeholder는 tensorflow에서 사용하는 여러건의 데이터를 저장하는 일종의 배열(리스트)이다.  \n",
    "placeholder(dtype[, shape, name])  \n",
    "dtype: placeholder에 저장되는 데이터의 자료형  \n",
    "shape: placeholder에 저장되는 데이터의 차원, 생략가능  \n",
    "name: placeholder의 이름, 생략가능"
   ]
  },
  {
   "cell_type": "code",
   "execution_count": 59,
   "id": "a35bf5da",
   "metadata": {},
   "outputs": [
    {
     "name": "stdout",
     "output_type": "stream",
     "text": [
      "[6. 6. 6. 6. 6.]\n"
     ]
    }
   ],
   "source": [
    "# tensorflow의 placeholder에 저장할 데이터를 선언한다.\n",
    "xData = [1, 2, 3, 4, 5]\n",
    "yData = [5, 4, 3, 2, 1]\n",
    "\n",
    "# placeholder를 선언한다.\n",
    "x = tf.placeholder(dtype=tf.float32) # xData의 내용을 기억할 placeholder를 선언한다.\n",
    "y = tf.placeholder(dtype=tf.float32) # yData의 내용을 기억할 placeholder를 선언한다.\n",
    "\n",
    "# placeholder를 사용하는 수식을 선언한다.\n",
    "z = x + y\n",
    "\n",
    "sess = tf.Session()\n",
    "\n",
    "# 수식에 사용할 데이터를 placeholder에 대입하고 실행한다.\n",
    "# z라고 정의한 수식을 실행한다. => z에 연산 결과를 저장해야 하는데 x, y placeholder에 데이터가 채워져있지 않기 때문에\n",
    "# 그냥 실행하면 에러가 발생된다.\n",
    "# 반드시 'feed_dict'라는 이름의 딕셔너리 타입을 사용해서 데이터를 채운 후 연산을 실행해야 한다.\n",
    "# feed_dict 딕셔너리의 구조는 {placeholder 이름: 데이터, placeholder 이름: 데이터, ...}와 같이 사용하며 데이터는 반드시\n",
    "# 리스트 또는 튜플 타입을 사용해야 한다.\n",
    "result = sess.run(z, feed_dict={x: xData, y: yData})\n",
    "print(result)"
   ]
  },
  {
   "cell_type": "code",
   "execution_count": null,
   "id": "2ccef5dc",
   "metadata": {},
   "outputs": [],
   "source": []
  },
  {
   "cell_type": "code",
   "execution_count": null,
   "id": "ee77bf55",
   "metadata": {},
   "outputs": [],
   "source": []
  },
  {
   "cell_type": "code",
   "execution_count": null,
   "id": "824155e0",
   "metadata": {},
   "outputs": [],
   "source": []
  },
  {
   "cell_type": "code",
   "execution_count": null,
   "id": "55dd0c6f",
   "metadata": {},
   "outputs": [],
   "source": []
  },
  {
   "cell_type": "code",
   "execution_count": null,
   "id": "f612cd08",
   "metadata": {},
   "outputs": [],
   "source": []
  },
  {
   "cell_type": "code",
   "execution_count": null,
   "id": "ce888e95",
   "metadata": {},
   "outputs": [],
   "source": []
  }
 ],
 "metadata": {
  "kernelspec": {
   "display_name": "py36",
   "language": "python",
   "name": "py36"
  },
  "language_info": {
   "codemirror_mode": {
    "name": "ipython",
    "version": 3
   },
   "file_extension": ".py",
   "mimetype": "text/x-python",
   "name": "python",
   "nbconvert_exporter": "python",
   "pygments_lexer": "ipython3",
   "version": "3.6.13"
  }
 },
 "nbformat": 4,
 "nbformat_minor": 5
}
