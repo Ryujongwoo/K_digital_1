{
 "cells": [
  {
   "cell_type": "code",
   "execution_count": 1,
   "id": "2b288851",
   "metadata": {},
   "outputs": [],
   "source": [
    "import warnings\n",
    "warnings.filterwarnings('ignore')\n",
    "import numpy as np\n",
    "import pandas as pd"
   ]
  },
  {
   "cell_type": "markdown",
   "id": "ada0ee95",
   "metadata": {},
   "source": [
    "판다스의 데이터프레임과 시리즈  \n",
    "데이터프레임과 시리즈는 파이썬의 리스트나 딕셔너리와 비슷하지만 데이터를 다루는데 더 특화되어 있다.  \n",
    "리스트와 딕셔너리는 많은 양의 데이터를 저장하거나 데이터를 조작할 수 있는 함수가 많치 않은 반면에 판다스는 데이터프레임과 시리즈는 많은 양의 데이터를 저장할 수 있을 뿐만아니라 스프레드시트 계열의 프로그램을 사용하는 것 처럼 행과 열 단위로 데이터를 조작할 수 있는 다양한 함수와 속성들을 제공한다."
   ]
  },
  {
   "cell_type": "markdown",
   "id": "c7929eb6",
   "metadata": {},
   "source": [
    "시리즈 만들기  \n",
    "시리즈를 만들기 위해서는 리스트를 Series() 함수의 인수로 전달하면 된다."
   ]
  },
  {
   "cell_type": "code",
   "execution_count": 2,
   "id": "ac3042a4",
   "metadata": {},
   "outputs": [
    {
     "name": "stdout",
     "output_type": "stream",
     "text": [
      "<class 'pandas.core.series.Series'>\n",
      "0    banana\n",
      "1        42\n",
      "dtype: object\n"
     ]
    }
   ],
   "source": [
    "s = pd.Series(['banana', 42])\n",
    "print(type(s))\n",
    "print(s)"
   ]
  },
  {
   "cell_type": "code",
   "execution_count": 3,
   "id": "fbb7fbfd",
   "metadata": {},
   "outputs": [
    {
     "name": "stdout",
     "output_type": "stream",
     "text": [
      "0    홍길동\n",
      "1    도적넘\n",
      "dtype: object\n",
      "홍길동\n",
      "도적넘\n",
      "홍길동\n",
      "도적넘\n"
     ]
    }
   ],
   "source": [
    "s = pd.Series(['홍길동', '도적넘'])\n",
    "print(s)\n",
    "print(s.loc[0])\n",
    "print(s.loc[1])\n",
    "print(s.iloc[0])\n",
    "print(s.iloc[1])"
   ]
  },
  {
   "cell_type": "code",
   "execution_count": 4,
   "id": "82413d11",
   "metadata": {
    "scrolled": false
   },
   "outputs": [
    {
     "name": "stdout",
     "output_type": "stream",
     "text": [
      "name    홍길동\n",
      "job     도적넘\n",
      "dtype: object\n",
      "홍길동\n",
      "도적넘\n",
      "홍길동\n",
      "도적넘\n"
     ]
    }
   ],
   "source": [
    "# 시리즈를 생성할 때 문자열을 인덱스로 지정할 수 있다.\n",
    "# 문자열을 인덱스로 지정하려면 index 속성으로 인덱스로 사용하려는 문자열을 리스트에 담아서 전달하면 된다.\n",
    "s = pd.Series(['홍길동', '도적넘'], index=['name', 'job'])\n",
    "print(s)\n",
    "print(s.loc['name'])\n",
    "print(s.loc['job'])\n",
    "print(s.iloc[0])\n",
    "print(s.iloc[1])"
   ]
  },
  {
   "cell_type": "markdown",
   "id": "0b6162c0",
   "metadata": {},
   "source": [
    "데이터프레임 만들기  \n",
    "데이터프레임을 만들기 위해서는 딕셔너리를 DataFrame() 함수의 인수로 전달하면 된다."
   ]
  },
  {
   "cell_type": "code",
   "execution_count": 5,
   "id": "41061e63",
   "metadata": {},
   "outputs": [
    {
     "name": "stdout",
     "output_type": "stream",
     "text": [
      "<class 'pandas.core.frame.DataFrame'>\n"
     ]
    },
    {
     "data": {
      "text/html": [
       "<div>\n",
       "<style scoped>\n",
       "    .dataframe tbody tr th:only-of-type {\n",
       "        vertical-align: middle;\n",
       "    }\n",
       "\n",
       "    .dataframe tbody tr th {\n",
       "        vertical-align: top;\n",
       "    }\n",
       "\n",
       "    .dataframe thead th {\n",
       "        text-align: right;\n",
       "    }\n",
       "</style>\n",
       "<table border=\"1\" class=\"dataframe\">\n",
       "  <thead>\n",
       "    <tr style=\"text-align: right;\">\n",
       "      <th></th>\n",
       "      <th>name</th>\n",
       "      <th>job</th>\n",
       "      <th>born</th>\n",
       "      <th>died</th>\n",
       "      <th>age</th>\n",
       "    </tr>\n",
       "  </thead>\n",
       "  <tbody>\n",
       "    <tr>\n",
       "      <th>0</th>\n",
       "      <td>홍길동</td>\n",
       "      <td>도적놈</td>\n",
       "      <td>1569-04-20</td>\n",
       "      <td>1620-08-25</td>\n",
       "      <td>52</td>\n",
       "    </tr>\n",
       "    <tr>\n",
       "      <th>1</th>\n",
       "      <td>임꺽정</td>\n",
       "      <td>도둑놈</td>\n",
       "      <td>1875-06-10</td>\n",
       "      <td>1950-01-19</td>\n",
       "      <td>75</td>\n",
       "    </tr>\n",
       "  </tbody>\n",
       "</table>\n",
       "</div>"
      ],
      "text/plain": [
       "  name  job        born        died  age\n",
       "0  홍길동  도적놈  1569-04-20  1620-08-25   52\n",
       "1  임꺽정  도둑놈  1875-06-10  1950-01-19   75"
      ]
     },
     "execution_count": 5,
     "metadata": {},
     "output_type": "execute_result"
    }
   ],
   "source": [
    "df = pd.DataFrame({\n",
    "    # 'key': [value, value, ...] # key가 데이터프레임의 열 이름이 되고 value는 데이터가 된다.\n",
    "    'name': ['홍길동', '임꺽정'],\n",
    "    'job': ['도적놈', '도둑놈'],\n",
    "    'born': ['1569-04-20', '1875-06-10'],\n",
    "    'died': ['1620-08-25', '1950-01-19'],\n",
    "    'age': [52, 75]\n",
    "})\n",
    "print(type(df))\n",
    "df"
   ]
  },
  {
   "cell_type": "code",
   "execution_count": 6,
   "id": "beb600ce",
   "metadata": {},
   "outputs": [
    {
     "name": "stdout",
     "output_type": "stream",
     "text": [
      "<class 'pandas.core.frame.DataFrame'>\n"
     ]
    },
    {
     "data": {
      "text/html": [
       "<div>\n",
       "<style scoped>\n",
       "    .dataframe tbody tr th:only-of-type {\n",
       "        vertical-align: middle;\n",
       "    }\n",
       "\n",
       "    .dataframe tbody tr th {\n",
       "        vertical-align: top;\n",
       "    }\n",
       "\n",
       "    .dataframe thead th {\n",
       "        text-align: right;\n",
       "    }\n",
       "</style>\n",
       "<table border=\"1\" class=\"dataframe\">\n",
       "  <thead>\n",
       "    <tr style=\"text-align: right;\">\n",
       "      <th></th>\n",
       "      <th>job</th>\n",
       "      <th>age</th>\n",
       "    </tr>\n",
       "  </thead>\n",
       "  <tbody>\n",
       "    <tr>\n",
       "      <th>홍길동</th>\n",
       "      <td>도적놈</td>\n",
       "      <td>52</td>\n",
       "    </tr>\n",
       "    <tr>\n",
       "      <th>임꺽정</th>\n",
       "      <td>도둑놈</td>\n",
       "      <td>75</td>\n",
       "    </tr>\n",
       "  </tbody>\n",
       "</table>\n",
       "</div>"
      ],
      "text/plain": [
       "     job  age\n",
       "홍길동  도적놈   52\n",
       "임꺽정  도둑놈   75"
      ]
     },
     "execution_count": 6,
     "metadata": {},
     "output_type": "execute_result"
    }
   ],
   "source": [
    "# DataFrame() 함수의 data 속성으로 딕셔너리 형태로 데이터를 지정하고 index 속성으로 인덱스를 지정할 수 있다.\n",
    "# columns 속성으로 열 이름을 지정할 수 있다. data 속성에 지정한 key와 같은 열 이름만 데이터프레임으로 만들어진다.\n",
    "df = pd.DataFrame(\n",
    "    data={\n",
    "        'job': ['도적놈', '도둑놈'],\n",
    "        'born': ['1569-04-20', '1875-06-10'],\n",
    "        'died': ['1620-08-25', '1950-01-19'],\n",
    "        'age': [52, 75]\n",
    "    },\n",
    "    index=['홍길동', '임꺽정'],\n",
    "    columns=['job', 'age']\n",
    ")\n",
    "print(type(df))\n",
    "df"
   ]
  },
  {
   "cell_type": "code",
   "execution_count": 7,
   "id": "1ed5ebdf",
   "metadata": {},
   "outputs": [
    {
     "name": "stdout",
     "output_type": "stream",
     "text": [
      "<class 'pandas.core.frame.DataFrame'>\n"
     ]
    },
    {
     "data": {
      "text/html": [
       "<div>\n",
       "<style scoped>\n",
       "    .dataframe tbody tr th:only-of-type {\n",
       "        vertical-align: middle;\n",
       "    }\n",
       "\n",
       "    .dataframe tbody tr th {\n",
       "        vertical-align: top;\n",
       "    }\n",
       "\n",
       "    .dataframe thead th {\n",
       "        text-align: right;\n",
       "    }\n",
       "</style>\n",
       "<table border=\"1\" class=\"dataframe\">\n",
       "  <thead>\n",
       "    <tr style=\"text-align: right;\">\n",
       "      <th></th>\n",
       "      <th>name</th>\n",
       "      <th>job</th>\n",
       "      <th>born</th>\n",
       "      <th>died</th>\n",
       "      <th>age</th>\n",
       "    </tr>\n",
       "  </thead>\n",
       "  <tbody>\n",
       "    <tr>\n",
       "      <th>0</th>\n",
       "      <td>홍길동</td>\n",
       "      <td>도적놈</td>\n",
       "      <td>1569-04-20</td>\n",
       "      <td>1620-08-25</td>\n",
       "      <td>52</td>\n",
       "    </tr>\n",
       "    <tr>\n",
       "      <th>1</th>\n",
       "      <td>임꺽정</td>\n",
       "      <td>도둑놈</td>\n",
       "      <td>1875-06-10</td>\n",
       "      <td>1950-01-19</td>\n",
       "      <td>75</td>\n",
       "    </tr>\n",
       "  </tbody>\n",
       "</table>\n",
       "</div>"
      ],
      "text/plain": [
       "  name  job        born        died  age\n",
       "0  홍길동  도적놈  1569-04-20  1620-08-25   52\n",
       "1  임꺽정  도둑놈  1875-06-10  1950-01-19   75"
      ]
     },
     "execution_count": 7,
     "metadata": {},
     "output_type": "execute_result"
    }
   ],
   "source": [
    "# 딕셔너리는 key와 value로 이루어진 한 쌍의 데이터로 입력되는 데이터들의 순서를 보장하지 않는다.\n",
    "# 순서가 보장되는 딕셔너리를 전달하려면 collections 모듈의 OrderedDict() 함수를 import 하고 OrderedDict() 함수의 인수로\n",
    "# 튜플 형태의 인수를 전달하면 데이터의 순서를 그대로 유지하면서 데이터프레임을 만들수 있다.\n",
    "from collections import OrderedDict\n",
    "df = pd.DataFrame(\n",
    "    OrderedDict([\n",
    "        ('name', ['홍길동', '임꺽정']),\n",
    "        ('job', ['도적놈', '도둑놈']),\n",
    "        ('born', ['1569-04-20', '1875-06-10']),\n",
    "        ('died', ['1620-08-25', '1950-01-19']),\n",
    "        ('age', [52, 75])\n",
    "    ])\n",
    ")\n",
    "print(type(df))\n",
    "df"
   ]
  },
  {
   "cell_type": "markdown",
   "id": "a718f4c2",
   "metadata": {},
   "source": [
    "시리즈 다루기"
   ]
  },
  {
   "cell_type": "code",
   "execution_count": 8,
   "id": "7b0042b4",
   "metadata": {},
   "outputs": [
    {
     "data": {
      "text/html": [
       "<div>\n",
       "<style scoped>\n",
       "    .dataframe tbody tr th:only-of-type {\n",
       "        vertical-align: middle;\n",
       "    }\n",
       "\n",
       "    .dataframe tbody tr th {\n",
       "        vertical-align: top;\n",
       "    }\n",
       "\n",
       "    .dataframe thead th {\n",
       "        text-align: right;\n",
       "    }\n",
       "</style>\n",
       "<table border=\"1\" class=\"dataframe\">\n",
       "  <thead>\n",
       "    <tr style=\"text-align: right;\">\n",
       "      <th></th>\n",
       "      <th>job</th>\n",
       "      <th>born</th>\n",
       "      <th>died</th>\n",
       "      <th>age</th>\n",
       "    </tr>\n",
       "  </thead>\n",
       "  <tbody>\n",
       "    <tr>\n",
       "      <th>홍길동</th>\n",
       "      <td>도적놈</td>\n",
       "      <td>1569-04-20</td>\n",
       "      <td>1620-08-25</td>\n",
       "      <td>52</td>\n",
       "    </tr>\n",
       "    <tr>\n",
       "      <th>임꺽정</th>\n",
       "      <td>도둑놈</td>\n",
       "      <td>1875-06-10</td>\n",
       "      <td>1950-01-19</td>\n",
       "      <td>75</td>\n",
       "    </tr>\n",
       "  </tbody>\n",
       "</table>\n",
       "</div>"
      ],
      "text/plain": [
       "     job        born        died  age\n",
       "홍길동  도적놈  1569-04-20  1620-08-25   52\n",
       "임꺽정  도둑놈  1875-06-10  1950-01-19   75"
      ]
     },
     "execution_count": 8,
     "metadata": {},
     "output_type": "execute_result"
    }
   ],
   "source": [
    "df = pd.DataFrame(\n",
    "    data={\n",
    "        'job': ['도적놈', '도둑놈'],\n",
    "        'born': ['1569-04-20', '1875-06-10'],\n",
    "        'died': ['1620-08-25', '1950-01-19'],\n",
    "        'age': [52, 75]\n",
    "    },\n",
    "    index=['홍길동', '임꺽정'],\n",
    "    columns=['job', 'born', 'died', 'age']\n",
    ")\n",
    "df"
   ]
  },
  {
   "cell_type": "code",
   "execution_count": 9,
   "id": "1e066d61",
   "metadata": {},
   "outputs": [
    {
     "name": "stdout",
     "output_type": "stream",
     "text": [
      "<class 'pandas.core.series.Series'>\n",
      "job            도적놈\n",
      "born    1569-04-20\n",
      "died    1620-08-25\n",
      "age             52\n",
      "Name: 홍길동, dtype: object\n"
     ]
    }
   ],
   "source": [
    "# 데이터프레임에서 시리즈를 선택하려면 loc 속성에 인덱스(행 또는 열 이름)을 전달하거나 iloc 속성에 행 또는 열의 일련번호를\n",
    "# 전달한다.\n",
    "row = df.loc['홍길동']\n",
    "print(type(row))\n",
    "print(row)"
   ]
  },
  {
   "cell_type": "code",
   "execution_count": 10,
   "id": "2a153cd6",
   "metadata": {},
   "outputs": [
    {
     "name": "stdout",
     "output_type": "stream",
     "text": [
      "<class 'pandas.core.series.Series'>\n",
      "홍길동    도적놈\n",
      "임꺽정    도둑놈\n",
      "Name: job, dtype: object\n"
     ]
    }
   ],
   "source": [
    "col = df.loc[:, 'job']\n",
    "print(type(col))\n",
    "print(col)"
   ]
  },
  {
   "cell_type": "markdown",
   "id": "879401dd",
   "metadata": {},
   "source": [
    "index, values 속성과 keys() 함수"
   ]
  },
  {
   "cell_type": "code",
   "execution_count": 11,
   "id": "2868e107",
   "metadata": {},
   "outputs": [
    {
     "name": "stdout",
     "output_type": "stream",
     "text": [
      "<class 'pandas.core.indexes.base.Index'>\n",
      "Index(['job', 'born', 'died', 'age'], dtype='object')\n",
      "Index(['홍길동', '임꺽정'], dtype='object')\n"
     ]
    }
   ],
   "source": [
    "# index 속성은 시리즈의 인덱스를 얻어온다.\n",
    "print(type(row.index))\n",
    "print(row.index)\n",
    "print(col.index)"
   ]
  },
  {
   "cell_type": "code",
   "execution_count": 12,
   "id": "42463851",
   "metadata": {},
   "outputs": [
    {
     "name": "stdout",
     "output_type": "stream",
     "text": [
      "<class 'pandas.core.indexes.base.Index'>\n",
      "Index(['job', 'born', 'died', 'age'], dtype='object')\n",
      "Index(['홍길동', '임꺽정'], dtype='object')\n"
     ]
    }
   ],
   "source": [
    "# keys() 함수는 index 속성과 똑같이 시리즈의 인덱스를 얻어온다.\n",
    "print(type(row.keys()))\n",
    "print(row.keys())\n",
    "print(col.keys())"
   ]
  },
  {
   "cell_type": "code",
   "execution_count": 13,
   "id": "729f4c7d",
   "metadata": {},
   "outputs": [
    {
     "name": "stdout",
     "output_type": "stream",
     "text": [
      "<class 'str'>\n",
      "job\n",
      "<class 'str'>\n",
      "임꺽정\n"
     ]
    }
   ],
   "source": [
    "# index 속성의 특정 값 추출하기\n",
    "print(type(row.index[0]))\n",
    "print(row.index[0])\n",
    "print(type(col.keys()[0]))\n",
    "print(col.keys()[1])"
   ]
  },
  {
   "cell_type": "code",
   "execution_count": 14,
   "id": "5a694820",
   "metadata": {},
   "outputs": [
    {
     "name": "stdout",
     "output_type": "stream",
     "text": [
      "<class 'numpy.ndarray'>\n",
      "['도적놈' '1569-04-20' '1620-08-25' 52]\n",
      "['도적놈' '도둑놈']\n"
     ]
    }
   ],
   "source": [
    "# values 속성은 시리즈의 데이터를 numpy 배열 형태로 얻어온다.\n",
    "print(type(row.values))\n",
    "print(row.values)\n",
    "print(col.values)"
   ]
  },
  {
   "cell_type": "code",
   "execution_count": 15,
   "id": "f01cd811",
   "metadata": {},
   "outputs": [
    {
     "name": "stdout",
     "output_type": "stream",
     "text": [
      "<class 'str'>\n",
      "도적놈\n",
      "<class 'str'>\n",
      "도둑놈\n"
     ]
    }
   ],
   "source": [
    "# values 속성의 특정 값 추출하기\n",
    "print(type(row.values[0]))\n",
    "print(row.values[0])\n",
    "print(type(col.values[1]))\n",
    "print(col.values[1])"
   ]
  },
  {
   "cell_type": "markdown",
   "id": "534020a9",
   "metadata": {},
   "source": [
    "시리즈 기초 통계 함수"
   ]
  },
  {
   "cell_type": "code",
   "execution_count": 16,
   "id": "328b0e00",
   "metadata": {},
   "outputs": [
    {
     "name": "stdout",
     "output_type": "stream",
     "text": [
      "<class 'pandas.core.series.Series'>\n",
      "홍길동    52\n",
      "임꺽정    75\n",
      "Name: age, dtype: int64\n",
      "================================================================================\n",
      "max = 75\n",
      "min = 52\n",
      "sum = 127\n",
      "mean = 63.5\n",
      "std = 16.263455967290593\n"
     ]
    }
   ],
   "source": [
    "# ages = df['age']\n",
    "# ages = df.get('age')\n",
    "ages = df.age\n",
    "print(type(ages))\n",
    "print(ages)\n",
    "print('=' * 80)\n",
    "\n",
    "print('max = {}'.format(ages.max()))\n",
    "print('min = {}'.format(ages.min()))\n",
    "print('sum = {}'.format(ages.sum()))\n",
    "print('mean = {}'.format(ages.mean()))\n",
    "print('std = {}'.format(ages.std()))"
   ]
  },
  {
   "cell_type": "code",
   "execution_count": 17,
   "id": "ad00a6c5",
   "metadata": {},
   "outputs": [
    {
     "name": "stdout",
     "output_type": "stream",
     "text": [
      "<class 'pandas.core.frame.DataFrame'>\n"
     ]
    },
    {
     "data": {
      "text/html": [
       "<div>\n",
       "<style scoped>\n",
       "    .dataframe tbody tr th:only-of-type {\n",
       "        vertical-align: middle;\n",
       "    }\n",
       "\n",
       "    .dataframe tbody tr th {\n",
       "        vertical-align: top;\n",
       "    }\n",
       "\n",
       "    .dataframe thead th {\n",
       "        text-align: right;\n",
       "    }\n",
       "</style>\n",
       "<table border=\"1\" class=\"dataframe\">\n",
       "  <thead>\n",
       "    <tr style=\"text-align: right;\">\n",
       "      <th></th>\n",
       "      <th>Name</th>\n",
       "      <th>Born</th>\n",
       "      <th>Died</th>\n",
       "      <th>Age</th>\n",
       "      <th>Occupation</th>\n",
       "    </tr>\n",
       "  </thead>\n",
       "  <tbody>\n",
       "    <tr>\n",
       "      <th>0</th>\n",
       "      <td>Rosaline Franklin</td>\n",
       "      <td>1920-07-25</td>\n",
       "      <td>1958-04-16</td>\n",
       "      <td>37</td>\n",
       "      <td>Chemist</td>\n",
       "    </tr>\n",
       "    <tr>\n",
       "      <th>1</th>\n",
       "      <td>William Gosset</td>\n",
       "      <td>1876-06-13</td>\n",
       "      <td>1937-10-16</td>\n",
       "      <td>61</td>\n",
       "      <td>Statistician</td>\n",
       "    </tr>\n",
       "    <tr>\n",
       "      <th>2</th>\n",
       "      <td>Florence Nightingale</td>\n",
       "      <td>1820-05-12</td>\n",
       "      <td>1910-08-13</td>\n",
       "      <td>90</td>\n",
       "      <td>Nurse</td>\n",
       "    </tr>\n",
       "    <tr>\n",
       "      <th>3</th>\n",
       "      <td>Marie Curie</td>\n",
       "      <td>1867-11-07</td>\n",
       "      <td>1934-07-04</td>\n",
       "      <td>66</td>\n",
       "      <td>Chemist</td>\n",
       "    </tr>\n",
       "    <tr>\n",
       "      <th>4</th>\n",
       "      <td>Rachel Carson</td>\n",
       "      <td>1907-05-27</td>\n",
       "      <td>1964-04-14</td>\n",
       "      <td>56</td>\n",
       "      <td>Biologist</td>\n",
       "    </tr>\n",
       "    <tr>\n",
       "      <th>5</th>\n",
       "      <td>John Snow</td>\n",
       "      <td>1813-03-15</td>\n",
       "      <td>1858-06-16</td>\n",
       "      <td>45</td>\n",
       "      <td>Physician</td>\n",
       "    </tr>\n",
       "    <tr>\n",
       "      <th>6</th>\n",
       "      <td>Alan Turing</td>\n",
       "      <td>1912-06-23</td>\n",
       "      <td>1954-06-07</td>\n",
       "      <td>41</td>\n",
       "      <td>Computer Scientist</td>\n",
       "    </tr>\n",
       "    <tr>\n",
       "      <th>7</th>\n",
       "      <td>Johann Gauss</td>\n",
       "      <td>1777-04-30</td>\n",
       "      <td>1855-02-23</td>\n",
       "      <td>77</td>\n",
       "      <td>Mathematician</td>\n",
       "    </tr>\n",
       "  </tbody>\n",
       "</table>\n",
       "</div>"
      ],
      "text/plain": [
       "                   Name        Born        Died  Age          Occupation\n",
       "0     Rosaline Franklin  1920-07-25  1958-04-16   37             Chemist\n",
       "1        William Gosset  1876-06-13  1937-10-16   61        Statistician\n",
       "2  Florence Nightingale  1820-05-12  1910-08-13   90               Nurse\n",
       "3           Marie Curie  1867-11-07  1934-07-04   66             Chemist\n",
       "4         Rachel Carson  1907-05-27  1964-04-14   56           Biologist\n",
       "5             John Snow  1813-03-15  1858-06-16   45           Physician\n",
       "6           Alan Turing  1912-06-23  1954-06-07   41  Computer Scientist\n",
       "7          Johann Gauss  1777-04-30  1855-02-23   77       Mathematician"
      ]
     },
     "execution_count": 17,
     "metadata": {},
     "output_type": "execute_result"
    }
   ],
   "source": [
    "scientists = pd.read_csv('./data/scientists.csv')\n",
    "print(type(scientists))\n",
    "scientists"
   ]
  },
  {
   "cell_type": "code",
   "execution_count": 18,
   "id": "b39bcd87",
   "metadata": {},
   "outputs": [
    {
     "name": "stdout",
     "output_type": "stream",
     "text": [
      "<class 'pandas.core.series.Series'>\n",
      "0    37\n",
      "1    61\n",
      "2    90\n",
      "3    66\n",
      "4    56\n",
      "5    45\n",
      "6    41\n",
      "7    77\n",
      "Name: Age, dtype: int64\n",
      "================================================================================\n",
      "max = 90\n",
      "min = 37\n",
      "sum = 473\n",
      "mean = 59.125\n",
      "std = 18.325918413937288\n"
     ]
    }
   ],
   "source": [
    "ages = scientists.Age\n",
    "print(type(ages))\n",
    "print(ages)\n",
    "print('=' * 80)\n",
    "\n",
    "print('max = {}'.format(ages.max()))\n",
    "print('min = {}'.format(ages.min()))\n",
    "print('sum = {}'.format(ages.sum()))\n",
    "print('mean = {}'.format(ages.mean()))\n",
    "print('std = {}'.format(ages.std()))"
   ]
  },
  {
   "cell_type": "code",
   "execution_count": 19,
   "id": "1f55e73e",
   "metadata": {},
   "outputs": [
    {
     "name": "stdout",
     "output_type": "stream",
     "text": [
      "1    61\n",
      "2    90\n",
      "3    66\n",
      "7    77\n",
      "Name: Age, dtype: int64\n"
     ]
    }
   ],
   "source": [
    "# 평균 나이(59.125)보다 나이가 많은 사람의 데이터만 추출한다.\n",
    "print(ages[ages > ages.mean()])"
   ]
  },
  {
   "cell_type": "code",
   "execution_count": 20,
   "id": "2e8c33a5",
   "metadata": {},
   "outputs": [
    {
     "name": "stdout",
     "output_type": "stream",
     "text": [
      "0    False\n",
      "1     True\n",
      "2     True\n",
      "3     True\n",
      "4    False\n",
      "5    False\n",
      "6    False\n",
      "7     True\n",
      "Name: Age, dtype: bool\n",
      "1    61\n",
      "2    90\n",
      "3    66\n",
      "7    77\n",
      "Name: Age, dtype: int64\n"
     ]
    }
   ],
   "source": [
    "# print(ages > ages.mean())\n",
    "bool_value = ages > ages.mean()\n",
    "print(bool_value)\n",
    "print(ages[bool_value])"
   ]
  },
  {
   "cell_type": "markdown",
   "id": "04549bf6",
   "metadata": {},
   "source": [
    "브로드캐스팅  \n",
    "ages > ages.mean()과 같이 시리즈나 데이터프레임의 모든 데이터에 대해 한 번에 연산하는 것을 브로드캐스팅이라 한다.  \n",
    "여러개의 값을 가진 데이터를 벡터라 하고 단순 크기를 나타내는 데이터를 스칼라라 부른다."
   ]
  },
  {
   "cell_type": "code",
   "execution_count": 21,
   "id": "d74a420c",
   "metadata": {},
   "outputs": [
    {
     "name": "stdout",
     "output_type": "stream",
     "text": [
      "  37   61   90   66   56   45   41   77 "
     ]
    }
   ],
   "source": [
    "for age in ages:\n",
    "    print('{:4d}'.format(age), end=' ')"
   ]
  },
  {
   "cell_type": "code",
   "execution_count": 22,
   "id": "27181569",
   "metadata": {},
   "outputs": [
    {
     "name": "stdout",
     "output_type": "stream",
     "text": [
      "  74  122  180  132  112   90   82  154 \n",
      "1369 3721 8100 4356 3136 2025 1681 5929 "
     ]
    }
   ],
   "source": [
    "# 같은 길이의 벡터로 연산을 하면 결괏값으로 같은 길이의 벡터가 출력된다.\n",
    "for age in ages + ages:\n",
    "    print('{:4d}'.format(age), end=' ')\n",
    "print()\n",
    "for age in ages * ages:\n",
    "    print('{:4d}'.format(age), end=' ')"
   ]
  },
  {
   "cell_type": "code",
   "execution_count": 23,
   "id": "260c595e",
   "metadata": {},
   "outputs": [
    {
     "name": "stdout",
     "output_type": "stream",
     "text": [
      " 137  161  190  166  156  145  141  177 \n",
      "  74  122  180  132  112   90   82  154 "
     ]
    }
   ],
   "source": [
    "# 벡터에 스칼라 값을 연산하면 벡터 각각의 값에 스칼라 값이 연산된 결과가 출력된다.\n",
    "for age in ages + 100:\n",
    "    print('{:4d}'.format(age), end=' ')\n",
    "print()\n",
    "for age in ages * 2:\n",
    "    print('{:4d}'.format(age), end=' ')"
   ]
  },
  {
   "cell_type": "code",
   "execution_count": 24,
   "id": "d2f27901",
   "metadata": {},
   "outputs": [
    {
     "name": "stdout",
     "output_type": "stream",
     "text": [
      "0      1\n",
      "1    100\n",
      "dtype: int64\n",
      "0     38.0\n",
      "1    161.0\n",
      "2      NaN\n",
      "3      NaN\n",
      "4      NaN\n",
      "5      NaN\n",
      "6      NaN\n",
      "7      NaN\n",
      "dtype: float64\n"
     ]
    }
   ],
   "source": [
    "# 길이가 서로 다른 벡터를 연산하면 같은 인덱스를 가지는 값만 계산된다.\n",
    "print(pd.Series([1, 100]))\n",
    "# pd.Series([1, 100])의 0, 1 인덱스만 계산되고 나머지는 계산할 수 없으므로 누락값(NaN, nan, NA, na, 결측치)으로 처리된다.\n",
    "print(ages + pd.Series([1, 100]))"
   ]
  },
  {
   "cell_type": "markdown",
   "id": "287a1ef2",
   "metadata": {},
   "source": [
    "시리즈 정렬  \n",
    "sort_index() 함수는 인덱스를 정렬하고 sort_values() 함수가 데이터를 정렬한다."
   ]
  },
  {
   "cell_type": "code",
   "execution_count": 25,
   "id": "1d4db75a",
   "metadata": {},
   "outputs": [
    {
     "name": "stdout",
     "output_type": "stream",
     "text": [
      "0    37\n",
      "1    61\n",
      "2    90\n",
      "3    66\n",
      "4    56\n",
      "5    45\n",
      "6    41\n",
      "7    77\n",
      "Name: Age, dtype: int64\n",
      "0    37\n",
      "6    41\n",
      "5    45\n",
      "4    56\n",
      "1    61\n",
      "3    66\n",
      "7    77\n",
      "2    90\n",
      "Name: Age, dtype: int64\n",
      "7    77\n",
      "6    41\n",
      "5    45\n",
      "4    56\n",
      "3    66\n",
      "2    90\n",
      "1    61\n",
      "0    37\n",
      "Name: Age, dtype: int64\n"
     ]
    }
   ],
   "source": [
    "print(ages)\n",
    "# sort_index() 함수와 sort_values() 함수는 정렬 방식이 오름차순 정렬이 기본값으로 사용된다.\n",
    "# ascending=True가 기본값이므로 별다른 설정을 하지 않으면 오름차순으로 정렬되지만 False로 변경하면 내림차순으로 정렬된다.\n",
    "print(ages.sort_values())\n",
    "print(ages.sort_index(ascending=False))"
   ]
  },
  {
   "cell_type": "code",
   "execution_count": 26,
   "id": "b33eaf3a",
   "metadata": {},
   "outputs": [
    {
     "name": "stdout",
     "output_type": "stream",
     "text": [
      "0    37\n",
      "1    61\n",
      "2    90\n",
      "3    66\n",
      "4    56\n",
      "5    45\n",
      "6    41\n",
      "7    77\n",
      "Name: Age, dtype: int64\n",
      "7    77\n",
      "6    41\n",
      "5    45\n",
      "4    56\n",
      "3    66\n",
      "2    90\n",
      "1    61\n",
      "0    37\n",
      "Name: Age, dtype: int64\n",
      "  74  122  180  132  112   90   82  154 \n",
      "  74  122  180  132  112   90   82  154 "
     ]
    }
   ],
   "source": [
    "print(ages)\n",
    "rev_args = ages.sort_index(ascending=False)\n",
    "print(rev_args)\n",
    "# 벡터와 벡터의 연산은 같은 인덱스를 가지는 값끼리 수행하기 때문에 ages * 2와 같은 결과가 계산된다.\n",
    "for age in ages + rev_args:\n",
    "    print('{:4d}'.format(age), end=' ')\n",
    "print()\n",
    "for age in ages * 2:\n",
    "    print('{:4d}'.format(age), end=' ')"
   ]
  },
  {
   "cell_type": "markdown",
   "id": "5dc331b2",
   "metadata": {},
   "source": [
    "데이터프레임도 시리즈와 마찬가지로 불린 인덱싱과 브로드캐스팅을 할 수 있다."
   ]
  },
  {
   "cell_type": "code",
   "execution_count": 27,
   "id": "12c2801b",
   "metadata": {},
   "outputs": [
    {
     "name": "stdout",
     "output_type": "stream",
     "text": [
      "                   Name        Born        Died  Age          Occupation\n",
      "0     Rosaline Franklin  1920-07-25  1958-04-16   37             Chemist\n",
      "1        William Gosset  1876-06-13  1937-10-16   61        Statistician\n",
      "2  Florence Nightingale  1820-05-12  1910-08-13   90               Nurse\n",
      "3           Marie Curie  1867-11-07  1934-07-04   66             Chemist\n",
      "4         Rachel Carson  1907-05-27  1964-04-14   56           Biologist\n",
      "5             John Snow  1813-03-15  1858-06-16   45           Physician\n",
      "6           Alan Turing  1912-06-23  1954-06-07   41  Computer Scientist\n",
      "7          Johann Gauss  1777-04-30  1855-02-23   77       Mathematician\n",
      "================================================================================\n",
      "                   Name        Born        Died  Age     Occupation\n",
      "1        William Gosset  1876-06-13  1937-10-16   61   Statistician\n",
      "2  Florence Nightingale  1820-05-12  1910-08-13   90          Nurse\n",
      "3           Marie Curie  1867-11-07  1934-07-04   66        Chemist\n",
      "7          Johann Gauss  1777-04-30  1855-02-23   77  Mathematician\n"
     ]
    }
   ],
   "source": [
    "print(scientists)\n",
    "print('=' * 80)\n",
    "print(scientists[scientists.Age > scientists.Age.mean()])"
   ]
  },
  {
   "cell_type": "code",
   "execution_count": 28,
   "id": "c036e349",
   "metadata": {},
   "outputs": [
    {
     "data": {
      "text/html": [
       "<div>\n",
       "<style scoped>\n",
       "    .dataframe tbody tr th:only-of-type {\n",
       "        vertical-align: middle;\n",
       "    }\n",
       "\n",
       "    .dataframe tbody tr th {\n",
       "        vertical-align: top;\n",
       "    }\n",
       "\n",
       "    .dataframe thead th {\n",
       "        text-align: right;\n",
       "    }\n",
       "</style>\n",
       "<table border=\"1\" class=\"dataframe\">\n",
       "  <thead>\n",
       "    <tr style=\"text-align: right;\">\n",
       "      <th></th>\n",
       "      <th>Name</th>\n",
       "      <th>Born</th>\n",
       "      <th>Died</th>\n",
       "      <th>Age</th>\n",
       "      <th>Occupation</th>\n",
       "    </tr>\n",
       "  </thead>\n",
       "  <tbody>\n",
       "    <tr>\n",
       "      <th>0</th>\n",
       "      <td>Rosaline FranklinRosaline Franklin</td>\n",
       "      <td>1920-07-251920-07-25</td>\n",
       "      <td>1958-04-161958-04-16</td>\n",
       "      <td>74</td>\n",
       "      <td>ChemistChemist</td>\n",
       "    </tr>\n",
       "    <tr>\n",
       "      <th>1</th>\n",
       "      <td>William GossetWilliam Gosset</td>\n",
       "      <td>1876-06-131876-06-13</td>\n",
       "      <td>1937-10-161937-10-16</td>\n",
       "      <td>122</td>\n",
       "      <td>StatisticianStatistician</td>\n",
       "    </tr>\n",
       "    <tr>\n",
       "      <th>2</th>\n",
       "      <td>Florence NightingaleFlorence Nightingale</td>\n",
       "      <td>1820-05-121820-05-12</td>\n",
       "      <td>1910-08-131910-08-13</td>\n",
       "      <td>180</td>\n",
       "      <td>NurseNurse</td>\n",
       "    </tr>\n",
       "    <tr>\n",
       "      <th>3</th>\n",
       "      <td>Marie CurieMarie Curie</td>\n",
       "      <td>1867-11-071867-11-07</td>\n",
       "      <td>1934-07-041934-07-04</td>\n",
       "      <td>132</td>\n",
       "      <td>ChemistChemist</td>\n",
       "    </tr>\n",
       "    <tr>\n",
       "      <th>4</th>\n",
       "      <td>Rachel CarsonRachel Carson</td>\n",
       "      <td>1907-05-271907-05-27</td>\n",
       "      <td>1964-04-141964-04-14</td>\n",
       "      <td>112</td>\n",
       "      <td>BiologistBiologist</td>\n",
       "    </tr>\n",
       "    <tr>\n",
       "      <th>5</th>\n",
       "      <td>John SnowJohn Snow</td>\n",
       "      <td>1813-03-151813-03-15</td>\n",
       "      <td>1858-06-161858-06-16</td>\n",
       "      <td>90</td>\n",
       "      <td>PhysicianPhysician</td>\n",
       "    </tr>\n",
       "    <tr>\n",
       "      <th>6</th>\n",
       "      <td>Alan TuringAlan Turing</td>\n",
       "      <td>1912-06-231912-06-23</td>\n",
       "      <td>1954-06-071954-06-07</td>\n",
       "      <td>82</td>\n",
       "      <td>Computer ScientistComputer Scientist</td>\n",
       "    </tr>\n",
       "    <tr>\n",
       "      <th>7</th>\n",
       "      <td>Johann GaussJohann Gauss</td>\n",
       "      <td>1777-04-301777-04-30</td>\n",
       "      <td>1855-02-231855-02-23</td>\n",
       "      <td>154</td>\n",
       "      <td>MathematicianMathematician</td>\n",
       "    </tr>\n",
       "  </tbody>\n",
       "</table>\n",
       "</div>"
      ],
      "text/plain": [
       "                                       Name                  Born  \\\n",
       "0        Rosaline FranklinRosaline Franklin  1920-07-251920-07-25   \n",
       "1              William GossetWilliam Gosset  1876-06-131876-06-13   \n",
       "2  Florence NightingaleFlorence Nightingale  1820-05-121820-05-12   \n",
       "3                    Marie CurieMarie Curie  1867-11-071867-11-07   \n",
       "4                Rachel CarsonRachel Carson  1907-05-271907-05-27   \n",
       "5                        John SnowJohn Snow  1813-03-151813-03-15   \n",
       "6                    Alan TuringAlan Turing  1912-06-231912-06-23   \n",
       "7                  Johann GaussJohann Gauss  1777-04-301777-04-30   \n",
       "\n",
       "                   Died  Age                            Occupation  \n",
       "0  1958-04-161958-04-16   74                        ChemistChemist  \n",
       "1  1937-10-161937-10-16  122              StatisticianStatistician  \n",
       "2  1910-08-131910-08-13  180                            NurseNurse  \n",
       "3  1934-07-041934-07-04  132                        ChemistChemist  \n",
       "4  1964-04-141964-04-14  112                    BiologistBiologist  \n",
       "5  1858-06-161858-06-16   90                    PhysicianPhysician  \n",
       "6  1954-06-071954-06-07   82  Computer ScientistComputer Scientist  \n",
       "7  1855-02-231855-02-23  154            MathematicianMathematician  "
      ]
     },
     "execution_count": 28,
     "metadata": {},
     "output_type": "execute_result"
    }
   ],
   "source": [
    "# 시리즈에 스칼라 연산을 적용할 때 모든 요소에 스칼라를 적용해서 연산이 실행된 것 처럼 데이터프레임도 마찬가지로 \n",
    "# 데이터프레임에 2를 곱하면 문자열 데이터는 문자열이 2회 반복되고 숫자 데이터는 2를 곱한 숫자가 된다.\n",
    "scientists * 2"
   ]
  },
  {
   "cell_type": "markdown",
   "id": "7d418256",
   "metadata": {},
   "source": [
    "데이터프레임 열의 자료형 바꾸기"
   ]
  },
  {
   "cell_type": "code",
   "execution_count": 29,
   "id": "729c7301",
   "metadata": {},
   "outputs": [
    {
     "data": {
      "text/html": [
       "<div>\n",
       "<style scoped>\n",
       "    .dataframe tbody tr th:only-of-type {\n",
       "        vertical-align: middle;\n",
       "    }\n",
       "\n",
       "    .dataframe tbody tr th {\n",
       "        vertical-align: top;\n",
       "    }\n",
       "\n",
       "    .dataframe thead th {\n",
       "        text-align: right;\n",
       "    }\n",
       "</style>\n",
       "<table border=\"1\" class=\"dataframe\">\n",
       "  <thead>\n",
       "    <tr style=\"text-align: right;\">\n",
       "      <th></th>\n",
       "      <th>Name</th>\n",
       "      <th>Born</th>\n",
       "      <th>Died</th>\n",
       "      <th>Age</th>\n",
       "      <th>Occupation</th>\n",
       "    </tr>\n",
       "  </thead>\n",
       "  <tbody>\n",
       "    <tr>\n",
       "      <th>0</th>\n",
       "      <td>Rosaline Franklin</td>\n",
       "      <td>1920-07-25</td>\n",
       "      <td>1958-04-16</td>\n",
       "      <td>37</td>\n",
       "      <td>Chemist</td>\n",
       "    </tr>\n",
       "    <tr>\n",
       "      <th>1</th>\n",
       "      <td>William Gosset</td>\n",
       "      <td>1876-06-13</td>\n",
       "      <td>1937-10-16</td>\n",
       "      <td>61</td>\n",
       "      <td>Statistician</td>\n",
       "    </tr>\n",
       "    <tr>\n",
       "      <th>2</th>\n",
       "      <td>Florence Nightingale</td>\n",
       "      <td>1820-05-12</td>\n",
       "      <td>1910-08-13</td>\n",
       "      <td>90</td>\n",
       "      <td>Nurse</td>\n",
       "    </tr>\n",
       "    <tr>\n",
       "      <th>3</th>\n",
       "      <td>Marie Curie</td>\n",
       "      <td>1867-11-07</td>\n",
       "      <td>1934-07-04</td>\n",
       "      <td>66</td>\n",
       "      <td>Chemist</td>\n",
       "    </tr>\n",
       "    <tr>\n",
       "      <th>4</th>\n",
       "      <td>Rachel Carson</td>\n",
       "      <td>1907-05-27</td>\n",
       "      <td>1964-04-14</td>\n",
       "      <td>56</td>\n",
       "      <td>Biologist</td>\n",
       "    </tr>\n",
       "    <tr>\n",
       "      <th>5</th>\n",
       "      <td>John Snow</td>\n",
       "      <td>1813-03-15</td>\n",
       "      <td>1858-06-16</td>\n",
       "      <td>45</td>\n",
       "      <td>Physician</td>\n",
       "    </tr>\n",
       "    <tr>\n",
       "      <th>6</th>\n",
       "      <td>Alan Turing</td>\n",
       "      <td>1912-06-23</td>\n",
       "      <td>1954-06-07</td>\n",
       "      <td>41</td>\n",
       "      <td>Computer Scientist</td>\n",
       "    </tr>\n",
       "    <tr>\n",
       "      <th>7</th>\n",
       "      <td>Johann Gauss</td>\n",
       "      <td>1777-04-30</td>\n",
       "      <td>1855-02-23</td>\n",
       "      <td>77</td>\n",
       "      <td>Mathematician</td>\n",
       "    </tr>\n",
       "  </tbody>\n",
       "</table>\n",
       "</div>"
      ],
      "text/plain": [
       "                   Name        Born        Died  Age          Occupation\n",
       "0     Rosaline Franklin  1920-07-25  1958-04-16   37             Chemist\n",
       "1        William Gosset  1876-06-13  1937-10-16   61        Statistician\n",
       "2  Florence Nightingale  1820-05-12  1910-08-13   90               Nurse\n",
       "3           Marie Curie  1867-11-07  1934-07-04   66             Chemist\n",
       "4         Rachel Carson  1907-05-27  1964-04-14   56           Biologist\n",
       "5             John Snow  1813-03-15  1858-06-16   45           Physician\n",
       "6           Alan Turing  1912-06-23  1954-06-07   41  Computer Scientist\n",
       "7          Johann Gauss  1777-04-30  1855-02-23   77       Mathematician"
      ]
     },
     "execution_count": 29,
     "metadata": {},
     "output_type": "execute_result"
    }
   ],
   "source": [
    "scientists = pd.read_csv('./data/scientists.csv')\n",
    "scientists"
   ]
  },
  {
   "cell_type": "code",
   "execution_count": 30,
   "id": "55c1df57",
   "metadata": {},
   "outputs": [
    {
     "name": "stdout",
     "output_type": "stream",
     "text": [
      "Name          object\n",
      "Born          object\n",
      "Died          object\n",
      "Age            int64\n",
      "Occupation    object\n",
      "dtype: object\n"
     ]
    }
   ],
   "source": [
    "print(scientists.dtypes)"
   ]
  },
  {
   "cell_type": "code",
   "execution_count": 31,
   "id": "ea97a669",
   "metadata": {},
   "outputs": [
    {
     "name": "stdout",
     "output_type": "stream",
     "text": [
      "0    1920-07-25\n",
      "1    1876-06-13\n",
      "2    1820-05-12\n",
      "3    1867-11-07\n",
      "4    1907-05-27\n",
      "5    1813-03-15\n",
      "6    1912-06-23\n",
      "7    1777-04-30\n",
      "Name: Born, dtype: object\n",
      "0   1920-07-25\n",
      "1   1876-06-13\n",
      "2   1820-05-12\n",
      "3   1867-11-07\n",
      "4   1907-05-27\n",
      "5   1813-03-15\n",
      "6   1912-06-23\n",
      "7   1777-04-30\n",
      "Name: Born, dtype: datetime64[ns]\n",
      "0   1958-04-16\n",
      "1   1937-10-16\n",
      "2   1910-08-13\n",
      "3   1934-07-04\n",
      "4   1964-04-14\n",
      "5   1858-06-16\n",
      "6   1954-06-07\n",
      "7   1855-02-23\n",
      "Name: Died, dtype: datetime64[ns]\n"
     ]
    }
   ],
   "source": [
    "# 날짜를 문자열로 저장한 데이터는 날짜 및 시간에 관련된 작업을 할 수 있도록 to_datetime() 함수로 datetime 자료형으로 바꿔주는\n",
    "# 것이 좋다.\n",
    "# to_datetime(날짜 시리즈[, format='날짜 서식'])\n",
    "# %Y => 년도 4자리, %y => 년도 2자리, %m => 월(숫자), %B => 월(영어, 전체), %b(%h) => 월(영어, 3글자), %d => 일\n",
    "# %A => 요일(전체), %a => 요일(3글자), %H => 시간(24시각), %I => 시간(12시각), %M => 분, %S => 초, %p => AM/PM\n",
    "# %f => 마이크로 초\n",
    "born_datetime = pd.to_datetime(scientists.Born, format='%Y-%m-%d')\n",
    "print(scientists.Born)\n",
    "print(born_datetime)\n",
    "died_datetime = pd.to_datetime(scientists.Died, format='%Y-%m-%d')\n",
    "print(died_datetime)"
   ]
  },
  {
   "cell_type": "code",
   "execution_count": 32,
   "id": "d3c6d1c6",
   "metadata": {},
   "outputs": [
    {
     "name": "stdout",
     "output_type": "stream",
     "text": [
      "(8, 5)\n",
      "(8, 7)\n"
     ]
    },
    {
     "data": {
      "text/html": [
       "<div>\n",
       "<style scoped>\n",
       "    .dataframe tbody tr th:only-of-type {\n",
       "        vertical-align: middle;\n",
       "    }\n",
       "\n",
       "    .dataframe tbody tr th {\n",
       "        vertical-align: top;\n",
       "    }\n",
       "\n",
       "    .dataframe thead th {\n",
       "        text-align: right;\n",
       "    }\n",
       "</style>\n",
       "<table border=\"1\" class=\"dataframe\">\n",
       "  <thead>\n",
       "    <tr style=\"text-align: right;\">\n",
       "      <th></th>\n",
       "      <th>Name</th>\n",
       "      <th>Born</th>\n",
       "      <th>Died</th>\n",
       "      <th>Age</th>\n",
       "      <th>Occupation</th>\n",
       "      <th>born_dt</th>\n",
       "      <th>died_dt</th>\n",
       "    </tr>\n",
       "  </thead>\n",
       "  <tbody>\n",
       "    <tr>\n",
       "      <th>0</th>\n",
       "      <td>Rosaline Franklin</td>\n",
       "      <td>1920-07-25</td>\n",
       "      <td>1958-04-16</td>\n",
       "      <td>37</td>\n",
       "      <td>Chemist</td>\n",
       "      <td>1920-07-25</td>\n",
       "      <td>1958-04-16</td>\n",
       "    </tr>\n",
       "    <tr>\n",
       "      <th>1</th>\n",
       "      <td>William Gosset</td>\n",
       "      <td>1876-06-13</td>\n",
       "      <td>1937-10-16</td>\n",
       "      <td>61</td>\n",
       "      <td>Statistician</td>\n",
       "      <td>1876-06-13</td>\n",
       "      <td>1937-10-16</td>\n",
       "    </tr>\n",
       "    <tr>\n",
       "      <th>2</th>\n",
       "      <td>Florence Nightingale</td>\n",
       "      <td>1820-05-12</td>\n",
       "      <td>1910-08-13</td>\n",
       "      <td>90</td>\n",
       "      <td>Nurse</td>\n",
       "      <td>1820-05-12</td>\n",
       "      <td>1910-08-13</td>\n",
       "    </tr>\n",
       "    <tr>\n",
       "      <th>3</th>\n",
       "      <td>Marie Curie</td>\n",
       "      <td>1867-11-07</td>\n",
       "      <td>1934-07-04</td>\n",
       "      <td>66</td>\n",
       "      <td>Chemist</td>\n",
       "      <td>1867-11-07</td>\n",
       "      <td>1934-07-04</td>\n",
       "    </tr>\n",
       "    <tr>\n",
       "      <th>4</th>\n",
       "      <td>Rachel Carson</td>\n",
       "      <td>1907-05-27</td>\n",
       "      <td>1964-04-14</td>\n",
       "      <td>56</td>\n",
       "      <td>Biologist</td>\n",
       "      <td>1907-05-27</td>\n",
       "      <td>1964-04-14</td>\n",
       "    </tr>\n",
       "    <tr>\n",
       "      <th>5</th>\n",
       "      <td>John Snow</td>\n",
       "      <td>1813-03-15</td>\n",
       "      <td>1858-06-16</td>\n",
       "      <td>45</td>\n",
       "      <td>Physician</td>\n",
       "      <td>1813-03-15</td>\n",
       "      <td>1858-06-16</td>\n",
       "    </tr>\n",
       "    <tr>\n",
       "      <th>6</th>\n",
       "      <td>Alan Turing</td>\n",
       "      <td>1912-06-23</td>\n",
       "      <td>1954-06-07</td>\n",
       "      <td>41</td>\n",
       "      <td>Computer Scientist</td>\n",
       "      <td>1912-06-23</td>\n",
       "      <td>1954-06-07</td>\n",
       "    </tr>\n",
       "    <tr>\n",
       "      <th>7</th>\n",
       "      <td>Johann Gauss</td>\n",
       "      <td>1777-04-30</td>\n",
       "      <td>1855-02-23</td>\n",
       "      <td>77</td>\n",
       "      <td>Mathematician</td>\n",
       "      <td>1777-04-30</td>\n",
       "      <td>1855-02-23</td>\n",
       "    </tr>\n",
       "  </tbody>\n",
       "</table>\n",
       "</div>"
      ],
      "text/plain": [
       "                   Name        Born        Died  Age          Occupation  \\\n",
       "0     Rosaline Franklin  1920-07-25  1958-04-16   37             Chemist   \n",
       "1        William Gosset  1876-06-13  1937-10-16   61        Statistician   \n",
       "2  Florence Nightingale  1820-05-12  1910-08-13   90               Nurse   \n",
       "3           Marie Curie  1867-11-07  1934-07-04   66             Chemist   \n",
       "4         Rachel Carson  1907-05-27  1964-04-14   56           Biologist   \n",
       "5             John Snow  1813-03-15  1858-06-16   45           Physician   \n",
       "6           Alan Turing  1912-06-23  1954-06-07   41  Computer Scientist   \n",
       "7          Johann Gauss  1777-04-30  1855-02-23   77       Mathematician   \n",
       "\n",
       "     born_dt    died_dt  \n",
       "0 1920-07-25 1958-04-16  \n",
       "1 1876-06-13 1937-10-16  \n",
       "2 1820-05-12 1910-08-13  \n",
       "3 1867-11-07 1934-07-04  \n",
       "4 1907-05-27 1964-04-14  \n",
       "5 1813-03-15 1858-06-16  \n",
       "6 1912-06-23 1954-06-07  \n",
       "7 1777-04-30 1855-02-23  "
      ]
     },
     "execution_count": 32,
     "metadata": {},
     "output_type": "execute_result"
    }
   ],
   "source": [
    "# datetime 형태로 변경한 born_datetime, died_datetime를 데이터프레임에 추가한다.\n",
    "print(scientists.shape)\n",
    "# 데이터프레임에 존재하는 열 이름에 데이터를 넣으면 기존의 열이 수정되고 존재하지 않는 열 이름에 데이터를 넣으면 데이터가\n",
    "# 추가된다.\n",
    "# 데이터프레임['열 이름'] = 데이터\n",
    "# scientists['born_dt'] = born_datetime\n",
    "# scientists['died_dt'] = died_datetime\n",
    "scientists['born_dt'], scientists['died_dt'] = born_datetime, died_datetime\n",
    "print(scientists.shape)\n",
    "scientists"
   ]
  },
  {
   "cell_type": "code",
   "execution_count": 33,
   "id": "60f81703",
   "metadata": {},
   "outputs": [
    {
     "data": {
      "text/plain": [
       "Name                  object\n",
       "Born                  object\n",
       "Died                  object\n",
       "Age                    int64\n",
       "Occupation            object\n",
       "born_dt       datetime64[ns]\n",
       "died_dt       datetime64[ns]\n",
       "dtype: object"
      ]
     },
     "execution_count": 33,
     "metadata": {},
     "output_type": "execute_result"
    }
   ],
   "source": [
    "scientists.dtypes"
   ]
  },
  {
   "cell_type": "code",
   "execution_count": 38,
   "id": "592d27de",
   "metadata": {},
   "outputs": [
    {
     "name": "stdout",
     "output_type": "stream",
     "text": [
      "(8, 8)\n"
     ]
    },
    {
     "data": {
      "text/html": [
       "<div>\n",
       "<style scoped>\n",
       "    .dataframe tbody tr th:only-of-type {\n",
       "        vertical-align: middle;\n",
       "    }\n",
       "\n",
       "    .dataframe tbody tr th {\n",
       "        vertical-align: top;\n",
       "    }\n",
       "\n",
       "    .dataframe thead th {\n",
       "        text-align: right;\n",
       "    }\n",
       "</style>\n",
       "<table border=\"1\" class=\"dataframe\">\n",
       "  <thead>\n",
       "    <tr style=\"text-align: right;\">\n",
       "      <th></th>\n",
       "      <th>Name</th>\n",
       "      <th>Born</th>\n",
       "      <th>Died</th>\n",
       "      <th>Age</th>\n",
       "      <th>Occupation</th>\n",
       "      <th>born_dt</th>\n",
       "      <th>died_dt</th>\n",
       "      <th>age_days_dt</th>\n",
       "    </tr>\n",
       "  </thead>\n",
       "  <tbody>\n",
       "    <tr>\n",
       "      <th>0</th>\n",
       "      <td>Rosaline Franklin</td>\n",
       "      <td>1920-07-25</td>\n",
       "      <td>1958-04-16</td>\n",
       "      <td>37</td>\n",
       "      <td>Chemist</td>\n",
       "      <td>1920-07-25</td>\n",
       "      <td>1958-04-16</td>\n",
       "      <td>13779 days</td>\n",
       "    </tr>\n",
       "    <tr>\n",
       "      <th>1</th>\n",
       "      <td>William Gosset</td>\n",
       "      <td>1876-06-13</td>\n",
       "      <td>1937-10-16</td>\n",
       "      <td>61</td>\n",
       "      <td>Statistician</td>\n",
       "      <td>1876-06-13</td>\n",
       "      <td>1937-10-16</td>\n",
       "      <td>22404 days</td>\n",
       "    </tr>\n",
       "    <tr>\n",
       "      <th>2</th>\n",
       "      <td>Florence Nightingale</td>\n",
       "      <td>1820-05-12</td>\n",
       "      <td>1910-08-13</td>\n",
       "      <td>90</td>\n",
       "      <td>Nurse</td>\n",
       "      <td>1820-05-12</td>\n",
       "      <td>1910-08-13</td>\n",
       "      <td>32964 days</td>\n",
       "    </tr>\n",
       "    <tr>\n",
       "      <th>3</th>\n",
       "      <td>Marie Curie</td>\n",
       "      <td>1867-11-07</td>\n",
       "      <td>1934-07-04</td>\n",
       "      <td>66</td>\n",
       "      <td>Chemist</td>\n",
       "      <td>1867-11-07</td>\n",
       "      <td>1934-07-04</td>\n",
       "      <td>24345 days</td>\n",
       "    </tr>\n",
       "    <tr>\n",
       "      <th>4</th>\n",
       "      <td>Rachel Carson</td>\n",
       "      <td>1907-05-27</td>\n",
       "      <td>1964-04-14</td>\n",
       "      <td>56</td>\n",
       "      <td>Biologist</td>\n",
       "      <td>1907-05-27</td>\n",
       "      <td>1964-04-14</td>\n",
       "      <td>20777 days</td>\n",
       "    </tr>\n",
       "    <tr>\n",
       "      <th>5</th>\n",
       "      <td>John Snow</td>\n",
       "      <td>1813-03-15</td>\n",
       "      <td>1858-06-16</td>\n",
       "      <td>45</td>\n",
       "      <td>Physician</td>\n",
       "      <td>1813-03-15</td>\n",
       "      <td>1858-06-16</td>\n",
       "      <td>16529 days</td>\n",
       "    </tr>\n",
       "    <tr>\n",
       "      <th>6</th>\n",
       "      <td>Alan Turing</td>\n",
       "      <td>1912-06-23</td>\n",
       "      <td>1954-06-07</td>\n",
       "      <td>41</td>\n",
       "      <td>Computer Scientist</td>\n",
       "      <td>1912-06-23</td>\n",
       "      <td>1954-06-07</td>\n",
       "      <td>15324 days</td>\n",
       "    </tr>\n",
       "    <tr>\n",
       "      <th>7</th>\n",
       "      <td>Johann Gauss</td>\n",
       "      <td>1777-04-30</td>\n",
       "      <td>1855-02-23</td>\n",
       "      <td>77</td>\n",
       "      <td>Mathematician</td>\n",
       "      <td>1777-04-30</td>\n",
       "      <td>1855-02-23</td>\n",
       "      <td>28422 days</td>\n",
       "    </tr>\n",
       "  </tbody>\n",
       "</table>\n",
       "</div>"
      ],
      "text/plain": [
       "                   Name        Born        Died  Age          Occupation  \\\n",
       "0     Rosaline Franklin  1920-07-25  1958-04-16   37             Chemist   \n",
       "1        William Gosset  1876-06-13  1937-10-16   61        Statistician   \n",
       "2  Florence Nightingale  1820-05-12  1910-08-13   90               Nurse   \n",
       "3           Marie Curie  1867-11-07  1934-07-04   66             Chemist   \n",
       "4         Rachel Carson  1907-05-27  1964-04-14   56           Biologist   \n",
       "5             John Snow  1813-03-15  1858-06-16   45           Physician   \n",
       "6           Alan Turing  1912-06-23  1954-06-07   41  Computer Scientist   \n",
       "7          Johann Gauss  1777-04-30  1855-02-23   77       Mathematician   \n",
       "\n",
       "     born_dt    died_dt age_days_dt  \n",
       "0 1920-07-25 1958-04-16  13779 days  \n",
       "1 1876-06-13 1937-10-16  22404 days  \n",
       "2 1820-05-12 1910-08-13  32964 days  \n",
       "3 1867-11-07 1934-07-04  24345 days  \n",
       "4 1907-05-27 1964-04-14  20777 days  \n",
       "5 1813-03-15 1858-06-16  16529 days  \n",
       "6 1912-06-23 1954-06-07  15324 days  \n",
       "7 1777-04-30 1855-02-23  28422 days  "
      ]
     },
     "execution_count": 38,
     "metadata": {},
     "output_type": "execute_result"
    }
   ],
   "source": [
    "# 추가된 파생 변수 scientists.died_dt에서 scientists.born_dt를 빼면 얼마동안 세상을 살다 떠났는지 계산할 수 있다.\n",
    "scientists['age_days_dt'] = scientists.died_dt - scientists.born_dt\n",
    "print(scientists.shape)\n",
    "scientists"
   ]
  },
  {
   "cell_type": "markdown",
   "id": "eb09a428",
   "metadata": {},
   "source": [
    "시리즈, 데이터프레임의 데이터 섞기"
   ]
  },
  {
   "cell_type": "code",
   "execution_count": 42,
   "id": "aaa49ecf",
   "metadata": {},
   "outputs": [
    {
     "data": {
      "text/html": [
       "<div>\n",
       "<style scoped>\n",
       "    .dataframe tbody tr th:only-of-type {\n",
       "        vertical-align: middle;\n",
       "    }\n",
       "\n",
       "    .dataframe tbody tr th {\n",
       "        vertical-align: top;\n",
       "    }\n",
       "\n",
       "    .dataframe thead th {\n",
       "        text-align: right;\n",
       "    }\n",
       "</style>\n",
       "<table border=\"1\" class=\"dataframe\">\n",
       "  <thead>\n",
       "    <tr style=\"text-align: right;\">\n",
       "      <th></th>\n",
       "      <th>Name</th>\n",
       "      <th>Born</th>\n",
       "      <th>Died</th>\n",
       "      <th>Age</th>\n",
       "      <th>Occupation</th>\n",
       "      <th>born_dt</th>\n",
       "      <th>died_dt</th>\n",
       "      <th>age_days_dt</th>\n",
       "    </tr>\n",
       "  </thead>\n",
       "  <tbody>\n",
       "    <tr>\n",
       "      <th>0</th>\n",
       "      <td>Rosaline Franklin</td>\n",
       "      <td>1920-07-25</td>\n",
       "      <td>1958-04-16</td>\n",
       "      <td>61</td>\n",
       "      <td>Chemist</td>\n",
       "      <td>1920-07-25</td>\n",
       "      <td>1958-04-16</td>\n",
       "      <td>13779 days</td>\n",
       "    </tr>\n",
       "    <tr>\n",
       "      <th>1</th>\n",
       "      <td>William Gosset</td>\n",
       "      <td>1876-06-13</td>\n",
       "      <td>1937-10-16</td>\n",
       "      <td>56</td>\n",
       "      <td>Statistician</td>\n",
       "      <td>1876-06-13</td>\n",
       "      <td>1937-10-16</td>\n",
       "      <td>22404 days</td>\n",
       "    </tr>\n",
       "    <tr>\n",
       "      <th>2</th>\n",
       "      <td>Florence Nightingale</td>\n",
       "      <td>1820-05-12</td>\n",
       "      <td>1910-08-13</td>\n",
       "      <td>37</td>\n",
       "      <td>Nurse</td>\n",
       "      <td>1820-05-12</td>\n",
       "      <td>1910-08-13</td>\n",
       "      <td>32964 days</td>\n",
       "    </tr>\n",
       "    <tr>\n",
       "      <th>3</th>\n",
       "      <td>Marie Curie</td>\n",
       "      <td>1867-11-07</td>\n",
       "      <td>1934-07-04</td>\n",
       "      <td>41</td>\n",
       "      <td>Chemist</td>\n",
       "      <td>1867-11-07</td>\n",
       "      <td>1934-07-04</td>\n",
       "      <td>24345 days</td>\n",
       "    </tr>\n",
       "    <tr>\n",
       "      <th>4</th>\n",
       "      <td>Rachel Carson</td>\n",
       "      <td>1907-05-27</td>\n",
       "      <td>1964-04-14</td>\n",
       "      <td>45</td>\n",
       "      <td>Biologist</td>\n",
       "      <td>1907-05-27</td>\n",
       "      <td>1964-04-14</td>\n",
       "      <td>20777 days</td>\n",
       "    </tr>\n",
       "    <tr>\n",
       "      <th>5</th>\n",
       "      <td>John Snow</td>\n",
       "      <td>1813-03-15</td>\n",
       "      <td>1858-06-16</td>\n",
       "      <td>77</td>\n",
       "      <td>Physician</td>\n",
       "      <td>1813-03-15</td>\n",
       "      <td>1858-06-16</td>\n",
       "      <td>16529 days</td>\n",
       "    </tr>\n",
       "    <tr>\n",
       "      <th>6</th>\n",
       "      <td>Alan Turing</td>\n",
       "      <td>1912-06-23</td>\n",
       "      <td>1954-06-07</td>\n",
       "      <td>66</td>\n",
       "      <td>Computer Scientist</td>\n",
       "      <td>1912-06-23</td>\n",
       "      <td>1954-06-07</td>\n",
       "      <td>15324 days</td>\n",
       "    </tr>\n",
       "    <tr>\n",
       "      <th>7</th>\n",
       "      <td>Johann Gauss</td>\n",
       "      <td>1777-04-30</td>\n",
       "      <td>1855-02-23</td>\n",
       "      <td>90</td>\n",
       "      <td>Mathematician</td>\n",
       "      <td>1777-04-30</td>\n",
       "      <td>1855-02-23</td>\n",
       "      <td>28422 days</td>\n",
       "    </tr>\n",
       "  </tbody>\n",
       "</table>\n",
       "</div>"
      ],
      "text/plain": [
       "                   Name        Born        Died  Age          Occupation  \\\n",
       "0     Rosaline Franklin  1920-07-25  1958-04-16   61             Chemist   \n",
       "1        William Gosset  1876-06-13  1937-10-16   56        Statistician   \n",
       "2  Florence Nightingale  1820-05-12  1910-08-13   37               Nurse   \n",
       "3           Marie Curie  1867-11-07  1934-07-04   41             Chemist   \n",
       "4         Rachel Carson  1907-05-27  1964-04-14   45           Biologist   \n",
       "5             John Snow  1813-03-15  1858-06-16   77           Physician   \n",
       "6           Alan Turing  1912-06-23  1954-06-07   66  Computer Scientist   \n",
       "7          Johann Gauss  1777-04-30  1855-02-23   90       Mathematician   \n",
       "\n",
       "     born_dt    died_dt age_days_dt  \n",
       "0 1920-07-25 1958-04-16  13779 days  \n",
       "1 1876-06-13 1937-10-16  22404 days  \n",
       "2 1820-05-12 1910-08-13  32964 days  \n",
       "3 1867-11-07 1934-07-04  24345 days  \n",
       "4 1907-05-27 1964-04-14  20777 days  \n",
       "5 1813-03-15 1858-06-16  16529 days  \n",
       "6 1912-06-23 1954-06-07  15324 days  \n",
       "7 1777-04-30 1855-02-23  28422 days  "
      ]
     },
     "execution_count": 42,
     "metadata": {},
     "output_type": "execute_result"
    }
   ],
   "source": [
    "import random as r\n",
    "# 파이썬 random 모듈의 shuffle() 함수는 데이터를 무작위 섞어준다.\n",
    "r.shuffle(scientists.Age) # scientists 데이터프레임의 Age 열만 섞인다.\n",
    "scientists"
   ]
  },
  {
   "cell_type": "code",
   "execution_count": 62,
   "id": "b148cc57",
   "metadata": {},
   "outputs": [
    {
     "data": {
      "text/plain": [
       "['Alan Turing', 'Johann Gauss', 'Rachel Carson', 'William Gosset']"
      ]
     },
     "execution_count": 62,
     "metadata": {},
     "output_type": "execute_result"
    }
   ],
   "source": [
    "# 파이썬 random 모듈의 sample() 함수는 데이터를 무작위 섞고 지정한 개수만큼 추출한다.\n",
    "r.sample(list(scientists.Name), 4)"
   ]
  },
  {
   "cell_type": "markdown",
   "id": "89339bd4",
   "metadata": {},
   "source": [
    "데이터프레임 열 삭제하기"
   ]
  },
  {
   "cell_type": "code",
   "execution_count": 90,
   "id": "a2d4e5ae",
   "metadata": {},
   "outputs": [
    {
     "data": {
      "text/html": [
       "<div>\n",
       "<style scoped>\n",
       "    .dataframe tbody tr th:only-of-type {\n",
       "        vertical-align: middle;\n",
       "    }\n",
       "\n",
       "    .dataframe tbody tr th {\n",
       "        vertical-align: top;\n",
       "    }\n",
       "\n",
       "    .dataframe thead th {\n",
       "        text-align: right;\n",
       "    }\n",
       "</style>\n",
       "<table border=\"1\" class=\"dataframe\">\n",
       "  <thead>\n",
       "    <tr style=\"text-align: right;\">\n",
       "      <th></th>\n",
       "      <th>Name</th>\n",
       "      <th>Born</th>\n",
       "      <th>Died</th>\n",
       "      <th>Age</th>\n",
       "      <th>Occupation</th>\n",
       "    </tr>\n",
       "  </thead>\n",
       "  <tbody>\n",
       "    <tr>\n",
       "      <th>0</th>\n",
       "      <td>Rosaline Franklin</td>\n",
       "      <td>1920-07-25</td>\n",
       "      <td>1958-04-16</td>\n",
       "      <td>37</td>\n",
       "      <td>Chemist</td>\n",
       "    </tr>\n",
       "    <tr>\n",
       "      <th>1</th>\n",
       "      <td>William Gosset</td>\n",
       "      <td>1876-06-13</td>\n",
       "      <td>1937-10-16</td>\n",
       "      <td>61</td>\n",
       "      <td>Statistician</td>\n",
       "    </tr>\n",
       "    <tr>\n",
       "      <th>2</th>\n",
       "      <td>Florence Nightingale</td>\n",
       "      <td>1820-05-12</td>\n",
       "      <td>1910-08-13</td>\n",
       "      <td>90</td>\n",
       "      <td>Nurse</td>\n",
       "    </tr>\n",
       "    <tr>\n",
       "      <th>3</th>\n",
       "      <td>Marie Curie</td>\n",
       "      <td>1867-11-07</td>\n",
       "      <td>1934-07-04</td>\n",
       "      <td>66</td>\n",
       "      <td>Chemist</td>\n",
       "    </tr>\n",
       "    <tr>\n",
       "      <th>4</th>\n",
       "      <td>Rachel Carson</td>\n",
       "      <td>1907-05-27</td>\n",
       "      <td>1964-04-14</td>\n",
       "      <td>56</td>\n",
       "      <td>Biologist</td>\n",
       "    </tr>\n",
       "    <tr>\n",
       "      <th>5</th>\n",
       "      <td>John Snow</td>\n",
       "      <td>1813-03-15</td>\n",
       "      <td>1858-06-16</td>\n",
       "      <td>45</td>\n",
       "      <td>Physician</td>\n",
       "    </tr>\n",
       "    <tr>\n",
       "      <th>6</th>\n",
       "      <td>Alan Turing</td>\n",
       "      <td>1912-06-23</td>\n",
       "      <td>1954-06-07</td>\n",
       "      <td>41</td>\n",
       "      <td>Computer Scientist</td>\n",
       "    </tr>\n",
       "    <tr>\n",
       "      <th>7</th>\n",
       "      <td>Johann Gauss</td>\n",
       "      <td>1777-04-30</td>\n",
       "      <td>1855-02-23</td>\n",
       "      <td>77</td>\n",
       "      <td>Mathematician</td>\n",
       "    </tr>\n",
       "  </tbody>\n",
       "</table>\n",
       "</div>"
      ],
      "text/plain": [
       "                   Name        Born        Died  Age          Occupation\n",
       "0     Rosaline Franklin  1920-07-25  1958-04-16   37             Chemist\n",
       "1        William Gosset  1876-06-13  1937-10-16   61        Statistician\n",
       "2  Florence Nightingale  1820-05-12  1910-08-13   90               Nurse\n",
       "3           Marie Curie  1867-11-07  1934-07-04   66             Chemist\n",
       "4         Rachel Carson  1907-05-27  1964-04-14   56           Biologist\n",
       "5             John Snow  1813-03-15  1858-06-16   45           Physician\n",
       "6           Alan Turing  1912-06-23  1954-06-07   41  Computer Scientist\n",
       "7          Johann Gauss  1777-04-30  1855-02-23   77       Mathematician"
      ]
     },
     "execution_count": 90,
     "metadata": {},
     "output_type": "execute_result"
    }
   ],
   "source": [
    "scientists = pd.read_csv('./data/scientists.csv')\n",
    "scientists"
   ]
  },
  {
   "cell_type": "code",
   "execution_count": 89,
   "id": "3810ac81",
   "metadata": {},
   "outputs": [
    {
     "data": {
      "text/html": [
       "<div>\n",
       "<style scoped>\n",
       "    .dataframe tbody tr th:only-of-type {\n",
       "        vertical-align: middle;\n",
       "    }\n",
       "\n",
       "    .dataframe tbody tr th {\n",
       "        vertical-align: top;\n",
       "    }\n",
       "\n",
       "    .dataframe thead th {\n",
       "        text-align: right;\n",
       "    }\n",
       "</style>\n",
       "<table border=\"1\" class=\"dataframe\">\n",
       "  <thead>\n",
       "    <tr style=\"text-align: right;\">\n",
       "      <th></th>\n",
       "      <th>Born</th>\n",
       "      <th>Died</th>\n",
       "      <th>Occupation</th>\n",
       "    </tr>\n",
       "  </thead>\n",
       "  <tbody>\n",
       "    <tr>\n",
       "      <th>0</th>\n",
       "      <td>1920-07-25</td>\n",
       "      <td>1958-04-16</td>\n",
       "      <td>Chemist</td>\n",
       "    </tr>\n",
       "    <tr>\n",
       "      <th>1</th>\n",
       "      <td>1876-06-13</td>\n",
       "      <td>1937-10-16</td>\n",
       "      <td>Statistician</td>\n",
       "    </tr>\n",
       "    <tr>\n",
       "      <th>2</th>\n",
       "      <td>1820-05-12</td>\n",
       "      <td>1910-08-13</td>\n",
       "      <td>Nurse</td>\n",
       "    </tr>\n",
       "    <tr>\n",
       "      <th>3</th>\n",
       "      <td>1867-11-07</td>\n",
       "      <td>1934-07-04</td>\n",
       "      <td>Chemist</td>\n",
       "    </tr>\n",
       "    <tr>\n",
       "      <th>4</th>\n",
       "      <td>1907-05-27</td>\n",
       "      <td>1964-04-14</td>\n",
       "      <td>Biologist</td>\n",
       "    </tr>\n",
       "    <tr>\n",
       "      <th>5</th>\n",
       "      <td>1813-03-15</td>\n",
       "      <td>1858-06-16</td>\n",
       "      <td>Physician</td>\n",
       "    </tr>\n",
       "    <tr>\n",
       "      <th>6</th>\n",
       "      <td>1912-06-23</td>\n",
       "      <td>1954-06-07</td>\n",
       "      <td>Computer Scientist</td>\n",
       "    </tr>\n",
       "    <tr>\n",
       "      <th>7</th>\n",
       "      <td>1777-04-30</td>\n",
       "      <td>1855-02-23</td>\n",
       "      <td>Mathematician</td>\n",
       "    </tr>\n",
       "  </tbody>\n",
       "</table>\n",
       "</div>"
      ],
      "text/plain": [
       "         Born        Died          Occupation\n",
       "0  1920-07-25  1958-04-16             Chemist\n",
       "1  1876-06-13  1937-10-16        Statistician\n",
       "2  1820-05-12  1910-08-13               Nurse\n",
       "3  1867-11-07  1934-07-04             Chemist\n",
       "4  1907-05-27  1964-04-14           Biologist\n",
       "5  1813-03-15  1858-06-16           Physician\n",
       "6  1912-06-23  1954-06-07  Computer Scientist\n",
       "7  1777-04-30  1855-02-23       Mathematician"
      ]
     },
     "execution_count": 89,
     "metadata": {},
     "output_type": "execute_result"
    }
   ],
   "source": [
    "# drop() 함수는 데이터프레임의 열을 삭제한다.\n",
    "# drop(삭제할 열 이름, axis=1) # 삭제할 열이 2개 이상일 경우 리스트에 넣어줘야 한다.\n",
    "# drop() 함수는 axis=0이 기본값으로 설정되어있어서 행을 제거하려 하기 때문에 에러가 발생되므로 반드시 axis=1로 지정해서\n",
    "# 사용해야 한다.\n",
    "# scientists_dropped = scientists.drop('Age', axis=1) # 열 1개 삭제\n",
    "scientists_dropped = scientists.drop(['Name', 'Age'], axis=1) # 열 2개 이상 삭제\n",
    "scientists_dropped"
   ]
  },
  {
   "cell_type": "markdown",
   "id": "aeabfe72",
   "metadata": {},
   "source": [
    "시리즈나 데이터프레임을 피클(pickle), csv, tsv 파일로 저장하고 불러오기"
   ]
  },
  {
   "cell_type": "code",
   "execution_count": 95,
   "id": "fbf4aa2a",
   "metadata": {},
   "outputs": [
    {
     "name": "stdout",
     "output_type": "stream",
     "text": [
      "<class 'pandas.core.series.Series'>\n",
      "0       Rosaline Franklin\n",
      "1          William Gosset\n",
      "2    Florence Nightingale\n",
      "3             Marie Curie\n",
      "4           Rachel Carson\n",
      "5               John Snow\n",
      "6             Alan Turing\n",
      "7            Johann Gauss\n",
      "Name: Name, dtype: object\n"
     ]
    }
   ],
   "source": [
    "# 시리즈를 피클로 저장하기\n",
    "# 피클은 데이터를 바이너리 형태로 직렬화한 객체를 저장하는 방법으로 데이터를 오래 보관한다는 뜻으로 피클이라 이름이 붙여졌다.\n",
    "# 피클로 저장하면 스프레드시트보다 더 작은 용량으로 데이터를 저장할 수 있다.\n",
    "names = scientists.Name\n",
    "print(type(names))\n",
    "print(names)\n",
    "# 시리즈를 피클로 저장하려면 to_pickle() 함수를 사용한다.\n",
    "# 피클은 바이너리 형태의 오브젝트이기 때문에 저장된 피클 파일을 메모장같은 데이터 편집기 프로그램으로 열어보면 이상한 문자가\n",
    "# 표시된다.\n",
    "names.to_pickle('./output/scientists_name_series.pickle')"
   ]
  },
  {
   "cell_type": "code",
   "execution_count": 96,
   "id": "1e37e640",
   "metadata": {},
   "outputs": [
    {
     "name": "stdout",
     "output_type": "stream",
     "text": [
      "0       Rosaline Franklin\n",
      "1          William Gosset\n",
      "2    Florence Nightingale\n",
      "3             Marie Curie\n",
      "4           Rachel Carson\n",
      "5               John Snow\n",
      "6             Alan Turing\n",
      "7            Johann Gauss\n",
      "Name: Name, dtype: object\n"
     ]
    }
   ],
   "source": [
    "# 피클 파일을 읽어오려면 read_pickle() 함수를 사용한다.\n",
    "scientists_name_from_pickle = pd.read_pickle('./output/scientists_name_series.pickle')\n",
    "print(scientists_name_from_pickle)"
   ]
  },
  {
   "cell_type": "code",
   "execution_count": 99,
   "id": "527d05fa",
   "metadata": {},
   "outputs": [
    {
     "data": {
      "text/html": [
       "<div>\n",
       "<style scoped>\n",
       "    .dataframe tbody tr th:only-of-type {\n",
       "        vertical-align: middle;\n",
       "    }\n",
       "\n",
       "    .dataframe tbody tr th {\n",
       "        vertical-align: top;\n",
       "    }\n",
       "\n",
       "    .dataframe thead th {\n",
       "        text-align: right;\n",
       "    }\n",
       "</style>\n",
       "<table border=\"1\" class=\"dataframe\">\n",
       "  <thead>\n",
       "    <tr style=\"text-align: right;\">\n",
       "      <th></th>\n",
       "      <th>Name</th>\n",
       "      <th>Born</th>\n",
       "      <th>Died</th>\n",
       "      <th>Age</th>\n",
       "      <th>Occupation</th>\n",
       "    </tr>\n",
       "  </thead>\n",
       "  <tbody>\n",
       "    <tr>\n",
       "      <th>0</th>\n",
       "      <td>Rosaline Franklin</td>\n",
       "      <td>1920-07-25</td>\n",
       "      <td>1958-04-16</td>\n",
       "      <td>37</td>\n",
       "      <td>Chemist</td>\n",
       "    </tr>\n",
       "    <tr>\n",
       "      <th>1</th>\n",
       "      <td>William Gosset</td>\n",
       "      <td>1876-06-13</td>\n",
       "      <td>1937-10-16</td>\n",
       "      <td>61</td>\n",
       "      <td>Statistician</td>\n",
       "    </tr>\n",
       "    <tr>\n",
       "      <th>2</th>\n",
       "      <td>Florence Nightingale</td>\n",
       "      <td>1820-05-12</td>\n",
       "      <td>1910-08-13</td>\n",
       "      <td>90</td>\n",
       "      <td>Nurse</td>\n",
       "    </tr>\n",
       "    <tr>\n",
       "      <th>3</th>\n",
       "      <td>Marie Curie</td>\n",
       "      <td>1867-11-07</td>\n",
       "      <td>1934-07-04</td>\n",
       "      <td>66</td>\n",
       "      <td>Chemist</td>\n",
       "    </tr>\n",
       "    <tr>\n",
       "      <th>4</th>\n",
       "      <td>Rachel Carson</td>\n",
       "      <td>1907-05-27</td>\n",
       "      <td>1964-04-14</td>\n",
       "      <td>56</td>\n",
       "      <td>Biologist</td>\n",
       "    </tr>\n",
       "    <tr>\n",
       "      <th>5</th>\n",
       "      <td>John Snow</td>\n",
       "      <td>1813-03-15</td>\n",
       "      <td>1858-06-16</td>\n",
       "      <td>45</td>\n",
       "      <td>Physician</td>\n",
       "    </tr>\n",
       "    <tr>\n",
       "      <th>6</th>\n",
       "      <td>Alan Turing</td>\n",
       "      <td>1912-06-23</td>\n",
       "      <td>1954-06-07</td>\n",
       "      <td>41</td>\n",
       "      <td>Computer Scientist</td>\n",
       "    </tr>\n",
       "    <tr>\n",
       "      <th>7</th>\n",
       "      <td>Johann Gauss</td>\n",
       "      <td>1777-04-30</td>\n",
       "      <td>1855-02-23</td>\n",
       "      <td>77</td>\n",
       "      <td>Mathematician</td>\n",
       "    </tr>\n",
       "  </tbody>\n",
       "</table>\n",
       "</div>"
      ],
      "text/plain": [
       "                   Name        Born        Died  Age          Occupation\n",
       "0     Rosaline Franklin  1920-07-25  1958-04-16   37             Chemist\n",
       "1        William Gosset  1876-06-13  1937-10-16   61        Statistician\n",
       "2  Florence Nightingale  1820-05-12  1910-08-13   90               Nurse\n",
       "3           Marie Curie  1867-11-07  1934-07-04   66             Chemist\n",
       "4         Rachel Carson  1907-05-27  1964-04-14   56           Biologist\n",
       "5             John Snow  1813-03-15  1858-06-16   45           Physician\n",
       "6           Alan Turing  1912-06-23  1954-06-07   41  Computer Scientist\n",
       "7          Johann Gauss  1777-04-30  1855-02-23   77       Mathematician"
      ]
     },
     "execution_count": 99,
     "metadata": {},
     "output_type": "execute_result"
    }
   ],
   "source": [
    "# 데이터프레임도 피클 파일로 저장할 수 있다.\n",
    "scientists.to_pickle('./output/scientists_df.pickle')\n",
    "scientists_from_pickle = pd.read_pickle('./output/scientists_df.pickle')\n",
    "scientists_from_pickle"
   ]
  },
  {
   "cell_type": "code",
   "execution_count": 101,
   "id": "9092ad16",
   "metadata": {},
   "outputs": [],
   "source": [
    "# to_csv() 함수로 시리즈나 데이터프레임을 csv 또는 tsv 파일로 저장할 수 있다.\n",
    "names.to_csv('./output/scientists_name_csv.csv')\n",
    "# sep='\\t'로 지정하면 데이터가 tab으로 구분되는 tsv 파일로 저장할 수 있다.\n",
    "scientists.to_csv('./output/scientists_df_tsv.tsv', sep='\\t')"
   ]
  },
  {
   "cell_type": "code",
   "execution_count": null,
   "id": "1c28ac8a",
   "metadata": {},
   "outputs": [],
   "source": []
  },
  {
   "cell_type": "code",
   "execution_count": null,
   "id": "6eac6eb3",
   "metadata": {},
   "outputs": [],
   "source": []
  },
  {
   "cell_type": "code",
   "execution_count": null,
   "id": "50175e60",
   "metadata": {},
   "outputs": [],
   "source": []
  },
  {
   "cell_type": "code",
   "execution_count": null,
   "id": "7d6faa21",
   "metadata": {},
   "outputs": [],
   "source": []
  },
  {
   "cell_type": "code",
   "execution_count": null,
   "id": "00bca79d",
   "metadata": {},
   "outputs": [],
   "source": []
  }
 ],
 "metadata": {
  "kernelspec": {
   "display_name": "Python 3",
   "language": "python",
   "name": "python3"
  },
  "language_info": {
   "codemirror_mode": {
    "name": "ipython",
    "version": 3
   },
   "file_extension": ".py",
   "mimetype": "text/x-python",
   "name": "python",
   "nbconvert_exporter": "python",
   "pygments_lexer": "ipython3",
   "version": "3.6.8"
  }
 },
 "nbformat": 4,
 "nbformat_minor": 5
}
