{
 "cells": [
  {
   "cell_type": "code",
   "execution_count": 1,
   "id": "541c4b81",
   "metadata": {},
   "outputs": [],
   "source": [
    "import warnings\n",
    "warnings.filterwarnings(action='ignore')\n",
    "import requests"
   ]
  },
  {
   "cell_type": "markdown",
   "id": "9fb63465",
   "metadata": {},
   "source": [
    "requests 응답 데이터 속성  \n",
    "\n",
    "status_code: 응답 상태  \n",
    "headers: headers 정보\n",
    "cookies: cookies 정보  \n",
    "encoding: 데이터 인코딩을 확인  \n",
    "text: str 타입의 데이터  \n",
    "content: bytes 타입의 데이터  \n",
    "json(): dict 타입의 데이터 일 경우 사용"
   ]
  },
  {
   "cell_type": "code",
   "execution_count": 39,
   "id": "02ea9bb3",
   "metadata": {
    "scrolled": false
   },
   "outputs": [
    {
     "name": "stdout",
     "output_type": "stream",
     "text": [
      "검색어 입력: 테슬라\n",
      "1.\n",
      "{'title': 'EU 공급망 실사지침 시행에 따른 중소기업의 대응방안 연구 : 바다 위의 ', 'link': 'http://academic.naver.com/article.naver?doc_id=923231079', 'description': '  01 서론\\n02 선박 제조산업 현황\\n03 EU 공급망실사\\n04 (주)빈센 기업소개\\n05 (주)빈센 경영전략\\n06 (주)빈센 '}\n",
      "====================================================================================================\n",
      "2.\n",
      "{'title': '<b>테슬라</b> 밸브 형상이 수격현상 완화에 미치는 영향', 'link': 'http://academic.naver.com/article.naver?doc_id=878396999', 'description': 'The Effect of Tesla Valve Shape for Reducing a Water Hammering   Water hammering(수격현상), Pressure drop(압력강하), Flow fluct'}\n",
      "====================================================================================================\n",
      "3.\n",
      "{'title': '<b>테슬라</b> 밸브 형상이 수격현상 완화에 미치는 영향', 'link': 'http://academic.naver.com/article.naver?doc_id=927962643', 'description': 'The Effect of Tesla Valve Shape for Reducing a Water Hammering   Water hammering(수격현상), Pressure drop(압력강하), Flow fluct'}\n",
      "====================================================================================================\n",
      "4.\n",
      "{'title': '<b>테슬라</b>, 지난해 중국 신에너지차 보조금 1위 외', 'link': 'http://academic.naver.com/article.naver?doc_id=880115208', 'description': ''}\n",
      "====================================================================================================\n",
      "5.\n",
      "{'title': '<b>테슬라</b> 밸브 형상을 적용한 진동형 히트파이프의 열전달 특성에 대한 수', 'link': 'http://academic.naver.com/article.naver?doc_id=926940636', 'description': 'Numerical study on heat transfer characteristics of pulsating heat pipe with Tesla-valve    '}\n",
      "====================================================================================================\n",
      "6.\n",
      "{'title': '<b>테슬라</b>, 중국의 전기자동차 시장에 시동을 걸다', 'link': 'http://academic.naver.com/article.naver?doc_id=928325404', 'description': 'Tesla, Start up China’s Electric Vehicle Market <b>테슬라</b>는 2003년에 설립되어 현재 전 세계 전기자동차 시장을 선'}\n",
      "====================================================================================================\n",
      "7.\n",
      "{'title': '<b>테슬라</b>, 중국의 전기자동차 시장에 시동을 걸다', 'link': 'http://academic.naver.com/article.naver?doc_id=630653745', 'description': 'Tesla, Start up China&apos;s Electric Vehicle Market <b>테슬라</b>는 2003년에 설립되어 현재 전 세계 전기자동차 시장을 선도'}\n",
      "====================================================================================================\n",
      "8.\n",
      "{'title': '<b>테슬라</b> 케이스 : 혁신 과정과 발전 방향', 'link': 'http://academic.naver.com/article.naver?doc_id=929427148', 'description': 'Tesla Moving Forward 미국의 대표적인 전기 자동차 업체 <b>테슬라</b>는 2019년 전기차 시장에서 선두를 달리며 연'}\n",
      "====================================================================================================\n",
      "9.\n",
      "{'title': '조금 더 가까워진 느낌의 <b>테슬라</b> 모델 3', 'link': 'http://academic.naver.com/article.naver?doc_id=880145420', 'description': 'Tesla Model 3, More User Friendly Feeling    '}\n",
      "====================================================================================================\n",
      "10.\n",
      "{'title': '조금 더 가까워진 느낌의 <b>테슬라</b> 모델 3', 'link': 'http://academic.naver.com/article.naver?doc_id=927768793', 'description': 'Tesla Model 3, More User Friendly Feeling    '}\n",
      "====================================================================================================\n"
     ]
    }
   ],
   "source": [
    "searchText = input('검색어 입력: ')\n",
    "targetSite = 'https://openapi.naver.com/v1/search/doc.json?query=' + searchText\n",
    "headers = {\n",
    "    'User-agent': 'Mozilla/5.0 (Windows NT 6.3; WOW64; Trident/7.0; rv:11.0) like Gecko',\n",
    "    'X-Naver-Client-Id': 'Oqcgfv_V1tWY_sTxhdmA',\n",
    "    'X-Naver-Client-Secret': 'ddqNjC_3E1'\n",
    "}\n",
    "response = requests.get(targetSite, headers=headers)\n",
    "# print(response.status_code)\n",
    "# print(response.headers)\n",
    "# print(response.encoding)\n",
    "# print(response.text)\n",
    "# print(response.content)\n",
    "# print(response.json())\n",
    "searchResult = response.json()\n",
    "# print(searchResult.keys())\n",
    "items = searchResult['items']\n",
    "for i in range(len(items)):\n",
    "    print('{}.\\n{}'.format(i + 1, items[i]))\n",
    "    print('=' * 100)"
   ]
  },
  {
   "cell_type": "code",
   "execution_count": 14,
   "id": "000a7fa1",
   "metadata": {},
   "outputs": [
    {
     "name": "stdout",
     "output_type": "stream",
     "text": [
      "검색어 입력: 담배\n",
      "담배는 성인 검색어 입니다.\n"
     ]
    }
   ],
   "source": [
    "searchText = input('검색어 입력: ')\n",
    "targetSite = 'https://openapi.naver.com/v1/search/adult.json?query=' + searchText\n",
    "headers = {\n",
    "    'User-agent': 'Mozilla/5.0 (Windows NT 6.3; WOW64; Trident/7.0; rv:11.0) like Gecko',\n",
    "    'X-Naver-Client-Id': 'Oqcgfv_V1tWY_sTxhdmA',\n",
    "    'X-Naver-Client-Secret': 'ddqNjC_3E1'\n",
    "}\n",
    "response = requests.get(targetSite, headers=headers)\n",
    "searchResult = response.json()\n",
    "adult = searchResult['adult']\n",
    "print('{}는 {} 검색어 입니다.'.format(searchText, '일반' if adult == 1 else '성인'))"
   ]
  },
  {
   "cell_type": "code",
   "execution_count": 35,
   "id": "2d13d8bc",
   "metadata": {},
   "outputs": [
    {
     "name": "stdout",
     "output_type": "stream",
     "text": [
      "문장 입력: 아릉다운 이땅에 금수강산에 단군하라버지가\n",
      "아름다운 이땅에 금수강산에 단군할아버지가 \n"
     ]
    }
   ],
   "source": [
    "searchText = input('문장 입력: ').split()\n",
    "for text in searchText:\n",
    "    targetSite = 'https://openapi.naver.com/v1/search/errata.json?query=' + text\n",
    "    headers = {\n",
    "        'User-agent': 'Mozilla/5.0 (Windows NT 6.3; WOW64; Trident/7.0; rv:11.0) like Gecko',\n",
    "        'X-Naver-Client-Id': 'Oqcgfv_V1tWY_sTxhdmA',\n",
    "        'X-Naver-Client-Secret': 'ddqNjC_3E1'\n",
    "    }\n",
    "    response = requests.get(targetSite, headers=headers)\n",
    "    searchResult = response.json()\n",
    "    errata = searchResult['errata']\n",
    "    if len(errata) == 0:\n",
    "        print(text, end=' ')\n",
    "    else:\n",
    "        print(errata, end=' ')\n",
    "print()"
   ]
  },
  {
   "cell_type": "code",
   "execution_count": null,
   "id": "68390a66",
   "metadata": {},
   "outputs": [],
   "source": []
  },
  {
   "cell_type": "code",
   "execution_count": null,
   "id": "6ba76b3e",
   "metadata": {},
   "outputs": [],
   "source": []
  },
  {
   "cell_type": "code",
   "execution_count": null,
   "id": "bbceffff",
   "metadata": {},
   "outputs": [],
   "source": []
  }
 ],
 "metadata": {
  "kernelspec": {
   "display_name": "Python 3",
   "language": "python",
   "name": "python3"
  },
  "language_info": {
   "codemirror_mode": {
    "name": "ipython",
    "version": 3
   },
   "file_extension": ".py",
   "mimetype": "text/x-python",
   "name": "python",
   "nbconvert_exporter": "python",
   "pygments_lexer": "ipython3",
   "version": "3.6.8"
  }
 },
 "nbformat": 4,
 "nbformat_minor": 5
}
