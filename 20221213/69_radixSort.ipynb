{
 "cells": [
  {
   "cell_type": "markdown",
   "id": "db964ad3",
   "metadata": {},
   "source": [
    "# Radix Sort(기수 정렬)"
   ]
  },
  {
   "cell_type": "markdown",
   "id": "114a4279",
   "metadata": {},
   "source": [
    "<img src=\"radixSort_1.png\" width=\"1000\" align=\"left\"/>"
   ]
  },
  {
   "cell_type": "markdown",
   "id": "11ba695b",
   "metadata": {},
   "source": [
    "<img src=\"radixSort_2.png\" width=\"1000\" align=\"left\"/>"
   ]
  },
  {
   "cell_type": "code",
   "execution_count": 4,
   "id": "5f515018",
   "metadata": {},
   "outputs": [
    {
     "name": "stdout",
     "output_type": "stream",
     "text": [
      "[[], [], [], [], [], [], [], [], [], []]\n"
     ]
    }
   ],
   "source": [
    "# Queue로 사용할 2차원 빈 리스트를 선언한다.\n",
    "queueList = [[] for i in range(10)]\n",
    "print(queueList)"
   ]
  },
  {
   "cell_type": "code",
   "execution_count": null,
   "id": "5b81c2fa",
   "metadata": {},
   "outputs": [],
   "source": [
    "data = [19, 2, 21, 45, 30, 11, 121, 27]\n",
    "radix = 1 # 큐에 넣어줄 자리수 위치를 기억하는 변수(1 => 10 => 100 => 1000 => ...)\n",
    "count = 1 # 회전수를 기억하는 변수\n",
    "isSort = False # 정렬이 완료되었나 기억하는 변수, True로 변경되면 정렬이 완료되었음을 의미한다.\n",
    "\n",
    "# 정렬이 완료될 때 까지 반복한다.\n",
    "# isSort에 False가 들어있으면 아직 정렬이 완료되지 않은 상태를 의미하고 True가 들어있으면 정렬이 완료된 상태를 의미한다.\n",
    "while not isSort:\n",
    "    pass\n",
    "# ===== while"
   ]
  },
  {
   "cell_type": "code",
   "execution_count": null,
   "id": "8de1ef47",
   "metadata": {},
   "outputs": [],
   "source": []
  },
  {
   "cell_type": "code",
   "execution_count": null,
   "id": "f4d175a3",
   "metadata": {},
   "outputs": [],
   "source": []
  },
  {
   "cell_type": "code",
   "execution_count": null,
   "id": "5d1c8889",
   "metadata": {},
   "outputs": [],
   "source": []
  },
  {
   "cell_type": "code",
   "execution_count": null,
   "id": "ee844c32",
   "metadata": {},
   "outputs": [],
   "source": []
  },
  {
   "cell_type": "code",
   "execution_count": null,
   "id": "663e29fb",
   "metadata": {},
   "outputs": [],
   "source": []
  },
  {
   "cell_type": "code",
   "execution_count": null,
   "id": "e88148bf",
   "metadata": {},
   "outputs": [],
   "source": []
  }
 ],
 "metadata": {
  "kernelspec": {
   "display_name": "Python 3",
   "language": "python",
   "name": "python3"
  },
  "language_info": {
   "codemirror_mode": {
    "name": "ipython",
    "version": 3
   },
   "file_extension": ".py",
   "mimetype": "text/x-python",
   "name": "python",
   "nbconvert_exporter": "python",
   "pygments_lexer": "ipython3",
   "version": "3.6.8"
  }
 },
 "nbformat": 4,
 "nbformat_minor": 5
}
