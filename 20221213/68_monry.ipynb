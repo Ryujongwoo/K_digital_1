{
 "cells": [
  {
   "cell_type": "markdown",
   "id": "daf483ec",
   "metadata": {},
   "source": [
    "# 출장비로 지급할 화폐 매수 계산하기"
   ]
  },
  {
   "cell_type": "markdown",
   "id": "8191161e",
   "metadata": {},
   "source": [
    "<img src=\"money_1.png\" width=\"1000\" align=\"left\"/>"
   ]
  },
  {
   "cell_type": "markdown",
   "id": "c7e12ccd",
   "metadata": {},
   "source": [
    "<img src=\"money_2.png\" width=\"1000\" align=\"left\"/>"
   ]
  },
  {
   "cell_type": "markdown",
   "id": "bef4fdca",
   "metadata": {},
   "source": [
    "<img src=\"money_3.png\" width=\"1000\" align=\"left\"/>"
   ]
  },
  {
   "cell_type": "code",
   "execution_count": 9,
   "id": "bc8fc5c3",
   "metadata": {},
   "outputs": [
    {
     "name": "stdout",
     "output_type": "stream",
     "text": [
      "이름과 출장비를 입력하세요: 강감찬 537620\n",
      "강감찬 537620 10 3 1 2 1 1 0 2 0 0 \n",
      "이름과 출장비를 입력하세요: 김유신 538972\n",
      "김유신 538972 10 3 1 3 1 4 1 2 0 2 \n",
      "이름과 출장비를 입력하세요: 홍길동 173105\n",
      "홍길동 173105 3 2 0 3 0 1 0 0 1 0 \n",
      "이름과 출장비를 입력하세요: quit 0\n",
      "[23, 8, 2, 8, 2, 6, 1, 4, 1, 2]\n"
     ]
    }
   ],
   "source": [
    "pm = [0 for i in range(10)] # 개인별 화폐 매수를 기억할 리스트를 선언한다.\n",
    "tm = [0 for i in range(10)] # 전체 화폐 매수를 기억할 리스트를 선언한다.\n",
    "# print(pm, tm)\n",
    "\n",
    "# 이름에 'quit'가 입력될 때 까지 반복하며 화폐 매수를 계산한다.\n",
    "while True:\n",
    "    n, p = input('이름과 출장비를 입력하세요: ').split()\n",
    "    if n.lower() == 'quit':\n",
    "        break\n",
    "    \n",
    "    t = int(p) # 나중에 입력받은 출장비를 출력하기 위해 출장비의 복사본을 만든다.\n",
    "    m = 50000  # 화폐 매수를 계산할 화폐 권종을 초기화시킨다.\n",
    "    sw = 1     # 화폐 권종 변경에 사용할 스위치(toggle) 변수\n",
    "    \n",
    "    # 화폐 권종의 개수만큼 반복하며 개인별 출장비의 화폐 매수를 계산한다.\n",
    "    for k in range(10):\n",
    "        pm[k] = t // m # 권종별 화폐 매수를 계산한다.\n",
    "        t %= m         # 다음 화폐 권종의 매수를 계산하기 위해 권종별 화폐 매수를 계산하고 남은 나머지 금액을 계산한다.\n",
    "        # 다음 화폐 권종을 계산한다.\n",
    "        if sw == 1:\n",
    "            m //= 5; sw = 0\n",
    "        else:\n",
    "            m //= 2; sw = 1\n",
    "    # ===== for\n",
    "    \n",
    "    # 이름과 개인별 화폐 권종 수를 출력하고 전체 화폐 매수를 계산한다.\n",
    "    print(n, p, end=' ')\n",
    "    for k in range(10):\n",
    "        print(pm[k], end=' ')\n",
    "        tm[k] += pm[k] # 전체 화폐 매수를 계산한다.\n",
    "    # ===== for\n",
    "    print()\n",
    "# ===== while\n",
    "print(tm)"
   ]
  },
  {
   "cell_type": "code",
   "execution_count": 11,
   "id": "b0baf1dd",
   "metadata": {},
   "outputs": [],
   "source": [
    "# 개인별 이름과 출장비, 출장비에 따른 화폐 권종별 화폐 매수를 기억하는 클래스\n",
    "class Money:\n",
    "    def __init__(self, name, money):\n",
    "        self.name = name\n",
    "        self.money = money\n",
    "        # 개인별 화폐 매수를 계산한다.\n",
    "        self.pm = [0 for i in range(10)]\n",
    "        t = money\n",
    "        m = 50000\n",
    "        sw = 1\n",
    "        for i in range(10):\n",
    "            self.pm[i] = t // m\n",
    "            t %= m\n",
    "            if sw == 1:\n",
    "                m //= 5; sw = 0\n",
    "            else:\n",
    "                m //= 2; sw = 1\n",
    "        # ===== for\n",
    "    # ===== __init__\n",
    "    \n",
    "    def __str__(self):\n",
    "        return '{} {} {}'.format(self.name, self.money, self.pm)"
   ]
  },
  {
   "cell_type": "code",
   "execution_count": 15,
   "id": "d47ada6a",
   "metadata": {},
   "outputs": [
    {
     "name": "stdout",
     "output_type": "stream",
     "text": [
      "홍길동\n",
      "123456\n",
      "[2, 2, 0, 3, 0, 4, 1, 0, 1, 1]\n",
      "홍길동 123456 [2, 2, 0, 3, 0, 4, 1, 0, 1, 1]\n"
     ]
    }
   ],
   "source": [
    "money = Money('홍길동', 123456)\n",
    "print(money.name)\n",
    "print(money.money)\n",
    "print(money.pm)\n",
    "print(money)"
   ]
  },
  {
   "cell_type": "code",
   "execution_count": 16,
   "id": "0fe0530f",
   "metadata": {},
   "outputs": [
    {
     "name": "stdout",
     "output_type": "stream",
     "text": [
      "이름과 출장비를 입력하세요: 강감찬 537620\n",
      "이름과 출장비를 입력하세요: 김유신 838973\n",
      "이름과 출장비를 입력하세요: 홍길동 173105\n",
      "이름과 출장비를 입력하세요: quit 0\n"
     ]
    }
   ],
   "source": [
    "m = []\n",
    "while True:\n",
    "    n, p = input('이름과 출장비를 입력하세요: ').split()\n",
    "    if n.lower() == 'quit':\n",
    "        break\n",
    "    money = Money(n, int(p))\n",
    "    m.append(money)"
   ]
  },
  {
   "cell_type": "code",
   "execution_count": 17,
   "id": "22c1f0d8",
   "metadata": {},
   "outputs": [
    {
     "name": "stdout",
     "output_type": "stream",
     "text": [
      "강감찬 537620 [10, 3, 1, 2, 1, 1, 0, 2, 0, 0]\n",
      "김유신 838973 [16, 3, 1, 3, 1, 4, 1, 2, 0, 3]\n",
      "홍길동 173105 [3, 2, 0, 3, 0, 1, 0, 0, 1, 0]\n"
     ]
    }
   ],
   "source": [
    "for i in m:\n",
    "    print(i)"
   ]
  },
  {
   "cell_type": "code",
   "execution_count": 30,
   "id": "fa3f6e68",
   "metadata": {},
   "outputs": [
    {
     "name": "stdout",
     "output_type": "stream",
     "text": [
      "출장비 지급 일람표\n",
      "================================================================================\n",
      " 이름        출장비 50000 10000  5000  1000   500   100    50    10     5     1\n",
      "================================================================================\n",
      "강감찬      537,620    10     3     1     2     1     1     0     2     0     0\n",
      "김유신      838,973    16     3     1     3     1     4     1     2     0     3\n",
      "홍길동      173,105     3     2     0     3     0     1     0     0     1     0\n",
      "================================================================================\n",
      "합계:                  29     8     2     8     2     6     1     4     1     3\n",
      "================================================================================\n"
     ]
    }
   ],
   "source": [
    "print('출장비 지급 일람표')\n",
    "print('=' * 80)\n",
    "print(' 이름        출장비 50000 10000  5000  1000   500   100    50    10     5     1')\n",
    "print('=' * 80)\n",
    "tm = [0 for i in range(10)]\n",
    "for i in m:\n",
    "    print('{:5s} {:10,d}'.format(i.name, i.money), end='')\n",
    "    for j in range(10):\n",
    "        print('{:6d}'.format(i.pm[j]), end='')\n",
    "        tm[j] += i.pm[j]\n",
    "    # ===== for j\n",
    "    print()\n",
    "# ===== for i\n",
    "print('=' * 80)\n",
    "print('합계:              ', end='')\n",
    "for i in range(10):\n",
    "        print('{:6d}'.format(tm[i]), end='')\n",
    "print('\\n' + '=' * 80)"
   ]
  },
  {
   "cell_type": "code",
   "execution_count": null,
   "id": "7d728f40",
   "metadata": {},
   "outputs": [],
   "source": []
  },
  {
   "cell_type": "code",
   "execution_count": null,
   "id": "718ed2ae",
   "metadata": {},
   "outputs": [],
   "source": []
  },
  {
   "cell_type": "code",
   "execution_count": null,
   "id": "a4654cbd",
   "metadata": {},
   "outputs": [],
   "source": []
  },
  {
   "cell_type": "code",
   "execution_count": null,
   "id": "ed5c92e6",
   "metadata": {},
   "outputs": [],
   "source": []
  },
  {
   "cell_type": "code",
   "execution_count": null,
   "id": "8591be38",
   "metadata": {},
   "outputs": [],
   "source": []
  },
  {
   "cell_type": "code",
   "execution_count": null,
   "id": "c90a530d",
   "metadata": {},
   "outputs": [],
   "source": []
  },
  {
   "cell_type": "code",
   "execution_count": null,
   "id": "cb419ea1",
   "metadata": {},
   "outputs": [],
   "source": []
  },
  {
   "cell_type": "code",
   "execution_count": null,
   "id": "24283249",
   "metadata": {},
   "outputs": [],
   "source": []
  }
 ],
 "metadata": {
  "kernelspec": {
   "display_name": "Python 3",
   "language": "python",
   "name": "python3"
  },
  "language_info": {
   "codemirror_mode": {
    "name": "ipython",
    "version": 3
   },
   "file_extension": ".py",
   "mimetype": "text/x-python",
   "name": "python",
   "nbconvert_exporter": "python",
   "pygments_lexer": "ipython3",
   "version": "3.6.8"
  }
 },
 "nbformat": 4,
 "nbformat_minor": 5
}
