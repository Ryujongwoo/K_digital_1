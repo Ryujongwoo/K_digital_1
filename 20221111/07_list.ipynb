{
 "cells": [
  {
   "cell_type": "markdown",
   "id": "f01b0f4e",
   "metadata": {},
   "source": [
    "# 리스트 만들기\n",
    "리스트는 데이터를 []로 감싸주고 데이터와 데이터는 ','로 구분한다."
   ]
  },
  {
   "cell_type": "code",
   "execution_count": 5,
   "id": "ab7629a9",
   "metadata": {},
   "outputs": [
    {
     "name": "stdout",
     "output_type": "stream",
     "text": [
      "<class 'list'>\n",
      "[]\n",
      "================================================================================\n",
      "<class 'list'>\n",
      "[]\n"
     ]
    }
   ],
   "source": [
    "# 빈 리스트 만들기\n",
    "a = []\n",
    "print(type(a))\n",
    "print(a)\n",
    "print('=' * 80)\n",
    "# 빈 리스트는 생성자 함수를 사용해서도 만들 수 있다.\n",
    "b = list()\n",
    "print(type(b))\n",
    "print(b)"
   ]
  },
  {
   "cell_type": "code",
   "execution_count": 11,
   "id": "4f638484",
   "metadata": {},
   "outputs": [
    {
     "name": "stdout",
     "output_type": "stream",
     "text": [
      "<class 'list'>\n",
      "[1, 2, 3]\n",
      "================================================================================\n",
      "['a', 'b', 'c']\n",
      "================================================================================\n",
      "[100, 'aaa', 200, 'bbb']\n",
      "================================================================================\n",
      "[[100, 'aaa'], [200, 'bbb']]\n"
     ]
    }
   ],
   "source": [
    "# 초기치를 가지는 리스트\n",
    "a = [1, 2, 3]\n",
    "print(type(a))\n",
    "print(a)\n",
    "print('=' * 80)\n",
    "b = ['a', 'b', 'c']\n",
    "print(b)\n",
    "print('=' * 80)\n",
    "c = [100, 'aaa', 200, 'bbb']\n",
    "print(c)\n",
    "print('=' * 80)\n",
    "c = [[100, 'aaa'], [200, 'bbb']] # 데이터 요소로 리스트를 가지는 리스트 => 2차원 리스트\n",
    "print(c)"
   ]
  },
  {
   "cell_type": "markdown",
   "id": "8603ce68",
   "metadata": {},
   "source": [
    "리스트 인덱싱"
   ]
  },
  {
   "cell_type": "code",
   "execution_count": 16,
   "id": "6b4c7aa0",
   "metadata": {},
   "outputs": [
    {
     "name": "stdout",
     "output_type": "stream",
     "text": [
      "[1, 2, 3]\n",
      "1\n",
      "<class 'int'>\n",
      "3\n",
      "3\n"
     ]
    }
   ],
   "source": [
    "a = [1, 2, 3]\n",
    "print(a) # 리스트 이름은 리스트 전체를 의미한다.\n",
    "print(a[0])\n",
    "print(type(a[0]))\n",
    "print(a[2])\n",
    "print(a[-1])"
   ]
  },
  {
   "cell_type": "code",
   "execution_count": 20,
   "id": "484b7b8a",
   "metadata": {},
   "outputs": [
    {
     "name": "stdout",
     "output_type": "stream",
     "text": [
      "[1, 2, 3, ['a', 'b', 'c']]\n",
      "4\n",
      "['a', 'b', 'c']\n",
      "['a', 'b', 'c']\n",
      "b\n"
     ]
    }
   ],
   "source": [
    "a = [1, 2, 3, ['a', 'b', 'c']]\n",
    "print(a)\n",
    "print(len(a))\n",
    "print(a[3])\n",
    "print(a[-1])\n",
    "print(a[3][1]) # 2차원 인덱싱"
   ]
  },
  {
   "cell_type": "code",
   "execution_count": 25,
   "id": "e87d1ee5",
   "metadata": {},
   "outputs": [
    {
     "name": "stdout",
     "output_type": "stream",
     "text": [
      "[1, 2, ['a', 'b', [True, 3.14]]]\n",
      "['a', 'b', [True, 3.14]]\n",
      "[True, 3.14]\n",
      "True\n"
     ]
    }
   ],
   "source": [
    "a = [1, 2, ['a', 'b', [True, 3.14]]]\n",
    "print(a)\n",
    "print(a[2])\n",
    "print(a[2][2])\n",
    "print(a[2][2][0]) # 3차원 인덱싱"
   ]
  },
  {
   "cell_type": "markdown",
   "id": "ed65719f",
   "metadata": {},
   "source": [
    "리스트 슬라이싱"
   ]
  },
  {
   "cell_type": "code",
   "execution_count": 33,
   "id": "0fa6bd30",
   "metadata": {},
   "outputs": [
    {
     "name": "stdout",
     "output_type": "stream",
     "text": [
      "[1, 2, 3, 4, 5]\n",
      "1\n",
      "[1]\n",
      "[1, 2, 3]\n",
      "[3, 4, 5]\n",
      "[1, 2, 3, 4, 5]\n",
      "[1, 3, 5]\n",
      "[5, 4, 3, 2, 1]\n"
     ]
    }
   ],
   "source": [
    "a = [1, 2, 3, 4, 5]\n",
    "print(a)\n",
    "print(a[0]) # 인덱싱되는 요소가 상수면 상수로 리턴된다.\n",
    "print(a[0:1]) # 슬라이싱되는 요소가 상수라도 리스트로 리턴된다.\n",
    "print(a[:3])\n",
    "print(a[2:])\n",
    "print(a[:])\n",
    "print(a[::2])\n",
    "print(a[::-1])"
   ]
  },
  {
   "cell_type": "markdown",
   "id": "929a8974",
   "metadata": {},
   "source": [
    "리스트 연산자 => '+'는 2개의 리스트를 연결하고 '*'는 리스트를 지정된 횟수만큼 반복한다."
   ]
  },
  {
   "cell_type": "code",
   "execution_count": 35,
   "id": "b59cb000",
   "metadata": {},
   "outputs": [
    {
     "name": "stdout",
     "output_type": "stream",
     "text": [
      "[1, 2, 3, 4, 5, 6, 7]\n",
      "[1, 2, 3, 1, 2, 3, 1, 2, 3]\n"
     ]
    }
   ],
   "source": [
    "a = [1, 2, 3]\n",
    "b = [4, 5, 6, 7]\n",
    "print(a + b)\n",
    "print(a * 3)"
   ]
  },
  {
   "cell_type": "markdown",
   "id": "a2705491",
   "metadata": {},
   "source": [
    "리스트 데이터 요소의 수정 및 삭제"
   ]
  },
  {
   "cell_type": "code",
   "execution_count": 45,
   "id": "552e2514",
   "metadata": {},
   "outputs": [
    {
     "name": "stdout",
     "output_type": "stream",
     "text": [
      "abcde\n",
      "<class 'str'>\n",
      "c\n",
      "abCde\n",
      "abde\n"
     ]
    }
   ],
   "source": [
    "string = 'abcde'\n",
    "print(string)\n",
    "print(type(string))\n",
    "print(string[2])\n",
    "# 문자열 데이터의 일부분을 수정하려하면 에러가 발생된다.\n",
    "# string[2] = 'C' # 에러\n",
    "# 문자열 데이터의 일부분을 삭제하려하면 에러가 발생된다.\n",
    "# del string[2] # 에러\n",
    "print(string[:2] + 'C' + string[3:])\n",
    "print(string[:2] + string[3:])"
   ]
  },
  {
   "cell_type": "code",
   "execution_count": 51,
   "id": "3e9aca9e",
   "metadata": {},
   "outputs": [
    {
     "name": "stdout",
     "output_type": "stream",
     "text": [
      "[1, 2, 3]\n",
      "[1, 4, 3]\n",
      "[[100, 200, 300], 4, 3]\n",
      "[[100, 200, 300], 4, 'a', 'b', 'c']\n"
     ]
    }
   ],
   "source": [
    "a = [1, 2, 3]\n",
    "print(a)\n",
    "# 인덱싱을 이용한 데이터 수정\n",
    "a[1] = 4 # 수정할 리스트의 인덱스 번째 요소에 값을 대입하면 된다.\n",
    "print(a)\n",
    "# 인덱싱을 이용해 특정 인덱스 위치에 리스트를 대입하면 리스트 자체가 대입된다.\n",
    "a[0] = [100, 200, 300]\n",
    "print(a)\n",
    "# 슬라이싱을 이용한 데이터 수정\n",
    "a[2:3] = ['a', 'b', 'c'] # 슬라이싱한 범위에 리스트를 대입하면 리스트의 데이터만 대입된다.\n",
    "print(a)\n",
    "# 슬라이싱한 범위에 상수를 대입하면 에러가 발생된다.\n",
    "# a[1:2] = 999 # 에러"
   ]
  },
  {
   "cell_type": "code",
   "execution_count": 56,
   "id": "5cfccda4",
   "metadata": {},
   "outputs": [
    {
     "name": "stdout",
     "output_type": "stream",
     "text": [
      "[1, 2, 3, 4, 5]\n",
      "[1, 3, 4, 5]\n",
      "[1, 5]\n",
      "[]\n"
     ]
    },
    {
     "ename": "NameError",
     "evalue": "name 'a' is not defined",
     "output_type": "error",
     "traceback": [
      "\u001b[1;31m---------------------------------------------------------------------------\u001b[0m",
      "\u001b[1;31mNameError\u001b[0m                                 Traceback (most recent call last)",
      "\u001b[1;32m<ipython-input-56-2f54d95878f2>\u001b[0m in \u001b[0;36m<module>\u001b[1;34m\u001b[0m\n\u001b[0;32m     12\u001b[0m \u001b[1;31m# del 명령으로 리스트 자체를 삭제할 수 있다.\u001b[0m\u001b[1;33m\u001b[0m\u001b[1;33m\u001b[0m\u001b[1;33m\u001b[0m\u001b[0m\n\u001b[0;32m     13\u001b[0m \u001b[1;32mdel\u001b[0m \u001b[0ma\u001b[0m\u001b[1;33m\u001b[0m\u001b[1;33m\u001b[0m\u001b[0m\n\u001b[1;32m---> 14\u001b[1;33m \u001b[0mprint\u001b[0m\u001b[1;33m(\u001b[0m\u001b[0ma\u001b[0m\u001b[1;33m)\u001b[0m\u001b[1;33m\u001b[0m\u001b[1;33m\u001b[0m\u001b[0m\n\u001b[0m",
      "\u001b[1;31mNameError\u001b[0m: name 'a' is not defined"
     ]
    }
   ],
   "source": [
    "a = [1, 2, 3, 4, 5]\n",
    "print(a)\n",
    "# del 명령으로 인덱싱된 리스트의 데이터를 삭제할 수 있다.\n",
    "del a[1]\n",
    "print(a)\n",
    "# del 명령으로 슬라이싱된 리스트의 데이터를 삭제할 수 있다.\n",
    "del a[1:3]\n",
    "print(a)\n",
    "# clear() 메소드를 사용하면 리스트의 모든 데이터를 삭제할 수 있다.\n",
    "a.clear()\n",
    "print(a)\n",
    "# del 명령으로 리스트 자체를 삭제할 수 있다.\n",
    "del a\n",
    "print(a)"
   ]
  },
  {
   "cell_type": "code",
   "execution_count": null,
   "id": "2c8daa8a",
   "metadata": {},
   "outputs": [],
   "source": []
  },
  {
   "cell_type": "code",
   "execution_count": null,
   "id": "7c62da00",
   "metadata": {},
   "outputs": [],
   "source": []
  },
  {
   "cell_type": "code",
   "execution_count": null,
   "id": "9d1505a1",
   "metadata": {},
   "outputs": [],
   "source": []
  },
  {
   "cell_type": "code",
   "execution_count": null,
   "id": "8f4981f8",
   "metadata": {},
   "outputs": [],
   "source": []
  },
  {
   "cell_type": "code",
   "execution_count": null,
   "id": "0dce104b",
   "metadata": {},
   "outputs": [],
   "source": []
  },
  {
   "cell_type": "code",
   "execution_count": null,
   "id": "6f26ea7c",
   "metadata": {},
   "outputs": [],
   "source": []
  }
 ],
 "metadata": {
  "kernelspec": {
   "display_name": "Python 3",
   "language": "python",
   "name": "python3"
  },
  "language_info": {
   "codemirror_mode": {
    "name": "ipython",
    "version": 3
   },
   "file_extension": ".py",
   "mimetype": "text/x-python",
   "name": "python",
   "nbconvert_exporter": "python",
   "pygments_lexer": "ipython3",
   "version": "3.6.8"
  }
 },
 "nbformat": 4,
 "nbformat_minor": 5
}
