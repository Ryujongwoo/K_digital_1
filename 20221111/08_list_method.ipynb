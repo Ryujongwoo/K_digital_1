{
 "cells": [
  {
   "cell_type": "markdown",
   "id": "d6ac188e",
   "metadata": {},
   "source": [
    "리스트 메소드"
   ]
  },
  {
   "cell_type": "code",
   "execution_count": 12,
   "id": "42568a92",
   "metadata": {},
   "outputs": [
    {
     "name": "stdout",
     "output_type": "stream",
     "text": [
      "3\n",
      "================================================================================\n",
      "[1, 2, 3]\n",
      "[1, 2, 3, 4]\n",
      "================================================================================\n",
      "[1, 5, 2, 3, 4]\n",
      "================================================================================\n",
      "[1, 5, 2, 3, 999, 4]\n",
      "[1, 5, 2, 3, 999, 4, 777]\n"
     ]
    }
   ],
   "source": [
    "a = [1, 2, 3]\n",
    "\n",
    "# len() 함수로 리스트에 저장된 데이터의 개수를 얻어온다.\n",
    "print(len(a))\n",
    "print('=' * 80)\n",
    "\n",
    "# append(데이터) 메소드로 리스트의 맨 뒤에 데이터를 추가한다.\n",
    "print(a)\n",
    "a.append(4)\n",
    "print(a)\n",
    "print('=' * 80)\n",
    "\n",
    "# insert(인덱스, 데이터) 메소드로 리스트의 특정 인덱스 위치에 데이터를 삽입한다.\n",
    "a.insert(1, 5)\n",
    "print(a)\n",
    "print('=' * 80)\n",
    "\n",
    "# insert() 메소드와 len() 함수를 사용해서 append() 메소드 효과내기\n",
    "a.insert(-1, 999)\n",
    "print(a)\n",
    "a.insert(len(a), 777)\n",
    "print(a)"
   ]
  },
  {
   "cell_type": "code",
   "execution_count": 19,
   "id": "285f34db",
   "metadata": {},
   "outputs": [
    {
     "name": "stdout",
     "output_type": "stream",
     "text": [
      "[1, 5, 2, 3, 6, 4]\n",
      "[1, 2, 3, 4, 5, 6]\n",
      "================================================================================\n",
      "['1', '010', '999', '50']\n",
      "['010', '1', '50', '999']\n",
      "================================================================================\n",
      "['d', 'b', 'a', 'c']\n",
      "['a', 'b', 'c', 'd']\n",
      "================================================================================\n",
      "['홍길동', '임꺽정', '장길산', '일지매']\n",
      "['일지매', '임꺽정', '장길산', '홍길동']\n"
     ]
    }
   ],
   "source": [
    "# sort() 메소드로 리스트에 저장된 데이터를 별도의 설정이 없으면 오름차순(문자열은 가나다순)으로 정렬한다.\n",
    "a = [1, 5, 2, 3, 6, 4]\n",
    "print(a)\n",
    "a.sort()\n",
    "print(a)\n",
    "print('=' * 80)\n",
    "\n",
    "b = ['1', '010', '999', '50']\n",
    "print(b)\n",
    "b.sort()\n",
    "print(b)\n",
    "print('=' * 80)\n",
    "\n",
    "c = ['d', 'b', 'a', 'c']\n",
    "print(c)\n",
    "c.sort()\n",
    "print(c)\n",
    "print('=' * 80)\n",
    "\n",
    "d = ['홍길동', '임꺽정', '장길산', '일지매']\n",
    "print(d)\n",
    "d.sort()\n",
    "print(d)"
   ]
  },
  {
   "cell_type": "code",
   "execution_count": 21,
   "id": "88a81914",
   "metadata": {},
   "outputs": [
    {
     "name": "stdout",
     "output_type": "stream",
     "text": [
      "[1, 5, 2, 3, 6, 4]\n",
      "[6, 5, 4, 3, 2, 1]\n",
      "================================================================================\n"
     ]
    }
   ],
   "source": [
    "# sort() 메소드에 reverse=True 옵션을 지정하면 내림차순(문자는 다나가순)으로 정렬한다.\n",
    "a = [1, 5, 2, 3, 6, 4]\n",
    "print(a)\n",
    "a.sort(reverse=True)\n",
    "print(a)"
   ]
  },
  {
   "cell_type": "code",
   "execution_count": 23,
   "id": "1d7156d1",
   "metadata": {},
   "outputs": [
    {
     "name": "stdout",
     "output_type": "stream",
     "text": [
      "[1, 5, 2, 3, 6, 4]\n",
      "[1, 2, 3, 4, 5, 6]\n",
      "[6, 5, 4, 3, 2, 1]\n"
     ]
    }
   ],
   "source": [
    "# reverse=True 옵션이 기억나지 않는다면 오름차순으로 정렬하고 reverse() 메소드로 결과를 뒤집으면 된다.\n",
    "a = [1, 5, 2, 3, 6, 4]\n",
    "print(a)\n",
    "a.sort()\n",
    "print(a)\n",
    "a.reverse()\n",
    "print(a)"
   ]
  },
  {
   "cell_type": "code",
   "execution_count": 25,
   "id": "e698a8b7",
   "metadata": {},
   "outputs": [
    {
     "name": "stdout",
     "output_type": "stream",
     "text": [
      "[1, 5, 2, 3, 6, 4]\n",
      "[1, 2, 3, 4, 5, 6]\n",
      "[6, 5, 4, 3, 2, 1]\n"
     ]
    }
   ],
   "source": [
    "# reverse=True 옵션이 기억나지 않고 reverse() 메소드도 기억나지 않는다면 [::-1]로 슬라이싱 하면된다.\n",
    "a = [1, 5, 2, 3, 6, 4]\n",
    "print(a)\n",
    "a.sort()\n",
    "print(a)\n",
    "print(a[::-1])"
   ]
  },
  {
   "cell_type": "code",
   "execution_count": 26,
   "id": "caf8e61c",
   "metadata": {},
   "outputs": [
    {
     "ename": "TypeError",
     "evalue": "'<' not supported between instances of 'str' and 'int'",
     "output_type": "error",
     "traceback": [
      "\u001b[1;31m---------------------------------------------------------------------------\u001b[0m",
      "\u001b[1;31mTypeError\u001b[0m                                 Traceback (most recent call last)",
      "\u001b[1;32m<ipython-input-26-5c14b7031723>\u001b[0m in \u001b[0;36m<module>\u001b[1;34m\u001b[0m\n\u001b[0;32m      1\u001b[0m \u001b[0ma\u001b[0m \u001b[1;33m=\u001b[0m \u001b[1;33m[\u001b[0m\u001b[1;36m1\u001b[0m\u001b[1;33m,\u001b[0m \u001b[1;34m'a'\u001b[0m\u001b[1;33m,\u001b[0m \u001b[1;36m2\u001b[0m\u001b[1;33m,\u001b[0m \u001b[1;34m'b'\u001b[0m\u001b[1;33m]\u001b[0m\u001b[1;33m\u001b[0m\u001b[1;33m\u001b[0m\u001b[0m\n\u001b[1;32m----> 2\u001b[1;33m \u001b[0ma\u001b[0m\u001b[1;33m.\u001b[0m\u001b[0msort\u001b[0m\u001b[1;33m(\u001b[0m\u001b[1;33m)\u001b[0m\u001b[1;33m\u001b[0m\u001b[1;33m\u001b[0m\u001b[0m\n\u001b[0m",
      "\u001b[1;31mTypeError\u001b[0m: '<' not supported between instances of 'str' and 'int'"
     ]
    }
   ],
   "source": [
    "# 정렬할 데이터가 저장된 리스트에 2가지 이상의 데이터 타입이 존재하면 에러가 발생된다.\n",
    "a = [1, 'a', 2, 'b']\n",
    "a.sort()"
   ]
  },
  {
   "cell_type": "code",
   "execution_count": 28,
   "id": "8c116d29",
   "metadata": {},
   "outputs": [
    {
     "name": "stdout",
     "output_type": "stream",
     "text": [
      "4\n",
      "0\n"
     ]
    }
   ],
   "source": [
    "# count() 메소드로 리스트의 데이터 요소 중에서 특정 데이터의 출현 횟수(개수)를 얻어올 수 있다.\n",
    "a = [1, 2, 3, 1, 3, 1, 4, 1, 5]\n",
    "print(a.count(1))\n",
    "print(a.count(6))"
   ]
  },
  {
   "cell_type": "code",
   "execution_count": 31,
   "id": "b9651c4c",
   "metadata": {},
   "outputs": [
    {
     "name": "stdout",
     "output_type": "stream",
     "text": [
      "2\n"
     ]
    },
    {
     "ename": "AttributeError",
     "evalue": "'list' object has no attribute 'find'",
     "output_type": "error",
     "traceback": [
      "\u001b[1;31m---------------------------------------------------------------------------\u001b[0m",
      "\u001b[1;31mAttributeError\u001b[0m                            Traceback (most recent call last)",
      "\u001b[1;32m<ipython-input-31-916da3d7d3ac>\u001b[0m in \u001b[0;36m<module>\u001b[1;34m\u001b[0m\n\u001b[0;32m      3\u001b[0m \u001b[0mprint\u001b[0m\u001b[1;33m(\u001b[0m\u001b[0ma\u001b[0m\u001b[1;33m.\u001b[0m\u001b[0mindex\u001b[0m\u001b[1;33m(\u001b[0m\u001b[1;36m3\u001b[0m\u001b[1;33m)\u001b[0m\u001b[1;33m)\u001b[0m\u001b[1;33m\u001b[0m\u001b[1;33m\u001b[0m\u001b[0m\n\u001b[0;32m      4\u001b[0m \u001b[1;31m# 인수로 지정한 데이터가 리스트에 없으면 에러가 발생된다.\u001b[0m\u001b[1;33m\u001b[0m\u001b[1;33m\u001b[0m\u001b[1;33m\u001b[0m\u001b[0m\n\u001b[1;32m----> 5\u001b[1;33m \u001b[0mprint\u001b[0m\u001b[1;33m(\u001b[0m\u001b[0ma\u001b[0m\u001b[1;33m.\u001b[0m\u001b[0mfind\u001b[0m\u001b[1;33m(\u001b[0m\u001b[1;36m6\u001b[0m\u001b[1;33m)\u001b[0m\u001b[1;33m)\u001b[0m \u001b[1;31m# 에러\u001b[0m\u001b[1;33m\u001b[0m\u001b[1;33m\u001b[0m\u001b[0m\n\u001b[0m",
      "\u001b[1;31mAttributeError\u001b[0m: 'list' object has no attribute 'find'"
     ]
    }
   ],
   "source": [
    "# index() 메소드로 리스트의 데이터 요소 중에서 특정 데이터가 최초로 출현하는 인덱스 값을 얻어올 수 있다.\n",
    "a = [1, 2, 3, 1, 3, 1, 4, 1, 5]\n",
    "print(a.index(3))\n",
    "# 인수로 지정한 데이터가 리스트에 없으면 에러가 발생된다.\n",
    "print(a.index(6)) # 에러"
   ]
  },
  {
   "cell_type": "code",
   "execution_count": 36,
   "id": "e03de38a",
   "metadata": {},
   "outputs": [
    {
     "name": "stdout",
     "output_type": "stream",
     "text": [
      "[1, 2, 3, 4, 5, 3]\n",
      "[1, 2, 4, 5, 3]\n",
      "[1, 2, 4, 5]\n"
     ]
    },
    {
     "ename": "ValueError",
     "evalue": "list.remove(x): x not in list",
     "output_type": "error",
     "traceback": [
      "\u001b[1;31m---------------------------------------------------------------------------\u001b[0m",
      "\u001b[1;31mValueError\u001b[0m                                Traceback (most recent call last)",
      "\u001b[1;32m<ipython-input-36-4517193e7f0f>\u001b[0m in \u001b[0;36m<module>\u001b[1;34m\u001b[0m\n\u001b[0;32m      6\u001b[0m \u001b[0ma\u001b[0m\u001b[1;33m.\u001b[0m\u001b[0mremove\u001b[0m\u001b[1;33m(\u001b[0m\u001b[1;36m3\u001b[0m\u001b[1;33m)\u001b[0m \u001b[1;31m# 한 번 더 실행해야 나머지 3이 제거된다.\u001b[0m\u001b[1;33m\u001b[0m\u001b[1;33m\u001b[0m\u001b[0m\n\u001b[0;32m      7\u001b[0m \u001b[0mprint\u001b[0m\u001b[1;33m(\u001b[0m\u001b[0ma\u001b[0m\u001b[1;33m)\u001b[0m\u001b[1;33m\u001b[0m\u001b[1;33m\u001b[0m\u001b[0m\n\u001b[1;32m----> 8\u001b[1;33m \u001b[0ma\u001b[0m\u001b[1;33m.\u001b[0m\u001b[0mremove\u001b[0m\u001b[1;33m(\u001b[0m\u001b[1;36m3\u001b[0m\u001b[1;33m)\u001b[0m \u001b[1;31m# 에러, 존재하지 않는 데이터를 제거하려했으므로 에러가 발생된다.\u001b[0m\u001b[1;33m\u001b[0m\u001b[1;33m\u001b[0m\u001b[0m\n\u001b[0m\u001b[0;32m      9\u001b[0m \u001b[0mprint\u001b[0m\u001b[1;33m(\u001b[0m\u001b[0ma\u001b[0m\u001b[1;33m)\u001b[0m\u001b[1;33m\u001b[0m\u001b[1;33m\u001b[0m\u001b[0m\n",
      "\u001b[1;31mValueError\u001b[0m: list.remove(x): x not in list"
     ]
    }
   ],
   "source": [
    "# remove() 메소드로 인수로 지정한 첫 번째 데이터를 리스트에서 제거한다.\n",
    "a = [1, 2, 3, 4, 5, 3]\n",
    "print(a)\n",
    "a.remove(3) # 인수로 지정한 데이터가 리스트에 여러개 있으면 맨 처음 데이터가 제거된다.\n",
    "print(a)\n",
    "a.remove(3) # 한 번 더 실행해야 나머지 3이 제거된다.\n",
    "print(a)\n",
    "a.remove(3) # 에러, 존재하지 않는 데이터를 제거하려했으므로 에러가 발생된다.\n",
    "print(a)"
   ]
  },
  {
   "cell_type": "code",
   "execution_count": 41,
   "id": "a3d346c0",
   "metadata": {},
   "outputs": [
    {
     "name": "stdout",
     "output_type": "stream",
     "text": [
      "[1, 2, 3, 4, 5, 3]\n",
      "[1, 2, 3, 4, 5]\n",
      "[1, 2, 3, 4]\n",
      "[1, 3, 4]\n"
     ]
    },
    {
     "ename": "IndexError",
     "evalue": "pop index out of range",
     "output_type": "error",
     "traceback": [
      "\u001b[1;31m---------------------------------------------------------------------------\u001b[0m",
      "\u001b[1;31mIndexError\u001b[0m                                Traceback (most recent call last)",
      "\u001b[1;32m<ipython-input-41-589ba1b4ab78>\u001b[0m in \u001b[0;36m<module>\u001b[1;34m\u001b[0m\n\u001b[0;32m      9\u001b[0m \u001b[0ma\u001b[0m\u001b[1;33m.\u001b[0m\u001b[0mpop\u001b[0m\u001b[1;33m(\u001b[0m\u001b[1;36m1\u001b[0m\u001b[1;33m)\u001b[0m\u001b[1;33m\u001b[0m\u001b[1;33m\u001b[0m\u001b[0m\n\u001b[0;32m     10\u001b[0m \u001b[0mprint\u001b[0m\u001b[1;33m(\u001b[0m\u001b[0ma\u001b[0m\u001b[1;33m)\u001b[0m\u001b[1;33m\u001b[0m\u001b[1;33m\u001b[0m\u001b[0m\n\u001b[1;32m---> 11\u001b[1;33m \u001b[0ma\u001b[0m\u001b[1;33m.\u001b[0m\u001b[0mpop\u001b[0m\u001b[1;33m(\u001b[0m\u001b[1;36m3\u001b[0m\u001b[1;33m)\u001b[0m\u001b[1;33m\u001b[0m\u001b[1;33m\u001b[0m\u001b[0m\n\u001b[0m\u001b[0;32m     12\u001b[0m \u001b[0mprint\u001b[0m\u001b[1;33m(\u001b[0m\u001b[0ma\u001b[0m\u001b[1;33m)\u001b[0m\u001b[1;33m\u001b[0m\u001b[1;33m\u001b[0m\u001b[0m\n",
      "\u001b[1;31mIndexError\u001b[0m: pop index out of range"
     ]
    }
   ],
   "source": [
    "# pop() 메소드는 별도의 설정이 없으면 리스트의 맨 마지막 데이터를 제거한다.\n",
    "a = [1, 2, 3, 4, 5, 3]\n",
    "print(a)\n",
    "a.pop()\n",
    "print(a)\n",
    "a.pop()\n",
    "print(a)\n",
    "# pop() 메소드에 삭제할 인덱스를 인수로 지정하면 지정한 인덱스 위치의 데이터가 제거된다.\n",
    "a.pop(1)\n",
    "print(a)\n",
    "a.pop(3) # 에러, 삭제하려고 지정한 인덱스가 리스트의 범위를 벗어나서 에러가 발생된다.\n",
    "print(a)"
   ]
  },
  {
   "cell_type": "code",
   "execution_count": 47,
   "id": "0f30c4d4",
   "metadata": {},
   "outputs": [
    {
     "name": "stdout",
     "output_type": "stream",
     "text": [
      "[1, 2, 3, 4, 5, 3]\n",
      "None\n",
      "[1, 2, 4, 5, 3]\n",
      "3\n",
      "[1, 2, 4, 5]\n"
     ]
    }
   ],
   "source": [
    "# remove() 메소드는 리스트의 데이터를 제거만하지만 pop() 메소드는 데이터를 제거하기 전에 제거할 데이터를\n",
    "# 얻어온 후 제거한다.\n",
    "a = [1, 2, 3, 4, 5, 3]\n",
    "print(a)\n",
    "print(a.remove(3))\n",
    "print(a)\n",
    "print(a.pop())\n",
    "print(a)"
   ]
  },
  {
   "cell_type": "code",
   "execution_count": 54,
   "id": "a4bb94f9",
   "metadata": {},
   "outputs": [
    {
     "name": "stdout",
     "output_type": "stream",
     "text": [
      "a = 3, b = 4\n",
      "a = 4, b = 3\n",
      "a = 3, b = 4\n",
      "a = 4, b = 3\n",
      "a = 3, b = 4\n"
     ]
    }
   ],
   "source": [
    "# 두 기억장소에 저장된 데이터를 교환한다.\n",
    "a = 3\n",
    "b = 4\n",
    "print('a = {}, b = {}'.format(a, b)) # a = 3, b = 4\n",
    "\n",
    "# 모든 언어에서 공통적으로 사용할 수 있는 방법\n",
    "temp = a\n",
    "a = b\n",
    "b = temp\n",
    "print('a = {}, b = {}'.format(a, b)) # a = 4, b = 3\n",
    "\n",
    "# 파이썬에서만 사용할 수 있는 방법 - 리스트 사용\n",
    "[a, b] = [b, a]\n",
    "print('a = {}, b = {}'.format(a, b)) # a = 3, b = 4\n",
    "\n",
    "# 파이썬에서만 사용할 수 있는 방법 - 튜플 사용\n",
    "(a, b) = (b, a)\n",
    "print('a = {}, b = {}'.format(a, b)) # a = 4, b = 3\n",
    "a, b = b, a\n",
    "print('a = {}, b = {}'.format(a, b)) # a = 3, b = 4"
   ]
  },
  {
   "cell_type": "code",
   "execution_count": null,
   "id": "d8c55a48",
   "metadata": {},
   "outputs": [],
   "source": []
  },
  {
   "cell_type": "code",
   "execution_count": null,
   "id": "8a8ebd7b",
   "metadata": {},
   "outputs": [],
   "source": []
  },
  {
   "cell_type": "code",
   "execution_count": null,
   "id": "e5374285",
   "metadata": {},
   "outputs": [],
   "source": []
  },
  {
   "cell_type": "code",
   "execution_count": null,
   "id": "5cc4d8a3",
   "metadata": {},
   "outputs": [],
   "source": []
  }
 ],
 "metadata": {
  "kernelspec": {
   "display_name": "Python 3",
   "language": "python",
   "name": "python3"
  },
  "language_info": {
   "codemirror_mode": {
    "name": "ipython",
    "version": 3
   },
   "file_extension": ".py",
   "mimetype": "text/x-python",
   "name": "python",
   "nbconvert_exporter": "python",
   "pygments_lexer": "ipython3",
   "version": "3.6.8"
  }
 },
 "nbformat": 4,
 "nbformat_minor": 5
}
