{
 "cells": [
  {
   "cell_type": "code",
   "execution_count": 1,
   "id": "e2c6bbac",
   "metadata": {},
   "outputs": [],
   "source": [
    "import warnings\n",
    "warnings.filterwarnings('ignore')\n",
    "import numpy as np\n",
    "import pandas as pd\n",
    "import seaborn as sns"
   ]
  },
  {
   "cell_type": "code",
   "execution_count": 2,
   "id": "ade7030c",
   "metadata": {},
   "outputs": [],
   "source": [
    "import matplotlib.pyplot as plt\n",
    "import matplotlib as mpl\n",
    "import matplotlib.font_manager as fm\n",
    "# 한글 폰트를 사용할 때 마이너스 부호가 깨져 보이는 문제에 대처한다.\n",
    "mpl.rcParams['axes.unicode_minus'] = False\n",
    "%matplotlib inline"
   ]
  },
  {
   "cell_type": "code",
   "execution_count": 3,
   "id": "cbad3f63",
   "metadata": {},
   "outputs": [
    {
     "data": {
      "text/plain": [
       "array([ -20,   52,   32,  -38,  -60, -117, -153, -194, -196, -255, -167,\n",
       "        -82,  -90, -152, -141,  -78, -168, -230, -247, -309, -354, -266,\n",
       "       -295, -250, -336, -424, -473, -376, -342, -249, -234, -281, -246,\n",
       "       -265, -226, -166, -251, -211, -248, -251, -288, -376, -431, -527,\n",
       "       -598, -669, -624, -628, -603, -573], dtype=int32)"
      ]
     },
     "execution_count": 3,
     "metadata": {},
     "output_type": "execute_result"
    }
   ],
   "source": [
    "data = np.random.randint(-100, 100, 50).cumsum()\n",
    "data"
   ]
  },
  {
   "cell_type": "code",
   "execution_count": null,
   "id": "f4453449",
   "metadata": {},
   "outputs": [],
   "source": [
    "plt.figure(figsize=(8, 6)) # 차트 크기 설정\n",
    "# plt.rcParams['figure.figsize'] = (8, 6) # 차트 크기 설정\n",
    "plt.plot(range(50), data, 'r')\n",
    "plt.title('시간별 가격 추이') # 차트 제목\n",
    "plt.xlabel('시간(분)') # x축 제목\n",
    "plt.ylabel('주식 가격') # y축 제목\n",
    "plt.show()"
   ]
  },
  {
   "cell_type": "markdown",
   "id": "d6c4a2bb",
   "metadata": {},
   "source": [
    "폰트를 설정해 주기에 앞서 설치된 matplotlib의 버전과 설치된 위치 정보를 확인한다."
   ]
  },
  {
   "cell_type": "code",
   "execution_count": null,
   "id": "7ce0fc7a",
   "metadata": {},
   "outputs": [],
   "source": [
    "print('버전:', mpl.__version__)\n",
    "print('설치 위치:', mpl.__file__)\n",
    "print('설정 정보 위치:', mpl.get_configdir())\n",
    "print('캐시 위치:', mpl.get_cachedir())"
   ]
  },
  {
   "cell_type": "markdown",
   "id": "c51ea359",
   "metadata": {},
   "source": [
    "matplotlib의 설정 위치 정보를 알았으니 설정 파일의 위치를 확인한다."
   ]
  },
  {
   "cell_type": "code",
   "execution_count": null,
   "id": "aaf2286e",
   "metadata": {},
   "outputs": [],
   "source": [
    "print('설정 파일 위치:', mpl.matplotlib_fname())"
   ]
  },
  {
   "cell_type": "markdown",
   "id": "dc5379cf",
   "metadata": {},
   "source": [
    "컴퓨터에 설치된 폰트 목록을 얻어온다."
   ]
  },
  {
   "cell_type": "code",
   "execution_count": null,
   "id": "84d59bd4",
   "metadata": {},
   "outputs": [],
   "source": [
    "font_list = fm.findSystemFonts(fontpaths=None, fontext='ttf')\n",
    "print(len(font_list))\n",
    "print(font_list[:10])"
   ]
  },
  {
   "cell_type": "code",
   "execution_count": null,
   "id": "eeb2e45d",
   "metadata": {},
   "outputs": [],
   "source": [
    "f = [f.name for f in fm.fontManager.ttflist]\n",
    "print(len(f))\n",
    "print(f[:10])"
   ]
  },
  {
   "cell_type": "markdown",
   "id": "98481bb2",
   "metadata": {},
   "source": [
    "나눔 글꼴을 사용할 것이므로 폰트 이름에 'Nanum'이 포함된 폰트만 가져온다."
   ]
  },
  {
   "cell_type": "code",
   "execution_count": null,
   "id": "d6a5c100",
   "metadata": {},
   "outputs": [],
   "source": [
    "font_list = [(f.name, f.fname) for f in fm.fontManager.ttflist if 'Nanum' in f.name]\n",
    "font_list[:10]"
   ]
  },
  {
   "cell_type": "markdown",
   "id": "15d9d76e",
   "metadata": {},
   "source": [
    "위의 코드를 실행한 결과가 []만 나오거나 설치한 폰트가 보이지 않는다면 캐시 폴더로 이동해 폴더의 모든 내용을 삭제한 후 다시 실행하면 설치된 폰트 목록이 정상적으로 보인다."
   ]
  },
  {
   "cell_type": "code",
   "execution_count": null,
   "id": "847fc213",
   "metadata": {},
   "outputs": [],
   "source": [
    "mpl.font_manager._rebuild()"
   ]
  },
  {
   "cell_type": "markdown",
   "id": "691240f3",
   "metadata": {},
   "source": [
    "한글 폰트를 사용하도록 설정하는 방법은 3가지가 있다.\n",
    "\n",
    "<1> FontProperties를 사용하는 방법 => 그래프의 폰트가 필요한 항목마다 지정해줘야 한다."
   ]
  },
  {
   "cell_type": "code",
   "execution_count": null,
   "id": "74cde46d",
   "metadata": {},
   "outputs": [],
   "source": [
    "# 텍스트를 지정하는 항목에 지정해서 사용할 수 있고 지정해준 항목에만 해당 폰트가 적용된다.\n",
    "# matplotlib.pyplot => title(), xlabel(), ylabel(), legend(), text()\n",
    "# matplotlib.axes => set_title()\n",
    "\n",
    "font = 'C:\\\\WINDOWS\\\\Fonts\\\\NanumGothicCoding.ttf'\n",
    "fontprop = fm.FontProperties(fname=font, size=15)"
   ]
  },
  {
   "cell_type": "code",
   "execution_count": null,
   "id": "b4ec9e39",
   "metadata": {},
   "outputs": [],
   "source": [
    "plt.figure(figsize=(8, 6))\n",
    "plt.plot(range(50), data, 'r')\n",
    "plt.title('시간별 가격 추이', fontproperties=fontprop)\n",
    "plt.xlabel('시간(분)', fontproperties=fontprop)\n",
    "plt.ylabel('주식 가격', fontproperties=fontprop)\n",
    "plt.show()"
   ]
  },
  {
   "cell_type": "markdown",
   "id": "268a5eb4",
   "metadata": {},
   "source": [
    "<2> matplotlib 라이브러리의 rcParams[]로 전역 글꼴 설정 => 그래프의 폰트가 필요한 파일마다 지정해줘야 한다."
   ]
  },
  {
   "cell_type": "code",
   "execution_count": null,
   "id": "bbca9d9e",
   "metadata": {},
   "outputs": [],
   "source": [
    "# 기본 설정 읽기\n",
    "print('기본으로 설정된 폰트 이름:', plt.rcParams['font.family'])\n",
    "print('기본으로 설정된 폰트 크기:', plt.rcParams['font.size'])"
   ]
  },
  {
   "cell_type": "code",
   "execution_count": null,
   "id": "edbd9a6d",
   "metadata": {},
   "outputs": [],
   "source": [
    "# 2-1\n",
    "plt.rcParams['font.family'] = 'NanumGothicCoding'\n",
    "plt.rcParams['font.size'] = 15"
   ]
  },
  {
   "cell_type": "code",
   "execution_count": null,
   "id": "f3e33333",
   "metadata": {},
   "outputs": [],
   "source": [
    "plt.figure(figsize=(8, 6))\n",
    "plt.plot(range(50), data, 'r')\n",
    "plt.title('시간별 가격 추이')\n",
    "plt.xlabel('시간(분)')\n",
    "plt.ylabel('주식 가격')\n",
    "plt.show()"
   ]
  },
  {
   "cell_type": "code",
   "execution_count": null,
   "id": "ea7d2c26",
   "metadata": {},
   "outputs": [],
   "source": [
    "# 2-2\n",
    "# rcParams 대신 FontProperties의 plt.rc를 사용하는 방법이 있다.\n",
    "font = 'C:\\\\WINDOWS\\\\Fonts\\\\NanumGothicCoding.ttf'\n",
    "font_name = fm.FontProperties(fname=font, size=15).get_name()\n",
    "print(font_name)\n",
    "plt.rc('font', family=font_name)"
   ]
  },
  {
   "cell_type": "code",
   "execution_count": null,
   "id": "120b8731",
   "metadata": {},
   "outputs": [],
   "source": [
    "plt.figure(figsize=(8, 6))\n",
    "plt.plot(range(50), data, 'r')\n",
    "plt.title('시간별 가격 추이')\n",
    "plt.xlabel('시간(분)')\n",
    "plt.ylabel('주식 가격')\n",
    "plt.show()"
   ]
  },
  {
   "cell_type": "markdown",
   "id": "ea85cebb",
   "metadata": {},
   "source": [
    "<3> 폰트 설정 정보를 matplotlib 설정 파일에 직접 넣어준다. => 그래프의 폰트가 필요한 컴퓨터마다 지정해줘야 한다."
   ]
  },
  {
   "cell_type": "code",
   "execution_count": 4,
   "id": "5f85bfe9",
   "metadata": {},
   "outputs": [
    {
     "name": "stdout",
     "output_type": "stream",
     "text": [
      "d:\\python36\\lib\\site-packages\\matplotlib\\mpl-data\\matplotlibrc\n"
     ]
    }
   ],
   "source": [
    "# mpl.matplotlib_fname()를 실행하면 출력되는 경로의 파일을 수정한다.\n",
    "# 이곳에 폰트를 지정하면 쥬피터 노트북을 실행할 때 마다 바로 글꼴이 로드되도록 설정할 수 있다.\n",
    "print(mpl.matplotlib_fname())\n",
    "# font.family: sans-serif => NanumGothicCoding\n",
    "# font.size: 10.0 => 15.0"
   ]
  },
  {
   "cell_type": "code",
   "execution_count": 5,
   "id": "7aac2ee7",
   "metadata": {},
   "outputs": [
    {
     "data": {
      "image/png": "[encoded data removed]",
      "text/plain": [
       "<Figure size 576x432 with 1 Axes>"
      ]
     },
     "metadata": {
      "needs_background": "light"
     },
     "output_type": "display_data"
    }
   ],
   "source": [
    "plt.figure(figsize=(8, 6))\n",
    "plt.plot(range(50), data, 'r')\n",
    "plt.title('시간별 가격 추이')\n",
    "plt.xlabel('시간(분)')\n",
    "plt.ylabel('주식 가격')\n",
    "plt.show()"
   ]
  },
  {
   "cell_type": "code",
   "execution_count": null,
   "id": "1c388f0f",
   "metadata": {},
   "outputs": [],
   "source": []
  },
  {
   "cell_type": "code",
   "execution_count": null,
   "id": "e49f54a7",
   "metadata": {},
   "outputs": [],
   "source": []
  },
  {
   "cell_type": "code",
   "execution_count": null,
   "id": "58591912",
   "metadata": {},
   "outputs": [],
   "source": []
  },
  {
   "cell_type": "code",
   "execution_count": null,
   "id": "5dd42364",
   "metadata": {},
   "outputs": [],
   "source": []
  },
  {
   "cell_type": "code",
   "execution_count": null,
   "id": "b14cffeb",
   "metadata": {},
   "outputs": [],
   "source": []
  }
 ],
 "metadata": {
  "kernelspec": {
   "display_name": "Python 3",
   "language": "python",
   "name": "python3"
  },
  "language_info": {
   "codemirror_mode": {
    "name": "ipython",
    "version": 3
   },
   "file_extension": ".py",
   "mimetype": "text/x-python",
   "name": "python",
   "nbconvert_exporter": "python",
   "pygments_lexer": "ipython3",
   "version": "3.6.8"
  }
 },
 "nbformat": 4,
 "nbformat_minor": 5
}
