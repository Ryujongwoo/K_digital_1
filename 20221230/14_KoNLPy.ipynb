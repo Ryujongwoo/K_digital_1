{
 "cells": [
  {
   "cell_type": "markdown",
   "id": "bafef5ed",
   "metadata": {},
   "source": [
    "형태소 분석(morphological Analysis)은 자연 언어의 문장을 형태소라는 최소 단위로 분할하고 품사를 판별하는 작업이다.  \n",
    "영어 형태소 분석은 형태소마다 띄어쓰기를 해서 문장을 구성하는 것이 기본이기 때문에 크게 어렵지 않으나 아시아 계열의 언어 분석에는 나름 노력이 필요하다.  \n",
    "대표적으로 문법 규칙에 의한 방법과 확률적 언어 모델을 사용하는 방법이 있는데 최근에는 확률적 언어 모델을 사용한 형태소 분석이 만하서 정밀도가 높아졌다.  \n",
    "어쨌거나 두 가지 품사 사전과 문법 사전을 기반을 대조하면서 형태소를 분석한다."
   ]
  },
  {
   "cell_type": "markdown",
   "id": "0bf01947",
   "metadata": {},
   "source": [
    "한국어 형태소 분석 라이브러리 => KoNLPy => pip install kolipy => java 1.7이상의 버전이 미리 설치되어 있어야 한다.  \n",
    "KoNLPy에서는 대한민국 헌법 말뭉치 kolaw와 국회 법안 말뭉치인 kobill을 제공한다."
   ]
  },
  {
   "cell_type": "code",
   "execution_count": 5,
   "id": "6400306f",
   "metadata": {},
   "outputs": [
    {
     "name": "stdout",
     "output_type": "stream",
     "text": [
      "['constitution.txt']\n",
      "['1809890.txt', '1809891.txt', '1809892.txt', '1809893.txt', '1809894.txt', '1809895.txt', '1809896.txt', '1809897.txt', '1809898.txt', '1809899.txt']\n"
     ]
    }
   ],
   "source": [
    "from konlpy.corpus import kolaw, kobill\n",
    "# 각 말뭉치가 포함하고있는 파일 이름은 fileids() 함수로 확인할 수 있다.\n",
    "print(kolaw.fileids())\n",
    "print(kobill.fileids())"
   ]
  },
  {
   "cell_type": "code",
   "execution_count": 7,
   "id": "9fa7fa06",
   "metadata": {},
   "outputs": [
    {
     "name": "stdout",
     "output_type": "stream",
     "text": [
      "대한민국헌법\n",
      "\n",
      "유구한 역사와 전통에 빛나는 우리 대한국민은 3·1운동으로\n"
     ]
    }
   ],
   "source": [
    "# 말뭉치 파일을 읽어들이려면 말뭉치에 포함된 텍스트 파일을 open() 함수로 열고 read() 함수로 읽는다.\n",
    "c = kolaw.open('constitution.txt').read()\n",
    "print(c[:40])"
   ]
  },
  {
   "cell_type": "code",
   "execution_count": 8,
   "id": "fc38b173",
   "metadata": {},
   "outputs": [
    {
     "name": "stdout",
     "output_type": "stream",
     "text": [
      "지방공무원법 일부개정법률안\n",
      "\n",
      "(정의화의원 대표발의 )\n",
      "\n",
      " 의 안\n",
      " 번 호\n"
     ]
    }
   ],
   "source": [
    "d = kobill.open('1809890.txt').read()\n",
    "print(d[:40])"
   ]
  },
  {
   "cell_type": "markdown",
   "id": "e32f4efc",
   "metadata": {},
   "source": [
    "형태소 분석  \n",
    "KoNLPy는 다음과 같은 다양한 형태소 분석, 태깅 라이브러리를 파이썬에서 쉽게 사용할 수 있도록 모아놓았다.  \n",
    "Hannanum: 한나눔. KAIST Semantic Web Research Center 개발.  \n",
    "http://semanticweb.kaist.ac.kr/hannanum/  \n",
    "Kkma: 꼬꼬마. 서울대학교 IDS(Intelligent Data Systems) 연구실 개발.  \n",
    "http://kkma.snu.ac.kr/  \n",
    "Komoran: 코모란. Shineware에서 개발.  \n",
    "https://github.com/shin285/KOMORAN  \n",
    "Mecab: 메카브. 일본어용 형태소 분석기를 한국어를 사용할 수 있도록 수정.  \n",
    "https://bitbucket.org/eunjeon/mecab-ko  \n",
    "Open Korean Text: 오픈 소스 한국어 분석기. 과거 트위터 형태소 분석기.  \n",
    "https://github.com/open-korean-text/open-korean-text"
   ]
  },
  {
   "cell_type": "markdown",
   "id": "b0a6b3f1",
   "metadata": {},
   "source": [
    "다운그레이드: pip install \"jpype1<1\"  \n",
    "윈도우에서 하는 경우 pip install konlpy 바로하지 마시고  \n",
    "&nbsp;&nbsp;1. java_home 환경변수 설정하고  \n",
    "&nbsp;&nbsp;2. JPype 검색해서 파이썬버전과 윈도우 32/64bit 에 맞는 버전 설치  \n",
    "&nbsp;&nbsp;3. pip install konlpy  \n",
    "\n",
    "https://www.lfd.uci.edu/~gohlke/pythonlibs/#jpype 접속 버전에 맞는 JPype 다운로드  \n",
    "JPype1-1.2.0-cp36-cp36m-win_amd64.whl 파일이 위치한 폴더에서 cmd 창을 띄우고 아래의 문장을 실행한다.  \n",
    "python -m pip install --user JPype1-1.2.0-cp36-cp36m-win_amd64.whl  "
   ]
  },
  {
   "cell_type": "code",
   "execution_count": 16,
   "id": "5f9146b8",
   "metadata": {},
   "outputs": [],
   "source": [
    "from konlpy.tag import *"
   ]
  },
  {
   "cell_type": "code",
   "execution_count": 18,
   "id": "14815d73",
   "metadata": {},
   "outputs": [],
   "source": [
    "hannanum = Hannanum()\n",
    "kkma = Kkma()\n",
    "komoran = Komoran()\n",
    "okt = Okt()\n",
    "# mecab = Mecab() # 윈도우에서 지원하지 않는다.\n",
    "\n",
    "# 이 클래스들은 다음과 같은 함수를 공통적으로 제공한다.\n",
    "# nouns: 명사 추출\n",
    "# morphs: 형태소 추출\n",
    "# pos: 품사 부착"
   ]
  },
  {
   "cell_type": "markdown",
   "id": "e543aca2",
   "metadata": {},
   "source": [
    "명사 추출"
   ]
  },
  {
   "cell_type": "code",
   "execution_count": 24,
   "id": "b3dd4d5c",
   "metadata": {},
   "outputs": [
    {
     "data": {
      "text/plain": [
       "['대한민국헌법', '유구', '역사', '전통', '빛', '우리', '대한국민', '3·1운동']"
      ]
     },
     "execution_count": 24,
     "metadata": {},
     "output_type": "execute_result"
    }
   ],
   "source": [
    "hannanum.nouns(c[:40])"
   ]
  },
  {
   "cell_type": "code",
   "execution_count": 20,
   "id": "65061418",
   "metadata": {},
   "outputs": [
    {
     "data": {
      "text/plain": [
       "['대한',\n",
       " '대한민국',\n",
       " '대한민국헌법',\n",
       " '민국',\n",
       " '헌법',\n",
       " '유구',\n",
       " '역사',\n",
       " '전통',\n",
       " '우리',\n",
       " '국민',\n",
       " '3',\n",
       " '1',\n",
       " '1운동',\n",
       " '운동']"
      ]
     },
     "execution_count": 20,
     "metadata": {},
     "output_type": "execute_result"
    }
   ],
   "source": [
    "kkma.nouns(c[:40])"
   ]
  },
  {
   "cell_type": "code",
   "execution_count": 21,
   "id": "f5544034",
   "metadata": {},
   "outputs": [
    {
     "data": {
      "text/plain": [
       "['대한민국', '헌법', '역사', '전통', '국민', '운동']"
      ]
     },
     "execution_count": 21,
     "metadata": {},
     "output_type": "execute_result"
    }
   ],
   "source": [
    "komoran.nouns(c[:40])\n",
    "# komoran에서 빈 줄 때문에 에러가 발생되면 아래의 식으로 실행한다.\n",
    "# komoran.nouns('\\n'.join([s for s in c[:40].split('\\n') if s]))"
   ]
  },
  {
   "cell_type": "code",
   "execution_count": 23,
   "id": "a1c54299",
   "metadata": {},
   "outputs": [
    {
     "data": {
      "text/plain": [
       "['대한민국', '헌법', '유구', '역사', '전통', '우리', '국민', '운동']"
      ]
     },
     "execution_count": 23,
     "metadata": {},
     "output_type": "execute_result"
    }
   ],
   "source": [
    "okt.nouns(c[:40])"
   ]
  },
  {
   "cell_type": "markdown",
   "id": "3dd3d845",
   "metadata": {},
   "source": [
    "형태소 추출"
   ]
  },
  {
   "cell_type": "code",
   "execution_count": 25,
   "id": "48eb4792",
   "metadata": {
    "scrolled": true
   },
   "outputs": [
    {
     "data": {
      "text/plain": [
       "['대한민국헌법',\n",
       " '유구',\n",
       " '하',\n",
       " 'ㄴ',\n",
       " '역사',\n",
       " '와',\n",
       " '전통',\n",
       " '에',\n",
       " '빛',\n",
       " '나는',\n",
       " '우리',\n",
       " '대한국민',\n",
       " '은',\n",
       " '3·1운동',\n",
       " '으로']"
      ]
     },
     "execution_count": 25,
     "metadata": {},
     "output_type": "execute_result"
    }
   ],
   "source": [
    "hannanum.morphs(c[:40])"
   ]
  },
  {
   "cell_type": "code",
   "execution_count": 26,
   "id": "d807c4f0",
   "metadata": {
    "scrolled": true
   },
   "outputs": [
    {
     "data": {
      "text/plain": [
       "['대한민국',\n",
       " '헌법',\n",
       " '유구',\n",
       " '하',\n",
       " 'ㄴ',\n",
       " '역사',\n",
       " '와',\n",
       " '전통',\n",
       " '에',\n",
       " '빛나',\n",
       " '는',\n",
       " '우리',\n",
       " '대하',\n",
       " 'ㄴ',\n",
       " '국민',\n",
       " '은',\n",
       " '3',\n",
       " '·',\n",
       " '1',\n",
       " '운동',\n",
       " '으로']"
      ]
     },
     "execution_count": 26,
     "metadata": {},
     "output_type": "execute_result"
    }
   ],
   "source": [
    "kkma.morphs(c[:40])"
   ]
  },
  {
   "cell_type": "code",
   "execution_count": 28,
   "id": "bf7bbf5a",
   "metadata": {
    "scrolled": true
   },
   "outputs": [
    {
     "data": {
      "text/plain": [
       "['대한민국',\n",
       " '헌법',\n",
       " '유구',\n",
       " '하',\n",
       " 'ㄴ',\n",
       " '역사',\n",
       " '와',\n",
       " '전통',\n",
       " '에',\n",
       " '빛나',\n",
       " '는',\n",
       " '우리',\n",
       " '대하',\n",
       " 'ㄴ',\n",
       " '국민',\n",
       " '은',\n",
       " '3',\n",
       " '·',\n",
       " '1',\n",
       " '운동',\n",
       " '으로']"
      ]
     },
     "execution_count": 28,
     "metadata": {},
     "output_type": "execute_result"
    }
   ],
   "source": [
    "komoran.morphs(c[:40])"
   ]
  },
  {
   "cell_type": "code",
   "execution_count": 29,
   "id": "2abc262c",
   "metadata": {
    "scrolled": true
   },
   "outputs": [
    {
     "data": {
      "text/plain": [
       "['대한민국',\n",
       " '헌법',\n",
       " '\\n\\n',\n",
       " '유구',\n",
       " '한',\n",
       " '역사',\n",
       " '와',\n",
       " '전통',\n",
       " '에',\n",
       " '빛나는',\n",
       " '우리',\n",
       " '대',\n",
       " '한',\n",
       " '국민',\n",
       " '은',\n",
       " '3',\n",
       " '·',\n",
       " '1',\n",
       " '운동',\n",
       " '으로']"
      ]
     },
     "execution_count": 29,
     "metadata": {},
     "output_type": "execute_result"
    }
   ],
   "source": [
    "okt.morphs(c[:40])"
   ]
  },
  {
   "cell_type": "markdown",
   "id": "776919fc",
   "metadata": {},
   "source": [
    "품사 부착  \n",
    "형태소 분석기마다 사용하는 품사 태그가 다르므로 각 형태소 분석기에 대한 문서를 참조한다."
   ]
  },
  {
   "cell_type": "code",
   "execution_count": 31,
   "id": "1d821bc0",
   "metadata": {
    "scrolled": true
   },
   "outputs": [
    {
     "data": {
      "text/plain": [
       "[('대한민국헌법', 'N'),\n",
       " ('유구', 'N'),\n",
       " ('하', 'X'),\n",
       " ('ㄴ', 'E'),\n",
       " ('역사', 'N'),\n",
       " ('와', 'J'),\n",
       " ('전통', 'N'),\n",
       " ('에', 'J'),\n",
       " ('빛', 'N'),\n",
       " ('나는', 'J'),\n",
       " ('우리', 'N'),\n",
       " ('대한국민', 'N'),\n",
       " ('은', 'J'),\n",
       " ('3·1운동', 'N'),\n",
       " ('으로', 'J')]"
      ]
     },
     "execution_count": 31,
     "metadata": {},
     "output_type": "execute_result"
    }
   ],
   "source": [
    "hannanum.pos(c[:40])"
   ]
  },
  {
   "cell_type": "code",
   "execution_count": 32,
   "id": "f01856b6",
   "metadata": {
    "scrolled": true
   },
   "outputs": [
    {
     "data": {
      "text/plain": [
       "[('대한민국', 'NNG'),\n",
       " ('헌법', 'NNG'),\n",
       " ('유구', 'NNG'),\n",
       " ('하', 'XSV'),\n",
       " ('ㄴ', 'ETD'),\n",
       " ('역사', 'NNG'),\n",
       " ('와', 'JC'),\n",
       " ('전통', 'NNG'),\n",
       " ('에', 'JKM'),\n",
       " ('빛나', 'VV'),\n",
       " ('는', 'ETD'),\n",
       " ('우리', 'NNM'),\n",
       " ('대하', 'VV'),\n",
       " ('ㄴ', 'ETD'),\n",
       " ('국민', 'NNG'),\n",
       " ('은', 'JX'),\n",
       " ('3', 'NR'),\n",
       " ('·', 'SP'),\n",
       " ('1', 'NR'),\n",
       " ('운동', 'NNG'),\n",
       " ('으로', 'JKM')]"
      ]
     },
     "execution_count": 32,
     "metadata": {},
     "output_type": "execute_result"
    }
   ],
   "source": [
    "kkma.pos(c[:40])"
   ]
  },
  {
   "cell_type": "code",
   "execution_count": 33,
   "id": "7a88ef63",
   "metadata": {
    "scrolled": true
   },
   "outputs": [
    {
     "data": {
      "text/plain": [
       "[('대한민국', 'NNP'),\n",
       " ('헌법', 'NNP'),\n",
       " ('유구', 'XR'),\n",
       " ('하', 'XSA'),\n",
       " ('ㄴ', 'ETM'),\n",
       " ('역사', 'NNG'),\n",
       " ('와', 'JC'),\n",
       " ('전통', 'NNG'),\n",
       " ('에', 'JKB'),\n",
       " ('빛나', 'VV'),\n",
       " ('는', 'ETM'),\n",
       " ('우리', 'NP'),\n",
       " ('대하', 'VV'),\n",
       " ('ㄴ', 'ETM'),\n",
       " ('국민', 'NNP'),\n",
       " ('은', 'JX'),\n",
       " ('3', 'SN'),\n",
       " ('·', 'SP'),\n",
       " ('1', 'SN'),\n",
       " ('운동', 'NNP'),\n",
       " ('으로', 'JKB')]"
      ]
     },
     "execution_count": 33,
     "metadata": {},
     "output_type": "execute_result"
    }
   ],
   "source": [
    "komoran.pos(c[:40])"
   ]
  },
  {
   "cell_type": "code",
   "execution_count": 34,
   "id": "fa91b6d0",
   "metadata": {
    "scrolled": true
   },
   "outputs": [
    {
     "data": {
      "text/plain": [
       "[('대한민국', 'Noun'),\n",
       " ('헌법', 'Noun'),\n",
       " ('\\n\\n', 'Foreign'),\n",
       " ('유구', 'Noun'),\n",
       " ('한', 'Josa'),\n",
       " ('역사', 'Noun'),\n",
       " ('와', 'Josa'),\n",
       " ('전통', 'Noun'),\n",
       " ('에', 'Josa'),\n",
       " ('빛나는', 'Verb'),\n",
       " ('우리', 'Noun'),\n",
       " ('대', 'Modifier'),\n",
       " ('한', 'Modifier'),\n",
       " ('국민', 'Noun'),\n",
       " ('은', 'Josa'),\n",
       " ('3', 'Number'),\n",
       " ('·', 'Punctuation'),\n",
       " ('1', 'Number'),\n",
       " ('운동', 'Noun'),\n",
       " ('으로', 'Josa')]"
      ]
     },
     "execution_count": 34,
     "metadata": {},
     "output_type": "execute_result"
    }
   ],
   "source": [
    "okt.pos(c[:40])"
   ]
  },
  {
   "cell_type": "markdown",
   "id": "8ad0e116",
   "metadata": {},
   "source": [
    "부착되는 품사 태그의 기호와 의미는 tagset 속성으로 확인할 수 있다."
   ]
  },
  {
   "cell_type": "code",
   "execution_count": 35,
   "id": "8f2349cb",
   "metadata": {
    "scrolled": true
   },
   "outputs": [
    {
     "data": {
      "text/plain": [
       "{'E': '어미',\n",
       " 'EC': '연결 어미',\n",
       " 'EF': '종결 어미',\n",
       " 'EP': '선어말어미',\n",
       " 'ET': '전성 어미',\n",
       " 'F': '외국어',\n",
       " 'I': '독립언',\n",
       " 'II': '감탄사',\n",
       " 'J': '관계언',\n",
       " 'JC': '격조사',\n",
       " 'JP': '서술격 조사',\n",
       " 'JX': '보조사',\n",
       " 'M': '수식언',\n",
       " 'MA': '부사',\n",
       " 'MM': '관형사',\n",
       " 'N': '체언',\n",
       " 'NB': '의존명사',\n",
       " 'NC': '보통명사',\n",
       " 'NN': '수사',\n",
       " 'NP': '대명사',\n",
       " 'NQ': '고유명사',\n",
       " 'P': '용언',\n",
       " 'PA': '형용사',\n",
       " 'PV': '동사',\n",
       " 'PX': '보조 용언',\n",
       " 'S': '기호',\n",
       " 'X': '접사',\n",
       " 'XP': '접두사',\n",
       " 'XS': '접미사'}"
      ]
     },
     "execution_count": 35,
     "metadata": {},
     "output_type": "execute_result"
    }
   ],
   "source": [
    "hannanum.tagset"
   ]
  },
  {
   "cell_type": "code",
   "execution_count": 36,
   "id": "42dc84d6",
   "metadata": {},
   "outputs": [
    {
     "data": {
      "text/plain": [
       "{'EC': '연결 어미',\n",
       " 'ECD': '의존적 연결 어미',\n",
       " 'ECE': '대등 연결 어미',\n",
       " 'ECS': '보조적 연결 어미',\n",
       " 'EF': '종결 어미',\n",
       " 'EFA': '청유형 종결 어미',\n",
       " 'EFI': '감탄형 종결 어미',\n",
       " 'EFN': '평서형 종결 어미',\n",
       " 'EFO': '명령형 종결 어미',\n",
       " 'EFQ': '의문형 종결 어미',\n",
       " 'EFR': '존칭형 종결 어미',\n",
       " 'EP': '선어말 어미',\n",
       " 'EPH': '존칭 선어말 어미',\n",
       " 'EPP': '공손 선어말 어미',\n",
       " 'EPT': '시제 선어말 어미',\n",
       " 'ET': '전성 어미',\n",
       " 'ETD': '관형형 전성 어미',\n",
       " 'ETN': '명사형 전성 어미',\n",
       " 'IC': '감탄사',\n",
       " 'JC': '접속 조사',\n",
       " 'JK': '조사',\n",
       " 'JKC': '보격 조사',\n",
       " 'JKG': '관형격 조사',\n",
       " 'JKI': '호격 조사',\n",
       " 'JKM': '부사격 조사',\n",
       " 'JKO': '목적격 조사',\n",
       " 'JKQ': '인용격 조사',\n",
       " 'JKS': '주격 조사',\n",
       " 'JX': '보조사',\n",
       " 'MA': '부사',\n",
       " 'MAC': '접속 부사',\n",
       " 'MAG': '일반 부사',\n",
       " 'MD': '관형사',\n",
       " 'MDN': '수 관형사',\n",
       " 'MDT': '일반 관형사',\n",
       " 'NN': '명사',\n",
       " 'NNB': '일반 의존 명사',\n",
       " 'NNG': '보통명사',\n",
       " 'NNM': '단위 의존 명사',\n",
       " 'NNP': '고유명사',\n",
       " 'NP': '대명사',\n",
       " 'NR': '수사',\n",
       " 'OH': '한자',\n",
       " 'OL': '외국어',\n",
       " 'ON': '숫자',\n",
       " 'SE': '줄임표',\n",
       " 'SF': '마침표, 물음표, 느낌표',\n",
       " 'SO': '붙임표(물결,숨김,빠짐)',\n",
       " 'SP': '쉼표,가운뎃점,콜론,빗금',\n",
       " 'SS': '따옴표,괄호표,줄표',\n",
       " 'SW': '기타기호 (논리수학기호,화폐기호)',\n",
       " 'UN': '명사추정범주',\n",
       " 'VA': '형용사',\n",
       " 'VC': '지정사',\n",
       " 'VCN': \"부정 지정사, 형용사 '아니다'\",\n",
       " 'VCP': \"긍정 지정사, 서술격 조사 '이다'\",\n",
       " 'VV': '동사',\n",
       " 'VX': '보조 용언',\n",
       " 'VXA': '보조 형용사',\n",
       " 'VXV': '보조 동사',\n",
       " 'XP': '접두사',\n",
       " 'XPN': '체언 접두사',\n",
       " 'XPV': '용언 접두사',\n",
       " 'XR': '어근',\n",
       " 'XSA': '형용사 파생 접미사',\n",
       " 'XSN': '명사파생 접미사',\n",
       " 'XSV': '동사 파생 접미사'}"
      ]
     },
     "execution_count": 36,
     "metadata": {},
     "output_type": "execute_result"
    }
   ],
   "source": [
    "kkma.tagset"
   ]
  },
  {
   "cell_type": "code",
   "execution_count": 37,
   "id": "e99e56a0",
   "metadata": {
    "scrolled": true
   },
   "outputs": [
    {
     "data": {
      "text/plain": [
       "{'EC': '연결 어미',\n",
       " 'EF': '종결 어미',\n",
       " 'EP': '선어말어미',\n",
       " 'ETM': '관형형 전성 어미',\n",
       " 'ETN': '명사형 전성 어미',\n",
       " 'IC': '감탄사',\n",
       " 'JC': '접속 조사',\n",
       " 'JKB': '부사격 조사',\n",
       " 'JKC': '보격 조사',\n",
       " 'JKG': '관형격 조사',\n",
       " 'JKO': '목적격 조사',\n",
       " 'JKQ': '인용격 조사',\n",
       " 'JKS': '주격 조사',\n",
       " 'JKV': '호격 조사',\n",
       " 'JX': '보조사',\n",
       " 'MAG': '일반 부사',\n",
       " 'MAJ': '접속 부사',\n",
       " 'MM': '관형사',\n",
       " 'NA': '분석불능범주',\n",
       " 'NF': '명사추정범주',\n",
       " 'NNB': '의존 명사',\n",
       " 'NNG': '일반 명사',\n",
       " 'NNP': '고유 명사',\n",
       " 'NP': '대명사',\n",
       " 'NR': '수사',\n",
       " 'NV': '용언추정범주',\n",
       " 'SE': '줄임표',\n",
       " 'SF': '마침표, 물음표, 느낌표',\n",
       " 'SH': '한자',\n",
       " 'SL': '외국어',\n",
       " 'SN': '숫자',\n",
       " 'SO': '붙임표(물결,숨김,빠짐)',\n",
       " 'SP': '쉼표,가운뎃점,콜론,빗금',\n",
       " 'SS': '따옴표,괄호표,줄표',\n",
       " 'SW': '기타기호 (논리수학기호,화폐기호)',\n",
       " 'VA': '형용사',\n",
       " 'VCN': '부정 지정사',\n",
       " 'VCP': '긍정 지정사',\n",
       " 'VV': '동사',\n",
       " 'VX': '보조 용언',\n",
       " 'XPN': '체언 접두사',\n",
       " 'XR': '어근',\n",
       " 'XSA': '형용사 파생 접미사',\n",
       " 'XSN': '명사파생 접미사',\n",
       " 'XSV': '동사 파생 접미사'}"
      ]
     },
     "execution_count": 37,
     "metadata": {},
     "output_type": "execute_result"
    }
   ],
   "source": [
    "komoran.tagset"
   ]
  },
  {
   "cell_type": "code",
   "execution_count": 38,
   "id": "d8d67d7c",
   "metadata": {
    "scrolled": true
   },
   "outputs": [
    {
     "data": {
      "text/plain": [
       "{'Adjective': '형용사',\n",
       " 'Adverb': '부사',\n",
       " 'Alpha': '알파벳',\n",
       " 'Conjunction': '접속사',\n",
       " 'Determiner': '관형사',\n",
       " 'Eomi': '어미',\n",
       " 'Exclamation': '감탄사',\n",
       " 'Foreign': '외국어, 한자 및 기타기호',\n",
       " 'Hashtag': '트위터 해쉬태그',\n",
       " 'Josa': '조사',\n",
       " 'KoreanParticle': '(ex: ㅋㅋ)',\n",
       " 'Noun': '명사',\n",
       " 'Number': '숫자',\n",
       " 'PreEomi': '선어말어미',\n",
       " 'Punctuation': '구두점',\n",
       " 'ScreenName': '트위터 아이디',\n",
       " 'Suffix': '접미사',\n",
       " 'Unknown': '미등록어',\n",
       " 'Verb': '동사'}"
      ]
     },
     "execution_count": 38,
     "metadata": {},
     "output_type": "execute_result"
    }
   ],
   "source": [
    "okt.tagset"
   ]
  },
  {
   "cell_type": "code",
   "execution_count": 39,
   "id": "602167d3",
   "metadata": {},
   "outputs": [],
   "source": [
    "from konlpy.tag import Okt\n",
    "okt = Okt()"
   ]
  },
  {
   "cell_type": "code",
   "execution_count": 49,
   "id": "35d68684",
   "metadata": {},
   "outputs": [
    {
     "data": {
      "text/plain": [
       "[('아버지', 'Noun'),\n",
       " ('가방', 'Noun'),\n",
       " ('에', 'Josa'),\n",
       " ('들어가신다', 'Verb'),\n",
       " ('.', 'Punctuation')]"
      ]
     },
     "execution_count": 49,
     "metadata": {},
     "output_type": "execute_result"
    }
   ],
   "source": [
    "txt = '아버지가방에들어가신다.'\n",
    "okt.pos(txt)"
   ]
  },
  {
   "cell_type": "code",
   "execution_count": 41,
   "id": "7b9c026a",
   "metadata": {},
   "outputs": [
    {
     "data": {
      "text/plain": [
       "[('이', 'Determiner'),\n",
       " ('것', 'Noun'),\n",
       " ('도', 'Josa'),\n",
       " ('되나', 'Verb'),\n",
       " ('욬', 'Noun'),\n",
       " ('ㅋㅋㅋㅋ', 'KoreanParticle')]"
      ]
     },
     "execution_count": 41,
     "metadata": {},
     "output_type": "execute_result"
    }
   ],
   "source": [
    "okt.pos('이것도되나욬ㅋㅋㅋㅋ')"
   ]
  },
  {
   "cell_type": "code",
   "execution_count": 42,
   "id": "ca361d4a",
   "metadata": {},
   "outputs": [
    {
     "data": {
      "text/plain": [
       "[('이', 'Determiner'),\n",
       " ('것', 'Noun'),\n",
       " ('도', 'Josa'),\n",
       " ('되나요', 'Verb'),\n",
       " ('ㅋㅋㅋ', 'KoreanParticle')]"
      ]
     },
     "execution_count": 42,
     "metadata": {},
     "output_type": "execute_result"
    }
   ],
   "source": [
    "# norm=True: 품사 태깅(기본값은 False)\n",
    "okt.pos('이것도되나욬ㅋㅋㅋㅋ', norm=True)"
   ]
  },
  {
   "cell_type": "code",
   "execution_count": 43,
   "id": "0eb7774a",
   "metadata": {},
   "outputs": [
    {
     "data": {
      "text/plain": [
       "[('이', 'Determiner'),\n",
       " ('것', 'Noun'),\n",
       " ('도', 'Josa'),\n",
       " ('되다', 'Verb'),\n",
       " ('욬', 'Noun'),\n",
       " ('ㅋㅋㅋㅋ', 'KoreanParticle')]"
      ]
     },
     "execution_count": 43,
     "metadata": {},
     "output_type": "execute_result"
    }
   ],
   "source": [
    "# stem=True: 원형 글자로 바꿔준다.(기본값은 False)\n",
    "okt.pos('이것도되나욬ㅋㅋㅋㅋ', stem=True)"
   ]
  },
  {
   "cell_type": "code",
   "execution_count": 44,
   "id": "acd8e886",
   "metadata": {},
   "outputs": [
    {
     "data": {
      "text/plain": [
       "['아버지', '가방', '에', '들어가신다', '.']"
      ]
     },
     "execution_count": 44,
     "metadata": {},
     "output_type": "execute_result"
    }
   ],
   "source": [
    "# 텍스트를 형태소 단위로 나눈다.\n",
    "okt.morphs(txt)"
   ]
  },
  {
   "cell_type": "code",
   "execution_count": 50,
   "id": "bca6110f",
   "metadata": {},
   "outputs": [
    {
     "data": {
      "text/plain": [
       "['아버지', '가방']"
      ]
     },
     "execution_count": 50,
     "metadata": {},
     "output_type": "execute_result"
    }
   ],
   "source": [
    "# 텍스트에서 명사만 추출한다.\n",
    "okt.nouns(txt)"
   ]
  },
  {
   "cell_type": "code",
   "execution_count": null,
   "id": "a723989c",
   "metadata": {},
   "outputs": [],
   "source": []
  },
  {
   "cell_type": "code",
   "execution_count": null,
   "id": "c081e3b4",
   "metadata": {},
   "outputs": [],
   "source": []
  },
  {
   "cell_type": "code",
   "execution_count": null,
   "id": "1090d4e9",
   "metadata": {},
   "outputs": [],
   "source": []
  }
 ],
 "metadata": {
  "kernelspec": {
   "display_name": "Python 3",
   "language": "python",
   "name": "python3"
  },
  "language_info": {
   "codemirror_mode": {
    "name": "ipython",
    "version": 3
   },
   "file_extension": ".py",
   "mimetype": "text/x-python",
   "name": "python",
   "nbconvert_exporter": "python",
   "pygments_lexer": "ipython3",
   "version": "3.6.8"
  }
 },
 "nbformat": 4,
 "nbformat_minor": 5
}
