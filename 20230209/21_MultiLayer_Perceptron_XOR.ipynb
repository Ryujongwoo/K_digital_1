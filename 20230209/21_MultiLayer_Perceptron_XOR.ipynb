{
 "cells": [
  {
   "cell_type": "code",
   "execution_count": 17,
   "id": "f8b23e67",
   "metadata": {},
   "outputs": [],
   "source": [
    "%config Completer.use_jedi = False\n",
    "import warnings\n",
    "warnings.filterwarnings(action='ignore')\n",
    "import tensorflow.compat.v1 as tf\n",
    "tf.disable_v2_behavior()"
   ]
  },
  {
   "cell_type": "markdown",
   "id": "70c55813",
   "metadata": {},
   "source": [
    "<img src=\"./multiLayerPerceptron.png\" align=\"left\"/>"
   ]
  },
  {
   "cell_type": "markdown",
   "id": "8fe66cc5",
   "metadata": {},
   "source": [
    "XOR 연산은 입력 데이터를 X라고 할 경우 [[0, 0], [0, 1], [1, 0], [1, 1]]과 같은 경우의 수가 있다.  \n",
    "총 4개의 데이터가 각각 2개의 특성을 가지고 있으므로 X는 [4, 2]의 형태로 정의할 수 있다.  \n",
    "입력값에 따른 출력값 Y는 [[0], [1], [1], [0]]이므로 Y는 [4, 1]의 형태로 정의할 수 있다."
   ]
  },
  {
   "cell_type": "code",
   "execution_count": 18,
   "id": "bae63fcc",
   "metadata": {},
   "outputs": [],
   "source": [
    "X = tf.placeholder(dtype=tf.float32, shape=[4, 2]) # 입력값\n",
    "Y = tf.placeholder(dtype=tf.float32, shape=[4, 1]) # 출력값"
   ]
  },
  {
   "cell_type": "markdown",
   "id": "7e96ed5b",
   "metadata": {},
   "source": [
    "1번째 히든 레이어에서 2개의 입력(X)과 1개의 편향값(B1)을 받아서 2개의 시그모이드 출력(Z)을 다음 레이어로 전달한다."
   ]
  },
  {
   "cell_type": "code",
   "execution_count": 19,
   "id": "95eb1452",
   "metadata": {},
   "outputs": [],
   "source": [
    "# 2개의 입력을 받는 2개의 뉴런을 만든다.\n",
    "# random_normal()은 정규 분포로 부터 난수값을 반환하고 random_uniform()은 균등 분포로 부터의 난수값을 반환한다.\n",
    "W1 = tf.Variable(tf.random_uniform([2, 2]))\n",
    "# 각 뉴런은 1개의 편향값을 가진다.\n",
    "# zeros()는 모든 원소의 값이 0인 텐서를 생성한다.\n",
    "B1 = tf.Variable(tf.zeros([2]))\n",
    "# 시그모이드를 거쳐 출력값으로 Z를 리턴한다. => sigmoid(W1 * X + B1)\n",
    "Z = tf.sigmoid(tf.matmul(X, W1) + B1)"
   ]
  },
  {
   "cell_type": "code",
   "execution_count": 20,
   "id": "a87abe29",
   "metadata": {},
   "outputs": [
    {
     "name": "stdout",
     "output_type": "stream",
     "text": [
      "[[0.8412336  0.8692758 ]\n",
      " [0.44079447 0.37945366]]\n",
      "[0. 0.]\n",
      "[[0.5        0.5       ]\n",
      " [0.6084483  0.5937413 ]\n",
      " [0.698725   0.70459497]\n",
      " [0.78279483 0.7770798 ]]\n"
     ]
    }
   ],
   "source": [
    "sess = tf.Session()\n",
    "sess.run(tf.global_variables_initializer())\n",
    "print(sess.run(W1))\n",
    "print(sess.run(B1))\n",
    "train_X = [[0, 0], [0, 1], [1, 0], [1, 1]]\n",
    "print(sess.run(Z, feed_dict={X: train_X}))\n",
    "sess.close()"
   ]
  },
  {
   "cell_type": "markdown",
   "id": "1c91fcd6",
   "metadata": {},
   "source": [
    "2번째 히든 레이어에서 1번째 히든 레이어의 출력값인 Z와 1개의 편향값(B2)을 받아서 1개의 시그모이드를 출력(Y_hat)한다."
   ]
  },
  {
   "cell_type": "code",
   "execution_count": 21,
   "id": "8e0583ec",
   "metadata": {},
   "outputs": [],
   "source": [
    "# Z를 입력값으로 받는 1개의 뉴런을 만든다.\n",
    "W2 = tf.Variable(tf.random_uniform([2, 1]))\n",
    "# 각 뉴런은 1개의 편향값을 가진다.\n",
    "B2 = tf.Variable(tf.zeros([1]))\n",
    "# 시그모이드를 거쳐 출력값으로 Y_hat을 리턴한다. => sigmoid(W2 * Z + B1)\n",
    "Y_hat = tf.sigmoid(tf.matmul(Z, W2) + B2)"
   ]
  },
  {
   "cell_type": "code",
   "execution_count": 22,
   "id": "5ffec647",
   "metadata": {
    "scrolled": false
   },
   "outputs": [
    {
     "name": "stdout",
     "output_type": "stream",
     "text": [
      "[[0.57834387]\n",
      " [0.19056118]]\n",
      "[0.]\n",
      "[[0.59494656]\n",
      " [0.6181283 ]\n",
      " [0.62782854]\n",
      " [0.64571095]]\n"
     ]
    }
   ],
   "source": [
    "sess = tf.Session()\n",
    "sess.run(tf.global_variables_initializer())\n",
    "print(sess.run(W2))\n",
    "print(sess.run(B2))\n",
    "print(sess.run(Y_hat, feed_dict={X: train_X}))\n",
    "sess.close()"
   ]
  },
  {
   "cell_type": "markdown",
   "id": "48147327",
   "metadata": {},
   "source": [
    "손실 함수로 크로스 엔트로피를 사용하고 경사 하강법으로 모델의 매개 변수(가중치, 편향)을 최적화 한다."
   ]
  },
  {
   "cell_type": "code",
   "execution_count": 23,
   "id": "1d062b9d",
   "metadata": {},
   "outputs": [],
   "source": [
    "# 크로스 엔트로피\n",
    "loss = tf.reduce_mean(\n",
    "    -1 * (Y * tf.log(Y_hat) + (1 - Y) * tf.log(1.0 - Y_hat))\n",
    ")\n",
    "# 경사 하강법\n",
    "train_step = tf.train.GradientDescentOptimizer(0.05).minimize(loss)\n",
    "# 모델을 학습하기 위한 데이터를 만든다.\n",
    "train_X = [[0, 0], [0, 1], [1, 0], [1, 1]]\n",
    "train_Y = [[0], [1], [1], [0]]"
   ]
  },
  {
   "cell_type": "markdown",
   "id": "c389db96",
   "metadata": {},
   "source": [
    "학습을 진행한다."
   ]
  },
  {
   "cell_type": "code",
   "execution_count": 24,
   "id": "52a459b6",
   "metadata": {
    "scrolled": false
   },
   "outputs": [
    {
     "name": "stdout",
     "output_type": "stream",
     "text": [
      "학습 데이터: [[0, 0], [0, 1], [1, 0], [1, 1]]\n",
      "================================================================================\n",
      "epoch: 0\n",
      "output\n",
      "[[0.6875218 ]\n",
      " [0.71476936]\n",
      " [0.723989  ]\n",
      " [0.7479211 ]]\n",
      "================================================================================\n",
      "epoch: 5000\n",
      "output\n",
      "[[0.4688005 ]\n",
      " [0.50225157]\n",
      " [0.5049241 ]\n",
      " [0.53074294]]\n",
      "================================================================================\n",
      "epoch: 10000\n",
      "output\n",
      "[[0.18915203]\n",
      " [0.63067186]\n",
      " [0.59733754]\n",
      " [0.60375357]]\n",
      "================================================================================\n",
      "epoch: 15000\n",
      "output\n",
      "[[0.06495428]\n",
      " [0.93226796]\n",
      " [0.93246585]\n",
      " [0.08631459]]\n",
      "================================================================================\n",
      "epoch: 20000\n",
      "output\n",
      "[[0.02953169]\n",
      " [0.97523403]\n",
      " [0.9752877 ]\n",
      " [0.02841195]]\n",
      "================================================================================\n"
     ]
    }
   ],
   "source": [
    "with tf.Session() as sess:\n",
    "    sess.run(tf.global_variables_initializer())\n",
    "    print('학습 데이터: {}'.format(train_X))\n",
    "    print('=' * 80)\n",
    "    \n",
    "    for epoch in range(20001):\n",
    "        sess.run(train_step, feed_dict={X: train_X, Y: train_Y})\n",
    "        if epoch % 5000 == 0:\n",
    "            print('epoch: {}'.format(epoch))\n",
    "            print('output\\n', sess.run(Y_hat, feed_dict={X: train_X, Y: train_Y}), sep='')\n",
    "            print('=' * 80)\n"
   ]
  },
  {
   "cell_type": "markdown",
   "id": "c738dfc8",
   "metadata": {},
   "source": [
    "학습 결과를 통해 [0, 0], [1, 1]은 0에 상당히 가까운 값을 출력하고 [0, 1], [1, 0]은 1에 상당히 가까운 값을 출력하는 것을 확인할 수 있다."
   ]
  },
  {
   "cell_type": "code",
   "execution_count": null,
   "id": "02f1a504",
   "metadata": {},
   "outputs": [],
   "source": []
  },
  {
   "cell_type": "code",
   "execution_count": null,
   "id": "eb831daf",
   "metadata": {},
   "outputs": [],
   "source": []
  },
  {
   "cell_type": "code",
   "execution_count": null,
   "id": "c6fff833",
   "metadata": {},
   "outputs": [],
   "source": []
  }
 ],
 "metadata": {
  "kernelspec": {
   "display_name": "py36",
   "language": "python",
   "name": "py36"
  },
  "language_info": {
   "codemirror_mode": {
    "name": "ipython",
    "version": 3
   },
   "file_extension": ".py",
   "mimetype": "text/x-python",
   "name": "python",
   "nbconvert_exporter": "python",
   "pygments_lexer": "ipython3",
   "version": "3.6.13"
  }
 },
 "nbformat": 4,
 "nbformat_minor": 5
}
