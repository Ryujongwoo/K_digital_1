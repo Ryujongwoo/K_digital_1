{
 "cells": [
  {
   "cell_type": "code",
   "execution_count": 1,
   "id": "4d9f5089",
   "metadata": {},
   "outputs": [],
   "source": [
    "import warnings\n",
    "warnings.filterwarnings(action='ignore')\n",
    "# !pip install pymongo\n",
    "import pymongo # mongoDB를 사용하기 위해 라이브러리를 import 한다.\n",
    "import requests"
   ]
  },
  {
   "cell_type": "code",
   "execution_count": 3,
   "id": "a2916a3d",
   "metadata": {},
   "outputs": [
    {
     "name": "stdout",
     "output_type": "stream",
     "text": [
      "['admin', 'config', 'dbfirst', 'local', 'starbucks']\n",
      "starbucks 데이터베이스가 존재합니다.\n",
      "[{'sido_cd': '01', 'sido_nm': '서울'}, {'sido_cd': '08', 'sido_nm': '경기'}, {'sido_cd': '02', 'sido_nm': '광주'}, {'sido_cd': '03', 'sido_nm': '대구'}, {'sido_cd': '04', 'sido_nm': '대전'}, {'sido_cd': '05', 'sido_nm': '부산'}, {'sido_cd': '06', 'sido_nm': '울산'}, {'sido_cd': '07', 'sido_nm': '인천'}, {'sido_cd': '09', 'sido_nm': '강원'}, {'sido_cd': '10', 'sido_nm': '경남'}, {'sido_cd': '11', 'sido_nm': '경북'}, {'sido_cd': '12', 'sido_nm': '전남'}, {'sido_cd': '13', 'sido_nm': '전북'}, {'sido_cd': '14', 'sido_nm': '충남'}, {'sido_cd': '15', 'sido_nm': '충북'}, {'sido_cd': '16', 'sido_nm': '제주'}, {'sido_cd': '17', 'sido_nm': '세종'}]\n"
     ]
    }
   ],
   "source": [
    "# mongoDB에 연결하고 데이터베이스 목록을 얻어온다.\n",
    "mongoConnection = pymongo.MongoClient('mongodb://localhost:27017/') # mongoDB에 연결한다.\n",
    "databaseList = mongoConnection.list_database_names() # 데이터베이스 목록을 얻어온다.\n",
    "print(databaseList)\n",
    "\n",
    "# 데이터베이스가 존재하지 않으면 만들고 존재하면 기존 데이터베이스를 사용한다.\n",
    "if 'starbucks' in databaseList:\n",
    "    print('starbucks 데이터베이스가 존재합니다.')\n",
    "else:\n",
    "    print('starbucks 데이터베이스가 존재하지 않아 새로 생성합니다.')\n",
    "    \n",
    "# starbucks 데이터베이스가 존재하지 않으면 데이터베이스를 만들고 사용할 준비를 하고 존재하면 사용할 준비를 한다.\n",
    "starbucks = mongoConnection['starbucks'] # use starbucks\n",
    "# sido 컬렉션이 존재하지 않으면 컬렉션을 만들고 사용할 준비를 하고 존재하면 사용할 준비를 한다.\n",
    "sido = starbucks['sido']\n",
    "# sido 컬렉션에 저장된 모든 데이터를 제거한다.\n",
    "sido.delete_many({})\n",
    "\n",
    "request = requests.post('https://www.starbucks.co.kr/store/getSidoList.do').json()\n",
    "# print(type(request))\n",
    "# print(request)\n",
    "sidoList = []\n",
    "for r in request['list']:\n",
    "    d = {'sido_cd': r['sido_cd'].strip(), 'sido_nm': r['sido_nm'].strip()}\n",
    "    # print(d)\n",
    "    sidoList.append(d)\n",
    "print(sidoList)\n",
    "\n",
    "# mongoDB에 데이터를 저장한다.\n",
    "for s in sidoList:\n",
    "    sido.insert_one(s)"
   ]
  },
  {
   "cell_type": "code",
   "execution_count": 12,
   "id": "233db7d0",
   "metadata": {},
   "outputs": [
    {
     "name": "stdout",
     "output_type": "stream",
     "text": [
      "{'sido_cd': '01', 'sido_nm': '서울'}\n",
      "{'sido_cd': '08', 'sido_nm': '경기'}\n",
      "{'sido_cd': '02', 'sido_nm': '광주'}\n",
      "{'sido_cd': '03', 'sido_nm': '대구'}\n",
      "{'sido_cd': '04', 'sido_nm': '대전'}\n",
      "{'sido_cd': '05', 'sido_nm': '부산'}\n",
      "{'sido_cd': '06', 'sido_nm': '울산'}\n",
      "{'sido_cd': '07', 'sido_nm': '인천'}\n",
      "{'sido_cd': '09', 'sido_nm': '강원'}\n",
      "{'sido_cd': '10', 'sido_nm': '경남'}\n",
      "{'sido_cd': '11', 'sido_nm': '경북'}\n",
      "{'sido_cd': '12', 'sido_nm': '전남'}\n",
      "{'sido_cd': '13', 'sido_nm': '전북'}\n",
      "{'sido_cd': '14', 'sido_nm': '충남'}\n",
      "{'sido_cd': '15', 'sido_nm': '충북'}\n",
      "{'sido_cd': '16', 'sido_nm': '제주'}\n",
      "{'sido_cd': '17', 'sido_nm': '세종'}\n"
     ]
    }
   ],
   "source": [
    "sidoList = sido.find({}, {'_id': 0, 'sido_cd': 1, 'sido_nm': 1})\n",
    "for s in sidoList:\n",
    "    print(s)"
   ]
  },
  {
   "cell_type": "code",
   "execution_count": null,
   "id": "28066676",
   "metadata": {},
   "outputs": [],
   "source": []
  },
  {
   "cell_type": "code",
   "execution_count": null,
   "id": "efa1fbde",
   "metadata": {},
   "outputs": [],
   "source": []
  },
  {
   "cell_type": "code",
   "execution_count": null,
   "id": "3f996e73",
   "metadata": {},
   "outputs": [],
   "source": []
  },
  {
   "cell_type": "code",
   "execution_count": null,
   "id": "e2ff249f",
   "metadata": {},
   "outputs": [],
   "source": []
  },
  {
   "cell_type": "code",
   "execution_count": null,
   "id": "764c505f",
   "metadata": {},
   "outputs": [],
   "source": []
  },
  {
   "cell_type": "code",
   "execution_count": null,
   "id": "b03c7cc0",
   "metadata": {},
   "outputs": [],
   "source": []
  }
 ],
 "metadata": {
  "kernelspec": {
   "display_name": "Python 3 (ipykernel)",
   "language": "python",
   "name": "python3"
  },
  "language_info": {
   "codemirror_mode": {
    "name": "ipython",
    "version": 3
   },
   "file_extension": ".py",
   "mimetype": "text/x-python",
   "name": "python",
   "nbconvert_exporter": "python",
   "pygments_lexer": "ipython3",
   "version": "3.7.9"
  }
 },
 "nbformat": 4,
 "nbformat_minor": 5
}
