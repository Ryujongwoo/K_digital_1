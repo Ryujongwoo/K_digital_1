{
 "cells": [
  {
   "cell_type": "code",
   "execution_count": 21,
   "id": "72ac0013",
   "metadata": {},
   "outputs": [],
   "source": [
    "class Stack:\n",
    "    # Stack 클래스가 생성될 때 스택의 크기를 넘겨받으면 넘겨받은 크기만큼의 기억공간을 가지는 스택을 생성하고 스택의 크기를\n",
    "    # 넘겨받지 않으면 5개의 데이터를 저장할 수 있는 스택을 만든다. => 디폴트 인수를 사용한다.\n",
    "    def __init__(self, size=5):\n",
    "        # print('스택의 크기: {}'.format(size))\n",
    "        # 생성자 함수에서 스택으로 사용할 빈 리스트를 만든다.\n",
    "        self.stack = [] # stack => 빈 리스트 => 데이터는 append() 메소드로 추가한다.\n",
    "        self.size = size # 스택의 크기\n",
    "        # top, SP(Stack Pointer) => 스택에 몇 개의 데이터가 저장되어있나 기억한다.\n",
    "        # 데이터가 입력되면 1증가, 데이터가 출력되면 2감소 => 스택의 크기와 비교해서 overflow, underflow를 처리한다.\n",
    "        self.top = 0\n",
    "        \n",
    "    # push => 입력\n",
    "    def push(self, data):\n",
    "        if data not in self.stack: # 스택에 저장하려는 데이터가 스택에 존재하지 않는가?\n",
    "            # 스택에 저장하려는 데이터가 스택에 존재하지 않기 때문에 저장하기 전에 overflow인가 검사한다.\n",
    "            # 스택의 크기(self.size)가 5일때 스택으로 사용할 리스트의 인덱스(self.top)는 0, 1, 2, 3, 4만 사용할 수 있다.\n",
    "            if self.size > self.top:\n",
    "                # overflow가 발생되지 않았으므로 스택에 데이터를 저장한다.\n",
    "                self.stack.append(data)\n",
    "                # 스택에 데이터를 추가했으므로 top을 1증가시킨다.\n",
    "                self.top += 1\n",
    "            else:\n",
    "                # overflow가 발생되면 스택이 가득찼다는 메시지를 출력한다.\n",
    "                print('overflow 발생... 스택이 가득차서 {}를(을) 저장할 수 없습니다.'.format(data))\n",
    "            # ===== if\n",
    "        else:\n",
    "            # 스택에 저장하려는 데이터가 스택에 존재하기 때문에 중복된 데이터를 메시지를 출력한다.\n",
    "            print('{}는(은) 중복된 데이터 입니다.'.format(data))\n",
    "        # ===== if\n",
    "    \n",
    "    # view => 보기, 스택에 저장된 데이터를 출력한다.\n",
    "    \n",
    "    # pop => 출력\n",
    "    "
   ]
  },
  {
   "cell_type": "code",
   "execution_count": 22,
   "id": "5b477b31",
   "metadata": {},
   "outputs": [
    {
     "name": "stdout",
     "output_type": "stream",
     "text": [
      "111는(은) 중복된 데이터 입니다.\n",
      "overflow 발생... 스택이 가득차서 777를(을) 저장할 수 없습니다.\n"
     ]
    }
   ],
   "source": [
    "stack = Stack()\n",
    "stack.push(111)\n",
    "stack.push(111)\n",
    "stack.push(3.141592)\n",
    "stack.push('수요일')\n",
    "stack.push(True)\n",
    "stack.push(555)\n",
    "stack.push(777)"
   ]
  },
  {
   "cell_type": "code",
   "execution_count": null,
   "id": "300c5161",
   "metadata": {},
   "outputs": [],
   "source": []
  }
 ],
 "metadata": {
  "kernelspec": {
   "display_name": "Python 3",
   "language": "python",
   "name": "python3"
  },
  "language_info": {
   "codemirror_mode": {
    "name": "ipython",
    "version": 3
   },
   "file_extension": ".py",
   "mimetype": "text/x-python",
   "name": "python",
   "nbconvert_exporter": "python",
   "pygments_lexer": "ipython3",
   "version": "3.6.8"
  }
 },
 "nbformat": 4,
 "nbformat_minor": 5
}
