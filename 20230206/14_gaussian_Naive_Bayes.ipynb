{
 "cells": [
  {
   "cell_type": "markdown",
   "id": "a3cb8441",
   "metadata": {},
   "source": [
    "나이브 베이즈(naive bayes)는 확률 기반 머신러닝 분류 알고리즘이다.  \n",
    "나이브 베이즈 분류 알고리즘은 데이터를 나이브(단순)하고 독립적인 사건으로 가정하고 이 독립 사건들을 베이즈 이론(https://angeloyeo.github.io/2020/01/09/Bayes_rule.html)에 대입시켜 가장 높은 확률의 레이블로 분류를 실행하는 알고리즘이다.\n",
    "***\n",
    "가우시안 나이브 베이즈(Gussian Naive Bayes)  \n",
    "분류 특징들의 값이 정규(가우시안) 분포되어 있다는 가정하에 조건부 확률을 계산하며 연속적인 성질이 있는 특성 데이터를 분류하는데 적합하다.  \n",
    "\n",
    "P(A): 어떤 사건 A가 일어날 확률  \n",
    "P(B): 어떤 사건 B가 일어날 확률  \n",
    "P(A|B): 어떤 사건 B가 일어났을 때 사건 A가 일어날 확률  \n",
    "P(B|A): 어떤 사건 A가 일어났을 때 사건 B가 일어날 확률\n",
    "\n",
    "$$P(A|B) = \\frac{P(B|A)P(A)}{P(B)}$$"
   ]
  },
  {
   "cell_type": "markdown",
   "id": "e62dd8a9",
   "metadata": {},
   "source": [
    "<img src=\"./naive_bayes.png\" width=\"1300\" align=\"left\"/>"
   ]
  },
  {
   "cell_type": "markdown",
   "id": "7118caf4",
   "metadata": {},
   "source": [
    "<img src=\"./naive_bayes2.png\" width=\"1100\" align=\"left\"/>"
   ]
  },
  {
   "cell_type": "markdown",
   "id": "69da3b2b",
   "metadata": {},
   "source": [
    "<img src=\"./naive_bayes3.png\" width=\"1300\" align=\"left\"/>"
   ]
  },
  {
   "cell_type": "markdown",
   "id": "231d9a57",
   "metadata": {},
   "source": [
    "베르누이 나이브 베이즈(Berniulli Naive Bayes)  \n",
    "분류 데이터의 특징이 0 또는 1로 표현되었을 때 데이터의 출현 여부에 따라서 0 또는 1로 구분되는 데이터에 사용된다.  \n",
    "***\n",
    "다항분포 나이브 베이즈(Multinimial Naive Bayes)  \n",
    "분류 데이터의 특징이 출현 횟수로 표현되었을 때 데이터의 출현 횟수에 따라 값을 달리하는 데이터에 사용된다."
   ]
  },
  {
   "cell_type": "code",
   "execution_count": 1,
   "id": "4a7f2143",
   "metadata": {},
   "outputs": [],
   "source": [
    "%config Completer.use_jedi = False\n",
    "import warnings\n",
    "warnings.filterwarnings(action='ignore')\n",
    "import pandas as pd\n",
    "import numpy as np\n",
    "import matplotlib.pyplot as plt\n",
    "import seaborn as sns\n",
    "%matplotlib inline"
   ]
  },
  {
   "cell_type": "markdown",
   "id": "bd686a51",
   "metadata": {},
   "source": [
    "가우시안 나이브 베이즈를 활용한 붓꽃(iris) 분류  \n",
    "iris 데이터를 활용해 데이터의 특징에 따라 붓꽃의 종류를 구분한다."
   ]
  },
  {
   "cell_type": "code",
   "execution_count": 12,
   "id": "055dd6d4",
   "metadata": {},
   "outputs": [],
   "source": [
    "from sklearn.datasets import load_iris # 사이킷런이 제공하는 붗꽃(iris) 데이터를 불러오기 위해 import 한다.\n",
    "from sklearn.model_selection import train_test_split\n",
    "from sklearn.naive_bayes import GaussianNB # Gaussian Naive Bayse 모델로 iris 데이터를 분류하기 위해 import 한다.\n",
    "from sklearn.metrics import classification_report\n",
    "from sklearn.metrics import accuracy_score"
   ]
  },
  {
   "cell_type": "markdown",
   "id": "b9ad4dd1",
   "metadata": {},
   "source": [
    "데이터 획득  \n",
    "사이킷런에서 제공하는 붓꽃(iris) 데이터 셋을 사용한다."
   ]
  },
  {
   "cell_type": "code",
   "execution_count": 3,
   "id": "9fb1f7a8",
   "metadata": {},
   "outputs": [
    {
     "data": {
      "text/html": [
       "<div>\n",
       "<style scoped>\n",
       "    .dataframe tbody tr th:only-of-type {\n",
       "        vertical-align: middle;\n",
       "    }\n",
       "\n",
       "    .dataframe tbody tr th {\n",
       "        vertical-align: top;\n",
       "    }\n",
       "\n",
       "    .dataframe thead th {\n",
       "        text-align: right;\n",
       "    }\n",
       "</style>\n",
       "<table border=\"1\" class=\"dataframe\">\n",
       "  <thead>\n",
       "    <tr style=\"text-align: right;\">\n",
       "      <th></th>\n",
       "      <th>sepal length (cm)</th>\n",
       "      <th>sepal width (cm)</th>\n",
       "      <th>petal length (cm)</th>\n",
       "      <th>petal width (cm)</th>\n",
       "      <th>target</th>\n",
       "    </tr>\n",
       "  </thead>\n",
       "  <tbody>\n",
       "    <tr>\n",
       "      <th>0</th>\n",
       "      <td>5.1</td>\n",
       "      <td>3.5</td>\n",
       "      <td>1.4</td>\n",
       "      <td>0.2</td>\n",
       "      <td>setosa</td>\n",
       "    </tr>\n",
       "    <tr>\n",
       "      <th>1</th>\n",
       "      <td>4.9</td>\n",
       "      <td>3.0</td>\n",
       "      <td>1.4</td>\n",
       "      <td>0.2</td>\n",
       "      <td>setosa</td>\n",
       "    </tr>\n",
       "    <tr>\n",
       "      <th>2</th>\n",
       "      <td>4.7</td>\n",
       "      <td>3.2</td>\n",
       "      <td>1.3</td>\n",
       "      <td>0.2</td>\n",
       "      <td>setosa</td>\n",
       "    </tr>\n",
       "    <tr>\n",
       "      <th>3</th>\n",
       "      <td>4.6</td>\n",
       "      <td>3.1</td>\n",
       "      <td>1.5</td>\n",
       "      <td>0.2</td>\n",
       "      <td>setosa</td>\n",
       "    </tr>\n",
       "    <tr>\n",
       "      <th>4</th>\n",
       "      <td>5.0</td>\n",
       "      <td>3.6</td>\n",
       "      <td>1.4</td>\n",
       "      <td>0.2</td>\n",
       "      <td>setosa</td>\n",
       "    </tr>\n",
       "    <tr>\n",
       "      <th>...</th>\n",
       "      <td>...</td>\n",
       "      <td>...</td>\n",
       "      <td>...</td>\n",
       "      <td>...</td>\n",
       "      <td>...</td>\n",
       "    </tr>\n",
       "    <tr>\n",
       "      <th>145</th>\n",
       "      <td>6.7</td>\n",
       "      <td>3.0</td>\n",
       "      <td>5.2</td>\n",
       "      <td>2.3</td>\n",
       "      <td>virginica</td>\n",
       "    </tr>\n",
       "    <tr>\n",
       "      <th>146</th>\n",
       "      <td>6.3</td>\n",
       "      <td>2.5</td>\n",
       "      <td>5.0</td>\n",
       "      <td>1.9</td>\n",
       "      <td>virginica</td>\n",
       "    </tr>\n",
       "    <tr>\n",
       "      <th>147</th>\n",
       "      <td>6.5</td>\n",
       "      <td>3.0</td>\n",
       "      <td>5.2</td>\n",
       "      <td>2.0</td>\n",
       "      <td>virginica</td>\n",
       "    </tr>\n",
       "    <tr>\n",
       "      <th>148</th>\n",
       "      <td>6.2</td>\n",
       "      <td>3.4</td>\n",
       "      <td>5.4</td>\n",
       "      <td>2.3</td>\n",
       "      <td>virginica</td>\n",
       "    </tr>\n",
       "    <tr>\n",
       "      <th>149</th>\n",
       "      <td>5.9</td>\n",
       "      <td>3.0</td>\n",
       "      <td>5.1</td>\n",
       "      <td>1.8</td>\n",
       "      <td>virginica</td>\n",
       "    </tr>\n",
       "  </tbody>\n",
       "</table>\n",
       "<p>150 rows × 5 columns</p>\n",
       "</div>"
      ],
      "text/plain": [
       "     sepal length (cm)  sepal width (cm)  petal length (cm)  petal width (cm)  \\\n",
       "0                  5.1               3.5                1.4               0.2   \n",
       "1                  4.9               3.0                1.4               0.2   \n",
       "2                  4.7               3.2                1.3               0.2   \n",
       "3                  4.6               3.1                1.5               0.2   \n",
       "4                  5.0               3.6                1.4               0.2   \n",
       "..                 ...               ...                ...               ...   \n",
       "145                6.7               3.0                5.2               2.3   \n",
       "146                6.3               2.5                5.0               1.9   \n",
       "147                6.5               3.0                5.2               2.0   \n",
       "148                6.2               3.4                5.4               2.3   \n",
       "149                5.9               3.0                5.1               1.8   \n",
       "\n",
       "        target  \n",
       "0       setosa  \n",
       "1       setosa  \n",
       "2       setosa  \n",
       "3       setosa  \n",
       "4       setosa  \n",
       "..         ...  \n",
       "145  virginica  \n",
       "146  virginica  \n",
       "147  virginica  \n",
       "148  virginica  \n",
       "149  virginica  \n",
       "\n",
       "[150 rows x 5 columns]"
      ]
     },
     "execution_count": 3,
     "metadata": {},
     "output_type": "execute_result"
    }
   ],
   "source": [
    "dataset = load_iris() # iris 데이터셋을 불러온다.\n",
    "# print(type(dataset))\n",
    "# print(dataset)\n",
    "# print(dataset.data)\n",
    "# print(dataset.feature_names)\n",
    "# sepal length: 꽃 받침 길이, sepal width: 꽃 밫침 너비, petal length: 꽃잎 길이, petal width: 꽃잎 너비\n",
    "# print(dataset.target_names) # setosa, versicolor, virginica: 품종\n",
    "# print(dataset.target) # setosa => 0, versicolor => 1, virginica => 2: 레이블, 결과(답), 클래스, 타겟\n",
    "df = pd.DataFrame(dataset.data, columns=dataset.feature_names)\n",
    "df['target'] = dataset.target\n",
    "df.target = df.target.map({0: 'setosa', 1: 'versicolor', 2: 'virginica'})\n",
    "df"
   ]
  },
  {
   "cell_type": "markdown",
   "id": "00f81e3e",
   "metadata": {},
   "source": [
    "데이터 시각화"
   ]
  },
  {
   "cell_type": "code",
   "execution_count": 4,
   "id": "8665031f",
   "metadata": {},
   "outputs": [],
   "source": [
    "setosa_df = df[df.target == 'setosa']\n",
    "versicolor_df = df[df.target == 'versicolor']\n",
    "virginica_df = df[df.target == 'virginica']"
   ]
  },
  {
   "cell_type": "markdown",
   "id": "95dc2b7d",
   "metadata": {},
   "source": [
    "꽃받침 길이"
   ]
  },
  {
   "cell_type": "code",
   "execution_count": 5,
   "id": "041b1fbe",
   "metadata": {},
   "outputs": [
    {
     "data": {
      "image/png": "[encoded data removed]",
      "text/plain": [
       "<Figure size 576x288 with 2 Axes>"
      ]
     },
     "metadata": {
      "needs_background": "light"
     },
     "output_type": "display_data"
    }
   ],
   "source": [
    "ax = setosa_df['sepal length (cm)'].plot(kind='hist')\n",
    "setosa_df['sepal length (cm)'].plot(kind='kde', secondary_y=True, figsize=(8, 4), ax=ax,\n",
    "    title='setosa sepal length (cm) distribution')\n",
    "plt.show()"
   ]
  },
  {
   "cell_type": "code",
   "execution_count": 6,
   "id": "00bbcc1d",
   "metadata": {},
   "outputs": [
    {
     "data": {
      "image/png": "[encoded data removed]",
      "text/plain": [
       "<Figure size 576x288 with 2 Axes>"
      ]
     },
     "metadata": {
      "needs_background": "light"
     },
     "output_type": "display_data"
    }
   ],
   "source": [
    "ax = versicolor_df['sepal length (cm)'].plot(kind='hist')\n",
    "versicolor_df['sepal length (cm)'].plot(kind='kde', secondary_y=True, figsize=(8, 4), ax=ax,\n",
    "    title='versicolor sepal length (cm) distribution')\n",
    "plt.show()"
   ]
  },
  {
   "cell_type": "code",
   "execution_count": 7,
   "id": "3a015abd",
   "metadata": {},
   "outputs": [
    {
     "data": {
      "image/png": "[encoded data removed]",
      "text/plain": [
       "<Figure size 576x288 with 2 Axes>"
      ]
     },
     "metadata": {
      "needs_background": "light"
     },
     "output_type": "display_data"
    }
   ],
   "source": [
    "ax = virginica_df['sepal length (cm)'].plot(kind='hist')\n",
    "virginica_df['sepal length (cm)'].plot(kind='kde', secondary_y=True, figsize=(8, 4), ax=ax,\n",
    "    title='virginica sepal length (cm) distribution')\n",
    "plt.show()"
   ]
  },
  {
   "cell_type": "markdown",
   "id": "da9f3f4b",
   "metadata": {},
   "source": [
    "꽃받침 너비"
   ]
  },
  {
   "cell_type": "code",
   "execution_count": 8,
   "id": "7ac08d14",
   "metadata": {},
   "outputs": [
    {
     "data": {
      "image/png": "[encoded data removed]",
      "text/plain": [
       "<Figure size 576x288 with 2 Axes>"
      ]
     },
     "metadata": {
      "needs_background": "light"
     },
     "output_type": "display_data"
    }
   ],
   "source": [
    "ax = setosa_df['sepal width (cm)'].plot(kind='hist')\n",
    "setosa_df['sepal width (cm)'].plot(kind='kde', secondary_y=True, figsize=(8, 4), ax=ax,\n",
    "    title='setosa sepal width (cm) distribution')\n",
    "plt.show()"
   ]
  },
  {
   "cell_type": "markdown",
   "id": "5ab60446",
   "metadata": {},
   "source": [
    "데이터 다듬기"
   ]
  },
  {
   "cell_type": "code",
   "execution_count": 9,
   "id": "d093c96e",
   "metadata": {},
   "outputs": [
    {
     "name": "stdout",
     "output_type": "stream",
     "text": [
      "X_train: 120, X_test: 30\n",
      "y_train: 120, y_test: 30\n",
      "[꽃받침 길이, 꽃받침 너비, 꽃잎 길이, 꽃잎 너비](문제): [6.5 3.  5.5 1.8], 품종(답): 2\n"
     ]
    }
   ],
   "source": [
    "# 전체 데이터의 20%를 테스트 데이터로 분리하고 나머지 80%를 학습에 사용한다.\n",
    "X_train, X_test, y_train, y_test = train_test_split(dataset.data, dataset.target, test_size=0.2)\n",
    "print('X_train: {}, X_test: {}'.format(len(X_train), len(X_test)))\n",
    "print('y_train: {}, y_test: {}'.format(len(y_train), len(y_test)))\n",
    "print('[꽃받침 길이, 꽃받침 너비, 꽃잎 길이, 꽃잎 너비](문제): {}, 품종(답): {}'.format(X_train[0], y_train[0]))"
   ]
  },
  {
   "cell_type": "markdown",
   "id": "d4b76695",
   "metadata": {},
   "source": [
    "가우시안 나이브 베이즈 모델 학습"
   ]
  },
  {
   "cell_type": "code",
   "execution_count": 10,
   "id": "05c295cb",
   "metadata": {},
   "outputs": [
    {
     "data": {
      "text/plain": [
       "GaussianNB()"
      ]
     },
     "execution_count": 10,
     "metadata": {},
     "output_type": "execute_result"
    }
   ],
   "source": [
    "model = GaussianNB() # 가우시안 나이브 베이즈 모델 객체를 만든다.\n",
    "model.fit(X_train, y_train) # 가우시안 나이브 베이즈 모델을 학습시킨다."
   ]
  },
  {
   "cell_type": "markdown",
   "id": "60286f82",
   "metadata": {},
   "source": [
    "모델 테스트"
   ]
  },
  {
   "cell_type": "code",
   "execution_count": 11,
   "id": "768e5dbb",
   "metadata": {},
   "outputs": [
    {
     "name": "stdout",
     "output_type": "stream",
     "text": [
      "              precision    recall  f1-score   support\n",
      "\n",
      "           0       1.00      1.00      1.00         8\n",
      "           1       0.91      0.91      0.91        11\n",
      "           2       0.91      0.91      0.91        11\n",
      "\n",
      "    accuracy                           0.93        30\n",
      "   macro avg       0.94      0.94      0.94        30\n",
      "weighted avg       0.93      0.93      0.93        30\n",
      "\n"
     ]
    }
   ],
   "source": [
    "predict = model.predict(X_test) # 학습 데이터로 학습한 결과에 따른 테스트 데이터의 예측값을 계산한다.\n",
    "print(classification_report(y_test, predict)) # classification_report(실제값, 예측값)"
   ]
  },
  {
   "cell_type": "code",
   "execution_count": 14,
   "id": "5bc8c266",
   "metadata": {},
   "outputs": [
    {
     "name": "stdout",
     "output_type": "stream",
     "text": [
      "정확도(accuracy): 0.93\n"
     ]
    }
   ],
   "source": [
    "print('정확도(accuracy): {:.2f}'.format(accuracy_score(y_test, predict))) # accuracy_score(실제값, 예측값)"
   ]
  },
  {
   "cell_type": "code",
   "execution_count": 18,
   "id": "5c30791d",
   "metadata": {},
   "outputs": [
    {
     "data": {
      "text/html": [
       "<div>\n",
       "<style scoped>\n",
       "    .dataframe tbody tr th:only-of-type {\n",
       "        vertical-align: middle;\n",
       "    }\n",
       "\n",
       "    .dataframe tbody tr th {\n",
       "        vertical-align: top;\n",
       "    }\n",
       "\n",
       "    .dataframe thead th {\n",
       "        text-align: right;\n",
       "    }\n",
       "</style>\n",
       "<table border=\"1\" class=\"dataframe\">\n",
       "  <thead>\n",
       "    <tr style=\"text-align: right;\">\n",
       "      <th></th>\n",
       "      <th>실제값</th>\n",
       "      <th>예측값</th>\n",
       "    </tr>\n",
       "  </thead>\n",
       "  <tbody>\n",
       "    <tr>\n",
       "      <th>0</th>\n",
       "      <td>0</td>\n",
       "      <td>0</td>\n",
       "    </tr>\n",
       "    <tr>\n",
       "      <th>1</th>\n",
       "      <td>2</td>\n",
       "      <td>2</td>\n",
       "    </tr>\n",
       "    <tr>\n",
       "      <th>2</th>\n",
       "      <td>1</td>\n",
       "      <td>1</td>\n",
       "    </tr>\n",
       "    <tr>\n",
       "      <th>3</th>\n",
       "      <td>2</td>\n",
       "      <td>2</td>\n",
       "    </tr>\n",
       "    <tr>\n",
       "      <th>4</th>\n",
       "      <td>2</td>\n",
       "      <td>2</td>\n",
       "    </tr>\n",
       "    <tr>\n",
       "      <th>5</th>\n",
       "      <td>2</td>\n",
       "      <td>2</td>\n",
       "    </tr>\n",
       "    <tr>\n",
       "      <th>6</th>\n",
       "      <td>0</td>\n",
       "      <td>0</td>\n",
       "    </tr>\n",
       "    <tr>\n",
       "      <th>7</th>\n",
       "      <td>2</td>\n",
       "      <td>2</td>\n",
       "    </tr>\n",
       "    <tr>\n",
       "      <th>8</th>\n",
       "      <td>0</td>\n",
       "      <td>0</td>\n",
       "    </tr>\n",
       "    <tr>\n",
       "      <th>9</th>\n",
       "      <td>1</td>\n",
       "      <td>1</td>\n",
       "    </tr>\n",
       "    <tr>\n",
       "      <th>10</th>\n",
       "      <td>1</td>\n",
       "      <td>1</td>\n",
       "    </tr>\n",
       "    <tr>\n",
       "      <th>11</th>\n",
       "      <td>1</td>\n",
       "      <td>1</td>\n",
       "    </tr>\n",
       "    <tr>\n",
       "      <th>12</th>\n",
       "      <td>2</td>\n",
       "      <td>2</td>\n",
       "    </tr>\n",
       "    <tr>\n",
       "      <th>13</th>\n",
       "      <td>0</td>\n",
       "      <td>0</td>\n",
       "    </tr>\n",
       "    <tr>\n",
       "      <th>14</th>\n",
       "      <td>1</td>\n",
       "      <td>1</td>\n",
       "    </tr>\n",
       "    <tr>\n",
       "      <th>15</th>\n",
       "      <td>1</td>\n",
       "      <td>1</td>\n",
       "    </tr>\n",
       "    <tr>\n",
       "      <th>16</th>\n",
       "      <td>0</td>\n",
       "      <td>0</td>\n",
       "    </tr>\n",
       "    <tr>\n",
       "      <th>17</th>\n",
       "      <td>1</td>\n",
       "      <td>2</td>\n",
       "    </tr>\n",
       "    <tr>\n",
       "      <th>18</th>\n",
       "      <td>2</td>\n",
       "      <td>2</td>\n",
       "    </tr>\n",
       "    <tr>\n",
       "      <th>19</th>\n",
       "      <td>1</td>\n",
       "      <td>1</td>\n",
       "    </tr>\n",
       "    <tr>\n",
       "      <th>20</th>\n",
       "      <td>2</td>\n",
       "      <td>1</td>\n",
       "    </tr>\n",
       "    <tr>\n",
       "      <th>21</th>\n",
       "      <td>2</td>\n",
       "      <td>2</td>\n",
       "    </tr>\n",
       "    <tr>\n",
       "      <th>22</th>\n",
       "      <td>2</td>\n",
       "      <td>2</td>\n",
       "    </tr>\n",
       "    <tr>\n",
       "      <th>23</th>\n",
       "      <td>0</td>\n",
       "      <td>0</td>\n",
       "    </tr>\n",
       "    <tr>\n",
       "      <th>24</th>\n",
       "      <td>0</td>\n",
       "      <td>0</td>\n",
       "    </tr>\n",
       "    <tr>\n",
       "      <th>25</th>\n",
       "      <td>2</td>\n",
       "      <td>2</td>\n",
       "    </tr>\n",
       "    <tr>\n",
       "      <th>26</th>\n",
       "      <td>1</td>\n",
       "      <td>1</td>\n",
       "    </tr>\n",
       "    <tr>\n",
       "      <th>27</th>\n",
       "      <td>0</td>\n",
       "      <td>0</td>\n",
       "    </tr>\n",
       "    <tr>\n",
       "      <th>28</th>\n",
       "      <td>1</td>\n",
       "      <td>1</td>\n",
       "    </tr>\n",
       "    <tr>\n",
       "      <th>29</th>\n",
       "      <td>1</td>\n",
       "      <td>1</td>\n",
       "    </tr>\n",
       "  </tbody>\n",
       "</table>\n",
       "</div>"
      ],
      "text/plain": [
       "    실제값  예측값\n",
       "0     0    0\n",
       "1     2    2\n",
       "2     1    1\n",
       "3     2    2\n",
       "4     2    2\n",
       "5     2    2\n",
       "6     0    0\n",
       "7     2    2\n",
       "8     0    0\n",
       "9     1    1\n",
       "10    1    1\n",
       "11    1    1\n",
       "12    2    2\n",
       "13    0    0\n",
       "14    1    1\n",
       "15    1    1\n",
       "16    0    0\n",
       "17    1    2\n",
       "18    2    2\n",
       "19    1    1\n",
       "20    2    1\n",
       "21    2    2\n",
       "22    2    2\n",
       "23    0    0\n",
       "24    0    0\n",
       "25    2    2\n",
       "26    1    1\n",
       "27    0    0\n",
       "28    1    1\n",
       "29    1    1"
      ]
     },
     "execution_count": 18,
     "metadata": {},
     "output_type": "execute_result"
    }
   ],
   "source": [
    "comparison = pd.DataFrame({'실제값': y_test, '예측값': predict})\n",
    "comparison"
   ]
  },
  {
   "cell_type": "code",
   "execution_count": null,
   "id": "7040973b",
   "metadata": {},
   "outputs": [],
   "source": []
  },
  {
   "cell_type": "code",
   "execution_count": null,
   "id": "d0dfb15c",
   "metadata": {},
   "outputs": [],
   "source": []
  }
 ],
 "metadata": {
  "kernelspec": {
   "display_name": "py36",
   "language": "python",
   "name": "py36"
  },
  "language_info": {
   "codemirror_mode": {
    "name": "ipython",
    "version": 3
   },
   "file_extension": ".py",
   "mimetype": "text/x-python",
   "name": "python",
   "nbconvert_exporter": "python",
   "pygments_lexer": "ipython3",
   "version": "3.6.13"
  }
 },
 "nbformat": 4,
 "nbformat_minor": 5
}
