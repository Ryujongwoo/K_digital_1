{
 "cells": [
  {
   "cell_type": "code",
   "execution_count": 11,
   "id": "34085de9",
   "metadata": {},
   "outputs": [],
   "source": [
    "import warnings\n",
    "warnings.filterwarnings(action='ignore')"
   ]
  },
  {
   "cell_type": "code",
   "execution_count": 17,
   "id": "491f3b3f",
   "metadata": {},
   "outputs": [],
   "source": [
    "from selenium.webdriver.chrome.options import Options\n",
    "from selenium.webdriver.common.by import By\n",
    "from seleniumwire import webdriver\n",
    "import json\n",
    "import time"
   ]
  },
  {
   "cell_type": "code",
   "execution_count": 15,
   "id": "5ad21e7b",
   "metadata": {
    "scrolled": false
   },
   "outputs": [
    {
     "name": "stdout",
     "output_type": "stream",
     "text": [
      "{'서울': '01', '경기': '08', '광주': '02', '대구': '03', '대전': '04', '부산': '05', '울산': '06', '인천': '07', '강원': '09', '경남': '10', '경북': '11', '전남': '12', '전북': '13', '충남': '14', '충북': '15', '제주': '16', '세종': '17'}\n"
     ]
    }
   ],
   "source": [
    "option = Options()\n",
    "option.add_argument('--window-size=1890,1030')\n",
    "driver = webdriver.Chrome('./chromedriver.exe', options=option)\n",
    "driver.implicitly_wait(5)\n",
    "\n",
    "driver.get('https://www.starbucks.co.kr/store/store_map.do?disp=locale')\n",
    "'''\n",
    "for request in driver.requests:\n",
    "    if request.response:\n",
    "        print(\n",
    "            request.url,\n",
    "            request.response.status_code,\n",
    "            request.response.headers['Content-Type']\n",
    "        )\n",
    "'''\n",
    "request = driver.wait_for_request('https://www.starbucks.co.kr/store/getSidoList.do', timeout=10)\n",
    "# print(request.url)\n",
    "# print(request.response.status_code)\n",
    "# print(request.response.headers['Content-Type'])\n",
    "\n",
    "# print(request.response.body.decode('utf-8'))\n",
    "# print(type(request.response.body.decode('utf-8'))) # <class 'str'>\n",
    "# print(type(json.loads(request.response.body.decode('utf-8')))) # <class 'dict'>\n",
    "\n",
    "starbucks = json.loads(request.response.body.decode('utf-8'))\n",
    "# print(starbucks)\n",
    "sido_list = {}\n",
    "for star in starbucks['list']:\n",
    "    sido_list[star.get('sido_nm')] = star['sido_cd']\n",
    "print(sido_list)"
   ]
  },
  {
   "cell_type": "code",
   "execution_count": 22,
   "id": "41657a4b",
   "metadata": {},
   "outputs": [
    {
     "name": "stdout",
     "output_type": "stream",
     "text": [
      "시도: 서울\n",
      "{'강남구': '0101', '강동구': '0120', '강북구': '0102', '강서구': '0103', '관악구': '0104', '광진구': '0105', '구로구': '0121', '금천구': '0106', '노원구': '0107', '도봉구': '0108', '동대문구': '0122', '동작구': '0109', '마포구': '0110', '서대문구': '0111', '서초구': '0112', '성동구': '0123', '성북구': '0113', '송파구': '0114', '양천구': '0115', '영등포구': '0116', '용산구': '0124', '은평구': '0117', '종로구': '0118', '중구': '0119', '중랑구': '0125'}\n"
     ]
    }
   ],
   "source": [
    "option = Options()\n",
    "option.add_argument('--window-size=1890,1030')\n",
    "driver = webdriver.Chrome('./chromedriver.exe', options=option)\n",
    "driver.implicitly_wait(5)\n",
    "\n",
    "driver.get('https://www.starbucks.co.kr/store/store_map.do?disp=locale')\n",
    "sido_list = {'서울': '01', '경기': '02', '광주': '03', '대구': '04', '대전': '05', '부산': '06', '울산': '07', '인천': '08',\n",
    "             '강원': '09', '경남': '10', '경북': '11', '전남': '12', '전북': '13', '충남': '14', '충북': '15', '제주': '16',\n",
    "             '세종': '17'}\n",
    "sido = input('시도: ')\n",
    "driver.find_element(By.XPATH,\n",
    "    '//*[@id=\"container\"]/div/form/fieldset/div/section/article[1]/article/article[2]/div[1]/div[2]/ul/li[' +\n",
    "                    str(int(sido_list[sido])) + ']/a'\n",
    ").click()\n",
    "time.sleep(1)\n",
    "\n",
    "request = driver.wait_for_request('https://www.starbucks.co.kr/store/getGugunList.do', timeout=10)\n",
    "gugunList = json.loads(request.response.body.decode('utf-8'))\n",
    "gugun_list = {}\n",
    "for gugun in gugunList['list']:\n",
    "    gugun_list[gugun.get('gugun_nm')] = gugun['gugun_cd']\n",
    "print(gugun_list)"
   ]
  },
  {
   "cell_type": "code",
   "execution_count": null,
   "id": "d245424a",
   "metadata": {},
   "outputs": [],
   "source": [
    "# //*[@id=\"container\"]/div/form/fieldset/div/section/article[1]/article/article[2]/div[1]/div[2]/ul/li[1]/a # 서울\n",
    "# //*[@id=\"container\"]/div/form/fieldset/div/section/article[1]/article/article[2]/div[1]/div[2]/ul/li[2]/a # 경기\n",
    "# //*[@id=\"container\"]/div/form/fieldset/div/section/article[1]/article/article[2]/div[1]/div[2]/ul/li[3]/a # 광주\n",
    "# //*[@id=\"container\"]/div/form/fieldset/div/section/article[1]/article/article[2]/div[1]/div[2]/ul/li[4]/a # 대구"
   ]
  },
  {
   "cell_type": "code",
   "execution_count": 35,
   "id": "872b7b20",
   "metadata": {
    "scrolled": false
   },
   "outputs": [
    {
     "name": "stdout",
     "output_type": "stream",
     "text": [
      "{'서울': '01', '경기': '02', '광주': '03', '대구': '04', '대전': '05', '부산': '06', '울산': '07', '인천': '08', '강원': '09', '경남': '10', '경북': '11', '전남': '12', '전북': '13', '충남': '14', '충북': '15', '제주': '16', '세종': '17'}\n",
      "시도: 1\n",
      "{'강남구': 2, '강동구': 3, '강북구': 4, '강서구': 5, '관악구': 6, '광진구': 7, '구로구': 8, '금천구': 9, '노원구': 10, '도봉구': 11, '동대문구': 12, '동작구': 13, '마포구': 14, '서대문구': 15, '서초구': 16, '성동구': 17, '성북구': 18, '송파구': 19, '양천구': 20, '영등포구': 21, '용산구': 22, '은평구': 23, '종로구': 24, '중구': 25, '중랑구': 26}\n",
      "구군: 2\n",
      "   1. 역삼이마트: 서울특별시 강남구 역삼로 310 (역삼동)(37.499367, 127.048425)\n",
      "   2. 삼성동: 서울특별시 강남구 영동대로96길 12 (삼성동)(37.510843366121534, 127.06363342044263)\n",
      "   3. 강남논현: 서울특별시 강남구 강남대로 512 (논현동)(37.5078978596254, 127.023338614644)\n",
      "   4. 테헤란로아남타워: 서울특별시 강남구 테헤란로 311 (역삼동)(37.50383, 127.04487)\n",
      "   5. 삼성역: 서울특별시 강남구 테헤란로 620 (대치동)(37.509206962541256, 127.06560851480327)\n",
      "   6. 강남역신분당역사: 서울특별시 강남구 강남대로 396 (역삼동)(37.4970572543978, 127.028180714381)\n",
      "   7. 언주역: 서울특별시 강남구 봉은사로 222 (역삼동)(37.507775, 127.036472)\n",
      "   8. 대치삼성프라자: 서울특별시 강남구 영동대로 237 (대치동)(37.500313, 127.066961)\n",
      "   9. 강남세곡: 서울특별시 강남구 헌릉로569길 18 (세곡동)(37.467274319644, 127.099929726)\n",
      "  10. 도산사거리: 서울특별시 강남구 언주로 727 (논현동)(37.51966, 127.0341)\n",
      "  11. 센터필드R: 서울특별시 강남구 테헤란로 231 (역삼동)(37.50369465391196, 127.04172081609172)\n",
      "  12. 코엑스아셈타워: 서울특별시 강남구 영동대로 517 (삼성동)(37.513019, 127.059838)\n",
      "  13. 수서역사거리: 서울특별시 강남구 광평로 280 (수서동)(37.4873267937748, 127.103140081887)\n",
      "  14. 대치한티: 서울특별시 강남구 선릉로 324 (대치동)(37.4984818, 127.052066)\n",
      "  15. 도산가로수길: 서울특별시 강남구 도산대로 134, 2층 (논현동)(37.51736229999999, 127.02329570000006)\n",
      "  16. 논현힐탑: 서울특별시 강남구 논현로 648 (논현동)(37.5115577, 127.03226199999994)\n",
      "  17. 선릉로: 서울특별시 강남구 선릉로93길 22, 대흥빌딩 1층 (역삼동)(37.505053, 127.046577)\n",
      "  18. 포스코: 서울특별시 강남구 삼성로86길 7, 1층 (대치동)(37.50576, 127.057966)\n",
      "  19. 르네상스사거리: 서울특별시 강남구 테헤란로 306 (역삼동)(37.502721, 127.044308)\n",
      "  20. 압구정로데오역: 서울특별시 강남구 선릉로 836, 삼원빌딩 1,2층 (청담동)(37.526549, 127.040437)\n",
      "  21. 강남비젼타워: 서울특별시 강남구 테헤란로2길 27, 1층 101호 (역삼동)(37.4964557, 127.02968850000002)\n",
      "  22. 아크로힐스논현: 서울특별시 강남구 봉은사로 304, 금강빌딩 1-2층 (역삼동)(37.50898041, 127.0403869)\n",
      "  23. 신압구정: 서울특별시 강남구 언주로174길 29 (신사동)(37.528115, 127.036441)\n",
      "  24. 청담공원: 서울특별시 강남구 학동로 506 (삼성동)(37.5186549, 127.05143870000006)\n",
      "  25. 역삼럭키: 서울특별시 강남구 도곡로 183 (역삼동)(37.492209, 127.039389)\n",
      "  26. 코엑스사거리: 서울특별시 강남구 영동대로 616 (삼성동)(37.515351, 127.060109)\n",
      "  27. 선릉역: 서울특별시 강남구 테헤란로 334, LG화재 빌딩 (역삼동)(37.50393894, 127.0485135)\n",
      "  28. 압구정미소: 서울특별시 강남구 논현로 841 (신사동)(37.52405601, 127.027915)\n",
      "  29. GS타워: 서울특별시 강남구 논현로 508 (역삼동)(37.5018592, 127.03727759999992)\n",
      "  30. 삼성현대힐: 서울특별시 강남구 삼성로 605 (삼성동)(37.51354184, 127.0527183)\n",
      "  31. 선정릉역: 서울특별시 강남구 봉은사로 407 (삼성동) 에프오빌딩(37.51075489999999, 127.04455970000003)\n",
      "  32. 학여울역: 서울특별시 강남구 영동대로 215 (대치동)(37.49803646, 127.0684943)\n",
      "  33. 아크플레이스: 서울특별시 강남구 테헤란로 142 (역삼동)(37.49971982, 127.0349084)\n",
      "  34. 포이: 서울특별시 강남구 논현로 88 (개포동)(37.47781106, 127.0451411)\n",
      "  35. 대치역: 서울특별시 강남구 남부순환로 2936 (대치동) 107호(37.493554, 127.061874)\n",
      "  36. 강남구청역: 서울특별시 강남구 선릉로 669, 웰빙센터 1층 (논현동)(37.5165849, 127.04124330000002)\n",
      "  37. 큰길타워: 서울특별시 강남구 테헤란로 223, 큰길타워빌딩 (역삼동)(37.50236693, 127.0407)\n",
      "  38. 구역삼사거리: 서울특별시 강남구 논현로 401 (역삼동)(37.49592355, 127.0388645)\n",
      "  39. 압구정로: 서울특별시 강남구 압구정로42길 32 (신사동)(37.52680046, 127.0347174)\n",
      "  40. 압구정역: 서울특별시 강남구 압구정로 170, 관영빌딩 1층 지하1층 (신사동)(37.52674095, 127.0281105)\n",
      "  41. 선릉세화빌딩: 서울특별시 강남구 테헤란로64길 18 (대치동) 1층(37.50377562, 127.051196)\n",
      "  42. 삼성: 서울특별시 강남구 테헤란로 443, 애플트리타워 1층 (삼성동)(37.50703529, 127.0555503)\n",
      "  43. SSG마켓도곡R: 서울특별시 강남구 언주로30길 57, 타워팰리스Ⅱ F 지하1층 (도곡동)(37.490298, 127.054895)\n",
      "  44. 대치: 서울특별시 강남구 도곡로 511 (대치동)(37.49966175, 127.0622171)\n",
      "  45. 학동역: 서울특별시 강남구 논현로 704 (논현동)(37.51464884, 127.0307302)\n",
      "  46. 삼성교: 서울특별시 강남구 영동대로86길 12, 동남유화빌딩 1층(37.507794, 127.06517)\n",
      "  47. 삼성도심공항: 서울특별시 강남구 테헤란로87길 33 (삼성동)(37.5097863, 127.05791339999996)\n",
      "  48. 청담: 서울특별시 강남구 도산대로 532, 인희빌딩 1층 (청담동)(37.5243631, 127.05155990000003)\n",
      "  49. 강남대로: 서울특별시 강남구 강남대로 456, 한석타워 2층 1-2호 (역삼동)(37.50314, 127.025546)\n",
      "  50. 역삼포스코: 서울특별시 강남구 테헤란로 134, P&S TOWER (역삼동)(37.499721, 127.033582)\n",
      "  51. 역삼대로: 서울특별시 강남구 테헤란로 211, 한국고등교육재단빌딩 1층 (역삼동)(37.501623, 127.039375)\n",
      "  52. 가로수길: 서울특별시 강남구 논현로175길 94, 1~2층 (신사동)(37.5231593, 127.02162499999997)\n",
      "  53. 코엑스몰: 서울특별시 강남구 영동대로 513 (삼성동) O103호(37.513715, 127.059245)\n",
      "  54. 역삼초교사거리: 서울특별시 강남구 역삼로 123 (역삼동)(37.4941059, 127.03299730000003)\n",
      "  55. 한티역: 서울특별시 강남구 도곡로 408, 디마크빌딩 101호 (대치동)(37.496801, 127.055055)\n",
      "  56. 청담사거리: 서울특별시 강남구 도산대로 458 (청담동) 리츠타워(37.5236351, 127.04686509999999)\n",
      "  57. 서울세관사거리: 서울특별시 강남구 언주로 650 (논현동) 한국건설기술인협회(37.514887, 127.035653)\n",
      "  58. 도곡역: 서울특별시 강남구 남부순환로 2909 (대치동)(37.492167, 127.057398)\n",
      "  59. 신사역: 서울특별시 강남구 도산대로 108 (논현동) 렉스타워(37.5162021, 127.0207428)\n",
      "  60. 을지병원사거리: 서울특별시 강남구 논현로 752 (논현동,구산빌딩)(37.5191632, 127.0286446)\n",
      "  61. 포스코사거리: 서울특별시 강남구 테헤란로 505 (삼성동) 화진빌딩(37.5075307, 127.05742710000004)\n",
      "  62. 대치사거리: 서울특별시 강남구 삼성로 402 (대치동)(37.503331, 127.058817)\n",
      "  63. 학동사거리: 서울특별시 강남구 도산대로 328 (논현동)(37.52236449999999, 127.03795430000002)\n",
      "  64. 강남우성: 서울특별시 강남구 강남대로 328 (역삼동)(37.492396, 127.030910)\n",
      "  65. 청담스타R: 서울특별시 강남구 도산대로57길 24 (청담동)(37.525216, 127.041827)\n",
      "  66. 신사가로수: 서울특별시 강남구 가로수길 59 (37.521933, 127.022521)\n",
      "  67. 압구정: 서울특별시 강남구 압구정로30길 17 (신사동)(37.526283, 127.02956)\n",
      "  68. 청담영동대로: 서울특별시 강남구 영동대로 720 (청담동)(37.522156, 127.056449)\n",
      "  69. 대치은마사거리: 서울특별시 강남구 도곡로 457 (대치동)(37.498973, 127.060172)\n",
      "  70. 강남R: 서울특별시 강남구 강남대로 390 (역삼동)(37.497711, 127.028439)\n",
      "  71. 도곡공원: 서울특별시 강남구 도곡로 205 (역삼동)(37.492805, 127.041309)\n",
      "  72. 강남구청정문: 서울특별시 강남구 학동로 419 (청담동)(37.518181, 127.045995)\n",
      "  73. 스타필드코엑스몰R: 서울특별시 강남구 영동대로 513 (삼성동) 코엑스 A106호(37.50999, 127.061455)\n",
      "  74. 강남오거리: 서울특별시 강남구 봉은사로2길 39 (역삼동)(37.502117, 127.026672)\n",
      "  75. 봉은사로선정릉: 서울특별시 강남구 봉은사로 446 (삼성동)(37.511293, 127.048409)\n",
      "  76. 선릉동신빌딩R: 서울특별시 강남구 테헤란로 409 (삼성동)(37.505321, 127.050409)\n",
      "  77. 양재강남빌딩R: 서울특별시 강남구 남부순환로 2621 (도곡동)(37.485192, 127.036685)\n",
      "  78. 수서역R: 서울특별시 강남구 광평로 281 (수서동)(37.488008, 127.102650)\n",
      "  79. 압구정R: 서울특별시 강남구 언주로 861 (신사동)(37.5273669, 127.033061)\n",
      "  80. 삼성역섬유센터R: 서울특별시 강남구 테헤란로 518 (대치동)(37.507750, 127.060651)\n",
      "  81. 코엑스별마당: 서울특별시 강남구 영동대로 513 (삼성동)(37.510150, 127.060275)\n",
      "  82. 압구정윤성빌딩: 서울특별시 강남구 논현로 834 (신사동)(37.5227934, 127.0286009)\n",
      "  83. 봉은사역: 서울특별시 강남구 봉은사로 619 (삼성동)(37.515000, 127.063196)\n",
      "  84. 대치재경빌딩R: 서울특별시 강남구 남부순환로 2947 (대치동)(37.494668, 127.062583)\n",
      "  85. 국기원사거리: 서울특별시 강남구 테헤란로 125 (역삼동)(37.499517, 127.031495)\n",
      "  86. 신사역성일빌딩: 서울특별시 강남구 강남대로 584 (논현동)(37.5139309, 127.0206057)\n",
      "  87. 논현역사거리: 서울특별시 강남구 강남대로 538 (논현동)(37.510178, 127.022223)\n",
      "  88. 역삼아레나빌딩: 서울특별시 강남구 언주로 425 (역삼동)(37.501087, 127.043069)\n"
     ]
    }
   ],
   "source": [
    "option = Options()\n",
    "option.add_argument('--window-size=1890,1030')\n",
    "driver = webdriver.Chrome('./chromedriver.exe', options=option)\n",
    "driver.implicitly_wait(5)\n",
    "\n",
    "driver.get('https://www.starbucks.co.kr/store/store_map.do?disp=locale')\n",
    "sido_list = {'서울': '01', '경기': '02', '광주': '03', '대구': '04', '대전': '05', '부산': '06', '울산': '07', '인천': '08',\n",
    "             '강원': '09', '경남': '10', '경북': '11', '전남': '12', '전북': '13', '충남': '14', '충북': '15', '제주': '16',\n",
    "             '세종': '17'}\n",
    "print(sido_list)\n",
    "sido = input('시도: ')\n",
    "driver.find_element(By.XPATH,\n",
    "    '//*[@id=\"container\"]/div/form/fieldset/div/section/article[1]/article/article[2]/div[1]/div[2]/ul/li[' +\n",
    "                    str(int(sido)) + ']/a'\n",
    ").click()\n",
    "time.sleep(1)\n",
    "\n",
    "request = driver.wait_for_request('https://www.starbucks.co.kr/store/getGugunList.do', timeout=10)\n",
    "gugunList = json.loads(request.response.body.decode('utf-8'))\n",
    "\n",
    "gugun_list = {}\n",
    "for i, gugun in zip(range(2, len(gugunList['list']) + 2), gugunList['list']):\n",
    "    gugun_list[gugun.get('gugun_nm')] = i\n",
    "print(gugun_list)\n",
    "\n",
    "gugun = input('구군: ')\n",
    "driver.find_element(By.CSS_SELECTOR,\n",
    "    '#mCSB_2_container > ul > li:nth-child(' + str(int(gugun)) + ')'\n",
    ").click()\n",
    "time.sleep(1)\n",
    "\n",
    "request = driver.wait_for_request('https://www.starbucks.co.kr/store/getStore.do', timeout=10)\n",
    "storeList = json.loads(request.response.body.decode('utf-8'))\n",
    "count = 0\n",
    "for store in storeList['list']:\n",
    "    count += 1\n",
    "    print('{:4d}. {}: {}({}, {})'.format(count, store['s_name'], store['doro_address'], store['lat'], store['lot']))"
   ]
  },
  {
   "cell_type": "code",
   "execution_count": null,
   "id": "00a73c7f",
   "metadata": {},
   "outputs": [],
   "source": [
    "# #mCSB_2_container > ul > li:nth-child(2) > a # 강남구\n",
    "# #mCSB_2_container > ul > li:nth-child(3) > a # 강동구"
   ]
  },
  {
   "cell_type": "code",
   "execution_count": null,
   "id": "123d03bf",
   "metadata": {},
   "outputs": [],
   "source": []
  },
  {
   "cell_type": "code",
   "execution_count": null,
   "id": "0588d6d7",
   "metadata": {},
   "outputs": [],
   "source": []
  },
  {
   "cell_type": "code",
   "execution_count": null,
   "id": "52b1f78a",
   "metadata": {},
   "outputs": [],
   "source": []
  },
  {
   "cell_type": "code",
   "execution_count": null,
   "id": "6d1590c6",
   "metadata": {},
   "outputs": [],
   "source": []
  }
 ],
 "metadata": {
  "kernelspec": {
   "display_name": "Python 3 (ipykernel)",
   "language": "python",
   "name": "python3"
  },
  "language_info": {
   "codemirror_mode": {
    "name": "ipython",
    "version": 3
   },
   "file_extension": ".py",
   "mimetype": "text/x-python",
   "name": "python",
   "nbconvert_exporter": "python",
   "pygments_lexer": "ipython3",
   "version": "3.7.9"
  }
 },
 "nbformat": 4,
 "nbformat_minor": 5
}
