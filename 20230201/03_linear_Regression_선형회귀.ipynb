{
 "cells": [
  {
   "cell_type": "code",
   "execution_count": 1,
   "id": "fab9d50f",
   "metadata": {},
   "outputs": [
    {
     "name": "stdout",
     "output_type": "stream",
     "text": [
      "WARNING:tensorflow:From D:\\anaconda3\\envs\\py36\\lib\\site-packages\\tensorflow\\python\\compat\\v2_compat.py:101: disable_resource_variables (from tensorflow.python.ops.variable_scope) is deprecated and will be removed in a future version.\n",
      "Instructions for updating:\n",
      "non-resource variables are not supported in the long term\n"
     ]
    }
   ],
   "source": [
    "import warnings\n",
    "warnings.filterwarnings(action='ignore')\n",
    "%config Completer.use_jedi = False\n",
    "import tensorflow.compat.v1 as tf\n",
    "tf.disable_v2_behavior()"
   ]
  },
  {
   "cell_type": "markdown",
   "id": "38f34179",
   "metadata": {},
   "source": [
    "학습할 데이터를 만든다."
   ]
  },
  {
   "cell_type": "code",
   "execution_count": 2,
   "id": "a7fc1c15",
   "metadata": {},
   "outputs": [],
   "source": [
    "xData = [1, 2, 3, 4, 5, 6, 7] # 1일 근무시간\n",
    "yData = [25000, 55000, 75000, 110000, 128000, 155000, 180000] # 근무시간에 따른 매출금액, 실제값, 레이블, 답, 관측값"
   ]
  },
  {
   "cell_type": "markdown",
   "id": "61a67a65",
   "metadata": {},
   "source": [
    "과적합을 방지하기 위해서 난수를 발생시켜 기울기(가중치)와 y절편(바이어스)을 정한다.  \n",
    "과적합이란 학습시킨 데이터에서는 높은 정확도를 보이지만 학습시킨 데이터 이외의 데이터에서는 낮는 정확도를 보이는 문제점을 말한다."
   ]
  },
  {
   "cell_type": "code",
   "execution_count": 3,
   "id": "63348320",
   "metadata": {},
   "outputs": [
    {
     "name": "stdout",
     "output_type": "stream",
     "text": [
      "a = <tf.Variable 'Variable:0' shape=(1,) dtype=float32_ref>, b = <tf.Variable 'Variable_1:0' shape=(1,) dtype=float32_ref>\n"
     ]
    }
   ],
   "source": [
    "# tf.random_uniform([난수의 개수], 최소값, 최대값): 난수를 발생시킨다.\n",
    "a = tf.Variable(tf.random_uniform([1], -100, 100)) # 기울기(가중치), -100 ~ 100 사이의 난수\n",
    "b = tf.Variable(tf.random_uniform([1], -100, 100)) # y절편(바이어스), -100 ~ 100 사이의 난수\n",
    "print('a = {}, b = {}'.format(a, b))"
   ]
  },
  {
   "cell_type": "markdown",
   "id": "eabe8ee8",
   "metadata": {},
   "source": [
    "tensorflow 변수를 초기화하고 난수로 발생시킨 기울기와 y절편 값을 확인한다."
   ]
  },
  {
   "cell_type": "code",
   "execution_count": 4,
   "id": "85cf1ff1",
   "metadata": {},
   "outputs": [
    {
     "name": "stdout",
     "output_type": "stream",
     "text": [
      "a = [-46.904205], b = [54.77838]\n"
     ]
    }
   ],
   "source": [
    "sess = tf.Session()\n",
    "sess.run(tf.global_variables_initializer())\n",
    "print('a = {}, b = {}'.format(sess.run(a), sess.run(b)))"
   ]
  },
  {
   "cell_type": "markdown",
   "id": "9d4b5d7a",
   "metadata": {},
   "source": [
    "근무시간과 매출금액을 기억할 tensorflow에서 사용할 자료형(placeholder)을 선언한다."
   ]
  },
  {
   "cell_type": "code",
   "execution_count": 5,
   "id": "cae82dba",
   "metadata": {},
   "outputs": [],
   "source": [
    "x = tf.placeholder(dtype=tf.float32) # 근무시간을 기억할 placeholder\n",
    "y = tf.placeholder(dtype=tf.float32) # 매출금액을 기억할 placeholder"
   ]
  },
  {
   "cell_type": "markdown",
   "id": "a69d2452",
   "metadata": {},
   "source": [
    "1차 방정식 형태의 가설을 세우고 오차(비용, 손실) 함수를 정의한다."
   ]
  },
  {
   "cell_type": "code",
   "execution_count": 6,
   "id": "29ee770f",
   "metadata": {},
   "outputs": [],
   "source": [
    "# 1차 방정식 형태의 가설, Y => 예측값\n",
    "Y = a * x + b\n",
    "# 평균 제곱법을 이용하는 오차(비용, 손실) 함수\n",
    "# 실제값(yData => y라는 placeholder에 저장한다.)과 예측값(Y)의 편차에 대한 제곱의 평균을 이용한다.\n",
    "# square(): 제곱값을 계산한다.\n",
    "# reduce_mean(): 평균을 계산한다.\n",
    "cost = tf.reduce_mean(tf.square(Y - y))"
   ]
  },
  {
   "cell_type": "markdown",
   "id": "28a999da",
   "metadata": {},
   "source": [
    "경사하강법 함수로 오차 함수의 결과를 가장 작게 만드는 방향으로 학습 하도록 정의한다."
   ]
  },
  {
   "cell_type": "code",
   "execution_count": 7,
   "id": "bbeacb26",
   "metadata": {},
   "outputs": [],
   "source": [
    "# 경사하강 알고리즘의 학습율을 설정한다.\n",
    "learning_rate = tf.Variable(0.01)\n",
    "# train.GradientDescentOptimizer(학습율): 학습율에 따른 오차 함수를 계산한다.\n",
    "# minimize(오차함수): 경사하강 알고리즘에 따라 지정된 오차 함수의 최소값을 찾는다.\n",
    "# optimizer = tf.train.GradientDescentOptimizer(learning_rate)\n",
    "# train = optimizer.minimize(cost)\n",
    "train = tf.train.GradientDescentOptimizer(learning_rate).minimize(cost)"
   ]
  },
  {
   "cell_type": "markdown",
   "id": "f399fc4f",
   "metadata": {},
   "source": [
    "학습시킨다."
   ]
  },
  {
   "cell_type": "code",
   "execution_count": 8,
   "id": "78f1e3af",
   "metadata": {},
   "outputs": [
    {
     "name": "stdout",
     "output_type": "stream",
     "text": [
      "epoch =>    0, 손실: 4598209024.00 기울기:      10382.74 y절편:       1986.87\n",
      "epoch =>  500, 손실:    8684621.00 기울기:      25539.94 y절편:       1938.20\n",
      "epoch => 1000, 손실:    8633754.00 기울기:      25627.86 y절편:       1502.84\n",
      "epoch => 1500, 손실:    8632671.00 기울기:      25640.67 y절편:       1439.40\n",
      "epoch => 2000, 손실:    8632658.00 기울기:      25642.54 y절편:       1430.15\n",
      "epoch => 2500, 손실:    8632651.00 기울기:      25642.81 y절편:       1428.81\n",
      "epoch => 3000, 손실:    8632651.00 기울기:      25642.84 y절편:       1428.63\n",
      "epoch => 3500, 손실:    8632656.00 기울기:      25642.85 y절편:       1428.61\n",
      "epoch => 4000, 손실:    8632656.00 기울기:      25642.85 y절편:       1428.61\n",
      "epoch => 4500, 손실:    8632656.00 기울기:      25642.85 y절편:       1428.61\n",
      "epoch => 5000, 손실:    8632656.00 기울기:      25642.85 y절편:       1428.61\n"
     ]
    }
   ],
   "source": [
    "# tensorflow Session을 만들고 변수를 초기화시킨다.\n",
    "sess = tf.Session()\n",
    "sess.run(tf.global_variables_initializer())\n",
    "\n",
    "for i in range(5001):\n",
    "    # 오차 함수 결과를 가장 작게 만드는 학습을 할 수 있도록 placeholder에 데이터를 대입하고 학습시킨다.\n",
    "    # 학습할 데이터는 placeholder에 반드시 feed_dict라는 딕셔너리로 대입시켜야 한다.\n",
    "    # feed_dict의 key에는 placeholder 이름을, value에는 placeholder에 저장할 리스트 또는 튜플 타입의 데이터를 지정한다.\n",
    "    sess.run(train, feed_dict={x: xData, y: yData})\n",
    "    \n",
    "    # 일정한 epoch 단위마다 중간 결과를 출력한다.\n",
    "    if i % 500 == 0:\n",
    "        # epoch(i), 오차(cost), 기울기, y절편\n",
    "        # print('epoch => {:4d}, 손실: {:13.2f} 기울기: {:13.2f} y절편: {:13.2f}'.format(i, \n",
    "        #                sess.run(cost, feed_dict={x: xData, y: yData}), sess.run(a)[0], sess.run(b)[0]))\n",
    "        print('epoch => %4d, 손실: %13.2f 기울기: %13.2f y절편: %13.2f' % (i, \n",
    "                        sess.run(cost, feed_dict={x: xData, y: yData}), sess.run(a), sess.run(b)))"
   ]
  },
  {
   "cell_type": "markdown",
   "id": "98c1cfe9",
   "metadata": {},
   "source": [
    "학습이 완료된 후 원하는 입력에 대한 예측 결과를 출력한다."
   ]
  },
  {
   "cell_type": "code",
   "execution_count": 16,
   "id": "ffa7f34b",
   "metadata": {},
   "outputs": [
    {
     "name": "stdout",
     "output_type": "stream",
     "text": [
      " 8시간 근무를 했을 때 매출 기대금액: 206,571원\n",
      " 9시간 근무를 했을 때 매출 기대금액: 232,214원\n",
      "10시간 근무를 했을 때 매출 기대금액: 257,857원\n",
      "11시간 근무를 했을 때 매출 기대금액: 283,500원\n",
      "12시간 근무를 했을 때 매출 기대금액: 309,143원\n",
      "13시간 근무를 했을 때 매출 기대금액: 334,786원\n",
      "14시간 근무를 했을 때 매출 기대금액: 360,428원\n",
      "15시간 근무를 했을 때 매출 기대금액: 386,071원\n",
      "16시간 근무를 했을 때 매출 기대금액: 411,714원\n",
      "17시간 근무를 했을 때 매출 기대금액: 437,357원\n",
      "18시간 근무를 했을 때 매출 기대금액: 463,000원\n",
      "19시간 근무를 했을 때 매출 기대금액: 488,643원\n",
      "20시간 근무를 했을 때 매출 기대금액: 514,286원\n",
      "21시간 근무를 했을 때 매출 기대금액: 539,928원\n",
      "22시간 근무를 했을 때 매출 기대금액: 565,571원\n",
      "23시간 근무를 했을 때 매출 기대금액: 591,214원\n",
      "24시간 근무를 했을 때 매출 기대금액: 616,857원\n"
     ]
    }
   ],
   "source": [
    "for i in range(8, 25):\n",
    "    print('{:2d}시간 근무를 했을 때 매출 기대금액: {:,.0f}원'.format(i, sess.run(Y, feed_dict={x: [i]})[0]))"
   ]
  },
  {
   "cell_type": "code",
   "execution_count": null,
   "id": "0f45cbe7",
   "metadata": {},
   "outputs": [],
   "source": []
  },
  {
   "cell_type": "code",
   "execution_count": null,
   "id": "00847e98",
   "metadata": {},
   "outputs": [],
   "source": []
  },
  {
   "cell_type": "code",
   "execution_count": null,
   "id": "555a41c7",
   "metadata": {},
   "outputs": [],
   "source": []
  }
 ],
 "metadata": {
  "kernelspec": {
   "display_name": "py36",
   "language": "python",
   "name": "py36"
  },
  "language_info": {
   "codemirror_mode": {
    "name": "ipython",
    "version": 3
   },
   "file_extension": ".py",
   "mimetype": "text/x-python",
   "name": "python",
   "nbconvert_exporter": "python",
   "pygments_lexer": "ipython3",
   "version": "3.6.13"
  }
 },
 "nbformat": 4,
 "nbformat_minor": 5
}
