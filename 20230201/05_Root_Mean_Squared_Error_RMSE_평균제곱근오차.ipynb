{
 "cells": [
  {
   "cell_type": "markdown",
   "id": "7b3053cd",
   "metadata": {},
   "source": [
    "평균 제곱근 오차(Root Mean Squared Error, RMSE)  \n",
    "임의의 선을 그리고 난 후 이 선이 얼마나 잘 그려졌는지 평가해서 조금씩 수정해나간다.  \n",
    "이를 위해서 주어진 선의 오차를 평가하는 알고리즘이 필요한데 그 중에서 가장 많이 사용되는 방법이 평균 제곱근 오차이다."
   ]
  },
  {
   "cell_type": "code",
   "execution_count": 1,
   "id": "ec943247",
   "metadata": {},
   "outputs": [],
   "source": [
    "import warnings\n",
    "warnings.filterwarnings(action='ignore')\n",
    "%config Completer.use_jedi = False\n",
    "import numpy as np\n",
    "import pandas as pd"
   ]
  },
  {
   "cell_type": "code",
   "execution_count": 2,
   "id": "7241029b",
   "metadata": {},
   "outputs": [
    {
     "name": "stdout",
     "output_type": "stream",
     "text": [
      "공부시간: 2, 시험성적: 81\n",
      "공부시간: 4, 시험성적: 93\n",
      "공부시간: 6, 시험성적: 91\n",
      "공부시간: 8, 시험성적: 97\n"
     ]
    }
   ],
   "source": [
    "# x, y의 데이터 값이 1건씩 저장된 리스트 => [공부시간(x), 시험점수(y)]\n",
    "data = [[2, 81], [4, 93], [6, 91], [8, 97]]\n",
    "# 기울기 a와 y절편 b를 임의로 정한다. => [기울기, y절편]\n",
    "ab = [2.3, 79] # 2.3, 79\n",
    "\n",
    "for i in data:\n",
    "    print('공부시간: {}, 시험성적: {}'.format(i[0], i[1]))"
   ]
  },
  {
   "cell_type": "code",
   "execution_count": 3,
   "id": "1f2ce364",
   "metadata": {},
   "outputs": [
    {
     "name": "stdout",
     "output_type": "stream",
     "text": [
      "공부시간: 2, 시험성적: 81\n",
      "공부시간: 4, 시험성적: 93\n",
      "공부시간: 6, 시험성적: 91\n",
      "공부시간: 8, 시험성적: 97\n"
     ]
    }
   ],
   "source": [
    "# x, y의 데이터 값이 1건씩 저장된 리스트에서 공부시간(x), 시험성적(y)을 뽑아내서 각각 별도의 리스트에 저장한다.\n",
    "x = [i[0] for i in data]\n",
    "y = [i[1] for i in data]\n",
    "for i in range(len(data)):\n",
    "    print('공부시간: {}, 시험성적: {}'.format(x[i], y[i]))"
   ]
  },
  {
   "cell_type": "code",
   "execution_count": 4,
   "id": "35e793c4",
   "metadata": {},
   "outputs": [],
   "source": [
    "# Y = a * x + b에 a(기울기), b(y절편) 값을 대입해서 결과(예측성적)를 계산하는 함수\n",
    "def predict(x):\n",
    "    return ab[0] * x + ab[1]"
   ]
  },
  {
   "cell_type": "code",
   "execution_count": 5,
   "id": "c972abbd",
   "metadata": {},
   "outputs": [
    {
     "name": "stdout",
     "output_type": "stream",
     "text": [
      "공부시간: 2, 시험성적: 81, 예측성적: 83.6\n",
      "공부시간: 4, 시험성적: 93, 예측성적: 88.2\n",
      "공부시간: 6, 시험성적: 91, 예측성적: 92.8\n",
      "공부시간: 8, 시험성적: 97, 예측성적: 97.4\n"
     ]
    }
   ],
   "source": [
    "# 임의로 정한 기울기와 y절편으로 예측성적을 계산한다.\n",
    "# 임의로 정한 기울기와 y절편을 이용해 계산된 예측 성적이 저장될 빈 리스트를 만든다.\n",
    "predict_result = []\n",
    "# 모든 공부시간(x) 값을 한 번씩 대입해서 예측성적 리스트(predict_result)를 완성한다.\n",
    "for i in range(len(x)):\n",
    "    # 공부시간에 따른 예측성적을 계산하는 함수 predict()를 실행해서 얻어진 예측성적을 predict_result에 추가한다.\n",
    "    predict_result.append(predict(x[i]))\n",
    "    print('공부시간: {}, 시험성적: {}, 예측성적: {}'.format(x[i], y[i], predict_result[i]))"
   ]
  },
  {
   "cell_type": "code",
   "execution_count": 6,
   "id": "67291e96",
   "metadata": {},
   "outputs": [],
   "source": [
    "# 평균 제곱근 오차를 계산하는 함수\n",
    "# rmse(예측성적, 실제성적) => 인수로 넘겨받는 데이터는 넘파이 배열 타입의 데이터이다.\n",
    "def rmse(predict_result, y):\n",
    "    # mean(): numpy에서 평균을 계산한다.\n",
    "    # sqrt(): numpy에서 제곱근을 계산하는 함수\n",
    "    return np.sqrt(((predict_result - y) ** 2).mean())"
   ]
  },
  {
   "cell_type": "code",
   "execution_count": 7,
   "id": "005cdd40",
   "metadata": {},
   "outputs": [],
   "source": [
    "# 평균 제곱근 오차를 계산할 데이터(list)를 넘겨받아 numpy 배열로 만들어 평균 제곱근 오차를 계산하는 함수 rmse()를\n",
    "# 호출하는 함수\n",
    "def rmse_val(predict_result, y):\n",
    "    # array(): 파이썬의 list를 numpy 배열로 변환한다.\n",
    "    # numpy 배열로 변환된 예측성적과 실제성적으로 평균 제곱근 오차를 계산하는 함수를 실행해서 결과를 리턴시킨다.\n",
    "    return rmse(np.array(predict_result), np.array(y))"
   ]
  },
  {
   "cell_type": "code",
   "execution_count": 8,
   "id": "cb0f46ba",
   "metadata": {},
   "outputs": [
    {
     "name": "stdout",
     "output_type": "stream",
     "text": [
      "RMSE: 2.880972058177584\n"
     ]
    }
   ],
   "source": [
    "# 최종 평균 제곱근 오차를 출력한다.\n",
    "rmse_result = rmse_val(predict_result, y)\n",
    "print('RMSE: {}'.format(rmse_result))"
   ]
  },
  {
   "cell_type": "markdown",
   "id": "ebe4a85f",
   "metadata": {},
   "source": [
    "기울기 2.8, y절편 73일 경우 RMSE는 4.6690470119715가 계산되는 것을 알 수 있다.  \n",
    "기울기 3, y절편 76일 경우 RMSE는 3.3166247903554가 계산되는 것을 알 수 있다.  \n",
    "이 오차를 줄이면서 새로운 선을 긋는 일이다.  \n",
    "이를 위해서는 기울기와 y절편을 적절히 조정하면서 오차의 변화를 살펴보고 오차가 최소가 되는 기울기와 y절편을 찾아야 한다.  \n",
    "04_Method_of_Least_Squares_최소제곱법 예제에서 계산했던 기울기와 y절편을 사용하면 2.880972058177584의 RMSE가 발생된다."
   ]
  },
  {
   "cell_type": "code",
   "execution_count": null,
   "id": "fbf1adaa",
   "metadata": {},
   "outputs": [],
   "source": []
  },
  {
   "cell_type": "code",
   "execution_count": null,
   "id": "30f19933",
   "metadata": {},
   "outputs": [],
   "source": []
  },
  {
   "cell_type": "code",
   "execution_count": null,
   "id": "603c0c1c",
   "metadata": {},
   "outputs": [],
   "source": []
  }
 ],
 "metadata": {
  "kernelspec": {
   "display_name": "py36",
   "language": "python",
   "name": "py36"
  },
  "language_info": {
   "codemirror_mode": {
    "name": "ipython",
    "version": 3
   },
   "file_extension": ".py",
   "mimetype": "text/x-python",
   "name": "python",
   "nbconvert_exporter": "python",
   "pygments_lexer": "ipython3",
   "version": "3.6.13"
  }
 },
 "nbformat": 4,
 "nbformat_minor": 5
}
