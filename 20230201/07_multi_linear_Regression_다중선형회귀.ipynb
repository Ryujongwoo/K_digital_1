{
 "cells": [
  {
   "cell_type": "code",
   "execution_count": 11,
   "id": "da278c90",
   "metadata": {},
   "outputs": [],
   "source": [
    "import warnings\n",
    "warnings.filterwarnings(action='ignore')\n",
    "%config Completer.use_jedi = False\n",
    "import tensorflow.compat.v1 as tf\n",
    "tf.disable_v2_behavior()\n",
    "import numpy as np\n",
    "import pandas as pd"
   ]
  },
  {
   "cell_type": "code",
   "execution_count": 12,
   "id": "59a6e4db",
   "metadata": {},
   "outputs": [],
   "source": [
    "# [공부시간(x1), 과외시간(x2), 시험점수(y)]\n",
    "data = [[2, 0, 81], [4, 4, 93], [6, 2, 91], [8, 3, 97]]\n",
    "xData1 = [i[0] for i in data] # 공부시간\n",
    "xData2 = [i[1] for i in data] # 과외시간\n",
    "yData = [i[2] for i in data] # 시험성적"
   ]
  },
  {
   "cell_type": "code",
   "execution_count": 13,
   "id": "fc87ef14",
   "metadata": {},
   "outputs": [
    {
     "name": "stdout",
     "output_type": "stream",
     "text": [
      "a1 = [8.879329], a2 = [2.785387], b = [69.85611]\n"
     ]
    }
   ],
   "source": [
    "# 기울기 a1, a2와 y절편 b를 임의로 정한다.\n",
    "a1 = tf.Variable(tf.random_uniform([1], 0, 10)) # 기울기(가중치), 0 ~ 10 사이의 난수\n",
    "a2 = tf.Variable(tf.random_uniform([1], 0, 10)) # 기울기(가중치), 0 ~ 10 사이의 난수\n",
    "b = tf.Variable(tf.random_uniform([1], 0, 100)) # y절편(바이어스), 0 ~ 100 사이의 난수\n",
    "sess = tf.Session()\n",
    "sess.run(tf.global_variables_initializer())\n",
    "print('a1 = {}, a2 = {}, b = {}'.format(sess.run(a1), sess.run(a2), sess.run(b)))"
   ]
  },
  {
   "cell_type": "code",
   "execution_count": 14,
   "id": "22aec094",
   "metadata": {},
   "outputs": [],
   "source": [
    "# 예측성적을 얻기위한 가설(수식)을 만든다.\n",
    "Y = a1 * xData1 + a2 * xData2 + b\n",
    "# tensorflow에서 실행할 RMSE(평균 제곱근 오차) 수식(오차 함수)을 만든다.\n",
    "rmse = tf.sqrt(tf.reduce_mean(tf.square(Y - yData)))\n",
    "# 경사 하강법을 이용해서 RMSE를 최소로 하는 값을 찾는 수식을 만든다.\n",
    "gradient_descent = tf.train.GradientDescentOptimizer(0.1).minimize(rmse)"
   ]
  },
  {
   "cell_type": "code",
   "execution_count": 15,
   "id": "68b56aef",
   "metadata": {},
   "outputs": [
    {
     "name": "stdout",
     "output_type": "stream",
     "text": [
      "epoch =>    0, RMSE:       25.1945 기울기1:        7.5438 기울기2:        4.3134 y절편:       23.0718\n",
      "epoch =>  200, RMSE:       18.7895 기울기1:        8.2758 기울기2:        4.6622 y절편:       31.2348\n",
      "epoch =>  400, RMSE:       15.6177 기울기1:        7.1408 기울기2:        4.2410 y절편:       39.1069\n",
      "epoch =>  600, RMSE:       12.4464 기울기1:        5.9969 기울기2:        3.8395 y절편:       46.9782\n",
      "epoch =>  800, RMSE:        9.2759 기울기1:        4.8511 기울기2:        3.4429 y절편:       54.8484\n",
      "epoch => 1000, RMSE:        6.1074 기울기1:        3.7052 기울기2:        3.0471 y절편:       62.7161\n",
      "epoch => 1200, RMSE:        2.9474 기울기1:        2.5609 기울기2:        2.6520 y절편:       70.5732\n",
      "epoch => 1400, RMSE:        1.8362 기울기1:        1.9587 기울기2:        2.4719 y절편:       76.5134\n",
      "epoch => 1600, RMSE:        1.8370 기울기1:        1.8051 기울기2:        2.4203 y절편:       77.6578\n",
      "epoch => 1800, RMSE:        1.8370 기울기1:        1.7762 기울기2:        2.4103 y절편:       77.8594\n",
      "epoch => 2000, RMSE:        1.8370 기울기1:        1.7710 기울기2:        2.4085 y절편:       77.8950\n",
      "epoch => 2200, RMSE:        1.8370 기울기1:        1.7701 기울기2:        2.4082 y절편:       77.9013\n",
      "epoch => 2400, RMSE:        1.8369 기울기1:        1.7699 기울기2:        2.4082 y절편:       77.9022\n",
      "epoch => 2600, RMSE:        1.8369 기울기1:        1.7699 기울기2:        2.4082 y절편:       77.9022\n",
      "epoch => 2800, RMSE:        1.8369 기울기1:        1.7699 기울기2:        2.4082 y절편:       77.9022\n",
      "epoch => 3000, RMSE:        1.8369 기울기1:        1.7699 기울기2:        2.4082 y절편:       77.9022\n"
     ]
    }
   ],
   "source": [
    "# 학습 시킨다.\n",
    "import time\n",
    "sess = tf.Session()\n",
    "sess.run(tf.global_variables_initializer())\n",
    "\n",
    "for epoch in range(3001):\n",
    "    sess.run(gradient_descent)\n",
    "    if epoch % 200 == 0:\n",
    "        print('epoch => {:4d}, RMSE: {:13.4f} 기울기1: {:13.4f} 기울기2: {:13.4f} y절편: {:13.4f}'.format(epoch, \n",
    "                       sess.run(rmse), sess.run(a1)[0], sess.run(a2)[0], sess.run(b)[0]))\n",
    "        time.sleep(0.5)"
   ]
  },
  {
   "cell_type": "code",
   "execution_count": null,
   "id": "6a7fa431",
   "metadata": {},
   "outputs": [],
   "source": []
  },
  {
   "cell_type": "code",
   "execution_count": null,
   "id": "822a5e7c",
   "metadata": {},
   "outputs": [],
   "source": []
  },
  {
   "cell_type": "code",
   "execution_count": null,
   "id": "56ba0f34",
   "metadata": {},
   "outputs": [],
   "source": []
  }
 ],
 "metadata": {
  "kernelspec": {
   "display_name": "py36",
   "language": "python",
   "name": "py36"
  },
  "language_info": {
   "codemirror_mode": {
    "name": "ipython",
    "version": 3
   },
   "file_extension": ".py",
   "mimetype": "text/x-python",
   "name": "python",
   "nbconvert_exporter": "python",
   "pygments_lexer": "ipython3",
   "version": "3.6.13"
  }
 },
 "nbformat": 4,
 "nbformat_minor": 5
}
