{
 "cells": [
  {
   "cell_type": "markdown",
   "id": "8242b08a",
   "metadata": {},
   "source": [
    "경사 하강법(Gradient Descent)  \n",
    "기울기를 너무 크게 잡으면 오차가 커지고 너무 작게 잡아도 오차가 커진다.  \n",
    "기울기을 무한대로 키우면 오차도 무한대로 커지고 기울기를 무한대로 작게해도 오차는 무한대로 커진다."
   ]
  },
  {
   "cell_type": "code",
   "execution_count": 1,
   "id": "08ffd677",
   "metadata": {},
   "outputs": [
    {
     "name": "stdout",
     "output_type": "stream",
     "text": [
      "WARNING:tensorflow:From D:\\anaconda3\\envs\\py36\\lib\\site-packages\\tensorflow\\python\\compat\\v2_compat.py:101: disable_resource_variables (from tensorflow.python.ops.variable_scope) is deprecated and will be removed in a future version.\n",
      "Instructions for updating:\n",
      "non-resource variables are not supported in the long term\n"
     ]
    }
   ],
   "source": [
    "import warnings\n",
    "warnings.filterwarnings(action='ignore')\n",
    "%config Completer.use_jedi = False\n",
    "import tensorflow.compat.v1 as tf\n",
    "tf.disable_v2_behavior()\n",
    "import numpy as np\n",
    "import pandas as pd"
   ]
  },
  {
   "cell_type": "code",
   "execution_count": 2,
   "id": "833f4a15",
   "metadata": {},
   "outputs": [],
   "source": [
    "data = [[2, 81], [4, 93], [6, 91], [8, 97]] # [공부시간(x), 시험점수(y)]\n",
    "xData = [i[0] for i in data] # 공부시간\n",
    "yData = [i[1] for i in data] # 시험성적"
   ]
  },
  {
   "cell_type": "code",
   "execution_count": 3,
   "id": "dc843d06",
   "metadata": {},
   "outputs": [
    {
     "name": "stdout",
     "output_type": "stream",
     "text": [
      "a = [6.452825], b = [95.31424]\n"
     ]
    }
   ],
   "source": [
    "# 기울기 a와 y절편 b를 임의로 정한다.\n",
    "# tf.random_uniform([난수의 개수], 최소값, 최대값, dtype=난수의 데이터 타입, seed=숫자)\n",
    "# dtype 생략시 기본값은 tf.float32이고 seed를 지정하면 항상 일정한 배열의 난수가 생성된다.\n",
    "a = tf.Variable(tf.random_uniform([1], 0, 10)) # 기울기(가중치), 0 ~ 10 사이의 난수\n",
    "b = tf.Variable(tf.random_uniform([1], 0, 100)) # y절편(바이어스), 0 ~ 100 사이의 난수\n",
    "sess = tf.Session()\n",
    "sess.run(tf.global_variables_initializer())\n",
    "print('a = {}, b = {}'.format(sess.run(a), sess.run(b)))"
   ]
  },
  {
   "cell_type": "code",
   "execution_count": 4,
   "id": "1b3d2272",
   "metadata": {},
   "outputs": [],
   "source": [
    "# 예측성적을 얻기위한 가설(수식)을 만든다.\n",
    "Y = a * xData + b"
   ]
  },
  {
   "cell_type": "code",
   "execution_count": 5,
   "id": "2138bc90",
   "metadata": {},
   "outputs": [],
   "source": [
    "# tensorflow에서 실행할 RMSE(평균 제곱근 오차) 수식(오차 함수)을 만든다.\n",
    "# tf.square(Y - yData) => 예측성적과 실제성적의 편차의 제곱을 계산한다.\n",
    "# tf.reduce_mean(tf.square(Y - yData)) => 예측성적과 실제성적의 편차의 제곱의 평균을 계산한다.\n",
    "# sqrt(): 제곱근값을 계산한다.\n",
    "# tf.sqrt(tf.reduce_mean(tf.square(Y - yData))) => 예측성적과 실제성적의 편차의 제곱의 평균에 대한 제곱근을 계산한다.\n",
    "rmse = tf.sqrt(tf.reduce_mean(tf.square(Y - yData)))"
   ]
  },
  {
   "cell_type": "code",
   "execution_count": 6,
   "id": "a96fd21b",
   "metadata": {},
   "outputs": [],
   "source": [
    "# 경사 하강법을 이용해서 RMSE를 최소로 하는 값을 찾는 수식을 만든다.\n",
    "# 학습율을 정한다.\n",
    "learning_rate = 0.1\n",
    "# 경사 하강법 수식\n",
    "gradient_descent = tf.train.GradientDescentOptimizer(learning_rate).minimize(rmse)"
   ]
  },
  {
   "cell_type": "code",
   "execution_count": 7,
   "id": "1cdf1320",
   "metadata": {},
   "outputs": [
    {
     "name": "stdout",
     "output_type": "stream",
     "text": [
      "epoch =>    0, RMSE:       48.0345 기울기:        4.0502 y절편:       22.4608\n",
      "epoch =>  200, RMSE:       19.6515 기울기:       10.2785 y절편:       31.3875\n",
      "epoch =>  400, RMSE:       16.4918 기울기:        8.9647 y절편:       39.2277\n",
      "epoch =>  600, RMSE:       13.3711 기울기:        7.6591 y절편:       47.0193\n",
      "epoch =>  800, RMSE:       10.3234 기울기:        6.3688 y절편:       54.7193\n",
      "epoch => 1000, RMSE:        7.4327 기울기:        5.1122 y절편:       62.2182\n",
      "epoch => 1200, RMSE:        4.9354 기울기:        3.9447 y절편:       69.1849\n",
      "epoch => 1400, RMSE:        3.3877 기울기:        3.0315 y절편:       74.6347\n",
      "epoch => 1600, RMSE:        2.9479 기울기:        2.5564 y절편:       77.4697\n",
      "epoch => 1800, RMSE:        2.8882 기울기:        2.3838 y절편:       78.4998\n",
      "epoch => 2000, RMSE:        2.8817 기울기:        2.3271 y절편:       78.8380\n",
      "epoch => 2200, RMSE:        2.8811 기울기:        2.3088 y절편:       78.9476\n",
      "epoch => 2400, RMSE:        2.8810 기울기:        2.3028 y절편:       78.9830\n",
      "epoch => 2600, RMSE:        2.8810 기울기:        2.3009 y절편:       78.9945\n",
      "epoch => 2800, RMSE:        2.8810 기울기:        2.3003 y절편:       78.9982\n",
      "epoch => 3000, RMSE:        2.8810 기울기:        2.3001 y절편:       78.9994\n"
     ]
    }
   ],
   "source": [
    "# 학습 시킨다.\n",
    "import time\n",
    "sess = tf.Session()\n",
    "sess.run(tf.global_variables_initializer())\n",
    "\n",
    "for epoch in range(3001):\n",
    "    sess.run(gradient_descent)\n",
    "    if epoch % 200 == 0:\n",
    "        print('epoch => {:4d}, RMSE: {:13.4f} 기울기: {:13.4f} y절편: {:13.4f}'.format(epoch, \n",
    "                       sess.run(rmse), sess.run(a)[0], sess.run(b)[0]))\n",
    "        time.sleep(0.5)"
   ]
  },
  {
   "cell_type": "markdown",
   "id": "7ff48f82",
   "metadata": {},
   "source": [
    "<img src=\"./gradient_descent.png\" width=\"1200\"/>"
   ]
  },
  {
   "cell_type": "code",
   "execution_count": null,
   "id": "8b5e4a77",
   "metadata": {},
   "outputs": [],
   "source": []
  },
  {
   "cell_type": "code",
   "execution_count": null,
   "id": "06205c94",
   "metadata": {},
   "outputs": [],
   "source": []
  }
 ],
 "metadata": {
  "kernelspec": {
   "display_name": "py36",
   "language": "python",
   "name": "py36"
  },
  "language_info": {
   "codemirror_mode": {
    "name": "ipython",
    "version": 3
   },
   "file_extension": ".py",
   "mimetype": "text/x-python",
   "name": "python",
   "nbconvert_exporter": "python",
   "pygments_lexer": "ipython3",
   "version": "3.6.13"
  }
 },
 "nbformat": 4,
 "nbformat_minor": 5
}
