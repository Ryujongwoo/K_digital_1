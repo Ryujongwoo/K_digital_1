{
 "cells": [
  {
   "cell_type": "code",
   "execution_count": 1,
   "id": "8f9d2789",
   "metadata": {},
   "outputs": [
    {
     "name": "stdout",
     "output_type": "stream",
     "text": [
      "33\n",
      "!\n",
      "!\n",
      "!\n"
     ]
    }
   ],
   "source": [
    "string = 'We are the champions, My friends!'\n",
    "# len() 함수는 인수로 지정한 문자열을 구성하는 문자의 개수를 얻어온다.\n",
    "print(len(string))\n",
    "print(string[32])\n",
    "print(string[-1])\n",
    "print(string[len(string) - 1])"
   ]
  },
  {
   "cell_type": "code",
   "execution_count": 2,
   "id": "3408a91d",
   "metadata": {},
   "outputs": [
    {
     "name": "stdout",
     "output_type": "stream",
     "text": [
      "4\n",
      "1\n",
      "0\n"
     ]
    }
   ],
   "source": [
    "string = 'We are the champions, My friends!'\n",
    "# count() 메소드는 인수로 지정한 문자열의 전체 출현 횟수를 얻어온다.\n",
    "# count() 메소드의 인수로 지정한 문자열이 특정 문자열에 포함되어있나 알아낼 수 있다.\n",
    "# count() 메소드를 실행한 결과가 0이면 불포함, 1이면 포함, 2이상이면 중복해서 포함\n",
    "print(string.count('e'))\n",
    "print(string.count('We'))\n",
    "print(string.count('we'))"
   ]
  },
  {
   "cell_type": "code",
   "execution_count": 3,
   "id": "6ba4f8f4",
   "metadata": {},
   "outputs": [
    {
     "name": "stdout",
     "output_type": "stream",
     "text": [
      "1\n",
      "0\n"
     ]
    }
   ],
   "source": [
    "string = 'We are the champions, My friends!'\n",
    "# index() 메소드는 인수로 지정한 문자열이 최초로 출현하는 인덱스를 얻어온다.\n",
    "# index() 메소드의 인수로 지정한 문자열이 특정 문자열에 포함되어있나 알아낼 수 있다.\n",
    "# 실행한 결과가 0이상이면 포함, 에러가 발생되면 불포함\n",
    "print(string.index('e'))\n",
    "print(string.index('We'))\n",
    "# print(string.index('we')) # 인수로 지정한 문자열이 없으면 에러가 발생된다."
   ]
  },
  {
   "cell_type": "code",
   "execution_count": 4,
   "id": "08139ffd",
   "metadata": {},
   "outputs": [
    {
     "name": "stdout",
     "output_type": "stream",
     "text": [
      "1\n",
      "0\n",
      "-1\n"
     ]
    }
   ],
   "source": [
    "string = 'We are the champions, My friends!'\n",
    "# find() 메소드는 인수로 지정한 문자열이 최초로 출현하는 인덱스를 얻어온다.\n",
    "# find() 메소드의 인수로 지정한 문자열이 특정 문자열에 포함되어있나 알아낼 수 있다.\n",
    "# 실행한 결과가 0이상이면 포함, -1은 불포함\n",
    "print(string.find('e'))\n",
    "print(string.find('We'))\n",
    "print(string.find('we')) # 인수로 지정한 문자열이 없으면 -1이 리턴된다."
   ]
  },
  {
   "cell_type": "code",
   "execution_count": 8,
   "id": "7da08742",
   "metadata": {},
   "outputs": [
    {
     "name": "stdout",
     "output_type": "stream",
     "text": [
      "T/j/o/e/u/n/I/T\n",
      "T j o e u n I T\n",
      "T\n",
      "j\n",
      "o\n",
      "e\n",
      "u\n",
      "n\n",
      "I\n",
      "T\n",
      "T!(^^)~ j!(^^)~ o!(^^)~ e!(^^)~ u!(^^)~ n!(^^)~ I!(^^)~ T\n"
     ]
    }
   ],
   "source": [
    "string = 'TjoeunIT'\n",
    "# join() 메소드는 인수로 지정된 문자열에 특정 문자열을 사이사이에 삽입한다.\n",
    "print('/'.join(string))\n",
    "print(' '.join(string))\n",
    "print('\\n'.join(string))\n",
    "print('!(^^)~ '.join(string))"
   ]
  },
  {
   "cell_type": "code",
   "execution_count": 11,
   "id": "2c2b6364",
   "metadata": {},
   "outputs": [
    {
     "name": "stdout",
     "output_type": "stream",
     "text": [
      "TJOEUNIT GOOD\n",
      "tjoeunit good\n",
      "Tjoeunit Good\n"
     ]
    }
   ],
   "source": [
    "string = 'TjoeunIT good'\n",
    "# upper() 메소드는 문자열을 무조건 대문자로 변환한다.\n",
    "print(string.upper())\n",
    "# lower() 메소드는 문자열을 무조건 소문자로 변환한다.\n",
    "print(string.lower())\n",
    "# title() 메소드는 문자열을 구성하는 각 단어의 첫 문자만 대문자로 나머지는 소문자로 변환한다.\n",
    "print(string.title())"
   ]
  },
  {
   "cell_type": "code",
   "execution_count": 17,
   "id": "5d49ca80",
   "metadata": {},
   "outputs": [
    {
     "name": "stdout",
     "output_type": "stream",
     "text": [
      "    TjoeunIT    \n",
      "16\n",
      "TjoeunIT    \n",
      "    TjoeunIT\n",
      "TjoeunIT\n"
     ]
    }
   ],
   "source": [
    "string = '    TjoeunIT    '\n",
    "print(string)\n",
    "print(len(string))\n",
    "# lstrip() 메소드는 문자열 왼쪽(앞)의 불필요한 공백을 제거한다.\n",
    "print(string.lstrip())\n",
    "# rstrip() 메소드는 문자열 오른쪽(뒤)의 불필요한 공백을 제거한다.\n",
    "print(string.rstrip())\n",
    "# strip() 메소드는 문자열 앞, 뒤의 불필요한 공백을 제거한다.\n",
    "print(string.strip())"
   ]
  },
  {
   "cell_type": "code",
   "execution_count": 19,
   "id": "9dd1d568",
   "metadata": {},
   "outputs": [
    {
     "name": "stdout",
     "output_type": "stream",
     "text": [
      "We are the champions, My friends!\n",
      "W2 ar2 th2 champions, My fri2nds!\n"
     ]
    }
   ],
   "source": [
    "string = 'We are the champions, My friends!'\n",
    "# replace() 메소드는 특정 문자열을 지정한 문자열로 일괄적으로 치환한다.\n",
    "print(string)\n",
    "print(string.replace('e', '2'))"
   ]
  },
  {
   "cell_type": "markdown",
   "id": "d323998c",
   "metadata": {},
   "source": [
    "# 문자열 메소드 응용"
   ]
  },
  {
   "cell_type": "code",
   "execution_count": 24,
   "id": "cb4478d5",
   "metadata": {},
   "outputs": [
    {
     "name": "stdout",
     "output_type": "stream",
     "text": [
      "www.tjoeunit.com\n",
      "www.tjoeunit.com\n",
      "tjoeunit\n",
      "tjoeunit\n"
     ]
    }
   ],
   "source": [
    "# strip() 메소드가 꼭 공백만 제거하는 것이 아니다.\n",
    "# strip() 메소드의 인수로 아무것도 지정하지 않으면 공백이 기본값으로 사용되서 공백이 제거되지만 인수를 지정하면\n",
    "# 인수로 지정한 문자가 문자열 앞, 뒤에 나타나지 않을 때 까지 제거한다.\n",
    "# 인수로 입력한 문자열 순서와 제거하는 순서는 아무런 상관이 없다.\n",
    "print('www.tjoeunit.com')\n",
    "print('www.tjoeunit.com'.strip()) # 공백만 제거\n",
    "print('www.tjoeunit.com'.strip('w.com')) # 인수로 지정된 문자 제거\n",
    "print('www.tjoeunit.com'.strip('omcw.'))"
   ]
  },
  {
   "cell_type": "code",
   "execution_count": 25,
   "id": "f2b5f9e6",
   "metadata": {},
   "outputs": [
    {
     "name": "stdout",
     "output_type": "stream",
     "text": [
      "www.joeuni.com\n"
     ]
    }
   ],
   "source": [
    "# 문자열 중간의 특정 문자를 제거하려면 replace() 메소드를 사용하면 된다.\n",
    "print('www.tjoeunit.com'.replace('t', ''))"
   ]
  },
  {
   "cell_type": "code",
   "execution_count": 28,
   "id": "145eab09",
   "metadata": {},
   "outputs": [
    {
     "name": "stdout",
     "output_type": "stream",
     "text": [
      "주민등록번호: 830422-1185600\n",
      "830422-1185600\n",
      "830422-1******\n",
      "830422-1******\n"
     ]
    }
   ],
   "source": [
    "# 주민등록번호를 입력받아 성별 뒤의 모든 문자가 '*'로 출력되게 한다.\n",
    "# 830422-1185600 => 830422-1******\n",
    "jumin = input('주민등록번호: ')\n",
    "print(jumin)\n",
    "print(jumin[:8] + '******')\n",
    "print(jumin[:8] + '*' * 6)"
   ]
  },
  {
   "cell_type": "code",
   "execution_count": 37,
   "id": "f993b4be",
   "metadata": {},
   "outputs": [
    {
     "name": "stdout",
     "output_type": "stream",
     "text": [
      "코드: 1234-1-7890\n",
      "4\n",
      "1234-\n",
      "1-7890\n",
      "-7890\n",
      "1234-*-7890\n"
     ]
    }
   ],
   "source": [
    "# 코드를 입력받아서 '-'와 '-' 사이의 모든 문자의 개수만큼 '*'이 출력되게 한다.\n",
    "# 1234-****-7890\n",
    "# 12-***-567890\n",
    "# 123456-*-1245\n",
    "code = input('코드: ')\n",
    "count = len(code)\n",
    "print(code.find('-'))\n",
    "start = code[:code.find('-') + 1]\n",
    "print(start)\n",
    "code = code[code.find('-') + 1:]\n",
    "print(code)\n",
    "end = code[code.find('-'):]\n",
    "print(end)\n",
    "code = start + '*' * (count - len(start) - len(end)) + end\n",
    "print(code)"
   ]
  },
  {
   "cell_type": "code",
   "execution_count": 41,
   "id": "15f311bd",
   "metadata": {},
   "outputs": [
    {
     "name": "stdout",
     "output_type": "stream",
     "text": [
      "코드: 1234-123456-7890\n",
      "4\n",
      "1234-\n",
      "-7890\n",
      "1234-******-7890\n"
     ]
    }
   ],
   "source": [
    "# index() 메소드와 find() 메소드는 앞에서부터 찾지만 rindex() 메소드와 rfind() 메소드는 뒤에서부터 찾는다.\n",
    "code = input('코드: ')\n",
    "count = len(code)\n",
    "print(code.find('-'))\n",
    "start = code[:code.find('-') + 1]\n",
    "print(start)\n",
    "end = code[code.rfind('-'):]\n",
    "print(end)\n",
    "code = start + '*' * (count - len(start) - len(end)) + end\n",
    "print(code)"
   ]
  },
  {
   "cell_type": "code",
   "execution_count": 46,
   "id": "e8a0a210",
   "metadata": {},
   "outputs": [
    {
     "name": "stdout",
     "output_type": "stream",
     "text": [
      "코드: 1234-123456-7890\n",
      "['1234', '123456', '7890']\n",
      "<class 'list'>\n",
      "['1234', '******', '7890']\n",
      "1234-******-7890\n",
      "1234-******-7890\n"
     ]
    }
   ],
   "source": [
    "code = input('코드: ')\n",
    "code = code.split('-')\n",
    "print(code)\n",
    "print(type(code))\n",
    "code[1] = '*' * len(code[1])\n",
    "print(code)\n",
    "print(code[0] + '-' + code[1] + '-' + code[2])\n",
    "print('-'.join(code))"
   ]
  },
  {
   "cell_type": "markdown",
   "id": "1fa2aec4",
   "metadata": {},
   "source": [
    "파이썬 공백 처리 방법"
   ]
  },
  {
   "cell_type": "code",
   "execution_count": 48,
   "id": "34d3bf66",
   "metadata": {},
   "outputs": [
    {
     "name": "stdout",
     "output_type": "stream",
     "text": [
      "                        hello                       world                     \n",
      "hello                       world\n"
     ]
    }
   ],
   "source": [
    "string = '                        hello                       world                     '\n",
    "print(string)\n",
    "print(string.strip())"
   ]
  },
  {
   "cell_type": "code",
   "execution_count": 49,
   "id": "c543fcf5",
   "metadata": {},
   "outputs": [
    {
     "name": "stdout",
     "output_type": "stream",
     "text": [
      "helloworld\n"
     ]
    }
   ],
   "source": [
    "# replace() 메소드를 사용해서 모든 공백을 제거한다.\n",
    "print(string.replace(' ', ''))"
   ]
  },
  {
   "cell_type": "code",
   "execution_count": 51,
   "id": "4e448cc4",
   "metadata": {},
   "outputs": [
    {
     "name": "stdout",
     "output_type": "stream",
     "text": [
      "['hello', 'world']\n",
      "hello world\n"
     ]
    }
   ],
   "source": [
    "# join(), split() 메소드를 사용해서 문자열 앞, 뒤의 모든 빈 칸을 제거하고 문자열 사이에 2칸 이상 띄어쓰기를\n",
    "# 한 곳은 1칸만 띄어쓰기가 되도록 한다.\n",
    "print(string.split())\n",
    "print(' '.join(string.split()))"
   ]
  },
  {
   "cell_type": "code",
   "execution_count": null,
   "id": "869b55c1",
   "metadata": {},
   "outputs": [],
   "source": []
  },
  {
   "cell_type": "code",
   "execution_count": null,
   "id": "9adbd7cd",
   "metadata": {},
   "outputs": [],
   "source": []
  },
  {
   "cell_type": "code",
   "execution_count": null,
   "id": "9151fed4",
   "metadata": {},
   "outputs": [],
   "source": []
  },
  {
   "cell_type": "code",
   "execution_count": null,
   "id": "d78f9cec",
   "metadata": {},
   "outputs": [],
   "source": []
  }
 ],
 "metadata": {
  "kernelspec": {
   "display_name": "Python 3",
   "language": "python",
   "name": "python3"
  },
  "language_info": {
   "codemirror_mode": {
    "name": "ipython",
    "version": 3
   },
   "file_extension": ".py",
   "mimetype": "text/x-python",
   "name": "python",
   "nbconvert_exporter": "python",
   "pygments_lexer": "ipython3",
   "version": "3.6.8"
  }
 },
 "nbformat": 4,
 "nbformat_minor": 5
}
