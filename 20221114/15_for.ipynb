{
 "cells": [
  {
   "cell_type": "markdown",
   "id": "cd3e2f10",
   "metadata": {},
   "source": [
    "# for\n",
    "제어 변수에 리스트, 튜플, 딕셔너리, set에 저장된 데이터가 처음부터 마지막까지 차례대로 대입되며 반복한다.\n",
    "***\n",
    "for 제어변수 in 리스트 or 튜플 or 딕셔너리 or set:  \n",
    "&nbsp;&nbsp;&nbsp;&nbsp;반복할 문장  \n",
    "&nbsp;&nbsp;&nbsp;&nbsp;..."
   ]
  },
  {
   "cell_type": "markdown",
   "id": "1584fdad",
   "metadata": {},
   "source": [
    "# range() 함수\n",
    "range() 함수는 지정한 초기치, 최종치, 증가치에 따른 숫자 리스트를 만든다.\n",
    "***\n",
    "형식  \n",
    "range([초기치, ]최종치[, 증가치])  \n",
    "초기치와 증가치는 생략할 수 있고 초기치가 생략되면 0이 증가치가 생략되면 1이 기본값으로 사용된다.  \n",
    "즉, range(0, 10, 1)과 range(10)은 같은 표현이다."
   ]
  },
  {
   "cell_type": "code",
   "execution_count": 6,
   "id": "4454eab5",
   "metadata": {},
   "outputs": [
    {
     "name": "stdout",
     "output_type": "stream",
     "text": [
      "range(0, 10)\n",
      "[0, 1, 2, 3, 4, 5, 6, 7, 8, 9]\n",
      "[0, 1, 2, 3, 4, 5, 6, 7, 8, 9]\n",
      "[0, 2, 4, 6, 8]\n",
      "[1, 3, 5, 7, 9]\n",
      "[9, 8, 7, 6, 5, 4, 3, 2, 1, 0]\n"
     ]
    }
   ],
   "source": [
    "# range() 함수는 초기치 부터 증가치 만큼 증가하며 최종치를 넘어가지 않는(미만인) 숫자 리스트를 만든다.\n",
    "# range() 함수가 실행된 결과 리스트는 list() 생성자 함수를 사용해서 확인한다.\n",
    "print(range(0, 10, 1))\n",
    "print(list(range(0, 10, 1)))\n",
    "print(list(range(10)))\n",
    "print(list(range(0, 10, 2)))\n",
    "print(list(range(1, 10, 2)))\n",
    "print(list(range(9, -1, -1)))"
   ]
  },
  {
   "cell_type": "code",
   "execution_count": 9,
   "id": "050669db",
   "metadata": {},
   "outputs": [
    {
     "name": "stdout",
     "output_type": "stream",
     "text": [
      "0\n",
      "1\n",
      "2\n",
      "3\n",
      "4\n"
     ]
    }
   ],
   "source": [
    "# print(list(range(5))) # [0, 1, 2, 3, 4]\n",
    "# for i in [0, 1, 2, 3, 4]:\n",
    "for i in range(5):\n",
    "    print(i)"
   ]
  },
  {
   "cell_type": "code",
   "execution_count": 10,
   "id": "fa462c3a",
   "metadata": {},
   "outputs": [
    {
     "name": "stdout",
     "output_type": "stream",
     "text": [
      "55\n"
     ]
    }
   ],
   "source": [
    "# 1 ~ 10의 합계 - while 사용\n",
    "i = 0\n",
    "total = 0\n",
    "while i < 10:\n",
    "    i += 1\n",
    "    total += i\n",
    "# ===== while\n",
    "print(total)"
   ]
  },
  {
   "cell_type": "code",
   "execution_count": 11,
   "id": "d91839f3",
   "metadata": {},
   "outputs": [
    {
     "name": "stdout",
     "output_type": "stream",
     "text": [
      "55\n"
     ]
    }
   ],
   "source": [
    "# 1 ~ 10의 합계 - for 사용\n",
    "total = 0\n",
    "for i in range(1, 11):\n",
    "    total += i\n",
    "# ===== for\n",
    "print(total)"
   ]
  },
  {
   "cell_type": "markdown",
   "id": "ebde3868",
   "metadata": {},
   "source": [
    "주사위를 10번 굴려서 출현한 눈의 개수를 센다. => 변수 사용"
   ]
  },
  {
   "cell_type": "code",
   "execution_count": 12,
   "id": "aac93449",
   "metadata": {},
   "outputs": [],
   "source": [
    "import random"
   ]
  },
  {
   "cell_type": "code",
   "execution_count": 23,
   "id": "12f0ff31",
   "metadata": {},
   "outputs": [
    {
     "name": "stdout",
     "output_type": "stream",
     "text": [
      "4\n",
      "3\n",
      "4\n",
      "5\n",
      "4\n",
      "4\n",
      "4\n",
      "1\n",
      "6\n",
      "2\n",
      "1의 개수: 1개\n",
      "2의 개수: 1개\n",
      "3의 개수: 1개\n",
      "4의 개수: 5개\n",
      "5의 개수: 1개\n",
      "6의 개수: 1개\n"
     ]
    }
   ],
   "source": [
    "# 1부터 6사이의 주사위 눈의 개수를 기억할 변수 6개를 선언하고 각각 0으로 초기화시킨다.\n",
    "# 파이썬은 1줄에 1문장 코딩을 원칙으로 하지만 1줄에 2개 이상의 문장을 코딩하려면 문장과 문장을 ';'으로 구분하면 된다.\n",
    "num1 = 0; num2 = 0; num3 = 0; num4 = 0; num5 = 0; num6 = 0\n",
    "# 주사위를 10번 굴린다.\n",
    "for i in range(10):\n",
    "    # 주사위를 굴려 발생한 눈의 개수를 증가시킨다.\n",
    "    dice = random.randint(1, 6) # 주사위를 굴린다.\n",
    "    print(dice)\n",
    "    if dice == 1:\n",
    "        num1 += 1\n",
    "    elif dice == 2:\n",
    "        num2 += 1\n",
    "    elif dice == 3:\n",
    "        num3 += 1\n",
    "    elif dice == 4:\n",
    "        num4 += 1\n",
    "    elif dice == 5:\n",
    "        num5 += 1\n",
    "    else:\n",
    "        num6 += 1\n",
    "    # ===== if\n",
    "# ===== for\n",
    "# 주사위의 눈의 개수를 출력한다.\n",
    "print('1의 개수: {}개'.format(num1))\n",
    "print('2의 개수: {}개'.format(num2))\n",
    "print('3의 개수: {}개'.format(num3))\n",
    "print('4의 개수: {}개'.format(num4))\n",
    "print('5의 개수: {}개'.format(num5))\n",
    "print('6의 개수: {}개'.format(num6))"
   ]
  },
  {
   "cell_type": "markdown",
   "id": "2797bcf0",
   "metadata": {},
   "source": [
    "주사위를 10번 굴려서 출현한 눈의 개수를 센다. => 리스트 사용"
   ]
  },
  {
   "cell_type": "code",
   "execution_count": 32,
   "id": "d748be34",
   "metadata": {},
   "outputs": [
    {
     "name": "stdout",
     "output_type": "stream",
     "text": [
      "6\n",
      "5\n",
      "4\n",
      "5\n",
      "5\n",
      "4\n",
      "4\n",
      "2\n",
      "2\n",
      "4\n",
      "1의 개수: 0개\n",
      "2의 개수: 2개\n",
      "3의 개수: 0개\n",
      "4의 개수: 4개\n",
      "5의 개수: 3개\n",
      "6의 개수: 1개\n"
     ]
    }
   ],
   "source": [
    "# 1. 주사위 눈의 개수를 기억할 크기가 6인 0으로 초기화된 리스트를 선언한다.\n",
    "# count = [0, 0, 0, 0, 0, 0]\n",
    "# count = [0] * 6 # 같은 값으로 초기화만 가능하다.\n",
    "# 2. 빈 리스트를 선언하고 append() 메소드로 0을 넣어준다.\n",
    "# count = []\n",
    "# for i in range(6):\n",
    "    # count.append(0)\n",
    "# 3. 반복문을 사용해서 리스트를 만든다.\n",
    "count = [0 for i in range(6)]\n",
    "# print(count)\n",
    "for i in range(10):\n",
    "    dice = random.randint(1, 6)\n",
    "    print(dice)\n",
    "    if dice == 1:\n",
    "        count[0] += 1\n",
    "    elif dice == 2:\n",
    "        count[1] += 1\n",
    "    elif dice == 3:\n",
    "        count[2] += 1\n",
    "    elif dice == 4:\n",
    "        count[3] += 1\n",
    "    elif dice == 5:\n",
    "        count[4] += 1\n",
    "    else:\n",
    "        count[5] += 1\n",
    "    # ===== if\n",
    "# ===== for\n",
    "print('1의 개수: {}개'.format(count[0]))\n",
    "print('2의 개수: {}개'.format(count[1]))\n",
    "print('3의 개수: {}개'.format(count[2]))\n",
    "print('4의 개수: {}개'.format(count[3]))\n",
    "print('5의 개수: {}개'.format(count[4]))\n",
    "print('6의 개수: {}개'.format(count[5]))"
   ]
  },
  {
   "cell_type": "code",
   "execution_count": 35,
   "id": "83c0a5a6",
   "metadata": {},
   "outputs": [
    {
     "name": "stdout",
     "output_type": "stream",
     "text": [
      "1의 개수: 2개\n",
      "2의 개수: 1개\n",
      "3의 개수: 1개\n",
      "4의 개수: 2개\n",
      "5의 개수: 2개\n",
      "6의 개수: 2개\n"
     ]
    }
   ],
   "source": [
    "count = [0 for i in range(6)]\n",
    "for i in range(10):\n",
    "    dice = random.randint(1, 6)\n",
    "    # print(dice)\n",
    "    count[dice - 1] += 1\n",
    "    # ===== if\n",
    "# ===== for\n",
    "for i in range(len(count)):\n",
    "    print('{}의 개수: {}개'.format(i + 1, count[i]))"
   ]
  },
  {
   "cell_type": "code",
   "execution_count": null,
   "id": "fd3fab8d",
   "metadata": {},
   "outputs": [],
   "source": []
  },
  {
   "cell_type": "code",
   "execution_count": null,
   "id": "f27f2d06",
   "metadata": {},
   "outputs": [],
   "source": []
  },
  {
   "cell_type": "code",
   "execution_count": null,
   "id": "0135702a",
   "metadata": {},
   "outputs": [],
   "source": []
  },
  {
   "cell_type": "code",
   "execution_count": null,
   "id": "3e3be5f7",
   "metadata": {},
   "outputs": [],
   "source": []
  },
  {
   "cell_type": "code",
   "execution_count": null,
   "id": "011c6f95",
   "metadata": {},
   "outputs": [],
   "source": []
  }
 ],
 "metadata": {
  "kernelspec": {
   "display_name": "Python 3",
   "language": "python",
   "name": "python3"
  },
  "language_info": {
   "codemirror_mode": {
    "name": "ipython",
    "version": 3
   },
   "file_extension": ".py",
   "mimetype": "text/x-python",
   "name": "python",
   "nbconvert_exporter": "python",
   "pygments_lexer": "ipython3",
   "version": "3.6.8"
  }
 },
 "nbformat": 4,
 "nbformat_minor": 5
}
