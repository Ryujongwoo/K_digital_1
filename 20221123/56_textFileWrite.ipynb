{
 "cells": [
  {
   "cell_type": "markdown",
   "id": "e4340f2d",
   "metadata": {},
   "source": [
    "파이썬을 이용해서 텍스트 파일을 처리할 경우 파일 탐색기에서 아래의 설정이 되어있나 확인한다.  \n",
    "windows 10: 파일 탐색기 => 보기 메뉴 => 파일 확장명 체크  \n",
    "windows7, 8: 파일 탐색기 => 보기 메뉴 => 폴더 검색 및 옵션 변경 => 보기 탭 => 알려진 파일 형식의 ~ 체크 해제"
   ]
  },
  {
   "cell_type": "markdown",
   "id": "587fdcbe",
   "metadata": {},
   "source": [
    "파일로 출력하거나 파일에서 읽어오는 경우 반드시 파일을 open 시켜야 한다.\n",
    "# 파일 열기\n",
    "변수 = open('텍스트 파일 이름', '파일 열기 모드')  \n",
    "파일 열기 모드 => w(write, 쓰기(덮어쓰기), a(append, 쓰기(추가)), r(read, 읽기)  \n",
    "w는 지정한 파일이 없으면 파일을 만든 후 저장하고 파일이 있으면 내용을 지우고 저장한다. => 덮어쓰기  \n",
    "a는 지정한 파일이 없으면 파일을 만든 후 저장하고 파일이 있으면 기존 내용 뒤에 추가해서 저장한다. => 추가  \n",
    "r은 지정한 파일이 없으면 에러가 발생된다.  \n",
    "w, a 모드로 파일을 열어서 작업했으면 반드시 파일을 close() 메소드를 사용해서 닫아야 파일에 데이터가 저장된다. \n",
    "r 모드로 파일을 열어서 작업했으면 파일을 닫지 않아도 상관없다."
   ]
  },
  {
   "cell_type": "code",
   "execution_count": 6,
   "id": "27d08ef7",
   "metadata": {},
   "outputs": [],
   "source": [
    "# open() 함수에 파일 이름만 쓰면 현재 화면에 작업중인 프로그램이 위치한 경로에 위치한 파일이라는 의미이다.\n",
    "# open('data.txt', 'w')을 사용해서 파일을 open 할 때 'cp949'라는 메시지가 보이며 한글 인코딩 문제로 에러가 발생되면\n",
    "# open('data.txt', 'w', -1, 'utf-8') 형식으로 열면된다.\n",
    "file = open('data.txt', 'w') # data.txt 파일을 출력(덮어쓰기)용으로 open 한다.\n",
    "for i in range(10):\n",
    "    # 화면에 출력할 때는 print()를 사용하고 파일로 출력할 때는 write()를 사용한다.\n",
    "    # 출력할 때 끝에 개행 문자('\\n')을 붙여야 텍스트 파일에 데이터가 저장될 때 줄이 바뀐다.\n",
    "    file.write('꺄아2~~~~~~~~~~' + '\\n')\n",
    "file.close()"
   ]
  },
  {
   "cell_type": "markdown",
   "id": "662ec556",
   "metadata": {},
   "source": [
    "# 경로 지정 방법\n",
    "절대경로 지정방식과 상대경로 지정방식이 있다.  \n",
    "절대경로 디스크 드라이브의 최상위(root) 폴더(디렉토리)부터 텍스트 파일이 저장된 폴더까지의 경로를 의미한다.  \n",
    "상대경로는 현재 화면에 표시되는 소스 프로그램 파일이 위치한 폴더부터 텍스트 파일이 위치한 폴더까지의 경로를 의미한다."
   ]
  },
  {
   "cell_type": "code",
   "execution_count": null,
   "id": "c4f8c4ae",
   "metadata": {},
   "outputs": [],
   "source": [
    "# 현재 작업중인 소스 프로그램이 위치한 경로가 아닌 다른 경로에 파일을 저장하려면 반드시 파일이 저장될 경로를 지정해야 한다.\n",
    "# D:\\k_digital\\python\\basic\\workspace\\data\\data.txt => 절대 경로, 에러\n",
    "# 위와 같이 경로를 지정하면 이스케이프 시퀀스로 잘못 인식해서 오류가 발생되므로 '\\'를 '\\\\' 또는 '/'로 수정한다.\n",
    "# D:\\\\k_digital\\\\python\\\\basic\\\\workspace\\\\data\\\\data.txt\n",
    "# D:/k_digital/python/basic/workspace/data/data.txt\n",
    "\n",
    "# '.' => 현재 화면에 표시되는 소스 파일이 저장된 폴더\n",
    "# '..' => 현재 화면에 표시되는 소스 파일이 저장된 폴더의 한 단계 상위 폴더\n",
    "# .\\\\data\\\\data.txt => 상대 경로\n",
    "# ./data/data.txt"
   ]
  },
  {
   "cell_type": "code",
   "execution_count": 7,
   "id": "a972de8b",
   "metadata": {},
   "outputs": [],
   "source": [
    "file = open('./data/data2.txt', 'w')\n",
    "for i in range(10):\n",
    "    file.write('꺄아~~~~~~~~~~' + '\\n')\n",
    "file.close()"
   ]
  },
  {
   "cell_type": "code",
   "execution_count": null,
   "id": "e94fba0f",
   "metadata": {},
   "outputs": [],
   "source": []
  },
  {
   "cell_type": "code",
   "execution_count": null,
   "id": "aab12bb9",
   "metadata": {},
   "outputs": [],
   "source": []
  },
  {
   "cell_type": "code",
   "execution_count": null,
   "id": "3a70586e",
   "metadata": {},
   "outputs": [],
   "source": []
  },
  {
   "cell_type": "code",
   "execution_count": null,
   "id": "bcea1093",
   "metadata": {},
   "outputs": [],
   "source": []
  }
 ],
 "metadata": {
  "kernelspec": {
   "display_name": "Python 3",
   "language": "python",
   "name": "python3"
  },
  "language_info": {
   "codemirror_mode": {
    "name": "ipython",
    "version": 3
   },
   "file_extension": ".py",
   "mimetype": "text/x-python",
   "name": "python",
   "nbconvert_exporter": "python",
   "pygments_lexer": "ipython3",
   "version": "3.6.8"
  }
 },
 "nbformat": 4,
 "nbformat_minor": 5
}
