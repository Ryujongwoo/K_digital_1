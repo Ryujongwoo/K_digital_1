{
 "cells": [
  {
   "cell_type": "markdown",
   "id": "0b6bcef7",
   "metadata": {},
   "source": [
    "선택정렬의 반복 알고리즘을 이용한 석차 계산"
   ]
  },
  {
   "cell_type": "markdown",
   "id": "c9764987",
   "metadata": {},
   "source": [
    "<img src=\"./images/ranking.png\" width=\"1100\" align=\"left\"/>"
   ]
  },
  {
   "cell_type": "code",
   "execution_count": 6,
   "id": "919a88a4",
   "metadata": {},
   "outputs": [
    {
     "name": "stdout",
     "output_type": "stream",
     "text": [
      " 70점은 1등 입니다.\n",
      "100점은 4등 입니다.\n",
      " 80점은 2등 입니다.\n",
      "100점은 4등 입니다.\n",
      " 90점은 3등 입니다.\n"
     ]
    }
   ],
   "source": [
    "score = [70, 100, 80, 100, 90]\n",
    "rank = [1 for i in range(len(score))]\n",
    "# print(rank)\n",
    "\n",
    "for i in range(len(score) - 1):\n",
    "    for j in range(i + 1, len(score)):\n",
    "        # i번째 점수가 크면 j번째 석차를 1증가시키고 j번째 점수가 크면 i번째 석차를 1증가시킨다.\n",
    "        # 부등호 방향을 모두 반대로 변경하면 오름차순(작은 점수가 1등) 석차가 계산된다.\n",
    "        if score[i] < score[j]:\n",
    "            rank[j] += 1\n",
    "        elif score[i] > score[j]:\n",
    "            rank[i] += 1\n",
    "        # ===== if\n",
    "    # ===== for j\n",
    "# ===== for i\n",
    "\n",
    "for i in range(len(score)):\n",
    "    print('{:3d}점은 {}등 입니다.'.format(score[i], rank[i]))"
   ]
  },
  {
   "cell_type": "code",
   "execution_count": null,
   "id": "e7dce8c9",
   "metadata": {},
   "outputs": [],
   "source": []
  },
  {
   "cell_type": "code",
   "execution_count": null,
   "id": "6d0f5013",
   "metadata": {},
   "outputs": [],
   "source": []
  },
  {
   "cell_type": "code",
   "execution_count": null,
   "id": "a5ec0da5",
   "metadata": {},
   "outputs": [],
   "source": []
  },
  {
   "cell_type": "code",
   "execution_count": null,
   "id": "fc5b0c9c",
   "metadata": {},
   "outputs": [],
   "source": []
  },
  {
   "cell_type": "code",
   "execution_count": null,
   "id": "f60950da",
   "metadata": {},
   "outputs": [],
   "source": []
  },
  {
   "cell_type": "code",
   "execution_count": null,
   "id": "b0d47034",
   "metadata": {},
   "outputs": [],
   "source": []
  },
  {
   "cell_type": "code",
   "execution_count": null,
   "id": "d37213bd",
   "metadata": {},
   "outputs": [],
   "source": []
  },
  {
   "cell_type": "code",
   "execution_count": null,
   "id": "d7878039",
   "metadata": {},
   "outputs": [],
   "source": []
  }
 ],
 "metadata": {
  "kernelspec": {
   "display_name": "Python 3",
   "language": "python",
   "name": "python3"
  },
  "language_info": {
   "codemirror_mode": {
    "name": "ipython",
    "version": 3
   },
   "file_extension": ".py",
   "mimetype": "text/x-python",
   "name": "python",
   "nbconvert_exporter": "python",
   "pygments_lexer": "ipython3",
   "version": "3.6.8"
  }
 },
 "nbformat": 4,
 "nbformat_minor": 5
}
