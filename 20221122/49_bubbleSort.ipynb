{
 "cells": [
  {
   "cell_type": "markdown",
   "id": "b69d88d1",
   "metadata": {},
   "source": [
    "# bubble sort(교환법)\n",
    "선택 정렬 => 특정 위치(i)의 데이터를 선택해서 나머지(j) 데이터와 비교하며 정렬한다.  \n",
    "버블 정렬 => 인접한 데이터(j, j + 1)를 비교하며 정렬한다.  \n",
    "정렬할 데이터가 n개일 경우 회전수는 n - 1번이 된다. => 데이터가 5개면 회전수는 4번이다."
   ]
  },
  {
   "cell_type": "markdown",
   "id": "0bff65b7",
   "metadata": {},
   "source": [
    "<img src=\"./images/bubbleSort.png\" width=\"1000\" align=\"left\"/>"
   ]
  },
  {
   "cell_type": "markdown",
   "id": "74050a25",
   "metadata": {},
   "source": [
    "<img src=\"./images/bubbleSort2.png\" width=\"1000\" align=\"left\"/>"
   ]
  },
  {
   "cell_type": "markdown",
   "id": "4f17c895",
   "metadata": {},
   "source": [
    "<img src=\"./images/bubbleSort3.png\" width=\"1000\" align=\"left\"/>"
   ]
  },
  {
   "cell_type": "markdown",
   "id": "0f4a7ef0",
   "metadata": {},
   "source": [
    "<img src=\"./images/bubbleSort4.png\" width=\"450\" align=\"left\"/>"
   ]
  },
  {
   "cell_type": "code",
   "execution_count": 3,
   "id": "3c475b5d",
   "metadata": {},
   "outputs": [
    {
     "name": "stdout",
     "output_type": "stream",
     "text": [
      "[i = 0, j = 0] [i = 0, j = 1] [i = 0, j = 2] [i = 0, j = 3] \n",
      "[i = 1, j = 0] [i = 1, j = 1] [i = 1, j = 2] \n",
      "[i = 2, j = 0] [i = 2, j = 1] \n",
      "[i = 3, j = 0] \n"
     ]
    }
   ],
   "source": [
    "n = 5\n",
    "for i in range(n - 1): # 회전수\n",
    "    for j in range(n - 1 - i): # 데이터를 비교하기 위해서 선택하는 위치\n",
    "        print('[i = {}, j = {}]'.format(i, j), end=' ')\n",
    "    print()"
   ]
  },
  {
   "cell_type": "code",
   "execution_count": 9,
   "id": "472b32d3",
   "metadata": {},
   "outputs": [
    {
     "name": "stdout",
     "output_type": "stream",
     "text": [
      "1 회전 결과: [1, 3, 4, 8, 9]\n",
      "2 회전 결과: [1, 3, 4, 8, 9]\n",
      "3 회전 결과: [1, 3, 4, 8, 9]\n",
      "4 회전 결과: [1, 3, 4, 8, 9]\n"
     ]
    }
   ],
   "source": [
    "# data = [8, 3, 4, 9, 1]\n",
    "data = [9, 1, 3, 4, 8]\n",
    "for i in range(len(data) - 1):\n",
    "    for j in range(len(data) - 1 - i):\n",
    "        # 오름차순 정렬 => 앞(j번째)의 데이터가 뒤(j + 1번째)의 데이터보다 크면 두 기억장소의 데이터를 교환한다.\n",
    "        # 부등호를 '>'에서 '<'로 변경하면 내림차순으로 정렬된다.\n",
    "        if data[j] > data[j + 1]:\n",
    "            data[j], data[j + 1] = data[j + 1], data[j]\n",
    "        # ===== if\n",
    "    # ===== for j => 회전 종료\n",
    "    print('{} 회전 결과: {}'.format(i + 1, data))\n",
    "# ===== for i => 정렬 종료\n",
    "# print('정렬 결과: {}'.format(data))"
   ]
  },
  {
   "cell_type": "code",
   "execution_count": null,
   "id": "f965ad4a",
   "metadata": {},
   "outputs": [],
   "source": []
  },
  {
   "cell_type": "code",
   "execution_count": null,
   "id": "067af5a8",
   "metadata": {},
   "outputs": [],
   "source": []
  },
  {
   "cell_type": "code",
   "execution_count": null,
   "id": "21d3b20b",
   "metadata": {},
   "outputs": [],
   "source": []
  }
 ],
 "metadata": {
  "kernelspec": {
   "display_name": "Python 3",
   "language": "python",
   "name": "python3"
  },
  "language_info": {
   "codemirror_mode": {
    "name": "ipython",
    "version": 3
   },
   "file_extension": ".py",
   "mimetype": "text/x-python",
   "name": "python",
   "nbconvert_exporter": "python",
   "pygments_lexer": "ipython3",
   "version": "3.6.8"
  }
 },
 "nbformat": 4,
 "nbformat_minor": 5
}
