{
 "cells": [
  {
   "cell_type": "markdown",
   "id": "5e7b3815",
   "metadata": {},
   "source": [
    "# 2차원 리스트"
   ]
  },
  {
   "cell_type": "markdown",
   "id": "b527f42c",
   "metadata": {},
   "source": [
    "<img src=\"./images/2Dim.png\" width=\"1200\" align=\"left\"/>"
   ]
  },
  {
   "cell_type": "code",
   "execution_count": 1,
   "id": "89e9ed8f",
   "metadata": {},
   "outputs": [
    {
     "name": "stdout",
     "output_type": "stream",
     "text": [
      "[[1, 2, 3], [4, 5, 6]]\n"
     ]
    }
   ],
   "source": [
    "a = [[1, 2, 3], [4, 5, 6]]\n",
    "print(a)"
   ]
  },
  {
   "cell_type": "code",
   "execution_count": 6,
   "id": "e8a02dab",
   "metadata": {},
   "outputs": [
    {
     "name": "stdout",
     "output_type": "stream",
     "text": [
      "[[0, 0, 0, 0, 0], [0, 0, 0, 0, 0], [0, 0, 0, 0, 0], [0, 0, 0, 0, 0]]\n"
     ]
    }
   ],
   "source": [
    "# 리스트이름 = [[0] * 열개수 for i in range(행개수)]\n",
    "data = [[0] * 5 for i in range(4)]\n",
    "print(data)"
   ]
  },
  {
   "cell_type": "markdown",
   "id": "af7dba6d",
   "metadata": {},
   "source": [
    "# 외부 라이브러리를 커맨드(까만)창이 아니라 jupyter notebook에서 설치하기\n",
    "!pip install 라이브러리이름 => '!'를 붙여서 pip install을 실행하면 된다."
   ]
  },
  {
   "cell_type": "code",
   "execution_count": 8,
   "id": "f825fa47",
   "metadata": {},
   "outputs": [],
   "source": [
    "# !pip install numpy\n",
    "import numpy as np"
   ]
  },
  {
   "cell_type": "code",
   "execution_count": 9,
   "id": "2ff02d41",
   "metadata": {},
   "outputs": [
    {
     "name": "stdout",
     "output_type": "stream",
     "text": [
      "[[0 0 0 0 0]\n",
      " [0 0 0 0 0]\n",
      " [0 0 0 0 0]\n",
      " [0 0 0 0 0]]\n"
     ]
    }
   ],
   "source": [
    "npArray = np.array(data)\n",
    "print(npArray)"
   ]
  },
  {
   "cell_type": "code",
   "execution_count": 14,
   "id": "52af6912",
   "metadata": {},
   "outputs": [
    {
     "name": "stdout",
     "output_type": "stream",
     "text": [
      "4\n",
      "5\n",
      "(4, 5)\n",
      "4\n",
      "5\n"
     ]
    }
   ],
   "source": [
    "print(len(data)) # 행의 개수\n",
    "print(len(data[0])) # 열의 개수\n",
    "# print(data.shape) # 에러\n",
    "print(npArray.shape)\n",
    "print(npArray.shape[0])\n",
    "print(npArray.shape[1])"
   ]
  },
  {
   "cell_type": "code",
   "execution_count": 16,
   "id": "424a9c9a",
   "metadata": {},
   "outputs": [
    {
     "name": "stdout",
     "output_type": "stream",
     "text": [
      "[0, 0, 0, 0, 0]\n",
      "[0, 0, 0, 0, 0]\n",
      "[0, 0, 0, 0, 0]\n",
      "[0, 0, 0, 0, 0]\n"
     ]
    }
   ],
   "source": [
    "for i in range(len(data)):\n",
    "    print(data[i])"
   ]
  },
  {
   "cell_type": "code",
   "execution_count": 15,
   "id": "968317fb",
   "metadata": {},
   "outputs": [
    {
     "name": "stdout",
     "output_type": "stream",
     "text": [
      "0 0 0 0 0 \n",
      "0 0 0 0 0 \n",
      "0 0 0 0 0 \n",
      "0 0 0 0 0 \n"
     ]
    }
   ],
   "source": [
    "for i in range(len(data)):\n",
    "    for j in range(len(data[0])):\n",
    "        print(data[i][j], end=' ')\n",
    "    print()"
   ]
  },
  {
   "cell_type": "markdown",
   "id": "89c6e8d0",
   "metadata": {},
   "source": [
    "<img src=\"./images/2Dim_Zigzag.png\" width=\"400\" align=\"left\"/>"
   ]
  },
  {
   "cell_type": "code",
   "execution_count": 19,
   "id": "14d9a2d1",
   "metadata": {},
   "outputs": [
    {
     "name": "stdout",
     "output_type": "stream",
     "text": [
      "2차원 리스트를 만들려는 행과 열의 개수: 5 15\n",
      "  1    2    3    4    5    6    7    8    9   10   11   12   13   14   15  \n",
      " 30   29   28   27   26   25   24   23   22   21   20   19   18   17   16  \n",
      " 31   32   33   34   35   36   37   38   39   40   41   42   43   44   45  \n",
      " 60   59   58   57   56   55   54   53   52   51   50   49   48   47   46  \n",
      " 61   62   63   64   65   66   67   68   69   70   71   72   73   74   75  \n"
     ]
    }
   ],
   "source": [
    "row, col = map(int, input('2차원 리스트를 만들려는 행과 열의 개수: ').split())\n",
    "data = [[0] * col for i in range(row)]\n",
    "n = 0 # 리스트에 1씩 증가하며 채워질 숫자가 기억되는 변수\n",
    "\n",
    "for i in range(len(data)): # 행\n",
    "    # 짝수행은 숫자가 왼쪽에서 오른쪽으로 채워지고 홀수행은 숫자가 오른쪽에서 왼쪽으로 채워진다.\n",
    "    # 짝수행인가 홀수행인가 판단한다.\n",
    "    if i % 2 == 0: # 짝수인가?\n",
    "        # 짝수행은 왼쪽에서 오른쪽으로 숫자를 채운다. j => 0, 1, 2, 3, 4\n",
    "        for j in range(col):\n",
    "            n += 1\n",
    "            data[i][j] = n\n",
    "        # ===== for j\n",
    "    else:\n",
    "        # 홀수행은 오른쪽에서 왼쪽으로 숫자를 채운다. j => 4, 3, 2, 1, 0\n",
    "        for j in range(col - 1, -1, -1):\n",
    "            n += 1\n",
    "            data[i][j] = n\n",
    "        # ===== for j\n",
    "    # ===== if\n",
    "# ===== for i\n",
    "\n",
    "for i in range(len(data)):\n",
    "    for j in range(len(data[0])):\n",
    "        print('{:3d} '.format(data[i][j]), end=' ')\n",
    "    print()"
   ]
  },
  {
   "cell_type": "code",
   "execution_count": 22,
   "id": "9ed0dcda",
   "metadata": {},
   "outputs": [
    {
     "name": "stdout",
     "output_type": "stream",
     "text": [
      "2차원 리스트를 만들려는 행과 열의 개수: 5 15\n",
      "  1    2    3    4    5    6    7    8    9   10   11   12   13   14   15  \n",
      " 30   29   28   27   26   25   24   23   22   21   20   19   18   17   16  \n",
      " 31   32   33   34   35   36   37   38   39   40   41   42   43   44   45  \n",
      " 60   59   58   57   56   55   54   53   52   51   50   49   48   47   46  \n",
      " 61   62   63   64   65   66   67   68   69   70   71   72   73   74   75  \n"
     ]
    }
   ],
   "source": [
    "row, col = map(int, input('2차원 리스트를 만들려는 행과 열의 개수: ').split())\n",
    "data = [[0] * col for i in range(row)]\n",
    "n = 0\n",
    "start = 0 # 2차원 리스트에 숫자가 채워지기 시작하는 열 인덱스\n",
    "end = col - 1 # 2차원 리스트에 숫자가 채워지기 마지막 열 인덱스\n",
    "# 왼쪽에서 오른쪽으로, 오른쪽에서 왼쪽으로 숫자가 채워지는 방향을 제어하는 변수 => start 부터 end 까지 증가치로 사용할 변수\n",
    "sw = 1\n",
    "\n",
    "for i in range(row):\n",
    "    # i = 0, sw = 1, j = range(0, 5, 1) => 0, 1, 2, 3, 4\n",
    "    # i = 1, sw = -1, j = range(4, -1, -1) => 4, 3, 2, 1, 0\n",
    "    # i = 2, sw = 1, j = range(0, 5, 1) => 0, 1, 2, 3, 4\n",
    "    # i = 3, sw = -1, j = range(4, -1, -1) => 4, 3, 2, 1, 0\n",
    "    for j in range(start, end + sw, sw):\n",
    "        n += 1\n",
    "        data[i][j] = n\n",
    "    # ===== for j\n",
    "    start, end = end, start\n",
    "    sw *= -1\n",
    "# ===== for i\n",
    "\n",
    "for i in range(len(data)):\n",
    "    for j in range(len(data[0])):\n",
    "        print('{:3d} '.format(data[i][j]), end=' ')\n",
    "    print()"
   ]
  },
  {
   "cell_type": "code",
   "execution_count": 23,
   "id": "94435701",
   "metadata": {},
   "outputs": [
    {
     "name": "stdout",
     "output_type": "stream",
     "text": [
      "2차원 리스트를 만들려는 행과 열의 개수: 5 15\n",
      "  1    2    3    4    5    6    7    8    9   10   11   12   13   14   15  \n",
      " 30   29   28   27   26   25   24   23   22   21   20   19   18   17   16  \n",
      " 31   32   33   34   35   36   37   38   39   40   41   42   43   44   45  \n",
      " 60   59   58   57   56   55   54   53   52   51   50   49   48   47   46  \n",
      " 61   62   63   64   65   66   67   68   69   70   71   72   73   74   75  \n"
     ]
    }
   ],
   "source": [
    "row, col = map(int, input('2차원 리스트를 만들려는 행과 열의 개수: ').split())\n",
    "data = [[0] * col for i in range(row)]\n",
    "n = 0\n",
    "start = [i for i in range(col)] # 왼쪽부터 오른쪽으로 진행하는 열 인덱스를 기억하는 리스트를 선언한다.\n",
    "end = [i for i in range(col - 1, -1, -1)] # 오른쪽부터 왼쪽으로 진행하는 열 인덱스를 기억하는 리스트를 선언한다.\n",
    "\n",
    "for i in range(row):\n",
    "    for j in start:\n",
    "        n += 1\n",
    "        data[i][j] = n\n",
    "    # ===== for j\n",
    "    start, end = end, start\n",
    "# ===== for i\n",
    "\n",
    "for i in range(len(data)):\n",
    "    for j in range(len(data[0])):\n",
    "        print('{:3d} '.format(data[i][j]), end=' ')\n",
    "    print()"
   ]
  },
  {
   "cell_type": "code",
   "execution_count": null,
   "id": "f5b05ae7",
   "metadata": {},
   "outputs": [],
   "source": []
  },
  {
   "cell_type": "code",
   "execution_count": null,
   "id": "bb329a04",
   "metadata": {},
   "outputs": [],
   "source": []
  },
  {
   "cell_type": "code",
   "execution_count": null,
   "id": "0885dbce",
   "metadata": {},
   "outputs": [],
   "source": []
  }
 ],
 "metadata": {
  "kernelspec": {
   "display_name": "Python 3",
   "language": "python",
   "name": "python3"
  },
  "language_info": {
   "codemirror_mode": {
    "name": "ipython",
    "version": 3
   },
   "file_extension": ".py",
   "mimetype": "text/x-python",
   "name": "python",
   "nbconvert_exporter": "python",
   "pygments_lexer": "ipython3",
   "version": "3.6.8"
  }
 },
 "nbformat": 4,
 "nbformat_minor": 5
}
