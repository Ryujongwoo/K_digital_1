{
 "cells": [
  {
   "cell_type": "markdown",
   "id": "93e47dec",
   "metadata": {},
   "source": [
    "# 모듈의 특정 함수만 import 해서 사용하기\n",
    "특정 모듈의 특정 함수만 import 해서 사용하려면 아래와 같이 import 시키면 된다.  \n",
    "from 모듈이름 import 함수이름 => from 다음에 지정한 모듈의 모든 함수를 import 시키지 않고 지정한 함수만 import 시킨다.  \n",
    "필요한 함수만 import 시키면 함수가 포함된 모듈 이름을 함수 앞에 붙이지 않고 마치 현재 파일에서 작성한 함수를 사용하는 것 처럼 함수 이름만 사용하면 된다."
   ]
  },
  {
   "cell_type": "code",
   "execution_count": 3,
   "id": "ef7e4391",
   "metadata": {},
   "outputs": [],
   "source": [
    "# calendarModule의 모든 함수가 import 된다.\n",
    "# from calendarModule import weekDay # calendarModule이라는 모듈로부터 weekDay() 함수만 import 시킨다.\n",
    "# from calendarModule import lastDay # calendarModule이라는 모듈로부터 lastDay() 함수만 import 시킨다.\n",
    "\n",
    "# weekDay() 함수와 lastDay() 함수는 모두 calendarModule의 함수이므로 아래와 같이 줄여서 사용할 수 있다.\n",
    "# from calendarModule import weekDay, lastDay\n",
    "\n",
    "# 아래와 같이 코딩하면 calendarModule의 모든 함수를 import 시켜서 사용할 수 있다.\n",
    "from calendarModule import *"
   ]
  },
  {
   "cell_type": "code",
   "execution_count": 4,
   "id": "58fd2533",
   "metadata": {},
   "outputs": [
    {
     "name": "stdout",
     "output_type": "stream",
     "text": [
      "달력을 출력할 년과 월을 입력하세요: 2022 11\n",
      "============================\n",
      "         2022년11월\n",
      "============================\n",
      " 일  월  화  수  목  금  토 \n",
      "============================\n",
      "          1   2   3   4   5 \n",
      "  6   7   8   9  10  11  12 \n",
      " 13  14  15  16  17  18  19 \n",
      " 20  21  22  23  24  25  26 \n",
      " 27  28  29  30 \n",
      "============================\n"
     ]
    }
   ],
   "source": [
    "year, month = map(int, input('달력을 출력할 년과 월을 입력하세요: ').split())\n",
    "print('=' * 28)\n",
    "print('         {:4d}년{:2d}월'.format(year, month))\n",
    "print('=' * 28)\n",
    "print(' 일  월  화  수  목  금  토 ')\n",
    "print('=' * 28)\n",
    "\n",
    "for i in range(weekDay(year, month, 1)):\n",
    "    print('    ', end='')\n",
    "    \n",
    "for i in range(1, lastDay(year, month) + 1):\n",
    "    print(' {:2d} '.format(i), end='')\n",
    "    if weekDay(year, month, i) == 6 and i != lastDay(year, month):\n",
    "        print()\n",
    "print('\\n' + '=' * 28)"
   ]
  },
  {
   "cell_type": "code",
   "execution_count": null,
   "id": "3b850cd6",
   "metadata": {},
   "outputs": [],
   "source": []
  }
 ],
 "metadata": {
  "kernelspec": {
   "display_name": "Python 3",
   "language": "python",
   "name": "python3"
  },
  "language_info": {
   "codemirror_mode": {
    "name": "ipython",
    "version": 3
   },
   "file_extension": ".py",
   "mimetype": "text/x-python",
   "name": "python",
   "nbconvert_exporter": "python",
   "pygments_lexer": "ipython3",
   "version": "3.6.8"
  }
 },
 "nbformat": 4,
 "nbformat_minor": 5
}
