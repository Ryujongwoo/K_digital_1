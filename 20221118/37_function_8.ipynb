{
 "cells": [
  {
   "cell_type": "code",
   "execution_count": 1,
   "id": "2c7985c8",
   "metadata": {},
   "outputs": [],
   "source": [
    "def func9(var1):\n",
    "    var1 += 1\n",
    "    print('func9() 함수 내부의 변수 var1: {}'.format(var1))"
   ]
  },
  {
   "cell_type": "code",
   "execution_count": 2,
   "id": "a0bf7c62",
   "metadata": {},
   "outputs": [
    {
     "name": "stdout",
     "output_type": "stream",
     "text": [
      "func9() 함수 내부의 변수 var1: 2\n",
      "func9() 함수 외부의 변수 var1: 1\n"
     ]
    }
   ],
   "source": [
    "var1 = 1\n",
    "func9(var1)\n",
    "print('func9() 함수 외부의 변수 var1: {}'.format(var1))"
   ]
  },
  {
   "cell_type": "markdown",
   "id": "e74623a7",
   "metadata": {},
   "source": [
    "global 예약어를 사용하면 함수 내부에서 함수 외부의 변수에 저장된 데이터를 변경할 수 있다. => 함수 내부에서 함수 외부의 변수를 사용할 수 있다."
   ]
  },
  {
   "cell_type": "code",
   "execution_count": 3,
   "id": "55f295e9",
   "metadata": {},
   "outputs": [],
   "source": [
    "def func10():\n",
    "    # c언어의 call by reference(참조에 의한 호출) 방식처럼 사용된다. => 부작용(side effect) 현상이 발생될 수 있으니\n",
    "    # 주의해서 사용해야 한다.\n",
    "    # global로 사용할 변수는 함수의 인수로 선언하면 안된다. => 함수의 인수로 선언하면 함수 내부에서 독립적인 메모리를\n",
    "    # 할당받는 변수가 선언된다.\n",
    "    # global로 선언된 변수는 함수 내부에서 값을 변경시키면 함수 외부에 선언된 값도 같이 변경된다.\n",
    "    global var2 # 함수 외부에서 선언한 var2라는 변수를 함수 내부에서 사용하겠다고 선언한다.\n",
    "    var2 += 1\n",
    "    print('func10() 함수 내부의 변수 var2: {}'.format(var2))"
   ]
  },
  {
   "cell_type": "code",
   "execution_count": 4,
   "id": "9d7ef26e",
   "metadata": {},
   "outputs": [
    {
     "name": "stdout",
     "output_type": "stream",
     "text": [
      "func10() 함수 내부의 변수 var2: 1000\n",
      "func10() 함수 외부의 변수 var2: 1000\n"
     ]
    }
   ],
   "source": [
    "var2 = 999\n",
    "func10()\n",
    "print('func10() 함수 외부의 변수 var2: {}'.format(var2))"
   ]
  },
  {
   "cell_type": "code",
   "execution_count": null,
   "id": "61787018",
   "metadata": {},
   "outputs": [],
   "source": []
  },
  {
   "cell_type": "code",
   "execution_count": null,
   "id": "5500fe72",
   "metadata": {},
   "outputs": [],
   "source": []
  },
  {
   "cell_type": "code",
   "execution_count": null,
   "id": "3102ecae",
   "metadata": {},
   "outputs": [],
   "source": []
  },
  {
   "cell_type": "code",
   "execution_count": null,
   "id": "4c8e2226",
   "metadata": {},
   "outputs": [],
   "source": []
  },
  {
   "cell_type": "code",
   "execution_count": null,
   "id": "53b8ae24",
   "metadata": {},
   "outputs": [],
   "source": []
  },
  {
   "cell_type": "code",
   "execution_count": null,
   "id": "30b6eef0",
   "metadata": {},
   "outputs": [],
   "source": []
  }
 ],
 "metadata": {
  "kernelspec": {
   "display_name": "Python 3",
   "language": "python",
   "name": "python3"
  },
  "language_info": {
   "codemirror_mode": {
    "name": "ipython",
    "version": 3
   },
   "file_extension": ".py",
   "mimetype": "text/x-python",
   "name": "python",
   "nbconvert_exporter": "python",
   "pygments_lexer": "ipython3",
   "version": "3.6.8"
  }
 },
 "nbformat": 4,
 "nbformat_minor": 5
}
