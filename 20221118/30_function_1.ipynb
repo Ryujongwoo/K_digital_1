{
 "cells": [
  {
   "cell_type": "markdown",
   "id": "bb5a6cc3",
   "metadata": {},
   "source": [
    "# 함수의 구조\n",
    "def 함수이름([인수, ...]): # 인수는 생략할 수 있다.  \n",
    "&nbsp;&nbsp;&nbsp;&nbsp;함수가 실행할 문장  \n",
    "&nbsp;&nbsp;&nbsp;&nbsp;...  \n",
    "&nbsp;&nbsp;&nbsp;&nbsp;[return 함수의 결과 값] # return도 생략할 수 있다. 생략하면 None이 리턴된다."
   ]
  },
  {
   "cell_type": "markdown",
   "id": "4e0e3dc8",
   "metadata": {},
   "source": [
    "# 함수의 실행 순서\n",
    "프로그램에서 함수가 호출되면 호출된 함수로 제어가 넘어간다. => 실행 후 복귀 주소는 스택에 저장된다.  \n",
    "호출된 함수가 정의된 기능을 모두 실행한 후 함수 종료되거나 중간에 return을 만나면 함수가 호출된곳으로 돌아간다. 이 때, 스택에 저장된 복귀 주소를 참조한다. => 가장 마지막에 호출된 함수가 가장 먼저 종료되야 한다.  \n",
    "return이 있으면 return 뒤의 값을 가지고 함수를 호출한곳으로 돌아가고 return이 없거나 return만 적으면 None을 가지고 돌아간다."
   ]
  },
  {
   "cell_type": "code",
   "execution_count": 5,
   "id": "20684e32",
   "metadata": {},
   "outputs": [],
   "source": [
    "# 가장 일반적으로 사용되는 함수의 모양\n",
    "# a, b 2개의 데이터를 인수로 넘겨받아 덧셈을 실행한 결과를 리턴하는 함수\n",
    "def add(a, b): # 호출당하는 함수의 인수를 가인수라 부른다.\n",
    "    print('add(a, b) 함수가 실행됩니다.')\n",
    "    result = a + b\n",
    "    a = 999 # 가인수 값 변경\n",
    "    print(f'가인수 a: {a}')\n",
    "    return result"
   ]
  },
  {
   "cell_type": "markdown",
   "id": "2f37dde6",
   "metadata": {},
   "source": [
    "실인수와 가인수의 이름은 반드시 같아야 할 필요는 없지만 인수의 개수는 반드시 같아야 한다.  \n",
    "실인수와 가인수는 서로 독립된 메모리 공간을 사용하기 때문에 가인수 값이 변경되더라고 실인수 값은 변경되지 않는다."
   ]
  },
  {
   "cell_type": "code",
   "execution_count": 7,
   "id": "c8a1cfac",
   "metadata": {},
   "outputs": [
    {
     "name": "stdout",
     "output_type": "stream",
     "text": [
      "숫자 2개를 입력하세요: 5 8\n",
      "add(a, b) 함수가 실행됩니다.\n",
      "가인수 a: 999\n",
      "함수 실행 결과: 13\n",
      "실인수 a: 5\n"
     ]
    }
   ],
   "source": [
    "a, b = map(int, input('숫자 2개를 입력하세요: ').split())\n",
    "print('함수 실행 결과: {}'.format(add(a, b))) # 함수를 호출하는 부분의 인수를 실인수라 부른다.\n",
    "print(f'실인수 a: {a}')"
   ]
  },
  {
   "cell_type": "code",
   "execution_count": null,
   "id": "6fbcd6d1",
   "metadata": {},
   "outputs": [],
   "source": []
  },
  {
   "cell_type": "code",
   "execution_count": null,
   "id": "4d2eee61",
   "metadata": {},
   "outputs": [],
   "source": []
  },
  {
   "cell_type": "code",
   "execution_count": null,
   "id": "dfcd201f",
   "metadata": {},
   "outputs": [],
   "source": []
  },
  {
   "cell_type": "code",
   "execution_count": null,
   "id": "0d90e8f0",
   "metadata": {},
   "outputs": [],
   "source": []
  },
  {
   "cell_type": "code",
   "execution_count": null,
   "id": "4919cb78",
   "metadata": {},
   "outputs": [],
   "source": []
  }
 ],
 "metadata": {
  "kernelspec": {
   "display_name": "Python 3",
   "language": "python",
   "name": "python3"
  },
  "language_info": {
   "codemirror_mode": {
    "name": "ipython",
    "version": 3
   },
   "file_extension": ".py",
   "mimetype": "text/x-python",
   "name": "python",
   "nbconvert_exporter": "python",
   "pygments_lexer": "ipython3",
   "version": "3.6.8"
  }
 },
 "nbformat": 4,
 "nbformat_minor": 5
}
