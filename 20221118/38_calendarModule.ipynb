{
 "cells": [
  {
   "cell_type": "markdown",
   "id": "63689d58",
   "metadata": {},
   "source": [
    "인수로 년도를 넘겨받아 윤년, 평년을 판단해 윤년이면 True, 평년이면 False를 리턴하는 isLeapYear(year) 함수를 만든다."
   ]
  },
  {
   "cell_type": "code",
   "execution_count": 1,
   "id": "65aeb064",
   "metadata": {},
   "outputs": [],
   "source": [
    "def isLeapYear(year):\n",
    "    # 년도가 4로 나눠 떨어지고 100으로 나눠 떨어지지 않거나 400으로 나눠 떨어지면 윤년, 그렇치 않으면 평년\n",
    "    return year % 4 == 0 and year % 100 != 0 or year % 400 == 0"
   ]
  },
  {
   "cell_type": "markdown",
   "id": "d2a2aa52",
   "metadata": {},
   "source": [
    "인수로 년, 월을 넘겨받아 그 달의 마지막 날짜를 리턴하는 lastDay(year, month) 함수를 만든다."
   ]
  },
  {
   "cell_type": "code",
   "execution_count": 2,
   "id": "562cb1ff",
   "metadata": {},
   "outputs": [],
   "source": [
    "def lastDay(year, month):\n",
    "    # 각 달의 마지막 날짜를 기억하는 리스트를 만든다.\n",
    "    m = [31, 0, 31, 30, 31, 30, 31, 31, 30, 31, 30, 31]\n",
    "    # 인수로 넘겨받은 년도에 해당되는 2월의 마지막 날짜를 확정한다.\n",
    "    m[1] = 29 if isLeapYear(year) else 28\n",
    "    # 마지막 날짜를 리턴시킨다.\n",
    "    return m[month - 1]"
   ]
  },
  {
   "cell_type": "markdown",
   "id": "49dfb341",
   "metadata": {},
   "source": [
    "인수로 년, 월, 일을 넘겨받아 1년 1월 1일부터 지나온 날짜의 합계를 리턴하는 totalDay(year, month, day) 함수를 만든다."
   ]
  },
  {
   "cell_type": "code",
   "execution_count": 3,
   "id": "32f72aaf",
   "metadata": {},
   "outputs": [],
   "source": [
    "def totalDay(year, month, day):\n",
    "    # 인수로 넘어온 년도가 다 지나가지 않았으므로 1년 1월 1일부터 전년도 12월 31일까지 지난 날짜를 계산한다.\n",
    "    total = (year - 1) * 365 + (year - 1) // 4 - (year - 1) // 100 + (year - 1) // 400\n",
    "    # 전년도 12월 31일까지 지난 날짜에 전달까지 지난 날짜를 더한다.\n",
    "    for i in range(1, month):\n",
    "        total += lastDay(year, i)\n",
    "    # 전달까지 지난 날짜에 일을 더해 리턴시킨다.\n",
    "    return total + day"
   ]
  },
  {
   "cell_type": "markdown",
   "id": "4430c171",
   "metadata": {},
   "source": [
    "인수로 년, 월, 일을 넘겨받아 요일을 계산해서 숫자로 리턴하는 weekDay(year, month, day) 함수를 만든다.  \n",
    "일요일(0), 월요일(1), 화요일(2), 수요일(3), 목요일(4), 금요일(5), 토요일(6)"
   ]
  },
  {
   "cell_type": "code",
   "execution_count": 4,
   "id": "eae6a631",
   "metadata": {},
   "outputs": [],
   "source": [
    "def weekDay(year, month, day):\n",
    "    return totalDay(year, month, day) % 7"
   ]
  },
  {
   "cell_type": "code",
   "execution_count": 5,
   "id": "a8685b99",
   "metadata": {},
   "outputs": [
    {
     "name": "stdout",
     "output_type": "stream",
     "text": [
      "False\n",
      "30\n",
      "738477\n",
      "5\n"
     ]
    }
   ],
   "source": [
    "print(isLeapYear(2022))\n",
    "print(lastDay(2022, 11))\n",
    "print(totalDay(2022, 11, 18))\n",
    "print(weekDay(2022, 11, 18))"
   ]
  },
  {
   "cell_type": "code",
   "execution_count": null,
   "id": "62e356b8",
   "metadata": {},
   "outputs": [],
   "source": []
  }
 ],
 "metadata": {
  "kernelspec": {
   "display_name": "Python 3",
   "language": "python",
   "name": "python3"
  },
  "language_info": {
   "codemirror_mode": {
    "name": "ipython",
    "version": 3
   },
   "file_extension": ".py",
   "mimetype": "text/x-python",
   "name": "python",
   "nbconvert_exporter": "python",
   "pygments_lexer": "ipython3",
   "version": "3.6.8"
  }
 },
 "nbformat": 4,
 "nbformat_minor": 5
}
