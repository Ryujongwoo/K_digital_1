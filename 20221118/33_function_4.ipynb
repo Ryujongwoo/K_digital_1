{
 "cells": [
  {
   "cell_type": "markdown",
   "id": "2c45a818",
   "metadata": {},
   "source": [
    "디폴트 인수를 사용하는 함수 => 변수이름 = 디폴트값"
   ]
  },
  {
   "cell_type": "code",
   "execution_count": 21,
   "id": "e5b927bb",
   "metadata": {},
   "outputs": [],
   "source": [
    "# 함수가 호출될 때 인수로 데이터가 넘어오면 넘어온 데이터로 함수를 실행하고 데이터가 넘어오지 않으면 디폴트로 지정한\n",
    "# 데이터로 함수를 실행한다.\n",
    "# 일반 인수와 디폴트 인수를 모두 사용할 경우 일반 인수가 인수 목록의 마지막에 위치하면 에러가 발생된다.\n",
    "# def func4(a = 8, b): # 에러\n",
    "# 함수를 선언할 때 디폴트 인수가 필요한 경우 인수 목록의 뒤쪽에 지정한다.\n",
    "# def func4(a, b = 6): # 정상\n",
    "def func4(a = 8, b = 6):\n",
    "    print('{} + {} = {}'.format(a, b, a + b))"
   ]
  },
  {
   "cell_type": "code",
   "execution_count": 22,
   "id": "0105fd41",
   "metadata": {},
   "outputs": [
    {
     "name": "stdout",
     "output_type": "stream",
     "text": [
      "1 + 2 = 3\n"
     ]
    }
   ],
   "source": [
    "func4(1, 2)"
   ]
  },
  {
   "cell_type": "code",
   "execution_count": 23,
   "id": "e2f5f9b8",
   "metadata": {},
   "outputs": [
    {
     "name": "stdout",
     "output_type": "stream",
     "text": [
      "8 + 6 = 14\n"
     ]
    }
   ],
   "source": [
    "func4()"
   ]
  },
  {
   "cell_type": "code",
   "execution_count": 24,
   "id": "3d941093",
   "metadata": {},
   "outputs": [
    {
     "name": "stdout",
     "output_type": "stream",
     "text": [
      "9 + 6 = 15\n"
     ]
    }
   ],
   "source": [
    "func4(9)"
   ]
  },
  {
   "cell_type": "code",
   "execution_count": 25,
   "id": "72ed1033",
   "metadata": {},
   "outputs": [
    {
     "name": "stdout",
     "output_type": "stream",
     "text": [
      "8 + 9 = 17\n"
     ]
    }
   ],
   "source": [
    "func4(b=9)"
   ]
  },
  {
   "cell_type": "code",
   "execution_count": 29,
   "id": "f747f486",
   "metadata": {},
   "outputs": [],
   "source": [
    "# 데이터가 넘어오면 1부터 넘어온 데이터까지 합계를 계산하고 데이터가 넘어오지 않으면 100까지 합계를 계산하는 함수\n",
    "def func5(n = 100):\n",
    "    total = 0\n",
    "    for i in range(1, n + 1):\n",
    "        total += i\n",
    "    return total"
   ]
  },
  {
   "cell_type": "code",
   "execution_count": 30,
   "id": "f6b99a85",
   "metadata": {},
   "outputs": [
    {
     "name": "stdout",
     "output_type": "stream",
     "text": [
      "55\n"
     ]
    }
   ],
   "source": [
    "print(func5(10)) # 10이 n에 넘어가서 1 ~ 10의 합계가 계산된다."
   ]
  },
  {
   "cell_type": "code",
   "execution_count": 32,
   "id": "30ef1b2a",
   "metadata": {},
   "outputs": [
    {
     "name": "stdout",
     "output_type": "stream",
     "text": [
      "5050\n"
     ]
    }
   ],
   "source": [
    "print(func5()) # n에 넘어가는 데이터가 없으므로 디폴트로 지정된 1 ~ 100의 합계가 리턴된다."
   ]
  },
  {
   "cell_type": "code",
   "execution_count": null,
   "id": "97be6c8d",
   "metadata": {},
   "outputs": [],
   "source": []
  },
  {
   "cell_type": "code",
   "execution_count": null,
   "id": "41330a7f",
   "metadata": {},
   "outputs": [],
   "source": []
  },
  {
   "cell_type": "code",
   "execution_count": null,
   "id": "4ad26892",
   "metadata": {},
   "outputs": [],
   "source": []
  }
 ],
 "metadata": {
  "kernelspec": {
   "display_name": "Python 3",
   "language": "python",
   "name": "python3"
  },
  "language_info": {
   "codemirror_mode": {
    "name": "ipython",
    "version": 3
   },
   "file_extension": ".py",
   "mimetype": "text/x-python",
   "name": "python",
   "nbconvert_exporter": "python",
   "pygments_lexer": "ipython3",
   "version": "3.6.8"
  }
 },
 "nbformat": 4,
 "nbformat_minor": 5
}
