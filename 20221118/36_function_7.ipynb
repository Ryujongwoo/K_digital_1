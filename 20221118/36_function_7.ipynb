{
 "cells": [
  {
   "cell_type": "markdown",
   "id": "f2e04d7e",
   "metadata": {},
   "source": [
    "모든 프로그래밍 언어는 함수의 실행 결과를 return 뒤에 딱 1개만 붙여서 return 시킬 수 있다. => 파이썬도 예외는 아니다."
   ]
  },
  {
   "cell_type": "code",
   "execution_count": 1,
   "id": "94e6b0ed",
   "metadata": {},
   "outputs": [],
   "source": [
    "def swap(a, b):\n",
    "    temp = a\n",
    "    a = b\n",
    "    b = temp\n",
    "    # 데이터를 ','로 구분해서 나열하면 ()로 묶지 않아도 튜플이 만들어진다.\n",
    "    # return을 ()없는 튜플로 리턴시키면 return 값이 2개 이상인 것 같은 효과를 낸다.\n",
    "    return a, b # (a, b) 형태의 튜플 1개를 리턴시킨다. => 마치 return 값이 2개인 것 처럼 보인다."
   ]
  },
  {
   "cell_type": "code",
   "execution_count": 7,
   "id": "345a565c",
   "metadata": {},
   "outputs": [
    {
     "name": "stdout",
     "output_type": "stream",
     "text": [
      "a = 3, b = 4\n",
      "a = 4, b = 3\n",
      "a = 3, b = 4\n",
      "<class 'tuple'>\n",
      "a = 4, b = 3\n"
     ]
    }
   ],
   "source": [
    "a = 3; b = 4\n",
    "print(f'a = {a}, b = {b}')\n",
    "a, b = b, a\n",
    "print(f'a = {a}, b = {b}')\n",
    "a, b = swap(a, b)\n",
    "print(f'a = {a}, b = {b}')\n",
    "result = swap(a, b)\n",
    "print(type(result))\n",
    "print(f'a = {result[0]}, b = {result[1]}')"
   ]
  },
  {
   "cell_type": "code",
   "execution_count": null,
   "id": "4b9803ae",
   "metadata": {},
   "outputs": [],
   "source": []
  }
 ],
 "metadata": {
  "kernelspec": {
   "display_name": "Python 3",
   "language": "python",
   "name": "python3"
  },
  "language_info": {
   "codemirror_mode": {
    "name": "ipython",
    "version": 3
   },
   "file_extension": ".py",
   "mimetype": "text/x-python",
   "name": "python",
   "nbconvert_exporter": "python",
   "pygments_lexer": "ipython3",
   "version": "3.6.8"
  }
 },
 "nbformat": 4,
 "nbformat_minor": 5
}
