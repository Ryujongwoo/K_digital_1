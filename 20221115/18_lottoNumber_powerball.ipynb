{
 "cells": [
  {
   "cell_type": "code",
   "execution_count": 1,
   "id": "a96bad51",
   "metadata": {},
   "outputs": [],
   "source": [
    "import random\n",
    "import time"
   ]
  },
  {
   "cell_type": "code",
   "execution_count": 5,
   "id": "ed9e531f",
   "metadata": {},
   "outputs": [
    {
     "name": "stdout",
     "output_type": "stream",
     "text": [
      "흰공:  1 26 69 63  7 빨강공:  1\n"
     ]
    }
   ],
   "source": [
    "# powerball 1 ~ 69 => 5개, 1 ~ 26 => 1개\n",
    "powerball = [i for i in range(1, 70)]\n",
    "random.shuffle(powerball)\n",
    "print('흰공: ', end='')\n",
    "for i in range(5):\n",
    "    print('{:2d}'.format(powerball[i]), end=' ')\n",
    "    time.sleep(1)\n",
    "print('빨강공: {:2d}'.format(random.randint(1, 26)))"
   ]
  }
 ],
 "metadata": {
  "kernelspec": {
   "display_name": "Python 3",
   "language": "python",
   "name": "python3"
  },
  "language_info": {
   "codemirror_mode": {
    "name": "ipython",
    "version": 3
   },
   "file_extension": ".py",
   "mimetype": "text/x-python",
   "name": "python",
   "nbconvert_exporter": "python",
   "pygments_lexer": "ipython3",
   "version": "3.6.8"
  }
 },
 "nbformat": 4,
 "nbformat_minor": 5
}
