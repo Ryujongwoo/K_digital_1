{
 "cells": [
  {
   "cell_type": "code",
   "execution_count": 1,
   "id": "70e178e1",
   "metadata": {},
   "outputs": [],
   "source": [
    "import random"
   ]
  },
  {
   "cell_type": "code",
   "execution_count": 20,
   "id": "01d20478",
   "metadata": {},
   "outputs": [
    {
     "name": "stdout",
     "output_type": "stream",
     "text": [
      "[1, 2, 3, 4, 5, 6, 7, 8, 9]\n",
      "[5, 6, 4, 2, 7, 8, 3, 9, 1]\n",
      "레벨을 입력하세요(1 ~ 9): 3\n",
      "맞춰봐: 123\n",
      "0 스트라이크 0 볼\n",
      "맞춰봐: 456\n",
      "0 스트라이크 3 볼\n",
      "맞춰봐: 124\n",
      "1 스트라이크 0 볼\n",
      "맞춰봐: 564\n",
      "맞췄다. => [5, 6, 4]\n"
     ]
    }
   ],
   "source": [
    "# 1 ~ 9 사이의 숫자가 채워진 리스트를 만든다.\n",
    "baseball = [i for i in range(1, 10)]\n",
    "print(baseball)\n",
    "\n",
    "# 섞는다.\n",
    "random.shuffle(baseball)\n",
    "print(baseball)\n",
    "\n",
    "# 레벨을 입력받는다.\n",
    "level = int(input('레벨을 입력하세요(1 ~ 9): '))\n",
    "cpu = baseball[:level]\n",
    "# print(cpu)\n",
    "\n",
    "# ===============================================================\n",
    "\n",
    "# 몇 번 만에 맞출지 모르기 때문에 무한 루프를 돌려서 처리한다.\n",
    "while True:\n",
    "    # 새 반복이 시작될 때 마다 스트라이크 개수와 볼의 개수를 세는 변수를 0으로 초기화 시킨다.\n",
    "    # 초기화 시키지 않으면 이전 반복의 스트라이크 개수, 볼의 개수에 현재 반복의 스트라이크, 볼의 개수가 누적된다.\n",
    "    s = 0 # 스트라이크 개수\n",
    "    b = 0 # 볼의 개수\n",
    "    # 컴퓨터가 랜덤하게 발생시킨 숨겨놓은 숫자를 맞추기 위해 유저에게 입력을 요구한다.\n",
    "    user = input('맞춰봐: ')\n",
    "    \n",
    "    # 레벨만큼 반복하며 스트라이크의 개수와 볼의 개수를 센다.\n",
    "    for i in range(level):\n",
    "        # 스트라이크 => cpu와 user의 같은 인덱스에 위치한 데이터가 같다.\n",
    "        # cpu와 user의 데이터 타입이 일치하지 않기때문에 str() 또는 int() 함수로 데이터 타입을 일치시킨다.\n",
    "        # str() 함수는 숫자를 문자열로 변환한다.\n",
    "        # if str(cpu[i]) == user[i]:\n",
    "        # int() 함수는 문자열을 숫자로 변환한다.\n",
    "        if cpu[i] == int(user[i]):\n",
    "            s += 1\n",
    "        # 볼 => user[i]가 cpu 리스트에 포함되어 있다.\n",
    "        elif int(user[i]) in cpu:\n",
    "            b += 1\n",
    "        # ===== if\n",
    "    # ===== for\n",
    "    \n",
    "    # 스트라이크의 개수와 레벨이 같으면 맞춘것이므로 무한 루프를 탈출한다.\n",
    "    if s == level:\n",
    "        break\n",
    "    # ===== if\n",
    "    # 맞추지 못했으므로 힌트를 출력한다.\n",
    "    print('{} 스트라이크 {} 볼'.format(s, b))\n",
    "# ===== while\n",
    "print('맞췄다. => {}'.format(cpu))"
   ]
  },
  {
   "cell_type": "code",
   "execution_count": null,
   "id": "b647b5ae",
   "metadata": {},
   "outputs": [],
   "source": []
  },
  {
   "cell_type": "code",
   "execution_count": null,
   "id": "03c9921b",
   "metadata": {},
   "outputs": [],
   "source": []
  },
  {
   "cell_type": "code",
   "execution_count": null,
   "id": "838c143c",
   "metadata": {},
   "outputs": [],
   "source": []
  },
  {
   "cell_type": "code",
   "execution_count": null,
   "id": "6b68dbed",
   "metadata": {},
   "outputs": [],
   "source": []
  }
 ],
 "metadata": {
  "kernelspec": {
   "display_name": "Python 3",
   "language": "python",
   "name": "python3"
  },
  "language_info": {
   "codemirror_mode": {
    "name": "ipython",
    "version": 3
   },
   "file_extension": ".py",
   "mimetype": "text/x-python",
   "name": "python",
   "nbconvert_exporter": "python",
   "pygments_lexer": "ipython3",
   "version": "3.6.8"
  }
 },
 "nbformat": 4,
 "nbformat_minor": 5
}
