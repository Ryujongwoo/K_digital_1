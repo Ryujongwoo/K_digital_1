{
 "cells": [
  {
   "cell_type": "code",
   "execution_count": 1,
   "id": "4b73e697",
   "metadata": {},
   "outputs": [],
   "source": [
    "import random\n",
    "lotto = [i for i in range(1, 46)]"
   ]
  },
  {
   "cell_type": "code",
   "execution_count": 6,
   "id": "0e8d5527",
   "metadata": {},
   "outputs": [
    {
     "name": "stdout",
     "output_type": "stream",
     "text": [
      "로또 복권 구매 금액을 입력하세요: 5000\n",
      "  1 game: 03 07 23 25 28 34 \n",
      "  2 game: 11 17 19 21 25 29 \n",
      "  3 game: 12 18 26 32 42 44 \n",
      "  4 game: 05 21 27 30 34 44 \n",
      "  5 game: 10 16 24 26 29 41 \n"
     ]
    }
   ],
   "source": [
    "# 로또 복권 구매 금액을 입력받아 입력받은 금액만큼 로또 번호를 출력하는 프로그램\n",
    "# 로또 복권 구매 금액을 입력받는다.\n",
    "money = int(input('로또 복권 구매 금액을 입력하세요: '))\n",
    "# 복권 구매 금액만큼 반복하며 로또 번호를 출력한다.\n",
    "for i in range(money // 1000):\n",
    "    random.shuffle(lotto)\n",
    "    print('{:3d} game: '.format(i + 1), end='')\n",
    "    # 자동으로 생성된 로또 번호를 오름차순으로 정렬한다.\n",
    "    result = lotto[:6]\n",
    "    result.sort()\n",
    "    for j in range(6):\n",
    "        print('{:02d}'.format(result[j]), end=' ')\n",
    "    print()"
   ]
  },
  {
   "cell_type": "code",
   "execution_count": 12,
   "id": "b42cf3d7",
   "metadata": {},
   "outputs": [
    {
     "name": "stdout",
     "output_type": "stream",
     "text": [
      "로또 복권 구매 금액을 입력하세요: 10000\n",
      "  1 game: 09 15 18 21 22 25 \n",
      "  2 game: 09 23 31 33 36 37 \n",
      "  3 game: 01 10 30 31 33 41 \n",
      "  4 game: 04 07 09 14 30 33 \n",
      "  5 game: 02 05 06 10 16 19 \n",
      "==============================\n",
      "  6 game: 14 21 27 36 40 44 \n",
      "  7 game: 04 15 21 36 40 44 \n",
      "  8 game: 08 10 14 26 30 34 \n",
      "  9 game: 05 15 19 38 42 44 \n",
      " 10 game: 14 22 24 34 35 39 \n",
      "==============================\n"
     ]
    }
   ],
   "source": [
    "money = int(input('로또 복권 구매 금액을 입력하세요: '))\n",
    "for i in range(money // 1000):\n",
    "    print('{:3d} game: '.format(i + 1), end='')\n",
    "    result = random.sample(lotto, 6)\n",
    "    result.sort()\n",
    "    for j in range(6):\n",
    "        print('{:02d}'.format(result[j]), end=' ')\n",
    "    print()\n",
    "    if (i + 1) % 5 == 0:\n",
    "        print('=' * 30)"
   ]
  },
  {
   "cell_type": "code",
   "execution_count": null,
   "id": "03229ce5",
   "metadata": {},
   "outputs": [],
   "source": []
  }
 ],
 "metadata": {
  "kernelspec": {
   "display_name": "Python 3",
   "language": "python",
   "name": "python3"
  },
  "language_info": {
   "codemirror_mode": {
    "name": "ipython",
    "version": 3
   },
   "file_extension": ".py",
   "mimetype": "text/x-python",
   "name": "python",
   "nbconvert_exporter": "python",
   "pygments_lexer": "ipython3",
   "version": "3.6.8"
  }
 },
 "nbformat": 4,
 "nbformat_minor": 5
}
