{
 "cells": [
  {
   "cell_type": "code",
   "execution_count": 1,
   "id": "034b14ce",
   "metadata": {},
   "outputs": [
    {
     "name": "stdout",
     "output_type": "stream",
     "text": [
      "WARNING:tensorflow:From D:\\anaconda3\\envs\\py36\\lib\\site-packages\\tensorflow\\python\\compat\\v2_compat.py:101: disable_resource_variables (from tensorflow.python.ops.variable_scope) is deprecated and will be removed in a future version.\n",
      "Instructions for updating:\n",
      "non-resource variables are not supported in the long term\n"
     ]
    }
   ],
   "source": [
    "import warnings\n",
    "warnings.filterwarnings(action='ignore')\n",
    "%config Completer.use_jedi = False\n",
    "import tensorflow.compat.v1 as tf\n",
    "tf.disable_v2_behavior()\n",
    "import numpy as np\n",
    "import pandas as pd"
   ]
  },
  {
   "cell_type": "markdown",
   "id": "a2cd55de",
   "metadata": {},
   "source": [
    "공부시간, 과외시간과 시험성적 사이의 관계는 좌표로 나타냈을 때 형태가 직선으로 해결되는 선형 회귀를 사용하기에 적합했었다.  \n",
    "공부시간에 따른 점수가 아닌 합격 여부로 발표되는 시험이 있을 경우 직선으로 해결하기에 적합하지 못한 문제가 발생된다.  \n",
    "이럴때 사용하는 로지스틱 회귀는 참과 거짓 중에 하나를 내놓는 과정으로 참과 거짓을 구분한 'S'자를 눕혀놓은 형태의 선을 그어주는 작업이다.  \n",
    "<img src=\"./sigmoid.png\" width=\"800\" align=\"left\"/>  "
   ]
  },
  {
   "cell_type": "markdown",
   "id": "add5910e",
   "metadata": {},
   "source": [
    "참조  \n",
    "http://taewan.kim/post/sigmoid_diff/  \n",
    "https://devlog.jwgo.kr/2018/04/16/sigmoid-graph-according-to-slope-change/"
   ]
  },
  {
   "cell_type": "code",
   "execution_count": 2,
   "id": "c126aadb",
   "metadata": {},
   "outputs": [
    {
     "name": "stdout",
     "output_type": "stream",
     "text": [
      "공부시간: [2, 4, 6, 8, 10, 12, 14], 합격여부: [0, 0, 0, 1, 1, 1, 1]\n"
     ]
    }
   ],
   "source": [
    "# 공부시간(x), 합격여부(y) => [공부시간, 합격여부]\n",
    "data = [[2, 0], [4, 0], [6, 0], [8, 1], [10, 1], [12, 1], [14, 1]]\n",
    "xData = [i[0] for i in data] # 공부시간\n",
    "yData = [i[1] for i in data] # 공부시간\n",
    "print('공부시간: {}, 합격여부: {}'.format(xData, yData))"
   ]
  },
  {
   "cell_type": "markdown",
   "id": "3f88d90d",
   "metadata": {},
   "source": [
    "https://tensorflowkorea.gitbooks.io/tensorflow-kr/content/g3doc/api_docs/python/constant_op.html"
   ]
  },
  {
   "cell_type": "code",
   "execution_count": 3,
   "id": "87869aeb",
   "metadata": {},
   "outputs": [
    {
     "name": "stdout",
     "output_type": "stream",
     "text": [
      "a = [-1.21575949], b = [-1.59047698]\n"
     ]
    }
   ],
   "source": [
    "# 기울기(a)와 y절편(b) 값을 랜덤한 값으로 정한다.\n",
    "a = tf.Variable(tf.random_normal([1], dtype=tf.float64)) # 기울기(가중치)\n",
    "b = tf.Variable(tf.random_normal([1], dtype=tf.float64)) # y절편(바이어스)\n",
    "sess = tf.Session()\n",
    "sess.run(tf.global_variables_initializer())\n",
    "print('a = {}, b = {}'.format(sess.run(a), sess.run(b)))"
   ]
  },
  {
   "cell_type": "markdown",
   "id": "5910b3a7",
   "metadata": {},
   "source": [
    "시그모이드 방정식"
   ]
  },
  {
   "cell_type": "code",
   "execution_count": 4,
   "id": "343f18d8",
   "metadata": {},
   "outputs": [],
   "source": [
    "# np.e: numpy에서 지수 값(2.718281828459045)을 의미하는 상수\n",
    "# print(np.e)\n",
    "Y = 1 / (1 + np.e ** -(a * xData + b))"
   ]
  },
  {
   "cell_type": "markdown",
   "id": "c284389c",
   "metadata": {},
   "source": [
    "시그모이드 방정식의 오차를 계산하는 수식을 만든다.  \n",
    "시그모이드 함수의 특성은 예측값(Y)이 항상 0아니면 1이다."
   ]
  },
  {
   "cell_type": "code",
   "execution_count": 5,
   "id": "354641c4",
   "metadata": {},
   "outputs": [],
   "source": [
    "loss = -tf.reduce_mean(np.array(yData) * tf.log(Y) + (1 - np.array(yData)) * tf.log(1 - Y))"
   ]
  },
  {
   "cell_type": "markdown",
   "id": "52ec1f14",
   "metadata": {},
   "source": [
    "오차를 최소로 하는 값을 찾는다."
   ]
  },
  {
   "cell_type": "code",
   "execution_count": 6,
   "id": "85e22af7",
   "metadata": {},
   "outputs": [],
   "source": [
    "gradient_descent = tf.train.GradientDescentOptimizer(0.1).minimize(loss)"
   ]
  },
  {
   "cell_type": "markdown",
   "id": "2818ffe1",
   "metadata": {},
   "source": [
    "학습시킨다."
   ]
  },
  {
   "cell_type": "code",
   "execution_count": 8,
   "id": "78360cab",
   "metadata": {
    "scrolled": false
   },
   "outputs": [
    {
     "name": "stdout",
     "output_type": "stream",
     "text": [
      "epoch:      0, loss:   0.5878, a:   0.3548, b:  -0.4613\n",
      "epoch:   5000, loss:   0.0579, a:   1.5624, b: -10.7488\n",
      "epoch:  10000, loss:   0.0370, a:   2.0124, b: -13.9209\n",
      "epoch:  15000, loss:   0.0273, a:   2.3201, b: -16.0827\n",
      "epoch:  20000, loss:   0.0217, a:   2.5564, b: -17.7413\n",
      "epoch:  25000, loss:   0.0180, a:   2.7487, b: -19.0899\n",
      "epoch:  30000, loss:   0.0153, a:   2.9109, b: -20.2266\n",
      "epoch:  35000, loss:   0.0134, a:   3.0510, b: -21.2089\n",
      "epoch:  40000, loss:   0.0118, a:   3.1744, b: -22.0736\n",
      "epoch:  45000, loss:   0.0106, a:   3.2846, b: -22.8457\n",
      "epoch:  50000, loss:   0.0096, a:   3.3842, b: -23.5431\n",
      "epoch:  55000, loss:   0.0088, a:   3.4749, b: -24.1787\n",
      "epoch:  60000, loss:   0.0081, a:   3.5583, b: -24.7626\n",
      "epoch:  65000, loss:   0.0075, a:   3.6353, b: -25.3025\n",
      "epoch:  70000, loss:   0.0070, a:   3.7070, b: -25.8046\n",
      "epoch:  75000, loss:   0.0066, a:   3.7740, b: -26.2736\n",
      "epoch:  80000, loss:   0.0062, a:   3.8368, b: -26.7138\n",
      "epoch:  85000, loss:   0.0058, a:   3.8960, b: -27.1284\n",
      "epoch:  90000, loss:   0.0055, a:   3.9520, b: -27.5201\n",
      "epoch:  95000, loss:   0.0052, a:   4.0050, b: -27.8915\n",
      "epoch: 100000, loss:   0.0050, a:   4.0554, b: -28.2444\n",
      "epoch: 105000, loss:   0.0047, a:   4.1034, b: -28.5807\n",
      "epoch: 110000, loss:   0.0045, a:   4.1493, b: -28.9017\n",
      "epoch: 115000, loss:   0.0043, a:   4.1931, b: -29.2089\n",
      "epoch: 120000, loss:   0.0041, a:   4.2352, b: -29.5033\n",
      "epoch: 125000, loss:   0.0040, a:   4.2756, b: -29.7860\n",
      "epoch: 130000, loss:   0.0038, a:   4.3144, b: -30.0578\n",
      "epoch: 135000, loss:   0.0037, a:   4.3518, b: -30.3196\n",
      "epoch: 140000, loss:   0.0036, a:   4.3878, b: -30.5721\n",
      "epoch: 145000, loss:   0.0034, a:   4.4227, b: -30.8159\n",
      "epoch: 150000, loss:   0.0033, a:   4.4563, b: -31.0516\n",
      "epoch: 155000, loss:   0.0032, a:   4.4889, b: -31.2797\n",
      "epoch: 160000, loss:   0.0031, a:   4.5204, b: -31.5006\n",
      "epoch: 165000, loss:   0.0030, a:   4.5510, b: -31.7149\n",
      "epoch: 170000, loss:   0.0029, a:   4.5807, b: -31.9228\n",
      "epoch: 175000, loss:   0.0029, a:   4.6096, b: -32.1248\n",
      "epoch: 180000, loss:   0.0028, a:   4.6377, b: -32.3212\n",
      "epoch: 185000, loss:   0.0027, a:   4.6649, b: -32.5123\n",
      "epoch: 190000, loss:   0.0026, a:   4.6915, b: -32.6984\n",
      "epoch: 195000, loss:   0.0026, a:   4.7174, b: -32.8797\n",
      "epoch: 200000, loss:   0.0025, a:   4.7427, b: -33.0564\n",
      "epoch: 205000, loss:   0.0024, a:   4.7673, b: -33.2288\n",
      "epoch: 210000, loss:   0.0024, a:   4.7913, b: -33.3972\n",
      "epoch: 215000, loss:   0.0023, a:   4.8148, b: -33.5615\n",
      "epoch: 220000, loss:   0.0023, a:   4.8378, b: -33.7222\n",
      "epoch: 225000, loss:   0.0022, a:   4.8602, b: -33.8793\n",
      "epoch: 230000, loss:   0.0022, a:   4.8821, b: -34.0329\n",
      "epoch: 235000, loss:   0.0021, a:   4.9036, b: -34.1833\n",
      "epoch: 240000, loss:   0.0021, a:   4.9246, b: -34.3305\n",
      "epoch: 245000, loss:   0.0020, a:   4.9452, b: -34.4747\n",
      "epoch: 250000, loss:   0.0020, a:   4.9654, b: -34.6161\n",
      "epoch: 255000, loss:   0.0020, a:   4.9852, b: -34.7546\n",
      "epoch: 260000, loss:   0.0019, a:   5.0046, b: -34.8905\n",
      "epoch: 265000, loss:   0.0019, a:   5.0237, b: -35.0238\n",
      "epoch: 270000, loss:   0.0019, a:   5.0424, b: -35.1547\n",
      "epoch: 275000, loss:   0.0018, a:   5.0607, b: -35.2831\n",
      "epoch: 280000, loss:   0.0018, a:   5.0787, b: -35.4092\n",
      "epoch: 285000, loss:   0.0018, a:   5.0964, b: -35.5332\n",
      "epoch: 290000, loss:   0.0017, a:   5.1138, b: -35.6550\n",
      "epoch: 295000, loss:   0.0017, a:   5.1309, b: -35.7747\n",
      "epoch: 300000, loss:   0.0017, a:   5.1477, b: -35.8924\n"
     ]
    }
   ],
   "source": [
    "sess = tf.Session()\n",
    "sess.run(tf.global_variables_initializer())\n",
    "\n",
    "for epoch in range(300001):\n",
    "    sess.run(gradient_descent)\n",
    "    if epoch % 5000 == 0:\n",
    "        # print('epoch: {:6d}, loss: {:8.4f}, a: {:8.4f}, b: {:8.4f}'.format(epoch, sess.run(loss), \n",
    "        #     sess.run(a)[0], sess.run(b)[0]))\n",
    "        print('epoch: %6d, loss: %8.4f, a: %8.4f, b: %8.4f' % (epoch, sess.run(loss), sess.run(a), sess.run(b)))"
   ]
  },
  {
   "cell_type": "code",
   "execution_count": null,
   "id": "fa27094d",
   "metadata": {},
   "outputs": [],
   "source": []
  },
  {
   "cell_type": "code",
   "execution_count": null,
   "id": "d7ae463c",
   "metadata": {},
   "outputs": [],
   "source": []
  },
  {
   "cell_type": "code",
   "execution_count": null,
   "id": "bfd3fc50",
   "metadata": {},
   "outputs": [],
   "source": []
  }
 ],
 "metadata": {
  "kernelspec": {
   "display_name": "py36",
   "language": "python",
   "name": "py36"
  },
  "language_info": {
   "codemirror_mode": {
    "name": "ipython",
    "version": 3
   },
   "file_extension": ".py",
   "mimetype": "text/x-python",
   "name": "python",
   "nbconvert_exporter": "python",
   "pygments_lexer": "ipython3",
   "version": "3.6.13"
  }
 },
 "nbformat": 4,
 "nbformat_minor": 5
}
