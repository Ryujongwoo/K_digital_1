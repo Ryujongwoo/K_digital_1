{
 "cells": [
  {
   "cell_type": "code",
   "execution_count": 1,
   "id": "34088f61",
   "metadata": {},
   "outputs": [
    {
     "name": "stdout",
     "output_type": "stream",
     "text": [
      "WARNING:tensorflow:From D:\\anaconda3\\envs\\py36\\lib\\site-packages\\tensorflow\\python\\compat\\v2_compat.py:101: disable_resource_variables (from tensorflow.python.ops.variable_scope) is deprecated and will be removed in a future version.\n",
      "Instructions for updating:\n",
      "non-resource variables are not supported in the long term\n"
     ]
    }
   ],
   "source": [
    "%config Completer.use_jedi = False\n",
    "import warnings\n",
    "warnings.filterwarnings(action='ignore')\n",
    "import tensorflow.compat.v1 as tf\n",
    "tf.disable_v2_behavior()\n",
    "import numpy as np"
   ]
  },
  {
   "cell_type": "markdown",
   "id": "dcb836f8",
   "metadata": {},
   "source": [
    "RNN(Recurrent Neural Network) - 순환 신경망  \n",
    "RNN 입력값(x), 출력값(output), 상태값(state), 가중치(w), 편향값(b) 활성화 함수(tanh)로 구성된다.\n",
    "\n",
    "<img src=\"./RNN.png\" width=\"800\" align=\"left\"/>"
   ]
  },
  {
   "cell_type": "code",
   "execution_count": 2,
   "id": "9a73a282",
   "metadata": {
    "scrolled": false
   },
   "outputs": [
    {
     "name": "stdout",
     "output_type": "stream",
     "text": [
      "입력 데이터: [[[1. 2.]]]\n",
      "RNN 셀의 개수: 3\n",
      "WARNING:tensorflow:From <ipython-input-2-794fc32f0cc8>:18: dynamic_rnn (from tensorflow.python.ops.rnn) is deprecated and will be removed in a future version.\n",
      "Instructions for updating:\n",
      "Please use `keras.layers.RNN(cell)`, which is equivalent to this API\n",
      "WARNING:tensorflow:From D:\\anaconda3\\envs\\py36\\lib\\site-packages\\keras\\layers\\legacy_rnn\\rnn_cell_impl.py:459: calling Zeros.__init__ (from tensorflow.python.ops.init_ops) with dtype is deprecated and will be removed in a future version.\n",
      "Instructions for updating:\n",
      "Call initializer instance with the dtype argument instead of passing it to the constructor\n",
      "출력값: Tensor(\"rnn/transpose_1:0\", shape=(1, 1, 3), dtype=float32)\n",
      "상태값: Tensor(\"rnn/while/Exit_3:0\", shape=(1, 3), dtype=float32)\n",
      "가중치 개수와 편향값 개수\n",
      "<tf.Variable 'rnn/basic_rnn_cell/kernel:0' shape=(5, 3) dtype=float32_ref>\n",
      "<tf.Variable 'rnn/basic_rnn_cell/bias:0' shape=(3,) dtype=float32_ref>\n"
     ]
    }
   ],
   "source": [
    "inputs = np.array([[[1, 2]]]) # 입력 데이터\n",
    "# print(inputs) # [[[1 2]]]\n",
    "# print(inputs.shape) # (1, 1, 2)\n",
    "# print(inputs.shape[0])\n",
    "tf.set_random_seed(35)\n",
    "\n",
    "tf_inputs = tf.constant(inputs, dtype=tf.float32)\n",
    "sess = tf.Session()\n",
    "print('입력 데이터: {}'.format(sess.run(tf_inputs)))\n",
    "\n",
    "# BasicRNNCell() 함수의 인수로 사용할 hidden_state의 개수를 지정해서 RNN 셀을 만든다.\n",
    "rnn_cell = tf.nn.rnn_cell.BasicRNNCell(num_units=3)\n",
    "print('RNN 셀의 개수: {}'.format(rnn_cell.state_size))\n",
    "\n",
    "# RNN 셀 초기화\n",
    "initial_state = tf.random_normal(shape=[inputs.shape[0], rnn_cell.state_size], mean=1.0)\n",
    "# dynamic_rnn() 함수는 입력값과 RNN 셀을 받아서 실행한 결과를 출력한다.\n",
    "outputs, state = tf.nn.dynamic_rnn(cell=rnn_cell, dtype=tf.float32, inputs=tf_inputs, initial_state=initial_state)\n",
    "print('출력값: {}'.format(outputs))\n",
    "print('상태값: {}'.format(state))\n",
    "\n",
    "print('가중치 개수와 편향값 개수')\n",
    "for v in tf.get_collection(tf.GraphKeys.TRAINABLE_VARIABLES):\n",
    "    print(v)\n",
    "print('=' * 80)"
   ]
  },
  {
   "cell_type": "code",
   "execution_count": 8,
   "id": "1fe30107",
   "metadata": {},
   "outputs": [
    {
     "name": "stdout",
     "output_type": "stream",
     "text": [
      "출력값\n",
      "[[[-0.86154586 -0.69077307 -0.66940147]]]\n",
      "상태값\n",
      "[[-0.86154586 -0.69077307 -0.66940147]]\n",
      "가중치와 편향값\n",
      "rnn/basic_rnn_cell/kernel:0\n",
      "[[-0.60581434  0.04554379 -0.05184728]\n",
      " [-0.5220578  -0.54527855  0.1978231 ]\n",
      " [-0.36936402 -0.3568974  -0.26499468]\n",
      " [ 0.6830124  -0.75265324 -0.7705655 ]\n",
      " [ 0.00107181  0.50031275 -0.33132648]]\n",
      "rnn/basic_rnn_cell/bias:0\n",
      "[0. 0. 0.]\n"
     ]
    }
   ],
   "source": [
    "variable_names = [v.name for v in tf.trainable_variables()]\n",
    "variable_names\n",
    "with tf.Session() as sess:\n",
    "    sess.run(tf.global_variables_initializer())\n",
    "    output_run, state_run = sess.run([outputs, state])\n",
    "    print('출력값\\n', output_run, sep='')\n",
    "    print('상태값\\n', state_run, sep='') # 다음 RNN 셀로 전달된다.\n",
    "    print('가중치와 편향값')\n",
    "    values = sess.run(variable_names)\n",
    "    for k, v in zip(variable_names, values):\n",
    "        print('{}\\n{}'.format(k, v))"
   ]
  },
  {
   "cell_type": "markdown",
   "id": "82d2f6ef",
   "metadata": {},
   "source": [
    "RNN 셀의 출력값과 상태값이 동일하다.  \n",
    "입력값이 1 * 2 행렬이고 RNN 상태값이 1 * 3 행렬일 경우 가중치는 총 5개의 행을 가지게 된다.  \n",
    "입력값이 1 * 2 행렬이고 RNN 상태값이 1 * 3 행렬일 경우 편향값은 총 3개가 필요하다."
   ]
  },
  {
   "cell_type": "code",
   "execution_count": null,
   "id": "b061b27c",
   "metadata": {},
   "outputs": [],
   "source": []
  },
  {
   "cell_type": "code",
   "execution_count": null,
   "id": "f364398e",
   "metadata": {},
   "outputs": [],
   "source": []
  },
  {
   "cell_type": "code",
   "execution_count": null,
   "id": "f6daf304",
   "metadata": {},
   "outputs": [],
   "source": []
  },
  {
   "cell_type": "code",
   "execution_count": null,
   "id": "cd3faa7c",
   "metadata": {},
   "outputs": [],
   "source": []
  },
  {
   "cell_type": "code",
   "execution_count": null,
   "id": "2fab188b",
   "metadata": {},
   "outputs": [],
   "source": []
  }
 ],
 "metadata": {
  "kernelspec": {
   "display_name": "py36",
   "language": "python",
   "name": "py36"
  },
  "language_info": {
   "codemirror_mode": {
    "name": "ipython",
    "version": 3
   },
   "file_extension": ".py",
   "mimetype": "text/x-python",
   "name": "python",
   "nbconvert_exporter": "python",
   "pygments_lexer": "ipython3",
   "version": "3.6.13"
  }
 },
 "nbformat": 4,
 "nbformat_minor": 5
}
