{
 "cells": [
  {
   "cell_type": "code",
   "execution_count": 1,
   "id": "f8b23e67",
   "metadata": {},
   "outputs": [
    {
     "name": "stdout",
     "output_type": "stream",
     "text": [
      "WARNING:tensorflow:From D:\\anaconda3\\envs\\py36\\lib\\site-packages\\tensorflow\\python\\compat\\v2_compat.py:101: disable_resource_variables (from tensorflow.python.ops.variable_scope) is deprecated and will be removed in a future version.\n",
      "Instructions for updating:\n",
      "non-resource variables are not supported in the long term\n"
     ]
    }
   ],
   "source": [
    "%config Completer.use_jedi = False\n",
    "import warnings\n",
    "warnings.filterwarnings(action='ignore')\n",
    "import tensorflow.compat.v1 as tf\n",
    "tf.disable_v2_behavior()"
   ]
  },
  {
   "cell_type": "markdown",
   "id": "70c55813",
   "metadata": {},
   "source": [
    "<img src=\"./multiLayerPerceptron.png\" align=\"left\"/>"
   ]
  },
  {
   "cell_type": "markdown",
   "id": "8fe66cc5",
   "metadata": {},
   "source": [
    "XOR 연산은 입력 데이터를 X라고 할 경우 [[0, 0], [0, 1], [1, 0], [1, 1]]과 같은 경우의 수가 있다.  \n",
    "총 4개의 데이터가 각각 2개의 특성을 가지고 있으므로 X는 [4, 2]의 형태로 정의할 수 있다.  \n",
    "입력값에 따른 출력값 Y는 [[0], [1], [1], [0]]이므로 Y는 [4, 1]의 형태로 정의할 수 있다."
   ]
  },
  {
   "cell_type": "code",
   "execution_count": 2,
   "id": "bae63fcc",
   "metadata": {},
   "outputs": [],
   "source": [
    "X = tf.placeholder(dtype=tf.float32, shape=[4, 2]) # 입력값\n",
    "Y = tf.placeholder(dtype=tf.float32, shape=[4, 1]) # 출력값"
   ]
  },
  {
   "cell_type": "markdown",
   "id": "7e96ed5b",
   "metadata": {},
   "source": [
    "1번째 히든 레이어에서 2개의 입력(X)과 1개의 편향값(B1)을 받아서 2개의 시그모이드 출력(Z)을 다음 레이어로 전달한다."
   ]
  },
  {
   "cell_type": "code",
   "execution_count": 3,
   "id": "95eb1452",
   "metadata": {},
   "outputs": [],
   "source": [
    "# 2개의 입력을 받는 2개의 뉴런을 만든다.\n",
    "# random_normal()은 정규 분포로 부터 난수값을 반환하고 random_uniform()은 균등 분포로 부터의 난수값을 반환한다.\n",
    "W1 = tf.Variable(tf.random_uniform([2, 2]))\n",
    "# 각 뉴런은 1개의 편향값을 가진다.\n",
    "# zeros()는 모든 원소의 값이 0인 텐서를 생성한다.\n",
    "B1 = tf.Variable(tf.zeros([2]))\n",
    "# 시그모이드를 거쳐 출력값으로 Z를 리턴한다. => sigmoid(W1 * X + B1)\n",
    "Z = tf.sigmoid(tf.matmul(X, W1) + B1)"
   ]
  },
  {
   "cell_type": "code",
   "execution_count": 4,
   "id": "a87abe29",
   "metadata": {},
   "outputs": [
    {
     "name": "stdout",
     "output_type": "stream",
     "text": [
      "[[0.79328525 0.01600778]\n",
      " [0.81200576 0.08133698]]\n",
      "[0. 0.]\n",
      "[[0.5        0.5       ]\n",
      " [0.6925367  0.52032304]\n",
      " [0.6885363  0.50400186]\n",
      " [0.8327565  0.52431697]]\n"
     ]
    }
   ],
   "source": [
    "sess = tf.Session()\n",
    "sess.run(tf.global_variables_initializer())\n",
    "print(sess.run(W1))\n",
    "print(sess.run(B1))\n",
    "train_X = [[0, 0], [0, 1], [1, 0], [1, 1]]\n",
    "print(sess.run(Z, feed_dict={X: train_X}))\n",
    "sess.close()"
   ]
  },
  {
   "cell_type": "markdown",
   "id": "1c91fcd6",
   "metadata": {},
   "source": [
    "2번째 히든 레이어에서 1번째 히든 레이어의 출려값인 Z와 1개의 편향값(B2)을 받아서 1개의 시그모이드를 출력(Y_hat)한다."
   ]
  },
  {
   "cell_type": "code",
   "execution_count": 5,
   "id": "8e0583ec",
   "metadata": {},
   "outputs": [],
   "source": [
    "# Z를 입력값으로 받는 1개의 뉴런을 만든다.\n",
    "W2 = tf.Variable(tf.random_uniform([2, 1]))\n",
    "# 각 뉴런은 1개의 편향값을 가진다.\n",
    "B2 = tf.Variable(tf.zeros([1]))\n",
    "# 시그모이드를 거쳐 출력값으로 Y_hat을 리턴한다. => sigmoid(W2 * Z + B1)\n",
    "Y_hat = tf.sigmoid(tf.matmul(Z, W2) + B2)"
   ]
  },
  {
   "cell_type": "code",
   "execution_count": 6,
   "id": "5ffec647",
   "metadata": {
    "scrolled": false
   },
   "outputs": [
    {
     "name": "stdout",
     "output_type": "stream",
     "text": [
      "[[0.4947635 ]\n",
      " [0.42062342]]\n",
      "[0.]\n",
      "[[0.6124668 ]\n",
      " [0.6260858 ]\n",
      " [0.6434278 ]\n",
      " [0.65520835]]\n"
     ]
    }
   ],
   "source": [
    "sess = tf.Session()\n",
    "sess.run(tf.global_variables_initializer())\n",
    "print(sess.run(W2))\n",
    "print(sess.run(B2))\n",
    "print(sess.run(Y_hat, feed_dict={X: train_X}))\n",
    "sess.close()"
   ]
  },
  {
   "cell_type": "markdown",
   "id": "48147327",
   "metadata": {},
   "source": [
    "손실 함수로 크로스 엔트로피를 사용하고 경사 하강법으로 모델의 매개 변수(가중치, 편향)을 최적화 한다."
   ]
  },
  {
   "cell_type": "code",
   "execution_count": null,
   "id": "1d062b9d",
   "metadata": {},
   "outputs": [],
   "source": []
  },
  {
   "cell_type": "markdown",
   "id": "c389db96",
   "metadata": {},
   "source": [
    "학습을 진행한다."
   ]
  },
  {
   "cell_type": "code",
   "execution_count": null,
   "id": "52a459b6",
   "metadata": {},
   "outputs": [],
   "source": []
  }
 ],
 "metadata": {
  "kernelspec": {
   "display_name": "py36",
   "language": "python",
   "name": "py36"
  },
  "language_info": {
   "codemirror_mode": {
    "name": "ipython",
    "version": 3
   },
   "file_extension": ".py",
   "mimetype": "text/x-python",
   "name": "python",
   "nbconvert_exporter": "python",
   "pygments_lexer": "ipython3",
   "version": "3.6.13"
  }
 },
 "nbformat": 4,
 "nbformat_minor": 5
}
