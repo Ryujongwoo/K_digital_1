{
 "cells": [
  {
   "cell_type": "code",
   "execution_count": 1,
   "id": "1141dd69",
   "metadata": {},
   "outputs": [],
   "source": [
    "import warnings\n",
    "warnings.filterwarnings(action='ignore')"
   ]
  },
  {
   "cell_type": "markdown",
   "id": "21c7569d",
   "metadata": {},
   "source": [
    "selenium을 사용하기 위해 selenium을 설치하고 import 한다.  \n",
    "!pip install selenium"
   ]
  },
  {
   "cell_type": "code",
   "execution_count": 2,
   "id": "0ac4ba62",
   "metadata": {},
   "outputs": [],
   "source": [
    "from bs4 import BeautifulSoup\n",
    "from selenium import webdriver\n",
    "from selenium.webdriver.chrome.options import Options"
   ]
  },
  {
   "cell_type": "code",
   "execution_count": 3,
   "id": "43c15e19",
   "metadata": {},
   "outputs": [
    {
     "name": "stdout",
     "output_type": "stream",
     "text": [
      "그냥 아무것도 없던 머리에 천사링 하나 얹어서 무겁다는거였네ㅋㅋㅋㅋㅋㅋㅋ\n",
      "================================================================================\n",
      " 1. 이순신과 원균이냐고\n",
      " 2. 상식적으로 쫒겨났던 놈을 사수 후보에 두는 것부터가 말이 안되는데\n",
      " 3. 그냥 아무것도 없던 머리에 천사링 하나 얹어서 무겁다는거였네ㅋㅋㅋㅋㅋㅋㅋ\n",
      " 4. 아니 잠깐만 방장 코인데 왜 뿌엉이 방장일 해ㅋㅋㅋㅋ\n",
      " 5. 대학원 와서 얻어가는 것: 교수님이랑 랩실선배 성대모사 능력\n",
      " 6. 그러니까... 튀김기에 사람 많다고 일부러 주제로 못 하게 쳐냈으면서 주제까지 다 정한 마당에 갑자기 옆자리 노예주인 이야기에 홀라당 넘어가서 또 주제를 다시 정하라고 하셨다? 심지어 코빼기도 도움을 안 주면서? 장난???\n",
      " 7. \" 이제부터 서로 죽여라. \"\n",
      " 8. 여우의 사례를 봤을 때 한쪽이 이겨도 교수가 눈사람또 일 맡길거 있다고 시키고 둘다 라떼 부사수로 보내는 엔딩인가ㅋㅋ\n",
      " 9. 넌 그 입이라도 다물고 있으면 반이라도 갈텐데\n",
      "10. 자극은 교수가 받고 고생은 대학원생들이 하는..\n",
      "11. \"나중에 얘기하도록 하고\" 결코 그냥 넘어가진 않으시는 뿌엉좌..\n",
      "12. 큰일난거죠?\n",
      "13. 뿌엉이 실세네ㅋㅋㅋㅋㅋㅋㅋ\n",
      "14. 여우가 일렀죠 ㄲㄱㅋㅋㅋㅋㅋ \n",
      "15. 뿌칼로 코 찌르는것도 조만간 볼거같은데요\n"
     ]
    }
   ],
   "source": [
    "# 셀레니움 옵션\n",
    "option = Options()\n",
    "option.add_argument('--window-size=1890,1030') # 창 크기\n",
    "driver = webdriver.Chrome('./chromedriver.exe', options=option)\n",
    "driver.implicitly_wait(5) # 지정된 시간동안 로딩되기를 기다리며 대기한다. 로딩이 완료되면 즉시 다음 단계로 진행한다.\n",
    "\n",
    "# 네이버 웹툰의 댓글을 보여주는 페이지\n",
    "# https://comic.naver.com/webtoon/detail?titleId=790713&no=85&weekday=fri\n",
    "# 네이버 웹툰의 댓글은 https://comic.naver.com/comment/comment?titleId=790713&no=85 페이지의 내용을 읽어서\n",
    "# id 속성이 commentIframe인 iframe에 넣어준다.\n",
    "driver.get('https://comic.naver.com/comment/comment?titleId=790713&no=85')\n",
    "\n",
    "# 특정 베댓을 읽는다.\n",
    "html = driver.page_source\n",
    "soup = BeautifulSoup(html, 'html.parser')\n",
    "review = soup.select_one('#cbox_module_wai_u_cbox_content_wrap_tabpanel > ul > li.u_cbox_comment.cbox_module__comment_447748836._user_id_no_3qVN5 > div.u_cbox_comment_box > div > div.u_cbox_text_wrap > span.u_cbox_contents')\n",
    "print(review.text)\n",
    "print(\"=\" * 80)\n",
    "\n",
    "# 전체 베댓을 읽는다.\n",
    "html = driver.page_source\n",
    "soup = BeautifulSoup(html, 'html.parser')\n",
    "reviews = soup.select('span.u_cbox_contents')\n",
    "# print(len(reviews))\n",
    "for i in range(len(reviews)):\n",
    "    print('{:2d}. {}'.format(i + 1, reviews[i].text))"
   ]
  },
  {
   "cell_type": "code",
   "execution_count": null,
   "id": "b0535fa9",
   "metadata": {},
   "outputs": [],
   "source": []
  },
  {
   "cell_type": "code",
   "execution_count": null,
   "id": "c143d1aa",
   "metadata": {},
   "outputs": [],
   "source": []
  },
  {
   "cell_type": "code",
   "execution_count": null,
   "id": "fbfc39d9",
   "metadata": {},
   "outputs": [],
   "source": []
  }
 ],
 "metadata": {
  "kernelspec": {
   "display_name": "Python 3 (ipykernel)",
   "language": "python",
   "name": "python3"
  },
  "language_info": {
   "codemirror_mode": {
    "name": "ipython",
    "version": 3
   },
   "file_extension": ".py",
   "mimetype": "text/x-python",
   "name": "python",
   "nbconvert_exporter": "python",
   "pygments_lexer": "ipython3",
   "version": "3.7.9"
  }
 },
 "nbformat": 4,
 "nbformat_minor": 5
}
