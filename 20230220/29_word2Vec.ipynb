{
 "cells": [
  {
   "cell_type": "code",
   "execution_count": 1,
   "id": "46acda57",
   "metadata": {},
   "outputs": [
    {
     "name": "stdout",
     "output_type": "stream",
     "text": [
      "WARNING:tensorflow:From D:\\anaconda3\\envs\\py36\\lib\\site-packages\\tensorflow\\python\\compat\\v2_compat.py:101: disable_resource_variables (from tensorflow.python.ops.variable_scope) is deprecated and will be removed in a future version.\n",
      "Instructions for updating:\n",
      "non-resource variables are not supported in the long term\n"
     ]
    }
   ],
   "source": [
    "%config Completer.use_jedi = False\n",
    "import warnings\n",
    "warnings.filterwarnings(action='ignore')\n",
    "import tensorflow.compat.v1 as tf\n",
    "tf.disable_v2_behavior()\n",
    "import numpy as np\n",
    "import pandas as pd\n",
    "import matplotlib.pyplot as plt"
   ]
  },
  {
   "cell_type": "markdown",
   "id": "b8625bb9",
   "metadata": {},
   "source": [
    "Word2Vec은 word to vector의 줄임말이다.  \n",
    "딥러닝 모델은 입력값으로 수치값을 받기 때문에 자연어 처리 분야에서는 단더(word)들을 어떻게 수치(vector)로 변환하느냐가 딥러닝 모델의 성능을 결정하는 중요한 요소이다.\n",
    "\n",
    "word to vector의 장점은 의미가 비슷한 단어는 벡터 공간에서 서로 가까운 위치에 존재하게 되는 비지도 학습으로 말뭉치 데이터만 있으면 손쉽게 word2Vec을 구현할 수 있다."
   ]
  },
  {
   "cell_type": "markdown",
   "id": "218a0fdb",
   "metadata": {},
   "source": [
    "데이터 획득"
   ]
  },
  {
   "cell_type": "code",
   "execution_count": 2,
   "id": "b136e724",
   "metadata": {},
   "outputs": [
    {
     "name": "stdout",
     "output_type": "stream",
     "text": [
      "['king is a strong man', 'queen is a wise woman', 'boy is a young man', 'girl is a young woman', 'prince is a young king', 'princess is a young queen', 'man is strong', 'woman is pretty', 'prince is a boy will be king', 'princess is a girl will be queen']\n"
     ]
    }
   ],
   "source": [
    "corpus = [\n",
    "    'king is a strong man', \n",
    "    'queen is a wise woman', \n",
    "    'boy is a young man', \n",
    "    'girl is a young woman',\n",
    "    'prince is a young king', \n",
    "    'princess is a young queen', \n",
    "    'man is strong', \n",
    "    'woman is pretty',\n",
    "    'prince is a boy will be king', \n",
    "    'princess is a girl will be queen'\n",
    "]\n",
    "print(corpus)"
   ]
  },
  {
   "cell_type": "markdown",
   "id": "8e201155",
   "metadata": {},
   "source": [
    "불용어(stop words) 제거하기  \n",
    "불용어란 학습에 도움이 되지도 않으면서 빈번하게 발생되는 단어를 의미하며 효율적인 학습을 위해 불용어를 데이터에서 제거한다."
   ]
  },
  {
   "cell_type": "code",
   "execution_count": 3,
   "id": "9be9bc6d",
   "metadata": {},
   "outputs": [],
   "source": [
    "def remove_stop_words(corpus):\n",
    "    stop_words = ['is', 'a', 'will', 'be']\n",
    "    results = [] # 인수로 넘어온 문장에서 불용어를 제거한 결과를 저장해서 리턴시킬 빈 리스트를 선언한다.\n",
    "    # 불용어를 제거할 문장을 한줄씩 읽어가며 반복한다.\n",
    "    for text in corpus:\n",
    "        # 불용어를 제거하기 위해서 공백을 경계로 문장을 단어 단위로 나눈다.\n",
    "        temp = text.split()\n",
    "        # 불용어 개수만큼 반복하며 불용어를 제거할 문장에서 불용어를 제거한다.\n",
    "        for stop_word in stop_words:\n",
    "            # 문장에 포함된 불용어를 제거한다.\n",
    "            while stop_word in temp:\n",
    "                temp.remove(stop_word)\n",
    "            # ===== while\n",
    "        # ===== for\n",
    "        # print(temp)\n",
    "        # 불용어가 제거된 단어 사이에 공백을 넣어서 불용어가 제거된 문장을 만든다.\n",
    "        # print(' '.join(temp))\n",
    "        results.append(' '.join(temp))\n",
    "    return results"
   ]
  },
  {
   "cell_type": "code",
   "execution_count": 4,
   "id": "3ebe6c8b",
   "metadata": {},
   "outputs": [
    {
     "data": {
      "text/plain": [
       "['king strong man',\n",
       " 'queen wise woman',\n",
       " 'boy young man',\n",
       " 'girl young woman',\n",
       " 'prince young king',\n",
       " 'princess young queen',\n",
       " 'man strong',\n",
       " 'woman pretty',\n",
       " 'prince boy king',\n",
       " 'princess girl queen']"
      ]
     },
     "execution_count": 4,
     "metadata": {},
     "output_type": "execute_result"
    }
   ],
   "source": [
    "corpus = remove_stop_words(corpus)\n",
    "corpus"
   ]
  },
  {
   "cell_type": "markdown",
   "id": "32dd4936",
   "metadata": {},
   "source": [
    "불용어를 제거한 후 데이터에 존재하는 단어들은 다음과 같다."
   ]
  },
  {
   "cell_type": "code",
   "execution_count": 5,
   "id": "4f6f6035",
   "metadata": {},
   "outputs": [
    {
     "name": "stdout",
     "output_type": "stream",
     "text": [
      "['king', 'strong', 'man', 'queen', 'wise', 'woman', 'boy', 'young', 'man', 'girl', 'young', 'woman', 'prince', 'young', 'king', 'princess', 'young', 'queen', 'man', 'strong', 'woman', 'pretty', 'prince', 'boy', 'king', 'princess', 'girl', 'queen']\n"
     ]
    }
   ],
   "source": [
    "words = []\n",
    "for text in corpus:\n",
    "    for word in text.split():\n",
    "        words.append(word)\n",
    "print(words) # 중복되는 단어가 존재한다."
   ]
  },
  {
   "cell_type": "markdown",
   "id": "7fec2737",
   "metadata": {},
   "source": [
    "불용어를 제거한 단어의 중복을 제거한다."
   ]
  },
  {
   "cell_type": "code",
   "execution_count": 6,
   "id": "074a2bde",
   "metadata": {},
   "outputs": [
    {
     "name": "stdout",
     "output_type": "stream",
     "text": [
      "{'man', 'king', 'queen', 'boy', 'young', 'woman', 'girl', 'strong', 'prince', 'princess', 'wise', 'pretty'}\n"
     ]
    }
   ],
   "source": [
    "words = set(words)\n",
    "print(words) # 중복되는 단어가 존재하지 않는다."
   ]
  },
  {
   "cell_type": "markdown",
   "id": "d60a07ea",
   "metadata": {},
   "source": [
    "단어별 인덱스 매핑 테이블 만들기  \n",
    "단어를 원-핫 인코딩으로 변환하기 위해서 가장 먼저 인덱스로 인코딩 해야하고 단어를 손쉽게 인덱싱하기 위해 key는 단어이고 value는 인덱스인 딕셔너리를 만든다."
   ]
  },
  {
   "cell_type": "code",
   "execution_count": 7,
   "id": "888c350b",
   "metadata": {},
   "outputs": [
    {
     "name": "stdout",
     "output_type": "stream",
     "text": [
      "0 man\n",
      "1 king\n",
      "2 queen\n",
      "3 boy\n",
      "4 young\n",
      "5 woman\n",
      "6 girl\n",
      "7 strong\n",
      "8 prince\n",
      "9 princess\n",
      "10 wise\n",
      "11 pretty\n"
     ]
    }
   ],
   "source": [
    "for index, data in enumerate(words):\n",
    "    print(index, data)"
   ]
  },
  {
   "cell_type": "code",
   "execution_count": 8,
   "id": "d5318e4c",
   "metadata": {},
   "outputs": [
    {
     "name": "stdout",
     "output_type": "stream",
     "text": [
      "{'man': 0, 'king': 1, 'queen': 2, 'boy': 3, 'young': 4, 'woman': 5, 'girl': 6, 'strong': 7, 'prince': 8, 'princess': 9, 'wise': 10, 'pretty': 11}\n"
     ]
    }
   ],
   "source": [
    "word2int = {}\n",
    "for index, data in enumerate(words):\n",
    "    word2int[data] = index\n",
    "print(word2int)"
   ]
  },
  {
   "cell_type": "markdown",
   "id": "658c4f68",
   "metadata": {},
   "source": [
    "skip gram 방식으로 각 단어별 레이블을 생성한다."
   ]
  },
  {
   "cell_type": "code",
   "execution_count": 9,
   "id": "ce04ff52",
   "metadata": {},
   "outputs": [
    {
     "name": "stdout",
     "output_type": "stream",
     "text": [
      "[['king', 'strong', 'man'], ['queen', 'wise', 'woman'], ['boy', 'young', 'man'], ['girl', 'young', 'woman'], ['prince', 'young', 'king'], ['princess', 'young', 'queen'], ['man', 'strong'], ['woman', 'pretty'], ['prince', 'boy', 'king'], ['princess', 'girl', 'queen']]\n"
     ]
    }
   ],
   "source": [
    "sentences = []\n",
    "for sentence in corpus:\n",
    "    sentences.append(sentence.split())\n",
    "print(sentences)"
   ]
  },
  {
   "cell_type": "code",
   "execution_count": 10,
   "id": "8058d6cd",
   "metadata": {
    "scrolled": false
   },
   "outputs": [],
   "source": [
    "WINDOW_SIZE = 2\n",
    "data = []\n",
    "# 단어별 레이블을 생성할 문장의 개수만큼 반복하며 레이블을 생성한다.\n",
    "for sentence in sentences:\n",
    "    # print('sentence: {}'.format(sentence))\n",
    "    for index, word in enumerate(sentence):\n",
    "        # print('index: {}, word: {}'.format(index, word))\n",
    "        for neighbor in sentence[max(index - WINDOW_SIZE, 0):min(index + WINDOW_SIZE, len(sentence)) + 1]:\n",
    "            if word != neighbor:\n",
    "                # print('{} neighbor: {}'.format(word, neighbor))\n",
    "                data.append([word, neighbor])\n",
    "            # ===== if\n",
    "        # ===== for neighbor\n",
    "        # print('*' * 80)\n",
    "    # ===== for sentence     \n",
    "    # print('=' * 80)"
   ]
  },
  {
   "cell_type": "code",
   "execution_count": 11,
   "id": "a0922227",
   "metadata": {
    "scrolled": false
   },
   "outputs": [
    {
     "data": {
      "text/html": [
       "<div>\n",
       "<style scoped>\n",
       "    .dataframe tbody tr th:only-of-type {\n",
       "        vertical-align: middle;\n",
       "    }\n",
       "\n",
       "    .dataframe tbody tr th {\n",
       "        vertical-align: top;\n",
       "    }\n",
       "\n",
       "    .dataframe thead th {\n",
       "        text-align: right;\n",
       "    }\n",
       "</style>\n",
       "<table border=\"1\" class=\"dataframe\">\n",
       "  <thead>\n",
       "    <tr style=\"text-align: right;\">\n",
       "      <th></th>\n",
       "      <th>input</th>\n",
       "      <th>label</th>\n",
       "    </tr>\n",
       "  </thead>\n",
       "  <tbody>\n",
       "    <tr>\n",
       "      <th>0</th>\n",
       "      <td>king</td>\n",
       "      <td>strong</td>\n",
       "    </tr>\n",
       "    <tr>\n",
       "      <th>1</th>\n",
       "      <td>king</td>\n",
       "      <td>man</td>\n",
       "    </tr>\n",
       "    <tr>\n",
       "      <th>2</th>\n",
       "      <td>strong</td>\n",
       "      <td>king</td>\n",
       "    </tr>\n",
       "    <tr>\n",
       "      <th>3</th>\n",
       "      <td>strong</td>\n",
       "      <td>man</td>\n",
       "    </tr>\n",
       "    <tr>\n",
       "      <th>4</th>\n",
       "      <td>man</td>\n",
       "      <td>king</td>\n",
       "    </tr>\n",
       "    <tr>\n",
       "      <th>5</th>\n",
       "      <td>man</td>\n",
       "      <td>strong</td>\n",
       "    </tr>\n",
       "  </tbody>\n",
       "</table>\n",
       "</div>"
      ],
      "text/plain": [
       "    input   label\n",
       "0    king  strong\n",
       "1    king     man\n",
       "2  strong    king\n",
       "3  strong     man\n",
       "4     man    king\n",
       "5     man  strong"
      ]
     },
     "execution_count": 11,
     "metadata": {},
     "output_type": "execute_result"
    }
   ],
   "source": [
    "df = pd.DataFrame(data, columns=['input', 'label'])\n",
    "df.head(6)"
   ]
  },
  {
   "cell_type": "markdown",
   "id": "378d4b75",
   "metadata": {},
   "source": [
    "텐서플로우로 word2Vec 모델 구현하기\n",
    "\n",
    "<img src=\"./word2vec.png\" width=\"800\" align=\"left\"/>"
   ]
  },
  {
   "cell_type": "code",
   "execution_count": 12,
   "id": "5669a966",
   "metadata": {},
   "outputs": [
    {
     "name": "stdout",
     "output_type": "stream",
     "text": [
      "[1. 0. 0. 0. 0. 0. 0. 0. 0. 0. 0. 0.]\n",
      "[0. 1. 0. 0. 0. 0. 0. 0. 0. 0. 0. 0.]\n",
      "[0. 0. 1. 0. 0. 0. 0. 0. 0. 0. 0. 0.]\n",
      "[0. 0. 0. 1. 0. 0. 0. 0. 0. 0. 0. 0.]\n",
      "[0. 0. 0. 0. 1. 0. 0. 0. 0. 0. 0. 0.]\n",
      "[0. 0. 0. 0. 0. 1. 0. 0. 0. 0. 0. 0.]\n",
      "[0. 0. 0. 0. 0. 0. 1. 0. 0. 0. 0. 0.]\n",
      "[0. 0. 0. 0. 0. 0. 0. 1. 0. 0. 0. 0.]\n",
      "[0. 0. 0. 0. 0. 0. 0. 0. 1. 0. 0. 0.]\n",
      "[0. 0. 0. 0. 0. 0. 0. 0. 0. 1. 0. 0.]\n",
      "[0. 0. 0. 0. 0. 0. 0. 0. 0. 0. 1. 0.]\n",
      "[0. 0. 0. 0. 0. 0. 0. 0. 0. 0. 0. 1.]\n"
     ]
    }
   ],
   "source": [
    "# key(단어)에 할당된 value(인덱스)를 원-핫 인코딩으로 전환하는 함수를 만든다.\n",
    "ONE_HOT_DIM = len(words)\n",
    "def to_one_hot_encoding(data_point_index):\n",
    "    one_hot_encoding = np.zeros(ONE_HOT_DIM)\n",
    "    one_hot_encoding[data_point_index] = 1\n",
    "    return one_hot_encoding\n",
    "\n",
    "for w in word2int:\n",
    "    result = to_one_hot_encoding(word2int[w])\n",
    "    print(result)"
   ]
  },
  {
   "cell_type": "code",
   "execution_count": 13,
   "id": "800cb4c4",
   "metadata": {},
   "outputs": [],
   "source": [
    "# 모델을 만든다.\n",
    "X = [] # 입력 단어\n",
    "Y = [] # 입력 단어에 따른 레이블\n",
    "\n",
    "# 데이터프레임에 저장된 입력과 입력에 따른 결과를 원-핫 인코딩으로 변환해서 X, Y 리스트에 저장한다.\n",
    "for x, y in zip(df['input'], df['label']):\n",
    "    X.append(to_one_hot_encoding(word2int[x]))\n",
    "    Y.append(to_one_hot_encoding(word2int[y]))\n",
    "# print(X[0], Y[0])\n",
    "\n",
    "# 딥러닝 모델의 입력값으로 전환한다.\n",
    "# np.array() 함수는 리스트나 튜플 ndarray(넘파이 배열)를 만드는데 np.asarray() 함수는 인수로 지정한 데이터가\n",
    "# 이미 ndarray 타입의 데이터 형태로 설정되어 있다면 데이터의 형태가 다를 경우에만 복사한다.\n",
    "X_train = np.asarray(X)\n",
    "Y_train = np.asarray(Y)\n",
    "# print(X_train[0], Y_train[0])\n",
    "\n",
    "# 입력 단어와 입력 단어에 따른 레이블을 받기위한 placeholder를 설정한다.\n",
    "x = tf.placeholder(dtype=tf.float32, shape=[None, ONE_HOT_DIM])\n",
    "y_label = tf.placeholder(dtype=tf.float32, shape=[None, ONE_HOT_DIM])\n",
    "\n",
    "# 시각화를 위해 임베딩을 2차원으로 설정한다.\n",
    "EMBEDDING_DIM = 2\n",
    "\n",
    "# 히든 레이어\n",
    "W1 = tf.Variable(tf.truncated_normal([ONE_HOT_DIM, EMBEDDING_DIM], stddev=0.1))\n",
    "hidden_layer = tf.matmul(x, W1)\n",
    "\n",
    "# 출력 레이어\n",
    "W2 = tf.Variable(tf.random_normal([EMBEDDING_DIM, ONE_HOT_DIM]))\n",
    "b2 = tf.Variable(tf.random_normal([1]))\n",
    "predict = tf.nn.softmax(tf.add(tf.matmul(hidden_layer, W2), b2))\n",
    "\n",
    "# 크로스 엔트로피 손실함수\n",
    "loss = tf.reduce_mean(-tf.reduce_sum(y_label * tf.log(predict), axis=1))\n",
    "\n",
    "# 최적화\n",
    "train_op = tf.train.GradientDescentOptimizer(0.01).minimize(loss)"
   ]
  },
  {
   "cell_type": "markdown",
   "id": "9a67ca70",
   "metadata": {},
   "source": [
    "학습 시킨다."
   ]
  },
  {
   "cell_type": "code",
   "execution_count": 14,
   "id": "5ebb5ce2",
   "metadata": {},
   "outputs": [
    {
     "name": "stdout",
     "output_type": "stream",
     "text": [
      "epoch:     0, loss: 2.48592\n",
      "epoch:  2000, loss: 2.35907\n",
      "epoch:  4000, loss: 2.27498\n",
      "epoch:  6000, loss: 2.18352\n",
      "epoch:  8000, loss: 2.09208\n",
      "epoch: 10000, loss: 2.00014\n",
      "epoch: 12000, loss: 1.91185\n",
      "epoch: 14000, loss: 1.85050\n",
      "epoch: 16000, loss: 1.81268\n",
      "epoch: 18000, loss: 1.78923\n",
      "epoch: 20000, loss: 1.77372\n"
     ]
    }
   ],
   "source": [
    "sess = tf.Session()\n",
    "sess.run(tf.global_variables_initializer())\n",
    "for epoch in range(20001):\n",
    "    _, loss_ = sess.run([train_op, loss], feed_dict={x: X_train, y_label: Y_train})\n",
    "    if epoch % 2000 == 0:\n",
    "        print('epoch: {:5d}, loss: {:7.5f}'.format(epoch, loss_))"
   ]
  },
  {
   "cell_type": "markdown",
   "id": "6f58bdb4",
   "metadata": {},
   "source": [
    "히든 레이어의 값(word2Vec) 추출하기"
   ]
  },
  {
   "cell_type": "code",
   "execution_count": 15,
   "id": "e2c3b9b7",
   "metadata": {},
   "outputs": [
    {
     "name": "stdout",
     "output_type": "stream",
     "text": [
      "[[ 1.4185171  -0.7021964 ]\n",
      " [ 2.0747542  -0.8926961 ]\n",
      " [-0.8864832  -0.7376736 ]\n",
      " [ 1.5727232  -0.6486909 ]\n",
      " [ 0.003682    0.28178993]\n",
      " [-0.7352728  -0.6143665 ]\n",
      " [-1.294622   -0.82489187]\n",
      " [ 1.5902253   1.1030873 ]\n",
      " [ 1.4679378  -0.74740595]\n",
      " [-2.279512   -1.5963737 ]\n",
      " [-1.991105    0.427669  ]\n",
      " [-0.9742488   1.9196384 ]]\n"
     ]
    }
   ],
   "source": [
    "vectors = sess.run(W1)\n",
    "print(vectors)"
   ]
  },
  {
   "cell_type": "markdown",
   "id": "4b24ce36",
   "metadata": {},
   "source": [
    "word2Vec의 좌표값을 데이터프레임으로 저장한다."
   ]
  },
  {
   "cell_type": "code",
   "execution_count": 16,
   "id": "4df4af34",
   "metadata": {},
   "outputs": [
    {
     "data": {
      "text/html": [
       "<div>\n",
       "<style scoped>\n",
       "    .dataframe tbody tr th:only-of-type {\n",
       "        vertical-align: middle;\n",
       "    }\n",
       "\n",
       "    .dataframe tbody tr th {\n",
       "        vertical-align: top;\n",
       "    }\n",
       "\n",
       "    .dataframe thead th {\n",
       "        text-align: right;\n",
       "    }\n",
       "</style>\n",
       "<table border=\"1\" class=\"dataframe\">\n",
       "  <thead>\n",
       "    <tr style=\"text-align: right;\">\n",
       "      <th></th>\n",
       "      <th>word</th>\n",
       "      <th>x1</th>\n",
       "      <th>x2</th>\n",
       "    </tr>\n",
       "  </thead>\n",
       "  <tbody>\n",
       "    <tr>\n",
       "      <th>0</th>\n",
       "      <td>man</td>\n",
       "      <td>1.418517</td>\n",
       "      <td>-0.702196</td>\n",
       "    </tr>\n",
       "    <tr>\n",
       "      <th>1</th>\n",
       "      <td>king</td>\n",
       "      <td>2.074754</td>\n",
       "      <td>-0.892696</td>\n",
       "    </tr>\n",
       "    <tr>\n",
       "      <th>2</th>\n",
       "      <td>queen</td>\n",
       "      <td>-0.886483</td>\n",
       "      <td>-0.737674</td>\n",
       "    </tr>\n",
       "    <tr>\n",
       "      <th>3</th>\n",
       "      <td>boy</td>\n",
       "      <td>1.572723</td>\n",
       "      <td>-0.648691</td>\n",
       "    </tr>\n",
       "    <tr>\n",
       "      <th>4</th>\n",
       "      <td>young</td>\n",
       "      <td>0.003682</td>\n",
       "      <td>0.281790</td>\n",
       "    </tr>\n",
       "    <tr>\n",
       "      <th>5</th>\n",
       "      <td>woman</td>\n",
       "      <td>-0.735273</td>\n",
       "      <td>-0.614366</td>\n",
       "    </tr>\n",
       "    <tr>\n",
       "      <th>6</th>\n",
       "      <td>girl</td>\n",
       "      <td>-1.294622</td>\n",
       "      <td>-0.824892</td>\n",
       "    </tr>\n",
       "    <tr>\n",
       "      <th>7</th>\n",
       "      <td>strong</td>\n",
       "      <td>1.590225</td>\n",
       "      <td>1.103087</td>\n",
       "    </tr>\n",
       "    <tr>\n",
       "      <th>8</th>\n",
       "      <td>prince</td>\n",
       "      <td>1.467938</td>\n",
       "      <td>-0.747406</td>\n",
       "    </tr>\n",
       "    <tr>\n",
       "      <th>9</th>\n",
       "      <td>princess</td>\n",
       "      <td>-2.279512</td>\n",
       "      <td>-1.596374</td>\n",
       "    </tr>\n",
       "    <tr>\n",
       "      <th>10</th>\n",
       "      <td>wise</td>\n",
       "      <td>-1.991105</td>\n",
       "      <td>0.427669</td>\n",
       "    </tr>\n",
       "    <tr>\n",
       "      <th>11</th>\n",
       "      <td>pretty</td>\n",
       "      <td>-0.974249</td>\n",
       "      <td>1.919638</td>\n",
       "    </tr>\n",
       "  </tbody>\n",
       "</table>\n",
       "</div>"
      ],
      "text/plain": [
       "        word        x1        x2\n",
       "0        man  1.418517 -0.702196\n",
       "1       king  2.074754 -0.892696\n",
       "2      queen -0.886483 -0.737674\n",
       "3        boy  1.572723 -0.648691\n",
       "4      young  0.003682  0.281790\n",
       "5      woman -0.735273 -0.614366\n",
       "6       girl -1.294622 -0.824892\n",
       "7     strong  1.590225  1.103087\n",
       "8     prince  1.467938 -0.747406\n",
       "9   princess -2.279512 -1.596374\n",
       "10      wise -1.991105  0.427669\n",
       "11    pretty -0.974249  1.919638"
      ]
     },
     "execution_count": 16,
     "metadata": {},
     "output_type": "execute_result"
    }
   ],
   "source": [
    "w2v_df = pd.DataFrame(vectors, columns=['x1', 'x2'])\n",
    "w2v_df['word'] = words\n",
    "w2v_df = w2v_df[['word', 'x1', 'x2']]\n",
    "w2v_df"
   ]
  },
  {
   "cell_type": "markdown",
   "id": "8bd226cf",
   "metadata": {},
   "source": [
    "word2Vec를 2차원 공간에 시각화한다."
   ]
  },
  {
   "cell_type": "code",
   "execution_count": 18,
   "id": "1a38ce1d",
   "metadata": {},
   "outputs": [
    {
     "data": {
      "image/png": "[encoded data removed]",
      "text/plain": [
       "<Figure size 864x720 with 1 Axes>"
      ]
     },
     "metadata": {
      "needs_background": "light"
     },
     "output_type": "display_data"
    }
   ],
   "source": [
    "fig, ax = plt.subplots()\n",
    "for word, x1, x2 in zip(w2v_df['word'], w2v_df['x1'], w2v_df['x2']):\n",
    "    ax.annotate(word, (x1, x2))\n",
    "    \n",
    "PADDING = 1.0\n",
    "x_axis_min = np.amin(vectors, axis=0)[0] - PADDING\n",
    "y_axis_min = np.amin(vectors, axis=0)[1] - PADDING\n",
    "x_axis_max = np.amax(vectors, axis=0)[0] + PADDING\n",
    "y_axis_max = np.amax(vectors, axis=0)[1] + PADDING\n",
    "\n",
    "plt.xlim(x_axis_min, x_axis_max)\n",
    "plt.ylim(y_axis_min, y_axis_max)\n",
    "plt.rcParams['figure.figsize'] = [12, 10]\n",
    "plt.show()"
   ]
  },
  {
   "cell_type": "code",
   "execution_count": null,
   "id": "96de4254",
   "metadata": {},
   "outputs": [],
   "source": []
  },
  {
   "cell_type": "code",
   "execution_count": null,
   "id": "47a09dd8",
   "metadata": {},
   "outputs": [],
   "source": []
  }
 ],
 "metadata": {
  "kernelspec": {
   "display_name": "py36",
   "language": "python",
   "name": "py36"
  },
  "language_info": {
   "codemirror_mode": {
    "name": "ipython",
    "version": 3
   },
   "file_extension": ".py",
   "mimetype": "text/x-python",
   "name": "python",
   "nbconvert_exporter": "python",
   "pygments_lexer": "ipython3",
   "version": "3.6.13"
  }
 },
 "nbformat": 4,
 "nbformat_minor": 5
}
