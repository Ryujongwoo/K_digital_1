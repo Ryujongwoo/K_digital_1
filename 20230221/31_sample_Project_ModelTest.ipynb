{
 "cells": [
  {
   "cell_type": "code",
   "execution_count": 1,
   "id": "70ab8a28",
   "metadata": {},
   "outputs": [
    {
     "name": "stdout",
     "output_type": "stream",
     "text": [
      "WARNING:tensorflow:From D:\\anaconda3\\envs\\py36\\lib\\site-packages\\tensorflow\\python\\compat\\v2_compat.py:101: disable_resource_variables (from tensorflow.python.ops.variable_scope) is deprecated and will be removed in a future version.\n",
      "Instructions for updating:\n",
      "non-resource variables are not supported in the long term\n"
     ]
    }
   ],
   "source": [
    "%config Completer.use_jedi = False\n",
    "import warnings\n",
    "warnings.filterwarnings(action='ignore')\n",
    "import tensorflow.compat.v1 as tf\n",
    "tf.disable_v2_behavior()"
   ]
  },
  {
   "cell_type": "code",
   "execution_count": 2,
   "id": "bdab87f7",
   "metadata": {},
   "outputs": [],
   "source": [
    "X = tf.placeholder(dtype=tf.float32, shape=[None, 4])\n",
    "a = tf.Variable(tf.random_uniform([4, 1]), dtype=tf.float32)\n",
    "b = tf.Variable(tf.random_uniform([1]), dtype=tf.float32)\n",
    "y = tf.matmul(X, a) + b"
   ]
  },
  {
   "cell_type": "code",
   "execution_count": 3,
   "id": "b78b2798",
   "metadata": {},
   "outputs": [
    {
     "name": "stdout",
     "output_type": "stream",
     "text": [
      "평균온도: 2\n",
      "최저온도: 1\n",
      "최고온도: 3\n",
      "강수량: 5\n"
     ]
    }
   ],
   "source": [
    "# 배추 가격을 결정하는 4가지 변화 요인을 입력받는다.\n",
    "# input() 함수는 무조건 문자열로 입력을 받기 때문에 입력받은 후 int()나 float() 함수를 사용해서 숫자로 변환한다.\n",
    "avgTemp = float(input('평균온도: '))\n",
    "minTemp = float(input('최저온도: '))\n",
    "maxTemp = float(input('최고온도: '))\n",
    "rainFall = float(input('강수량: '))"
   ]
  },
  {
   "cell_type": "code",
   "execution_count": 4,
   "id": "37fb2cb6",
   "metadata": {},
   "outputs": [
    {
     "name": "stdout",
     "output_type": "stream",
     "text": [
      "INFO:tensorflow:Restoring parameters from ./model/saved.cpkt\n",
      "평균온도:  2.0, 최저온도:  1.0, 최고온도:  3.0, 강수량:  5.0일 때 배추 가격은 2,915.92원 입니다.\n"
     ]
    }
   ],
   "source": [
    "sess = tf.Session()\n",
    "sess.run(tf.global_variables_initializer())\n",
    "\n",
    "# 디스크에 저장된 학습된 모델을 불러와 적용시킨다.\n",
    "saver = tf.train.Saver()\n",
    "# save() 함수로 저장한 학습 모델은 restore() 함수를 사용해서 세션으로 불러올 수 있다.\n",
    "saver.restore(sess, './model/saved.cpkt')\n",
    "\n",
    "# 키보드로 입력받은 데이터를 불러온 학습 모델에서 사용하기 위해 2차원 배열 형태로 만든다.\n",
    "data = [[avgTemp, minTemp, maxTemp, rainFall]] # 2차원 리스트\n",
    "\n",
    "# 불러온 학습 모델을 키보드로 입력한 데이터를 적용시켜 배추 가격을 예측한다.\n",
    "result = sess.run(y, feed_dict={X: data})\n",
    "print('평균온도: {:4.1f}, 최저온도: {:4.1f}, 최고온도: {:4.1f}, 강수량: {:4.1f}일 때 '\\\n",
    "      '배추 가격은 {:7,.2f}원 입니다.'.format(avgTemp, minTemp, maxTemp, rainFall, result[0][0]))"
   ]
  },
  {
   "cell_type": "code",
   "execution_count": null,
   "id": "6c089c44",
   "metadata": {},
   "outputs": [],
   "source": []
  },
  {
   "cell_type": "code",
   "execution_count": null,
   "id": "b96afc69",
   "metadata": {},
   "outputs": [],
   "source": []
  },
  {
   "cell_type": "code",
   "execution_count": null,
   "id": "569cc97e",
   "metadata": {},
   "outputs": [],
   "source": []
  }
 ],
 "metadata": {
  "kernelspec": {
   "display_name": "py36",
   "language": "python",
   "name": "py36"
  },
  "language_info": {
   "codemirror_mode": {
    "name": "ipython",
    "version": 3
   },
   "file_extension": ".py",
   "mimetype": "text/x-python",
   "name": "python",
   "nbconvert_exporter": "python",
   "pygments_lexer": "ipython3",
   "version": "3.6.13"
  }
 },
 "nbformat": 4,
 "nbformat_minor": 5
}
