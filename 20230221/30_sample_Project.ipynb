{
 "cells": [
  {
   "cell_type": "code",
   "execution_count": 1,
   "id": "04d69e82",
   "metadata": {},
   "outputs": [
    {
     "name": "stdout",
     "output_type": "stream",
     "text": [
      "WARNING:tensorflow:From D:\\anaconda3\\envs\\py36\\lib\\site-packages\\tensorflow\\python\\compat\\v2_compat.py:101: disable_resource_variables (from tensorflow.python.ops.variable_scope) is deprecated and will be removed in a future version.\n",
      "Instructions for updating:\n",
      "non-resource variables are not supported in the long term\n"
     ]
    }
   ],
   "source": [
    "%config Completer.use_jedi = False\n",
    "import warnings\n",
    "warnings.filterwarnings(action='ignore')\n",
    "import tensorflow.compat.v1 as tf\n",
    "tf.disable_v2_behavior()\n",
    "import numpy as np\n",
    "import pandas as pd"
   ]
  },
  {
   "attachments": {},
   "cell_type": "markdown",
   "id": "ceec95e9",
   "metadata": {},
   "source": [
    "날씨와 농산물 가격은 어떤 상관관계가 있는지 예측한다.  \n",
    "기상정보: 기상자료개방포털(https://data.kma.go.kr/), 농산물 가격정보: 농산물유통정보(https://www.kamis.or.kr/)\n",
    "***\n",
    "기상정보: 평균기온(avgTemp), 최저기온(minTemp), 최고기온(maxTemp), 강수량(rainFall)  \n",
    "농산물가격정보: 배추가격(avgPrice)"
   ]
  },
  {
   "cell_type": "code",
   "execution_count": 2,
   "id": "53b1205a",
   "metadata": {},
   "outputs": [
    {
     "data": {
      "text/html": [
       "<div>\n",
       "<style scoped>\n",
       "    .dataframe tbody tr th:only-of-type {\n",
       "        vertical-align: middle;\n",
       "    }\n",
       "\n",
       "    .dataframe tbody tr th {\n",
       "        vertical-align: top;\n",
       "    }\n",
       "\n",
       "    .dataframe thead th {\n",
       "        text-align: right;\n",
       "    }\n",
       "</style>\n",
       "<table border=\"1\" class=\"dataframe\">\n",
       "  <thead>\n",
       "    <tr style=\"text-align: right;\">\n",
       "      <th></th>\n",
       "      <th>year</th>\n",
       "      <th>avgTemp</th>\n",
       "      <th>minTemp</th>\n",
       "      <th>maxTemp</th>\n",
       "      <th>rainFall</th>\n",
       "      <th>avgPrice</th>\n",
       "    </tr>\n",
       "  </thead>\n",
       "  <tbody>\n",
       "    <tr>\n",
       "      <th>0</th>\n",
       "      <td>20100101</td>\n",
       "      <td>-4.9</td>\n",
       "      <td>-11.0</td>\n",
       "      <td>0.9</td>\n",
       "      <td>0.0</td>\n",
       "      <td>2123</td>\n",
       "    </tr>\n",
       "    <tr>\n",
       "      <th>1</th>\n",
       "      <td>20100102</td>\n",
       "      <td>-3.1</td>\n",
       "      <td>-5.5</td>\n",
       "      <td>5.5</td>\n",
       "      <td>0.8</td>\n",
       "      <td>2123</td>\n",
       "    </tr>\n",
       "    <tr>\n",
       "      <th>2</th>\n",
       "      <td>20100103</td>\n",
       "      <td>-2.9</td>\n",
       "      <td>-6.9</td>\n",
       "      <td>1.4</td>\n",
       "      <td>0.0</td>\n",
       "      <td>2123</td>\n",
       "    </tr>\n",
       "    <tr>\n",
       "      <th>3</th>\n",
       "      <td>20100104</td>\n",
       "      <td>-1.8</td>\n",
       "      <td>-5.1</td>\n",
       "      <td>2.2</td>\n",
       "      <td>5.9</td>\n",
       "      <td>2020</td>\n",
       "    </tr>\n",
       "    <tr>\n",
       "      <th>4</th>\n",
       "      <td>20100105</td>\n",
       "      <td>-5.2</td>\n",
       "      <td>-8.7</td>\n",
       "      <td>-1.8</td>\n",
       "      <td>0.7</td>\n",
       "      <td>2060</td>\n",
       "    </tr>\n",
       "    <tr>\n",
       "      <th>...</th>\n",
       "      <td>...</td>\n",
       "      <td>...</td>\n",
       "      <td>...</td>\n",
       "      <td>...</td>\n",
       "      <td>...</td>\n",
       "      <td>...</td>\n",
       "    </tr>\n",
       "    <tr>\n",
       "      <th>2917</th>\n",
       "      <td>20171227</td>\n",
       "      <td>-3.9</td>\n",
       "      <td>-8.0</td>\n",
       "      <td>0.7</td>\n",
       "      <td>0.0</td>\n",
       "      <td>2865</td>\n",
       "    </tr>\n",
       "    <tr>\n",
       "      <th>2918</th>\n",
       "      <td>20171228</td>\n",
       "      <td>-1.5</td>\n",
       "      <td>-6.9</td>\n",
       "      <td>3.7</td>\n",
       "      <td>0.0</td>\n",
       "      <td>2884</td>\n",
       "    </tr>\n",
       "    <tr>\n",
       "      <th>2919</th>\n",
       "      <td>20171229</td>\n",
       "      <td>2.9</td>\n",
       "      <td>-2.1</td>\n",
       "      <td>8.0</td>\n",
       "      <td>0.0</td>\n",
       "      <td>2901</td>\n",
       "    </tr>\n",
       "    <tr>\n",
       "      <th>2920</th>\n",
       "      <td>20171230</td>\n",
       "      <td>2.9</td>\n",
       "      <td>-1.6</td>\n",
       "      <td>7.1</td>\n",
       "      <td>0.6</td>\n",
       "      <td>2901</td>\n",
       "    </tr>\n",
       "    <tr>\n",
       "      <th>2921</th>\n",
       "      <td>20171231</td>\n",
       "      <td>2.1</td>\n",
       "      <td>-2.0</td>\n",
       "      <td>5.8</td>\n",
       "      <td>0.4</td>\n",
       "      <td>2901</td>\n",
       "    </tr>\n",
       "  </tbody>\n",
       "</table>\n",
       "<p>2922 rows × 6 columns</p>\n",
       "</div>"
      ],
      "text/plain": [
       "          year  avgTemp  minTemp  maxTemp  rainFall  avgPrice\n",
       "0     20100101     -4.9    -11.0      0.9       0.0      2123\n",
       "1     20100102     -3.1     -5.5      5.5       0.8      2123\n",
       "2     20100103     -2.9     -6.9      1.4       0.0      2123\n",
       "3     20100104     -1.8     -5.1      2.2       5.9      2020\n",
       "4     20100105     -5.2     -8.7     -1.8       0.7      2060\n",
       "...        ...      ...      ...      ...       ...       ...\n",
       "2917  20171227     -3.9     -8.0      0.7       0.0      2865\n",
       "2918  20171228     -1.5     -6.9      3.7       0.0      2884\n",
       "2919  20171229      2.9     -2.1      8.0       0.0      2901\n",
       "2920  20171230      2.9     -1.6      7.1       0.6      2901\n",
       "2921  20171231      2.1     -2.0      5.8       0.4      2901\n",
       "\n",
       "[2922 rows x 6 columns]"
      ]
     },
     "execution_count": 2,
     "metadata": {},
     "output_type": "execute_result"
    }
   ],
   "source": [
    "# price_data.csv 파일을 읽어서 판다스 데이터프레임으로 저장한다.\n",
    "# csv 파일의 첫 줄에 컬럼 이름(헤더)이 없을 경우는 아래와 같이 읽어서 컬럼 이름을 붙여준다.\n",
    "# price_data = pd.read_csv('./data/price_data.csv', header=None)\n",
    "# columns = ['year', 'avgTemp', 'minTemp', 'maxTemp', 'rainFall', 'avgPrice']\n",
    "# price_data.columns = columns\n",
    "price_data = pd.read_csv('./data/price_data.csv')\n",
    "# print(type(price_data))\n",
    "price_data"
   ]
  },
  {
   "cell_type": "code",
   "execution_count": 3,
   "id": "e408073b",
   "metadata": {},
   "outputs": [
    {
     "data": {
      "text/plain": [
       "array([[ 2.0100100e+07, -4.9000001e+00, -1.1000000e+01,  8.9999998e-01,\n",
       "         0.0000000e+00,  2.1230000e+03],\n",
       "       [ 2.0100102e+07, -3.0999999e+00, -5.5000000e+00,  5.5000000e+00,\n",
       "         8.0000001e-01,  2.1230000e+03],\n",
       "       [ 2.0100104e+07, -2.9000001e+00, -6.9000001e+00,  1.4000000e+00,\n",
       "         0.0000000e+00,  2.1230000e+03],\n",
       "       ...,\n",
       "       [ 2.0171228e+07,  2.9000001e+00, -2.0999999e+00,  8.0000000e+00,\n",
       "         0.0000000e+00,  2.9010000e+03],\n",
       "       [ 2.0171230e+07,  2.9000001e+00, -1.6000000e+00,  7.0999999e+00,\n",
       "         6.0000002e-01,  2.9010000e+03],\n",
       "       [ 2.0171232e+07,  2.0999999e+00, -2.0000000e+00,  5.8000002e+00,\n",
       "         4.0000001e-01,  2.9010000e+03]], dtype=float32)"
      ]
     },
     "execution_count": 3,
     "metadata": {},
     "output_type": "execute_result"
    }
   ],
   "source": [
    "# 데이터프레임에 저장된 데이터를 텐서플로우에서 처리하기에 적합하도록 넘파이 배열 형태로 변환한다.\n",
    "data = np.array(price_data, dtype=np.float32)\n",
    "# print(type(data))\n",
    "data"
   ]
  },
  {
   "cell_type": "code",
   "execution_count": 4,
   "id": "327aaf39",
   "metadata": {},
   "outputs": [
    {
     "data": {
      "text/plain": [
       "array([[ -4.9, -11. ,   0.9,   0. ],\n",
       "       [ -3.1,  -5.5,   5.5,   0.8],\n",
       "       [ -2.9,  -6.9,   1.4,   0. ],\n",
       "       ...,\n",
       "       [  2.9,  -2.1,   8. ,   0. ],\n",
       "       [  2.9,  -1.6,   7.1,   0.6],\n",
       "       [  2.1,  -2. ,   5.8,   0.4]], dtype=float32)"
      ]
     },
     "execution_count": 4,
     "metadata": {},
     "output_type": "execute_result"
    }
   ],
   "source": [
    "# 넘파이 배열에서 변화 요인 데이터(평균기온, 최저기온, 최고기온, 강수량)로 사용할 데이터를 뽑아낸다.\n",
    "xData = data[:, 1:5]\n",
    "# print(type(xData))\n",
    "xData"
   ]
  },
  {
   "cell_type": "code",
   "execution_count": 5,
   "id": "5a5b13e8",
   "metadata": {},
   "outputs": [
    {
     "data": {
      "text/plain": [
       "array([[2123.],\n",
       "       [2123.],\n",
       "       [2123.],\n",
       "       ...,\n",
       "       [2901.],\n",
       "       [2901.],\n",
       "       [2901.]], dtype=float32)"
      ]
     },
     "execution_count": 5,
     "metadata": {},
     "output_type": "execute_result"
    }
   ],
   "source": [
    "# 넘파이 배열에서 결과(평균가격)로 사용할 데이터를 뽑아낸다.\n",
    "# yData = data[:, 5] # 인덱싱으로 뽑아내면 1차원 데이터로 뽑아낸다.\n",
    "# 변화 요인이 2차원이므로 결과도 2차원 형태로 뽑아내야 한다.\n",
    "# yData = data[:, 5:6] # 슬라이싱으로 뽑아내면 2차원 데이터로 뽑아낸다.\n",
    "yData = data[:, [5]]\n",
    "# print(type(yData))\n",
    "yData"
   ]
  },
  {
   "cell_type": "code",
   "execution_count": 6,
   "id": "9a7b66e8",
   "metadata": {},
   "outputs": [],
   "source": [
    "# 뽑아낸 데이터를 텐서플로우에서 처리하기 위해서 placeholder를 만든다.\n",
    "X = tf.placeholder(dtype=tf.float32, shape=[None, 4]) # 변화요인(평균기온, 최저기온, 최고기온, 강수량)\n",
    "Y = tf.placeholder(dtype=tf.float32, shape=[None, 1]) # 가격(실제값)"
   ]
  },
  {
   "cell_type": "code",
   "execution_count": 7,
   "id": "2ffa7691",
   "metadata": {},
   "outputs": [
    {
     "name": "stdout",
     "output_type": "stream",
     "text": [
      "가중치\n",
      "[[0.7213738 ]\n",
      " [0.62180185]\n",
      " [0.5066409 ]\n",
      " [0.01786518]]\n",
      "y절편\n",
      "[0.8384086]\n"
     ]
    }
   ],
   "source": [
    "# 다변인 선형 회귀 모델의 기울기(가중치)와 y절편(바이어스)을 임의의 값으로 초기화한다.\n",
    "a = tf.Variable(tf.random_uniform([4, 1]), dtype=tf.float32) # 기울기, 4행 1열의 난수로 발생시킨다.\n",
    "b = tf.Variable(tf.random_uniform([1]), dtype=tf.float32) # y절편\n",
    "sess = tf.Session()\n",
    "sess.run(tf.global_variables_initializer())\n",
    "print('가중치\\n', sess.run(a), sep='')\n",
    "print('y절편\\n', sess.run(b), sep='')"
   ]
  },
  {
   "cell_type": "code",
   "execution_count": 8,
   "id": "919ab3a8",
   "metadata": {},
   "outputs": [],
   "source": [
    "# 행렬의 곱셈 연산을 이용해서 다변인 선형 회귀 모델의 가설 식을 세운다. => 예측값을 계산하는 식\n",
    "y = tf.matmul(X, a) + b # 예측값\n",
    "# 오차함수를 만든다. => 예측값(y)과 실제값(Y)의 편차의 제곱에 대한 평균 => 평균 제곱법\n",
    "loss = tf.reduce_mean(tf.square(y - Y))\n",
    "# 경사하강법 알고리즘을 사용해서 오차함수의 결과를 최소로 하는 기울기와 y절편을 찾는다.\n",
    "gradient_descent = tf.train.GradientDescentOptimizer(0.001).minimize(loss)"
   ]
  },
  {
   "cell_type": "code",
   "execution_count": 9,
   "id": "f79f037e",
   "metadata": {
    "scrolled": false
   },
   "outputs": [
    {
     "name": "stdout",
     "output_type": "stream",
     "text": [
      "epoch:      0, loss: 12420579.000, price:    -7.05\n",
      "epoch:   5000, loss:  1965985.375, price:  2649.74\n",
      "epoch:  10000, loss:  1873647.750, price:  2720.10\n",
      "epoch:  15000, loss:  1842602.625, price:  2771.75\n",
      "epoch:  20000, loss:  1831589.250, price:  2805.98\n",
      "epoch:  25000, loss:  1827613.375, price:  2827.65\n",
      "epoch:  30000, loss:  1826169.125, price:  2841.07\n",
      "epoch:  35000, loss:  1825644.125, price:  2849.28\n",
      "epoch:  40000, loss:  1825453.250, price:  2854.27\n",
      "epoch:  45000, loss:  1825383.750, price:  2857.29\n",
      "epoch:  50000, loss:  1825358.125, price:  2859.12\n",
      "epoch:  55000, loss:  1825349.000, price:  2860.22\n",
      "epoch:  60000, loss:  1825345.875, price:  2860.89\n",
      "epoch:  65000, loss:  1825344.875, price:  2861.29\n",
      "epoch:  70000, loss:  1825344.250, price:  2861.52\n",
      "epoch:  75000, loss:  1825344.000, price:  2861.69\n",
      "epoch:  80000, loss:  1825343.625, price:  2861.73\n",
      "epoch:  85000, loss:  1825344.000, price:  2861.74\n",
      "epoch:  90000, loss:  1825344.000, price:  2861.74\n",
      "epoch:  95000, loss:  1825344.000, price:  2861.74\n",
      "epoch: 100000, loss:  1825344.000, price:  2861.74\n"
     ]
    }
   ],
   "source": [
    "# 학습시킨다.\n",
    "sess = tf.Session()\n",
    "sess.run(tf.global_variables_initializer())\n",
    "\n",
    "for epoch in range(100001):\n",
    "    loss_, y_, _ = sess.run([loss, y, gradient_descent], feed_dict={X: xData, Y: yData})\n",
    "    if epoch % 5000 == 0:\n",
    "        # print('epoch: %6d, loss: %12.3f, price: %8.2f' % (epoch, loss_, y_[0]))\n",
    "        print('epoch: {:6d}, loss: {:12.3f}, price: {:8.2f}'.format(epoch, loss_, y_[0][0]))"
   ]
  },
  {
   "cell_type": "code",
   "execution_count": 10,
   "id": "b314b131",
   "metadata": {},
   "outputs": [
    {
     "name": "stdout",
     "output_type": "stream",
     "text": [
      "평균온도:  5.2, 최저온도: -7.5, 최고온도: 10.1, 강수량: 15.0일 때 배추 가격은 2,802.26원 입니다.\n"
     ]
    }
   ],
   "source": [
    "# 테스트\n",
    "data = [[5.2, -7.5, 10.1, 15.0]]\n",
    "result = sess.run(y, feed_dict={X: data})\n",
    "print('평균온도: {:4.1f}, 최저온도: {:4.1f}, 최고온도: {:4.1f}, 강수량: {:4.1f}일 때 '\\\n",
    "      '배추 가격은 {:7,.2f}원 입니다.'.format(data[0][0], data[0][1], data[0][2], data[0][3], result[0][0]))"
   ]
  },
  {
   "cell_type": "code",
   "execution_count": 11,
   "id": "a247bc24",
   "metadata": {},
   "outputs": [
    {
     "name": "stdout",
     "output_type": "stream",
     "text": [
      "학습된 모델을 저장했습니다.\n"
     ]
    }
   ],
   "source": [
    "# 학습 완료된 예측 모델을 디스크에 저장한다.\n",
    "# Saver() 함수로 텐서플로우에서 학습된 모델을 디스크에 저장 또는 불러올 때 사용하는 객체를 생성한다.\n",
    "saver = tf.train.Saver()\n",
    "saver.save(sess, './model/saved.cpkt')\n",
    "print('학습된 모델을 저장했습니다.')"
   ]
  },
  {
   "cell_type": "markdown",
   "id": "c0e73cde",
   "metadata": {},
   "source": [
    "<img src=\"./model.png\" width=\"800\" align=\"left\"/>"
   ]
  },
  {
   "cell_type": "code",
   "execution_count": null,
   "id": "151d3bc3",
   "metadata": {},
   "outputs": [],
   "source": []
  },
  {
   "cell_type": "code",
   "execution_count": null,
   "id": "29585b1f",
   "metadata": {},
   "outputs": [],
   "source": []
  }
 ],
 "metadata": {
  "kernelspec": {
   "display_name": "py36",
   "language": "python",
   "name": "py36"
  },
  "language_info": {
   "codemirror_mode": {
    "name": "ipython",
    "version": 3
   },
   "file_extension": ".py",
   "mimetype": "text/x-python",
   "name": "python",
   "nbconvert_exporter": "python",
   "pygments_lexer": "ipython3",
   "version": "3.6.13"
  }
 },
 "nbformat": 4,
 "nbformat_minor": 5
}
