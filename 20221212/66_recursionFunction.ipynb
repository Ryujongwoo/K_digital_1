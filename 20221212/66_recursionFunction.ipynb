{
 "cells": [
  {
   "cell_type": "code",
   "execution_count": 3,
   "id": "1a1231f1",
   "metadata": {},
   "outputs": [],
   "source": [
    "# factorial을 계산하는 일반 함수\n",
    "def factorial(number):\n",
    "    fact = 1\n",
    "    for i in range(1, number + 1):\n",
    "        fact *= i\n",
    "    return fact"
   ]
  },
  {
   "cell_type": "code",
   "execution_count": 4,
   "id": "36bd9398",
   "metadata": {},
   "outputs": [
    {
     "name": "stdout",
     "output_type": "stream",
     "text": [
      "숫자를 입력하세요: 5\n",
      "120\n"
     ]
    }
   ],
   "source": [
    "number = int(input('숫자를 입력하세요: '))\n",
    "fact = factorial(number)\n",
    "print(fact)"
   ]
  },
  {
   "cell_type": "code",
   "execution_count": 7,
   "id": "14fa05f0",
   "metadata": {},
   "outputs": [],
   "source": [
    "# factorial을 계산하는 recursion 함수\n",
    "def factorialRecursion(number):\n",
    "    if number == 1:\n",
    "        return 1\n",
    "    return number * factorialRecursion(number - 1)"
   ]
  },
  {
   "cell_type": "markdown",
   "id": "383a06a5",
   "metadata": {},
   "source": [
    "number에 5가 넘어왔을 때 함수가 실행되는 순서  \n",
    "5 * factorialRecursion(4)  \n",
    "5 * (4 * factorialRecursion(3))  \n",
    "5 * (4 * (3 * factorialRecursion(2)))  \n",
    "5 * (4 * (3 * (2 * factorialRecursion(1))))  \n",
    "5 * (4 * (3 * (2 * (1))))  \n",
    "***\n",
    "5 * (4 * (3 * (2 * 1)))  \n",
    "5 * (4 * (3 * 2))  \n",
    "5 * (4 * 6)  \n",
    "5 * 24  \n",
    "120"
   ]
  },
  {
   "cell_type": "code",
   "execution_count": 8,
   "id": "fe00f753",
   "metadata": {},
   "outputs": [
    {
     "name": "stdout",
     "output_type": "stream",
     "text": [
      "숫자를 입력하세요: 5\n",
      "120\n"
     ]
    }
   ],
   "source": [
    "number = int(input('숫자를 입력하세요: '))\n",
    "fact = factorialRecursion(number)\n",
    "print(fact)"
   ]
  },
  {
   "cell_type": "code",
   "execution_count": null,
   "id": "46b8d310",
   "metadata": {},
   "outputs": [],
   "source": []
  },
  {
   "cell_type": "code",
   "execution_count": null,
   "id": "4caab5b8",
   "metadata": {},
   "outputs": [],
   "source": []
  },
  {
   "cell_type": "code",
   "execution_count": null,
   "id": "e1f3484c",
   "metadata": {},
   "outputs": [],
   "source": []
  }
 ],
 "metadata": {
  "kernelspec": {
   "display_name": "Python 3",
   "language": "python",
   "name": "python3"
  },
  "language_info": {
   "codemirror_mode": {
    "name": "ipython",
    "version": 3
   },
   "file_extension": ".py",
   "mimetype": "text/x-python",
   "name": "python",
   "nbconvert_exporter": "python",
   "pygments_lexer": "ipython3",
   "version": "3.6.8"
  }
 },
 "nbformat": 4,
 "nbformat_minor": 5
}
