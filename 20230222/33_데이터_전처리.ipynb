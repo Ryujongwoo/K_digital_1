{
 "cells": [
  {
   "cell_type": "code",
   "execution_count": 1,
   "id": "455141b6",
   "metadata": {},
   "outputs": [],
   "source": [
    "%config Completer.use_jedi = False\n",
    "import warnings\n",
    "warnings.filterwarnings(action='ignore')"
   ]
  },
  {
   "cell_type": "code",
   "execution_count": 2,
   "id": "23116a2a",
   "metadata": {},
   "outputs": [],
   "source": [
    "import numpy as np\n",
    "import pandas as pd\n",
    "import matplotlib.pyplot as plt\n",
    "import seaborn as sns\n",
    "from sklearn import datasets"
   ]
  },
  {
   "cell_type": "markdown",
   "id": "501675c0",
   "metadata": {},
   "source": [
    "데이터 전처리  \n",
    "우리가 실제로 접하게 되는 데이터는 사이킷런에서 제공하는 데이터와는 다르게 머신러닝을 적용하기 전에 데이터를 가공해야 하는 경우가 많다. 이를 데이터 전처리, 피처 엔지니어링 등으로 부른다.\n",
    "\n",
    "결측치 처리  \n",
    "데이터셋의 일부에 데이터가 존재하지 않을 경우 결측치(missing value)라고 부르며, 머신러닝 알고리즘을 적용하기 전에 미리 결측치를 처리하는 것이 중요하다."
   ]
  },
  {
   "cell_type": "code",
   "execution_count": 3,
   "id": "9c45665b",
   "metadata": {},
   "outputs": [
    {
     "data": {
      "text/html": [
       "<div>\n",
       "<style scoped>\n",
       "    .dataframe tbody tr th:only-of-type {\n",
       "        vertical-align: middle;\n",
       "    }\n",
       "\n",
       "    .dataframe tbody tr th {\n",
       "        vertical-align: top;\n",
       "    }\n",
       "\n",
       "    .dataframe thead th {\n",
       "        text-align: right;\n",
       "    }\n",
       "</style>\n",
       "<table border=\"1\" class=\"dataframe\">\n",
       "  <thead>\n",
       "    <tr style=\"text-align: right;\">\n",
       "      <th></th>\n",
       "      <th>age</th>\n",
       "      <th>gender</th>\n",
       "      <th>month_birth</th>\n",
       "      <th>hobby</th>\n",
       "      <th>target</th>\n",
       "    </tr>\n",
       "  </thead>\n",
       "  <tbody>\n",
       "    <tr>\n",
       "      <th>0</th>\n",
       "      <td>42</td>\n",
       "      <td>male</td>\n",
       "      <td>12</td>\n",
       "      <td>reading</td>\n",
       "      <td>class2</td>\n",
       "    </tr>\n",
       "    <tr>\n",
       "      <th>1</th>\n",
       "      <td>35</td>\n",
       "      <td>unknown</td>\n",
       "      <td>3</td>\n",
       "      <td>cooking</td>\n",
       "      <td>class1</td>\n",
       "    </tr>\n",
       "    <tr>\n",
       "      <th>2</th>\n",
       "      <td>1000</td>\n",
       "      <td>female</td>\n",
       "      <td>7</td>\n",
       "      <td>cycling</td>\n",
       "      <td>class3</td>\n",
       "    </tr>\n",
       "    <tr>\n",
       "      <th>3</th>\n",
       "      <td>1000</td>\n",
       "      <td>unknown</td>\n",
       "      <td>21</td>\n",
       "      <td>unknown</td>\n",
       "      <td>unknown</td>\n",
       "    </tr>\n",
       "  </tbody>\n",
       "</table>\n",
       "</div>"
      ],
      "text/plain": [
       "    age   gender  month_birth    hobby   target\n",
       "0    42     male           12  reading   class2\n",
       "1    35  unknown            3  cooking   class1\n",
       "2  1000   female            7  cycling   class3\n",
       "3  1000  unknown           21  unknown  unknown"
      ]
     },
     "execution_count": 3,
     "metadata": {},
     "output_type": "execute_result"
    }
   ],
   "source": [
    "df = pd.DataFrame([\n",
    "    [42, 'male', 12, 'reading', 'class2'],\n",
    "    [35, 'unknown', 3, 'cooking', 'class1'],\n",
    "    [1000, 'female', 7, 'cycling', 'class3'],\n",
    "    [1000, 'unknown', 21, 'unknown', 'unknown']\n",
    "])\n",
    "df.columns = ['age', 'gender', 'month_birth', 'hobby', 'target'] # 나이, 성별, 태어난 달, 취미, 타겟\n",
    "df\n",
    "# 데이터프레임에 데이터가 존재하지 않는 결측치는 없지만 부적절한 값이 존재한다.\n",
    "# 나이에 1000이라는 값이 존재하는 것과 나머지 피쳐에 unknown이라는 값으로 입력된 부적절한 값은 결측치로 처리하는\n",
    "# 것이 좋다."
   ]
  },
  {
   "cell_type": "code",
   "execution_count": 4,
   "id": "707c263a",
   "metadata": {},
   "outputs": [
    {
     "name": "stdout",
     "output_type": "stream",
     "text": [
      "age:  [  42   35 1000]\n",
      "gender:  ['male' 'unknown' 'female']\n",
      "month_birth:  [12  3  7 21]\n",
      "hobby:  ['reading' 'cooking' 'cycling' 'unknown']\n",
      "target:  ['class2' 'class1' 'class3' 'unknown']\n"
     ]
    }
   ],
   "source": [
    "# unique() 함수로 각 열의 유니크한 값을 확인한다.\n",
    "print('age: ', df['age'].unique()) # 인간의 수명을 고려할 때 1000이라는 값은 부적절한다.\n",
    "print('gender: ', df['gender'].unique()) # male과 female을 제외한 값은 부적절하다.\n",
    "print('month_birth: ', df['month_birth'].unique()) # 1년은 12월까지 존재하므로 21을 부적절하다.\n",
    "print('hobby: ', df['hobby'].unique()) # 취미의 unknown은 부적절하다.\n",
    "print('target: ', df['target'].unique()) # 타겟 변수도 unknown은 부적절하다."
   ]
  },
  {
   "cell_type": "code",
   "execution_count": 5,
   "id": "63251cb2",
   "metadata": {},
   "outputs": [
    {
     "data": {
      "text/html": [
       "<div>\n",
       "<style scoped>\n",
       "    .dataframe tbody tr th:only-of-type {\n",
       "        vertical-align: middle;\n",
       "    }\n",
       "\n",
       "    .dataframe tbody tr th {\n",
       "        vertical-align: top;\n",
       "    }\n",
       "\n",
       "    .dataframe thead th {\n",
       "        text-align: right;\n",
       "    }\n",
       "</style>\n",
       "<table border=\"1\" class=\"dataframe\">\n",
       "  <thead>\n",
       "    <tr style=\"text-align: right;\">\n",
       "      <th></th>\n",
       "      <th>age</th>\n",
       "      <th>gender</th>\n",
       "      <th>month_birth</th>\n",
       "      <th>hobby</th>\n",
       "      <th>target</th>\n",
       "    </tr>\n",
       "  </thead>\n",
       "  <tbody>\n",
       "    <tr>\n",
       "      <th>0</th>\n",
       "      <td>42.0</td>\n",
       "      <td>male</td>\n",
       "      <td>12.0</td>\n",
       "      <td>reading</td>\n",
       "      <td>class2</td>\n",
       "    </tr>\n",
       "    <tr>\n",
       "      <th>1</th>\n",
       "      <td>35.0</td>\n",
       "      <td>NaN</td>\n",
       "      <td>3.0</td>\n",
       "      <td>cooking</td>\n",
       "      <td>class1</td>\n",
       "    </tr>\n",
       "    <tr>\n",
       "      <th>2</th>\n",
       "      <td>NaN</td>\n",
       "      <td>female</td>\n",
       "      <td>7.0</td>\n",
       "      <td>cycling</td>\n",
       "      <td>class3</td>\n",
       "    </tr>\n",
       "    <tr>\n",
       "      <th>3</th>\n",
       "      <td>NaN</td>\n",
       "      <td>NaN</td>\n",
       "      <td>NaN</td>\n",
       "      <td>NaN</td>\n",
       "      <td>NaN</td>\n",
       "    </tr>\n",
       "  </tbody>\n",
       "</table>\n",
       "</div>"
      ],
      "text/plain": [
       "    age  gender  month_birth    hobby  target\n",
       "0  42.0    male         12.0  reading  class2\n",
       "1  35.0     NaN          3.0  cooking  class1\n",
       "2   NaN  female          7.0  cycling  class3\n",
       "3   NaN     NaN          NaN      NaN     NaN"
      ]
     },
     "execution_count": 5,
     "metadata": {},
     "output_type": "execute_result"
    }
   ],
   "source": [
    "# 부적절한 데이터값을 결측치로 바꾸기 위해서는 np.nan을 사용한다.\n",
    "df.loc[df['age'] > 150, ['age']] = np.nan\n",
    "df.loc[df['gender'] == 'unknown', ['gender']] = np.nan\n",
    "df.loc[df['month_birth'] > 12, ['month_birth']] = np.nan\n",
    "df.loc[df['hobby'] == 'unknown', ['hobby']] = np.nan\n",
    "df.loc[df['target'] == 'unknown', ['target']] = np.nan\n",
    "df"
   ]
  },
  {
   "cell_type": "code",
   "execution_count": 6,
   "id": "258f33d1",
   "metadata": {},
   "outputs": [
    {
     "data": {
      "text/plain": [
       "age            2\n",
       "gender         2\n",
       "month_birth    1\n",
       "hobby          1\n",
       "target         1\n",
       "dtype: int64"
      ]
     },
     "execution_count": 6,
     "metadata": {},
     "output_type": "execute_result"
    }
   ],
   "source": [
    "# 데이터셋 각 열의 결측치 개수를 확인한다.\n",
    "df.isnull().sum() # df.isna().sum()"
   ]
  },
  {
   "cell_type": "markdown",
   "id": "aebc2659",
   "metadata": {},
   "source": [
    "결측치를 처리하는 데 주로 쓰이는 방법은 결측치를 삭제하거나 다른 값으로 변경하는 방법이 있다."
   ]
  },
  {
   "cell_type": "code",
   "execution_count": 7,
   "id": "b741ae97",
   "metadata": {},
   "outputs": [
    {
     "data": {
      "text/html": [
       "<div>\n",
       "<style scoped>\n",
       "    .dataframe tbody tr th:only-of-type {\n",
       "        vertical-align: middle;\n",
       "    }\n",
       "\n",
       "    .dataframe tbody tr th {\n",
       "        vertical-align: top;\n",
       "    }\n",
       "\n",
       "    .dataframe thead th {\n",
       "        text-align: right;\n",
       "    }\n",
       "</style>\n",
       "<table border=\"1\" class=\"dataframe\">\n",
       "  <thead>\n",
       "    <tr style=\"text-align: right;\">\n",
       "      <th></th>\n",
       "      <th>age</th>\n",
       "      <th>gender</th>\n",
       "      <th>month_birth</th>\n",
       "      <th>hobby</th>\n",
       "      <th>target</th>\n",
       "    </tr>\n",
       "  </thead>\n",
       "  <tbody>\n",
       "    <tr>\n",
       "      <th>0</th>\n",
       "      <td>42.0</td>\n",
       "      <td>male</td>\n",
       "      <td>12.0</td>\n",
       "      <td>reading</td>\n",
       "      <td>class2</td>\n",
       "    </tr>\n",
       "  </tbody>\n",
       "</table>\n",
       "</div>"
      ],
      "text/plain": [
       "    age gender  month_birth    hobby  target\n",
       "0  42.0   male         12.0  reading  class2"
      ]
     },
     "execution_count": 7,
     "metadata": {},
     "output_type": "execute_result"
    }
   ],
   "source": [
    "# dropna() 함수를 실행할 때 axis를 생략하거나 axis=0으로 옵션을 지정하면 결측치가 하나라도 포함된 행을 삭제한다.\n",
    "df2 = df.dropna(axis=0)\n",
    "df2"
   ]
  },
  {
   "cell_type": "code",
   "execution_count": 8,
   "id": "3118a79c",
   "metadata": {},
   "outputs": [
    {
     "data": {
      "text/html": [
       "<div>\n",
       "<style scoped>\n",
       "    .dataframe tbody tr th:only-of-type {\n",
       "        vertical-align: middle;\n",
       "    }\n",
       "\n",
       "    .dataframe tbody tr th {\n",
       "        vertical-align: top;\n",
       "    }\n",
       "\n",
       "    .dataframe thead th {\n",
       "        text-align: right;\n",
       "    }\n",
       "</style>\n",
       "<table border=\"1\" class=\"dataframe\">\n",
       "  <thead>\n",
       "    <tr style=\"text-align: right;\">\n",
       "      <th></th>\n",
       "    </tr>\n",
       "  </thead>\n",
       "  <tbody>\n",
       "    <tr>\n",
       "      <th>0</th>\n",
       "    </tr>\n",
       "    <tr>\n",
       "      <th>1</th>\n",
       "    </tr>\n",
       "    <tr>\n",
       "      <th>2</th>\n",
       "    </tr>\n",
       "    <tr>\n",
       "      <th>3</th>\n",
       "    </tr>\n",
       "  </tbody>\n",
       "</table>\n",
       "</div>"
      ],
      "text/plain": [
       "Empty DataFrame\n",
       "Columns: []\n",
       "Index: [0, 1, 2, 3]"
      ]
     },
     "execution_count": 8,
     "metadata": {},
     "output_type": "execute_result"
    }
   ],
   "source": [
    "# dropna() 함수를 실행할 때 axis=1로 옵션을 지정하면 결측치가 하나라도 포함된 열을 삭제한다.\n",
    "df3 = df.dropna(axis=1)\n",
    "df3"
   ]
  },
  {
   "cell_type": "code",
   "execution_count": 9,
   "id": "7e05d704",
   "metadata": {},
   "outputs": [
    {
     "data": {
      "text/html": [
       "<div>\n",
       "<style scoped>\n",
       "    .dataframe tbody tr th:only-of-type {\n",
       "        vertical-align: middle;\n",
       "    }\n",
       "\n",
       "    .dataframe tbody tr th {\n",
       "        vertical-align: top;\n",
       "    }\n",
       "\n",
       "    .dataframe thead th {\n",
       "        text-align: right;\n",
       "    }\n",
       "</style>\n",
       "<table border=\"1\" class=\"dataframe\">\n",
       "  <thead>\n",
       "    <tr style=\"text-align: right;\">\n",
       "      <th></th>\n",
       "      <th>age</th>\n",
       "      <th>gender</th>\n",
       "      <th>month_birth</th>\n",
       "      <th>hobby</th>\n",
       "      <th>target</th>\n",
       "    </tr>\n",
       "  </thead>\n",
       "  <tbody>\n",
       "    <tr>\n",
       "      <th>0</th>\n",
       "      <td>42.0</td>\n",
       "      <td>male</td>\n",
       "      <td>12.0</td>\n",
       "      <td>reading</td>\n",
       "      <td>class2</td>\n",
       "    </tr>\n",
       "    <tr>\n",
       "      <th>1</th>\n",
       "      <td>35.0</td>\n",
       "      <td>NaN</td>\n",
       "      <td>3.0</td>\n",
       "      <td>cooking</td>\n",
       "      <td>class1</td>\n",
       "    </tr>\n",
       "    <tr>\n",
       "      <th>2</th>\n",
       "      <td>NaN</td>\n",
       "      <td>female</td>\n",
       "      <td>7.0</td>\n",
       "      <td>cycling</td>\n",
       "      <td>class3</td>\n",
       "    </tr>\n",
       "  </tbody>\n",
       "</table>\n",
       "</div>"
      ],
      "text/plain": [
       "    age  gender  month_birth    hobby  target\n",
       "0  42.0    male         12.0  reading  class2\n",
       "1  35.0     NaN          3.0  cooking  class1\n",
       "2   NaN  female          7.0  cycling  class3"
      ]
     },
     "execution_count": 9,
     "metadata": {},
     "output_type": "execute_result"
    }
   ],
   "source": [
    "# dropna() 함수를 실행할 때 how='all' 옵션을 지정하면 행의 값이 모두 결측치인 행을 삭제한다.\n",
    "df4 = df.dropna(how='all')\n",
    "df4"
   ]
  },
  {
   "cell_type": "code",
   "execution_count": 10,
   "id": "268e24e9",
   "metadata": {},
   "outputs": [
    {
     "data": {
      "text/html": [
       "<div>\n",
       "<style scoped>\n",
       "    .dataframe tbody tr th:only-of-type {\n",
       "        vertical-align: middle;\n",
       "    }\n",
       "\n",
       "    .dataframe tbody tr th {\n",
       "        vertical-align: top;\n",
       "    }\n",
       "\n",
       "    .dataframe thead th {\n",
       "        text-align: right;\n",
       "    }\n",
       "</style>\n",
       "<table border=\"1\" class=\"dataframe\">\n",
       "  <thead>\n",
       "    <tr style=\"text-align: right;\">\n",
       "      <th></th>\n",
       "      <th>age</th>\n",
       "      <th>gender</th>\n",
       "      <th>month_birth</th>\n",
       "      <th>hobby</th>\n",
       "      <th>target</th>\n",
       "    </tr>\n",
       "  </thead>\n",
       "  <tbody>\n",
       "    <tr>\n",
       "      <th>0</th>\n",
       "      <td>42.0</td>\n",
       "      <td>male</td>\n",
       "      <td>12.0</td>\n",
       "      <td>reading</td>\n",
       "      <td>class2</td>\n",
       "    </tr>\n",
       "    <tr>\n",
       "      <th>1</th>\n",
       "      <td>35.0</td>\n",
       "      <td>NaN</td>\n",
       "      <td>3.0</td>\n",
       "      <td>cooking</td>\n",
       "      <td>class1</td>\n",
       "    </tr>\n",
       "    <tr>\n",
       "      <th>2</th>\n",
       "      <td>NaN</td>\n",
       "      <td>female</td>\n",
       "      <td>7.0</td>\n",
       "      <td>cycling</td>\n",
       "      <td>class3</td>\n",
       "    </tr>\n",
       "  </tbody>\n",
       "</table>\n",
       "</div>"
      ],
      "text/plain": [
       "    age  gender  month_birth    hobby  target\n",
       "0  42.0    male         12.0  reading  class2\n",
       "1  35.0     NaN          3.0  cooking  class1\n",
       "2   NaN  female          7.0  cycling  class3"
      ]
     },
     "execution_count": 10,
     "metadata": {},
     "output_type": "execute_result"
    }
   ],
   "source": [
    "# dropna() 함수를 실행할 때 thresh=n 옵션을 지정하면 결측치를 제외한 값의 개수가 n보다 작은 행을 삭제한다.\n",
    "df5 = df.dropna(thresh=2) # 결측치를 제외한 값의 개수가 2개 미만인 행 삭제\n",
    "df5"
   ]
  },
  {
   "cell_type": "code",
   "execution_count": 11,
   "id": "372baef1",
   "metadata": {},
   "outputs": [
    {
     "data": {
      "text/html": [
       "<div>\n",
       "<style scoped>\n",
       "    .dataframe tbody tr th:only-of-type {\n",
       "        vertical-align: middle;\n",
       "    }\n",
       "\n",
       "    .dataframe tbody tr th {\n",
       "        vertical-align: top;\n",
       "    }\n",
       "\n",
       "    .dataframe thead th {\n",
       "        text-align: right;\n",
       "    }\n",
       "</style>\n",
       "<table border=\"1\" class=\"dataframe\">\n",
       "  <thead>\n",
       "    <tr style=\"text-align: right;\">\n",
       "      <th></th>\n",
       "      <th>age</th>\n",
       "      <th>gender</th>\n",
       "      <th>month_birth</th>\n",
       "      <th>hobby</th>\n",
       "      <th>target</th>\n",
       "    </tr>\n",
       "  </thead>\n",
       "  <tbody>\n",
       "    <tr>\n",
       "      <th>0</th>\n",
       "      <td>42.0</td>\n",
       "      <td>male</td>\n",
       "      <td>12.0</td>\n",
       "      <td>reading</td>\n",
       "      <td>class2</td>\n",
       "    </tr>\n",
       "    <tr>\n",
       "      <th>2</th>\n",
       "      <td>NaN</td>\n",
       "      <td>female</td>\n",
       "      <td>7.0</td>\n",
       "      <td>cycling</td>\n",
       "      <td>class3</td>\n",
       "    </tr>\n",
       "  </tbody>\n",
       "</table>\n",
       "</div>"
      ],
      "text/plain": [
       "    age  gender  month_birth    hobby  target\n",
       "0  42.0    male         12.0  reading  class2\n",
       "2   NaN  female          7.0  cycling  class3"
      ]
     },
     "execution_count": 11,
     "metadata": {},
     "output_type": "execute_result"
    }
   ],
   "source": [
    "# dropna() 함수를 실행할 때 subset=['열이름'] 옵션을 사용하면 특정 열에 결측치가 존재할 때만 행을 삭제한다.\n",
    "df6 = df.dropna(subset=['gender'])\n",
    "df6"
   ]
  },
  {
   "cell_type": "code",
   "execution_count": 12,
   "id": "c17b5c11",
   "metadata": {},
   "outputs": [
    {
     "data": {
      "text/html": [
       "<div>\n",
       "<style scoped>\n",
       "    .dataframe tbody tr th:only-of-type {\n",
       "        vertical-align: middle;\n",
       "    }\n",
       "\n",
       "    .dataframe tbody tr th {\n",
       "        vertical-align: top;\n",
       "    }\n",
       "\n",
       "    .dataframe thead th {\n",
       "        text-align: right;\n",
       "    }\n",
       "</style>\n",
       "<table border=\"1\" class=\"dataframe\">\n",
       "  <thead>\n",
       "    <tr style=\"text-align: right;\">\n",
       "      <th></th>\n",
       "      <th>age</th>\n",
       "      <th>gender</th>\n",
       "      <th>month_birth</th>\n",
       "      <th>hobby</th>\n",
       "      <th>target</th>\n",
       "    </tr>\n",
       "  </thead>\n",
       "  <tbody>\n",
       "    <tr>\n",
       "      <th>0</th>\n",
       "      <td>42.0</td>\n",
       "      <td>male</td>\n",
       "      <td>12.0</td>\n",
       "      <td>reading</td>\n",
       "      <td>class2</td>\n",
       "    </tr>\n",
       "    <tr>\n",
       "      <th>1</th>\n",
       "      <td>35.0</td>\n",
       "      <td>0</td>\n",
       "      <td>3.0</td>\n",
       "      <td>cooking</td>\n",
       "      <td>class1</td>\n",
       "    </tr>\n",
       "    <tr>\n",
       "      <th>2</th>\n",
       "      <td>0.0</td>\n",
       "      <td>female</td>\n",
       "      <td>7.0</td>\n",
       "      <td>cycling</td>\n",
       "      <td>class3</td>\n",
       "    </tr>\n",
       "    <tr>\n",
       "      <th>3</th>\n",
       "      <td>0.0</td>\n",
       "      <td>0</td>\n",
       "      <td>0.0</td>\n",
       "      <td>0</td>\n",
       "      <td>0</td>\n",
       "    </tr>\n",
       "  </tbody>\n",
       "</table>\n",
       "</div>"
      ],
      "text/plain": [
       "    age  gender  month_birth    hobby  target\n",
       "0  42.0    male         12.0  reading  class2\n",
       "1  35.0       0          3.0  cooking  class1\n",
       "2   0.0  female          7.0  cycling  class3\n",
       "3   0.0       0          0.0        0       0"
      ]
     },
     "execution_count": 12,
     "metadata": {},
     "output_type": "execute_result"
    }
   ],
   "source": [
    "# fillna() 함수의 인수로 결측치를 대체할 값을 지정할 수 있다.\n",
    "df7 = df.fillna(0)\n",
    "df7"
   ]
  },
  {
   "cell_type": "code",
   "execution_count": 13,
   "id": "ef44152a",
   "metadata": {},
   "outputs": [
    {
     "data": {
      "text/html": [
       "<div>\n",
       "<style scoped>\n",
       "    .dataframe tbody tr th:only-of-type {\n",
       "        vertical-align: middle;\n",
       "    }\n",
       "\n",
       "    .dataframe tbody tr th {\n",
       "        vertical-align: top;\n",
       "    }\n",
       "\n",
       "    .dataframe thead th {\n",
       "        text-align: right;\n",
       "    }\n",
       "</style>\n",
       "<table border=\"1\" class=\"dataframe\">\n",
       "  <thead>\n",
       "    <tr style=\"text-align: right;\">\n",
       "      <th></th>\n",
       "      <th>age</th>\n",
       "      <th>gender</th>\n",
       "      <th>month_birth</th>\n",
       "      <th>hobby</th>\n",
       "      <th>target</th>\n",
       "    </tr>\n",
       "  </thead>\n",
       "  <tbody>\n",
       "    <tr>\n",
       "      <th>0</th>\n",
       "      <td>42.0</td>\n",
       "      <td>male</td>\n",
       "      <td>12.0</td>\n",
       "      <td>reading</td>\n",
       "      <td>class2</td>\n",
       "    </tr>\n",
       "    <tr>\n",
       "      <th>1</th>\n",
       "      <td>35.0</td>\n",
       "      <td>U</td>\n",
       "      <td>3.0</td>\n",
       "      <td>cooking</td>\n",
       "      <td>class1</td>\n",
       "    </tr>\n",
       "    <tr>\n",
       "      <th>2</th>\n",
       "      <td>0.0</td>\n",
       "      <td>female</td>\n",
       "      <td>7.0</td>\n",
       "      <td>cycling</td>\n",
       "      <td>class3</td>\n",
       "    </tr>\n",
       "    <tr>\n",
       "      <th>3</th>\n",
       "      <td>0.0</td>\n",
       "      <td>U</td>\n",
       "      <td>0.0</td>\n",
       "      <td>U</td>\n",
       "      <td>class4</td>\n",
       "    </tr>\n",
       "  </tbody>\n",
       "</table>\n",
       "</div>"
      ],
      "text/plain": [
       "    age  gender  month_birth    hobby  target\n",
       "0  42.0    male         12.0  reading  class2\n",
       "1  35.0       U          3.0  cooking  class1\n",
       "2   0.0  female          7.0  cycling  class3\n",
       "3   0.0       U          0.0        U  class4"
      ]
     },
     "execution_count": 13,
     "metadata": {},
     "output_type": "execute_result"
    }
   ],
   "source": [
    "# fillna() 함수의 인수로 결측치를 대체할 값이 지정된 딕셔너리를 넘겨주면 열별로 결측치를 대체할 값을 지정할 수\n",
    "# 있다.\n",
    "# 각 열의 결측치를 대신할 값이 저장된 딕셔너리\n",
    "alter_values = {'age': 0, 'gender': 'U', 'month_birth': 0, 'hobby': 'U', 'target': 'class4'}\n",
    "df8 = df.fillna(value=alter_values)\n",
    "df8"
   ]
  },
  {
   "cell_type": "markdown",
   "id": "27469055",
   "metadata": {},
   "source": [
    "클래스 라벨 설정"
   ]
  },
  {
   "cell_type": "markdown",
   "id": "b9403a94",
   "metadata": {},
   "source": [
    "사이킷런 사용"
   ]
  },
  {
   "cell_type": "code",
   "execution_count": 15,
   "id": "47d90fee",
   "metadata": {},
   "outputs": [],
   "source": [
    "# target 열을 보면 문자열(string) 형태인데, 데이터 전처리 과정에서 문자열을 정수(int)로 바꿔야 하는 경우가 있다.\n",
    "from sklearn.preprocessing import LabelEncoder # 클래스 라벨링을 위해 import 한다."
   ]
  },
  {
   "cell_type": "code",
   "execution_count": 16,
   "id": "b4ea2bc8",
   "metadata": {},
   "outputs": [
    {
     "name": "stdout",
     "output_type": "stream",
     "text": [
      "['class2' 'class1' 'class3' 'class4']\n",
      "[1 0 2 3]\n"
     ]
    }
   ],
   "source": [
    "df9 = df8\n",
    "class_label = LabelEncoder() # 클래스 라벨링을 실행하는 객체를 생성한다.\n",
    "data_value = df9['target'].values # 라벨링할 데이터를 얻어온다.\n",
    "# print(type(data_value)) # <class 'numpy.ndarray'>\n",
    "print(data_value)\n",
    "# fit_transform() 함수로 라벨링할 데이터를 넘겨 라벨링을 실행한다.\n",
    "y_new = class_label.fit_transform(data_value)\n",
    "print(y_new)"
   ]
  },
  {
   "cell_type": "code",
   "execution_count": 17,
   "id": "69ddeff5",
   "metadata": {},
   "outputs": [
    {
     "data": {
      "text/html": [
       "<div>\n",
       "<style scoped>\n",
       "    .dataframe tbody tr th:only-of-type {\n",
       "        vertical-align: middle;\n",
       "    }\n",
       "\n",
       "    .dataframe tbody tr th {\n",
       "        vertical-align: top;\n",
       "    }\n",
       "\n",
       "    .dataframe thead th {\n",
       "        text-align: right;\n",
       "    }\n",
       "</style>\n",
       "<table border=\"1\" class=\"dataframe\">\n",
       "  <thead>\n",
       "    <tr style=\"text-align: right;\">\n",
       "      <th></th>\n",
       "      <th>age</th>\n",
       "      <th>gender</th>\n",
       "      <th>month_birth</th>\n",
       "      <th>hobby</th>\n",
       "      <th>target</th>\n",
       "    </tr>\n",
       "  </thead>\n",
       "  <tbody>\n",
       "    <tr>\n",
       "      <th>0</th>\n",
       "      <td>42.0</td>\n",
       "      <td>male</td>\n",
       "      <td>12.0</td>\n",
       "      <td>reading</td>\n",
       "      <td>1</td>\n",
       "    </tr>\n",
       "    <tr>\n",
       "      <th>1</th>\n",
       "      <td>35.0</td>\n",
       "      <td>U</td>\n",
       "      <td>3.0</td>\n",
       "      <td>cooking</td>\n",
       "      <td>0</td>\n",
       "    </tr>\n",
       "    <tr>\n",
       "      <th>2</th>\n",
       "      <td>0.0</td>\n",
       "      <td>female</td>\n",
       "      <td>7.0</td>\n",
       "      <td>cycling</td>\n",
       "      <td>2</td>\n",
       "    </tr>\n",
       "    <tr>\n",
       "      <th>3</th>\n",
       "      <td>0.0</td>\n",
       "      <td>U</td>\n",
       "      <td>0.0</td>\n",
       "      <td>U</td>\n",
       "      <td>3</td>\n",
       "    </tr>\n",
       "  </tbody>\n",
       "</table>\n",
       "</div>"
      ],
      "text/plain": [
       "    age  gender  month_birth    hobby  target\n",
       "0  42.0    male         12.0  reading       1\n",
       "1  35.0       U          3.0  cooking       0\n",
       "2   0.0  female          7.0  cycling       2\n",
       "3   0.0       U          0.0        U       3"
      ]
     },
     "execution_count": 17,
     "metadata": {},
     "output_type": "execute_result"
    }
   ],
   "source": [
    "# 라벨링한 데이터를 데이터프레임에 넣어준다.\n",
    "df9['target'] = y_new\n",
    "df9"
   ]
  },
  {
   "cell_type": "code",
   "execution_count": 18,
   "id": "ce4cf865",
   "metadata": {},
   "outputs": [
    {
     "name": "stdout",
     "output_type": "stream",
     "text": [
      "['class2' 'class1' 'class3' 'class4']\n"
     ]
    },
    {
     "data": {
      "text/html": [
       "<div>\n",
       "<style scoped>\n",
       "    .dataframe tbody tr th:only-of-type {\n",
       "        vertical-align: middle;\n",
       "    }\n",
       "\n",
       "    .dataframe tbody tr th {\n",
       "        vertical-align: top;\n",
       "    }\n",
       "\n",
       "    .dataframe thead th {\n",
       "        text-align: right;\n",
       "    }\n",
       "</style>\n",
       "<table border=\"1\" class=\"dataframe\">\n",
       "  <thead>\n",
       "    <tr style=\"text-align: right;\">\n",
       "      <th></th>\n",
       "      <th>age</th>\n",
       "      <th>gender</th>\n",
       "      <th>month_birth</th>\n",
       "      <th>hobby</th>\n",
       "      <th>target</th>\n",
       "    </tr>\n",
       "  </thead>\n",
       "  <tbody>\n",
       "    <tr>\n",
       "      <th>0</th>\n",
       "      <td>42.0</td>\n",
       "      <td>male</td>\n",
       "      <td>12.0</td>\n",
       "      <td>reading</td>\n",
       "      <td>class2</td>\n",
       "    </tr>\n",
       "    <tr>\n",
       "      <th>1</th>\n",
       "      <td>35.0</td>\n",
       "      <td>U</td>\n",
       "      <td>3.0</td>\n",
       "      <td>cooking</td>\n",
       "      <td>class1</td>\n",
       "    </tr>\n",
       "    <tr>\n",
       "      <th>2</th>\n",
       "      <td>0.0</td>\n",
       "      <td>female</td>\n",
       "      <td>7.0</td>\n",
       "      <td>cycling</td>\n",
       "      <td>class3</td>\n",
       "    </tr>\n",
       "    <tr>\n",
       "      <th>3</th>\n",
       "      <td>0.0</td>\n",
       "      <td>U</td>\n",
       "      <td>0.0</td>\n",
       "      <td>U</td>\n",
       "      <td>class4</td>\n",
       "    </tr>\n",
       "  </tbody>\n",
       "</table>\n",
       "</div>"
      ],
      "text/plain": [
       "    age  gender  month_birth    hobby  target\n",
       "0  42.0    male         12.0  reading  class2\n",
       "1  35.0       U          3.0  cooking  class1\n",
       "2   0.0  female          7.0  cycling  class3\n",
       "3   0.0       U          0.0        U  class4"
      ]
     },
     "execution_count": 18,
     "metadata": {},
     "output_type": "execute_result"
    }
   ],
   "source": [
    "# inverse_transform() 함수로 클래스 라벨링한 데이터를 원래대로 되돌릴 수 있다.\n",
    "y_ori = class_label.inverse_transform(y_new)\n",
    "print(y_ori)\n",
    "df9['target'] = y_ori\n",
    "df9"
   ]
  },
  {
   "cell_type": "markdown",
   "id": "6098505b",
   "metadata": {},
   "source": [
    "사이킷런을 사용하지 않고 직접 라벨링하기"
   ]
  },
  {
   "cell_type": "code",
   "execution_count": 19,
   "id": "63835d76",
   "metadata": {},
   "outputs": [
    {
     "name": "stdout",
     "output_type": "stream",
     "text": [
      "['class1' 'class2' 'class3' 'class4']\n"
     ]
    }
   ],
   "source": [
    "# 라벨링 할 타겟 데이터를 얻어와 오름차순으로 정렬한다.\n",
    "y_arr = df9['target'].values\n",
    "y_arr.sort()\n",
    "print(y_arr)"
   ]
  },
  {
   "cell_type": "code",
   "execution_count": 20,
   "id": "e44e5d41",
   "metadata": {},
   "outputs": [
    {
     "name": "stdout",
     "output_type": "stream",
     "text": [
      "{'class1': 0, 'class2': 1, 'class3': 2, 'class4': 3}\n"
     ]
    }
   ],
   "source": [
    "# 반복문을 실행해서 정렬된 타겟 데이터를 key로 일련번호를 value로 하는 딕셔너리를 만든다.\n",
    "num_y = 0\n",
    "dic_y = {}\n",
    "for ith_y in y_arr:\n",
    "    dic_y[ith_y] = num_y\n",
    "    num_y += 1\n",
    "print(dic_y)"
   ]
  },
  {
   "cell_type": "code",
   "execution_count": 21,
   "id": "96c168ad",
   "metadata": {},
   "outputs": [
    {
     "data": {
      "text/html": [
       "<div>\n",
       "<style scoped>\n",
       "    .dataframe tbody tr th:only-of-type {\n",
       "        vertical-align: middle;\n",
       "    }\n",
       "\n",
       "    .dataframe tbody tr th {\n",
       "        vertical-align: top;\n",
       "    }\n",
       "\n",
       "    .dataframe thead th {\n",
       "        text-align: right;\n",
       "    }\n",
       "</style>\n",
       "<table border=\"1\" class=\"dataframe\">\n",
       "  <thead>\n",
       "    <tr style=\"text-align: right;\">\n",
       "      <th></th>\n",
       "      <th>age</th>\n",
       "      <th>gender</th>\n",
       "      <th>month_birth</th>\n",
       "      <th>hobby</th>\n",
       "      <th>target</th>\n",
       "    </tr>\n",
       "  </thead>\n",
       "  <tbody>\n",
       "    <tr>\n",
       "      <th>0</th>\n",
       "      <td>42.0</td>\n",
       "      <td>male</td>\n",
       "      <td>12.0</td>\n",
       "      <td>reading</td>\n",
       "      <td>0</td>\n",
       "    </tr>\n",
       "    <tr>\n",
       "      <th>1</th>\n",
       "      <td>35.0</td>\n",
       "      <td>U</td>\n",
       "      <td>3.0</td>\n",
       "      <td>cooking</td>\n",
       "      <td>1</td>\n",
       "    </tr>\n",
       "    <tr>\n",
       "      <th>2</th>\n",
       "      <td>0.0</td>\n",
       "      <td>female</td>\n",
       "      <td>7.0</td>\n",
       "      <td>cycling</td>\n",
       "      <td>2</td>\n",
       "    </tr>\n",
       "    <tr>\n",
       "      <th>3</th>\n",
       "      <td>0.0</td>\n",
       "      <td>U</td>\n",
       "      <td>0.0</td>\n",
       "      <td>U</td>\n",
       "      <td>3</td>\n",
       "    </tr>\n",
       "  </tbody>\n",
       "</table>\n",
       "</div>"
      ],
      "text/plain": [
       "    age  gender  month_birth    hobby  target\n",
       "0  42.0    male         12.0  reading       0\n",
       "1  35.0       U          3.0  cooking       1\n",
       "2   0.0  female          7.0  cycling       2\n",
       "3   0.0       U          0.0        U       3"
      ]
     },
     "execution_count": 21,
     "metadata": {},
     "output_type": "execute_result"
    }
   ],
   "source": [
    "# replace() 함수를 이용해 딕셔너리에 맵핑된 데이터로 타겟을 라벨링 한다.\n",
    "df9['target'] = df9['target'].replace(dic_y)\n",
    "df9"
   ]
  },
  {
   "cell_type": "markdown",
   "id": "36148498",
   "metadata": {},
   "source": [
    "원-핫 인코딩(one-hot encoding)  \n",
    "원-핫 인코딩은 클래스 라벨링의 또 다른 방법으로 오직 0과 1만 사용한 벡터를 이용해 데이터 값을 나타내는 것이다."
   ]
  },
  {
   "cell_type": "markdown",
   "id": "9e40414d",
   "metadata": {},
   "source": [
    "판다스 라이브러리를 이용한 원-핫 인코딩"
   ]
  },
  {
   "cell_type": "code",
   "execution_count": 22,
   "id": "a690b430",
   "metadata": {},
   "outputs": [
    {
     "data": {
      "text/html": [
       "<div>\n",
       "<style scoped>\n",
       "    .dataframe tbody tr th:only-of-type {\n",
       "        vertical-align: middle;\n",
       "    }\n",
       "\n",
       "    .dataframe tbody tr th {\n",
       "        vertical-align: top;\n",
       "    }\n",
       "\n",
       "    .dataframe thead th {\n",
       "        text-align: right;\n",
       "    }\n",
       "</style>\n",
       "<table border=\"1\" class=\"dataframe\">\n",
       "  <thead>\n",
       "    <tr style=\"text-align: right;\">\n",
       "      <th></th>\n",
       "      <th>age</th>\n",
       "      <th>gender</th>\n",
       "      <th>month_birth</th>\n",
       "      <th>hobby</th>\n",
       "      <th>target</th>\n",
       "    </tr>\n",
       "  </thead>\n",
       "  <tbody>\n",
       "    <tr>\n",
       "      <th>0</th>\n",
       "      <td>42.0</td>\n",
       "      <td>male</td>\n",
       "      <td>12.0</td>\n",
       "      <td>reading</td>\n",
       "      <td>0</td>\n",
       "    </tr>\n",
       "    <tr>\n",
       "      <th>1</th>\n",
       "      <td>35.0</td>\n",
       "      <td>U</td>\n",
       "      <td>3.0</td>\n",
       "      <td>cooking</td>\n",
       "      <td>1</td>\n",
       "    </tr>\n",
       "    <tr>\n",
       "      <th>2</th>\n",
       "      <td>0.0</td>\n",
       "      <td>female</td>\n",
       "      <td>7.0</td>\n",
       "      <td>cycling</td>\n",
       "      <td>2</td>\n",
       "    </tr>\n",
       "    <tr>\n",
       "      <th>3</th>\n",
       "      <td>0.0</td>\n",
       "      <td>U</td>\n",
       "      <td>0.0</td>\n",
       "      <td>U</td>\n",
       "      <td>3</td>\n",
       "    </tr>\n",
       "  </tbody>\n",
       "</table>\n",
       "</div>"
      ],
      "text/plain": [
       "    age  gender  month_birth    hobby target\n",
       "0  42.0    male         12.0  reading      0\n",
       "1  35.0       U          3.0  cooking      1\n",
       "2   0.0  female          7.0  cycling      2\n",
       "3   0.0       U          0.0        U      3"
      ]
     },
     "execution_count": 22,
     "metadata": {},
     "output_type": "execute_result"
    }
   ],
   "source": [
    "df10 = df9\n",
    "df10['target'] = df10['target'].astype(str) # 타겟 데이터 값을 문자열로 변환한다.\n",
    "df10"
   ]
  },
  {
   "cell_type": "code",
   "execution_count": 23,
   "id": "9adb99f0",
   "metadata": {},
   "outputs": [
    {
     "data": {
      "text/html": [
       "<div>\n",
       "<style scoped>\n",
       "    .dataframe tbody tr th:only-of-type {\n",
       "        vertical-align: middle;\n",
       "    }\n",
       "\n",
       "    .dataframe tbody tr th {\n",
       "        vertical-align: top;\n",
       "    }\n",
       "\n",
       "    .dataframe thead th {\n",
       "        text-align: right;\n",
       "    }\n",
       "</style>\n",
       "<table border=\"1\" class=\"dataframe\">\n",
       "  <thead>\n",
       "    <tr style=\"text-align: right;\">\n",
       "      <th></th>\n",
       "      <th>0</th>\n",
       "      <th>1</th>\n",
       "      <th>2</th>\n",
       "      <th>3</th>\n",
       "    </tr>\n",
       "  </thead>\n",
       "  <tbody>\n",
       "    <tr>\n",
       "      <th>0</th>\n",
       "      <td>1</td>\n",
       "      <td>0</td>\n",
       "      <td>0</td>\n",
       "      <td>0</td>\n",
       "    </tr>\n",
       "    <tr>\n",
       "      <th>1</th>\n",
       "      <td>0</td>\n",
       "      <td>1</td>\n",
       "      <td>0</td>\n",
       "      <td>0</td>\n",
       "    </tr>\n",
       "    <tr>\n",
       "      <th>2</th>\n",
       "      <td>0</td>\n",
       "      <td>0</td>\n",
       "      <td>1</td>\n",
       "      <td>0</td>\n",
       "    </tr>\n",
       "    <tr>\n",
       "      <th>3</th>\n",
       "      <td>0</td>\n",
       "      <td>0</td>\n",
       "      <td>0</td>\n",
       "      <td>1</td>\n",
       "    </tr>\n",
       "  </tbody>\n",
       "</table>\n",
       "</div>"
      ],
      "text/plain": [
       "   0  1  2  3\n",
       "0  1  0  0  0\n",
       "1  0  1  0  0\n",
       "2  0  0  1  0\n",
       "3  0  0  0  1"
      ]
     },
     "execution_count": 23,
     "metadata": {},
     "output_type": "execute_result"
    }
   ],
   "source": [
    "# 판다스의 get_dummies() 함수의 인수로 타겟 변수를 넣어 원-핫 인코딩을 한다.\n",
    "df11 = pd.get_dummies(df10['target'])\n",
    "df11"
   ]
  },
  {
   "cell_type": "code",
   "execution_count": 24,
   "id": "66b651df",
   "metadata": {},
   "outputs": [
    {
     "data": {
      "text/html": [
       "<div>\n",
       "<style scoped>\n",
       "    .dataframe tbody tr th:only-of-type {\n",
       "        vertical-align: middle;\n",
       "    }\n",
       "\n",
       "    .dataframe tbody tr th {\n",
       "        vertical-align: top;\n",
       "    }\n",
       "\n",
       "    .dataframe thead th {\n",
       "        text-align: right;\n",
       "    }\n",
       "</style>\n",
       "<table border=\"1\" class=\"dataframe\">\n",
       "  <thead>\n",
       "    <tr style=\"text-align: right;\">\n",
       "      <th></th>\n",
       "      <th>1</th>\n",
       "      <th>2</th>\n",
       "      <th>3</th>\n",
       "    </tr>\n",
       "  </thead>\n",
       "  <tbody>\n",
       "    <tr>\n",
       "      <th>0</th>\n",
       "      <td>0</td>\n",
       "      <td>0</td>\n",
       "      <td>0</td>\n",
       "    </tr>\n",
       "    <tr>\n",
       "      <th>1</th>\n",
       "      <td>1</td>\n",
       "      <td>0</td>\n",
       "      <td>0</td>\n",
       "    </tr>\n",
       "    <tr>\n",
       "      <th>2</th>\n",
       "      <td>0</td>\n",
       "      <td>1</td>\n",
       "      <td>0</td>\n",
       "    </tr>\n",
       "    <tr>\n",
       "      <th>3</th>\n",
       "      <td>0</td>\n",
       "      <td>0</td>\n",
       "      <td>1</td>\n",
       "    </tr>\n",
       "  </tbody>\n",
       "</table>\n",
       "</div>"
      ],
      "text/plain": [
       "   1  2  3\n",
       "0  0  0  0\n",
       "1  1  0  0\n",
       "2  0  1  0\n",
       "3  0  0  1"
      ]
     },
     "execution_count": 24,
     "metadata": {},
     "output_type": "execute_result"
    }
   ],
   "source": [
    "# 앞선 방법에서는 길이가 4인 벡터를 이용해 클래스를 구분했다. 이번에는 벡터의 길이를 하나 줄인 벡터를 이용해\n",
    "# 원-핫 인코딩을 한다.\n",
    "df10['target'] = df10['target'].astype(str)\n",
    "# get_dummies() 함수에 drop_first=True 옵션을 지정하면 3개의 0과 1의 조합으로만 4개의 클래스가 구분되는 것을\n",
    "# 볼 수 있다.\n",
    "df12 = pd.get_dummies(df10['target'], drop_first=True)\n",
    "df12"
   ]
  },
  {
   "cell_type": "markdown",
   "id": "c1c11a45",
   "metadata": {},
   "source": [
    "사이킷런 라이브러리를 이용한 원-핫 인코딩  \n",
    "판다스는 원-핫 인코딩 결과를 데이터프레임 형식으로 출력하는 반면에 사이킷런 라이브러리의 OneHotEncoder를 사용하면 array 형식으로 출력한다."
   ]
  },
  {
   "cell_type": "code",
   "execution_count": 33,
   "id": "1eda5c4b",
   "metadata": {},
   "outputs": [
    {
     "name": "stdout",
     "output_type": "stream",
     "text": [
      "  (0, 0)\t1.0\n",
      "  (1, 1)\t1.0\n",
      "  (2, 2)\t1.0\n",
      "  (3, 3)\t1.0\n",
      "[[1. 0. 0. 0.]\n",
      " [0. 1. 0. 0.]\n",
      " [0. 0. 1. 0.]\n",
      " [0. 0. 0. 1.]]\n"
     ]
    }
   ],
   "source": [
    "from sklearn.preprocessing import OneHotEncoder\n",
    "hot_encoder = OneHotEncoder() # OneHotEncoder 객체를 만든다.\n",
    "y = df8[['target']]\n",
    "# print(y)\n",
    "# fit_transform() 함수로 원-핫 인코딩을 실행한다.\n",
    "y_hot = hot_encoder.fit_transform(y)\n",
    "print(y_hot)\n",
    "print(y_hot.toarray())"
   ]
  },
  {
   "cell_type": "markdown",
   "id": "9af9679d",
   "metadata": {},
   "source": [
    "텐서프로우 라이브러리를 이용한 원-핫 인코딩"
   ]
  },
  {
   "cell_type": "code",
   "execution_count": 35,
   "id": "c2fa8511",
   "metadata": {},
   "outputs": [
    {
     "name": "stdout",
     "output_type": "stream",
     "text": [
      "[[1. 0. 0. 0.]\n",
      " [0. 1. 0. 0.]\n",
      " [0. 0. 1. 0.]\n",
      " [0. 0. 0. 1.]]\n"
     ]
    }
   ],
   "source": [
    "from tensorflow.keras.utils import to_categorical\n",
    "y_hotec = to_categorical(y)\n",
    "print(y_hotec)"
   ]
  },
  {
   "cell_type": "markdown",
   "id": "7e18147c",
   "metadata": {},
   "source": [
    "데이터 스케일링(data scaling)  \n",
    "피쳐는 제각기 다른 단위를 가지기 때문에 이로 인해 숫자 자체의 크기 차이가 발생한다. 데이터 스케일링은 데이터 값이 단위의 영향을 받지 않도록 변형하는 것을 의미한다.  \n",
    "전체 데이터를 트레이닝 데이터와 테스트 데이터로 나누고 스케일링 기준이 되는 값을 구할 때는 트레이닝 데이터만으로 구한다."
   ]
  },
  {
   "cell_type": "markdown",
   "id": "c8c31865",
   "metadata": {},
   "source": [
    "표준화 스케일링(standard scaling)  \n",
    "대표적인 데이터 스케일링 방법으로 데이터가 평균 0, 표준 편차 1일 되도록 변경하는 방법이다.\n",
    "\n",
    "$$\\frac{x_i - \\bar x}{\\sigma}$$\n",
    "\n",
    "위 식의 의미는 기존 데이터 값에서 평균을 뺀 후 표준 편차로 나눈 값으로 바꾼다는 의미이다."
   ]
  },
  {
   "cell_type": "code",
   "execution_count": 36,
   "id": "6b87d80a",
   "metadata": {},
   "outputs": [],
   "source": [
    "# 표준화 스케일링을 위한 StandardScaler 함수를 불러온다.\n",
    "from sklearn.preprocessing import StandardScaler"
   ]
  },
  {
   "cell_type": "code",
   "execution_count": 41,
   "id": "cce7aad1",
   "metadata": {},
   "outputs": [
    {
     "name": "stdout",
     "output_type": "stream",
     "text": [
      "[[ 1.44444444]\n",
      " [-0.55555556]\n",
      " [ 0.33333333]\n",
      " [-1.22222222]]\n"
     ]
    }
   ],
   "source": [
    "std = StandardScaler() # 표준화 스케일러 객체를 만든다.\n",
    "# 표준화 스케일러를 적용할 데이터를 반드시 fit() 함수로 먼저 적합 시킨 후 transform() 함수를 실행해야 한다.\n",
    "std.fit(df8[['month_birth']]) # 표준화 스케일러에 month_birth 열을 적합시킨다.\n",
    "# transform() 함수로 적합(fit)된 표준화 스케일러를 기준으로 month_birth 열 데이터 값을 변형시킨다.\n",
    "x_std = std.transform(df8[['month_birth']])\n",
    "print(x_std)"
   ]
  },
  {
   "cell_type": "code",
   "execution_count": 42,
   "id": "14591093",
   "metadata": {},
   "outputs": [
    {
     "name": "stdout",
     "output_type": "stream",
     "text": [
      "[[ 1.44444444]\n",
      " [-0.55555556]\n",
      " [ 0.33333333]\n",
      " [-1.22222222]]\n"
     ]
    }
   ],
   "source": [
    "# fit() 함수와 transform() 함수로 실행한 표준화 스케일링을 fit_transform() 함수로 한 번에 실행할 수 있다.\n",
    "x_std2 = std.fit_transform(df8[['month_birth']])\n",
    "print(x_std2)"
   ]
  },
  {
   "cell_type": "code",
   "execution_count": 43,
   "id": "19eb17c6",
   "metadata": {},
   "outputs": [
    {
     "name": "stdout",
     "output_type": "stream",
     "text": [
      "평균: -0.0, 표준편차: 1.0\n"
     ]
    }
   ],
   "source": [
    "# 실제로 표준화 스케일링 이후 데이터가 평균 0, 표준 편차 1인지 확인한다.\n",
    "print('평균: {:.1f}, 표준편차: {:.1f}'.format(np.mean(x_std), np.std(x_std)))"
   ]
  },
  {
   "cell_type": "markdown",
   "id": "a9a72fd6",
   "metadata": {},
   "source": [
    "로버스트 스케일링(robust scaling)  \n",
    "로버스트 스케일링은 표준화 스케일링을 변형한 방법으로 중앙값(median)과 사분위수(quantile)을 사용한다. 이에 따라 극단값의 영향을 거의 받지 않는다는 장점이 있다.\n",
    "\n",
    "$$\\frac{x_i - q_2}{q_3 - q_1}$$\n",
    "\n",
    "위 식에서 $q_1$은 1사분위수, $q_2$은 2사분위수(중위수), $q_3$은 3사분위수를 의미한다."
   ]
  },
  {
   "cell_type": "code",
   "execution_count": 45,
   "id": "a85280f9",
   "metadata": {},
   "outputs": [],
   "source": [
    "# 로버스트 스케일링을 위한 RobustScaler 함수를 불러온다.\n",
    "from sklearn.preprocessing import RobustScaler"
   ]
  },
  {
   "cell_type": "code",
   "execution_count": 46,
   "id": "b07e1b92",
   "metadata": {},
   "outputs": [
    {
     "name": "stdout",
     "output_type": "stream",
     "text": [
      "[[ 1.16666667]\n",
      " [-0.33333333]\n",
      " [ 0.33333333]\n",
      " [-0.83333333]]\n"
     ]
    }
   ],
   "source": [
    "robust = RobustScaler() # 로버스트 스케일링 객체를 만든다.\n",
    "robust.fit(df8[['month_birth']])\n",
    "x_robust = robust.transform(df8[['month_birth']])\n",
    "print(x_robust)"
   ]
  },
  {
   "cell_type": "code",
   "execution_count": 47,
   "id": "d3baccf0",
   "metadata": {},
   "outputs": [
    {
     "name": "stdout",
     "output_type": "stream",
     "text": [
      "[[ 1.16666667]\n",
      " [-0.33333333]\n",
      " [ 0.33333333]\n",
      " [-0.83333333]]\n"
     ]
    }
   ],
   "source": [
    "x_robust2 = robust.fit_transform(df8[['month_birth']])\n",
    "print(x_robust2)"
   ]
  },
  {
   "cell_type": "markdown",
   "id": "2a071735",
   "metadata": {},
   "source": [
    "최소-최대 스케일링(min-max scaling)  \n",
    "최소-최대 스케일링 방법은 데이터 값의 최대값이 1, 최소값 0으로 데이터 값이 가질 수 있는 범위를 제한한다.\n",
    "\n",
    "$$\\frac{x_i - min(x)}{max(x) - min(x)}$$"
   ]
  },
  {
   "cell_type": "code",
   "execution_count": 48,
   "id": "a834ef1f",
   "metadata": {},
   "outputs": [],
   "source": [
    "# 최소-최대 스케일링을 위한 MinMaxScaler 함수를 불러온다.\n",
    "from sklearn.preprocessing import MinMaxScaler"
   ]
  },
  {
   "cell_type": "code",
   "execution_count": 50,
   "id": "e833a742",
   "metadata": {},
   "outputs": [
    {
     "name": "stdout",
     "output_type": "stream",
     "text": [
      "[[1.        ]\n",
      " [0.25      ]\n",
      " [0.58333333]\n",
      " [0.        ]]\n"
     ]
    }
   ],
   "source": [
    "minmax = MinMaxScaler() # 최소-최대 스케일링 객체를 만든다.\n",
    "minmax.fit(df8[['month_birth']])\n",
    "x_minmax = minmax.transform(df8[['month_birth']])\n",
    "print(x_minmax)"
   ]
  },
  {
   "cell_type": "code",
   "execution_count": 52,
   "id": "31a66954",
   "metadata": {},
   "outputs": [
    {
     "name": "stdout",
     "output_type": "stream",
     "text": [
      "[[1.        ]\n",
      " [0.25      ]\n",
      " [0.58333333]\n",
      " [0.        ]]\n"
     ]
    }
   ],
   "source": [
    "x_minmax2 = minmax.fit_transform(df8[['month_birth']])\n",
    "print(x_minmax2)"
   ]
  },
  {
   "cell_type": "markdown",
   "id": "ee3cbd8c",
   "metadata": {},
   "source": [
    "노멀(normalizer) 스케일링  \n",
    "노멀 스테일링은 벡터의 유클라디안 거리가 1이 되도록 데이터 값을 변경한다.  \n",
    "노멀 스케일링은 주로 벡터의 길이는 상관없고, 방향(각도)만 고려할 때 사용한다. 앞서 언급한 세 가지 스케일러는 열 기준인 것과 달리 노멀 스케일링은 행 기준이다.\n",
    "\n",
    "$$\\frac{x_i}{\\sqrt{x_i^2 + y_i^2 + z_i^2}}$$"
   ]
  },
  {
   "cell_type": "code",
   "execution_count": 54,
   "id": "9a2c3065",
   "metadata": {},
   "outputs": [],
   "source": [
    "# 노멀 스케일링을 위한 Normalizer 함수를 불러온다.\n",
    "from sklearn.preprocessing import Normalizer"
   ]
  },
  {
   "cell_type": "code",
   "execution_count": 57,
   "id": "d1f6f5b5",
   "metadata": {},
   "outputs": [
    {
     "name": "stdout",
     "output_type": "stream",
     "text": [
      "[[0.96152395 0.27472113]\n",
      " [0.99634665 0.08540114]\n",
      " [0.         1.        ]\n",
      " [0.         0.        ]]\n"
     ]
    }
   ],
   "source": [
    "normal = Normalizer() # 노멀 스케일링 객체를 만든다.\n",
    "normal.fit(df8[['age', 'month_birth']])\n",
    "x_normal = normal.transform(df8[['age', 'month_birth']])\n",
    "print(x_normal)"
   ]
  },
  {
   "cell_type": "code",
   "execution_count": 58,
   "id": "93a0f3a8",
   "metadata": {},
   "outputs": [
    {
     "name": "stdout",
     "output_type": "stream",
     "text": [
      "[[0.96152395 0.27472113]\n",
      " [0.99634665 0.08540114]\n",
      " [0.         1.        ]\n",
      " [0.         0.        ]]\n"
     ]
    }
   ],
   "source": [
    "x_normal2 = normal.fit_transform(df8[['age', 'month_birth']])\n",
    "print(x_normal2)"
   ]
  },
  {
   "cell_type": "markdown",
   "id": "88b13068",
   "metadata": {},
   "source": [
    "데이터 스케일링 과정에서 fit() 함수는 트레이닝 데이터셋에 대해서만 사용하며, 테스트 데이터셋에는 fit() 함수를 사용하지 않고 transform() 함수만 사용한다. 그 이유는 데이터 스케일러는 트레이닝 데이터를 기반으로 만들기 때문이다.\n",
    "\n",
    "from sklearn.preprocessing import StandardScaler\n",
    "\n",
    "stand_scale = StandardScaler()  \n",
    "x_train_std = stand_scale.fit_transform(x_train) # 트레이닝 데이터셋  \n",
    "x_test_std = stand_scale.transform(x_test) # 테스트 데이터셋  \n",
    "\n",
    "만약 stand_scale.transform(x_test)이 아닌 stand_scale.fit_transform(x_test)를 사용하면 테스트 데이터의 평균, 표준 편차를 이용해 스케일링을 적용하므로 앞서 트레이닝 데이터를 이용해 생성했던 스케일링 범위 및 파라미터가 달라진다."
   ]
  },
  {
   "cell_type": "code",
   "execution_count": null,
   "id": "4453e37a",
   "metadata": {},
   "outputs": [],
   "source": []
  }
 ],
 "metadata": {
  "kernelspec": {
   "display_name": "py36",
   "language": "python",
   "name": "py36"
  },
  "language_info": {
   "codemirror_mode": {
    "name": "ipython",
    "version": 3
   },
   "file_extension": ".py",
   "mimetype": "text/x-python",
   "name": "python",
   "nbconvert_exporter": "python",
   "pygments_lexer": "ipython3",
   "version": "3.6.13"
  }
 },
 "nbformat": 4,
 "nbformat_minor": 5
}
