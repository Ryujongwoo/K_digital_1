{
 "cells": [
  {
   "cell_type": "code",
   "execution_count": 1,
   "id": "32a5e62f",
   "metadata": {},
   "outputs": [],
   "source": [
    "%config Completer.use_jedi = False\n",
    "import warnings\n",
    "warnings.filterwarnings(action='ignore')"
   ]
  },
  {
   "cell_type": "markdown",
   "id": "f9e13119",
   "metadata": {},
   "source": [
    "지역적 선형 임베딩(LLE, Locally Linear Embedding)  \n",
    "각 데이터 포인트의 이웃 데이터 중 k개 이웃 데이터를 선정하고 데이터 자신과 k개의 이웃 데이터를 하나의 덩어리로 가정하고 데이터를 재구성한다. 기존 데이터 자신의 이웃 데이터를 기준으로 재구성하는 방법으로 해당 데이터 자체보다 주변의 이웃 데이터들이 중요하다."
   ]
  },
  {
   "cell_type": "markdown",
   "id": "db7a403f",
   "metadata": {},
   "source": [
    "LLE 알고리즘을 활용해 와인 종류를 분류하는 모델을 생성해본다."
   ]
  },
  {
   "cell_type": "code",
   "execution_count": 3,
   "id": "eb315394",
   "metadata": {},
   "outputs": [],
   "source": [
    "# 데이터 불러오기\n",
    "from sklearn import datasets # 와인 데이터를 사용하기 위해 import 한다.\n",
    "raw_wine = datasets.load_wine() # 와인 데이터를 불러온다."
   ]
  },
  {
   "cell_type": "code",
   "execution_count": 4,
   "id": "a86360c8",
   "metadata": {},
   "outputs": [],
   "source": [
    "# 피쳐/타겟 데이터 지정\n",
    "X = raw_wine.data # 와인 피쳐 데이터를 저장한다.\n",
    "y = raw_wine.target # 와인 타겟 데이터를 저장한다."
   ]
  },
  {
   "cell_type": "code",
   "execution_count": 5,
   "id": "7f61b281",
   "metadata": {},
   "outputs": [
    {
     "name": "stdout",
     "output_type": "stream",
     "text": [
      "(133, 13) (45, 13)\n"
     ]
    }
   ],
   "source": [
    "# 트레이닝/테스트 데이터 분할\n",
    "from sklearn.model_selection import train_test_split # 트레이닝/테스트 데이터 분할을 위해 import 한다.\n",
    "X_tn, X_te, y_tn, y_te = train_test_split(X, y, random_state=1) # 트레이닝 데이터와 테스트 데이터로 분할한다.\n",
    "print(X_tn.shape, X_te.shape)"
   ]
  },
  {
   "cell_type": "code",
   "execution_count": 6,
   "id": "b3531ab0",
   "metadata": {},
   "outputs": [],
   "source": [
    "# 데이터 표준화\n",
    "from sklearn.preprocessing import StandardScaler # 데이터 표준화를 위해 import 한다.\n",
    "std_scale = StandardScaler() # 표준화 스케일러 객체를 만든다.\n",
    "# 표준화는 트레이닝 데이터를 기반으로 실행하므로 트레이닝 피쳐 데이터 X_tn을 표준화 스케일러에 적합시킨다.\n",
    "std_scale.fit(X_tn)\n",
    "X_tn_std = std_scale.transform(X_tn) # 트레이닝 피쳐 데이터 X_tn을 표준화 한다.\n",
    "X_te_std = std_scale.transform(X_te) # 테스트 피쳐 데이터 X_te를 표준화 한다."
   ]
  },
  {
   "cell_type": "code",
   "execution_count": 8,
   "id": "c66a785d",
   "metadata": {},
   "outputs": [],
   "source": [
    "# LLE를 통한 데이터 차원 축소\n",
    "from sklearn.manifold import LocallyLinearEmbedding # LLE 알고리즘을 사용하기 위해 import 한다.\n",
    "lle = LocallyLinearEmbedding(n_components=2) # LLE 객체를 만든다.\n",
    "lle.fit(X_tn_std, y_tn) # 표준화된 피쳐 데이터 X_tn_std와 트레이닝 타겟 데이터 y_tn를 LLE 객체에 적합시킨다.\n",
    "X_tn_lle = lle.transform(X_tn_std) # 적합된 LLE 모형을 바탕으로 표준화된 트레이닝 데이터의 차원을 축소한다.\n",
    "X_te_lle = lle.transform(X_te_std) # 적합된 LLE 모형을 바탕으로 표준화된 테스트 데이터의 차원을 축소한다."
   ]
  },
  {
   "cell_type": "code",
   "execution_count": 9,
   "id": "0852ac39",
   "metadata": {},
   "outputs": [
    {
     "name": "stdout",
     "output_type": "stream",
     "text": [
      "(133, 13) (133, 2)\n"
     ]
    }
   ],
   "source": [
    "# 데이터 차원 축소 확인\n",
    "# 차원 축소 이전 데이터의 차원을 확인하면, 오리지널 피쳐 데이터는 13차원의 데이터 133개로 구성되어 있음을 확인할\n",
    "# 수 있고 주성분 분석을 이용해 차원 축소한 데이터는 2차원 데이터 133개로 구성되어 있음을 확인할 수 있다.\n",
    "print(X_tn_std.shape, X_tn_lle.shape)"
   ]
  },
  {
   "cell_type": "code",
   "execution_count": 11,
   "id": "3ec90b83",
   "metadata": {},
   "outputs": [
    {
     "name": "stdout",
     "output_type": "stream",
     "text": [
      "[[ 0.10370077  0.03797149]\n",
      " [ 0.07222626  0.00764776]\n",
      " [ 0.11291288  0.05930921]\n",
      " [ 0.11560401  0.06205209]\n",
      " [ 0.11854756  0.06719633]\n",
      " [-0.02664269 -0.13181186]\n",
      " [-0.10501921  0.07537654]\n",
      " [-0.10326081  0.07047313]\n",
      " [ 0.10811266  0.04689056]\n",
      " [-0.04377827 -0.09418701]\n",
      " [ 0.0712414   0.01801874]\n",
      " [ 0.13033709  0.08810276]\n",
      " [ 0.02991311 -0.04069974]\n",
      " [-0.07898669  0.01497572]\n",
      " [ 0.03473125 -0.05744147]\n",
      " [ 0.01943026 -0.04529514]\n",
      " [ 0.11959649  0.07007802]\n",
      " [-0.10317351  0.07114343]\n",
      " [-0.02752016 -0.14962908]\n",
      " [-0.1164511   0.10200801]\n",
      " [ 0.10508563  0.04186687]\n",
      " [-0.01462819 -0.16313682]\n",
      " [ 0.06810266 -0.0169578 ]\n",
      " [-0.01732533 -0.16242923]\n",
      " [ 0.11454199  0.05901053]\n",
      " [-0.09625792  0.05485706]\n",
      " [-0.11013016  0.08772677]\n",
      " [-0.10843424  0.08356562]\n",
      " [-0.10619192  0.07755468]\n",
      " [-0.08729218  0.04167607]\n",
      " [-0.03682447 -0.05761368]\n",
      " [ 0.09367018  0.02624216]\n",
      " [-0.10295085  0.06762962]\n",
      " [ 0.11999055  0.07023365]\n",
      " [-0.06361883 -0.0199435 ]\n",
      " [-0.11550832  0.09903396]\n",
      " [ 0.11279934  0.05534145]\n",
      " [-0.01480272 -0.14963322]\n",
      " [ 0.09097877  0.0177418 ]\n",
      " [-0.11129768  0.08887578]\n",
      " [-0.06350492 -0.02242311]\n",
      " [ 0.06246531 -0.02636424]\n",
      " [ 0.11911483  0.06843243]\n",
      " [-0.00792097 -0.12221016]\n",
      " [-0.03631181 -0.12179878]\n",
      " [-0.02579461 -0.16485912]\n",
      " [ 0.09295664  0.02351943]\n",
      " [ 0.03188792 -0.07080559]\n",
      " [ 0.06818446 -0.01439848]\n",
      " [-0.05730272 -0.05525765]\n",
      " [-0.09883839  0.05929349]\n",
      " [-0.01586358 -0.17146571]\n",
      " [-0.01672269 -0.17041903]\n",
      " [-0.02204577 -0.1723805 ]\n",
      " [ 0.06678143  0.01426048]\n",
      " [ 0.11436298  0.0595111 ]\n",
      " [ 0.10260414  0.0373604 ]\n",
      " [ 0.0997909   0.03011605]\n",
      " [-0.11259142  0.09204803]\n",
      " [ 0.09885983  0.02607939]\n",
      " [-0.07858605  0.00082623]\n",
      " [-0.084302    0.0229665 ]\n",
      " [-0.10603904  0.07684319]\n",
      " [ 0.09496388  0.02139363]\n",
      " [-0.02757692 -0.09910238]\n",
      " [ 0.12166793  0.07041667]\n",
      " [-0.01814073 -0.17633886]\n",
      " [-0.01530843 -0.15877534]\n",
      " [ 0.11452847  0.05834804]\n",
      " [-0.10320436  0.07020295]\n",
      " [-0.01613968 -0.16929274]\n",
      " [-0.0193291  -0.10716739]\n",
      " [-0.12046407  0.11290301]\n",
      " [-0.10110371  0.06439205]\n",
      " [-0.02998362 -0.14469412]\n",
      " [ 0.04902972 -0.04338483]\n",
      " [-0.02154733 -0.17381898]\n",
      " [-0.09971112  0.0625639 ]\n",
      " [-0.10375299  0.0710789 ]\n",
      " [-0.0288432  -0.10242084]\n",
      " [ 0.11466711  0.06136667]\n",
      " [-0.03040775 -0.14349819]\n",
      " [ 0.06825681 -0.01840047]\n",
      " [-0.09935535  0.05653994]\n",
      " [ 0.04446691 -0.05338093]\n",
      " [-0.01740723 -0.14034382]\n",
      " [ 0.11790976  0.06591575]\n",
      " [ 0.12119223  0.07147328]\n",
      " [-0.00269915 -0.10647415]\n",
      " [ 0.0562949  -0.03606248]\n",
      " [ 0.12629369  0.07981134]\n",
      " [ 0.11811673  0.06662161]\n",
      " [-0.10602982  0.07713197]\n",
      " [ 0.11456055  0.05912476]\n",
      " [-0.12114437  0.11396084]\n",
      " [-0.10363782  0.0710784 ]\n",
      " [ 0.12048444  0.07130553]\n",
      " [ 0.09123947  0.02964363]\n",
      " [-0.01909976 -0.13209886]\n",
      " [-0.10249116  0.06678007]\n",
      " [ 0.10671965  0.04489305]\n",
      " [-0.03210618 -0.05510616]\n",
      " [-0.02568002 -0.16011489]\n",
      " [ 0.1074142   0.04210225]\n",
      " [ 0.12077344  0.07166584]\n",
      " [ 0.11909469  0.06587289]\n",
      " [-0.04519954 -0.03071079]\n",
      " [ 0.03121498 -0.0709812 ]\n",
      " [ 0.09360186  0.02404615]\n",
      " [-0.10553282  0.07566127]\n",
      " [-0.11051108  0.08804668]\n",
      " [-0.03505464 -0.1190506 ]\n",
      " [-0.03553034  0.03426303]\n",
      " [-0.01487209 -0.0527306 ]\n",
      " [ 0.11017831  0.05066087]\n",
      " [-0.11020285  0.08673048]\n",
      " [-0.10731603  0.07979049]\n",
      " [-0.10353821  0.07064577]\n",
      " [-0.10982747  0.0860409 ]\n",
      " [-0.10483871  0.07207522]\n",
      " [-0.0092534  -0.14381871]\n",
      " [ 0.0903019   0.01575679]\n",
      " [ 0.12420843  0.07796707]\n",
      " [-0.06826823 -0.01537622]\n",
      " [ 0.05841631 -0.02674777]\n",
      " [-0.04361163 -0.10066293]\n",
      " [-0.11196061  0.09136494]\n",
      " [-0.00382491 -0.1014684 ]\n",
      " [-0.12246751  0.11758882]\n",
      " [-0.10674483  0.07740897]\n",
      " [ 0.00163096 -0.11905171]\n",
      " [-0.11199196  0.09147604]\n",
      " [ 0.10587132  0.04226829]]\n"
     ]
    }
   ],
   "source": [
    "# LLE 임베딩 벡터 확인\n",
    "print(lle.embedding_) # embedding_ 속성으로 LLE 모형의 임베딩 벡터를 확인할 수 있다."
   ]
  },
  {
   "cell_type": "code",
   "execution_count": 12,
   "id": "73d82dea",
   "metadata": {},
   "outputs": [
    {
     "data": {
      "text/html": [
       "<div>\n",
       "<style scoped>\n",
       "    .dataframe tbody tr th:only-of-type {\n",
       "        vertical-align: middle;\n",
       "    }\n",
       "\n",
       "    .dataframe tbody tr th {\n",
       "        vertical-align: top;\n",
       "    }\n",
       "\n",
       "    .dataframe thead th {\n",
       "        text-align: right;\n",
       "    }\n",
       "</style>\n",
       "<table border=\"1\" class=\"dataframe\">\n",
       "  <thead>\n",
       "    <tr style=\"text-align: right;\">\n",
       "      <th></th>\n",
       "      <th>lle_comp1</th>\n",
       "      <th>lle_comp2</th>\n",
       "      <th>target</th>\n",
       "    </tr>\n",
       "  </thead>\n",
       "  <tbody>\n",
       "    <tr>\n",
       "      <th>0</th>\n",
       "      <td>0.103667</td>\n",
       "      <td>0.037909</td>\n",
       "      <td>0</td>\n",
       "    </tr>\n",
       "    <tr>\n",
       "      <th>1</th>\n",
       "      <td>0.072231</td>\n",
       "      <td>0.007653</td>\n",
       "      <td>1</td>\n",
       "    </tr>\n",
       "    <tr>\n",
       "      <th>2</th>\n",
       "      <td>0.112879</td>\n",
       "      <td>0.059241</td>\n",
       "      <td>0</td>\n",
       "    </tr>\n",
       "    <tr>\n",
       "      <th>3</th>\n",
       "      <td>0.115604</td>\n",
       "      <td>0.062051</td>\n",
       "      <td>0</td>\n",
       "    </tr>\n",
       "    <tr>\n",
       "      <th>4</th>\n",
       "      <td>0.118543</td>\n",
       "      <td>0.067187</td>\n",
       "      <td>0</td>\n",
       "    </tr>\n",
       "    <tr>\n",
       "      <th>...</th>\n",
       "      <td>...</td>\n",
       "      <td>...</td>\n",
       "      <td>...</td>\n",
       "    </tr>\n",
       "    <tr>\n",
       "      <th>128</th>\n",
       "      <td>-0.122454</td>\n",
       "      <td>0.117555</td>\n",
       "      <td>2</td>\n",
       "    </tr>\n",
       "    <tr>\n",
       "      <th>129</th>\n",
       "      <td>-0.106749</td>\n",
       "      <td>0.077420</td>\n",
       "      <td>2</td>\n",
       "    </tr>\n",
       "    <tr>\n",
       "      <th>130</th>\n",
       "      <td>0.001496</td>\n",
       "      <td>-0.119325</td>\n",
       "      <td>1</td>\n",
       "    </tr>\n",
       "    <tr>\n",
       "      <th>131</th>\n",
       "      <td>-0.111976</td>\n",
       "      <td>0.091433</td>\n",
       "      <td>2</td>\n",
       "    </tr>\n",
       "    <tr>\n",
       "      <th>132</th>\n",
       "      <td>0.105866</td>\n",
       "      <td>0.042265</td>\n",
       "      <td>0</td>\n",
       "    </tr>\n",
       "  </tbody>\n",
       "</table>\n",
       "<p>133 rows × 3 columns</p>\n",
       "</div>"
      ],
      "text/plain": [
       "     lle_comp1  lle_comp2  target\n",
       "0     0.103667   0.037909       0\n",
       "1     0.072231   0.007653       1\n",
       "2     0.112879   0.059241       0\n",
       "3     0.115604   0.062051       0\n",
       "4     0.118543   0.067187       0\n",
       "..         ...        ...     ...\n",
       "128  -0.122454   0.117555       2\n",
       "129  -0.106749   0.077420       2\n",
       "130   0.001496  -0.119325       1\n",
       "131  -0.111976   0.091433       2\n",
       "132   0.105866   0.042265       0\n",
       "\n",
       "[133 rows x 3 columns]"
      ]
     },
     "execution_count": 12,
     "metadata": {},
     "output_type": "execute_result"
    }
   ],
   "source": [
    "# LLE 적용 후 차원 축소된 데이터를 데이터프레임 형태로 변환한다.\n",
    "import pandas as pd # 데이터프레임 형태로 만들기 위해서 판다스 라이브러리를 import 한다.\n",
    "lle_columns = ['lle_comp1', 'lle_comp2'] # 차원 축소된 데이터의 열 이름을 정한다.\n",
    "X_tn_lle_df = pd.DataFrame(X_tn_lle, columns=lle_columns) # 차원 축소된 데이터를 데이터프레임으로 만든다.\n",
    "X_tn_lle_df['target'] = y_tn # 차원 축소된 데이터로 만든 데이터프레임에 타겟 데이터를 결합한다.\n",
    "X_tn_lle_df"
   ]
  },
  {
   "cell_type": "code",
   "execution_count": 13,
   "id": "9de9393b",
   "metadata": {},
   "outputs": [
    {
     "data": {
      "image/png": "[encoded data removed]",
      "text/plain": [
       "<Figure size 576x432 with 1 Axes>"
      ]
     },
     "metadata": {
      "needs_background": "light"
     },
     "output_type": "display_data"
    }
   ],
   "source": [
    "# LLE 적용 데이터 시각화\n",
    "import matplotlib.pyplot as plt\n",
    "df = X_tn_lle_df\n",
    "markers = ['o', 'x', '^'] # 시각화에 사용할 마커를 지정한다.\n",
    "plt.figure(figsize=[8, 6])\n",
    "\n",
    "# enumerate() 함수는 (인덱스, 데이터) 형태의 튜플을 리턴한다.\n",
    "for index, marker in enumerate(markers):\n",
    "    df_index = df[df['target'] == index] # 시각화할 와인 데이터를 얻어온다.\n",
    "    target_index = raw_wine.target_names[index] # 시각화할 와인의 타겟 이름을 얻어온다.\n",
    "    X1 = df_index['lle_comp1'] # 시각화할 차원 축소된 데이터의 첫 번째 주성분 벡터를 얻어온다.\n",
    "    X2 = df_index['lle_comp2'] # 시각화할 차원 축소된 데이터의 두 번째 주성분 벡터를 얻어온다.\n",
    "    plt.scatter(X1, X2, marker=marker, label=target_index) # 산포도를 그린다.\n",
    "# =====\n",
    "\n",
    "plt.xlabel('lle_component1')\n",
    "plt.ylabel('lle_component2')\n",
    "plt.legend()\n",
    "plt.show()"
   ]
  },
  {
   "cell_type": "code",
   "execution_count": 14,
   "id": "aaa9ae68",
   "metadata": {},
   "outputs": [
    {
     "name": "stdout",
     "output_type": "stream",
     "text": [
      "[2 1 1 1 0 2 1 0 2 1 0 0 1 0 1 1 2 0 1 0 0 1 2 0 0 2 0 0 0 2 1 2 2 0 1 1 1\n",
      " 1 1 0 0 1 2 1 0]\n"
     ]
    }
   ],
   "source": [
    "# 데이터 학습 및 예측\n",
    "from sklearn.ensemble import RandomForestClassifier # 랜덤 포레스트 알고리즘을 사용하기 위해 import 한다.\n",
    "clf_rf_lle = RandomForestClassifier(max_depth=2, random_state=0) # 랜덤 포레스트 모델 객체를 만든다.\n",
    "# 표준화된 피쳐 데이터 X_tn_std와 트레이닝 타겟 데이터 y_tn을 넣어서 랜덤 포레스트 알고리즘을 학습시킨다.\n",
    "clf_rf_lle.fit(X_tn_lle, y_tn)\n",
    "pred_rf_lle = clf_rf_lle.predict(X_te_lle) # 표준화된 테스트 데이터 X_te_std로 예측한다.\n",
    "print(pred_rf_lle)"
   ]
  },
  {
   "cell_type": "code",
   "execution_count": 15,
   "id": "54f3247e",
   "metadata": {},
   "outputs": [
    {
     "name": "stdout",
     "output_type": "stream",
     "text": [
      "0.9333333333333333\n"
     ]
    }
   ],
   "source": [
    "# 정확도 평가\n",
    "from sklearn.metrics import accuracy_score # 모형 정확도를 평가하기 위해 import 한다.\n",
    "# accuracy_score() 함수의 인수로 실제 타겟 데이터와 예측된 데이터를 넘겨 정확도를 평가한다.\n",
    "accuracy = accuracy_score(y_te, pred_rf_lle)\n",
    "print(accuracy)"
   ]
  },
  {
   "cell_type": "code",
   "execution_count": null,
   "id": "80391af0",
   "metadata": {},
   "outputs": [],
   "source": []
  }
 ],
 "metadata": {
  "kernelspec": {
   "display_name": "py36",
   "language": "python",
   "name": "py36"
  },
  "language_info": {
   "codemirror_mode": {
    "name": "ipython",
    "version": 3
   },
   "file_extension": ".py",
   "mimetype": "text/x-python",
   "name": "python",
   "nbconvert_exporter": "python",
   "pygments_lexer": "ipython3",
   "version": "3.6.13"
  }
 },
 "nbformat": 4,
 "nbformat_minor": 5
}
