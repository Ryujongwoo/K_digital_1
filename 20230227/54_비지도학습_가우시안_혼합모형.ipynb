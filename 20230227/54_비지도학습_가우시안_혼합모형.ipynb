{
 "cells": [
  {
   "cell_type": "code",
   "execution_count": 1,
   "id": "c0d2ba6f",
   "metadata": {},
   "outputs": [],
   "source": [
    "%config Completer.use_jedi = False\n",
    "import warnings\n",
    "warnings.filterwarnings(action='ignore')"
   ]
  },
  {
   "cell_type": "markdown",
   "id": "b9bdc1ed",
   "metadata": {},
   "source": [
    "가우시안 혼합 모형(Gaussian Minture model)  \n",
    "가우시안 혼합 모형은 전체 집단 내부에 속한 하위 집단의 존재를 가정한 확률 모형이다.  \n",
    "가우신안 혼합 모형은 전체 집단의 확률 분포가 가우시안 분포를 따르는 경우를 말하며 흔히 정규 분포를 가우시안 분포라 부른다. 또한 가우시인 혼합 모형은 비지도 학습의 한 종류로 클러스터링에 사용된다."
   ]
  },
  {
   "cell_type": "markdown",
   "id": "a20af22f",
   "metadata": {},
   "source": [
    "가우시안 혼합 모형 실습"
   ]
  },
  {
   "cell_type": "code",
   "execution_count": 2,
   "id": "acd48646",
   "metadata": {},
   "outputs": [
    {
     "name": "stdout",
     "output_type": "stream",
     "text": [
      "(200, 2) (200,)\n"
     ]
    }
   ],
   "source": [
    "from sklearn.datasets import make_blobs # 클러스터링용 가상 데이터를 사용하기 위해 import 한다.\n",
    "X, y = make_blobs(n_samples=200, n_features=2, centers=2, random_state=2) # 클러스터링용 가상 데이터를 만든다.\n",
    "print(X.shape, y.shape)"
   ]
  },
  {
   "cell_type": "code",
   "execution_count": 3,
   "id": "35d4316c",
   "metadata": {},
   "outputs": [
    {
     "data": {
      "image/png": "[encoded data removed]",
      "text/plain": [
       "<Figure size 576x432 with 1 Axes>"
      ]
     },
     "metadata": {
      "needs_background": "light"
     },
     "output_type": "display_data"
    }
   ],
   "source": [
    "# 라벨링되지 않은 데이터 시각화\n",
    "import matplotlib.pyplot as plt\n",
    "plt.figure(figsize=[8, 6])\n",
    "plt.scatter(X[:, 0], X[:, 1], c='gray', edgecolors='black', marker='o')\n",
    "plt.show()"
   ]
  },
  {
   "cell_type": "code",
   "execution_count": 4,
   "id": "7a579afb",
   "metadata": {},
   "outputs": [
    {
     "name": "stdout",
     "output_type": "stream",
     "text": [
      "[1 0 1 1 0 1 0 0 1 0 1 0 0 1 0 1 1 1 1 1 1 0 1 1 1 1 0 1 1 0 0 0 1 0 0 1 0\n",
      " 1 1 0 1 0 1 1 0 0 0 0 0 1 0 1 0 0 1 1 1 0 1 0 1 0 1 0 0 1 0 0 1 1 1 0 0 1\n",
      " 0 1 1 1 1 0 1 0 0 0 0 1 1 0 1 1 0 0 0 0 1 0 1 1 1 0 0 1 0 0 1 0 0 0 1 0 0\n",
      " 1 1 1 1 0 1 1 1 1 1 1 0 0 0 1 0 0 1 1 1 0 0 1 0 0 0 0 1 1 0 1 1 0 0 0 0 1\n",
      " 1 0 1 0 1 1 0 0 1 1 0 0 1 1 1 0 0 1 1 0 0 1 1 0 0 0 0 0 1 1 0 1 0 1 0 1 1\n",
      " 0 0 1 0 0 1 1 0 1 1 0 0 0 1 0]\n"
     ]
    }
   ],
   "source": [
    "# 가우시안 혼합 모형\n",
    "from sklearn.mixture import GaussianMixture # 가우시안 혼합 모형을 사용하기 위해 import 한다.\n",
    "gmm = GaussianMixture(n_components=2, random_state=0) # 가우시안 혼합 모형 객체를 만든다.\n",
    "gmm.fit(X) # 가우시안 혼합 모형을 학습시킨다.\n",
    "label_gmm = gmm.predict(X) # 적합 후 예측한다.\n",
    "print(label_gmm)"
   ]
  },
  {
   "cell_type": "code",
   "execution_count": 5,
   "id": "fbaed2cb",
   "metadata": {},
   "outputs": [
    {
     "data": {
      "text/html": [
       "<div>\n",
       "<style scoped>\n",
       "    .dataframe tbody tr th:only-of-type {\n",
       "        vertical-align: middle;\n",
       "    }\n",
       "\n",
       "    .dataframe tbody tr th {\n",
       "        vertical-align: top;\n",
       "    }\n",
       "\n",
       "    .dataframe thead th {\n",
       "        text-align: right;\n",
       "    }\n",
       "</style>\n",
       "<table border=\"1\" class=\"dataframe\">\n",
       "  <thead>\n",
       "    <tr style=\"text-align: right;\">\n",
       "      <th></th>\n",
       "      <th>gmm_comp1</th>\n",
       "      <th>gmm_comp2</th>\n",
       "      <th>target</th>\n",
       "      <th>label_gmm</th>\n",
       "    </tr>\n",
       "  </thead>\n",
       "  <tbody>\n",
       "    <tr>\n",
       "      <th>0</th>\n",
       "      <td>0.381155</td>\n",
       "      <td>-1.644815</td>\n",
       "      <td>1</td>\n",
       "      <td>1</td>\n",
       "    </tr>\n",
       "    <tr>\n",
       "      <th>1</th>\n",
       "      <td>-0.583904</td>\n",
       "      <td>-8.784059</td>\n",
       "      <td>0</td>\n",
       "      <td>0</td>\n",
       "    </tr>\n",
       "    <tr>\n",
       "      <th>2</th>\n",
       "      <td>1.830865</td>\n",
       "      <td>-1.425235</td>\n",
       "      <td>1</td>\n",
       "      <td>1</td>\n",
       "    </tr>\n",
       "    <tr>\n",
       "      <th>3</th>\n",
       "      <td>1.813135</td>\n",
       "      <td>-1.924671</td>\n",
       "      <td>1</td>\n",
       "      <td>1</td>\n",
       "    </tr>\n",
       "    <tr>\n",
       "      <th>4</th>\n",
       "      <td>-1.655771</td>\n",
       "      <td>-9.555946</td>\n",
       "      <td>0</td>\n",
       "      <td>0</td>\n",
       "    </tr>\n",
       "    <tr>\n",
       "      <th>...</th>\n",
       "      <td>...</td>\n",
       "      <td>...</td>\n",
       "      <td>...</td>\n",
       "      <td>...</td>\n",
       "    </tr>\n",
       "    <tr>\n",
       "      <th>195</th>\n",
       "      <td>-1.914781</td>\n",
       "      <td>-8.973079</td>\n",
       "      <td>0</td>\n",
       "      <td>0</td>\n",
       "    </tr>\n",
       "    <tr>\n",
       "      <th>196</th>\n",
       "      <td>-0.162215</td>\n",
       "      <td>-9.755717</td>\n",
       "      <td>0</td>\n",
       "      <td>0</td>\n",
       "    </tr>\n",
       "    <tr>\n",
       "      <th>197</th>\n",
       "      <td>0.512491</td>\n",
       "      <td>-9.910489</td>\n",
       "      <td>0</td>\n",
       "      <td>0</td>\n",
       "    </tr>\n",
       "    <tr>\n",
       "      <th>198</th>\n",
       "      <td>1.329158</td>\n",
       "      <td>0.610824</td>\n",
       "      <td>1</td>\n",
       "      <td>1</td>\n",
       "    </tr>\n",
       "    <tr>\n",
       "      <th>199</th>\n",
       "      <td>0.251658</td>\n",
       "      <td>-11.467321</td>\n",
       "      <td>0</td>\n",
       "      <td>0</td>\n",
       "    </tr>\n",
       "  </tbody>\n",
       "</table>\n",
       "<p>200 rows × 4 columns</p>\n",
       "</div>"
      ],
      "text/plain": [
       "     gmm_comp1  gmm_comp2  target  label_gmm\n",
       "0     0.381155  -1.644815       1          1\n",
       "1    -0.583904  -8.784059       0          0\n",
       "2     1.830865  -1.425235       1          1\n",
       "3     1.813135  -1.924671       1          1\n",
       "4    -1.655771  -9.555946       0          0\n",
       "..         ...        ...     ...        ...\n",
       "195  -1.914781  -8.973079       0          0\n",
       "196  -0.162215  -9.755717       0          0\n",
       "197   0.512491  -9.910489       0          0\n",
       "198   1.329158   0.610824       1          1\n",
       "199   0.251658 -11.467321       0          0\n",
       "\n",
       "[200 rows x 4 columns]"
      ]
     },
     "execution_count": 5,
     "metadata": {},
     "output_type": "execute_result"
    }
   ],
   "source": [
    "# 가우시안 혼합 모형 클러스터링 적용 후 데이터를 데이터프레임으로 만든다.\n",
    "import pandas as pd # 데이터프레임 형태로 만들기 위해서 판다스 라이브러리를 import 한다.\n",
    "gmm_columns = ['gmm_comp1', 'gmm_comp2'] # 데이터프레임의 열 이름을 정한다.\n",
    "X_gmm_df = pd.DataFrame(X, columns=gmm_columns) # 가우시안 혼합 모형 클러스터링된 데이터를 데이터프레임으로 만든다.\n",
    "X_gmm_df['target'] = y # 데이터프레임에 타겟 데이터를 결합한다.\n",
    "X_gmm_df['label_gmm'] = label_gmm # 데이터프레임에 클러스터링한 라벨을 결합한다.\n",
    "X_gmm_df"
   ]
  },
  {
   "cell_type": "code",
   "execution_count": 6,
   "id": "16782399",
   "metadata": {},
   "outputs": [
    {
     "name": "stdout",
     "output_type": "stream",
     "text": [
      "{0, 1} {0, 1}\n"
     ]
    }
   ],
   "source": [
    "# 타겟 클래스, 클러스터링 라벨 종류 확인\n",
    "print(set(X_gmm_df['target']), set(X_gmm_df['label_gmm']))"
   ]
  },
  {
   "cell_type": "code",
   "execution_count": 7,
   "id": "b441e8ba",
   "metadata": {},
   "outputs": [
    {
     "data": {
      "image/png": "[encoded data removed]",
      "text/plain": [
       "<Figure size 576x432 with 1 Axes>"
      ]
     },
     "metadata": {
      "needs_background": "light"
     },
     "output_type": "display_data"
    }
   ],
   "source": [
    "# 실제 타겟을 이용한 데이터 시각화\n",
    "df = X_gmm_df\n",
    "markers = ['o', '^'] # 시각화에 사용할 마커를 지정한다.\n",
    "plt.figure(figsize=[8, 6])\n",
    "\n",
    "# enumerate() 함수는 (인덱스, 데이터) 형태의 튜플을 리턴한다.\n",
    "for index, marker in enumerate(markers):\n",
    "    df_index = df[df['target'] == index] # i번째 실제 데이터에 해당되는 데이터만 추출한다.\n",
    "    target_index = index # 타겟 이름을 얻어온다.\n",
    "    X1 = df_index['gmm_comp1'] # 가우시안 혼합 모형으로 클러스터링된 데이터의 첫 번째 벡터를 얻어온다.\n",
    "    X2 = df_index['gmm_comp2'] # 가우시안 혼합 모형으로 클러스터링된 데이터의 두 번째 벡터를 얻어온다.\n",
    "    plt.scatter(X1, X2, marker=marker, label=target_index) # 산포도를 그린다.\n",
    "# =====\n",
    "\n",
    "plt.xlabel('gmm_component1')\n",
    "plt.ylabel('gmm_component2')\n",
    "plt.legend()\n",
    "plt.show()"
   ]
  },
  {
   "cell_type": "code",
   "execution_count": 8,
   "id": "15721543",
   "metadata": {},
   "outputs": [
    {
     "data": {
      "image/png": "[encoded data removed]",
      "text/plain": [
       "<Figure size 576x432 with 1 Axes>"
      ]
     },
     "metadata": {
      "needs_background": "light"
     },
     "output_type": "display_data"
    }
   ],
   "source": [
    "# 가우시안 혼합 모형 클러스터링 적용 데이터 시각화\n",
    "df = X_gmm_df\n",
    "markers = ['o', '^'] # 시각화에 사용할 마커를 지정한다.\n",
    "plt.figure(figsize=[8, 6])\n",
    "\n",
    "# enumerate() 함수는 (인덱스, 데이터) 형태의 튜플을 리턴한다.\n",
    "for index, marker in enumerate(markers):\n",
    "    # 가우시안 혼합 모형 클러스터링으로 라벨링한 데이터 중 i번째 클러스터에 해당되는 데이터만 추출한다.\n",
    "    df_index = df[df['label_gmm'] == index]\n",
    "    target_index = index # 타겟 이름을 얻어온다.\n",
    "    X1 = df_index['gmm_comp1'] # 가우시안 혼합 모형으로 클러스터링된 데이터의 첫 번째 벡터를 얻어온다.\n",
    "    X2 = df_index['gmm_comp2'] # 가우시안 혼합 모형으로 클러스터링된 데이터의 두 번째 벡터를 얻어온다.\n",
    "    plt.scatter(X1, X2, marker=marker, label=target_index) # 산포도를 그린다.\n",
    "# =====\n",
    "\n",
    "plt.xlabel('gmm_component1')\n",
    "plt.ylabel('gmm_component2')\n",
    "plt.legend()\n",
    "plt.show()"
   ]
  },
  {
   "cell_type": "code",
   "execution_count": null,
   "id": "3685435f",
   "metadata": {},
   "outputs": [],
   "source": []
  }
 ],
 "metadata": {
  "kernelspec": {
   "display_name": "py36",
   "language": "python",
   "name": "py36"
  },
  "language_info": {
   "codemirror_mode": {
    "name": "ipython",
    "version": 3
   },
   "file_extension": ".py",
   "mimetype": "text/x-python",
   "name": "python",
   "nbconvert_exporter": "python",
   "pygments_lexer": "ipython3",
   "version": "3.6.13"
  }
 },
 "nbformat": 4,
 "nbformat_minor": 5
}
