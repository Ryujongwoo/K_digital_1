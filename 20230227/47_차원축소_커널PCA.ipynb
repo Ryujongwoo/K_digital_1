{
 "cells": [
  {
   "cell_type": "code",
   "execution_count": 1,
   "id": "02d9959c",
   "metadata": {},
   "outputs": [],
   "source": [
    "%config Completer.use_jedi = False\n",
    "import warnings\n",
    "warnings.filterwarnings(action='ignore')"
   ]
  },
  {
   "cell_type": "markdown",
   "id": "88e0c488",
   "metadata": {},
   "source": [
    "커널 PCA  \n",
    "기존 주성분 분석은 데이터 행렬 $X$의 공분산 행렬을 고유값 분해한 후에 고유 벡터를 새로운 좌표축으로 할당하는 방법이었다.  \n",
    "기존의 데이터 포인트는 새로운 좌표축을 기준으로 새로운 좌표를 할당받았다. 이때 사용하는 새로운 좌표축에 해당하는 고유 벡터를 주성분이라고 불렀으며, 기존 데이터 포인트를 주성분에 직교 정사영하는 방법을 사용했다. 이에 반해 커널 PCA는 기존 PCA를 일반화한 방법으로 비선형적으로 수행하는 방법이다.\n",
    "\n",
    "기존 데이터 행렬 $X$를 기존 행렬보다 큰 공간으로 패핑한 후 새로운 공간으로 이동한 데이터에 대해서 주성분 분석을 실행한다. 그리고 데이터를 다시 원래 공간으로 매핑시키면 곡선 형태를 띤 주성분 축을 확인할 수 있다."
   ]
  },
  {
   "cell_type": "markdown",
   "id": "f7b24861",
   "metadata": {},
   "source": [
    "다른 차원 축소 방법과 비교하기 위해 와인 데이터를 이용한다."
   ]
  },
  {
   "cell_type": "code",
   "execution_count": 2,
   "id": "f79ec37e",
   "metadata": {},
   "outputs": [],
   "source": [
    "# 데이터 불러오기\n",
    "from sklearn import datasets # 와인 데이터를 사용하기 위해 import 한다.\n",
    "raw_wine = datasets.load_wine() # 와인 데이터를 불러온다."
   ]
  },
  {
   "cell_type": "code",
   "execution_count": 3,
   "id": "22a5804e",
   "metadata": {},
   "outputs": [],
   "source": [
    "# 피쳐/타겟 데이터 지정\n",
    "X = raw_wine.data # 와인 피쳐 데이터를 저장한다.\n",
    "y = raw_wine.target # 와인 타겟 데이터를 저장한다."
   ]
  },
  {
   "cell_type": "code",
   "execution_count": 4,
   "id": "a32a86cf",
   "metadata": {},
   "outputs": [
    {
     "name": "stdout",
     "output_type": "stream",
     "text": [
      "(133, 13) (45, 13)\n"
     ]
    }
   ],
   "source": [
    "# 트레이닝/테스트 데이터 분할\n",
    "from sklearn.model_selection import train_test_split # 트레이닝/테스트 데이터 분할을 위해 import 한다.\n",
    "X_tn, X_te, y_tn, y_te = train_test_split(X, y, random_state=1) # 트레이닝 데이터와 테스트 데이터로 분할한다.\n",
    "print(X_tn.shape, X_te.shape)"
   ]
  },
  {
   "cell_type": "code",
   "execution_count": 5,
   "id": "cb0ea2af",
   "metadata": {},
   "outputs": [],
   "source": [
    "# 데이터 표준화\n",
    "from sklearn.preprocessing import StandardScaler # 데이터 표준화를 위해 import 한다.\n",
    "std_scale = StandardScaler() # 표준화 스케일러 객체를 만든다.\n",
    "# 표준화는 트레이닝 데이터를 기반으로 실행하므로 트레이닝 피쳐 데이터 X_tn을 표준화 스케일러에 적합시킨다.\n",
    "std_scale.fit(X_tn)\n",
    "X_tn_std = std_scale.transform(X_tn) # 트레이닝 피쳐 데이터 X_tn을 표준화 한다.\n",
    "X_te_std = std_scale.transform(X_te) # 테스트 피쳐 데이터 X_te를 표준화 한다."
   ]
  },
  {
   "cell_type": "code",
   "execution_count": 12,
   "id": "1e440cec",
   "metadata": {},
   "outputs": [],
   "source": [
    "# 커널 PCA를 통한 데이터 차원 축소\n",
    "from sklearn.decomposition import KernelPCA # 커널 PCA 알고리즘을 사용하기 위해 import 한다.\n",
    "# n_components 옵션을 사용해서 줄이고 싶은 차원수를 설정한다.\n",
    "# 커널 PCA의 형태는 kernel 옵션으로 지정하며 linear, poly, rbf, sigmoid, cosine, precomputed 등이 있다.\n",
    "k_pca = KernelPCA(n_components=2, kernel='poly') # 커널 PCA 객체를 만든다.\n",
    "k_pca.fit(X_tn_std) # 표준화된 피쳐 데이터 X_tn_std를 커널 PCA 객체에 적합시킨다.\n",
    "X_tn_kpca = k_pca.transform(X_tn_std) # 적합된 커널 PCA 모형을 바탕으로 표준화된 트레이닝 데이터의 차원을 축소한다.\n",
    "X_te_kpca = k_pca.transform(X_te_std) # 적합된 커널 PCA 모형을 바탕으로 표준화된 테스트 데이터의 차원을 축소한다."
   ]
  },
  {
   "cell_type": "code",
   "execution_count": 13,
   "id": "da1dfc60",
   "metadata": {},
   "outputs": [
    {
     "name": "stdout",
     "output_type": "stream",
     "text": [
      "(133, 13) (133, 2)\n"
     ]
    }
   ],
   "source": [
    "# 데이터 차원 축소 확인\n",
    "# 차원 축소 이전 데이터의 차원을 확인하면, 오리지널 피쳐 데이터는 13차원의 데이터 133개로 구성되어 있음을 확인할\n",
    "# 수 있고 주성분 분석을 이용해 차원 축소한 데이터는 2차원 데이터 133개로 구성되어 있음을 확인할 수 있다.\n",
    "print(X_tn_std.shape, X_tn_kpca.shape)"
   ]
  },
  {
   "cell_type": "code",
   "execution_count": 15,
   "id": "df91a775",
   "metadata": {},
   "outputs": [
    {
     "name": "stdout",
     "output_type": "stream",
     "text": [
      "[193.89824561 118.0368972 ]\n",
      "[[ 0.07266242  0.00456251]\n",
      " [ 0.0469712  -0.04020348]\n",
      " [ 0.08698324  0.07012786]\n",
      " [ 0.19996777  0.218482  ]\n",
      " [ 0.14558241  0.12759024]\n",
      " [-0.0316937  -0.0955557 ]\n",
      " [-0.10921606  0.09183472]\n",
      " [-0.11306065  0.07491762]\n",
      " [ 0.08725253  0.05204947]\n",
      " [-0.02421116 -0.09637237]\n",
      " [ 0.10518354  0.00629214]\n",
      " [ 0.08056162  0.03107663]\n",
      " [ 0.03371273 -0.12190244]\n",
      " [-0.10603515  0.03252174]\n",
      " [ 0.07314539 -0.07636543]\n",
      " [-0.00830065 -0.06671645]\n",
      " [ 0.08166126  0.0683314 ]\n",
      " [-0.12106496  0.08116178]\n",
      " [-0.00440492 -0.13286099]\n",
      " [-0.098436    0.01206587]\n",
      " [ 0.16936111  0.14411655]\n",
      " [-0.00112801 -0.10236899]\n",
      " [ 0.05046673  0.05090575]\n",
      " [ 0.02312764 -0.11672988]\n",
      " [ 0.05288299  0.01634404]\n",
      " [-0.14390684  0.07755703]\n",
      " [-0.1116687   0.10213843]\n",
      " [-0.09004075  0.07111502]\n",
      " [-0.13169412  0.12006775]\n",
      " [-0.06341878 -0.03931811]\n",
      " [-0.01177083 -0.10981527]\n",
      " [ 0.03619517 -0.01828061]\n",
      " [-0.156624    0.11828334]\n",
      " [ 0.09838309  0.05224656]\n",
      " [-0.03607944 -0.04304917]\n",
      " [-0.08718829  0.03003902]\n",
      " [ 0.107761    0.08440051]\n",
      " [ 0.02229238 -0.09214541]\n",
      " [ 0.14598933  0.11737633]\n",
      " [-0.13726263  0.04433401]\n",
      " [-0.02909904 -0.06226158]\n",
      " [ 0.02879929 -0.04917687]\n",
      " [ 0.09714857  0.06450556]\n",
      " [ 0.04000178 -0.1192372 ]\n",
      " [-0.01859724 -0.09181325]\n",
      " [ 0.00251214 -0.07232383]\n",
      " [ 0.11625552  0.0812522 ]\n",
      " [ 0.00709013 -0.06305782]\n",
      " [ 0.05196883 -0.05957236]\n",
      " [-0.04336402 -0.06775749]\n",
      " [-0.10557423  0.09018568]\n",
      " [ 0.00284754 -0.13096497]\n",
      " [-0.00452854 -0.10536972]\n",
      " [ 0.00540651 -0.10814659]\n",
      " [ 0.05361027 -0.11464222]\n",
      " [ 0.15903704  0.13298658]\n",
      " [ 0.05278354  0.0185511 ]\n",
      " [ 0.05767792  0.00623569]\n",
      " [-0.08791754  0.02786623]\n",
      " [ 0.05012411 -0.02309564]\n",
      " [-0.07800725 -0.0008041 ]\n",
      " [-0.09451979  0.03076353]\n",
      " [-0.15926294  0.13889875]\n",
      " [ 0.04703695 -0.00072346]\n",
      " [ 0.02517162 -0.1074433 ]\n",
      " [ 0.0523388  -0.01980112]\n",
      " [-0.00521189 -0.12235619]\n",
      " [ 0.01151112 -0.1164174 ]\n",
      " [ 0.11197133  0.07026609]\n",
      " [-0.10478657  0.08647942]\n",
      " [ 0.01491144 -0.09929837]\n",
      " [-0.02464473 -0.07230424]\n",
      " [-0.09393307  0.02258847]\n",
      " [-0.13020435  0.10884047]\n",
      " [-0.0038558  -0.13747784]\n",
      " [ 0.06785059 -0.05913142]\n",
      " [ 0.00085246 -0.09671848]\n",
      " [-0.11482046  0.06874722]\n",
      " [-0.07600419  0.14444789]\n",
      " [-0.00686517 -0.10007114]\n",
      " [ 0.10366448  0.09017341]\n",
      " [-0.00364815 -0.12633395]\n",
      " [ 0.0271437  -0.01060392]\n",
      " [-0.07831699  0.01848051]\n",
      " [ 0.04412929 -0.08682403]\n",
      " [ 0.02188734 -0.16297035]\n",
      " [ 0.16966385  0.15219112]\n",
      " [ 0.07133477  0.03600883]\n",
      " [ 0.01669791 -0.10235969]\n",
      " [ 0.01870693 -0.01374662]\n",
      " [ 0.05507547 -0.0181637 ]\n",
      " [ 0.20873621  0.22363036]\n",
      " [-0.1272234   0.09590234]\n",
      " [ 0.12466478  0.11571988]\n",
      " [-0.0754834   0.01426684]\n",
      " [-0.10724634  0.08853718]\n",
      " [ 0.10048432  0.06583684]\n",
      " [ 0.05807732 -0.10520692]\n",
      " [ 0.01604432 -0.21958032]\n",
      " [-0.16410527  0.11694079]\n",
      " [ 0.10960069  0.07793703]\n",
      " [-0.0344665  -0.06967614]\n",
      " [-0.00335884 -0.10631255]\n",
      " [ 0.08197977  0.01628397]\n",
      " [ 0.09182267  0.06536358]\n",
      " [ 0.08861495  0.02462391]\n",
      " [-0.04690543 -0.03946835]\n",
      " [ 0.05678815 -0.09241071]\n",
      " [ 0.09139202  0.0774402 ]\n",
      " [-0.10450925  0.07078308]\n",
      " [-0.07003339  0.01075776]\n",
      " [-0.01031492 -0.11303415]\n",
      " [-0.00921992 -0.04251139]\n",
      " [-0.01647968 -0.02802329]\n",
      " [ 0.13494004  0.06028009]\n",
      " [-0.09566898  0.0225553 ]\n",
      " [-0.13171243  0.07016883]\n",
      " [-0.12892906  0.09819332]\n",
      " [-0.06988297  0.00125385]\n",
      " [-0.17657606  0.09408459]\n",
      " [-0.00546049 -0.10135525]\n",
      " [ 0.12293879  0.07335327]\n",
      " [ 0.04139737 -0.02016764]\n",
      " [-0.06927577 -0.01420696]\n",
      " [ 0.04548497 -0.06856504]\n",
      " [-0.04010431 -0.05997517]\n",
      " [-0.08094054  0.04076356]\n",
      " [ 0.0136731  -0.07847278]\n",
      " [-0.06717016  0.00871639]\n",
      " [-0.15022051  0.06304039]\n",
      " [-0.01272266 -0.06212804]\n",
      " [-0.08471991  0.01152327]\n",
      " [ 0.0411036  -0.00361584]]\n"
     ]
    }
   ],
   "source": [
    "# 고유값, 고유 벡터 확인\n",
    "# 주어진 데이터를 2차원으로 줄였으므로 2개의 고유값을 확인할 수 있다.\n",
    "print(k_pca.lambdas_) # lambdas_ 속성으로 계산된 고유값을 얻어올 수 있다.\n",
    "# 고유 벡터는 각 고유값에 대응되는 벡터로, 이 고유 벡터가 바로 주성분 벡터이다.\n",
    "print(k_pca.alphas_) # alphas_ 속성으로 계산된 고유 벡터를 얻어올 수 있다."
   ]
  },
  {
   "cell_type": "code",
   "execution_count": 16,
   "id": "31fa9512",
   "metadata": {},
   "outputs": [
    {
     "data": {
      "text/html": [
       "<div>\n",
       "<style scoped>\n",
       "    .dataframe tbody tr th:only-of-type {\n",
       "        vertical-align: middle;\n",
       "    }\n",
       "\n",
       "    .dataframe tbody tr th {\n",
       "        vertical-align: top;\n",
       "    }\n",
       "\n",
       "    .dataframe thead th {\n",
       "        text-align: right;\n",
       "    }\n",
       "</style>\n",
       "<table border=\"1\" class=\"dataframe\">\n",
       "  <thead>\n",
       "    <tr style=\"text-align: right;\">\n",
       "      <th></th>\n",
       "      <th>kpca_comp1</th>\n",
       "      <th>kpca_comp2</th>\n",
       "      <th>target</th>\n",
       "    </tr>\n",
       "  </thead>\n",
       "  <tbody>\n",
       "    <tr>\n",
       "      <th>0</th>\n",
       "      <td>1.011805</td>\n",
       "      <td>0.049569</td>\n",
       "      <td>0</td>\n",
       "    </tr>\n",
       "    <tr>\n",
       "      <th>1</th>\n",
       "      <td>0.654061</td>\n",
       "      <td>-0.436790</td>\n",
       "      <td>1</td>\n",
       "    </tr>\n",
       "    <tr>\n",
       "      <th>2</th>\n",
       "      <td>1.211219</td>\n",
       "      <td>0.761903</td>\n",
       "      <td>0</td>\n",
       "    </tr>\n",
       "    <tr>\n",
       "      <th>3</th>\n",
       "      <td>2.784498</td>\n",
       "      <td>2.373693</td>\n",
       "      <td>0</td>\n",
       "    </tr>\n",
       "    <tr>\n",
       "      <th>4</th>\n",
       "      <td>2.027196</td>\n",
       "      <td>1.386201</td>\n",
       "      <td>0</td>\n",
       "    </tr>\n",
       "    <tr>\n",
       "      <th>...</th>\n",
       "      <td>...</td>\n",
       "      <td>...</td>\n",
       "      <td>...</td>\n",
       "    </tr>\n",
       "    <tr>\n",
       "      <th>128</th>\n",
       "      <td>-0.935327</td>\n",
       "      <td>0.094699</td>\n",
       "      <td>2</td>\n",
       "    </tr>\n",
       "    <tr>\n",
       "      <th>129</th>\n",
       "      <td>-2.091781</td>\n",
       "      <td>0.684901</td>\n",
       "      <td>2</td>\n",
       "    </tr>\n",
       "    <tr>\n",
       "      <th>130</th>\n",
       "      <td>-0.177160</td>\n",
       "      <td>-0.674989</td>\n",
       "      <td>1</td>\n",
       "    </tr>\n",
       "    <tr>\n",
       "      <th>131</th>\n",
       "      <td>-1.179702</td>\n",
       "      <td>0.125194</td>\n",
       "      <td>2</td>\n",
       "    </tr>\n",
       "    <tr>\n",
       "      <th>132</th>\n",
       "      <td>0.572357</td>\n",
       "      <td>-0.039284</td>\n",
       "      <td>0</td>\n",
       "    </tr>\n",
       "  </tbody>\n",
       "</table>\n",
       "<p>133 rows × 3 columns</p>\n",
       "</div>"
      ],
      "text/plain": [
       "     kpca_comp1  kpca_comp2  target\n",
       "0      1.011805    0.049569       0\n",
       "1      0.654061   -0.436790       1\n",
       "2      1.211219    0.761903       0\n",
       "3      2.784498    2.373693       0\n",
       "4      2.027196    1.386201       0\n",
       "..          ...         ...     ...\n",
       "128   -0.935327    0.094699       2\n",
       "129   -2.091781    0.684901       2\n",
       "130   -0.177160   -0.674989       1\n",
       "131   -1.179702    0.125194       2\n",
       "132    0.572357   -0.039284       0\n",
       "\n",
       "[133 rows x 3 columns]"
      ]
     },
     "execution_count": 16,
     "metadata": {},
     "output_type": "execute_result"
    }
   ],
   "source": [
    "# 차원 축소된 데이터를 데이터프레임 형태로 변환한다.\n",
    "import pandas as pd # 데이터프레임 형태로 만들기 위해서 판다스 라이브러리를 import 한다.\n",
    "kpca_columns = ['kpca_comp1', 'kpca_comp2'] # 차원 축소된 데이터의 열 이름을 정한다.\n",
    "X_tn_kpca_df = pd.DataFrame(X_tn_kpca, columns=kpca_columns) # 차원 축소된 데이터를 데이터프레임으로 만든다.\n",
    "X_tn_kpca_df['target'] = y_tn # 차원 축소된 데이터로 만든 데이터프레임에 타겟 데이터를 결합한다.\n",
    "X_tn_kpca_df"
   ]
  },
  {
   "cell_type": "code",
   "execution_count": 18,
   "id": "df5649d2",
   "metadata": {},
   "outputs": [
    {
     "data": {
      "image/png": "[encoded data removed]",
      "text/plain": [
       "<Figure size 576x432 with 1 Axes>"
      ]
     },
     "metadata": {
      "needs_background": "light"
     },
     "output_type": "display_data"
    }
   ],
   "source": [
    "# 커널 PCA 적용 데이터 시각화\n",
    "import matplotlib.pyplot as plt\n",
    "df = X_tn_kpca_df\n",
    "markers = ['o', 'x', '^'] # 시각화에 사용할 마커를 지정한다.\n",
    "plt.figure(figsize=[8, 6])\n",
    "\n",
    "# enumerate() 함수는 (인덱스, 데이터) 형태의 튜플을 리턴한다.\n",
    "for index, marker in enumerate(markers):\n",
    "    df_index = df[df['target'] == index] # 시각화할 와인 데이터를 얻어온다.\n",
    "    target_index = raw_wine.target_names[index] # 시각화할 와인의 타겟 이름을 얻어온다.\n",
    "    X1 = df_index['kpca_comp1'] # 시각화할 차원 축소된 데이터의 첫 번째 주성분 벡터를 얻어온다.\n",
    "    X2 = df_index['kpca_comp2'] # 시각화할 차원 축소된 데이터의 두 번째 주성분 벡터를 얻어온다.\n",
    "    plt.scatter(X1, X2, marker=marker, label=target_index) # 산포도를 그린다.\n",
    "# =====\n",
    "\n",
    "plt.xlabel('kpca_component1')\n",
    "plt.ylabel('kpca_component2')\n",
    "plt.legend()\n",
    "plt.show()"
   ]
  },
  {
   "cell_type": "code",
   "execution_count": 21,
   "id": "c4b93bca",
   "metadata": {},
   "outputs": [
    {
     "name": "stdout",
     "output_type": "stream",
     "text": [
      "[2 1 0 1 0 2 1 0 2 1 0 0 1 0 1 1 2 0 1 0 0 1 0 0 0 2 0 0 0 2 1 2 2 0 1 1 1\n",
      " 1 1 0 0 1 2 0 0]\n"
     ]
    }
   ],
   "source": [
    "# 데이터 학습 및 예측\n",
    "from sklearn.ensemble import RandomForestClassifier # 랜덤 포레스트 알고리즘을 사용하기 위해 import 한다.\n",
    "clf_rf_kpca = RandomForestClassifier(max_depth=2, random_state=0) # 랜덤 포레스트 모델 객체를 만든다.\n",
    "# 표준화된 피쳐 데이터 X_tn_std와 트레이닝 타겟 데이터 y_tn을 넣어서 랜덤 포레스트 알고리즘을 학습시킨다.\n",
    "clf_rf_kpca.fit(X_tn_kpca, y_tn)\n",
    "pred_rf_kpca = clf_rf_kpca.predict(X_te_kpca) # 표준화된 테스트 데이터 X_te_std로 예측한다.\n",
    "print(pred_rf_kpca)"
   ]
  },
  {
   "cell_type": "code",
   "execution_count": 23,
   "id": "7fac70dc",
   "metadata": {},
   "outputs": [
    {
     "name": "stdout",
     "output_type": "stream",
     "text": [
      "0.9555555555555556\n"
     ]
    }
   ],
   "source": [
    "# 정확도 평가\n",
    "from sklearn.metrics import accuracy_score # 모형 정확도를 평가하기 위해 import 한다.\n",
    "# accuracy_score() 함수의 인수로 실제 타겟 데이터와 예측된 데이터를 넘겨 정확도를 평가한다.\n",
    "accuracy = accuracy_score(y_te, pred_rf_kpca)\n",
    "print(accuracy)"
   ]
  },
  {
   "cell_type": "markdown",
   "id": "9cc3cd6f",
   "metadata": {},
   "source": [
    "모델 정확도는 95.5%로 확인된다.  \n",
    "차원 축소를 하지 않았을 때 데이터를 통한 학습 정확도는 97.7%이었고 PCA를 적용했을 때 95.5%로 나타났고, 커널 PCA도 PCA와 마찬가지로 95.5%로 나타남을 알 수 있다."
   ]
  },
  {
   "cell_type": "code",
   "execution_count": null,
   "id": "af1e4ea7",
   "metadata": {},
   "outputs": [],
   "source": []
  }
 ],
 "metadata": {
  "kernelspec": {
   "display_name": "py36",
   "language": "python",
   "name": "py36"
  },
  "language_info": {
   "codemirror_mode": {
    "name": "ipython",
    "version": 3
   },
   "file_extension": ".py",
   "mimetype": "text/x-python",
   "name": "python",
   "nbconvert_exporter": "python",
   "pygments_lexer": "ipython3",
   "version": "3.6.13"
  }
 },
 "nbformat": 4,
 "nbformat_minor": 5
}
