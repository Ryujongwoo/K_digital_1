{
 "cells": [
  {
   "cell_type": "code",
   "execution_count": 1,
   "id": "1f30010d",
   "metadata": {},
   "outputs": [],
   "source": [
    "%config Completer.use_jedi = False\n",
    "import warnings\n",
    "warnings.filterwarnings(action='ignore')"
   ]
  },
  {
   "cell_type": "code",
   "execution_count": 2,
   "id": "41d764be",
   "metadata": {},
   "outputs": [],
   "source": [
    "import requests\n",
    "from xml.etree.ElementTree import fromstring, ElementTree\n",
    "# helpers는 엘라스틱 서치 API를 추상화해 몇 가지 기능을 도와주는 라이브러리이며, bulk API는 helpers에 속한다.\n",
    "from elasticsearch import Elasticsearch, helpers\n",
    "es = Elasticsearch('http://localhost:9200/')\n",
    "docs = [] # 벌크 데이터를 저장할 빈 리스트"
   ]
  },
  {
   "cell_type": "code",
   "execution_count": 3,
   "id": "a1a768a0",
   "metadata": {
    "scrolled": false
   },
   "outputs": [
    {
     "name": "stdout",
     "output_type": "stream",
     "text": [
      "END:     1,  1000\n",
      "END:  1001,  2000\n",
      "END:  2001,  3000\n",
      "END:  3001,  4000\n",
      "END:  4001,  5000\n",
      "END:  5001,  6000\n",
      "END:  6001,  7000\n",
      "END:  7001,  8000\n",
      "END:  8001,  9000\n",
      "END:  9001, 10000\n",
      "END: 10001, 11000\n",
      "END: 11001, 12000\n",
      "END: 12001, 13000\n",
      "END: 13001, 14000\n",
      "END: 14001, 15000\n",
      "END: 15001, 16000\n",
      "END: 16001, 17000\n",
      "END: 17001, 18000\n",
      "END: 18001, 19000\n",
      "END: 19001, 20000\n",
      "END: 20001, 21000\n",
      "END: 21001, 22000\n",
      "END: 22001, 23000\n",
      "END: 23001, 24000\n",
      "END: 24001, 25000\n",
      "END: 25001, 26000\n",
      "END: 26001, 27000\n",
      "END: 27001, 28000\n",
      "END\n"
     ]
    }
   ],
   "source": [
    "for i in range(1, 29):\n",
    "    iStart = (i - 1) * 1000 + 1\n",
    "    iEnd = i * 1000\n",
    "    targetSite = 'http://openapi.seoul.go.kr:8088/746e4968796d6b7639366763624a53/xml/TbPublicWifiInfo/{}/{}/'.format(iStart,\n",
    "                            iEnd)\n",
    "    \n",
    "    response = requests.get(targetSite)\n",
    "    tree = ElementTree(fromstring(response.text))\n",
    "    root = tree.getroot()\n",
    "    \n",
    "    for row in root.iter('row'):\n",
    "        gu_nm = row.find('X_SWIFI_WRDOFC').text\n",
    "        place_nm = row.find('X_SWIFI_MAIN_NM').text\n",
    "        place_x = row.find('LAT').text\n",
    "        place_y = row.find('LNT').text\n",
    "        \n",
    "        doc = {\n",
    "            # seoul_wifi2라는 인덱스는 존재하지 않지만 엘라스틱서치 특성성 다이내믹 매핑으로 자동 생성된다.\n",
    "            '_index': 'seoul_wifi2',\n",
    "            '_source': {\n",
    "                'gu_nm': gu_nm,\n",
    "                'place_nm': place_nm,\n",
    "                'instl_xy': {\n",
    "                    'lat': float(place_y),\n",
    "                    'lon': float(place_x)\n",
    "                }\n",
    "            }\n",
    "        }\n",
    "        docs.append(doc) # 도큐먼트를 만든 후 docs라는 리스트에 추가한다.\n",
    "    print('END: {:5d}, {:5d}'.format(iStart, iEnd))\n",
    "print('END')\n",
    "response = helpers.bulk(es, docs)"
   ]
  },
  {
   "cell_type": "code",
   "execution_count": null,
   "id": "a73e99f6",
   "metadata": {},
   "outputs": [],
   "source": []
  },
  {
   "cell_type": "code",
   "execution_count": null,
   "id": "f2b0c497",
   "metadata": {},
   "outputs": [],
   "source": []
  },
  {
   "cell_type": "code",
   "execution_count": null,
   "id": "a7925790",
   "metadata": {},
   "outputs": [],
   "source": []
  }
 ],
 "metadata": {
  "kernelspec": {
   "display_name": "py36",
   "language": "python",
   "name": "py36"
  },
  "language_info": {
   "codemirror_mode": {
    "name": "ipython",
    "version": 3
   },
   "file_extension": ".py",
   "mimetype": "text/x-python",
   "name": "python",
   "nbconvert_exporter": "python",
   "pygments_lexer": "ipython3",
   "version": "3.6.13"
  }
 },
 "nbformat": 4,
 "nbformat_minor": 5
}
