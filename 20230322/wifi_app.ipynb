{
 "cells": [
  {
   "cell_type": "code",
   "execution_count": null,
   "id": "1f30010d",
   "metadata": {},
   "outputs": [],
   "source": [
    "%config Completer.use_jedi = False\n",
    "import warnings\n",
    "warnings.filterwarnings(action='ignore')"
   ]
  },
  {
   "cell_type": "code",
   "execution_count": null,
   "id": "41d764be",
   "metadata": {},
   "outputs": [],
   "source": [
    "import requests\n",
    "# 이번에는 json 라이브러리가 아닌 xml 라이브러리를 이용해서 xml 파싱을 해보자.\n",
    "from xml.etree.ElementTree import fromstring, ElementTree\n",
    "from elasticsearch import Elasticsearch\n",
    "es = Elasticsearch('http://localhost:9200/')"
   ]
  },
  {
   "cell_type": "code",
   "execution_count": null,
   "id": "a1a768a0",
   "metadata": {
    "scrolled": false
   },
   "outputs": [],
   "source": [
    "# 23년 3월 22일 현재 공공 와이파이 개수는 27911개 인데 오픈 API에서는 한 번에 호출할 수 있는 개수가 제한되서 1000개씩\n",
    "# 나눠서 API를 호출한다.\n",
    "for i in range(1, 29):\n",
    "    iStart = (i - 1) * 1000 + 1\n",
    "    iEnd = i * 1000\n",
    "    # print('{:5d}, {:5d}'.format(iStart, iEnd))\n",
    "    # 오픈 API 요청 주소를 만든다.\n",
    "    targetSite = 'http://openapi.seoul.go.kr:8088/746e4968796d6b7639366763624a53/xml/TbPublicWifiInfo/{}/{}/'.format(iStart,\n",
    "                            iEnd)\n",
    "    # print(targetSite)\n",
    "    \n",
    "    response = requests.get(targetSite) # 오픈 API를 요청한다.\n",
    "    tree = ElementTree(fromstring(response.text)) # 오픈 API가 응답한 내용을 XML 파싱한다.\n",
    "    # print(i, tree)\n",
    "    root = tree.getroot() # 파싱된 XML의 최상단 root 태그를 얻어온다.\n",
    "    # print(root)\n",
    "    \n",
    "    # 파싱된 XML의 <row> ~ </row> 사이의 모든 데이터를 반복을 수행하며 얻어온다.\n",
    "    for row in root.iter('row'):\n",
    "        # print(row)\n",
    "        # <row> ~ </row> 사이의 데이터 중에서 엘라스틱서치에 저장할 데이터만 가져온다.\n",
    "        gu_nm = row.find('X_SWIFI_WRDOFC').text\n",
    "        place_nm = row.find('X_SWIFI_MAIN_NM').text\n",
    "        place_x = row.find('LAT').text\n",
    "        place_y = row.find('LNT').text\n",
    "        # print(gu_nm, place_nm, place_x, place_y)\n",
    "        \n",
    "        # <row> ~ </row> 사이에서 엘라스틱서치에 저장하기 위해 가져온 데이터를 딕셔너리로 만든다.\n",
    "        doc = {\n",
    "            'gu_nm': gu_nm,\n",
    "            'place_nm': place_nm,\n",
    "            'instl_xy': {\n",
    "                'lat': float(place_y),\n",
    "                'lon': float(place_x)\n",
    "            }\n",
    "        }\n",
    "        # print(doc)\n",
    "        \n",
    "        # 엘라스틱 서치에 인덱싱한다.\n",
    "        try:\n",
    "            response = es.index(index='seoul_wifi', body=doc)\n",
    "            # print(doc)\n",
    "        except:\n",
    "            # pass\n",
    "            print('error:', doc)\n",
    "            doc = {\n",
    "                'gu_nm': gu_nm,\n",
    "                'place_nm': place_nm,\n",
    "                'instl_xy': {\n",
    "                    'lat': float(place_x),\n",
    "                    'lon': float(place_y)\n",
    "                }\n",
    "            }\n",
    "            response = es.index(index='seoul_wifi', body=doc) \n",
    "    print('END: {:5d}, {:5d}'.format(iStart, iEnd))\n",
    "print('END')"
   ]
  },
  {
   "cell_type": "code",
   "execution_count": null,
   "id": "a73e99f6",
   "metadata": {},
   "outputs": [],
   "source": []
  },
  {
   "cell_type": "code",
   "execution_count": null,
   "id": "f2b0c497",
   "metadata": {},
   "outputs": [],
   "source": []
  },
  {
   "cell_type": "code",
   "execution_count": null,
   "id": "a7925790",
   "metadata": {},
   "outputs": [],
   "source": []
  }
 ],
 "metadata": {
  "kernelspec": {
   "display_name": "py36",
   "language": "python",
   "name": "py36"
  },
  "language_info": {
   "codemirror_mode": {
    "name": "ipython",
    "version": 3
   },
   "file_extension": ".py",
   "mimetype": "text/x-python",
   "name": "python",
   "nbconvert_exporter": "python",
   "pygments_lexer": "ipython3",
   "version": "3.6.13"
  }
 },
 "nbformat": 4,
 "nbformat_minor": 5
}
