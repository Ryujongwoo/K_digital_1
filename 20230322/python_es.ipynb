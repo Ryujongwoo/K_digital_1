{
 "cells": [
  {
   "cell_type": "code",
   "execution_count": 1,
   "id": "6c42569a",
   "metadata": {},
   "outputs": [],
   "source": [
    "%config Completer.use_jedi = False\n",
    "import warnings\n",
    "warnings.filterwarnings(action='ignore')"
   ]
  },
  {
   "cell_type": "code",
   "execution_count": 2,
   "id": "1245344c",
   "metadata": {},
   "outputs": [],
   "source": [
    "from elasticsearch import Elasticsearch # 파이썬에서 elasticsearch를 사용하기 위해 import 한다."
   ]
  },
  {
   "cell_type": "code",
   "execution_count": 4,
   "id": "db0b11d2",
   "metadata": {},
   "outputs": [],
   "source": [
    "# elasticsearch 객체를 만든다.\n",
    "es = Elasticsearch('http://localhost:9200/')"
   ]
  },
  {
   "cell_type": "code",
   "execution_count": 9,
   "id": "b3fa4d32",
   "metadata": {},
   "outputs": [
    {
     "name": "stdout",
     "output_type": "stream",
     "text": [
      "{'_index': 'test_index', '_type': '_doc', '_id': '1', '_version': 2, 'result': 'updated', '_shards': {'total': 2, 'successful': 1, 'failed': 0}, '_seq_no': 1, '_primary_term': 1}\n"
     ]
    }
   ],
   "source": [
    "# elasticsearch에 인덱싱할 도큐먼트를 만든다.\n",
    "doc = {'name': 'kim', 'age': 35}\n",
    "# elasticsearch 객체의 index() 함수의 index 속성에 생성할 인덱스 이름, id 속성에 id, body 속성에 인덱싱할 도큐먼트를\n",
    "# 지정하고 도큐먼트를 인덱싱한다.\n",
    "response = es.index(index='test_index', id=1, body=doc)\n",
    "print(response)\n",
    "print('=' * 80)"
   ]
  },
  {
   "cell_type": "code",
   "execution_count": 10,
   "id": "b52bd97a",
   "metadata": {},
   "outputs": [
    {
     "name": "stdout",
     "output_type": "stream",
     "text": [
      "{'took': 1, 'timed_out': False, '_shards': {'total': 1, 'successful': 1, 'skipped': 0, 'failed': 0}, 'hits': {'total': {'value': 139, 'relation': 'eq'}, 'max_score': 4.5392447, 'hits': [{'_index': 'kibana_sample_data_flights', '_type': '_doc', '_id': 'I1-JxIYBhZLKS53jfaa_', '_score': 4.5392447, '_source': {'FlightNum': 'BOOKXH0', 'DestCountry': 'KR', 'OriginWeather': 'Clear', 'OriginCityName': 'Paris', 'AvgTicketPrice': 920.587418059468, 'DistanceMiles': 5560.795796830947, 'FlightDelay': False, 'DestWeather': 'Clear', 'Dest': 'Incheon International Airport', 'FlightDelayType': 'No Delay', 'OriginCountry': 'FR', 'dayOfWeek': 0, 'DistanceKilometers': 8949.233350855106, 'timestamp': '2023-02-27T08:22:01', 'DestLocation': {'lat': '37.46910095', 'lon': '126.4509964'}, 'DestAirportID': 'ICN', 'Carrier': 'ES-Air', 'Cancelled': False, 'FlightTimeMin': 813.5666682595551, 'Origin': 'Charles de Gaulle International Airport', 'OriginLocation': {'lat': '49.01279831', 'lon': '2.549999952'}, 'DestRegion': 'SE-BD', 'OriginAirportID': 'CDG', 'OriginRegion': 'FR-J', 'DestCityName': 'Seoul', 'FlightTimeHour': 13.559444470992585, 'FlightDelayMin': 0}}]}}\n"
     ]
    }
   ],
   "source": [
    "# elasticsearch 객체의 search() 함수에 사용할 DSL 쿼리를 만든다.\n",
    "doc = {\n",
    "    \"size\": 1,\n",
    "    \"query\": {\n",
    "        \"term\": {\n",
    "            \"DestCityName\": {\n",
    "                \"value\": \"Seoul\"\n",
    "            }\n",
    "        }\n",
    "    }\n",
    "}\n",
    "\n",
    "# search() 함수의 index 속성에 도큐먼트를 읽어올 인덱스 이름, doc 속성에 DSL 쿼리를 지정해서 elasticsearch에\n",
    "# 데이터를 요청한다.\n",
    "response = es.search(index='kibana_sample_data_flights', body=doc)\n",
    "print(response)"
   ]
  },
  {
   "cell_type": "code",
   "execution_count": null,
   "id": "cecb89b9",
   "metadata": {},
   "outputs": [],
   "source": []
  },
  {
   "cell_type": "code",
   "execution_count": null,
   "id": "8722aaaf",
   "metadata": {},
   "outputs": [],
   "source": []
  },
  {
   "cell_type": "code",
   "execution_count": null,
   "id": "03349700",
   "metadata": {},
   "outputs": [],
   "source": []
  },
  {
   "cell_type": "code",
   "execution_count": null,
   "id": "ea4b83bc",
   "metadata": {},
   "outputs": [],
   "source": []
  },
  {
   "cell_type": "code",
   "execution_count": null,
   "id": "59590eaf",
   "metadata": {},
   "outputs": [],
   "source": []
  },
  {
   "cell_type": "code",
   "execution_count": null,
   "id": "c39f4a03",
   "metadata": {},
   "outputs": [],
   "source": []
  },
  {
   "cell_type": "code",
   "execution_count": null,
   "id": "a07291d4",
   "metadata": {},
   "outputs": [],
   "source": []
  }
 ],
 "metadata": {
  "kernelspec": {
   "display_name": "py36",
   "language": "python",
   "name": "py36"
  },
  "language_info": {
   "codemirror_mode": {
    "name": "ipython",
    "version": 3
   },
   "file_extension": ".py",
   "mimetype": "text/x-python",
   "name": "python",
   "nbconvert_exporter": "python",
   "pygments_lexer": "ipython3",
   "version": "3.6.13"
  }
 },
 "nbformat": 4,
 "nbformat_minor": 5
}
