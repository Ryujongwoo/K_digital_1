{
 "cells": [
  {
   "cell_type": "code",
   "execution_count": 1,
   "id": "0703d83e",
   "metadata": {},
   "outputs": [],
   "source": [
    "%config Completer.use_jedi = False\n",
    "import warnings\n",
    "warnings.filterwarnings(action='ignore')"
   ]
  },
  {
   "cell_type": "code",
   "execution_count": 2,
   "id": "9b41bf32",
   "metadata": {},
   "outputs": [],
   "source": [
    "import requests\n",
    "import json\n",
    "import xmltodict # xml 데이터를 딕셔너리로 변환하기 위해 import 한다."
   ]
  },
  {
   "cell_type": "code",
   "execution_count": null,
   "id": "762726d6",
   "metadata": {
    "scrolled": false
   },
   "outputs": [
    {
     "name": "stdout",
     "output_type": "stream",
     "text": [
      "{\n",
      "  \"TbPublicWifiInfo\": {\n",
      "    \"list_total_count\": \"27911\",\n",
      "    \"RESULT\": {\n",
      "      \"CODE\": \"INFO-000\",\n",
      "      \"MESSAGE\": \"정상 처리되었습니다\"\n",
      "    },\n",
      "    \"row\": {\n",
      "      \"X_SWIFI_MGR_NO\": \"-WF111060\",\n",
      "      \"X_SWIFI_WRDOFC\": \"광진구\",\n",
      "      \"X_SWIFI_MAIN_NM\": \"구의공원\",\n",
      "      \"X_SWIFI_ADRES1\": \"광진구구의강변로84\",\n",
      "      \"X_SWIFI_ADRES2\": \"광나루로56길 85 구의어린이공원 입구 CCTV(테크노마트 방향)\",\n",
      "      \"X_SWIFI_INSTL_FLOOR\": null,\n",
      "      \"X_SWIFI_INSTL_TY\": \"공원\",\n",
      "      \"X_SWIFI_INSTL_MBY\": \"협력형_LGU+\",\n",
      "      \"X_SWIFI_SVC_SE\": \"공공WiFi\",\n",
      "      \"X_SWIFI_CMCWR\": \"이통사망\",\n",
      "      \"X_SWIFI_CNSTC_YEAR\": \"2011\",\n",
      "      \"X_SWIFI_INOUT_DOOR\": \"실외\",\n",
      "      \"X_SWIFI_REMARS3\": null,\n",
      "      \"LAT\": \"127.0939\",\n",
      "      \"LNT\": \"37.537075\",\n",
      "      \"WORK_DTTM\": \"2023-03-22 10:58:17.0\"\n",
      "    }\n",
      "  }\n",
      "}\n"
     ]
    }
   ],
   "source": [
    "targetSite = 'http://openapi.seoul.go.kr:8088/746e4968796d6b7639366763624a53/xml/TbPublicWifiInfo/1/1/'\n",
    "response = requests.get(targetSite) # 공공 와이파이 정보를 open API로 요청해서 xml 데이터로 받는다.\n",
    "# print(response)\n",
    "# print(response.text) # xml 형태의 결과가 보여진다.\n",
    "dictionary = xmltodict.parse(response.text) # xml 형태의 데이터를 딕셔너리 형태로 변환한다.\n",
    "# print(dictionary)\n",
    "# 딕셔너리를 json 타입의 데이터로 변환하고 ensure_ascii=False 옵션을 지정해서 한글 깨짐을 방지한다.\n",
    "json_object = json.dumps(dictionary, ensure_ascii=False, indent=2)\n",
    "print(json_object)"
   ]
  },
  {
   "cell_type": "code",
   "execution_count": null,
   "id": "941d4a86",
   "metadata": {},
   "outputs": [],
   "source": []
  },
  {
   "cell_type": "code",
   "execution_count": null,
   "id": "da5ed978",
   "metadata": {},
   "outputs": [],
   "source": []
  },
  {
   "cell_type": "code",
   "execution_count": null,
   "id": "232a8d83",
   "metadata": {},
   "outputs": [],
   "source": []
  },
  {
   "cell_type": "code",
   "execution_count": null,
   "id": "b697b16e",
   "metadata": {},
   "outputs": [],
   "source": []
  },
  {
   "cell_type": "code",
   "execution_count": null,
   "id": "c988bd1c",
   "metadata": {},
   "outputs": [],
   "source": []
  }
 ],
 "metadata": {
  "kernelspec": {
   "display_name": "py36",
   "language": "python",
   "name": "py36"
  },
  "language_info": {
   "codemirror_mode": {
    "name": "ipython",
    "version": 3
   },
   "file_extension": ".py",
   "mimetype": "text/x-python",
   "name": "python",
   "nbconvert_exporter": "python",
   "pygments_lexer": "ipython3",
   "version": "3.6.13"
  }
 },
 "nbformat": 4,
 "nbformat_minor": 5
}
