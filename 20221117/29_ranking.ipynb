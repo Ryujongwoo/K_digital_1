{
 "cells": [
  {
   "cell_type": "markdown",
   "id": "4cbcd24f",
   "metadata": {},
   "source": [
    "# 석차계산\n",
    "석차를 계산할 점수와 전체 점수를 비교해서 석차를 계산한다."
   ]
  },
  {
   "cell_type": "code",
   "execution_count": 18,
   "id": "00db72da",
   "metadata": {},
   "outputs": [
    {
     "name": "stdout",
     "output_type": "stream",
     "text": [
      " 70점은 1등 입니다. ★★★★★★★\n",
      "100점은 4등 입니다. ★★★★★★★★★★\n",
      " 80점은 2등 입니다. ★★★★★★★★\n",
      "100점은 4등 입니다. ★★★★★★★★★★\n",
      " 90점은 3등 입니다. ★★★★★★★★★\n"
     ]
    }
   ],
   "source": [
    "score = [70, 100, 80, 100, 90]\n",
    "# 석차를 기억할 리스트를 만든다. => 석차를 기억할 기억장소의 초기치는 무조건 1로 지정한다.\n",
    "# rank = [1 for i in range(len(score))]\n",
    "rank = [1 for i in range(len(score))]\n",
    "# print(rank)\n",
    "\n",
    "for i in range(len(score)):\n",
    "    for j in range(len(score)):\n",
    "        # print(f'[i = {i}, j = {j}]', end=' ')\n",
    "        # 내림차순 석차, 큰 점수가 1등\n",
    "        # if score[i] < score[j]:\n",
    "        # 오름차순 석차, 작은 점수가 1등, 내림차순 석차에서 부등호만 변경하면 오름차순 석차가 계산된다.\n",
    "        if score[i] > score[j]:\n",
    "            rank[i] += 1\n",
    "    # ===== for j\n",
    "    # print()\n",
    "# ===== for i\n",
    "\n",
    "for i in range(len(score)):\n",
    "    print('{:3d}점은 {}등 입니다.'.format(score[i], rank[i]), end=' ')\n",
    "    # 10점당 '★'을 1개씩 출력한다.\n",
    "    '''\n",
    "    for j in range(score[i] // 10):\n",
    "        print('★', end='')\n",
    "    # ===== for j\n",
    "    print()\n",
    "    '''\n",
    "    print('★' * (score[i] // 10))\n",
    "# ===== for i"
   ]
  },
  {
   "cell_type": "code",
   "execution_count": null,
   "id": "cc0961b0",
   "metadata": {},
   "outputs": [],
   "source": []
  },
  {
   "cell_type": "code",
   "execution_count": null,
   "id": "69dc5a8d",
   "metadata": {},
   "outputs": [],
   "source": []
  },
  {
   "cell_type": "code",
   "execution_count": null,
   "id": "27de39c1",
   "metadata": {},
   "outputs": [],
   "source": []
  },
  {
   "cell_type": "code",
   "execution_count": null,
   "id": "8aea586e",
   "metadata": {},
   "outputs": [],
   "source": []
  }
 ],
 "metadata": {
  "kernelspec": {
   "display_name": "Python 3",
   "language": "python",
   "name": "python3"
  },
  "language_info": {
   "codemirror_mode": {
    "name": "ipython",
    "version": 3
   },
   "file_extension": ".py",
   "mimetype": "text/x-python",
   "name": "python",
   "nbconvert_exporter": "python",
   "pygments_lexer": "ipython3",
   "version": "3.6.8"
  }
 },
 "nbformat": 4,
 "nbformat_minor": 5
}
