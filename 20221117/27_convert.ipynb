{
 "cells": [
  {
   "cell_type": "markdown",
   "id": "90672eed",
   "metadata": {},
   "source": [
    "# 진법 변환\n",
    "<img src=\"./images/convert.png\" align=\"left\" width=\"1000\" title=\"진법 변환 이미지\"/>"
   ]
  },
  {
   "cell_type": "markdown",
   "id": "821d2e2f",
   "metadata": {},
   "source": [
    "10진수를 2진수로 26 => 11010<sub>(2)</sub>"
   ]
  },
  {
   "cell_type": "code",
   "execution_count": 10,
   "id": "65a65f1e",
   "metadata": {},
   "outputs": [
    {
     "name": "stdout",
     "output_type": "stream",
     "text": [
      "10진수를 입력하세요: 26\n",
      "[1, 1, 0, 1, 0]\n",
      "11010\n"
     ]
    }
   ],
   "source": [
    "d = int(input('10진수를 입력하세요: '))\n",
    "b = [] # 10진수가 2진수로 변환된 결과를 기억할 빈 리스트를 선언한다.\n",
    "# 입력되는 10진수의 크기에 따라 반복 횟수가 달라지므로 무한 루프를 돌려 처리한다.\n",
    "while True:\n",
    "    m = d // 2 # 10진수를 2로 나눈 몫을 계산한다.\n",
    "    r = d % 2 # 10진수를 2로 나눈 나머지를 계산한다.\n",
    "    b.append(r) # 나머지를 2진수로 변환된 결과를 기억할 리스트에 저장한다.\n",
    "    # 몫이 0이되면 진법 변환이 완료된것이므로 무한 루프를 탈출한다.\n",
    "    if m == 0:\n",
    "        break\n",
    "    # ===== if\n",
    "    # 다음 계산을 위해서 d를 몫으로 수정한다.\n",
    "    d = m\n",
    "# ===== while True\n",
    "print(b[::-1])\n",
    "# b.reverse()\n",
    "# print(b)\n",
    "for i in range(len(b) - 1, -1, -1):\n",
    "    print(b[i], end='')\n",
    "print()"
   ]
  },
  {
   "cell_type": "markdown",
   "id": "0984faa5",
   "metadata": {},
   "source": [
    "10진수를 8진수로 26 => 32<sub>(8)</sub>"
   ]
  },
  {
   "cell_type": "code",
   "execution_count": 11,
   "id": "3df88ddc",
   "metadata": {
    "scrolled": true
   },
   "outputs": [
    {
     "name": "stdout",
     "output_type": "stream",
     "text": [
      "10진수를 입력하세요: 26\n",
      "32\n"
     ]
    }
   ],
   "source": [
    "d = int(input('10진수를 입력하세요: '))\n",
    "o = []\n",
    "while True:\n",
    "    m = d // 8\n",
    "    r = d % 8\n",
    "    o.append(r)\n",
    "    if m == 0:\n",
    "        break\n",
    "    d = m\n",
    "for i in range(len(o) - 1, -1, -1):\n",
    "    print(o[i], end='')\n",
    "print()"
   ]
  },
  {
   "cell_type": "markdown",
   "id": "95ef7062",
   "metadata": {},
   "source": [
    "10진수를 16진수로 26 => 1A<sub>(16)</sub>"
   ]
  },
  {
   "cell_type": "code",
   "execution_count": 18,
   "id": "28616a70",
   "metadata": {
    "scrolled": true
   },
   "outputs": [
    {
     "name": "stdout",
     "output_type": "stream",
     "text": [
      "10진수를 입력하세요: 26\n",
      "1A\n"
     ]
    }
   ],
   "source": [
    "d = int(input('10진수를 입력하세요: '))\n",
    "h = []\n",
    "# 16진수를 기억하는 리스트를 만든다.\n",
    "hex16 = ['0', '1', '2', '3', '4', '5', '6', '7', '8', '9', 'A', 'B', 'C', 'D', 'E', 'F']\n",
    "while True:\n",
    "    m = d // 16\n",
    "    r = d % 16\n",
    "    h.append(hex16[r])\n",
    "    if m == 0:\n",
    "        break\n",
    "    d = m\n",
    "for i in range(len(h) - 1, -1, -1):\n",
    "    print(h[i], end='')\n",
    "print()"
   ]
  },
  {
   "cell_type": "markdown",
   "id": "36f60f67",
   "metadata": {},
   "source": [
    "10진수를 n진수로"
   ]
  },
  {
   "cell_type": "code",
   "execution_count": 30,
   "id": "94acb4d1",
   "metadata": {
    "scrolled": true
   },
   "outputs": [
    {
     "name": "stdout",
     "output_type": "stream",
     "text": [
      "10진수와 변환할 진법을 입력하세요: 35 36\n",
      "Z\n"
     ]
    }
   ],
   "source": [
    "d, n = map(int, input('10진수와 변환할 진법을 입력하세요: ').split())\n",
    "c = []\n",
    "while True:\n",
    "    m = d // n\n",
    "    r = d % n\n",
    "    c.append(r)\n",
    "    if m == 0:\n",
    "        break\n",
    "    d = m\n",
    "for i in range(len(c) - 1, -1, -1):\n",
    "    # chr() 함수는 인수로 지정된 유니코드에 해당되는 문자를 리턴한다.\n",
    "    print(c[i] if c[i] < 10 else chr(c[i] + 55), end='')\n",
    "print()"
   ]
  },
  {
   "cell_type": "code",
   "execution_count": null,
   "id": "027cf6a1",
   "metadata": {},
   "outputs": [],
   "source": []
  },
  {
   "cell_type": "code",
   "execution_count": null,
   "id": "c5b44503",
   "metadata": {},
   "outputs": [],
   "source": []
  },
  {
   "cell_type": "code",
   "execution_count": null,
   "id": "52e360b6",
   "metadata": {},
   "outputs": [],
   "source": []
  },
  {
   "cell_type": "code",
   "execution_count": null,
   "id": "fda0fef1",
   "metadata": {},
   "outputs": [],
   "source": []
  }
 ],
 "metadata": {
  "kernelspec": {
   "display_name": "Python 3",
   "language": "python",
   "name": "python3"
  },
  "language_info": {
   "codemirror_mode": {
    "name": "ipython",
    "version": 3
   },
   "file_extension": ".py",
   "mimetype": "text/x-python",
   "name": "python",
   "nbconvert_exporter": "python",
   "pygments_lexer": "ipython3",
   "version": "3.6.8"
  }
 },
 "nbformat": 4,
 "nbformat_minor": 5
}
