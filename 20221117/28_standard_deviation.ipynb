{
 "cells": [
  {
   "cell_type": "markdown",
   "id": "848f3888",
   "metadata": {},
   "source": [
    "# 분산, 표준편차\n",
    "n개의 데이터(999가 입력되기 전 까지)를 입력받아 최대값과 최소값을 제외한 나머지 데이터의 표준편차를 계산하는 프로그램\n",
    "***\n",
    "표준편차 공식  \n",
    "$$\\sqrt{ \\frac{\\sum_{i=1}^{n-2}(x_i - \\bar{x})^2}{n-2} }$$"
   ]
  },
  {
   "cell_type": "markdown",
   "id": "cc4f26b6",
   "metadata": {},
   "source": [
    "<img src=\"./images/stdDev.png\" align=\"left\" width=\"1000\" title=\"표준편차 이미지\"/>"
   ]
  },
  {
   "cell_type": "markdown",
   "id": "0702c867",
   "metadata": {},
   "source": [
    "최대값, 최소값 판단하기 - 1"
   ]
  },
  {
   "cell_type": "code",
   "execution_count": 1,
   "id": "9f7e0845",
   "metadata": {},
   "outputs": [
    {
     "name": "stdout",
     "output_type": "stream",
     "text": [
      "최대값: 91, 최소값: 35\n"
     ]
    }
   ],
   "source": [
    "# data = [35, 91, 75, 62, 84]\n",
    "data = [35, 62, 75, 84, 91]\n",
    "# 최대값을 기억할 변수는 아주 작은 값을, 최소값을 기억할 변수는 아주 큰 값을 초기치로 넣어주고 비교한다.\n",
    "big = 0\n",
    "small = 100\n",
    "for score in data:\n",
    "    if score > big:\n",
    "        big = score\n",
    "    if score < small:\n",
    "        small = score\n",
    "print(f'최대값: {big}, 최소값: {small}')"
   ]
  },
  {
   "cell_type": "markdown",
   "id": "8755fb56",
   "metadata": {},
   "source": [
    "최대값, 최소값 판단하기 - 2"
   ]
  },
  {
   "cell_type": "code",
   "execution_count": 2,
   "id": "308143e8",
   "metadata": {},
   "outputs": [
    {
     "name": "stdout",
     "output_type": "stream",
     "text": [
      "최대값: 91, 최소값: 35\n"
     ]
    }
   ],
   "source": [
    "# data = [35, 91, 75, 62, 84]\n",
    "data = [35, 62, 75, 84, 91]\n",
    "# 최대값을 기억할 변수와 최소값을 기억할 변수에 리스트의 0번째 인덱스 요소를 각각 초기치로 넣어주고 비교한다.\n",
    "big = data[0]\n",
    "small = data[0]\n",
    "# 리스트의 0번째 인덱스의 값을 초기치로 지정했으므로 리스트의 1번째 인덱스 값부터 반복시키면 된다.\n",
    "for score in data[1:]:\n",
    "    if score > big:\n",
    "        big = score\n",
    "    if score < small:\n",
    "        small = score\n",
    "print(f'최대값: {big}, 최소값: {small}')"
   ]
  },
  {
   "cell_type": "markdown",
   "id": "b282352f",
   "metadata": {},
   "source": [
    "최대값, 최소값 판단하기 - 3"
   ]
  },
  {
   "cell_type": "code",
   "execution_count": 3,
   "id": "5ba990e4",
   "metadata": {},
   "outputs": [
    {
     "name": "stdout",
     "output_type": "stream",
     "text": [
      "최대값: 91, 최소값: 35\n",
      "최대값: 91, 최소값: 35\n"
     ]
    }
   ],
   "source": [
    "data = [35, 91, 75, 62, 84]\n",
    "data.sort()\n",
    "print(f'최대값: {data[-1]}, 최소값: {data[0]}')\n",
    "data.sort(reverse=True)\n",
    "print(f'최대값: {data[0]}, 최소값: {data[-1]}')"
   ]
  },
  {
   "cell_type": "markdown",
   "id": "d0a50be8",
   "metadata": {},
   "source": [
    "최대값, 최소값 판단하기 - 4"
   ]
  },
  {
   "cell_type": "code",
   "execution_count": 4,
   "id": "87ec7e79",
   "metadata": {},
   "outputs": [
    {
     "name": "stdout",
     "output_type": "stream",
     "text": [
      "최대값: 91, 최소값: 35\n"
     ]
    }
   ],
   "source": [
    "data = [35, 91, 75, 62, 84]\n",
    "print(f'최대값: {max(data)}, 최소값: {min(data)}')"
   ]
  },
  {
   "cell_type": "code",
   "execution_count": 5,
   "id": "8039280d",
   "metadata": {},
   "outputs": [
    {
     "name": "stdout",
     "output_type": "stream",
     "text": [
      "1번째 표준편차를 계산할 데이터를 입력하세요: 1\n",
      "2번째 표준편차를 계산할 데이터를 입력하세요: 2\n",
      "3번째 표준편차를 계산할 데이터를 입력하세요: 3\n",
      "4번째 표준편차를 계산할 데이터를 입력하세요: 4\n",
      "5번째 표준편차를 계산할 데이터를 입력하세요: 5\n",
      "6번째 표준편차를 계산할 데이터를 입력하세요: 999\n",
      "입력받은 데이터는 5개 이고 데이터는 [1, 2, 3, 4, 5] 입니다.\n"
     ]
    }
   ],
   "source": [
    "# 표준편차를 계산할 데이터를 999가 입력될때 까지 입력받는다.\n",
    "score = []\n",
    "# 999가 몇 번째 데이터로 입력될지 모르기때문에 무한 루프를 돌린다.\n",
    "while True:\n",
    "    data = int(input('{}번째 표준편차를 계산할 데이터를 입력하세요: '.format(len(score) + 1)))\n",
    "    # 입력받은 데이터가 999면 더 이상 데이터를 입력받을 필요 없으므로 무한 루프를 탈출한다.\n",
    "    if data == 999:\n",
    "        break\n",
    "    # ===== if\n",
    "    # 999가 입력되지 않았으므로 리스트에 입력받은 데이터를 추가한다.\n",
    "    score.append(data)\n",
    "# ===== while\n",
    "print('입력받은 데이터는 {}개 이고 데이터는 {} 입니다.'.format(len(score), score))"
   ]
  },
  {
   "cell_type": "markdown",
   "id": "69c0e622",
   "metadata": {},
   "source": [
    "최대값과 최소값을 제외한 나머지 데이터의 평균을 계산한다. - 1"
   ]
  },
  {
   "cell_type": "code",
   "execution_count": 6,
   "id": "d81fdf6f",
   "metadata": {},
   "outputs": [
    {
     "name": "stdout",
     "output_type": "stream",
     "text": [
      "최대값과 최소값을 제외한 나머지 데이터의 합계: 9\n",
      "최대값과 최소값을 제외한 나머지 데이터의 평균: 3.0\n"
     ]
    }
   ],
   "source": [
    "big = max(score)\n",
    "small = min(score)\n",
    "'''\n",
    "total = 0\n",
    "for s in score:\n",
    "    total += s\n",
    "# total = total - big - small\n",
    "total -= big + small\n",
    "'''\n",
    "total = sum(score) - big - small\n",
    "print('최대값과 최소값을 제외한 나머지 데이터의 합계: {}'.format(total))\n",
    "mean = total / (len(score) - 2)\n",
    "print('최대값과 최소값을 제외한 나머지 데이터의 평균: {}'.format(mean))"
   ]
  },
  {
   "cell_type": "markdown",
   "id": "576396c6",
   "metadata": {},
   "source": [
    "최대값과 최소값을 제외한 나머지 데이터의 평균을 계산한다. - 2"
   ]
  },
  {
   "cell_type": "code",
   "execution_count": 11,
   "id": "a9a7b398",
   "metadata": {},
   "outputs": [
    {
     "name": "stdout",
     "output_type": "stream",
     "text": [
      "최대값과 최소값을 제외한 나머지 데이터의 합계: 9\n",
      "최대값과 최소값을 제외한 나머지 데이터의 평균: 3.0\n"
     ]
    }
   ],
   "source": [
    "score.sort()\n",
    "'''\n",
    "total = 0\n",
    "for s in range(1, len(score) - 1):\n",
    "    total += score[s]\n",
    "'''\n",
    "# total = sum(score[1:len(score) - 1])\n",
    "total = sum(score[1:-1])\n",
    "print('최대값과 최소값을 제외한 나머지 데이터의 합계: {}'.format(total))\n",
    "mean = total / (len(score) - 2)\n",
    "print('최대값과 최소값을 제외한 나머지 데이터의 평균: {}'.format(mean))"
   ]
  },
  {
   "cell_type": "markdown",
   "id": "93861059",
   "metadata": {},
   "source": [
    "최대값과 최소값을 제외한 나머지 데이터와 산술평균의 편차의 제곱의 합계를 계산한다."
   ]
  },
  {
   "cell_type": "code",
   "execution_count": 16,
   "id": "6b5a7588",
   "metadata": {},
   "outputs": [
    {
     "name": "stdout",
     "output_type": "stream",
     "text": [
      "최대값과 최소값을 제외한 나머지 데이터와 산술평균의 편차의 제곱의 합계: 2.0\n"
     ]
    }
   ],
   "source": [
    "import math\n",
    "total = 0\n",
    "for s in score[1:-1]:\n",
    "    # total += (s - mean) ** 2\n",
    "    total += math.pow(s - mean, 2)\n",
    "print('최대값과 최소값을 제외한 나머지 데이터와 산술평균의 편차의 제곱의 합계: {}'.format(total))"
   ]
  },
  {
   "cell_type": "markdown",
   "id": "8645c32f",
   "metadata": {},
   "source": [
    "# 최대값과 최소값을 제외한 나머지 데이터의 분산\n",
    "최대값과 최소값을 제외한 나머지 데이터와 산술평균의 편차의 제곱의 평균을 계산한다."
   ]
  },
  {
   "cell_type": "code",
   "execution_count": 19,
   "id": "71937f03",
   "metadata": {},
   "outputs": [
    {
     "name": "stdout",
     "output_type": "stream",
     "text": [
      "최대값과 최소값을 제외한 나머지 데이터의 분산: 0.6666666666666666\n"
     ]
    }
   ],
   "source": [
    "var = total / (len(score) - 2)\n",
    "print('최대값과 최소값을 제외한 나머지 데이터의 분산: {}'.format(var))"
   ]
  },
  {
   "cell_type": "markdown",
   "id": "088c9bc0",
   "metadata": {},
   "source": [
    "# 최대값과 최소값을 제외한 나머지 데이터의 표준편차\n",
    "표준편차는 분산의 제곱근이다."
   ]
  },
  {
   "cell_type": "code",
   "execution_count": 34,
   "id": "479d9513",
   "metadata": {},
   "outputs": [
    {
     "name": "stdout",
     "output_type": "stream",
     "text": [
      "최대값과 최소값을 제외한 나머지 데이터의 표준편차: 0.816496580927726\n"
     ]
    }
   ],
   "source": [
    "import math\n",
    "# std = var ** 0.5\n",
    "std = math.sqrt(var)\n",
    "print('최대값과 최소값을 제외한 나머지 데이터의 표준편차: {}'.format(std))"
   ]
  },
  {
   "cell_type": "markdown",
   "id": "bc81bb1b",
   "metadata": {},
   "source": [
    "# numpy 라이브러리를 이용해서 분산과 표준편차 계산하기\n",
    "numpy는 파이썬을 설치할 때 자동으로 설치되는 라이브러리가 아니기 때문에 별도로 설치하는 과정이 필요하다.\n",
    "콘솔 창에서는 pip install numpy와 같이 입력해서 설치하면 되고 쥬피터 노트북에서 바로 라이브러리를 설치하려면 pip 앞에 '!'를 붙여서 실행하면 된다."
   ]
  },
  {
   "cell_type": "code",
   "execution_count": 32,
   "id": "504e380b",
   "metadata": {},
   "outputs": [],
   "source": [
    "# !pip install numpy"
   ]
  },
  {
   "cell_type": "code",
   "execution_count": 33,
   "id": "3316e943",
   "metadata": {},
   "outputs": [],
   "source": [
    "import numpy as np"
   ]
  },
  {
   "cell_type": "code",
   "execution_count": 35,
   "id": "ac2ee089",
   "metadata": {},
   "outputs": [
    {
     "name": "stdout",
     "output_type": "stream",
     "text": [
      "최대값과 최소값을 제외한 나머지 데이터의 분산: 0.6666666666666666\n",
      "최대값과 최소값을 제외한 나머지 데이터의 표준편차: 0.816496580927726\n"
     ]
    }
   ],
   "source": [
    "print('최대값과 최소값을 제외한 나머지 데이터의 분산: {}'.format(np.var(score[1:-1])))\n",
    "print('최대값과 최소값을 제외한 나머지 데이터의 표준편차: {}'.format(np.std(score[1:-1])))"
   ]
  },
  {
   "cell_type": "code",
   "execution_count": null,
   "id": "187c311b",
   "metadata": {},
   "outputs": [],
   "source": []
  },
  {
   "cell_type": "code",
   "execution_count": null,
   "id": "c447d81e",
   "metadata": {},
   "outputs": [],
   "source": []
  }
 ],
 "metadata": {
  "kernelspec": {
   "display_name": "Python 3",
   "language": "python",
   "name": "python3"
  },
  "language_info": {
   "codemirror_mode": {
    "name": "ipython",
    "version": 3
   },
   "file_extension": ".py",
   "mimetype": "text/x-python",
   "name": "python",
   "nbconvert_exporter": "python",
   "pygments_lexer": "ipython3",
   "version": "3.6.8"
  }
 },
 "nbformat": 4,
 "nbformat_minor": 5
}
